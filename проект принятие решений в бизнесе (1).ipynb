{
 "cells": [
  {
   "cell_type": "markdown",
   "metadata": {},
   "source": [
    " <h1>Описание проекта</h1>\n",
    "\n",
    "\n",
    "Я — аналитик крупного интернет-магазина. Есть список гипотез для увеличения выручки.\n",
    "Нужно приоритизировать гипотезы, запустить A/B-тест и проанализировать результаты. \n",
    "\n",
    "<h1>Цель исследования</h1>\n",
    "\n",
    " - приоритизировать гипотезы в 1 части проекта\n",
    " - провести A/B тест по сырым данным\n",
    " - обработать данные от аномальных значений и провести тест по фильтрованным данным\n",
    " - сравнить результаты тестов\n",
    " - сделать ыводы и принять решение\n",
    "\n",
    "<h1>Ход исследования </h1>\n",
    "\n",
    "Данные я получу из файлов /datasets/hypothesis.csv, /datasets/orders.csv и /datasets/visitors.csv. Далее я проведу обзор данных и их предобработку.\n",
    "\n",
    "этапы исследования:\n",
    " - обзор данных\n",
    " - предобработка данных\n",
    " - приоритизация гипотез методами ICE и RICE\n",
    " - анализ различий при применении RICE вместо ICE \n",
    " - построить графики кумулятивных значений, сделать выводы\n",
    " - Провести A/B тест по сырым данным\n",
    " - Провести A/B тест по очищенным данным\n",
    " - принять решение на основе теста\n"
   ]
  },
  {
   "cell_type": "code",
   "execution_count": 2,
   "metadata": {},
   "outputs": [],
   "source": [
    "import pandas as pd\n",
    "import numpy as np\n",
    "import matplotlib.pyplot as plt\n",
    "from datetime import datetime, timedelta\n",
    "import seaborn as sns\n",
    "from pymystem3 import Mystem\n",
    "from collections import Counter\n",
    "from scipy import stats as st\n",
    "import datetime as dt\n"
   ]
  },
  {
   "cell_type": "code",
   "execution_count": 4,
   "metadata": {},
   "outputs": [
    {
     "data": {
      "text/html": [
       "<div>\n",
       "<style scoped>\n",
       "    .dataframe tbody tr th:only-of-type {\n",
       "        vertical-align: middle;\n",
       "    }\n",
       "\n",
       "    .dataframe tbody tr th {\n",
       "        vertical-align: top;\n",
       "    }\n",
       "\n",
       "    .dataframe thead th {\n",
       "        text-align: right;\n",
       "    }\n",
       "</style>\n",
       "<table border=\"1\" class=\"dataframe\">\n",
       "  <thead>\n",
       "    <tr style=\"text-align: right;\">\n",
       "      <th></th>\n",
       "      <th>Hypothesis</th>\n",
       "      <th>Reach</th>\n",
       "      <th>Impact</th>\n",
       "      <th>Confidence</th>\n",
       "      <th>Efforts</th>\n",
       "    </tr>\n",
       "  </thead>\n",
       "  <tbody>\n",
       "    <tr>\n",
       "      <th>0</th>\n",
       "      <td>Добавить два новых канала привлечения трафика,...</td>\n",
       "      <td>3</td>\n",
       "      <td>10</td>\n",
       "      <td>8</td>\n",
       "      <td>6</td>\n",
       "    </tr>\n",
       "    <tr>\n",
       "      <th>1</th>\n",
       "      <td>Запустить собственную службу доставки, что сок...</td>\n",
       "      <td>2</td>\n",
       "      <td>5</td>\n",
       "      <td>4</td>\n",
       "      <td>10</td>\n",
       "    </tr>\n",
       "    <tr>\n",
       "      <th>2</th>\n",
       "      <td>Добавить блоки рекомендаций товаров на сайт ин...</td>\n",
       "      <td>8</td>\n",
       "      <td>3</td>\n",
       "      <td>7</td>\n",
       "      <td>3</td>\n",
       "    </tr>\n",
       "    <tr>\n",
       "      <th>3</th>\n",
       "      <td>Изменить структура категорий, что увеличит кон...</td>\n",
       "      <td>8</td>\n",
       "      <td>3</td>\n",
       "      <td>3</td>\n",
       "      <td>8</td>\n",
       "    </tr>\n",
       "    <tr>\n",
       "      <th>4</th>\n",
       "      <td>Изменить цвет фона главной страницы, чтобы уве...</td>\n",
       "      <td>3</td>\n",
       "      <td>1</td>\n",
       "      <td>1</td>\n",
       "      <td>1</td>\n",
       "    </tr>\n",
       "    <tr>\n",
       "      <th>5</th>\n",
       "      <td>Добавить страницу отзывов клиентов о магазине,...</td>\n",
       "      <td>3</td>\n",
       "      <td>2</td>\n",
       "      <td>2</td>\n",
       "      <td>3</td>\n",
       "    </tr>\n",
       "    <tr>\n",
       "      <th>6</th>\n",
       "      <td>Показать на главной странице баннеры с актуаль...</td>\n",
       "      <td>5</td>\n",
       "      <td>3</td>\n",
       "      <td>8</td>\n",
       "      <td>3</td>\n",
       "    </tr>\n",
       "    <tr>\n",
       "      <th>7</th>\n",
       "      <td>Добавить форму подписки на все основные страни...</td>\n",
       "      <td>10</td>\n",
       "      <td>7</td>\n",
       "      <td>8</td>\n",
       "      <td>5</td>\n",
       "    </tr>\n",
       "    <tr>\n",
       "      <th>8</th>\n",
       "      <td>Запустить акцию, дающую скидку на товар в день...</td>\n",
       "      <td>1</td>\n",
       "      <td>9</td>\n",
       "      <td>9</td>\n",
       "      <td>5</td>\n",
       "    </tr>\n",
       "  </tbody>\n",
       "</table>\n",
       "</div>"
      ],
      "text/plain": [
       "                                          Hypothesis  Reach  Impact  \\\n",
       "0  Добавить два новых канала привлечения трафика,...      3      10   \n",
       "1  Запустить собственную службу доставки, что сок...      2       5   \n",
       "2  Добавить блоки рекомендаций товаров на сайт ин...      8       3   \n",
       "3  Изменить структура категорий, что увеличит кон...      8       3   \n",
       "4  Изменить цвет фона главной страницы, чтобы уве...      3       1   \n",
       "5  Добавить страницу отзывов клиентов о магазине,...      3       2   \n",
       "6  Показать на главной странице баннеры с актуаль...      5       3   \n",
       "7  Добавить форму подписки на все основные страни...     10       7   \n",
       "8  Запустить акцию, дающую скидку на товар в день...      1       9   \n",
       "\n",
       "   Confidence  Efforts  \n",
       "0           8        6  \n",
       "1           4       10  \n",
       "2           7        3  \n",
       "3           3        8  \n",
       "4           1        1  \n",
       "5           2        3  \n",
       "6           8        3  \n",
       "7           8        5  \n",
       "8           9        5  "
      ]
     },
     "execution_count": 4,
     "metadata": {},
     "output_type": "execute_result"
    }
   ],
   "source": [
    "hypothesis = pd.read_csv('https://code.s3.yandex.net/datasets/hypothesis.csv', sep=',')\n",
    "orders = pd.read_csv('https://code.s3.yandex.net/datasets/orders.csv', sep=',')\n",
    "visitors = pd.read_csv('https://code.s3.yandex.net/datasets/visitors.csv', sep=',')\n",
    "hypothesis"
   ]
  },
  {
   "cell_type": "code",
   "execution_count": 5,
   "metadata": {},
   "outputs": [
    {
     "data": {
      "text/html": [
       "<div>\n",
       "<style scoped>\n",
       "    .dataframe tbody tr th:only-of-type {\n",
       "        vertical-align: middle;\n",
       "    }\n",
       "\n",
       "    .dataframe tbody tr th {\n",
       "        vertical-align: top;\n",
       "    }\n",
       "\n",
       "    .dataframe thead th {\n",
       "        text-align: right;\n",
       "    }\n",
       "</style>\n",
       "<table border=\"1\" class=\"dataframe\">\n",
       "  <thead>\n",
       "    <tr style=\"text-align: right;\">\n",
       "      <th></th>\n",
       "      <th>transactionId</th>\n",
       "      <th>visitorId</th>\n",
       "      <th>date</th>\n",
       "      <th>revenue</th>\n",
       "      <th>group</th>\n",
       "    </tr>\n",
       "  </thead>\n",
       "  <tbody>\n",
       "    <tr>\n",
       "      <th>0</th>\n",
       "      <td>3667963787</td>\n",
       "      <td>3312258926</td>\n",
       "      <td>2019-08-15</td>\n",
       "      <td>1650</td>\n",
       "      <td>B</td>\n",
       "    </tr>\n",
       "    <tr>\n",
       "      <th>1</th>\n",
       "      <td>2804400009</td>\n",
       "      <td>3642806036</td>\n",
       "      <td>2019-08-15</td>\n",
       "      <td>730</td>\n",
       "      <td>B</td>\n",
       "    </tr>\n",
       "    <tr>\n",
       "      <th>2</th>\n",
       "      <td>2961555356</td>\n",
       "      <td>4069496402</td>\n",
       "      <td>2019-08-15</td>\n",
       "      <td>400</td>\n",
       "      <td>A</td>\n",
       "    </tr>\n",
       "    <tr>\n",
       "      <th>3</th>\n",
       "      <td>3797467345</td>\n",
       "      <td>1196621759</td>\n",
       "      <td>2019-08-15</td>\n",
       "      <td>9759</td>\n",
       "      <td>B</td>\n",
       "    </tr>\n",
       "    <tr>\n",
       "      <th>4</th>\n",
       "      <td>2282983706</td>\n",
       "      <td>2322279887</td>\n",
       "      <td>2019-08-15</td>\n",
       "      <td>2308</td>\n",
       "      <td>B</td>\n",
       "    </tr>\n",
       "  </tbody>\n",
       "</table>\n",
       "</div>"
      ],
      "text/plain": [
       "   transactionId   visitorId        date  revenue group\n",
       "0     3667963787  3312258926  2019-08-15     1650     B\n",
       "1     2804400009  3642806036  2019-08-15      730     B\n",
       "2     2961555356  4069496402  2019-08-15      400     A\n",
       "3     3797467345  1196621759  2019-08-15     9759     B\n",
       "4     2282983706  2322279887  2019-08-15     2308     B"
      ]
     },
     "execution_count": 5,
     "metadata": {},
     "output_type": "execute_result"
    }
   ],
   "source": [
    "orders.head()"
   ]
  },
  {
   "cell_type": "code",
   "execution_count": 6,
   "metadata": {},
   "outputs": [
    {
     "data": {
      "text/html": [
       "<div>\n",
       "<style scoped>\n",
       "    .dataframe tbody tr th:only-of-type {\n",
       "        vertical-align: middle;\n",
       "    }\n",
       "\n",
       "    .dataframe tbody tr th {\n",
       "        vertical-align: top;\n",
       "    }\n",
       "\n",
       "    .dataframe thead th {\n",
       "        text-align: right;\n",
       "    }\n",
       "</style>\n",
       "<table border=\"1\" class=\"dataframe\">\n",
       "  <thead>\n",
       "    <tr style=\"text-align: right;\">\n",
       "      <th></th>\n",
       "      <th>date</th>\n",
       "      <th>group</th>\n",
       "      <th>visitors</th>\n",
       "    </tr>\n",
       "  </thead>\n",
       "  <tbody>\n",
       "    <tr>\n",
       "      <th>0</th>\n",
       "      <td>2019-08-01</td>\n",
       "      <td>A</td>\n",
       "      <td>719</td>\n",
       "    </tr>\n",
       "    <tr>\n",
       "      <th>1</th>\n",
       "      <td>2019-08-02</td>\n",
       "      <td>A</td>\n",
       "      <td>619</td>\n",
       "    </tr>\n",
       "    <tr>\n",
       "      <th>2</th>\n",
       "      <td>2019-08-03</td>\n",
       "      <td>A</td>\n",
       "      <td>507</td>\n",
       "    </tr>\n",
       "    <tr>\n",
       "      <th>3</th>\n",
       "      <td>2019-08-04</td>\n",
       "      <td>A</td>\n",
       "      <td>717</td>\n",
       "    </tr>\n",
       "    <tr>\n",
       "      <th>4</th>\n",
       "      <td>2019-08-05</td>\n",
       "      <td>A</td>\n",
       "      <td>756</td>\n",
       "    </tr>\n",
       "  </tbody>\n",
       "</table>\n",
       "</div>"
      ],
      "text/plain": [
       "         date group  visitors\n",
       "0  2019-08-01     A       719\n",
       "1  2019-08-02     A       619\n",
       "2  2019-08-03     A       507\n",
       "3  2019-08-04     A       717\n",
       "4  2019-08-05     A       756"
      ]
     },
     "execution_count": 6,
     "metadata": {},
     "output_type": "execute_result"
    }
   ],
   "source": [
    "visitors.head() "
   ]
  },
  {
   "cell_type": "code",
   "execution_count": 7,
   "metadata": {},
   "outputs": [],
   "source": [
    "#приведём столбцы к привычному стилю\n",
    "hypothesis.columns = hypothesis.columns.str.lower()   \n",
    "orders.columns = orders.columns.str.lower() \n",
    "visitors.columns = visitors.columns.str.lower()   \n",
    "   "
   ]
  },
  {
   "cell_type": "code",
   "execution_count": 8,
   "metadata": {},
   "outputs": [
    {
     "name": "stdout",
     "output_type": "stream",
     "text": [
      "<class 'pandas.core.frame.DataFrame'>\n",
      "RangeIndex: 9 entries, 0 to 8\n",
      "Data columns (total 5 columns):\n",
      " #   Column      Non-Null Count  Dtype \n",
      "---  ------      --------------  ----- \n",
      " 0   hypothesis  9 non-null      object\n",
      " 1   reach       9 non-null      int64 \n",
      " 2   impact      9 non-null      int64 \n",
      " 3   confidence  9 non-null      int64 \n",
      " 4   efforts     9 non-null      int64 \n",
      "dtypes: int64(4), object(1)\n",
      "memory usage: 488.0+ bytes\n"
     ]
    }
   ],
   "source": [
    "hypothesis.info()"
   ]
  },
  {
   "cell_type": "code",
   "execution_count": 9,
   "metadata": {},
   "outputs": [
    {
     "name": "stdout",
     "output_type": "stream",
     "text": [
      "<class 'pandas.core.frame.DataFrame'>\n",
      "RangeIndex: 1197 entries, 0 to 1196\n",
      "Data columns (total 5 columns):\n",
      " #   Column         Non-Null Count  Dtype \n",
      "---  ------         --------------  ----- \n",
      " 0   transactionid  1197 non-null   int64 \n",
      " 1   visitorid      1197 non-null   int64 \n",
      " 2   date           1197 non-null   object\n",
      " 3   revenue        1197 non-null   int64 \n",
      " 4   group          1197 non-null   object\n",
      "dtypes: int64(3), object(2)\n",
      "memory usage: 46.9+ KB\n"
     ]
    }
   ],
   "source": [
    "orders.info()"
   ]
  },
  {
   "cell_type": "code",
   "execution_count": 10,
   "metadata": {},
   "outputs": [
    {
     "name": "stdout",
     "output_type": "stream",
     "text": [
      "<class 'pandas.core.frame.DataFrame'>\n",
      "RangeIndex: 62 entries, 0 to 61\n",
      "Data columns (total 3 columns):\n",
      " #   Column    Non-Null Count  Dtype \n",
      "---  ------    --------------  ----- \n",
      " 0   date      62 non-null     object\n",
      " 1   group     62 non-null     object\n",
      " 2   visitors  62 non-null     int64 \n",
      "dtypes: int64(1), object(2)\n",
      "memory usage: 1.6+ KB\n"
     ]
    }
   ],
   "source": [
    "visitors.info()"
   ]
  },
  {
   "cell_type": "markdown",
   "metadata": {},
   "source": [
    "Видим, что у дат тип данных object - заменим тип данных\n",
    "также заменим тип данных у столбца hypothesis "
   ]
  },
  {
   "cell_type": "code",
   "execution_count": 11,
   "metadata": {},
   "outputs": [],
   "source": [
    "hypothesis['hypothesis'] = hypothesis['hypothesis'].astype(str)"
   ]
  },
  {
   "cell_type": "code",
   "execution_count": 12,
   "metadata": {},
   "outputs": [],
   "source": [
    "visitors['date'] = visitors['date'].map(\n",
    "    lambda x: dt.datetime.strptime(x, '%Y-%m-%d')\n",
    ")\n",
    "# преобразование данных о времени\n",
    "orders['date'] = orders['date'].map(\n",
    "    lambda x: dt.datetime.strptime(x, '%Y-%m-%d')\n",
    ")  "
   ]
  },
  {
   "cell_type": "code",
   "execution_count": 13,
   "metadata": {},
   "outputs": [
    {
     "data": {
      "text/plain": [
       "0"
      ]
     },
     "execution_count": 13,
     "metadata": {},
     "output_type": "execute_result"
    }
   ],
   "source": [
    "visitors.duplicated().sum()"
   ]
  },
  {
   "cell_type": "code",
   "execution_count": 14,
   "metadata": {},
   "outputs": [
    {
     "data": {
      "text/plain": [
       "0"
      ]
     },
     "execution_count": 14,
     "metadata": {},
     "output_type": "execute_result"
    }
   ],
   "source": [
    "orders.duplicated().sum()"
   ]
  },
  {
   "cell_type": "code",
   "execution_count": 15,
   "metadata": {},
   "outputs": [
    {
     "data": {
      "text/plain": [
       "0"
      ]
     },
     "execution_count": 15,
     "metadata": {},
     "output_type": "execute_result"
    }
   ],
   "source": [
    "hypothesis.duplicated().sum()"
   ]
  },
  {
   "cell_type": "code",
   "execution_count": 16,
   "metadata": {},
   "outputs": [
    {
     "data": {
      "text/plain": [
       "date        0\n",
       "group       0\n",
       "visitors    0\n",
       "dtype: int64"
      ]
     },
     "execution_count": 16,
     "metadata": {},
     "output_type": "execute_result"
    }
   ],
   "source": [
    "visitors.isna().sum()"
   ]
  },
  {
   "cell_type": "code",
   "execution_count": 17,
   "metadata": {},
   "outputs": [
    {
     "data": {
      "text/plain": [
       "transactionid    0\n",
       "visitorid        0\n",
       "date             0\n",
       "revenue          0\n",
       "group            0\n",
       "dtype: int64"
      ]
     },
     "execution_count": 17,
     "metadata": {},
     "output_type": "execute_result"
    }
   ],
   "source": [
    "orders.isna().sum()"
   ]
  },
  {
   "cell_type": "code",
   "execution_count": 18,
   "metadata": {},
   "outputs": [
    {
     "data": {
      "text/plain": [
       "hypothesis    0\n",
       "reach         0\n",
       "impact        0\n",
       "confidence    0\n",
       "efforts       0\n",
       "dtype: int64"
      ]
     },
     "execution_count": 18,
     "metadata": {},
     "output_type": "execute_result"
    }
   ],
   "source": [
    "hypothesis.isna().sum()"
   ]
  },
  {
   "cell_type": "markdown",
   "metadata": {},
   "source": [
    "дубликатов и пропусков нет"
   ]
  },
  {
   "cell_type": "markdown",
   "metadata": {},
   "source": [
    "В ходе предобработки заменили тип данных у столбцов date в датафреймах orders и visitors и у столбца hypothesis в датафрейме hypothesis. Привели столбцы к привычному стилю.\n",
    "Выяснили, что дубликатов и пропусков нет "
   ]
  },
  {
   "cell_type": "code",
   "execution_count": 19,
   "metadata": {},
   "outputs": [
    {
     "data": {
      "text/html": [
       "<div>\n",
       "<style scoped>\n",
       "    .dataframe tbody tr th:only-of-type {\n",
       "        vertical-align: middle;\n",
       "    }\n",
       "\n",
       "    .dataframe tbody tr th {\n",
       "        vertical-align: top;\n",
       "    }\n",
       "\n",
       "    .dataframe thead th {\n",
       "        text-align: right;\n",
       "    }\n",
       "</style>\n",
       "<table border=\"1\" class=\"dataframe\">\n",
       "  <thead>\n",
       "    <tr style=\"text-align: right;\">\n",
       "      <th></th>\n",
       "      <th>hypothesis</th>\n",
       "      <th>ICE</th>\n",
       "    </tr>\n",
       "  </thead>\n",
       "  <tbody>\n",
       "    <tr>\n",
       "      <th>8</th>\n",
       "      <td>Запустить акцию, дающую скидку на товар в день...</td>\n",
       "      <td>16.200000</td>\n",
       "    </tr>\n",
       "    <tr>\n",
       "      <th>0</th>\n",
       "      <td>Добавить два новых канала привлечения трафика,...</td>\n",
       "      <td>13.333333</td>\n",
       "    </tr>\n",
       "    <tr>\n",
       "      <th>7</th>\n",
       "      <td>Добавить форму подписки на все основные страни...</td>\n",
       "      <td>11.200000</td>\n",
       "    </tr>\n",
       "    <tr>\n",
       "      <th>6</th>\n",
       "      <td>Показать на главной странице баннеры с актуаль...</td>\n",
       "      <td>8.000000</td>\n",
       "    </tr>\n",
       "    <tr>\n",
       "      <th>2</th>\n",
       "      <td>Добавить блоки рекомендаций товаров на сайт ин...</td>\n",
       "      <td>7.000000</td>\n",
       "    </tr>\n",
       "    <tr>\n",
       "      <th>1</th>\n",
       "      <td>Запустить собственную службу доставки, что сок...</td>\n",
       "      <td>2.000000</td>\n",
       "    </tr>\n",
       "    <tr>\n",
       "      <th>5</th>\n",
       "      <td>Добавить страницу отзывов клиентов о магазине,...</td>\n",
       "      <td>1.333333</td>\n",
       "    </tr>\n",
       "    <tr>\n",
       "      <th>3</th>\n",
       "      <td>Изменить структура категорий, что увеличит кон...</td>\n",
       "      <td>1.125000</td>\n",
       "    </tr>\n",
       "    <tr>\n",
       "      <th>4</th>\n",
       "      <td>Изменить цвет фона главной страницы, чтобы уве...</td>\n",
       "      <td>1.000000</td>\n",
       "    </tr>\n",
       "  </tbody>\n",
       "</table>\n",
       "</div>"
      ],
      "text/plain": [
       "                                          hypothesis        ICE\n",
       "8  Запустить акцию, дающую скидку на товар в день...  16.200000\n",
       "0  Добавить два новых канала привлечения трафика,...  13.333333\n",
       "7  Добавить форму подписки на все основные страни...  11.200000\n",
       "6  Показать на главной странице баннеры с актуаль...   8.000000\n",
       "2  Добавить блоки рекомендаций товаров на сайт ин...   7.000000\n",
       "1  Запустить собственную службу доставки, что сок...   2.000000\n",
       "5  Добавить страницу отзывов клиентов о магазине,...   1.333333\n",
       "3  Изменить структура категорий, что увеличит кон...   1.125000\n",
       "4  Изменить цвет фона главной страницы, чтобы уве...   1.000000"
      ]
     },
     "metadata": {},
     "output_type": "display_data"
    }
   ],
   "source": [
    "#Применение фреймворка ICE\n",
    "#ICE score = (Impact x Confidence) / Efforts\n",
    "hypothesis['ICE'] = (hypothesis['impact'] * hypothesis['confidence']) / hypothesis['efforts']\n",
    "display(hypothesis[['hypothesis','ICE']].sort_values(by='ICE',ascending=False))\n"
   ]
  },
  {
   "cell_type": "code",
   "execution_count": 20,
   "metadata": {},
   "outputs": [],
   "source": [
    "pd.set_option('display.max_colwidth', 0)"
   ]
  },
  {
   "cell_type": "markdown",
   "metadata": {},
   "source": [
    "Наиболее перспективные гипотезы по ICE: 8,0,7"
   ]
  },
  {
   "cell_type": "code",
   "execution_count": 21,
   "metadata": {},
   "outputs": [
    {
     "data": {
      "text/html": [
       "<div>\n",
       "<style scoped>\n",
       "    .dataframe tbody tr th:only-of-type {\n",
       "        vertical-align: middle;\n",
       "    }\n",
       "\n",
       "    .dataframe tbody tr th {\n",
       "        vertical-align: top;\n",
       "    }\n",
       "\n",
       "    .dataframe thead th {\n",
       "        text-align: right;\n",
       "    }\n",
       "</style>\n",
       "<table border=\"1\" class=\"dataframe\">\n",
       "  <thead>\n",
       "    <tr style=\"text-align: right;\">\n",
       "      <th></th>\n",
       "      <th>hypothesis</th>\n",
       "      <th>RICE</th>\n",
       "    </tr>\n",
       "  </thead>\n",
       "  <tbody>\n",
       "    <tr>\n",
       "      <th>7</th>\n",
       "      <td>Добавить форму подписки на все основные страницы, чтобы собрать базу клиентов для email-рассылок</td>\n",
       "      <td>112.0</td>\n",
       "    </tr>\n",
       "    <tr>\n",
       "      <th>2</th>\n",
       "      <td>Добавить блоки рекомендаций товаров на сайт интернет магазина, чтобы повысить конверсию и средний чек заказа</td>\n",
       "      <td>56.0</td>\n",
       "    </tr>\n",
       "    <tr>\n",
       "      <th>0</th>\n",
       "      <td>Добавить два новых канала привлечения трафика, что позволит привлекать на 30% больше пользователей</td>\n",
       "      <td>40.0</td>\n",
       "    </tr>\n",
       "    <tr>\n",
       "      <th>6</th>\n",
       "      <td>Показать на главной странице баннеры с актуальными акциями и распродажами, чтобы увеличить конверсию</td>\n",
       "      <td>40.0</td>\n",
       "    </tr>\n",
       "    <tr>\n",
       "      <th>8</th>\n",
       "      <td>Запустить акцию, дающую скидку на товар в день рождения</td>\n",
       "      <td>16.2</td>\n",
       "    </tr>\n",
       "    <tr>\n",
       "      <th>3</th>\n",
       "      <td>Изменить структура категорий, что увеличит конверсию, т.к. пользователи быстрее найдут нужный товар</td>\n",
       "      <td>9.0</td>\n",
       "    </tr>\n",
       "    <tr>\n",
       "      <th>1</th>\n",
       "      <td>Запустить собственную службу доставки, что сократит срок доставки заказов</td>\n",
       "      <td>4.0</td>\n",
       "    </tr>\n",
       "    <tr>\n",
       "      <th>5</th>\n",
       "      <td>Добавить страницу отзывов клиентов о магазине, что позволит увеличить количество заказов</td>\n",
       "      <td>4.0</td>\n",
       "    </tr>\n",
       "    <tr>\n",
       "      <th>4</th>\n",
       "      <td>Изменить цвет фона главной страницы, чтобы увеличить вовлеченность пользователей</td>\n",
       "      <td>3.0</td>\n",
       "    </tr>\n",
       "  </tbody>\n",
       "</table>\n",
       "</div>"
      ],
      "text/plain": [
       "                                                                                                     hypothesis  \\\n",
       "7  Добавить форму подписки на все основные страницы, чтобы собрать базу клиентов для email-рассылок               \n",
       "2  Добавить блоки рекомендаций товаров на сайт интернет магазина, чтобы повысить конверсию и средний чек заказа   \n",
       "0  Добавить два новых канала привлечения трафика, что позволит привлекать на 30% больше пользователей             \n",
       "6  Показать на главной странице баннеры с актуальными акциями и распродажами, чтобы увеличить конверсию           \n",
       "8  Запустить акцию, дающую скидку на товар в день рождения                                                        \n",
       "3  Изменить структура категорий, что увеличит конверсию, т.к. пользователи быстрее найдут нужный товар            \n",
       "1  Запустить собственную службу доставки, что сократит срок доставки заказов                                      \n",
       "5  Добавить страницу отзывов клиентов о магазине, что позволит увеличить количество заказов                       \n",
       "4  Изменить цвет фона главной страницы, чтобы увеличить вовлеченность пользователей                               \n",
       "\n",
       "    RICE  \n",
       "7  112.0  \n",
       "2  56.0   \n",
       "0  40.0   \n",
       "6  40.0   \n",
       "8  16.2   \n",
       "3  9.0    \n",
       "1  4.0    \n",
       "5  4.0    \n",
       "4  3.0    "
      ]
     },
     "execution_count": 21,
     "metadata": {},
     "output_type": "execute_result"
    }
   ],
   "source": [
    "hypothesis['RICE'] = (hypothesis['reach'] *  hypothesis['impact'] * hypothesis['confidence']) / hypothesis['efforts']\n",
    "hypothesis[['hypothesis', 'RICE']].sort_values(by='RICE', ascending=False)"
   ]
  },
  {
   "cell_type": "markdown",
   "metadata": {},
   "source": [
    "Наиболее перспективные гипотезы по RICE: 7,2,0,6. Причём у гипотез 0 и 6 показатель RICE одинаковый\n",
    "Теперь приоритетность гипотез полностью изменилась. Приоритетной и в первом, и во втором методе осталась только гипотеза 0"
   ]
  },
  {
   "cell_type": "code",
   "execution_count": 22,
   "metadata": {},
   "outputs": [
    {
     "data": {
      "text/html": [
       "<div>\n",
       "<style scoped>\n",
       "    .dataframe tbody tr th:only-of-type {\n",
       "        vertical-align: middle;\n",
       "    }\n",
       "\n",
       "    .dataframe tbody tr th {\n",
       "        vertical-align: top;\n",
       "    }\n",
       "\n",
       "    .dataframe thead th {\n",
       "        text-align: right;\n",
       "    }\n",
       "</style>\n",
       "<table border=\"1\" class=\"dataframe\">\n",
       "  <thead>\n",
       "    <tr style=\"text-align: right;\">\n",
       "      <th></th>\n",
       "      <th>hypothesis</th>\n",
       "      <th>reach</th>\n",
       "      <th>impact</th>\n",
       "      <th>confidence</th>\n",
       "      <th>efforts</th>\n",
       "      <th>ICE</th>\n",
       "      <th>RICE</th>\n",
       "    </tr>\n",
       "  </thead>\n",
       "  <tbody>\n",
       "    <tr>\n",
       "      <th>4</th>\n",
       "      <td>Изменить цвет фона главной страницы, чтобы увеличить вовлеченность пользователей</td>\n",
       "      <td>3</td>\n",
       "      <td>1</td>\n",
       "      <td>1</td>\n",
       "      <td>1</td>\n",
       "      <td>1.000000</td>\n",
       "      <td>3.0</td>\n",
       "    </tr>\n",
       "    <tr>\n",
       "      <th>3</th>\n",
       "      <td>Изменить структура категорий, что увеличит конверсию, т.к. пользователи быстрее найдут нужный товар</td>\n",
       "      <td>8</td>\n",
       "      <td>3</td>\n",
       "      <td>3</td>\n",
       "      <td>8</td>\n",
       "      <td>1.125000</td>\n",
       "      <td>9.0</td>\n",
       "    </tr>\n",
       "    <tr>\n",
       "      <th>5</th>\n",
       "      <td>Добавить страницу отзывов клиентов о магазине, что позволит увеличить количество заказов</td>\n",
       "      <td>3</td>\n",
       "      <td>2</td>\n",
       "      <td>2</td>\n",
       "      <td>3</td>\n",
       "      <td>1.333333</td>\n",
       "      <td>4.0</td>\n",
       "    </tr>\n",
       "    <tr>\n",
       "      <th>1</th>\n",
       "      <td>Запустить собственную службу доставки, что сократит срок доставки заказов</td>\n",
       "      <td>2</td>\n",
       "      <td>5</td>\n",
       "      <td>4</td>\n",
       "      <td>10</td>\n",
       "      <td>2.000000</td>\n",
       "      <td>4.0</td>\n",
       "    </tr>\n",
       "    <tr>\n",
       "      <th>2</th>\n",
       "      <td>Добавить блоки рекомендаций товаров на сайт интернет магазина, чтобы повысить конверсию и средний чек заказа</td>\n",
       "      <td>8</td>\n",
       "      <td>3</td>\n",
       "      <td>7</td>\n",
       "      <td>3</td>\n",
       "      <td>7.000000</td>\n",
       "      <td>56.0</td>\n",
       "    </tr>\n",
       "    <tr>\n",
       "      <th>6</th>\n",
       "      <td>Показать на главной странице баннеры с актуальными акциями и распродажами, чтобы увеличить конверсию</td>\n",
       "      <td>5</td>\n",
       "      <td>3</td>\n",
       "      <td>8</td>\n",
       "      <td>3</td>\n",
       "      <td>8.000000</td>\n",
       "      <td>40.0</td>\n",
       "    </tr>\n",
       "    <tr>\n",
       "      <th>7</th>\n",
       "      <td>Добавить форму подписки на все основные страницы, чтобы собрать базу клиентов для email-рассылок</td>\n",
       "      <td>10</td>\n",
       "      <td>7</td>\n",
       "      <td>8</td>\n",
       "      <td>5</td>\n",
       "      <td>11.200000</td>\n",
       "      <td>112.0</td>\n",
       "    </tr>\n",
       "    <tr>\n",
       "      <th>0</th>\n",
       "      <td>Добавить два новых канала привлечения трафика, что позволит привлекать на 30% больше пользователей</td>\n",
       "      <td>3</td>\n",
       "      <td>10</td>\n",
       "      <td>8</td>\n",
       "      <td>6</td>\n",
       "      <td>13.333333</td>\n",
       "      <td>40.0</td>\n",
       "    </tr>\n",
       "    <tr>\n",
       "      <th>8</th>\n",
       "      <td>Запустить акцию, дающую скидку на товар в день рождения</td>\n",
       "      <td>1</td>\n",
       "      <td>9</td>\n",
       "      <td>9</td>\n",
       "      <td>5</td>\n",
       "      <td>16.200000</td>\n",
       "      <td>16.2</td>\n",
       "    </tr>\n",
       "  </tbody>\n",
       "</table>\n",
       "</div>"
      ],
      "text/plain": [
       "                                                                                                     hypothesis  \\\n",
       "4  Изменить цвет фона главной страницы, чтобы увеличить вовлеченность пользователей                               \n",
       "3  Изменить структура категорий, что увеличит конверсию, т.к. пользователи быстрее найдут нужный товар            \n",
       "5  Добавить страницу отзывов клиентов о магазине, что позволит увеличить количество заказов                       \n",
       "1  Запустить собственную службу доставки, что сократит срок доставки заказов                                      \n",
       "2  Добавить блоки рекомендаций товаров на сайт интернет магазина, чтобы повысить конверсию и средний чек заказа   \n",
       "6  Показать на главной странице баннеры с актуальными акциями и распродажами, чтобы увеличить конверсию           \n",
       "7  Добавить форму подписки на все основные страницы, чтобы собрать базу клиентов для email-рассылок               \n",
       "0  Добавить два новых канала привлечения трафика, что позволит привлекать на 30% больше пользователей             \n",
       "8  Запустить акцию, дающую скидку на товар в день рождения                                                        \n",
       "\n",
       "   reach  impact  confidence  efforts        ICE   RICE  \n",
       "4  3      1       1           1        1.000000   3.0    \n",
       "3  8      3       3           8        1.125000   9.0    \n",
       "5  3      2       2           3        1.333333   4.0    \n",
       "1  2      5       4           10       2.000000   4.0    \n",
       "2  8      3       7           3        7.000000   56.0   \n",
       "6  5      3       8           3        8.000000   40.0   \n",
       "7  10     7       8           5        11.200000  112.0  \n",
       "0  3      10      8           6        13.333333  40.0   \n",
       "8  1      9       9           5        16.200000  16.2   "
      ]
     },
     "execution_count": 22,
     "metadata": {},
     "output_type": "execute_result"
    }
   ],
   "source": [
    "#объяснение\n",
    "hypothesis.sort_values(by=['ICE','RICE'],ascending=True)"
   ]
  },
  {
   "cell_type": "markdown",
   "metadata": {},
   "source": [
    "Видим, что у гипотезы 7 reach выше, чем у остальных. У гипотезы 8 самый низкий параметр reach, поэтому при расчёте методом RICE она оказалась в конце и не попала в список приоритетных. Также высокий параметр reach имеет гипотеза 2.\n",
    "Таким образом, параметр reach повлиял на изменение приоритетности гипотез\n"
   ]
  },
  {
   "cell_type": "markdown",
   "metadata": {},
   "source": [
    "<b>Анализ A/B-теста</b>"
   ]
  },
  {
   "cell_type": "code",
   "execution_count": 23,
   "metadata": {},
   "outputs": [
    {
     "data": {
      "text/html": [
       "<div>\n",
       "<style scoped>\n",
       "    .dataframe tbody tr th:only-of-type {\n",
       "        vertical-align: middle;\n",
       "    }\n",
       "\n",
       "    .dataframe tbody tr th {\n",
       "        vertical-align: top;\n",
       "    }\n",
       "\n",
       "    .dataframe thead th {\n",
       "        text-align: right;\n",
       "    }\n",
       "</style>\n",
       "<table border=\"1\" class=\"dataframe\">\n",
       "  <thead>\n",
       "    <tr style=\"text-align: right;\">\n",
       "      <th></th>\n",
       "      <th>visitorid</th>\n",
       "      <th>group</th>\n",
       "    </tr>\n",
       "  </thead>\n",
       "  <tbody>\n",
       "    <tr>\n",
       "      <th>0</th>\n",
       "      <td>8300375</td>\n",
       "      <td>2</td>\n",
       "    </tr>\n",
       "    <tr>\n",
       "      <th>1</th>\n",
       "      <td>199603092</td>\n",
       "      <td>2</td>\n",
       "    </tr>\n",
       "    <tr>\n",
       "      <th>2</th>\n",
       "      <td>232979603</td>\n",
       "      <td>2</td>\n",
       "    </tr>\n",
       "    <tr>\n",
       "      <th>3</th>\n",
       "      <td>237748145</td>\n",
       "      <td>2</td>\n",
       "    </tr>\n",
       "    <tr>\n",
       "      <th>4</th>\n",
       "      <td>276558944</td>\n",
       "      <td>2</td>\n",
       "    </tr>\n",
       "    <tr>\n",
       "      <th>5</th>\n",
       "      <td>351125977</td>\n",
       "      <td>2</td>\n",
       "    </tr>\n",
       "    <tr>\n",
       "      <th>6</th>\n",
       "      <td>393266494</td>\n",
       "      <td>2</td>\n",
       "    </tr>\n",
       "    <tr>\n",
       "      <th>7</th>\n",
       "      <td>457167155</td>\n",
       "      <td>2</td>\n",
       "    </tr>\n",
       "    <tr>\n",
       "      <th>8</th>\n",
       "      <td>471551937</td>\n",
       "      <td>2</td>\n",
       "    </tr>\n",
       "    <tr>\n",
       "      <th>9</th>\n",
       "      <td>477780734</td>\n",
       "      <td>2</td>\n",
       "    </tr>\n",
       "    <tr>\n",
       "      <th>10</th>\n",
       "      <td>818047933</td>\n",
       "      <td>2</td>\n",
       "    </tr>\n",
       "    <tr>\n",
       "      <th>11</th>\n",
       "      <td>963407295</td>\n",
       "      <td>2</td>\n",
       "    </tr>\n",
       "    <tr>\n",
       "      <th>12</th>\n",
       "      <td>1230306981</td>\n",
       "      <td>2</td>\n",
       "    </tr>\n",
       "    <tr>\n",
       "      <th>13</th>\n",
       "      <td>1294878855</td>\n",
       "      <td>2</td>\n",
       "    </tr>\n",
       "    <tr>\n",
       "      <th>14</th>\n",
       "      <td>1316129916</td>\n",
       "      <td>2</td>\n",
       "    </tr>\n",
       "    <tr>\n",
       "      <th>15</th>\n",
       "      <td>1333886533</td>\n",
       "      <td>2</td>\n",
       "    </tr>\n",
       "    <tr>\n",
       "      <th>16</th>\n",
       "      <td>1404934699</td>\n",
       "      <td>2</td>\n",
       "    </tr>\n",
       "    <tr>\n",
       "      <th>17</th>\n",
       "      <td>1602967004</td>\n",
       "      <td>2</td>\n",
       "    </tr>\n",
       "    <tr>\n",
       "      <th>18</th>\n",
       "      <td>1614305549</td>\n",
       "      <td>2</td>\n",
       "    </tr>\n",
       "    <tr>\n",
       "      <th>19</th>\n",
       "      <td>1648269707</td>\n",
       "      <td>2</td>\n",
       "    </tr>\n",
       "    <tr>\n",
       "      <th>20</th>\n",
       "      <td>1668030113</td>\n",
       "      <td>2</td>\n",
       "    </tr>\n",
       "    <tr>\n",
       "      <th>21</th>\n",
       "      <td>1738359350</td>\n",
       "      <td>2</td>\n",
       "    </tr>\n",
       "    <tr>\n",
       "      <th>22</th>\n",
       "      <td>1801183820</td>\n",
       "      <td>2</td>\n",
       "    </tr>\n",
       "    <tr>\n",
       "      <th>23</th>\n",
       "      <td>1959144690</td>\n",
       "      <td>2</td>\n",
       "    </tr>\n",
       "    <tr>\n",
       "      <th>24</th>\n",
       "      <td>2038680547</td>\n",
       "      <td>2</td>\n",
       "    </tr>\n",
       "    <tr>\n",
       "      <th>25</th>\n",
       "      <td>2044997962</td>\n",
       "      <td>2</td>\n",
       "    </tr>\n",
       "    <tr>\n",
       "      <th>26</th>\n",
       "      <td>2378935119</td>\n",
       "      <td>2</td>\n",
       "    </tr>\n",
       "    <tr>\n",
       "      <th>27</th>\n",
       "      <td>2458001652</td>\n",
       "      <td>2</td>\n",
       "    </tr>\n",
       "    <tr>\n",
       "      <th>28</th>\n",
       "      <td>2579882178</td>\n",
       "      <td>2</td>\n",
       "    </tr>\n",
       "    <tr>\n",
       "      <th>29</th>\n",
       "      <td>2587333274</td>\n",
       "      <td>2</td>\n",
       "    </tr>\n",
       "    <tr>\n",
       "      <th>30</th>\n",
       "      <td>2600415354</td>\n",
       "      <td>2</td>\n",
       "    </tr>\n",
       "    <tr>\n",
       "      <th>31</th>\n",
       "      <td>2654030115</td>\n",
       "      <td>2</td>\n",
       "    </tr>\n",
       "    <tr>\n",
       "      <th>32</th>\n",
       "      <td>2686716486</td>\n",
       "      <td>2</td>\n",
       "    </tr>\n",
       "    <tr>\n",
       "      <th>33</th>\n",
       "      <td>2712142231</td>\n",
       "      <td>2</td>\n",
       "    </tr>\n",
       "    <tr>\n",
       "      <th>34</th>\n",
       "      <td>2716752286</td>\n",
       "      <td>2</td>\n",
       "    </tr>\n",
       "    <tr>\n",
       "      <th>35</th>\n",
       "      <td>2780786433</td>\n",
       "      <td>2</td>\n",
       "    </tr>\n",
       "    <tr>\n",
       "      <th>36</th>\n",
       "      <td>2927087541</td>\n",
       "      <td>2</td>\n",
       "    </tr>\n",
       "    <tr>\n",
       "      <th>37</th>\n",
       "      <td>2949041841</td>\n",
       "      <td>2</td>\n",
       "    </tr>\n",
       "    <tr>\n",
       "      <th>38</th>\n",
       "      <td>2954449915</td>\n",
       "      <td>2</td>\n",
       "    </tr>\n",
       "    <tr>\n",
       "      <th>39</th>\n",
       "      <td>3062433592</td>\n",
       "      <td>2</td>\n",
       "    </tr>\n",
       "    <tr>\n",
       "      <th>40</th>\n",
       "      <td>3202540741</td>\n",
       "      <td>2</td>\n",
       "    </tr>\n",
       "    <tr>\n",
       "      <th>41</th>\n",
       "      <td>3234906277</td>\n",
       "      <td>2</td>\n",
       "    </tr>\n",
       "    <tr>\n",
       "      <th>42</th>\n",
       "      <td>3656415546</td>\n",
       "      <td>2</td>\n",
       "    </tr>\n",
       "    <tr>\n",
       "      <th>43</th>\n",
       "      <td>3717692402</td>\n",
       "      <td>2</td>\n",
       "    </tr>\n",
       "    <tr>\n",
       "      <th>44</th>\n",
       "      <td>3766097110</td>\n",
       "      <td>2</td>\n",
       "    </tr>\n",
       "    <tr>\n",
       "      <th>45</th>\n",
       "      <td>3803269165</td>\n",
       "      <td>2</td>\n",
       "    </tr>\n",
       "    <tr>\n",
       "      <th>46</th>\n",
       "      <td>3891541246</td>\n",
       "      <td>2</td>\n",
       "    </tr>\n",
       "    <tr>\n",
       "      <th>47</th>\n",
       "      <td>3941795274</td>\n",
       "      <td>2</td>\n",
       "    </tr>\n",
       "    <tr>\n",
       "      <th>48</th>\n",
       "      <td>3951559397</td>\n",
       "      <td>2</td>\n",
       "    </tr>\n",
       "    <tr>\n",
       "      <th>49</th>\n",
       "      <td>3957174400</td>\n",
       "      <td>2</td>\n",
       "    </tr>\n",
       "    <tr>\n",
       "      <th>50</th>\n",
       "      <td>3963646447</td>\n",
       "      <td>2</td>\n",
       "    </tr>\n",
       "    <tr>\n",
       "      <th>51</th>\n",
       "      <td>3972127743</td>\n",
       "      <td>2</td>\n",
       "    </tr>\n",
       "    <tr>\n",
       "      <th>52</th>\n",
       "      <td>3984495233</td>\n",
       "      <td>2</td>\n",
       "    </tr>\n",
       "    <tr>\n",
       "      <th>53</th>\n",
       "      <td>4069496402</td>\n",
       "      <td>2</td>\n",
       "    </tr>\n",
       "    <tr>\n",
       "      <th>54</th>\n",
       "      <td>4120364173</td>\n",
       "      <td>2</td>\n",
       "    </tr>\n",
       "    <tr>\n",
       "      <th>55</th>\n",
       "      <td>4186807279</td>\n",
       "      <td>2</td>\n",
       "    </tr>\n",
       "    <tr>\n",
       "      <th>56</th>\n",
       "      <td>4256040402</td>\n",
       "      <td>2</td>\n",
       "    </tr>\n",
       "    <tr>\n",
       "      <th>57</th>\n",
       "      <td>4266935830</td>\n",
       "      <td>2</td>\n",
       "    </tr>\n",
       "  </tbody>\n",
       "</table>\n",
       "</div>"
      ],
      "text/plain": [
       "     visitorid  group\n",
       "0   8300375     2    \n",
       "1   199603092   2    \n",
       "2   232979603   2    \n",
       "3   237748145   2    \n",
       "4   276558944   2    \n",
       "5   351125977   2    \n",
       "6   393266494   2    \n",
       "7   457167155   2    \n",
       "8   471551937   2    \n",
       "9   477780734   2    \n",
       "10  818047933   2    \n",
       "11  963407295   2    \n",
       "12  1230306981  2    \n",
       "13  1294878855  2    \n",
       "14  1316129916  2    \n",
       "15  1333886533  2    \n",
       "16  1404934699  2    \n",
       "17  1602967004  2    \n",
       "18  1614305549  2    \n",
       "19  1648269707  2    \n",
       "20  1668030113  2    \n",
       "21  1738359350  2    \n",
       "22  1801183820  2    \n",
       "23  1959144690  2    \n",
       "24  2038680547  2    \n",
       "25  2044997962  2    \n",
       "26  2378935119  2    \n",
       "27  2458001652  2    \n",
       "28  2579882178  2    \n",
       "29  2587333274  2    \n",
       "30  2600415354  2    \n",
       "31  2654030115  2    \n",
       "32  2686716486  2    \n",
       "33  2712142231  2    \n",
       "34  2716752286  2    \n",
       "35  2780786433  2    \n",
       "36  2927087541  2    \n",
       "37  2949041841  2    \n",
       "38  2954449915  2    \n",
       "39  3062433592  2    \n",
       "40  3202540741  2    \n",
       "41  3234906277  2    \n",
       "42  3656415546  2    \n",
       "43  3717692402  2    \n",
       "44  3766097110  2    \n",
       "45  3803269165  2    \n",
       "46  3891541246  2    \n",
       "47  3941795274  2    \n",
       "48  3951559397  2    \n",
       "49  3957174400  2    \n",
       "50  3963646447  2    \n",
       "51  3972127743  2    \n",
       "52  3984495233  2    \n",
       "53  4069496402  2    \n",
       "54  4120364173  2    \n",
       "55  4186807279  2    \n",
       "56  4256040402  2    \n",
       "57  4266935830  2    "
      ]
     },
     "execution_count": 23,
     "metadata": {},
     "output_type": "execute_result"
    }
   ],
   "source": [
    "#проверим, есть ли в данных пользователи, принадлежащие к обеим группам\n",
    "duplicates_users = orders.groupby('visitorid').agg({'group':'nunique'}).query('group > 1').reset_index()\n",
    "duplicates_users\n"
   ]
  },
  {
   "cell_type": "code",
   "execution_count": 24,
   "metadata": {},
   "outputs": [
    {
     "data": {
      "text/plain": [
       "58"
      ]
     },
     "execution_count": 24,
     "metadata": {},
     "output_type": "execute_result"
    }
   ],
   "source": [
    "len(duplicates_users)"
   ]
  },
  {
   "cell_type": "markdown",
   "metadata": {},
   "source": [
    "Такие пользователи есть, их 58. Удалим их"
   ]
  },
  {
   "cell_type": "code",
   "execution_count": 25,
   "metadata": {},
   "outputs": [],
   "source": [
    "orders = orders[~orders['visitorid'].isin(duplicates_users['visitorid'])]"
   ]
  },
  {
   "cell_type": "code",
   "execution_count": 26,
   "metadata": {},
   "outputs": [],
   "source": [
    "#Создадим массив уникальных пар значений дат и групп теста\n",
    "datesGroups = orders[['date','group']].drop_duplicates()\n",
    "\n",
    "# получаем агрегированные кумулятивные по дням данные о заказах \n",
    "ordersAggregated = datesGroups.apply(lambda x: orders[np.logical_and(orders['date'] <= x['date'], orders['group'] == x['group'])].agg({'date' : 'max', 'group' : 'max', 'transactionid' : 'nunique', 'visitorid' : 'nunique', 'revenue' : 'sum'}), axis=1).sort_values(by=['date','group'])\n",
    "\n",
    "# получаем агрегированные кумулятивные по дням данные о посетителях интернет-магазина \n",
    "visitorsAggregated = datesGroups.apply(lambda x: visitors[np.logical_and(visitors['date'] <= x['date'], visitors['group'] == x['group'])].agg({'date' : 'max', 'group' : 'max', 'visitors' : 'sum'}), axis=1).sort_values(by=['date','group'])\n",
    "\n",
    "# объединяем кумулятивные данные в одной таблице и присваиваем ее столбцам понятные названия\n",
    "cumulativeData = ordersAggregated.merge(visitorsAggregated, left_on=['date', 'group'], right_on=['date', 'group'])\n",
    "cumulativeData.columns = ['date', 'group', 'orders', 'buyers', 'revenue', 'visitors']"
   ]
  },
  {
   "cell_type": "code",
   "execution_count": 27,
   "metadata": {},
   "outputs": [
    {
     "data": {
      "image/png": "[encoded data removed]",
      "text/plain": [
       "<Figure size 1800x360 with 1 Axes>"
      ]
     },
     "metadata": {
      "needs_background": "light"
     },
     "output_type": "display_data"
    }
   ],
   "source": [
    "# датафрейм с кумулятивным количеством заказов и кумулятивной выручкой по дням в группе А\n",
    "cumulativeRevenueA = cumulativeData[cumulativeData['group']=='A'][['date','revenue', 'orders']]\n",
    "\n",
    "# датафрейм с кумулятивным количеством заказов и кумулятивной выручкой по дням в группе B\n",
    "cumulativeRevenueB = cumulativeData[cumulativeData['group']=='B'][['date','revenue', 'orders']]\n",
    "plt.figure(figsize=(25,5))\n",
    "# Строим график выручки группы А\n",
    "plt.plot(cumulativeRevenueA['date'], cumulativeRevenueA['revenue'], label='A')\n",
    "\n",
    "# Строим график выручки группы B\n",
    "plt.plot(cumulativeRevenueB['date'], cumulativeRevenueB['revenue'], label='B')\n",
    "plt.title('График кумулятивной выручки по группам')\n",
    "\n",
    "plt.xlabel('Дата')\n",
    "plt.ylabel('Выручка')\n",
    "plt.grid()\n"
   ]
  },
  {
   "cell_type": "markdown",
   "metadata": {},
   "source": [
    "Выручка почти равномерно увеличивается в течение всего теста. С 18.08.2019 наблюдается резкий рост выручки у группы В. Это может сигнализировать о всплесках числа заказов, либо о появлении очень дорогих заказов в выборке, либо о высоком среднем чеке"
   ]
  },
  {
   "cell_type": "markdown",
   "metadata": {},
   "source": [
    "Постройте график кумулятивного среднего чека по группам. Сделайте выводы и предположения."
   ]
  },
  {
   "cell_type": "code",
   "execution_count": 59,
   "metadata": {},
   "outputs": [
    {
     "data": {
      "image/png": "[encoded data removed]",
      "text/plain": [
       "<Figure size 1080x360 with 1 Axes>"
      ]
     },
     "metadata": {
      "needs_background": "light"
     },
     "output_type": "display_data"
    }
   ],
   "source": [
    "plt.figure(figsize=(15,5))\n",
    "plt.plot(cumulativeRevenueA['date'], cumulativeRevenueA['revenue']/cumulativeRevenueA['orders'], label='A')\n",
    "plt.plot(cumulativeRevenueB['date'], cumulativeRevenueB['revenue']/cumulativeRevenueB['orders'], label='B')\n",
    "plt.title('График кумулятивного среднего чека по группам')\n",
    "plt.xlabel('Дата')\n",
    "plt.ylabel('Выручка')\n",
    "plt.grid()\n"
   ]
  },
  {
   "cell_type": "markdown",
   "metadata": {},
   "source": [
    "Значение среднего чека нестабильно в первой половине теста. Средний чек становится равномерным начиная с середины теста для группы A и резко растёт для группы B, начиная с 18.08.2019. Возможно, в группу B во второй половине теста попали крупные заказы "
   ]
  },
  {
   "cell_type": "code",
   "execution_count": 35,
   "metadata": {},
   "outputs": [
    {
     "data": {
      "image/png": "[encoded data removed]",
      "text/plain": [
       "<Figure size 1080x360 with 1 Axes>"
      ]
     },
     "metadata": {
      "needs_background": "light"
     },
     "output_type": "display_data"
    }
   ],
   "source": [
    "#Постройте график относительного изменения кумулятивного среднего чека группы B к группе A. Сделайте выводы и предположения.\n",
    "# собираем данные в одном датафрейме\n",
    "mergedCumulativeRevenue = cumulativeRevenueA.merge(cumulativeRevenueB, left_on='date', right_on='date', how='left', suffixes=['A', 'B'])\n",
    "plt.figure(figsize=(15,5))\n",
    "# cтроим отношение средних чеков\n",
    "plt.plot(mergedCumulativeRevenue['date'], (mergedCumulativeRevenue['revenueB']/mergedCumulativeRevenue['ordersB'])/(mergedCumulativeRevenue['revenueA']/mergedCumulativeRevenue['ordersA'])-1)\n",
    "\n",
    "# добавляем ось X\n",
    "plt.axhline(y=0, color='black', linestyle='--') \n",
    "plt.title('График относительного изменения кумулятивного среднего чека группы B к группе A')\n",
    "plt.xlabel('Дата')\n",
    "plt.ylabel('изменение кумулятивного среднего чека ')\n",
    "plt.grid()\n"
   ]
  },
  {
   "cell_type": "markdown",
   "metadata": {},
   "source": [
    "В определённые даты график различия между сегментами резко «скачет». Где-то уж точно спрятались крупные заказы и выбросы! Наверняка в эти даты были сделаны аномальные заказы"
   ]
  },
  {
   "cell_type": "code",
   "execution_count": 36,
   "metadata": {},
   "outputs": [
    {
     "data": {
      "image/png": "[encoded data removed]",
      "text/plain": [
       "<Figure size 720x360 with 1 Axes>"
      ]
     },
     "metadata": {
      "needs_background": "light"
     },
     "output_type": "display_data"
    }
   ],
   "source": [
    "#Постройте график кумулятивного среднего количества заказов на посетителя по группам. Сделайте выводы и предположения.\n",
    "# считаем кумулятивную конверсию\n",
    "cumulativeData['conversion'] = cumulativeData['orders']/cumulativeData['visitors']\n",
    "\n",
    "# отделяем данные по группе A\n",
    "cumulativeDataA = cumulativeData[cumulativeData['group']=='A']\n",
    "\n",
    "# отделяем данные по группе B\n",
    "cumulativeDataB = cumulativeData[cumulativeData['group']=='B']\n",
    "plt.figure(figsize=(10,5))\n",
    "# строим графики\n",
    "plt.plot(cumulativeDataA['date'], cumulativeDataA['conversion'], label='A')\n",
    "plt.plot(cumulativeDataB['date'], cumulativeDataB['conversion'], label='B')\n",
    "plt.legend()\n",
    "\n",
    "# задаем масштаб осей\n",
    "plt.axis([dt.datetime(2019, 8, 1), dt.datetime(2019, 9, 1), 0, 0.05])\n",
    "\n",
    "plt.title('График кумулятивного среднего количества заказов на посетителя по группам')\n",
    "plt.xlabel('Дата')\n",
    "plt.ylabel('количество заказов')\n",
    "plt.grid()\n"
   ]
  },
  {
   "cell_type": "markdown",
   "metadata": {},
   "source": [
    "Симметричный график получился! В начале среднее количество заказов группы A было выше, но затем количество заказов группы B вырвалось вперёд и зафиксировалось, а количество заказов группы А просело и также зафиксировалось."
   ]
  },
  {
   "cell_type": "markdown",
   "metadata": {},
   "source": [
    "Постройте график относительного изменения кумулятивного среднего количества заказов на посетителя группы B к группе A. Сделайте выводы и предположения."
   ]
  },
  {
   "cell_type": "code",
   "execution_count": 37,
   "metadata": {},
   "outputs": [
    {
     "data": {
      "image/png": "[encoded data removed]",
      "text/plain": [
       "<Figure size 720x360 with 1 Axes>"
      ]
     },
     "metadata": {
      "needs_background": "light"
     },
     "output_type": "display_data"
    }
   ],
   "source": [
    "mergedCumulativeConversions = cumulativeDataA[['date','conversion']].merge(cumulativeDataB[['date','conversion']], left_on='date', right_on='date', how='left', suffixes=['A', 'B'])\n",
    "plt.figure(figsize=(10,5))\n",
    "plt.plot(mergedCumulativeConversions['date'], mergedCumulativeConversions['conversionB']/mergedCumulativeConversions['conversionA']-1, label=\"Относительный прирост конверсии группы B относительно группы A\")\n",
    "plt.legend()\n",
    "\n",
    "plt.axhline(y=0, color='black', linestyle='--')\n",
    "plt.axhline(y=-0.1, color='grey', linestyle='--')\n",
    "plt.axis([dt.datetime(2019, 8, 1), dt.datetime(2019, 9, 1), -0.6, 0.6])\n",
    "plt.title('График изменения кумулятивного среднего количества заказов на посетителя')\n",
    "plt.xlabel('Дата')\n",
    "plt.ylabel('изменение количества заказов')\n",
    "plt.grid()\n",
    "\n"
   ]
  },
  {
   "cell_type": "markdown",
   "metadata": {},
   "source": [
    "С 06.08.2019 среднее количество заказов группы B стабильно выше, чем у группы A, то есть почти с начала теста. Количество заказов группы В выше, чем у группы А в среднем на 15%-20%."
   ]
  },
  {
   "cell_type": "code",
   "execution_count": 38,
   "metadata": {},
   "outputs": [
    {
     "data": {
      "text/plain": [
       "Text(0, 0.5, 'Кол-во заказов')"
      ]
     },
     "execution_count": 38,
     "metadata": {},
     "output_type": "execute_result"
    },
    {
     "data": {
      "image/png": "[encoded data removed]",
      "text/plain": [
       "<Figure size 432x288 with 1 Axes>"
      ]
     },
     "metadata": {
      "needs_background": "light"
     },
     "output_type": "display_data"
    }
   ],
   "source": [
    "#Постройте точечный график количества заказов по пользователям. Сделайте выводы и предположения.\n",
    "kol = orders.groupby('visitorid')['transactionid'].count()\n",
    "x_values = pd.Series(range(0, len(kol)))\n",
    "plt.scatter(x_values, kol) \n",
    "plt.grid()\n",
    "plt.title('График количества заказов по пользователям')\n",
    "plt.xlabel('Кол-во пользователей')\n",
    "plt.ylabel('Кол-во заказов')"
   ]
  },
  {
   "cell_type": "markdown",
   "metadata": {},
   "source": [
    "Есть пользователи, сделавшие более одного заказа, но их очень мало. Даже 3 заказа - редкое значение. Большинство пользователей делают 1 заказ. По графику можно выбрать границу количества аномальных заказов от 2 до 3. "
   ]
  },
  {
   "cell_type": "code",
   "execution_count": 39,
   "metadata": {},
   "outputs": [
    {
     "name": "stdout",
     "output_type": "stream",
     "text": [
      "[1. 2.]\n"
     ]
    }
   ],
   "source": [
    "#Посчитайте 95-й и 99-й перцентили количества заказов на пользователя. \n",
    "#Выберите границу для определения аномальных пользователей.\n",
    "print(np.percentile(kol, [95, 99])) \n"
   ]
  },
  {
   "cell_type": "markdown",
   "metadata": {},
   "source": [
    "не более 5% пользователей совершают больше 1 заказа, не более 1% совершают более двух заказов. Всё, что больше 2 заказов будет аномальным"
   ]
  },
  {
   "cell_type": "code",
   "execution_count": 40,
   "metadata": {},
   "outputs": [
    {
     "data": {
      "text/plain": [
       "<matplotlib.collections.PathCollection at 0x29399ca2c20>"
      ]
     },
     "execution_count": 40,
     "metadata": {},
     "output_type": "execute_result"
    },
    {
     "data": {
      "image/png": "[encoded data removed]",
      "text/plain": [
       "<Figure size 1080x720 with 1 Axes>"
      ]
     },
     "metadata": {
      "needs_background": "light"
     },
     "output_type": "display_data"
    }
   ],
   "source": [
    "#Постройте точечный график стоимостей заказов. Сделайте выводы и предположения.\n",
    "x_values = pd.Series(range(0,len(orders['revenue'])))\n",
    "plt.figure(figsize=(15,10))\n",
    "plt.grid()\n",
    "plt.title('График стоимостей заказов')\n",
    "plt.xlabel('Кол-во пользователей')\n",
    "plt.ylabel('Стоимость заказа')\n",
    "plt.scatter(x_values, orders['revenue'])\n"
   ]
  },
  {
   "cell_type": "markdown",
   "metadata": {},
   "source": [
    "По графику видно, что всё, что больше 0.2 - аномальные значения, удалим их "
   ]
  },
  {
   "cell_type": "code",
   "execution_count": 41,
   "metadata": {},
   "outputs": [
    {
     "data": {
      "text/plain": [
       "425     1294500\n",
       "1196    202740 \n",
       "1136    92550  \n",
       "744     86620  \n",
       "743     67990  \n",
       "        ...    \n",
       "404     70     \n",
       "933     60     \n",
       "584     50     \n",
       "756     50     \n",
       "459     50     \n",
       "Name: revenue, Length: 1016, dtype: int64"
      ]
     },
     "execution_count": 41,
     "metadata": {},
     "output_type": "execute_result"
    }
   ],
   "source": [
    "orders['revenue'].sort_values(ascending=False)"
   ]
  },
  {
   "cell_type": "markdown",
   "metadata": {},
   "source": [
    "Аномальные заказы - 425 и 1196"
   ]
  },
  {
   "cell_type": "code",
   "execution_count": 42,
   "metadata": {},
   "outputs": [
    {
     "data": {
      "text/plain": [
       "<matplotlib.collections.PathCollection at 0x293986a9ab0>"
      ]
     },
     "execution_count": 42,
     "metadata": {},
     "output_type": "execute_result"
    },
    {
     "data": {
      "image/png": "[encoded data removed]",
      "text/plain": [
       "<Figure size 1080x360 with 1 Axes>"
      ]
     },
     "metadata": {
      "needs_background": "light"
     },
     "output_type": "display_data"
    }
   ],
   "source": [
    "orders_2 = orders.query(\"revenue < 202740\")\n",
    "x2_values = pd.Series(range(0,len(orders_2)))\n",
    "plt.figure(figsize=(15,5))\n",
    "plt.grid()\n",
    "plt.title('График стоимостей заказов')\n",
    "plt.xlabel('Кол-во пользователей')\n",
    "plt.ylabel('Стоимость заказа')\n",
    "plt.scatter(x2_values, orders_2['revenue'])"
   ]
  },
  {
   "cell_type": "markdown",
   "metadata": {},
   "source": [
    "Большинство заказов стоят меньше 20000"
   ]
  },
  {
   "cell_type": "code",
   "execution_count": 43,
   "metadata": {},
   "outputs": [
    {
     "name": "stdout",
     "output_type": "stream",
     "text": [
      "[26785. 53904.]\n"
     ]
    }
   ],
   "source": [
    "#Посчитайте 95-й и 99-й перцентили стоимости заказов. Выберите границу для определения аномальных заказов.\n",
    "print(np.percentile(orders['revenue'], [95, 99])) \n"
   ]
  },
  {
   "cell_type": "markdown",
   "metadata": {},
   "source": [
    "Не более 5% заказов дороже 26785 рублей и не более 1% дороже 53904 рублей. Заказы стоимостью выше 53904 - аномальные"
   ]
  },
  {
   "cell_type": "markdown",
   "metadata": {},
   "source": [
    "- гипотеза H0 - статистически значимых различий в среднем количестве заказов между группами нет\n",
    "- гипотеза Н1 - статистически значимые различия есть"
   ]
  },
  {
   "cell_type": "markdown",
   "metadata": {},
   "source": [
    "Уровень alpha возьмём равный 0.05. \n",
    "Воспользуемсся критерием Манна-Уитни"
   ]
  },
  {
   "cell_type": "code",
   "execution_count": 44,
   "metadata": {},
   "outputs": [
    {
     "name": "stdout",
     "output_type": "stream",
     "text": [
      "p-value = 0.011\n",
      "относительный прирост среднего количества заказов = 0.160\n"
     ]
    }
   ],
   "source": [
    "#Посчитайте статистическую значимость различий в среднем количестве заказов на посетителя между группами по «сырым» данным. \n",
    "#Сделайте выводы и предположения.\n",
    "import scipy.stats as stats\n",
    "visitorsADaily = visitors[visitors['group'] == 'A'][['date', 'visitors']]\n",
    "visitorsADaily.columns = ['date', 'visitorsPerDateA']\n",
    "\n",
    "visitorsACummulative = visitorsADaily.apply(\n",
    "    lambda x: visitorsADaily[visitorsADaily['date'] <= x['date']].agg(\n",
    "        {'date': 'max', 'visitorsPerDateA': 'sum'}\n",
    "    ),\n",
    "    axis=1,\n",
    ")\n",
    "visitorsACummulative.columns = ['date', 'visitorsCummulativeA']\n",
    "\n",
    "visitorsBDaily = visitors[visitors['group'] == 'B'][['date', 'visitors']]\n",
    "visitorsBDaily.columns = ['date', 'visitorsPerDateB']\n",
    "\n",
    "visitorsBCummulative = visitorsBDaily.apply(\n",
    "    lambda x: visitorsBDaily[visitorsBDaily['date'] <= x['date']].agg(\n",
    "        {'date': 'max', 'visitorsPerDateB': 'sum'}\n",
    "    ),\n",
    "    axis=1,\n",
    ")\n",
    "visitorsBCummulative.columns = ['date', 'visitorsCummulativeB']\n",
    "\n",
    "ordersADaily = (\n",
    "    orders[orders['group'] == 'A'][['date', 'transactionid', 'visitorid', 'revenue']]\n",
    "    .groupby('date', as_index=False)\n",
    "    .agg({'transactionid': pd.Series.nunique, 'revenue': 'sum'})\n",
    ")\n",
    "ordersADaily.columns = ['date', 'ordersPerDateA', 'revenuePerDateA']\n",
    "\n",
    "ordersACummulative = ordersADaily.apply(\n",
    "    lambda x: ordersADaily[ordersADaily['date'] <= x['date']].agg(\n",
    "        {'date': 'max', 'ordersPerDateA': 'sum', 'revenuePerDateA': 'sum'}\n",
    "    ),\n",
    "    axis=1,\n",
    ").sort_values(by=['date'])\n",
    "ordersACummulative.columns = [\n",
    "    'date',\n",
    "    'ordersCummulativeA',\n",
    "    'revenueCummulativeA',\n",
    "]\n",
    "\n",
    "ordersBDaily = (\n",
    "    orders[orders['group'] == 'B'][['date', 'transactionid', 'visitorid', 'revenue']]\n",
    "    .groupby('date', as_index=False)\n",
    "    .agg({'transactionid': pd.Series.nunique, 'revenue': 'sum'})\n",
    ")\n",
    "ordersBDaily.columns = ['date', 'ordersPerDateB', 'revenuePerDateB']\n",
    "\n",
    "ordersBCummulative = ordersBDaily.apply(\n",
    "    lambda x: ordersBDaily[ordersBDaily['date'] <= x['date']].agg(\n",
    "        {'date': 'max', 'ordersPerDateB': 'sum', 'revenuePerDateB': 'sum'}\n",
    "    ),\n",
    "    axis=1,\n",
    ").sort_values(by=['date'])\n",
    "ordersBCummulative.columns = [\n",
    "    'date',\n",
    "    'ordersCummulativeB',\n",
    "    'revenueCummulativeB',\n",
    "]\n",
    "\n",
    "data = (\n",
    "    ordersADaily.merge(\n",
    "        ordersBDaily, left_on='date', right_on='date', how='left'\n",
    "    )\n",
    "    .merge(ordersACummulative, left_on='date', right_on='date', how='left')\n",
    "    .merge(ordersBCummulative, left_on='date', right_on='date', how='left')\n",
    "    .merge(visitorsADaily, left_on='date', right_on='date', how='left')\n",
    "    .merge(visitorsBDaily, left_on='date', right_on='date', how='left')\n",
    "    .merge(visitorsACummulative, left_on='date', right_on='date', how='left')\n",
    "    .merge(visitorsBCummulative, left_on='date', right_on='date', how='left')\n",
    ")\n",
    "\n",
    "\n",
    "\n",
    "ordersByUsersA = (\n",
    "    orders[orders['group'] == 'A']\n",
    "    .groupby('visitorid', as_index=False)\n",
    "    .agg({'transactionid': pd.Series.nunique})\n",
    ")\n",
    "ordersByUsersA.columns = ['userId', 'orders']\n",
    "\n",
    "ordersByUsersB = (\n",
    "    orders[orders['group'] == 'B']\n",
    "    .groupby('visitorid', as_index=False)\n",
    "    .agg({'transactionid': pd.Series.nunique})\n",
    ")\n",
    "ordersByUsersB.columns = ['userId', 'orders']\n",
    "\n",
    "\n",
    "sampleA = pd.concat([ordersByUsersA['orders'],pd.Series(0, index=np.arange(data['visitorsPerDateA'].sum() - len(ordersByUsersA['orders'])), name='orders')],axis=0)\n",
    "\n",
    "sampleB = pd.concat([ordersByUsersB['orders'],pd.Series(0, index=np.arange(data['visitorsPerDateB'].sum() - len(ordersByUsersB['orders'])), name='orders')],axis=0)\n",
    "\n",
    "\n",
    "print(\"p-value = {0:.3f}\".format(stats.mannwhitneyu(sampleA, sampleB)[1]))\n",
    "\n",
    "print(\"относительный прирост среднего количества заказов = {0:.3f}\".format(sampleB.mean() / sampleA.mean() - 1))\n",
    "\n",
    "\n",
    "\n",
    "\n",
    "\n"
   ]
  },
  {
   "cell_type": "markdown",
   "metadata": {},
   "source": [
    "p-value меньше 0.05. Поэтому нулевую гипотезу отвергаем.\n",
    "Это значит что в среднем количестве заказов между группами A и B есть статистически значимые различия. Относительный прирост среднего количества заказов группы В к А равен 16% "
   ]
  },
  {
   "cell_type": "markdown",
   "metadata": {},
   "source": [
    "Посчитайте статистическую значимость различий в среднем чеке заказа между группами по «сырым» данным. \n",
    "Сделайте выводы и предположения.\n",
    "гипотеза H0 - статистически значимых различий по \"сырым данным\" в среднем чеке между группами нет.\n",
    "гипотеза Н1 - статистически значимые различия есть.\n",
    "\n",
    "\n"
   ]
  },
  {
   "cell_type": "code",
   "execution_count": 45,
   "metadata": {},
   "outputs": [
    {
     "name": "stdout",
     "output_type": "stream",
     "text": [
      "p-value = 0.829\n",
      "прирост среднего чека 0.287\n"
     ]
    }
   ],
   "source": [
    "print('p-value = {0:.3f}'.format(stats.mannwhitneyu(orders[orders['group']=='A']['revenue'], orders[orders['group']=='B']['revenue'])[1]))\n",
    "print('прирост среднего чека {0:.3f}'.format(orders[orders['group']=='B']['revenue'].mean()/orders[orders['group']=='A']['revenue'].mean()-1))"
   ]
  },
  {
   "cell_type": "markdown",
   "metadata": {},
   "source": [
    "p-value значительно больше 0.05. Значит, значимых различий в среднем чеке между группами нет. Средний чек группы B значительно выше чем средний чек группы А (на 29%)"
   ]
  },
  {
   "cell_type": "markdown",
   "metadata": {},
   "source": [
    "Посчитайте статистическую значимость различий в среднем количестве заказов на посетителя между группами по «очищенным» данным. Сделайте выводы и предположения.\n",
    " - Очистим данные от аномальных значений по количеству заказов и их стоимости"
   ]
  },
  {
   "cell_type": "code",
   "execution_count": 46,
   "metadata": {},
   "outputs": [
    {
     "name": "stdout",
     "output_type": "stream",
     "text": [
      "1099    148427295\n",
      "33      249864742\n",
      "58      611059232\n",
      "949     887908475\n",
      "744     888512513\n",
      "dtype: int64\n",
      "16\n"
     ]
    }
   ],
   "source": [
    "usersWithManyOrders = pd.concat([ordersByUsersA[ordersByUsersA['orders'] > 2]['userId'], ordersByUsersB[ordersByUsersB['orders'] > 2]['userId']], axis = 0)\n",
    "usersWithExpensiveOrders = orders[orders['revenue'] > 53904]['visitorid']\n",
    "abnormalUsers = pd.concat([usersWithManyOrders, usersWithExpensiveOrders], axis = 0).drop_duplicates().sort_values()\n",
    "\n",
    "print(abnormalUsers.head(5))\n",
    "print(abnormalUsers.shape[0]) "
   ]
  },
  {
   "cell_type": "markdown",
   "metadata": {},
   "source": [
    "Всего 16 аномальных пользователей. \n",
    "Узнаем, как их действия повлияли на результаты теста. Посчитаем статистическую значимость различий в среднем количестве заказов между группами теста по очищенным данным. Сначала подготовим выборки количества заказов по пользователям по группам теста:"
   ]
  },
  {
   "cell_type": "code",
   "execution_count": 47,
   "metadata": {},
   "outputs": [],
   "source": [
    "sampleAFiltered = pd.concat([ordersByUsersA[np.logical_not(ordersByUsersA['userId'].isin(abnormalUsers))]['orders'], \\\n",
    "                             pd.Series(0, index=np.arange(data['visitorsPerDateA'].sum() - len(ordersByUsersA['orders'])), \\\n",
    "                                       name='orders')],axis=0)\n",
    "\n",
    "sampleBFiltered = pd.concat([ordersByUsersB[np.logical_not(ordersByUsersB['userId'].isin(abnormalUsers))]['orders'], \\\n",
    "                             pd.Series(0, index=np.arange(data['visitorsPerDateB'].sum() - len(ordersByUsersB['orders'])), \\\n",
    "                                       name='orders')],axis=0) "
   ]
  },
  {
   "cell_type": "markdown",
   "metadata": {},
   "source": [
    "гипотеза H0 - статистически значимых различий по отфильтрованным данным в среднем количестве заказов между группами нет. <br>\n",
    "гипотеза Н1 - статистически значимые различия есть."
   ]
  },
  {
   "cell_type": "code",
   "execution_count": 48,
   "metadata": {},
   "outputs": [
    {
     "name": "stdout",
     "output_type": "stream",
     "text": [
      "p-value = 0.007\n",
      "относительный прирост среднего количества заказов = 0.189\n"
     ]
    }
   ],
   "source": [
    "#Применим статистический критерий Манна-Уитни к полученным выборкам:\n",
    "print('p-value = {0:.3f}'.format(stats.mannwhitneyu(sampleAFiltered, sampleBFiltered)[1]))\n",
    "print('относительный прирост среднего количества заказов = {0:.3f}'.format(sampleBFiltered.mean()/sampleAFiltered.mean()-1)) \n",
    "\n",
    "\n"
   ]
  },
  {
   "cell_type": "markdown",
   "metadata": {},
   "source": [
    "p-value меньше 0.05. Нулевую гипотезу о том, что статистически значимых различий в среднем количестве заказов между группами нет отвергаем. По «очищенным» данным тоже есть статистически значимые различия в среднем количестве заказов. Относительный прирост среднего количества заказов группы В к А равен 19%, что немного выше, чем с сырыми данными. "
   ]
  },
  {
   "cell_type": "markdown",
   "metadata": {},
   "source": [
    "Посчитайте статистическую значимость различий в среднем чеке заказа между группами по «очищенным» данным. Сделайте выводы и предположения.\n",
    "Нулевая гипотеза H0: статистически значимых различий в средних чеках между группами нет\n",
    "гипотеза Н1 - статистически значимые различия есть\n",
    "\n"
   ]
  },
  {
   "cell_type": "code",
   "execution_count": 74,
   "metadata": {},
   "outputs": [
    {
     "name": "stdout",
     "output_type": "stream",
     "text": [
      "p-value = 0.788\n",
      "прирост среднего чека -0.032\n"
     ]
    }
   ],
   "source": [
    "print(\n",
    "    'p-value = {0:.3f}'.format(\n",
    "        stats.mannwhitneyu(\n",
    "            orders[\n",
    "                np.logical_and(\n",
    "                    orders['group'] == 'A',\n",
    "                    np.logical_not(orders['visitorid'].isin(abnormalUsers)),\n",
    "                )\n",
    "            ]['revenue'],\n",
    "            orders[\n",
    "                np.logical_and(\n",
    "                    orders['group'] == 'B',\n",
    "                    np.logical_not(orders['visitorid'].isin(abnormalUsers)),\n",
    "                )\n",
    "            ]['revenue'],\n",
    "        )[1]\n",
    "    )\n",
    ")\n",
    "\n",
    "print(\n",
    "    \"прирост среднего чека {0:.3f}\".format(\n",
    "        orders[\n",
    "            np.logical_and(\n",
    "                orders['group'] == 'B',\n",
    "                np.logical_not(orders['visitorid'].isin(abnormalUsers)),\n",
    "            )\n",
    "        ]['revenue'].mean()\n",
    "        / orders[\n",
    "            np.logical_and(\n",
    "                orders['group'] == 'A',\n",
    "                np.logical_not(orders['visitorid'].isin(abnormalUsers)),\n",
    "            )\n",
    "        ]['revenue'].mean()\n",
    "        - 1\n",
    "    )\n",
    ") "
   ]
  },
  {
   "cell_type": "markdown",
   "metadata": {},
   "source": [
    "p-value значительно больше 0.05. Значит, значимых различий в среднем чеке между группами нет.Средний чек группы B немного (на 3%) ниже среднего чека группы A, но по сырым данным он наоборот был больше на 29%. Видимо, сильно повлияли аномальные дорогие заказы"
   ]
  },
  {
   "cell_type": "markdown",
   "metadata": {},
   "source": [
    "<b>РЕШЕНИЕ</b>\n",
    "- Какие выводы по тесту можем сделать?\n",
    " - Имеющиеся факты:\n",
    " - Среднее количество заказов группы В выше на 16%, чем у группы А по сырым данным и на 19% выше по данным после фильтрации аномалий;\n",
    " - Нет статистически значимого различия по среднему чеку между группами ни по «сырым», ни по данным после фильтрации аномалий;\n",
    " - График различия среднего количества заказов между группами сообщает, что результаты группы А хуже группы B \n",
    " - В группе В имеются аномально дорогие заказы\n",
    " \n",
    " \n",
    "Исходя из обнаруженных фактов, тест следует остановить и признать победу группы B. Так как её среднее количество заказов больше по всем данным\n"
   ]
  }
 ],
 "metadata": {
  "ExecuteTimeLog": [
   {
    "duration": 1378,
    "start_time": "2023-03-06T11:23:22.287Z"
   },
   {
    "duration": 116,
    "start_time": "2023-03-06T11:23:23.667Z"
   },
   {
    "duration": 47,
    "start_time": "2023-03-06T11:25:01.348Z"
   },
   {
    "duration": 4,
    "start_time": "2023-03-06T11:25:20.754Z"
   },
   {
    "duration": 52,
    "start_time": "2023-03-06T11:25:21.649Z"
   },
   {
    "duration": 26,
    "start_time": "2023-03-06T11:26:06.385Z"
   },
   {
    "duration": 4,
    "start_time": "2023-03-06T11:26:14.630Z"
   },
   {
    "duration": 26,
    "start_time": "2023-03-06T11:26:15.125Z"
   },
   {
    "duration": 291,
    "start_time": "2023-03-06T11:28:48.479Z"
   },
   {
    "duration": 88,
    "start_time": "2023-03-06T11:39:50.498Z"
   },
   {
    "duration": 7,
    "start_time": "2023-03-06T11:40:07.943Z"
   },
   {
    "duration": 7,
    "start_time": "2023-03-06T11:42:10.611Z"
   },
   {
    "duration": 775,
    "start_time": "2023-03-06T11:47:01.653Z"
   },
   {
    "duration": 735,
    "start_time": "2023-03-06T11:50:26.749Z"
   },
   {
    "duration": 6,
    "start_time": "2023-03-06T11:53:07.103Z"
   },
   {
    "duration": 9,
    "start_time": "2023-03-06T11:53:10.592Z"
   },
   {
    "duration": 98,
    "start_time": "2023-03-06T11:53:59.208Z"
   },
   {
    "duration": 11,
    "start_time": "2023-03-06T11:54:18.835Z"
   },
   {
    "duration": 8,
    "start_time": "2023-03-06T11:54:19.428Z"
   },
   {
    "duration": 84,
    "start_time": "2023-03-06T11:54:28.116Z"
   },
   {
    "duration": 11,
    "start_time": "2023-03-06T11:54:29.060Z"
   },
   {
    "duration": 8,
    "start_time": "2023-03-06T11:54:29.828Z"
   },
   {
    "duration": 8,
    "start_time": "2023-03-06T11:54:48.325Z"
   },
   {
    "duration": 11,
    "start_time": "2023-03-06T11:55:04.728Z"
   },
   {
    "duration": 14,
    "start_time": "2023-03-06T13:33:34.404Z"
   },
   {
    "duration": 13,
    "start_time": "2023-03-06T13:35:26.192Z"
   },
   {
    "duration": 15,
    "start_time": "2023-03-06T13:36:01.624Z"
   },
   {
    "duration": 7,
    "start_time": "2023-03-06T13:40:45.837Z"
   },
   {
    "duration": 7,
    "start_time": "2023-03-06T13:41:35.800Z"
   },
   {
    "duration": 22,
    "start_time": "2023-03-06T13:41:38.416Z"
   },
   {
    "duration": 6,
    "start_time": "2023-03-06T13:42:45.412Z"
   },
   {
    "duration": 6,
    "start_time": "2023-03-06T13:42:56.112Z"
   },
   {
    "duration": 6,
    "start_time": "2023-03-06T13:43:11.198Z"
   },
   {
    "duration": 7,
    "start_time": "2023-03-06T13:43:27.501Z"
   },
   {
    "duration": 6,
    "start_time": "2023-03-06T13:43:50.767Z"
   },
   {
    "duration": 6,
    "start_time": "2023-03-06T13:44:12.113Z"
   },
   {
    "duration": 14,
    "start_time": "2023-03-06T13:46:40.476Z"
   },
   {
    "duration": 10,
    "start_time": "2023-03-06T13:51:39.705Z"
   },
   {
    "duration": 18,
    "start_time": "2023-03-06T13:52:07.873Z"
   },
   {
    "duration": 19,
    "start_time": "2023-03-06T13:52:22.860Z"
   },
   {
    "duration": 18,
    "start_time": "2023-03-06T13:52:41.180Z"
   },
   {
    "duration": 84,
    "start_time": "2023-03-06T13:55:29.894Z"
   },
   {
    "duration": 12,
    "start_time": "2023-03-06T14:03:03.108Z"
   },
   {
    "duration": 11,
    "start_time": "2023-03-06T14:03:32.733Z"
   },
   {
    "duration": 290,
    "start_time": "2023-03-06T14:03:49.192Z"
   },
   {
    "duration": 358,
    "start_time": "2023-03-06T14:04:03.716Z"
   },
   {
    "duration": 361,
    "start_time": "2023-03-06T14:04:54.695Z"
   },
   {
    "duration": 500,
    "start_time": "2023-03-06T14:05:13.017Z"
   },
   {
    "duration": 440,
    "start_time": "2023-03-06T14:05:23.432Z"
   },
   {
    "duration": 380,
    "start_time": "2023-03-06T14:05:34.158Z"
   },
   {
    "duration": 390,
    "start_time": "2023-03-06T14:05:39.200Z"
   },
   {
    "duration": 377,
    "start_time": "2023-03-06T14:05:46.091Z"
   },
   {
    "duration": 400,
    "start_time": "2023-03-06T14:06:37.180Z"
   },
   {
    "duration": 291,
    "start_time": "2023-03-06T14:07:23.680Z"
   },
   {
    "duration": 365,
    "start_time": "2023-03-06T14:07:32.305Z"
   },
   {
    "duration": 1468,
    "start_time": "2023-03-06T21:01:03.432Z"
   },
   {
    "duration": 276,
    "start_time": "2023-03-06T21:01:04.903Z"
   },
   {
    "duration": 7,
    "start_time": "2023-03-06T21:01:05.181Z"
   },
   {
    "duration": 11,
    "start_time": "2023-03-06T21:01:05.190Z"
   },
   {
    "duration": 4,
    "start_time": "2023-03-06T21:01:05.701Z"
   },
   {
    "duration": 11,
    "start_time": "2023-03-06T21:01:06.509Z"
   },
   {
    "duration": 13,
    "start_time": "2023-03-06T21:01:07.063Z"
   },
   {
    "duration": 10,
    "start_time": "2023-03-06T21:01:07.659Z"
   },
   {
    "duration": 11,
    "start_time": "2023-03-06T21:01:08.727Z"
   },
   {
    "duration": 6,
    "start_time": "2023-03-06T21:01:09.567Z"
   },
   {
    "duration": 6,
    "start_time": "2023-03-06T21:01:10.205Z"
   },
   {
    "duration": 7,
    "start_time": "2023-03-06T21:01:10.847Z"
   },
   {
    "duration": 6,
    "start_time": "2023-03-06T21:01:11.324Z"
   },
   {
    "duration": 7,
    "start_time": "2023-03-06T21:01:11.766Z"
   },
   {
    "duration": 7,
    "start_time": "2023-03-06T21:01:12.262Z"
   },
   {
    "duration": 9,
    "start_time": "2023-03-06T21:01:13.776Z"
   },
   {
    "duration": 10,
    "start_time": "2023-03-06T21:01:15.117Z"
   },
   {
    "duration": 12,
    "start_time": "2023-03-06T21:01:16.562Z"
   },
   {
    "duration": 146,
    "start_time": "2023-03-06T21:01:20.346Z"
   },
   {
    "duration": 15,
    "start_time": "2023-03-06T21:01:29.459Z"
   },
   {
    "duration": 51,
    "start_time": "2023-03-06T21:03:06.117Z"
   },
   {
    "duration": 35,
    "start_time": "2023-03-06T21:05:03.914Z"
   },
   {
    "duration": 326,
    "start_time": "2023-03-06T21:06:05.148Z"
   },
   {
    "duration": 387,
    "start_time": "2023-03-06T21:06:10.805Z"
   },
   {
    "duration": 271,
    "start_time": "2023-03-06T21:06:15.909Z"
   },
   {
    "duration": 332,
    "start_time": "2023-03-06T21:07:54.064Z"
   },
   {
    "duration": 371,
    "start_time": "2023-03-06T21:08:07.021Z"
   },
   {
    "duration": 242,
    "start_time": "2023-03-06T21:08:45.223Z"
   },
   {
    "duration": 228,
    "start_time": "2023-03-06T21:08:50.610Z"
   },
   {
    "duration": 237,
    "start_time": "2023-03-06T21:08:58.674Z"
   },
   {
    "duration": 326,
    "start_time": "2023-03-06T21:09:02.964Z"
   },
   {
    "duration": 207,
    "start_time": "2023-03-06T21:09:07.322Z"
   },
   {
    "duration": 318,
    "start_time": "2023-03-06T21:09:32.865Z"
   },
   {
    "duration": 242,
    "start_time": "2023-03-06T21:09:44.068Z"
   },
   {
    "duration": 278,
    "start_time": "2023-03-06T21:10:23.606Z"
   },
   {
    "duration": 237,
    "start_time": "2023-03-06T21:10:24.672Z"
   },
   {
    "duration": 189,
    "start_time": "2023-03-06T21:15:49.620Z"
   },
   {
    "duration": 236,
    "start_time": "2023-03-06T21:16:20.191Z"
   },
   {
    "duration": 240,
    "start_time": "2023-03-06T21:16:28.698Z"
   },
   {
    "duration": 257,
    "start_time": "2023-03-06T21:17:25.127Z"
   },
   {
    "duration": 384,
    "start_time": "2023-03-06T21:24:18.908Z"
   },
   {
    "duration": 357,
    "start_time": "2023-03-06T21:24:33.598Z"
   },
   {
    "duration": 195,
    "start_time": "2023-03-06T21:24:47.405Z"
   },
   {
    "duration": 328,
    "start_time": "2023-03-06T21:24:53.606Z"
   },
   {
    "duration": 213,
    "start_time": "2023-03-06T21:31:41.904Z"
   },
   {
    "duration": 192,
    "start_time": "2023-03-06T21:32:15.647Z"
   },
   {
    "duration": 186,
    "start_time": "2023-03-06T21:33:37.015Z"
   },
   {
    "duration": 193,
    "start_time": "2023-03-06T21:33:44.806Z"
   },
   {
    "duration": 203,
    "start_time": "2023-03-06T21:34:37.750Z"
   },
   {
    "duration": 310,
    "start_time": "2023-03-06T21:38:03.624Z"
   },
   {
    "duration": 348,
    "start_time": "2023-03-06T21:38:25.731Z"
   },
   {
    "duration": 303,
    "start_time": "2023-03-06T21:39:21.256Z"
   },
   {
    "duration": 4,
    "start_time": "2023-03-06T21:47:51.354Z"
   },
   {
    "duration": 5,
    "start_time": "2023-03-06T21:48:09.062Z"
   },
   {
    "duration": 17,
    "start_time": "2023-03-06T21:49:13.491Z"
   },
   {
    "duration": 11,
    "start_time": "2023-03-06T21:49:47.495Z"
   },
   {
    "duration": 12,
    "start_time": "2023-03-06T21:49:49.694Z"
   },
   {
    "duration": 12,
    "start_time": "2023-03-06T21:50:08.045Z"
   },
   {
    "duration": 14,
    "start_time": "2023-03-06T21:50:38.658Z"
   },
   {
    "duration": 104,
    "start_time": "2023-03-06T21:51:11.224Z"
   },
   {
    "duration": 84,
    "start_time": "2023-03-06T21:51:31.572Z"
   },
   {
    "duration": 84,
    "start_time": "2023-03-06T21:51:45.596Z"
   },
   {
    "duration": 19,
    "start_time": "2023-03-06T21:52:46.750Z"
   },
   {
    "duration": 13,
    "start_time": "2023-03-06T21:52:56.861Z"
   },
   {
    "duration": 12,
    "start_time": "2023-03-06T21:53:47.513Z"
   },
   {
    "duration": 7,
    "start_time": "2023-03-06T21:54:07.252Z"
   },
   {
    "duration": 10,
    "start_time": "2023-03-06T21:55:25.597Z"
   },
   {
    "duration": 14,
    "start_time": "2023-03-06T21:55:35.965Z"
   },
   {
    "duration": 973,
    "start_time": "2023-03-06T21:55:47.316Z"
   },
   {
    "duration": 109,
    "start_time": "2023-03-06T21:55:56.650Z"
   },
   {
    "duration": 126,
    "start_time": "2023-03-06T21:58:10.593Z"
   },
   {
    "duration": 4,
    "start_time": "2023-03-06T22:04:00.117Z"
   },
   {
    "duration": 5,
    "start_time": "2023-03-06T22:04:20.899Z"
   },
   {
    "duration": 4,
    "start_time": "2023-03-06T22:06:32.684Z"
   },
   {
    "duration": 5,
    "start_time": "2023-03-06T22:07:01.282Z"
   },
   {
    "duration": 14,
    "start_time": "2023-03-06T22:07:29.489Z"
   },
   {
    "duration": 280,
    "start_time": "2023-03-06T22:07:42.824Z"
   },
   {
    "duration": 5,
    "start_time": "2023-03-06T22:08:34.580Z"
   },
   {
    "duration": 17,
    "start_time": "2023-03-06T22:12:40.327Z"
   },
   {
    "duration": 12,
    "start_time": "2023-03-06T22:13:09.047Z"
   },
   {
    "duration": 10,
    "start_time": "2023-03-06T22:13:29.933Z"
   },
   {
    "duration": 111,
    "start_time": "2023-03-06T22:13:31.249Z"
   },
   {
    "duration": 5,
    "start_time": "2023-03-06T22:14:02.151Z"
   },
   {
    "duration": 185,
    "start_time": "2023-03-06T22:16:08.230Z"
   },
   {
    "duration": 167,
    "start_time": "2023-03-06T22:16:48.509Z"
   },
   {
    "duration": 295,
    "start_time": "2023-03-06T22:16:51.556Z"
   },
   {
    "duration": 155,
    "start_time": "2023-03-06T22:17:10.151Z"
   },
   {
    "duration": 157,
    "start_time": "2023-03-06T22:17:33.260Z"
   },
   {
    "duration": 5,
    "start_time": "2023-03-06T22:19:07.802Z"
   },
   {
    "duration": 183,
    "start_time": "2023-03-06T22:21:23.383Z"
   },
   {
    "duration": 8,
    "start_time": "2023-03-06T22:22:42.621Z"
   },
   {
    "duration": 1405,
    "start_time": "2023-03-06T22:24:37.776Z"
   },
   {
    "duration": 24,
    "start_time": "2023-03-06T22:26:39.021Z"
   },
   {
    "duration": 11,
    "start_time": "2023-03-06T22:26:59.350Z"
   },
   {
    "duration": 11,
    "start_time": "2023-03-06T22:27:01.884Z"
   },
   {
    "duration": 14,
    "start_time": "2023-03-06T22:27:24.309Z"
   },
   {
    "duration": 17,
    "start_time": "2023-03-06T22:27:37.798Z"
   },
   {
    "duration": 10,
    "start_time": "2023-03-06T22:29:32.686Z"
   },
   {
    "duration": 10,
    "start_time": "2023-03-06T22:30:03.375Z"
   },
   {
    "duration": 12,
    "start_time": "2023-03-06T22:30:16.089Z"
   },
   {
    "duration": 12,
    "start_time": "2023-03-06T22:30:22.379Z"
   },
   {
    "duration": 15,
    "start_time": "2023-03-06T22:31:26.575Z"
   },
   {
    "duration": 16,
    "start_time": "2023-03-06T22:31:47.235Z"
   },
   {
    "duration": 219,
    "start_time": "2023-03-06T22:32:01.246Z"
   },
   {
    "duration": 173,
    "start_time": "2023-03-06T22:32:16.802Z"
   },
   {
    "duration": 168,
    "start_time": "2023-03-06T22:33:22.492Z"
   },
   {
    "duration": 5,
    "start_time": "2023-03-06T22:34:56.846Z"
   },
   {
    "duration": 1223,
    "start_time": "2023-03-06T22:36:57.629Z"
   },
   {
    "duration": 10,
    "start_time": "2023-03-06T22:37:09.724Z"
   },
   {
    "duration": 9,
    "start_time": "2023-03-06T22:37:35.046Z"
   },
   {
    "duration": 254,
    "start_time": "2023-03-06T22:37:37.304Z"
   },
   {
    "duration": 196,
    "start_time": "2023-03-06T22:37:37.921Z"
   },
   {
    "duration": 177,
    "start_time": "2023-03-06T22:37:38.700Z"
   },
   {
    "duration": 291,
    "start_time": "2023-03-06T22:37:40.355Z"
   },
   {
    "duration": 173,
    "start_time": "2023-03-06T22:37:42.197Z"
   },
   {
    "duration": 269,
    "start_time": "2023-03-06T22:37:44.575Z"
   },
   {
    "duration": 140,
    "start_time": "2023-03-06T22:37:46.548Z"
   },
   {
    "duration": 4,
    "start_time": "2023-03-06T22:37:51.479Z"
   },
   {
    "duration": 176,
    "start_time": "2023-03-06T22:37:52.919Z"
   },
   {
    "duration": 6,
    "start_time": "2023-03-06T22:37:55.052Z"
   },
   {
    "duration": 6,
    "start_time": "2023-03-06T22:38:00.346Z"
   },
   {
    "duration": 161,
    "start_time": "2023-03-06T22:38:05.083Z"
   },
   {
    "duration": 4,
    "start_time": "2023-03-06T22:38:09.046Z"
   },
   {
    "duration": 3,
    "start_time": "2023-03-06T23:42:18.025Z"
   },
   {
    "duration": 93,
    "start_time": "2023-03-06T23:42:18.277Z"
   },
   {
    "duration": 8,
    "start_time": "2023-03-06T23:42:18.458Z"
   },
   {
    "duration": 7,
    "start_time": "2023-03-06T23:42:18.687Z"
   },
   {
    "duration": 6,
    "start_time": "2023-03-06T23:42:18.836Z"
   },
   {
    "duration": 11,
    "start_time": "2023-03-06T23:42:19.061Z"
   },
   {
    "duration": 12,
    "start_time": "2023-03-06T23:42:19.259Z"
   },
   {
    "duration": 12,
    "start_time": "2023-03-06T23:42:19.449Z"
   },
   {
    "duration": 9,
    "start_time": "2023-03-06T23:42:20.016Z"
   },
   {
    "duration": 32,
    "start_time": "2023-03-06T23:42:20.027Z"
   },
   {
    "duration": 9,
    "start_time": "2023-03-06T23:42:20.248Z"
   },
   {
    "duration": 7,
    "start_time": "2023-03-06T23:42:20.453Z"
   },
   {
    "duration": 9,
    "start_time": "2023-03-06T23:42:21.852Z"
   },
   {
    "duration": 12,
    "start_time": "2023-03-06T23:42:22.057Z"
   },
   {
    "duration": 6,
    "start_time": "2023-03-06T23:42:22.258Z"
   },
   {
    "duration": 9,
    "start_time": "2023-03-06T23:42:22.606Z"
   },
   {
    "duration": 13,
    "start_time": "2023-03-06T23:42:22.983Z"
   },
   {
    "duration": 12,
    "start_time": "2023-03-06T23:42:24.258Z"
   },
   {
    "duration": 11,
    "start_time": "2023-03-06T23:42:25.030Z"
   },
   {
    "duration": 159,
    "start_time": "2023-03-06T23:42:25.427Z"
   },
   {
    "duration": 273,
    "start_time": "2023-03-06T23:42:25.649Z"
   },
   {
    "duration": 300,
    "start_time": "2023-03-06T23:42:30.850Z"
   },
   {
    "duration": 255,
    "start_time": "2023-03-06T23:42:31.153Z"
   },
   {
    "duration": 186,
    "start_time": "2023-03-06T23:42:31.781Z"
   },
   {
    "duration": 305,
    "start_time": "2023-03-06T23:42:32.250Z"
   },
   {
    "duration": 204,
    "start_time": "2023-03-06T23:42:32.667Z"
   },
   {
    "duration": 322,
    "start_time": "2023-03-06T23:42:33.351Z"
   },
   {
    "duration": 230,
    "start_time": "2023-03-06T23:42:36.579Z"
   },
   {
    "duration": 371,
    "start_time": "2023-03-06T23:42:42.319Z"
   },
   {
    "duration": 161,
    "start_time": "2023-03-06T23:42:46.946Z"
   },
   {
    "duration": 170,
    "start_time": "2023-03-06T23:42:49.448Z"
   },
   {
    "duration": 196,
    "start_time": "2023-03-06T23:42:55.621Z"
   },
   {
    "duration": 5,
    "start_time": "2023-03-06T23:43:00.807Z"
   },
   {
    "duration": 4,
    "start_time": "2023-03-06T23:43:44.351Z"
   },
   {
    "duration": 98,
    "start_time": "2023-03-06T23:43:44.568Z"
   },
   {
    "duration": 10,
    "start_time": "2023-03-06T23:43:44.762Z"
   },
   {
    "duration": 11,
    "start_time": "2023-03-06T23:43:44.959Z"
   },
   {
    "duration": 5,
    "start_time": "2023-03-06T23:43:45.149Z"
   },
   {
    "duration": 12,
    "start_time": "2023-03-06T23:43:45.366Z"
   },
   {
    "duration": 12,
    "start_time": "2023-03-06T23:43:45.559Z"
   },
   {
    "duration": 18,
    "start_time": "2023-03-06T23:43:45.724Z"
   },
   {
    "duration": 7,
    "start_time": "2023-03-06T23:43:46.150Z"
   },
   {
    "duration": 6,
    "start_time": "2023-03-06T23:43:46.496Z"
   },
   {
    "duration": 9,
    "start_time": "2023-03-06T23:43:46.748Z"
   },
   {
    "duration": 6,
    "start_time": "2023-03-06T23:43:46.991Z"
   },
   {
    "duration": 7,
    "start_time": "2023-03-06T23:43:47.214Z"
   },
   {
    "duration": 7,
    "start_time": "2023-03-06T23:43:47.414Z"
   },
   {
    "duration": 7,
    "start_time": "2023-03-06T23:43:47.650Z"
   },
   {
    "duration": 8,
    "start_time": "2023-03-06T23:43:48.009Z"
   },
   {
    "duration": 12,
    "start_time": "2023-03-06T23:43:48.407Z"
   },
   {
    "duration": 15,
    "start_time": "2023-03-06T23:43:48.798Z"
   },
   {
    "duration": 8,
    "start_time": "2023-03-06T23:43:50.552Z"
   },
   {
    "duration": 19,
    "start_time": "2023-03-06T23:43:57.429Z"
   },
   {
    "duration": 12,
    "start_time": "2023-03-06T23:44:10.083Z"
   },
   {
    "duration": 3,
    "start_time": "2023-03-06T23:47:41.894Z"
   },
   {
    "duration": 89,
    "start_time": "2023-03-06T23:47:42.128Z"
   },
   {
    "duration": 8,
    "start_time": "2023-03-06T23:47:42.359Z"
   },
   {
    "duration": 8,
    "start_time": "2023-03-06T23:47:42.595Z"
   },
   {
    "duration": 5,
    "start_time": "2023-03-06T23:47:42.757Z"
   },
   {
    "duration": 10,
    "start_time": "2023-03-06T23:47:42.954Z"
   },
   {
    "duration": 11,
    "start_time": "2023-03-06T23:47:43.149Z"
   },
   {
    "duration": 11,
    "start_time": "2023-03-06T23:47:43.354Z"
   },
   {
    "duration": 7,
    "start_time": "2023-03-06T23:47:43.750Z"
   },
   {
    "duration": 6,
    "start_time": "2023-03-06T23:47:43.956Z"
   },
   {
    "duration": 8,
    "start_time": "2023-03-06T23:47:44.174Z"
   },
   {
    "duration": 8,
    "start_time": "2023-03-06T23:47:44.368Z"
   },
   {
    "duration": 6,
    "start_time": "2023-03-06T23:47:44.566Z"
   },
   {
    "duration": 7,
    "start_time": "2023-03-06T23:47:44.785Z"
   },
   {
    "duration": 5,
    "start_time": "2023-03-06T23:47:45.178Z"
   },
   {
    "duration": 11,
    "start_time": "2023-03-06T23:47:47.250Z"
   },
   {
    "duration": 12,
    "start_time": "2023-03-06T23:47:49.049Z"
   },
   {
    "duration": 12,
    "start_time": "2023-03-06T23:47:51.146Z"
   },
   {
    "duration": 83,
    "start_time": "2023-03-06T23:47:53.228Z"
   },
   {
    "duration": 12,
    "start_time": "2023-03-06T23:47:53.492Z"
   },
   {
    "duration": 279,
    "start_time": "2023-03-06T23:47:53.749Z"
   },
   {
    "duration": 12,
    "start_time": "2023-03-06T23:48:07.025Z"
   },
   {
    "duration": 5,
    "start_time": "2023-03-06T23:48:09.858Z"
   },
   {
    "duration": 10,
    "start_time": "2023-03-06T23:48:19.670Z"
   },
   {
    "duration": 12,
    "start_time": "2023-03-06T23:48:20.248Z"
   },
   {
    "duration": 1375,
    "start_time": "2023-03-06T23:49:10.027Z"
   },
   {
    "duration": 0,
    "start_time": "2023-03-06T23:49:11.404Z"
   },
   {
    "duration": 10,
    "start_time": "2023-03-06T23:49:24.268Z"
   },
   {
    "duration": 8,
    "start_time": "2023-03-06T23:49:24.983Z"
   },
   {
    "duration": 336,
    "start_time": "2023-03-06T23:49:25.706Z"
   },
   {
    "duration": 244,
    "start_time": "2023-03-06T23:49:26.518Z"
   },
   {
    "duration": 201,
    "start_time": "2023-03-06T23:49:28.828Z"
   },
   {
    "duration": 320,
    "start_time": "2023-03-06T23:49:30.495Z"
   },
   {
    "duration": 199,
    "start_time": "2023-03-06T23:49:31.959Z"
   },
   {
    "duration": 319,
    "start_time": "2023-03-06T23:49:34.661Z"
   },
   {
    "duration": 159,
    "start_time": "2023-03-06T23:49:36.616Z"
   },
   {
    "duration": 146,
    "start_time": "2023-03-06T23:49:42.763Z"
   },
   {
    "duration": 1317,
    "start_time": "2023-03-06T23:50:33.880Z"
   },
   {
    "duration": 0,
    "start_time": "2023-03-06T23:50:35.199Z"
   },
   {
    "duration": 309,
    "start_time": "2023-03-06T23:50:35.489Z"
   },
   {
    "duration": 11,
    "start_time": "2023-03-06T23:51:06.783Z"
   },
   {
    "duration": 10,
    "start_time": "2023-03-06T23:51:07.861Z"
   },
   {
    "duration": 1150,
    "start_time": "2023-03-06T23:51:56.069Z"
   },
   {
    "duration": 0,
    "start_time": "2023-03-06T23:51:57.221Z"
   },
   {
    "duration": 11,
    "start_time": "2023-03-06T23:52:08.136Z"
   },
   {
    "duration": 1235,
    "start_time": "2023-03-06T23:52:15.782Z"
   },
   {
    "duration": 10,
    "start_time": "2023-03-06T23:52:17.776Z"
   },
   {
    "duration": 1120,
    "start_time": "2023-03-06T23:57:08.946Z"
   },
   {
    "duration": 14,
    "start_time": "2023-03-06T23:57:17.162Z"
   },
   {
    "duration": 9,
    "start_time": "2023-03-06T23:58:11.916Z"
   },
   {
    "duration": 281,
    "start_time": "2023-03-06T23:58:17.480Z"
   },
   {
    "duration": 398,
    "start_time": "2023-03-06T23:58:17.763Z"
   },
   {
    "duration": 182,
    "start_time": "2023-03-06T23:58:18.248Z"
   },
   {
    "duration": 365,
    "start_time": "2023-03-06T23:58:18.612Z"
   },
   {
    "duration": 215,
    "start_time": "2023-03-06T23:58:19.078Z"
   },
   {
    "duration": 316,
    "start_time": "2023-03-06T23:58:19.650Z"
   },
   {
    "duration": 166,
    "start_time": "2023-03-06T23:58:20.048Z"
   },
   {
    "duration": 4,
    "start_time": "2023-03-06T23:58:20.416Z"
   },
   {
    "duration": 210,
    "start_time": "2023-03-06T23:58:20.787Z"
   },
   {
    "duration": 7,
    "start_time": "2023-03-06T23:58:21.198Z"
   },
   {
    "duration": 89,
    "start_time": "2023-03-07T00:01:16.257Z"
   },
   {
    "duration": 17,
    "start_time": "2023-03-07T00:01:31.011Z"
   },
   {
    "duration": 19,
    "start_time": "2023-03-07T00:04:49.745Z"
   },
   {
    "duration": 16,
    "start_time": "2023-03-07T00:05:15.679Z"
   },
   {
    "duration": 1841,
    "start_time": "2023-03-07T00:05:29.785Z"
   },
   {
    "duration": 1731,
    "start_time": "2023-03-07T00:05:50.449Z"
   },
   {
    "duration": 8,
    "start_time": "2023-03-07T00:06:12.457Z"
   },
   {
    "duration": 10,
    "start_time": "2023-03-07T00:06:32.189Z"
   },
   {
    "duration": 8,
    "start_time": "2023-03-07T00:06:37.319Z"
   },
   {
    "duration": 10,
    "start_time": "2023-03-07T00:06:52.156Z"
   },
   {
    "duration": 8,
    "start_time": "2023-03-07T00:06:52.876Z"
   },
   {
    "duration": 90,
    "start_time": "2023-03-07T00:07:47.509Z"
   },
   {
    "duration": 9,
    "start_time": "2023-03-07T00:07:48.949Z"
   },
   {
    "duration": 9,
    "start_time": "2023-03-07T00:07:55.457Z"
   },
   {
    "duration": 8,
    "start_time": "2023-03-07T00:07:56.188Z"
   },
   {
    "duration": 13,
    "start_time": "2023-03-07T00:08:11.827Z"
   },
   {
    "duration": 17,
    "start_time": "2023-03-07T00:08:12.627Z"
   },
   {
    "duration": 279,
    "start_time": "2023-03-07T00:08:16.503Z"
   },
   {
    "duration": 208,
    "start_time": "2023-03-07T00:08:17.106Z"
   },
   {
    "duration": 203,
    "start_time": "2023-03-07T00:08:19.171Z"
   },
   {
    "duration": 339,
    "start_time": "2023-03-07T00:08:20.317Z"
   },
   {
    "duration": 207,
    "start_time": "2023-03-07T00:08:21.255Z"
   },
   {
    "duration": 346,
    "start_time": "2023-03-07T00:08:22.719Z"
   },
   {
    "duration": 172,
    "start_time": "2023-03-07T00:08:24.305Z"
   },
   {
    "duration": 5,
    "start_time": "2023-03-07T00:08:27.408Z"
   },
   {
    "duration": 203,
    "start_time": "2023-03-07T00:09:03.962Z"
   },
   {
    "duration": 6,
    "start_time": "2023-03-07T00:09:12.556Z"
   },
   {
    "duration": 164,
    "start_time": "2023-03-07T00:09:16.730Z"
   },
   {
    "duration": 4,
    "start_time": "2023-03-07T00:09:18.519Z"
   },
   {
    "duration": 4,
    "start_time": "2023-03-07T00:09:22.282Z"
   },
   {
    "duration": 112,
    "start_time": "2023-03-07T00:18:13.757Z"
   },
   {
    "duration": 355,
    "start_time": "2023-03-07T00:21:35.911Z"
   },
   {
    "duration": 403,
    "start_time": "2023-03-07T00:23:21.052Z"
   },
   {
    "duration": 4,
    "start_time": "2023-03-07T00:23:59.850Z"
   },
   {
    "duration": 85,
    "start_time": "2023-03-07T00:24:01.392Z"
   },
   {
    "duration": 8,
    "start_time": "2023-03-07T00:24:01.637Z"
   },
   {
    "duration": 8,
    "start_time": "2023-03-07T00:24:01.908Z"
   },
   {
    "duration": 5,
    "start_time": "2023-03-07T00:24:02.127Z"
   },
   {
    "duration": 10,
    "start_time": "2023-03-07T00:24:02.308Z"
   },
   {
    "duration": 11,
    "start_time": "2023-03-07T00:24:02.520Z"
   },
   {
    "duration": 10,
    "start_time": "2023-03-07T00:24:02.763Z"
   },
   {
    "duration": 6,
    "start_time": "2023-03-07T00:24:03.221Z"
   },
   {
    "duration": 6,
    "start_time": "2023-03-07T00:24:03.416Z"
   },
   {
    "duration": 7,
    "start_time": "2023-03-07T00:24:03.609Z"
   },
   {
    "duration": 6,
    "start_time": "2023-03-07T00:24:03.823Z"
   },
   {
    "duration": 6,
    "start_time": "2023-03-07T00:24:04.016Z"
   },
   {
    "duration": 7,
    "start_time": "2023-03-07T00:24:04.238Z"
   },
   {
    "duration": 8,
    "start_time": "2023-03-07T00:24:04.479Z"
   },
   {
    "duration": 12,
    "start_time": "2023-03-07T00:24:04.847Z"
   },
   {
    "duration": 12,
    "start_time": "2023-03-07T00:24:05.259Z"
   },
   {
    "duration": 11,
    "start_time": "2023-03-07T00:24:05.651Z"
   },
   {
    "duration": 10,
    "start_time": "2023-03-07T00:24:06.287Z"
   },
   {
    "duration": 12,
    "start_time": "2023-03-07T00:24:06.493Z"
   },
   {
    "duration": 267,
    "start_time": "2023-03-07T00:24:06.736Z"
   },
   {
    "duration": 202,
    "start_time": "2023-03-07T00:24:07.004Z"
   },
   {
    "duration": 200,
    "start_time": "2023-03-07T00:24:07.914Z"
   },
   {
    "duration": 300,
    "start_time": "2023-03-07T00:24:08.337Z"
   },
   {
    "duration": 198,
    "start_time": "2023-03-07T00:24:08.746Z"
   },
   {
    "duration": 461,
    "start_time": "2023-03-07T00:24:09.296Z"
   },
   {
    "duration": 156,
    "start_time": "2023-03-07T00:24:09.759Z"
   },
   {
    "duration": 4,
    "start_time": "2023-03-07T00:24:10.082Z"
   },
   {
    "duration": 204,
    "start_time": "2023-03-07T00:24:10.759Z"
   },
   {
    "duration": 6,
    "start_time": "2023-03-07T00:24:10.965Z"
   },
   {
    "duration": 153,
    "start_time": "2023-03-07T00:24:11.302Z"
   },
   {
    "duration": 4,
    "start_time": "2023-03-07T00:24:11.681Z"
   },
   {
    "duration": 422,
    "start_time": "2023-03-07T00:24:12.238Z"
   },
   {
    "duration": 453,
    "start_time": "2023-03-07T00:24:28.105Z"
   },
   {
    "duration": 419,
    "start_time": "2023-03-07T00:25:56.057Z"
   },
   {
    "duration": 453,
    "start_time": "2023-03-07T00:26:02.707Z"
   },
   {
    "duration": 469,
    "start_time": "2023-03-07T00:26:49.918Z"
   },
   {
    "duration": 500,
    "start_time": "2023-03-07T00:27:15.753Z"
   },
   {
    "duration": 19,
    "start_time": "2023-03-07T00:28:34.946Z"
   },
   {
    "duration": 147,
    "start_time": "2023-03-07T00:28:56.002Z"
   },
   {
    "duration": 312,
    "start_time": "2023-03-07T00:34:50.347Z"
   },
   {
    "duration": 309,
    "start_time": "2023-03-07T00:35:06.563Z"
   },
   {
    "duration": 75,
    "start_time": "2023-03-07T00:39:52.109Z"
   },
   {
    "duration": 1367,
    "start_time": "2023-03-07T00:41:16.276Z"
   },
   {
    "duration": 12,
    "start_time": "2023-03-07T00:41:55.230Z"
   },
   {
    "duration": 80,
    "start_time": "2023-03-07T00:43:08.082Z"
   },
   {
    "duration": 90,
    "start_time": "2023-03-07T00:43:24.303Z"
   },
   {
    "duration": 76,
    "start_time": "2023-03-07T00:44:29.386Z"
   },
   {
    "duration": 91,
    "start_time": "2023-03-07T00:46:01.497Z"
   },
   {
    "duration": 9,
    "start_time": "2023-03-07T00:46:08.214Z"
   },
   {
    "duration": 13,
    "start_time": "2023-03-07T00:47:08.573Z"
   },
   {
    "duration": 10,
    "start_time": "2023-03-07T00:53:28.788Z"
   },
   {
    "duration": 7,
    "start_time": "2023-03-07T00:54:24.944Z"
   },
   {
    "duration": 7,
    "start_time": "2023-03-07T00:54:52.493Z"
   },
   {
    "duration": 20,
    "start_time": "2023-03-07T00:55:30.939Z"
   },
   {
    "duration": 1581,
    "start_time": "2023-03-07T01:01:15.598Z"
   },
   {
    "duration": 1500,
    "start_time": "2023-03-07T01:01:58.405Z"
   },
   {
    "duration": 12,
    "start_time": "2023-03-07T01:02:18.343Z"
   },
   {
    "duration": 78,
    "start_time": "2023-03-07T01:15:11.584Z"
   },
   {
    "duration": 4,
    "start_time": "2023-03-07T01:24:53.533Z"
   },
   {
    "duration": 84,
    "start_time": "2023-03-07T01:24:54.082Z"
   },
   {
    "duration": 8,
    "start_time": "2023-03-07T01:24:54.771Z"
   },
   {
    "duration": 8,
    "start_time": "2023-03-07T01:24:55.349Z"
   },
   {
    "duration": 5,
    "start_time": "2023-03-07T01:24:55.892Z"
   },
   {
    "duration": 14,
    "start_time": "2023-03-07T01:24:56.374Z"
   },
   {
    "duration": 10,
    "start_time": "2023-03-07T01:24:56.842Z"
   },
   {
    "duration": 10,
    "start_time": "2023-03-07T01:24:57.295Z"
   },
   {
    "duration": 8,
    "start_time": "2023-03-07T01:24:58.618Z"
   },
   {
    "duration": 7,
    "start_time": "2023-03-07T01:24:59.418Z"
   },
   {
    "duration": 8,
    "start_time": "2023-03-07T01:25:00.059Z"
   },
   {
    "duration": 6,
    "start_time": "2023-03-07T01:25:00.735Z"
   },
   {
    "duration": 6,
    "start_time": "2023-03-07T01:25:01.288Z"
   },
   {
    "duration": 6,
    "start_time": "2023-03-07T01:25:01.880Z"
   },
   {
    "duration": 5,
    "start_time": "2023-03-07T01:25:02.568Z"
   },
   {
    "duration": 8,
    "start_time": "2023-03-07T01:25:03.619Z"
   },
   {
    "duration": 14,
    "start_time": "2023-03-07T01:25:05.282Z"
   },
   {
    "duration": 12,
    "start_time": "2023-03-07T01:25:06.583Z"
   },
   {
    "duration": 12,
    "start_time": "2023-03-07T01:26:23.426Z"
   },
   {
    "duration": 4,
    "start_time": "2023-03-07T01:26:54.956Z"
   },
   {
    "duration": 5,
    "start_time": "2023-03-07T01:27:38.326Z"
   },
   {
    "duration": 264,
    "start_time": "2023-03-07T01:27:40.851Z"
   },
   {
    "duration": 184,
    "start_time": "2023-03-07T01:27:41.794Z"
   },
   {
    "duration": 172,
    "start_time": "2023-03-07T01:27:45.213Z"
   },
   {
    "duration": 254,
    "start_time": "2023-03-07T01:27:46.986Z"
   },
   {
    "duration": 197,
    "start_time": "2023-03-07T01:27:48.876Z"
   },
   {
    "duration": 334,
    "start_time": "2023-03-07T01:27:52.744Z"
   },
   {
    "duration": 137,
    "start_time": "2023-03-07T01:27:54.562Z"
   },
   {
    "duration": 4,
    "start_time": "2023-03-07T01:28:56.204Z"
   },
   {
    "duration": 5,
    "start_time": "2023-03-07T01:29:08.450Z"
   },
   {
    "duration": 160,
    "start_time": "2023-03-07T01:29:42.644Z"
   },
   {
    "duration": 6,
    "start_time": "2023-03-07T01:29:47.199Z"
   },
   {
    "duration": 141,
    "start_time": "2023-03-07T01:29:57.083Z"
   },
   {
    "duration": 141,
    "start_time": "2023-03-07T01:30:11.731Z"
   },
   {
    "duration": 4,
    "start_time": "2023-03-07T01:30:21.756Z"
   },
   {
    "duration": 327,
    "start_time": "2023-03-07T01:30:26.197Z"
   },
   {
    "duration": 10,
    "start_time": "2023-03-07T01:30:32.075Z"
   },
   {
    "duration": 11,
    "start_time": "2023-03-07T01:30:35.069Z"
   },
   {
    "duration": 7,
    "start_time": "2023-03-07T01:30:40.468Z"
   },
   {
    "duration": 21,
    "start_time": "2023-03-07T01:30:41.129Z"
   },
   {
    "duration": 13,
    "start_time": "2023-03-07T01:30:43.493Z"
   },
   {
    "duration": 1262,
    "start_time": "2023-03-07T15:51:42.846Z"
   },
   {
    "duration": 83,
    "start_time": "2023-03-07T15:51:44.111Z"
   },
   {
    "duration": 9,
    "start_time": "2023-03-07T15:51:44.196Z"
   },
   {
    "duration": 9,
    "start_time": "2023-03-07T15:51:44.207Z"
   },
   {
    "duration": 8,
    "start_time": "2023-03-07T15:51:44.218Z"
   },
   {
    "duration": 23,
    "start_time": "2023-03-07T15:51:44.228Z"
   },
   {
    "duration": 20,
    "start_time": "2023-03-07T15:51:44.253Z"
   },
   {
    "duration": 19,
    "start_time": "2023-03-07T15:51:44.275Z"
   },
   {
    "duration": 14,
    "start_time": "2023-03-07T15:51:44.296Z"
   },
   {
    "duration": 8,
    "start_time": "2023-03-07T15:51:44.314Z"
   },
   {
    "duration": 9,
    "start_time": "2023-03-07T15:51:44.324Z"
   },
   {
    "duration": 6,
    "start_time": "2023-03-07T15:51:44.335Z"
   },
   {
    "duration": 33,
    "start_time": "2023-03-07T15:51:44.343Z"
   },
   {
    "duration": 8,
    "start_time": "2023-03-07T15:51:44.378Z"
   },
   {
    "duration": 11,
    "start_time": "2023-03-07T15:51:44.387Z"
   },
   {
    "duration": 12,
    "start_time": "2023-03-07T15:51:44.400Z"
   },
   {
    "duration": 14,
    "start_time": "2023-03-07T15:51:44.414Z"
   },
   {
    "duration": 57,
    "start_time": "2023-03-07T15:51:44.430Z"
   },
   {
    "duration": 18,
    "start_time": "2023-03-07T15:51:44.489Z"
   },
   {
    "duration": 4,
    "start_time": "2023-03-07T15:51:44.508Z"
   },
   {
    "duration": 10,
    "start_time": "2023-03-07T15:51:44.513Z"
   },
   {
    "duration": 399,
    "start_time": "2023-03-07T15:51:44.525Z"
   },
   {
    "duration": 329,
    "start_time": "2023-03-07T15:51:44.926Z"
   },
   {
    "duration": 228,
    "start_time": "2023-03-07T15:51:45.257Z"
   },
   {
    "duration": 374,
    "start_time": "2023-03-07T15:51:45.487Z"
   },
   {
    "duration": 348,
    "start_time": "2023-03-07T15:51:45.862Z"
   },
   {
    "duration": 0,
    "start_time": "2023-03-07T15:51:46.212Z"
   },
   {
    "duration": 0,
    "start_time": "2023-03-07T15:51:46.214Z"
   },
   {
    "duration": 0,
    "start_time": "2023-03-07T15:51:46.215Z"
   },
   {
    "duration": 0,
    "start_time": "2023-03-07T15:51:46.217Z"
   },
   {
    "duration": 0,
    "start_time": "2023-03-07T15:51:46.218Z"
   },
   {
    "duration": 0,
    "start_time": "2023-03-07T15:51:46.219Z"
   },
   {
    "duration": 0,
    "start_time": "2023-03-07T15:51:46.220Z"
   },
   {
    "duration": 0,
    "start_time": "2023-03-07T15:51:46.222Z"
   },
   {
    "duration": 0,
    "start_time": "2023-03-07T15:51:46.223Z"
   },
   {
    "duration": 0,
    "start_time": "2023-03-07T15:51:46.223Z"
   },
   {
    "duration": 0,
    "start_time": "2023-03-07T15:51:46.224Z"
   },
   {
    "duration": 0,
    "start_time": "2023-03-07T15:51:46.226Z"
   },
   {
    "duration": 0,
    "start_time": "2023-03-07T15:51:46.227Z"
   },
   {
    "duration": 358,
    "start_time": "2023-03-07T15:53:51.541Z"
   },
   {
    "duration": 0,
    "start_time": "2023-03-07T15:53:51.901Z"
   },
   {
    "duration": 0,
    "start_time": "2023-03-07T15:53:51.903Z"
   },
   {
    "duration": 0,
    "start_time": "2023-03-07T15:53:51.904Z"
   },
   {
    "duration": 0,
    "start_time": "2023-03-07T15:53:51.905Z"
   },
   {
    "duration": 0,
    "start_time": "2023-03-07T15:53:51.906Z"
   },
   {
    "duration": 0,
    "start_time": "2023-03-07T15:53:51.908Z"
   },
   {
    "duration": 0,
    "start_time": "2023-03-07T15:53:51.909Z"
   },
   {
    "duration": 0,
    "start_time": "2023-03-07T15:53:51.910Z"
   },
   {
    "duration": 0,
    "start_time": "2023-03-07T15:53:51.911Z"
   },
   {
    "duration": 0,
    "start_time": "2023-03-07T15:53:51.912Z"
   },
   {
    "duration": 0,
    "start_time": "2023-03-07T15:53:51.913Z"
   },
   {
    "duration": 0,
    "start_time": "2023-03-07T15:53:51.914Z"
   },
   {
    "duration": 179,
    "start_time": "2023-03-07T15:54:00.310Z"
   },
   {
    "duration": 5,
    "start_time": "2023-03-07T15:54:00.492Z"
   },
   {
    "duration": 266,
    "start_time": "2023-03-07T15:54:00.499Z"
   },
   {
    "duration": 11,
    "start_time": "2023-03-07T15:54:00.767Z"
   },
   {
    "duration": 311,
    "start_time": "2023-03-07T15:54:00.781Z"
   },
   {
    "duration": 5,
    "start_time": "2023-03-07T15:54:01.095Z"
   },
   {
    "duration": 429,
    "start_time": "2023-03-07T15:54:01.102Z"
   },
   {
    "duration": 12,
    "start_time": "2023-03-07T15:54:01.534Z"
   },
   {
    "duration": 51,
    "start_time": "2023-03-07T15:54:01.548Z"
   },
   {
    "duration": 83,
    "start_time": "2023-03-07T15:54:01.601Z"
   },
   {
    "duration": 58,
    "start_time": "2023-03-07T15:54:01.685Z"
   },
   {
    "duration": 24,
    "start_time": "2023-03-07T15:54:01.745Z"
   },
   {
    "duration": 1309,
    "start_time": "2023-03-08T00:16:39.562Z"
   },
   {
    "duration": 247,
    "start_time": "2023-03-08T00:16:40.873Z"
   },
   {
    "duration": 7,
    "start_time": "2023-03-08T00:16:41.121Z"
   },
   {
    "duration": 10,
    "start_time": "2023-03-08T00:16:41.130Z"
   },
   {
    "duration": 7,
    "start_time": "2023-03-08T00:16:41.142Z"
   },
   {
    "duration": 17,
    "start_time": "2023-03-08T00:16:41.150Z"
   },
   {
    "duration": 16,
    "start_time": "2023-03-08T00:16:41.169Z"
   },
   {
    "duration": 14,
    "start_time": "2023-03-08T00:16:41.187Z"
   },
   {
    "duration": 10,
    "start_time": "2023-03-08T00:16:41.202Z"
   },
   {
    "duration": 12,
    "start_time": "2023-03-08T00:16:41.213Z"
   },
   {
    "duration": 8,
    "start_time": "2023-03-08T00:16:41.226Z"
   },
   {
    "duration": 22,
    "start_time": "2023-03-08T00:16:41.235Z"
   },
   {
    "duration": 19,
    "start_time": "2023-03-08T00:16:41.258Z"
   },
   {
    "duration": 20,
    "start_time": "2023-03-08T00:16:41.279Z"
   },
   {
    "duration": 6,
    "start_time": "2023-03-08T00:16:41.301Z"
   },
   {
    "duration": 12,
    "start_time": "2023-03-08T00:16:41.308Z"
   },
   {
    "duration": 11,
    "start_time": "2023-03-08T00:16:41.322Z"
   },
   {
    "duration": 11,
    "start_time": "2023-03-08T00:16:41.335Z"
   },
   {
    "duration": 14,
    "start_time": "2023-03-08T00:16:41.348Z"
   },
   {
    "duration": 18,
    "start_time": "2023-03-08T00:16:41.363Z"
   },
   {
    "duration": 5,
    "start_time": "2023-03-08T00:16:41.383Z"
   },
   {
    "duration": 258,
    "start_time": "2023-03-08T00:16:41.390Z"
   },
   {
    "duration": 287,
    "start_time": "2023-03-08T00:16:41.650Z"
   },
   {
    "duration": 179,
    "start_time": "2023-03-08T00:16:41.938Z"
   },
   {
    "duration": 333,
    "start_time": "2023-03-08T00:16:42.119Z"
   },
   {
    "duration": 285,
    "start_time": "2023-03-08T00:16:42.454Z"
   },
   {
    "duration": 0,
    "start_time": "2023-03-08T00:16:42.741Z"
   },
   {
    "duration": 0,
    "start_time": "2023-03-08T00:16:42.742Z"
   },
   {
    "duration": 0,
    "start_time": "2023-03-08T00:16:42.744Z"
   },
   {
    "duration": 0,
    "start_time": "2023-03-08T00:16:42.745Z"
   },
   {
    "duration": 0,
    "start_time": "2023-03-08T00:16:42.747Z"
   },
   {
    "duration": 0,
    "start_time": "2023-03-08T00:16:42.748Z"
   },
   {
    "duration": 1,
    "start_time": "2023-03-08T00:16:42.749Z"
   },
   {
    "duration": 0,
    "start_time": "2023-03-08T00:16:42.751Z"
   },
   {
    "duration": 0,
    "start_time": "2023-03-08T00:16:42.752Z"
   },
   {
    "duration": 0,
    "start_time": "2023-03-08T00:16:42.753Z"
   },
   {
    "duration": 0,
    "start_time": "2023-03-08T00:16:42.755Z"
   },
   {
    "duration": 0,
    "start_time": "2023-03-08T00:16:42.780Z"
   },
   {
    "duration": 0,
    "start_time": "2023-03-08T00:16:42.781Z"
   },
   {
    "duration": 3,
    "start_time": "2023-03-08T00:18:07.907Z"
   },
   {
    "duration": 8,
    "start_time": "2023-03-08T00:18:12.795Z"
   },
   {
    "duration": 4,
    "start_time": "2023-03-08T00:19:08.565Z"
   },
   {
    "duration": 161,
    "start_time": "2023-03-08T00:19:32.604Z"
   },
   {
    "duration": 278,
    "start_time": "2023-03-08T01:28:11.707Z"
   },
   {
    "duration": 0,
    "start_time": "2023-03-08T01:28:11.987Z"
   },
   {
    "duration": 0,
    "start_time": "2023-03-08T01:28:11.988Z"
   },
   {
    "duration": 0,
    "start_time": "2023-03-08T01:28:11.989Z"
   },
   {
    "duration": 0,
    "start_time": "2023-03-08T01:28:11.990Z"
   },
   {
    "duration": 0,
    "start_time": "2023-03-08T01:28:11.990Z"
   },
   {
    "duration": 0,
    "start_time": "2023-03-08T01:28:11.991Z"
   },
   {
    "duration": 0,
    "start_time": "2023-03-08T01:28:11.992Z"
   },
   {
    "duration": 0,
    "start_time": "2023-03-08T01:28:11.993Z"
   },
   {
    "duration": 0,
    "start_time": "2023-03-08T01:28:11.994Z"
   },
   {
    "duration": 0,
    "start_time": "2023-03-08T01:28:11.994Z"
   },
   {
    "duration": 0,
    "start_time": "2023-03-08T01:28:11.995Z"
   },
   {
    "duration": 0,
    "start_time": "2023-03-08T01:28:11.996Z"
   },
   {
    "duration": 138,
    "start_time": "2023-03-08T01:28:35.818Z"
   },
   {
    "duration": 7,
    "start_time": "2023-03-08T01:28:35.958Z"
   },
   {
    "duration": 255,
    "start_time": "2023-03-08T01:28:35.966Z"
   },
   {
    "duration": 6,
    "start_time": "2023-03-08T01:28:36.223Z"
   },
   {
    "duration": 156,
    "start_time": "2023-03-08T01:28:36.230Z"
   },
   {
    "duration": 3,
    "start_time": "2023-03-08T01:28:36.388Z"
   },
   {
    "duration": 329,
    "start_time": "2023-03-08T01:28:36.392Z"
   },
   {
    "duration": 8,
    "start_time": "2023-03-08T01:28:36.723Z"
   },
   {
    "duration": 7,
    "start_time": "2023-03-08T01:28:36.732Z"
   },
   {
    "duration": 6,
    "start_time": "2023-03-08T01:28:36.741Z"
   },
   {
    "duration": 40,
    "start_time": "2023-03-08T01:28:36.748Z"
   },
   {
    "duration": 11,
    "start_time": "2023-03-08T01:28:36.790Z"
   },
   {
    "duration": 1576,
    "start_time": "2023-03-08T06:55:03.076Z"
   },
   {
    "duration": 199,
    "start_time": "2023-03-08T06:55:04.654Z"
   },
   {
    "duration": 10,
    "start_time": "2023-03-08T06:55:04.855Z"
   },
   {
    "duration": 22,
    "start_time": "2023-03-08T06:55:04.867Z"
   },
   {
    "duration": 29,
    "start_time": "2023-03-08T06:55:04.892Z"
   },
   {
    "duration": 20,
    "start_time": "2023-03-08T06:55:04.923Z"
   },
   {
    "duration": 13,
    "start_time": "2023-03-08T06:55:05.086Z"
   },
   {
    "duration": 11,
    "start_time": "2023-03-08T06:55:05.348Z"
   },
   {
    "duration": 7,
    "start_time": "2023-03-08T06:55:05.853Z"
   },
   {
    "duration": 7,
    "start_time": "2023-03-08T06:55:06.104Z"
   },
   {
    "duration": 9,
    "start_time": "2023-03-08T06:55:06.369Z"
   },
   {
    "duration": 6,
    "start_time": "2023-03-08T06:55:06.646Z"
   },
   {
    "duration": 9,
    "start_time": "2023-03-08T06:55:06.892Z"
   },
   {
    "duration": 8,
    "start_time": "2023-03-08T06:55:07.173Z"
   },
   {
    "duration": 6,
    "start_time": "2023-03-08T06:55:07.690Z"
   },
   {
    "duration": 12,
    "start_time": "2023-03-08T06:55:08.670Z"
   },
   {
    "duration": 12,
    "start_time": "2023-03-08T06:55:09.980Z"
   },
   {
    "duration": 13,
    "start_time": "2023-03-08T06:55:11.345Z"
   },
   {
    "duration": 14,
    "start_time": "2023-03-08T06:55:13.739Z"
   },
   {
    "duration": 5,
    "start_time": "2023-03-08T06:55:14.404Z"
   },
   {
    "duration": 7,
    "start_time": "2023-03-08T06:55:15.693Z"
   },
   {
    "duration": 325,
    "start_time": "2023-03-08T06:55:16.720Z"
   },
   {
    "duration": 335,
    "start_time": "2023-03-08T06:55:17.170Z"
   },
   {
    "duration": 243,
    "start_time": "2023-03-08T06:55:24.364Z"
   },
   {
    "duration": 419,
    "start_time": "2023-03-08T06:55:26.948Z"
   },
   {
    "duration": 333,
    "start_time": "2023-03-08T06:55:29.809Z"
   },
   {
    "duration": 315,
    "start_time": "2023-03-08T06:57:25.907Z"
   },
   {
    "duration": 341,
    "start_time": "2023-03-08T06:57:45.176Z"
   },
   {
    "duration": 364,
    "start_time": "2023-03-08T07:00:30.348Z"
   },
   {
    "duration": 12,
    "start_time": "2023-03-08T07:06:52.510Z"
   },
   {
    "duration": 4,
    "start_time": "2023-03-08T07:07:05.693Z"
   },
   {
    "duration": 13,
    "start_time": "2023-03-08T07:07:10.687Z"
   },
   {
    "duration": 15,
    "start_time": "2023-03-08T07:07:20.855Z"
   },
   {
    "duration": 12,
    "start_time": "2023-03-08T07:07:22.318Z"
   },
   {
    "duration": 10,
    "start_time": "2023-03-08T07:07:30.944Z"
   },
   {
    "duration": 4,
    "start_time": "2023-03-08T07:07:33.954Z"
   },
   {
    "duration": 4,
    "start_time": "2023-03-08T07:07:36.427Z"
   },
   {
    "duration": 293,
    "start_time": "2023-03-08T07:07:38.109Z"
   },
   {
    "duration": 341,
    "start_time": "2023-03-08T07:07:40.668Z"
   },
   {
    "duration": 222,
    "start_time": "2023-03-08T07:07:50.375Z"
   },
   {
    "duration": 371,
    "start_time": "2023-03-08T07:08:01.858Z"
   },
   {
    "duration": 208,
    "start_time": "2023-03-08T07:08:07.849Z"
   },
   {
    "duration": 249,
    "start_time": "2023-03-08T07:19:09.460Z"
   },
   {
    "duration": 220,
    "start_time": "2023-03-08T07:24:40.533Z"
   },
   {
    "duration": 252,
    "start_time": "2023-03-08T07:25:20.669Z"
   },
   {
    "duration": 246,
    "start_time": "2023-03-08T07:26:36.053Z"
   },
   {
    "duration": 5,
    "start_time": "2023-03-08T07:27:13.064Z"
   },
   {
    "duration": 223,
    "start_time": "2023-03-08T07:27:29.145Z"
   },
   {
    "duration": 219,
    "start_time": "2023-03-08T07:27:54.039Z"
   },
   {
    "duration": 241,
    "start_time": "2023-03-08T07:28:17.026Z"
   },
   {
    "duration": 296,
    "start_time": "2023-03-08T07:29:20.400Z"
   },
   {
    "duration": 4,
    "start_time": "2023-03-08T07:29:32.463Z"
   },
   {
    "duration": 85,
    "start_time": "2023-03-08T07:29:33.164Z"
   },
   {
    "duration": 8,
    "start_time": "2023-03-08T07:29:33.735Z"
   },
   {
    "duration": 8,
    "start_time": "2023-03-08T07:29:34.725Z"
   },
   {
    "duration": 5,
    "start_time": "2023-03-08T07:29:35.641Z"
   },
   {
    "duration": 11,
    "start_time": "2023-03-08T07:29:36.936Z"
   },
   {
    "duration": 11,
    "start_time": "2023-03-08T07:29:37.703Z"
   },
   {
    "duration": 12,
    "start_time": "2023-03-08T07:29:38.425Z"
   },
   {
    "duration": 15,
    "start_time": "2023-03-08T07:29:45.500Z"
   },
   {
    "duration": 6,
    "start_time": "2023-03-08T07:29:50.036Z"
   },
   {
    "duration": 7,
    "start_time": "2023-03-08T07:29:50.694Z"
   },
   {
    "duration": 6,
    "start_time": "2023-03-08T07:29:51.152Z"
   },
   {
    "duration": 6,
    "start_time": "2023-03-08T07:29:51.604Z"
   },
   {
    "duration": 6,
    "start_time": "2023-03-08T07:29:52.064Z"
   },
   {
    "duration": 8,
    "start_time": "2023-03-08T07:29:52.533Z"
   },
   {
    "duration": 12,
    "start_time": "2023-03-08T07:29:53.563Z"
   },
   {
    "duration": 3,
    "start_time": "2023-03-08T07:29:53.813Z"
   },
   {
    "duration": 12,
    "start_time": "2023-03-08T07:29:55.104Z"
   },
   {
    "duration": 13,
    "start_time": "2023-03-08T07:29:55.583Z"
   },
   {
    "duration": 16,
    "start_time": "2023-03-08T07:29:56.689Z"
   },
   {
    "duration": 4,
    "start_time": "2023-03-08T07:29:56.953Z"
   },
   {
    "duration": 5,
    "start_time": "2023-03-08T07:29:57.386Z"
   },
   {
    "duration": 289,
    "start_time": "2023-03-08T07:29:57.923Z"
   },
   {
    "duration": 248,
    "start_time": "2023-03-08T07:29:58.214Z"
   },
   {
    "duration": 308,
    "start_time": "2023-03-08T07:29:59.690Z"
   },
   {
    "duration": 230,
    "start_time": "2023-03-08T07:30:10.125Z"
   },
   {
    "duration": 238,
    "start_time": "2023-03-08T07:31:41.422Z"
   },
   {
    "duration": 231,
    "start_time": "2023-03-08T07:32:17.172Z"
   },
   {
    "duration": 214,
    "start_time": "2023-03-08T07:33:04.500Z"
   },
   {
    "duration": 363,
    "start_time": "2023-03-08T07:33:43.257Z"
   },
   {
    "duration": 382,
    "start_time": "2023-03-08T07:34:19.466Z"
   },
   {
    "duration": 218,
    "start_time": "2023-03-08T07:35:40.433Z"
   },
   {
    "duration": 337,
    "start_time": "2023-03-08T07:37:29.903Z"
   },
   {
    "duration": 169,
    "start_time": "2023-03-08T07:39:03.493Z"
   },
   {
    "duration": 210,
    "start_time": "2023-03-08T07:39:11.570Z"
   },
   {
    "duration": 9,
    "start_time": "2023-03-08T07:39:15.479Z"
   },
   {
    "duration": 292,
    "start_time": "2023-03-08T07:39:17.462Z"
   },
   {
    "duration": 6,
    "start_time": "2023-03-08T07:39:20.297Z"
   },
   {
    "duration": 410,
    "start_time": "2023-03-08T07:58:16.666Z"
   },
   {
    "duration": 17,
    "start_time": "2023-03-08T08:02:14.191Z"
   },
   {
    "duration": 4,
    "start_time": "2023-03-08T08:05:37.285Z"
   },
   {
    "duration": 84,
    "start_time": "2023-03-08T08:05:38.513Z"
   },
   {
    "duration": 8,
    "start_time": "2023-03-08T08:05:43.350Z"
   },
   {
    "duration": 8,
    "start_time": "2023-03-08T08:05:43.858Z"
   },
   {
    "duration": 4,
    "start_time": "2023-03-08T08:05:47.994Z"
   },
   {
    "duration": 12,
    "start_time": "2023-03-08T08:05:49.507Z"
   },
   {
    "duration": 19,
    "start_time": "2023-03-08T08:05:50.683Z"
   },
   {
    "duration": 11,
    "start_time": "2023-03-08T08:05:53.051Z"
   },
   {
    "duration": 4,
    "start_time": "2023-03-08T08:06:09.418Z"
   },
   {
    "duration": 13,
    "start_time": "2023-03-08T08:06:10.258Z"
   },
   {
    "duration": 5,
    "start_time": "2023-03-08T08:06:15.504Z"
   },
   {
    "duration": 6,
    "start_time": "2023-03-08T08:06:16.231Z"
   },
   {
    "duration": 6,
    "start_time": "2023-03-08T08:06:16.975Z"
   },
   {
    "duration": 7,
    "start_time": "2023-03-08T08:06:17.903Z"
   },
   {
    "duration": 7,
    "start_time": "2023-03-08T08:06:18.615Z"
   },
   {
    "duration": 6,
    "start_time": "2023-03-08T08:06:19.114Z"
   },
   {
    "duration": 11,
    "start_time": "2023-03-08T08:06:29.139Z"
   },
   {
    "duration": 3,
    "start_time": "2023-03-08T08:06:30.372Z"
   },
   {
    "duration": 12,
    "start_time": "2023-03-08T08:06:40.150Z"
   },
   {
    "duration": 12,
    "start_time": "2023-03-08T08:06:42.889Z"
   },
   {
    "duration": 14,
    "start_time": "2023-03-08T08:06:47.956Z"
   },
   {
    "duration": 4,
    "start_time": "2023-03-08T08:06:49.178Z"
   },
   {
    "duration": 4,
    "start_time": "2023-03-08T08:06:52.336Z"
   },
   {
    "duration": 16,
    "start_time": "2023-03-08T08:07:50.520Z"
   },
   {
    "duration": 4,
    "start_time": "2023-03-08T08:07:51.448Z"
   },
   {
    "duration": 5,
    "start_time": "2023-03-08T08:07:53.427Z"
   },
   {
    "duration": 297,
    "start_time": "2023-03-08T08:07:56.595Z"
   },
   {
    "duration": 240,
    "start_time": "2023-03-08T08:07:57.299Z"
   },
   {
    "duration": 213,
    "start_time": "2023-03-08T08:08:06.413Z"
   },
   {
    "duration": 224,
    "start_time": "2023-03-08T08:08:10.976Z"
   },
   {
    "duration": 326,
    "start_time": "2023-03-08T08:08:14.656Z"
   },
   {
    "duration": 205,
    "start_time": "2023-03-08T08:08:22.038Z"
   },
   {
    "duration": 393,
    "start_time": "2023-03-08T08:08:57.261Z"
   },
   {
    "duration": 163,
    "start_time": "2023-03-08T08:09:21.150Z"
   },
   {
    "duration": 5,
    "start_time": "2023-03-08T08:09:30.854Z"
   },
   {
    "duration": 199,
    "start_time": "2023-03-08T08:09:33.802Z"
   },
   {
    "duration": 6,
    "start_time": "2023-03-08T08:09:37.798Z"
   },
   {
    "duration": 159,
    "start_time": "2023-03-08T08:09:39.069Z"
   },
   {
    "duration": 169,
    "start_time": "2023-03-08T08:10:21.242Z"
   },
   {
    "duration": 4,
    "start_time": "2023-03-08T08:10:23.866Z"
   },
   {
    "duration": 397,
    "start_time": "2023-03-08T08:13:11.775Z"
   },
   {
    "duration": 11,
    "start_time": "2023-03-08T08:13:37.417Z"
   },
   {
    "duration": 12,
    "start_time": "2023-03-08T08:13:52.845Z"
   },
   {
    "duration": 10,
    "start_time": "2023-03-08T08:14:01.241Z"
   },
   {
    "duration": 27,
    "start_time": "2023-03-08T08:14:23.382Z"
   },
   {
    "duration": 14,
    "start_time": "2023-03-08T08:14:53.756Z"
   },
   {
    "duration": 25,
    "start_time": "2023-03-08T08:19:16.580Z"
   },
   {
    "duration": 15,
    "start_time": "2023-03-08T08:19:31.975Z"
   },
   {
    "duration": 51,
    "start_time": "2023-04-22T13:27:37.256Z"
   },
   {
    "duration": 1340,
    "start_time": "2023-04-22T13:27:46.921Z"
   },
   {
    "duration": 193,
    "start_time": "2023-04-22T13:27:48.263Z"
   },
   {
    "duration": 8,
    "start_time": "2023-04-22T13:27:48.458Z"
   },
   {
    "duration": 13,
    "start_time": "2023-04-22T13:27:48.468Z"
   },
   {
    "duration": 10,
    "start_time": "2023-04-22T13:27:48.482Z"
   },
   {
    "duration": 16,
    "start_time": "2023-04-22T13:27:48.493Z"
   },
   {
    "duration": 29,
    "start_time": "2023-04-22T13:27:48.511Z"
   },
   {
    "duration": 15,
    "start_time": "2023-04-22T13:27:48.542Z"
   },
   {
    "duration": 4,
    "start_time": "2023-04-22T13:27:48.919Z"
   },
   {
    "duration": 20,
    "start_time": "2023-04-22T13:27:49.134Z"
   },
   {
    "duration": 8,
    "start_time": "2023-04-22T13:27:49.799Z"
   },
   {
    "duration": 23,
    "start_time": "2023-04-22T13:27:49.809Z"
   },
   {
    "duration": 7,
    "start_time": "2023-04-22T13:27:49.834Z"
   },
   {
    "duration": 7,
    "start_time": "2023-04-22T13:27:49.990Z"
   },
   {
    "duration": 8,
    "start_time": "2023-04-22T13:27:50.172Z"
   },
   {
    "duration": 8,
    "start_time": "2023-04-22T13:27:50.380Z"
   },
   {
    "duration": 12,
    "start_time": "2023-04-22T13:27:51.382Z"
   },
   {
    "duration": 3,
    "start_time": "2023-04-22T13:27:51.588Z"
   },
   {
    "duration": 12,
    "start_time": "2023-04-22T13:27:52.410Z"
   },
   {
    "duration": 11,
    "start_time": "2023-04-22T13:27:52.813Z"
   },
   {
    "duration": 15,
    "start_time": "2023-04-22T13:27:53.712Z"
   },
   {
    "duration": 5,
    "start_time": "2023-04-22T13:27:53.937Z"
   },
   {
    "duration": 4,
    "start_time": "2023-04-22T13:27:54.445Z"
   },
   {
    "duration": 309,
    "start_time": "2023-04-22T13:27:54.899Z"
   },
   {
    "duration": 287,
    "start_time": "2023-04-22T13:27:55.210Z"
   },
   {
    "duration": 186,
    "start_time": "2023-04-22T13:27:56.282Z"
   },
   {
    "duration": 368,
    "start_time": "2023-04-22T13:27:57.746Z"
   },
   {
    "duration": 232,
    "start_time": "2023-04-22T13:27:58.894Z"
   },
   {
    "duration": 356,
    "start_time": "2023-04-22T13:28:02.944Z"
   },
   {
    "duration": 66,
    "start_time": "2023-04-22T13:43:52.492Z"
   },
   {
    "duration": 15,
    "start_time": "2023-04-22T13:43:55.728Z"
   },
   {
    "duration": 13,
    "start_time": "2023-04-22T13:43:58.338Z"
   },
   {
    "duration": 4,
    "start_time": "2023-04-22T13:44:20.620Z"
   },
   {
    "duration": 88,
    "start_time": "2023-04-22T13:44:20.637Z"
   },
   {
    "duration": 12,
    "start_time": "2023-04-22T13:44:20.728Z"
   },
   {
    "duration": 40,
    "start_time": "2023-04-22T13:44:20.743Z"
   },
   {
    "duration": 16,
    "start_time": "2023-04-22T13:44:20.785Z"
   },
   {
    "duration": 21,
    "start_time": "2023-04-22T13:44:20.804Z"
   },
   {
    "duration": 41,
    "start_time": "2023-04-22T13:44:20.827Z"
   },
   {
    "duration": 15,
    "start_time": "2023-04-22T13:44:20.870Z"
   },
   {
    "duration": 36,
    "start_time": "2023-04-22T13:44:20.887Z"
   },
   {
    "duration": 33,
    "start_time": "2023-04-22T13:44:20.924Z"
   },
   {
    "duration": 45,
    "start_time": "2023-04-22T13:44:20.959Z"
   },
   {
    "duration": 22,
    "start_time": "2023-04-22T13:44:21.005Z"
   },
   {
    "duration": 25,
    "start_time": "2023-04-22T13:44:21.029Z"
   },
   {
    "duration": 18,
    "start_time": "2023-04-22T13:44:21.056Z"
   },
   {
    "duration": 11,
    "start_time": "2023-04-22T13:44:21.077Z"
   },
   {
    "duration": 17,
    "start_time": "2023-04-22T13:44:21.089Z"
   },
   {
    "duration": 15,
    "start_time": "2023-04-22T13:44:21.107Z"
   },
   {
    "duration": 13,
    "start_time": "2023-04-22T13:44:21.124Z"
   },
   {
    "duration": 17,
    "start_time": "2023-04-22T13:44:21.139Z"
   },
   {
    "duration": 24,
    "start_time": "2023-04-22T13:44:21.158Z"
   },
   {
    "duration": 19,
    "start_time": "2023-04-22T13:44:21.184Z"
   },
   {
    "duration": 4,
    "start_time": "2023-04-22T13:44:21.204Z"
   },
   {
    "duration": 9,
    "start_time": "2023-04-22T13:44:21.209Z"
   },
   {
    "duration": 286,
    "start_time": "2023-04-22T13:44:21.219Z"
   },
   {
    "duration": 234,
    "start_time": "2023-04-22T13:44:21.507Z"
   },
   {
    "duration": 293,
    "start_time": "2023-04-22T13:44:21.742Z"
   },
   {
    "duration": 400,
    "start_time": "2023-04-22T13:44:22.037Z"
   },
   {
    "duration": 272,
    "start_time": "2023-04-22T13:44:22.440Z"
   },
   {
    "duration": 360,
    "start_time": "2023-04-22T13:44:22.714Z"
   },
   {
    "duration": 168,
    "start_time": "2023-04-22T13:44:23.076Z"
   },
   {
    "duration": 6,
    "start_time": "2023-04-22T13:44:23.246Z"
   },
   {
    "duration": 316,
    "start_time": "2023-04-22T13:44:23.254Z"
   },
   {
    "duration": 14,
    "start_time": "2023-04-22T13:44:23.572Z"
   },
   {
    "duration": 193,
    "start_time": "2023-04-22T13:44:23.588Z"
   },
   {
    "duration": 5,
    "start_time": "2023-04-22T13:44:23.783Z"
   },
   {
    "duration": 524,
    "start_time": "2023-04-22T13:44:23.790Z"
   },
   {
    "duration": 13,
    "start_time": "2023-04-22T13:44:24.316Z"
   },
   {
    "duration": 38,
    "start_time": "2023-04-22T13:44:24.331Z"
   },
   {
    "duration": 34,
    "start_time": "2023-04-22T13:44:24.371Z"
   },
   {
    "duration": 46,
    "start_time": "2023-04-22T13:44:24.407Z"
   },
   {
    "duration": 34,
    "start_time": "2023-04-22T13:44:24.455Z"
   }
  ],
  "kernelspec": {
   "display_name": "Python 3 (ipykernel)",
   "language": "python",
   "name": "python3"
  },
  "language_info": {
   "codemirror_mode": {
    "name": "ipython",
    "version": 3
   },
   "file_extension": ".py",
   "mimetype": "text/x-python",
   "name": "python",
   "nbconvert_exporter": "python",
   "pygments_lexer": "ipython3",
   "version": "3.10.4"
  },
  "toc": {
   "base_numbering": 1,
   "nav_menu": {},
   "number_sections": true,
   "sideBar": true,
   "skip_h1_title": true,
   "title_cell": "Table of Contents",
   "title_sidebar": "Contents",
   "toc_cell": false,
   "toc_position": {},
   "toc_section_display": true,
   "toc_window_display": false
  }
 },
 "nbformat": 4,
 "nbformat_minor": 2
}

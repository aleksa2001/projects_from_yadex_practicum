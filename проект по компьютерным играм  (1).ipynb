{
 "cells": [
  {
   "cell_type": "markdown",
   "metadata": {},
   "source": [
    "<div class=\"alert alert-block alert-info\">\n",
    "<b>Описание проекта</b></div>"
   ]
  },
  {
   "cell_type": "markdown",
   "metadata": {},
   "source": [
    "<div class=\"alert alert-block alert-info\"> Даны данные Интернет-магазина «Стримчик», который продаёт по всему миру компьютерные игры. Доступны исторические данные о продажах игр, оценки пользователей и экспертов, жанры и платформы (например, Xbox или PlayStation). Нам нужно выявить определяющие успешность игры закономерности. Это позволит сделать ставку на потенциально популярный продукт и спланировать рекламные кампании.\n",
    "\n",
    "Перед нами данные до 2016 года. Представим, что сейчас декабрь 2016 г., и мы планируем кампанию на 2017-й. \n",
    "\n",
    "В наборе данных попадается аббревиатура ESRB (Entertainment Software Rating Board) — это ассоциация, определяющая возрастной рейтинг компьютерных игр. ESRB оценивает игровой контент и присваивает ему подходящую возрастную категорию, например, «Для взрослых», «Для детей младшего возраста» или «Для подростков».</div>\n"
   ]
  },
  {
   "cell_type": "markdown",
   "metadata": {},
   "source": [
    "<div class=\"alert alert-block alert-info\"> \n",
    "План: \n",
    "    \n",
    "1) Изучить общую информацию\n",
    "\n",
    "2) Подготовить данные\n",
    "\n",
    "3) Провести исследовательский анализ данных\n",
    "\n",
    "4) Составить портрет пользователя каждого региона\n",
    "\n",
    "5) Проверить гипотезы\n",
    "\n",
    "6) Написать общий вывод</div>"
   ]
  },
  {
   "cell_type": "markdown",
   "metadata": {},
   "source": [
    "<b> ШАГ 1 </b>"
   ]
  },
  {
   "cell_type": "code",
   "execution_count": 2,
   "metadata": {},
   "outputs": [],
   "source": [
    "import pandas as pd\n",
    "import seaborn as sns\n",
    "import matplotlib.pyplot as plt\n",
    "import numpy as np\n",
    "from scipy import stats as st\n"
   ]
  },
  {
   "cell_type": "code",
   "execution_count": 4,
   "metadata": {},
   "outputs": [
    {
     "data": {
      "text/html": [
       "<div>\n",
       "<style scoped>\n",
       "    .dataframe tbody tr th:only-of-type {\n",
       "        vertical-align: middle;\n",
       "    }\n",
       "\n",
       "    .dataframe tbody tr th {\n",
       "        vertical-align: top;\n",
       "    }\n",
       "\n",
       "    .dataframe thead th {\n",
       "        text-align: right;\n",
       "    }\n",
       "</style>\n",
       "<table border=\"1\" class=\"dataframe\">\n",
       "  <thead>\n",
       "    <tr style=\"text-align: right;\">\n",
       "      <th></th>\n",
       "      <th>Name</th>\n",
       "      <th>Platform</th>\n",
       "      <th>Year_of_Release</th>\n",
       "      <th>Genre</th>\n",
       "      <th>NA_sales</th>\n",
       "      <th>EU_sales</th>\n",
       "      <th>JP_sales</th>\n",
       "      <th>Other_sales</th>\n",
       "      <th>Critic_Score</th>\n",
       "      <th>User_Score</th>\n",
       "      <th>Rating</th>\n",
       "    </tr>\n",
       "  </thead>\n",
       "  <tbody>\n",
       "    <tr>\n",
       "      <th>0</th>\n",
       "      <td>Wii Sports</td>\n",
       "      <td>Wii</td>\n",
       "      <td>2006.0</td>\n",
       "      <td>Sports</td>\n",
       "      <td>41.36</td>\n",
       "      <td>28.96</td>\n",
       "      <td>3.77</td>\n",
       "      <td>8.45</td>\n",
       "      <td>76.0</td>\n",
       "      <td>8</td>\n",
       "      <td>E</td>\n",
       "    </tr>\n",
       "    <tr>\n",
       "      <th>1</th>\n",
       "      <td>Super Mario Bros.</td>\n",
       "      <td>NES</td>\n",
       "      <td>1985.0</td>\n",
       "      <td>Platform</td>\n",
       "      <td>29.08</td>\n",
       "      <td>3.58</td>\n",
       "      <td>6.81</td>\n",
       "      <td>0.77</td>\n",
       "      <td>NaN</td>\n",
       "      <td>NaN</td>\n",
       "      <td>NaN</td>\n",
       "    </tr>\n",
       "    <tr>\n",
       "      <th>2</th>\n",
       "      <td>Mario Kart Wii</td>\n",
       "      <td>Wii</td>\n",
       "      <td>2008.0</td>\n",
       "      <td>Racing</td>\n",
       "      <td>15.68</td>\n",
       "      <td>12.76</td>\n",
       "      <td>3.79</td>\n",
       "      <td>3.29</td>\n",
       "      <td>82.0</td>\n",
       "      <td>8.3</td>\n",
       "      <td>E</td>\n",
       "    </tr>\n",
       "    <tr>\n",
       "      <th>3</th>\n",
       "      <td>Wii Sports Resort</td>\n",
       "      <td>Wii</td>\n",
       "      <td>2009.0</td>\n",
       "      <td>Sports</td>\n",
       "      <td>15.61</td>\n",
       "      <td>10.93</td>\n",
       "      <td>3.28</td>\n",
       "      <td>2.95</td>\n",
       "      <td>80.0</td>\n",
       "      <td>8</td>\n",
       "      <td>E</td>\n",
       "    </tr>\n",
       "    <tr>\n",
       "      <th>4</th>\n",
       "      <td>Pokemon Red/Pokemon Blue</td>\n",
       "      <td>GB</td>\n",
       "      <td>1996.0</td>\n",
       "      <td>Role-Playing</td>\n",
       "      <td>11.27</td>\n",
       "      <td>8.89</td>\n",
       "      <td>10.22</td>\n",
       "      <td>1.00</td>\n",
       "      <td>NaN</td>\n",
       "      <td>NaN</td>\n",
       "      <td>NaN</td>\n",
       "    </tr>\n",
       "  </tbody>\n",
       "</table>\n",
       "</div>"
      ],
      "text/plain": [
       "                       Name Platform  Year_of_Release         Genre  NA_sales  \\\n",
       "0                Wii Sports      Wii           2006.0        Sports     41.36   \n",
       "1         Super Mario Bros.      NES           1985.0      Platform     29.08   \n",
       "2            Mario Kart Wii      Wii           2008.0        Racing     15.68   \n",
       "3         Wii Sports Resort      Wii           2009.0        Sports     15.61   \n",
       "4  Pokemon Red/Pokemon Blue       GB           1996.0  Role-Playing     11.27   \n",
       "\n",
       "   EU_sales  JP_sales  Other_sales  Critic_Score User_Score Rating  \n",
       "0     28.96      3.77         8.45          76.0          8      E  \n",
       "1      3.58      6.81         0.77           NaN        NaN    NaN  \n",
       "2     12.76      3.79         3.29          82.0        8.3      E  \n",
       "3     10.93      3.28         2.95          80.0          8      E  \n",
       "4      8.89     10.22         1.00           NaN        NaN    NaN  "
      ]
     },
     "execution_count": 4,
     "metadata": {},
     "output_type": "execute_result"
    }
   ],
   "source": [
    "data = pd.read_csv('https://code.s3.yandex.net/datasets/games.csv')\n",
    "data.head()"
   ]
  },
  {
   "cell_type": "code",
   "execution_count": 5,
   "metadata": {},
   "outputs": [
    {
     "name": "stdout",
     "output_type": "stream",
     "text": [
      "<class 'pandas.core.frame.DataFrame'>\n",
      "RangeIndex: 16715 entries, 0 to 16714\n",
      "Data columns (total 11 columns):\n",
      " #   Column           Non-Null Count  Dtype  \n",
      "---  ------           --------------  -----  \n",
      " 0   Name             16713 non-null  object \n",
      " 1   Platform         16715 non-null  object \n",
      " 2   Year_of_Release  16446 non-null  float64\n",
      " 3   Genre            16713 non-null  object \n",
      " 4   NA_sales         16715 non-null  float64\n",
      " 5   EU_sales         16715 non-null  float64\n",
      " 6   JP_sales         16715 non-null  float64\n",
      " 7   Other_sales      16715 non-null  float64\n",
      " 8   Critic_Score     8137 non-null   float64\n",
      " 9   User_Score       10014 non-null  object \n",
      " 10  Rating           9949 non-null   object \n",
      "dtypes: float64(6), object(5)\n",
      "memory usage: 1.4+ MB\n"
     ]
    }
   ],
   "source": [
    "data.info()"
   ]
  },
  {
   "cell_type": "code",
   "execution_count": 6,
   "metadata": {},
   "outputs": [
    {
     "data": {
      "text/html": [
       "<div>\n",
       "<style scoped>\n",
       "    .dataframe tbody tr th:only-of-type {\n",
       "        vertical-align: middle;\n",
       "    }\n",
       "\n",
       "    .dataframe tbody tr th {\n",
       "        vertical-align: top;\n",
       "    }\n",
       "\n",
       "    .dataframe thead th {\n",
       "        text-align: right;\n",
       "    }\n",
       "</style>\n",
       "<table border=\"1\" class=\"dataframe\">\n",
       "  <thead>\n",
       "    <tr style=\"text-align: right;\">\n",
       "      <th></th>\n",
       "      <th>Name</th>\n",
       "      <th>Platform</th>\n",
       "      <th>Year_of_Release</th>\n",
       "      <th>Genre</th>\n",
       "      <th>NA_sales</th>\n",
       "      <th>EU_sales</th>\n",
       "      <th>JP_sales</th>\n",
       "      <th>Other_sales</th>\n",
       "      <th>Critic_Score</th>\n",
       "      <th>User_Score</th>\n",
       "      <th>Rating</th>\n",
       "    </tr>\n",
       "  </thead>\n",
       "  <tbody>\n",
       "    <tr>\n",
       "      <th>16710</th>\n",
       "      <td>Samurai Warriors: Sanada Maru</td>\n",
       "      <td>PS3</td>\n",
       "      <td>2016.0</td>\n",
       "      <td>Action</td>\n",
       "      <td>0.00</td>\n",
       "      <td>0.00</td>\n",
       "      <td>0.01</td>\n",
       "      <td>0.0</td>\n",
       "      <td>NaN</td>\n",
       "      <td>NaN</td>\n",
       "      <td>NaN</td>\n",
       "    </tr>\n",
       "    <tr>\n",
       "      <th>16711</th>\n",
       "      <td>LMA Manager 2007</td>\n",
       "      <td>X360</td>\n",
       "      <td>2006.0</td>\n",
       "      <td>Sports</td>\n",
       "      <td>0.00</td>\n",
       "      <td>0.01</td>\n",
       "      <td>0.00</td>\n",
       "      <td>0.0</td>\n",
       "      <td>NaN</td>\n",
       "      <td>NaN</td>\n",
       "      <td>NaN</td>\n",
       "    </tr>\n",
       "    <tr>\n",
       "      <th>16712</th>\n",
       "      <td>Haitaka no Psychedelica</td>\n",
       "      <td>PSV</td>\n",
       "      <td>2016.0</td>\n",
       "      <td>Adventure</td>\n",
       "      <td>0.00</td>\n",
       "      <td>0.00</td>\n",
       "      <td>0.01</td>\n",
       "      <td>0.0</td>\n",
       "      <td>NaN</td>\n",
       "      <td>NaN</td>\n",
       "      <td>NaN</td>\n",
       "    </tr>\n",
       "    <tr>\n",
       "      <th>16713</th>\n",
       "      <td>Spirits &amp; Spells</td>\n",
       "      <td>GBA</td>\n",
       "      <td>2003.0</td>\n",
       "      <td>Platform</td>\n",
       "      <td>0.01</td>\n",
       "      <td>0.00</td>\n",
       "      <td>0.00</td>\n",
       "      <td>0.0</td>\n",
       "      <td>NaN</td>\n",
       "      <td>NaN</td>\n",
       "      <td>NaN</td>\n",
       "    </tr>\n",
       "    <tr>\n",
       "      <th>16714</th>\n",
       "      <td>Winning Post 8 2016</td>\n",
       "      <td>PSV</td>\n",
       "      <td>2016.0</td>\n",
       "      <td>Simulation</td>\n",
       "      <td>0.00</td>\n",
       "      <td>0.00</td>\n",
       "      <td>0.01</td>\n",
       "      <td>0.0</td>\n",
       "      <td>NaN</td>\n",
       "      <td>NaN</td>\n",
       "      <td>NaN</td>\n",
       "    </tr>\n",
       "  </tbody>\n",
       "</table>\n",
       "</div>"
      ],
      "text/plain": [
       "                                Name Platform  Year_of_Release       Genre  \\\n",
       "16710  Samurai Warriors: Sanada Maru      PS3           2016.0      Action   \n",
       "16711               LMA Manager 2007     X360           2006.0      Sports   \n",
       "16712        Haitaka no Psychedelica      PSV           2016.0   Adventure   \n",
       "16713               Spirits & Spells      GBA           2003.0    Platform   \n",
       "16714            Winning Post 8 2016      PSV           2016.0  Simulation   \n",
       "\n",
       "       NA_sales  EU_sales  JP_sales  Other_sales  Critic_Score User_Score  \\\n",
       "16710      0.00      0.00      0.01          0.0           NaN        NaN   \n",
       "16711      0.00      0.01      0.00          0.0           NaN        NaN   \n",
       "16712      0.00      0.00      0.01          0.0           NaN        NaN   \n",
       "16713      0.01      0.00      0.00          0.0           NaN        NaN   \n",
       "16714      0.00      0.00      0.01          0.0           NaN        NaN   \n",
       "\n",
       "      Rating  \n",
       "16710    NaN  \n",
       "16711    NaN  \n",
       "16712    NaN  \n",
       "16713    NaN  \n",
       "16714    NaN  "
      ]
     },
     "execution_count": 6,
     "metadata": {},
     "output_type": "execute_result"
    }
   ],
   "source": [
    "data.tail()"
   ]
  },
  {
   "cell_type": "markdown",
   "metadata": {},
   "source": [
    "Выводы: в столбце Year_of_Release должен быть тип int, в столбце User_Score должен быть тип float"
   ]
  },
  {
   "cell_type": "markdown",
   "metadata": {},
   "source": [
    "<b>ШАГ 2</b>"
   ]
  },
  {
   "cell_type": "code",
   "execution_count": 7,
   "metadata": {},
   "outputs": [],
   "source": [
    "#заменим названия столбцов\n",
    "data.columns = map(str.lower, data.columns)"
   ]
  },
  {
   "cell_type": "code",
   "execution_count": 8,
   "metadata": {},
   "outputs": [
    {
     "data": {
      "text/html": [
       "<div>\n",
       "<style scoped>\n",
       "    .dataframe tbody tr th:only-of-type {\n",
       "        vertical-align: middle;\n",
       "    }\n",
       "\n",
       "    .dataframe tbody tr th {\n",
       "        vertical-align: top;\n",
       "    }\n",
       "\n",
       "    .dataframe thead th {\n",
       "        text-align: right;\n",
       "    }\n",
       "</style>\n",
       "<table border=\"1\" class=\"dataframe\">\n",
       "  <thead>\n",
       "    <tr style=\"text-align: right;\">\n",
       "      <th></th>\n",
       "      <th>name</th>\n",
       "      <th>platform</th>\n",
       "      <th>year_of_release</th>\n",
       "      <th>genre</th>\n",
       "      <th>na_sales</th>\n",
       "      <th>eu_sales</th>\n",
       "      <th>jp_sales</th>\n",
       "      <th>other_sales</th>\n",
       "      <th>critic_score</th>\n",
       "      <th>user_score</th>\n",
       "      <th>rating</th>\n",
       "    </tr>\n",
       "  </thead>\n",
       "  <tbody>\n",
       "    <tr>\n",
       "      <th>0</th>\n",
       "      <td>Wii Sports</td>\n",
       "      <td>Wii</td>\n",
       "      <td>2006.0</td>\n",
       "      <td>Sports</td>\n",
       "      <td>41.36</td>\n",
       "      <td>28.96</td>\n",
       "      <td>3.77</td>\n",
       "      <td>8.45</td>\n",
       "      <td>76.0</td>\n",
       "      <td>8</td>\n",
       "      <td>E</td>\n",
       "    </tr>\n",
       "    <tr>\n",
       "      <th>1</th>\n",
       "      <td>Super Mario Bros.</td>\n",
       "      <td>NES</td>\n",
       "      <td>1985.0</td>\n",
       "      <td>Platform</td>\n",
       "      <td>29.08</td>\n",
       "      <td>3.58</td>\n",
       "      <td>6.81</td>\n",
       "      <td>0.77</td>\n",
       "      <td>NaN</td>\n",
       "      <td>NaN</td>\n",
       "      <td>NaN</td>\n",
       "    </tr>\n",
       "    <tr>\n",
       "      <th>2</th>\n",
       "      <td>Mario Kart Wii</td>\n",
       "      <td>Wii</td>\n",
       "      <td>2008.0</td>\n",
       "      <td>Racing</td>\n",
       "      <td>15.68</td>\n",
       "      <td>12.76</td>\n",
       "      <td>3.79</td>\n",
       "      <td>3.29</td>\n",
       "      <td>82.0</td>\n",
       "      <td>8.3</td>\n",
       "      <td>E</td>\n",
       "    </tr>\n",
       "    <tr>\n",
       "      <th>3</th>\n",
       "      <td>Wii Sports Resort</td>\n",
       "      <td>Wii</td>\n",
       "      <td>2009.0</td>\n",
       "      <td>Sports</td>\n",
       "      <td>15.61</td>\n",
       "      <td>10.93</td>\n",
       "      <td>3.28</td>\n",
       "      <td>2.95</td>\n",
       "      <td>80.0</td>\n",
       "      <td>8</td>\n",
       "      <td>E</td>\n",
       "    </tr>\n",
       "    <tr>\n",
       "      <th>4</th>\n",
       "      <td>Pokemon Red/Pokemon Blue</td>\n",
       "      <td>GB</td>\n",
       "      <td>1996.0</td>\n",
       "      <td>Role-Playing</td>\n",
       "      <td>11.27</td>\n",
       "      <td>8.89</td>\n",
       "      <td>10.22</td>\n",
       "      <td>1.00</td>\n",
       "      <td>NaN</td>\n",
       "      <td>NaN</td>\n",
       "      <td>NaN</td>\n",
       "    </tr>\n",
       "  </tbody>\n",
       "</table>\n",
       "</div>"
      ],
      "text/plain": [
       "                       name platform  year_of_release         genre  na_sales  \\\n",
       "0                Wii Sports      Wii           2006.0        Sports     41.36   \n",
       "1         Super Mario Bros.      NES           1985.0      Platform     29.08   \n",
       "2            Mario Kart Wii      Wii           2008.0        Racing     15.68   \n",
       "3         Wii Sports Resort      Wii           2009.0        Sports     15.61   \n",
       "4  Pokemon Red/Pokemon Blue       GB           1996.0  Role-Playing     11.27   \n",
       "\n",
       "   eu_sales  jp_sales  other_sales  critic_score user_score rating  \n",
       "0     28.96      3.77         8.45          76.0          8      E  \n",
       "1      3.58      6.81         0.77           NaN        NaN    NaN  \n",
       "2     12.76      3.79         3.29          82.0        8.3      E  \n",
       "3     10.93      3.28         2.95          80.0          8      E  \n",
       "4      8.89     10.22         1.00           NaN        NaN    NaN  "
      ]
     },
     "execution_count": 8,
     "metadata": {},
     "output_type": "execute_result"
    }
   ],
   "source": [
    "data.head()"
   ]
  },
  {
   "cell_type": "code",
   "execution_count": 9,
   "metadata": {},
   "outputs": [
    {
     "data": {
      "text/plain": [
       "name                  2\n",
       "platform              0\n",
       "year_of_release     269\n",
       "genre                 2\n",
       "na_sales              0\n",
       "eu_sales              0\n",
       "jp_sales              0\n",
       "other_sales           0\n",
       "critic_score       8578\n",
       "user_score         6701\n",
       "rating             6766\n",
       "dtype: int64"
      ]
     },
     "execution_count": 9,
     "metadata": {},
     "output_type": "execute_result"
    }
   ],
   "source": [
    "data.isna().sum()"
   ]
  },
  {
   "cell_type": "code",
   "execution_count": 10,
   "metadata": {},
   "outputs": [
    {
     "data": {
      "text/plain": [
       "0"
      ]
     },
     "execution_count": 10,
     "metadata": {},
     "output_type": "execute_result"
    }
   ],
   "source": [
    "data.duplicated().sum()"
   ]
  },
  {
   "cell_type": "markdown",
   "metadata": {},
   "source": [
    "Имеется много пропусков в столбцах year_of_release, critic_score, user_score, rating\n",
    "Дубликатов нет"
   ]
  },
  {
   "cell_type": "code",
   "execution_count": 11,
   "metadata": {},
   "outputs": [],
   "source": [
    "#заменим тип данных\n",
    "data['year_of_release'] = data['year_of_release'].astype('Int64')"
   ]
  },
  {
   "cell_type": "code",
   "execution_count": 12,
   "metadata": {},
   "outputs": [
    {
     "data": {
      "text/plain": [
       "2008    1427\n",
       "2009    1426\n",
       "2010    1255\n",
       "2007    1197\n",
       "2011    1136\n",
       "2006    1006\n",
       "2005     939\n",
       "2002     829\n",
       "2003     775\n",
       "2004     762\n",
       "2012     653\n",
       "2015     606\n",
       "2014     581\n",
       "2013     544\n",
       "2016     502\n",
       "2001     482\n",
       "1998     379\n",
       "2000     350\n",
       "1999     338\n",
       "1997     289\n",
       "1996     263\n",
       "1995     219\n",
       "1994     121\n",
       "1993      62\n",
       "1981      46\n",
       "1992      43\n",
       "1991      41\n",
       "1982      36\n",
       "1986      21\n",
       "1989      17\n",
       "1983      17\n",
       "1990      16\n",
       "1987      16\n",
       "1988      15\n",
       "1985      14\n",
       "1984      14\n",
       "1980       9\n",
       "Name: year_of_release, dtype: Int64"
      ]
     },
     "execution_count": 12,
     "metadata": {},
     "output_type": "execute_result"
    }
   ],
   "source": [
    "data['year_of_release'].value_counts()"
   ]
  },
  {
   "cell_type": "markdown",
   "metadata": {},
   "source": [
    "В столбце user_score есть значение 'tbd', из-за которого мы пока не можем изменить тип данных. Оно означает to be determined, т.е. пока не определён. Заменим это значение на nan"
   ]
  },
  {
   "cell_type": "code",
   "execution_count": 13,
   "metadata": {},
   "outputs": [],
   "source": [
    "data['user_score'] = data['user_score'].replace('tbd', np.nan)"
   ]
  },
  {
   "cell_type": "code",
   "execution_count": 14,
   "metadata": {},
   "outputs": [
    {
     "data": {
      "text/plain": [
       "array(['8', nan, '8.3', '8.5', '6.6', '8.4', '8.6', '7.7', '6.3', '7.4',\n",
       "       '8.2', '9', '7.9', '8.1', '8.7', '7.1', '3.4', '5.3', '4.8', '3.2',\n",
       "       '8.9', '6.4', '7.8', '7.5', '2.6', '7.2', '9.2', '7', '7.3', '4.3',\n",
       "       '7.6', '5.7', '5', '9.1', '6.5', '8.8', '6.9', '9.4', '6.8', '6.1',\n",
       "       '6.7', '5.4', '4', '4.9', '4.5', '9.3', '6.2', '4.2', '6', '3.7',\n",
       "       '4.1', '5.8', '5.6', '5.5', '4.4', '4.6', '5.9', '3.9', '3.1',\n",
       "       '2.9', '5.2', '3.3', '4.7', '5.1', '3.5', '2.5', '1.9', '3', '2.7',\n",
       "       '2.2', '2', '9.5', '2.1', '3.6', '2.8', '1.8', '3.8', '0', '1.6',\n",
       "       '9.6', '2.4', '1.7', '1.1', '0.3', '1.5', '0.7', '1.2', '2.3',\n",
       "       '0.5', '1.3', '0.2', '0.6', '1.4', '0.9', '1', '9.7'], dtype=object)"
      ]
     },
     "execution_count": 14,
     "metadata": {},
     "output_type": "execute_result"
    }
   ],
   "source": [
    "data['user_score'].unique()"
   ]
  },
  {
   "cell_type": "code",
   "execution_count": 15,
   "metadata": {},
   "outputs": [],
   "source": [
    "data['year_of_release'] = data['year_of_release'].astype('Int64')"
   ]
  },
  {
   "cell_type": "code",
   "execution_count": 16,
   "metadata": {},
   "outputs": [],
   "source": [
    "data['user_score'] = data['user_score'].astype(float)"
   ]
  },
  {
   "cell_type": "code",
   "execution_count": 17,
   "metadata": {},
   "outputs": [
    {
     "name": "stdout",
     "output_type": "stream",
     "text": [
      "1.609332934489979 %\n"
     ]
    }
   ],
   "source": [
    "print(data['year_of_release'].isna().sum() / len(data['year_of_release']) * 100,'%')"
   ]
  },
  {
   "cell_type": "markdown",
   "metadata": {},
   "source": [
    "У нас всего 1,6% пропусков года релиза, это незначительно влияет на данные, удалим пропуски"
   ]
  },
  {
   "cell_type": "code",
   "execution_count": 18,
   "metadata": {},
   "outputs": [],
   "source": [
    "data = data[data['year_of_release']!='Nan']"
   ]
  },
  {
   "cell_type": "code",
   "execution_count": 19,
   "metadata": {},
   "outputs": [
    {
     "data": {
      "text/plain": [
       "name                  2\n",
       "platform              0\n",
       "year_of_release       0\n",
       "genre                 2\n",
       "na_sales              0\n",
       "eu_sales              0\n",
       "jp_sales              0\n",
       "other_sales           0\n",
       "critic_score       8463\n",
       "user_score         8983\n",
       "rating             6678\n",
       "dtype: int64"
      ]
     },
     "execution_count": 19,
     "metadata": {},
     "output_type": "execute_result"
    }
   ],
   "source": [
    "data.isna().sum()"
   ]
  },
  {
   "cell_type": "markdown",
   "metadata": {},
   "source": [
    "Убедились, что удалили пропуски\n"
   ]
  },
  {
   "cell_type": "code",
   "execution_count": 20,
   "metadata": {},
   "outputs": [],
   "source": [
    "#cоздадим новый столбец total_sales и прибавим продажи всех столбцов\n",
    "data['total_sales'] = data['na_sales'] + data['eu_sales'] + data['jp_sales'] + data['other_sales']"
   ]
  },
  {
   "cell_type": "code",
   "execution_count": 34,
   "metadata": {},
   "outputs": [
    {
     "name": "stdout",
     "output_type": "stream",
     "text": [
      "<class 'pandas.core.frame.DataFrame'>\n",
      "Int64Index: 16444 entries, 0 to 16714\n",
      "Data columns (total 12 columns):\n",
      " #   Column           Non-Null Count  Dtype  \n",
      "---  ------           --------------  -----  \n",
      " 0   name             16444 non-null  object \n",
      " 1   platform         16444 non-null  object \n",
      " 2   year_of_release  16444 non-null  Int64  \n",
      " 3   genre            16444 non-null  object \n",
      " 4   na_sales         16444 non-null  float64\n",
      " 5   eu_sales         16444 non-null  float64\n",
      " 6   jp_sales         16444 non-null  float64\n",
      " 7   other_sales      16444 non-null  float64\n",
      " 8   critic_score     7983 non-null   float64\n",
      " 9   user_score       7463 non-null   float64\n",
      " 10  rating           16444 non-null  object \n",
      " 11  total_sales      16444 non-null  float64\n",
      "dtypes: Int64(1), float64(7), object(4)\n",
      "memory usage: 1.6+ MB\n",
      "None\n",
      "-------------------------\n",
      "name [' Beyblade Burst' ' Fire Emblem Fates' \" Frozen: Olaf's Quest\" ...\n",
      " 'uDraw Studio' 'uDraw Studio: Instant Artist'\n",
      " '¡Shin Chan Flipa en colores!']\n",
      "name : кол-во NaN 0 , процент NaN 0.0 %\n",
      "-------------------------\n",
      "platform ['2600' '3DO' '3DS' 'DC' 'DS' 'GB' 'GBA' 'GC' 'GEN' 'GG' 'N64' 'NES' 'NG'\n",
      " 'PC' 'PCFX' 'PS' 'PS2' 'PS3' 'PS4' 'PSP' 'PSV' 'SAT' 'SCD' 'SNES' 'TG16'\n",
      " 'WS' 'Wii' 'WiiU' 'X360' 'XB' 'XOne']\n",
      "platform : кол-во NaN 0 , процент NaN 0.0 %\n",
      "-------------------------\n",
      "year_of_release <IntegerArray>\n",
      "[1980, 1981, 1982, 1983, 1984, 1985, 1986, 1987, 1988, 1989, 1990, 1991, 1992,\n",
      " 1993, 1994, 1995, 1996, 1997, 1998, 1999, 2000, 2001, 2002, 2003, 2004, 2005,\n",
      " 2006, 2007, 2008, 2009, 2010, 2011, 2012, 2013, 2014, 2015, 2016]\n",
      "Length: 37, dtype: Int64\n",
      "year_of_release : кол-во NaN 0 , процент NaN 0.0 %\n",
      "-------------------------\n",
      "genre ['Action' 'Adventure' 'Fighting' 'Misc' 'Platform' 'Puzzle' 'Racing'\n",
      " 'Role-Playing' 'Shooter' 'Simulation' 'Sports' 'Strategy']\n",
      "genre : кол-во NaN 0 , процент NaN 0.0 %\n",
      "-------------------------\n",
      "critic_score [13. 17. 19. 20. 21. 23. 24. 25. 26. 27. 28. 29. 30. 31. 32. 33. 34. 35.\n",
      " 36. 37. 38. 39. 40. 41. 42. 43. 44. 45. 46. 47. 48. 49. 50. 51. 52. 53.\n",
      " 54. 55. 56. 57. 58. 59. 60. 61. 62. 63. 64. 65. 66. 67. 68. 69. 70. 71.\n",
      " 72. 73. 74. 75. 76. 77. 78. 79. 80. 81. 82. 83. 84. 85. 86. 87. 88. 89.\n",
      " 90. 91. 92. 93. 94. 95. 96. 97. 98. nan]\n",
      "critic_score : кол-во NaN 8461 , процент NaN 51.45 %\n",
      "-------------------------\n",
      "user_score [0.  0.2 0.3 0.5 0.6 0.7 0.9 1.  1.1 1.2 1.3 1.4 1.5 1.6 1.7 1.8 1.9 2.\n",
      " 2.1 2.2 2.3 2.4 2.5 2.6 2.7 2.8 2.9 3.  3.1 3.2 3.3 3.4 3.5 3.6 3.7 3.8\n",
      " 3.9 4.  4.1 4.2 4.3 4.4 4.5 4.6 4.7 4.8 4.9 5.  5.1 5.2 5.3 5.4 5.5 5.6\n",
      " 5.7 5.8 5.9 6.  6.1 6.2 6.3 6.4 6.5 6.6 6.7 6.8 6.9 7.  7.1 7.2 7.3 7.4\n",
      " 7.5 7.6 7.7 7.8 7.9 8.  8.1 8.2 8.3 8.4 8.5 8.6 8.7 8.8 8.9 9.  9.1 9.2\n",
      " 9.3 9.4 9.5 9.6 9.7 nan]\n",
      "user_score : кол-во NaN 8981 , процент NaN 54.62 %\n",
      "-------------------------\n",
      "rating ['AO' 'E' 'E10+' 'EC' 'K-A' 'M' 'RP' 'T' 'no info']\n",
      "rating : кол-во NaN 0 , процент NaN 0.0 %\n"
     ]
    }
   ],
   "source": [
    "# Комментарий ревьюера\n",
    "# Посмотрим, что у нас осталось\n",
    "temp = data.copy() \n",
    "list_c = ['name', 'platform', 'year_of_release', 'genre', 'critic_score', 'user_score', 'rating']\n",
    "print(temp.info())\n",
    "for col_l in list_c:\n",
    "  print('-'* 25)\n",
    "  print(col_l, temp[col_l].sort_values().unique())\n",
    "  print(col_l,': кол-во NaN',temp[col_l].isna().sum(),\n",
    "        ', процент NaN', round(temp[col_l].isna().sum()/len(temp)*100, 2),'%')"
   ]
  },
  {
   "cell_type": "markdown",
   "metadata": {},
   "source": [
    "В колонках name и genre всего 2 пропуска, так же в этих строках пропуски по отзывам и рейтингу. Удалим эти строки \n"
   ]
  },
  {
   "cell_type": "code",
   "execution_count": 22,
   "metadata": {},
   "outputs": [],
   "source": [
    "data = data.dropna(subset = ['name','genre'])"
   ]
  },
  {
   "cell_type": "code",
   "execution_count": 23,
   "metadata": {},
   "outputs": [
    {
     "data": {
      "text/plain": [
       "name                  0\n",
       "platform              0\n",
       "year_of_release       0\n",
       "genre                 0\n",
       "na_sales              0\n",
       "eu_sales              0\n",
       "jp_sales              0\n",
       "other_sales           0\n",
       "critic_score       8461\n",
       "user_score         8981\n",
       "rating             6676\n",
       "total_sales           0\n",
       "dtype: int64"
      ]
     },
     "execution_count": 23,
     "metadata": {},
     "output_type": "execute_result"
    }
   ],
   "source": [
    "data.isna().sum()"
   ]
  },
  {
   "cell_type": "markdown",
   "metadata": {},
   "source": [
    "Поставим заглушку для пропусков в столбце rating, чтобы не потерять важные данные, так как рейтинг ESRB предназначен для маркировки игр для США и Канады. Для других регионов он не заполняется\n"
   ]
  },
  {
   "cell_type": "code",
   "execution_count": 24,
   "metadata": {},
   "outputs": [],
   "source": [
    "data['rating'] = data['rating'].fillna('no info')"
   ]
  },
  {
   "cell_type": "markdown",
   "metadata": {},
   "source": [
    "<b>ШАГ 3</b>"
   ]
  },
  {
   "cell_type": "code",
   "execution_count": 25,
   "metadata": {},
   "outputs": [],
   "source": [
    "# исследуем, сколько игр выпускалось в разные годы\n",
    "data_games_years = data.pivot_table(index = 'year_of_release', values = 'name', aggfunc = 'count')"
   ]
  },
  {
   "cell_type": "code",
   "execution_count": 26,
   "metadata": {},
   "outputs": [
    {
     "data": {
      "text/html": [
       "<div>\n",
       "<style scoped>\n",
       "    .dataframe tbody tr th:only-of-type {\n",
       "        vertical-align: middle;\n",
       "    }\n",
       "\n",
       "    .dataframe tbody tr th {\n",
       "        vertical-align: top;\n",
       "    }\n",
       "\n",
       "    .dataframe thead th {\n",
       "        text-align: right;\n",
       "    }\n",
       "</style>\n",
       "<table border=\"1\" class=\"dataframe\">\n",
       "  <thead>\n",
       "    <tr style=\"text-align: right;\">\n",
       "      <th></th>\n",
       "      <th>name</th>\n",
       "    </tr>\n",
       "    <tr>\n",
       "      <th>year_of_release</th>\n",
       "      <th></th>\n",
       "    </tr>\n",
       "  </thead>\n",
       "  <tbody>\n",
       "    <tr>\n",
       "      <th>1980</th>\n",
       "      <td>9</td>\n",
       "    </tr>\n",
       "    <tr>\n",
       "      <th>1981</th>\n",
       "      <td>46</td>\n",
       "    </tr>\n",
       "    <tr>\n",
       "      <th>1982</th>\n",
       "      <td>36</td>\n",
       "    </tr>\n",
       "    <tr>\n",
       "      <th>1983</th>\n",
       "      <td>17</td>\n",
       "    </tr>\n",
       "    <tr>\n",
       "      <th>1984</th>\n",
       "      <td>14</td>\n",
       "    </tr>\n",
       "    <tr>\n",
       "      <th>1985</th>\n",
       "      <td>14</td>\n",
       "    </tr>\n",
       "    <tr>\n",
       "      <th>1986</th>\n",
       "      <td>21</td>\n",
       "    </tr>\n",
       "    <tr>\n",
       "      <th>1987</th>\n",
       "      <td>16</td>\n",
       "    </tr>\n",
       "    <tr>\n",
       "      <th>1988</th>\n",
       "      <td>15</td>\n",
       "    </tr>\n",
       "    <tr>\n",
       "      <th>1989</th>\n",
       "      <td>17</td>\n",
       "    </tr>\n",
       "    <tr>\n",
       "      <th>1990</th>\n",
       "      <td>16</td>\n",
       "    </tr>\n",
       "    <tr>\n",
       "      <th>1991</th>\n",
       "      <td>41</td>\n",
       "    </tr>\n",
       "    <tr>\n",
       "      <th>1992</th>\n",
       "      <td>43</td>\n",
       "    </tr>\n",
       "    <tr>\n",
       "      <th>1993</th>\n",
       "      <td>60</td>\n",
       "    </tr>\n",
       "    <tr>\n",
       "      <th>1994</th>\n",
       "      <td>121</td>\n",
       "    </tr>\n",
       "    <tr>\n",
       "      <th>1995</th>\n",
       "      <td>219</td>\n",
       "    </tr>\n",
       "    <tr>\n",
       "      <th>1996</th>\n",
       "      <td>263</td>\n",
       "    </tr>\n",
       "    <tr>\n",
       "      <th>1997</th>\n",
       "      <td>289</td>\n",
       "    </tr>\n",
       "    <tr>\n",
       "      <th>1998</th>\n",
       "      <td>379</td>\n",
       "    </tr>\n",
       "    <tr>\n",
       "      <th>1999</th>\n",
       "      <td>338</td>\n",
       "    </tr>\n",
       "    <tr>\n",
       "      <th>2000</th>\n",
       "      <td>350</td>\n",
       "    </tr>\n",
       "    <tr>\n",
       "      <th>2001</th>\n",
       "      <td>482</td>\n",
       "    </tr>\n",
       "    <tr>\n",
       "      <th>2002</th>\n",
       "      <td>829</td>\n",
       "    </tr>\n",
       "    <tr>\n",
       "      <th>2003</th>\n",
       "      <td>775</td>\n",
       "    </tr>\n",
       "    <tr>\n",
       "      <th>2004</th>\n",
       "      <td>762</td>\n",
       "    </tr>\n",
       "    <tr>\n",
       "      <th>2005</th>\n",
       "      <td>939</td>\n",
       "    </tr>\n",
       "    <tr>\n",
       "      <th>2006</th>\n",
       "      <td>1006</td>\n",
       "    </tr>\n",
       "    <tr>\n",
       "      <th>2007</th>\n",
       "      <td>1197</td>\n",
       "    </tr>\n",
       "    <tr>\n",
       "      <th>2008</th>\n",
       "      <td>1427</td>\n",
       "    </tr>\n",
       "    <tr>\n",
       "      <th>2009</th>\n",
       "      <td>1426</td>\n",
       "    </tr>\n",
       "    <tr>\n",
       "      <th>2010</th>\n",
       "      <td>1255</td>\n",
       "    </tr>\n",
       "    <tr>\n",
       "      <th>2011</th>\n",
       "      <td>1136</td>\n",
       "    </tr>\n",
       "    <tr>\n",
       "      <th>2012</th>\n",
       "      <td>653</td>\n",
       "    </tr>\n",
       "    <tr>\n",
       "      <th>2013</th>\n",
       "      <td>544</td>\n",
       "    </tr>\n",
       "    <tr>\n",
       "      <th>2014</th>\n",
       "      <td>581</td>\n",
       "    </tr>\n",
       "    <tr>\n",
       "      <th>2015</th>\n",
       "      <td>606</td>\n",
       "    </tr>\n",
       "    <tr>\n",
       "      <th>2016</th>\n",
       "      <td>502</td>\n",
       "    </tr>\n",
       "  </tbody>\n",
       "</table>\n",
       "</div>"
      ],
      "text/plain": [
       "                 name\n",
       "year_of_release      \n",
       "1980                9\n",
       "1981               46\n",
       "1982               36\n",
       "1983               17\n",
       "1984               14\n",
       "1985               14\n",
       "1986               21\n",
       "1987               16\n",
       "1988               15\n",
       "1989               17\n",
       "1990               16\n",
       "1991               41\n",
       "1992               43\n",
       "1993               60\n",
       "1994              121\n",
       "1995              219\n",
       "1996              263\n",
       "1997              289\n",
       "1998              379\n",
       "1999              338\n",
       "2000              350\n",
       "2001              482\n",
       "2002              829\n",
       "2003              775\n",
       "2004              762\n",
       "2005              939\n",
       "2006             1006\n",
       "2007             1197\n",
       "2008             1427\n",
       "2009             1426\n",
       "2010             1255\n",
       "2011             1136\n",
       "2012              653\n",
       "2013              544\n",
       "2014              581\n",
       "2015              606\n",
       "2016              502"
      ]
     },
     "execution_count": 26,
     "metadata": {},
     "output_type": "execute_result"
    }
   ],
   "source": [
    "data_games_years.sort_values(by='year_of_release')"
   ]
  },
  {
   "cell_type": "code",
   "execution_count": 27,
   "metadata": {},
   "outputs": [
    {
     "data": {
      "text/plain": [
       "Text(0.5, 1.0, 'Количество игр по годам')"
      ]
     },
     "execution_count": 27,
     "metadata": {},
     "output_type": "execute_result"
    },
    {
     "data": {
      "image/png": "[encoded data removed]",
      "text/plain": [
       "<Figure size 432x288 with 1 Axes>"
      ]
     },
     "metadata": {
      "needs_background": "light"
     },
     "output_type": "display_data"
    }
   ],
   "source": [
    "data_games_years.plot(grid=True)\n",
    "plt.xlabel('Год выпуска')\n",
    "plt.ylabel('Количество выпущенных игр')\n",
    "plt.title('Количество игр по годам')"
   ]
  },
  {
   "cell_type": "markdown",
   "metadata": {},
   "source": [
    "Каждый год количество выпущенных игр росло до 2008 года, после начался спад. Особенно сильно количество игр росло с 1995 года. Данные до 1994 года не так важны."
   ]
  },
  {
   "cell_type": "code",
   "execution_count": 28,
   "metadata": {},
   "outputs": [
    {
     "data": {
      "text/html": [
       "<div>\n",
       "<style scoped>\n",
       "    .dataframe tbody tr th:only-of-type {\n",
       "        vertical-align: middle;\n",
       "    }\n",
       "\n",
       "    .dataframe tbody tr th {\n",
       "        vertical-align: top;\n",
       "    }\n",
       "\n",
       "    .dataframe thead th {\n",
       "        text-align: right;\n",
       "    }\n",
       "</style>\n",
       "<table border=\"1\" class=\"dataframe\">\n",
       "  <thead>\n",
       "    <tr style=\"text-align: right;\">\n",
       "      <th></th>\n",
       "      <th>total_sales</th>\n",
       "    </tr>\n",
       "    <tr>\n",
       "      <th>platform</th>\n",
       "      <th></th>\n",
       "    </tr>\n",
       "  </thead>\n",
       "  <tbody>\n",
       "    <tr>\n",
       "      <th>DS</th>\n",
       "      <td>802.78</td>\n",
       "    </tr>\n",
       "    <tr>\n",
       "      <th>Wii</th>\n",
       "      <td>891.18</td>\n",
       "    </tr>\n",
       "    <tr>\n",
       "      <th>PS3</th>\n",
       "      <td>931.34</td>\n",
       "    </tr>\n",
       "    <tr>\n",
       "      <th>X360</th>\n",
       "      <td>961.24</td>\n",
       "    </tr>\n",
       "    <tr>\n",
       "      <th>PS2</th>\n",
       "      <td>1233.56</td>\n",
       "    </tr>\n",
       "  </tbody>\n",
       "</table>\n",
       "</div>"
      ],
      "text/plain": [
       "          total_sales\n",
       "platform             \n",
       "DS             802.78\n",
       "Wii            891.18\n",
       "PS3            931.34\n",
       "X360           961.24\n",
       "PS2           1233.56"
      ]
     },
     "execution_count": 28,
     "metadata": {},
     "output_type": "execute_result"
    }
   ],
   "source": [
    "# изучим, как менялись продажи по платформам\n",
    "sales_platform = data.pivot_table(index = ['platform'], values = 'total_sales', aggfunc = 'sum')\n",
    "sales_platform = sales_platform.sort_values(by='total_sales')\n",
    "sales_platform.tail(5)"
   ]
  },
  {
   "cell_type": "markdown",
   "metadata": {},
   "source": [
    "Больше всего продаж на платформах PS2, X360, PS3, WII, DS"
   ]
  },
  {
   "cell_type": "code",
   "execution_count": 29,
   "metadata": {},
   "outputs": [
    {
     "data": {
      "text/plain": [
       "Text(0.5, 1.0, 'Продажи по платформам')"
      ]
     },
     "execution_count": 29,
     "metadata": {},
     "output_type": "execute_result"
    },
    {
     "data": {
      "image/png": "[encoded data removed]",
      "text/plain": [
       "<Figure size 1440x720 with 1 Axes>"
      ]
     },
     "metadata": {
      "needs_background": "light"
     },
     "output_type": "display_data"
    }
   ],
   "source": [
    "plt.figure(figsize=(20,10))\n",
    "sns.barplot(x=sales_platform.index,y=sales_platform['total_sales'])\n",
    "plt.title('Продажи по платформам')"
   ]
  },
  {
   "cell_type": "code",
   "execution_count": 30,
   "metadata": {},
   "outputs": [
    {
     "data": {
      "image/png": "[encoded data removed]",
      "text/plain": [
       "<Figure size 432x288 with 1 Axes>"
      ]
     },
     "metadata": {
      "needs_background": "light"
     },
     "output_type": "display_data"
    },
    {
     "data": {
      "image/png": "[encoded data removed]",
      "text/plain": [
       "<Figure size 432x288 with 1 Axes>"
      ]
     },
     "metadata": {
      "needs_background": "light"
     },
     "output_type": "display_data"
    },
    {
     "data": {
      "image/png": "[encoded data removed]",
      "text/plain": [
       "<Figure size 432x288 with 1 Axes>"
      ]
     },
     "metadata": {
      "needs_background": "light"
     },
     "output_type": "display_data"
    },
    {
     "data": {
      "image/png": "[encoded data removed]",
      "text/plain": [
       "<Figure size 432x288 with 1 Axes>"
      ]
     },
     "metadata": {
      "needs_background": "light"
     },
     "output_type": "display_data"
    },
    {
     "data": {
      "image/png": "[encoded data removed]",
      "text/plain": [
       "<Figure size 432x288 with 1 Axes>"
      ]
     },
     "metadata": {
      "needs_background": "light"
     },
     "output_type": "display_data"
    }
   ],
   "source": [
    "popular_platform = ['DS','X360','PS2','PS3','Wii']\n",
    "for i in popular_platform:\n",
    "    data_platform = data[data['platform'] == i]\n",
    "    data_platform = data_platform.pivot_table(index = 'year_of_release', values = 'total_sales')\n",
    "    data_platform.plot(grid=True)\n",
    "    plt.title(i)"
   ]
  },
  {
   "cell_type": "markdown",
   "metadata": {},
   "source": [
    "DS: В данных обнаружена ошибка, так как в 1985 году такой платформы ещё не существовало. В 2013 году продажи заканчиваются. В основном компания получала прибыль с 2003 до 2013 года. Пик приходится на 2005 год."
   ]
  },
  {
   "cell_type": "markdown",
   "metadata": {},
   "source": [
    "X360: продажи начинают расти с 2006 года и заканчиваются в 2016 году. Пик приходится на 2013 год"
   ]
  },
  {
   "cell_type": "markdown",
   "metadata": {},
   "source": [
    "PS2: продажи идут с 2000 до 2011 года. Спад начинается в 2004."
   ]
  },
  {
   "cell_type": "markdown",
   "metadata": {},
   "source": [
    "PS3: продажи идут с 2005 по 2016 год, пик приходится на 2013 год, после продажи падают. Возможно, это связано с выходом игры GTA5 в 2013 году."
   ]
  },
  {
   "cell_type": "markdown",
   "metadata": {},
   "source": [
    "Wii: пик продаж был сразу после выхода платформы: в 2006 году. После пошёл резкий спад, продажи закончились в 2016 году."
   ]
  },
  {
   "cell_type": "markdown",
   "metadata": {},
   "source": [
    "<b>Выводы:</b> практически все игровые платформы в среднем существуют по 10 лет. Дольше всех существовала платформа DS.\n",
    "У Wii был самый быстрый и резкий скачок продаж. "
   ]
  },
  {
   "cell_type": "markdown",
   "metadata": {},
   "source": [
    "Возьмём данные за соответствующий актуальный период.\n",
    "Возьмём данные за период с 2014 по 2016 года. С 2014 года четкая тенденция к падению по всем платформам. Так же к 2014 году отвалился ряд платформ. Исследуем, какие платформы лидируют по продажам, растут или падают"
   ]
  },
  {
   "cell_type": "code",
   "execution_count": 35,
   "metadata": {},
   "outputs": [
    {
     "data": {
      "text/html": [
       "<div>\n",
       "<style scoped>\n",
       "    .dataframe tbody tr th:only-of-type {\n",
       "        vertical-align: middle;\n",
       "    }\n",
       "\n",
       "    .dataframe tbody tr th {\n",
       "        vertical-align: top;\n",
       "    }\n",
       "\n",
       "    .dataframe thead th {\n",
       "        text-align: right;\n",
       "    }\n",
       "</style>\n",
       "<table border=\"1\" class=\"dataframe\">\n",
       "  <thead>\n",
       "    <tr style=\"text-align: right;\">\n",
       "      <th></th>\n",
       "      <th>name</th>\n",
       "      <th>platform</th>\n",
       "      <th>year_of_release</th>\n",
       "      <th>genre</th>\n",
       "      <th>na_sales</th>\n",
       "      <th>eu_sales</th>\n",
       "      <th>jp_sales</th>\n",
       "      <th>other_sales</th>\n",
       "      <th>critic_score</th>\n",
       "      <th>user_score</th>\n",
       "      <th>rating</th>\n",
       "      <th>total_sales</th>\n",
       "    </tr>\n",
       "  </thead>\n",
       "  <tbody>\n",
       "    <tr>\n",
       "      <th>5246</th>\n",
       "      <td>Thief (2014)</td>\n",
       "      <td>PS3</td>\n",
       "      <td>2014</td>\n",
       "      <td>Action</td>\n",
       "      <td>0.10</td>\n",
       "      <td>0.17</td>\n",
       "      <td>0.02</td>\n",
       "      <td>0.05</td>\n",
       "      <td>NaN</td>\n",
       "      <td>NaN</td>\n",
       "      <td>no info</td>\n",
       "      <td>0.34</td>\n",
       "    </tr>\n",
       "    <tr>\n",
       "      <th>6628</th>\n",
       "      <td>Just Dance 2015</td>\n",
       "      <td>PS3</td>\n",
       "      <td>2014</td>\n",
       "      <td>Misc</td>\n",
       "      <td>0.13</td>\n",
       "      <td>0.08</td>\n",
       "      <td>0.00</td>\n",
       "      <td>0.04</td>\n",
       "      <td>NaN</td>\n",
       "      <td>6.8</td>\n",
       "      <td>E10+</td>\n",
       "      <td>0.25</td>\n",
       "    </tr>\n",
       "    <tr>\n",
       "      <th>16294</th>\n",
       "      <td>Adventure Time: The Secret of the Nameless</td>\n",
       "      <td>X360</td>\n",
       "      <td>2014</td>\n",
       "      <td>Adventure</td>\n",
       "      <td>0.01</td>\n",
       "      <td>0.00</td>\n",
       "      <td>0.00</td>\n",
       "      <td>0.00</td>\n",
       "      <td>NaN</td>\n",
       "      <td>NaN</td>\n",
       "      <td>no info</td>\n",
       "      <td>0.01</td>\n",
       "    </tr>\n",
       "    <tr>\n",
       "      <th>6678</th>\n",
       "      <td>Hatsune Miku: Project Diva F 2nd</td>\n",
       "      <td>PS3</td>\n",
       "      <td>2014</td>\n",
       "      <td>Misc</td>\n",
       "      <td>0.09</td>\n",
       "      <td>0.03</td>\n",
       "      <td>0.10</td>\n",
       "      <td>0.03</td>\n",
       "      <td>78.0</td>\n",
       "      <td>8.6</td>\n",
       "      <td>T</td>\n",
       "      <td>0.25</td>\n",
       "    </tr>\n",
       "    <tr>\n",
       "      <th>12502</th>\n",
       "      <td>Super Robot Wars OG Saga Masou Kishin F: Coffi...</td>\n",
       "      <td>PS3</td>\n",
       "      <td>2014</td>\n",
       "      <td>Strategy</td>\n",
       "      <td>0.00</td>\n",
       "      <td>0.00</td>\n",
       "      <td>0.06</td>\n",
       "      <td>0.00</td>\n",
       "      <td>NaN</td>\n",
       "      <td>NaN</td>\n",
       "      <td>no info</td>\n",
       "      <td>0.06</td>\n",
       "    </tr>\n",
       "    <tr>\n",
       "      <th>...</th>\n",
       "      <td>...</td>\n",
       "      <td>...</td>\n",
       "      <td>...</td>\n",
       "      <td>...</td>\n",
       "      <td>...</td>\n",
       "      <td>...</td>\n",
       "      <td>...</td>\n",
       "      <td>...</td>\n",
       "      <td>...</td>\n",
       "      <td>...</td>\n",
       "      <td>...</td>\n",
       "      <td>...</td>\n",
       "    </tr>\n",
       "    <tr>\n",
       "      <th>12382</th>\n",
       "      <td>Super Robot Wars OG: The Moon Dwellers</td>\n",
       "      <td>PS3</td>\n",
       "      <td>2016</td>\n",
       "      <td>Misc</td>\n",
       "      <td>0.00</td>\n",
       "      <td>0.00</td>\n",
       "      <td>0.06</td>\n",
       "      <td>0.00</td>\n",
       "      <td>NaN</td>\n",
       "      <td>NaN</td>\n",
       "      <td>no info</td>\n",
       "      <td>0.06</td>\n",
       "    </tr>\n",
       "    <tr>\n",
       "      <th>12387</th>\n",
       "      <td>Odin Sphere: Leifthrasir</td>\n",
       "      <td>PS3</td>\n",
       "      <td>2016</td>\n",
       "      <td>Role-Playing</td>\n",
       "      <td>0.02</td>\n",
       "      <td>0.01</td>\n",
       "      <td>0.03</td>\n",
       "      <td>0.01</td>\n",
       "      <td>NaN</td>\n",
       "      <td>7.0</td>\n",
       "      <td>T</td>\n",
       "      <td>0.07</td>\n",
       "    </tr>\n",
       "    <tr>\n",
       "      <th>12391</th>\n",
       "      <td>Assetto Corsa</td>\n",
       "      <td>PS4</td>\n",
       "      <td>2016</td>\n",
       "      <td>Racing</td>\n",
       "      <td>0.00</td>\n",
       "      <td>0.05</td>\n",
       "      <td>0.00</td>\n",
       "      <td>0.01</td>\n",
       "      <td>73.0</td>\n",
       "      <td>6.2</td>\n",
       "      <td>E</td>\n",
       "      <td>0.06</td>\n",
       "    </tr>\n",
       "    <tr>\n",
       "      <th>11891</th>\n",
       "      <td>Dark Souls III</td>\n",
       "      <td>PC</td>\n",
       "      <td>2016</td>\n",
       "      <td>Role-Playing</td>\n",
       "      <td>0.00</td>\n",
       "      <td>0.07</td>\n",
       "      <td>0.00</td>\n",
       "      <td>0.00</td>\n",
       "      <td>89.0</td>\n",
       "      <td>8.6</td>\n",
       "      <td>M</td>\n",
       "      <td>0.07</td>\n",
       "    </tr>\n",
       "    <tr>\n",
       "      <th>16714</th>\n",
       "      <td>Winning Post 8 2016</td>\n",
       "      <td>PSV</td>\n",
       "      <td>2016</td>\n",
       "      <td>Simulation</td>\n",
       "      <td>0.00</td>\n",
       "      <td>0.00</td>\n",
       "      <td>0.01</td>\n",
       "      <td>0.00</td>\n",
       "      <td>NaN</td>\n",
       "      <td>NaN</td>\n",
       "      <td>no info</td>\n",
       "      <td>0.01</td>\n",
       "    </tr>\n",
       "  </tbody>\n",
       "</table>\n",
       "<p>1689 rows × 12 columns</p>\n",
       "</div>"
      ],
      "text/plain": [
       "                                                    name platform  \\\n",
       "5246                                        Thief (2014)      PS3   \n",
       "6628                                     Just Dance 2015      PS3   \n",
       "16294        Adventure Time: The Secret of the Nameless      X360   \n",
       "6678                    Hatsune Miku: Project Diva F 2nd      PS3   \n",
       "12502  Super Robot Wars OG Saga Masou Kishin F: Coffi...      PS3   \n",
       "...                                                  ...      ...   \n",
       "12382             Super Robot Wars OG: The Moon Dwellers      PS3   \n",
       "12387                           Odin Sphere: Leifthrasir      PS3   \n",
       "12391                                      Assetto Corsa      PS4   \n",
       "11891                                     Dark Souls III       PC   \n",
       "16714                                Winning Post 8 2016      PSV   \n",
       "\n",
       "       year_of_release         genre  na_sales  eu_sales  jp_sales  \\\n",
       "5246              2014        Action      0.10      0.17      0.02   \n",
       "6628              2014          Misc      0.13      0.08      0.00   \n",
       "16294             2014     Adventure      0.01      0.00      0.00   \n",
       "6678              2014          Misc      0.09      0.03      0.10   \n",
       "12502             2014      Strategy      0.00      0.00      0.06   \n",
       "...                ...           ...       ...       ...       ...   \n",
       "12382             2016          Misc      0.00      0.00      0.06   \n",
       "12387             2016  Role-Playing      0.02      0.01      0.03   \n",
       "12391             2016        Racing      0.00      0.05      0.00   \n",
       "11891             2016  Role-Playing      0.00      0.07      0.00   \n",
       "16714             2016    Simulation      0.00      0.00      0.01   \n",
       "\n",
       "       other_sales  critic_score  user_score   rating  total_sales  \n",
       "5246          0.05           NaN         NaN  no info         0.34  \n",
       "6628          0.04           NaN         6.8     E10+         0.25  \n",
       "16294         0.00           NaN         NaN  no info         0.01  \n",
       "6678          0.03          78.0         8.6        T         0.25  \n",
       "12502         0.00           NaN         NaN  no info         0.06  \n",
       "...            ...           ...         ...      ...          ...  \n",
       "12382         0.00           NaN         NaN  no info         0.06  \n",
       "12387         0.01           NaN         7.0        T         0.07  \n",
       "12391         0.01          73.0         6.2        E         0.06  \n",
       "11891         0.00          89.0         8.6        M         0.07  \n",
       "16714         0.00           NaN         NaN  no info         0.01  \n",
       "\n",
       "[1689 rows x 12 columns]"
      ]
     },
     "execution_count": 35,
     "metadata": {},
     "output_type": "execute_result"
    }
   ],
   "source": [
    "data_actual = data[(data['year_of_release']>=2014) & (data['year_of_release']<=2016)]\n",
    "data_actual.sort_values(by='year_of_release')\n"
   ]
  },
  {
   "cell_type": "code",
   "execution_count": 36,
   "metadata": {},
   "outputs": [
    {
     "data": {
      "text/plain": [
       "<AxesSubplot:xlabel='platform', ylabel='total_sales'>"
      ]
     },
     "execution_count": 36,
     "metadata": {},
     "output_type": "execute_result"
    },
    {
     "data": {
      "image/png": "[encoded data removed]",
      "text/plain": [
       "<Figure size 1440x720 with 1 Axes>"
      ]
     },
     "metadata": {
      "needs_background": "light"
     },
     "output_type": "display_data"
    }
   ],
   "source": [
    "data_actual_2 = data_actual.pivot_table(values=['total_sales'],index='platform',aggfunc='sum')\n",
    "data_actual_2.sort_values(by='total_sales')\n",
    "plt.figure(figsize=(20,10))\n",
    "sns.barplot(x=data_actual_2.index,y=data_actual_2['total_sales'])"
   ]
  },
  {
   "cell_type": "code",
   "execution_count": 33,
   "metadata": {},
   "outputs": [
    {
     "data": {
      "image/png": "[encoded data removed]",
      "text/plain": [
       "<Figure size 432x288 with 1 Axes>"
      ]
     },
     "metadata": {
      "needs_background": "light"
     },
     "output_type": "display_data"
    },
    {
     "data": {
      "image/png": "[encoded data removed]",
      "text/plain": [
       "<Figure size 432x288 with 1 Axes>"
      ]
     },
     "metadata": {
      "needs_background": "light"
     },
     "output_type": "display_data"
    },
    {
     "data": {
      "image/png": "[encoded data removed]",
      "text/plain": [
       "<Figure size 432x288 with 1 Axes>"
      ]
     },
     "metadata": {
      "needs_background": "light"
     },
     "output_type": "display_data"
    },
    {
     "data": {
      "image/png": "[encoded data removed]",
      "text/plain": [
       "<Figure size 432x288 with 1 Axes>"
      ]
     },
     "metadata": {
      "needs_background": "light"
     },
     "output_type": "display_data"
    },
    {
     "data": {
      "image/png": "[encoded data removed]",
      "text/plain": [
       "<Figure size 432x288 with 1 Axes>"
      ]
     },
     "metadata": {
      "needs_background": "light"
     },
     "output_type": "display_data"
    },
    {
     "data": {
      "image/png": "[encoded data removed]",
      "text/plain": [
       "<Figure size 432x288 with 1 Axes>"
      ]
     },
     "metadata": {
      "needs_background": "light"
     },
     "output_type": "display_data"
    },
    {
     "data": {
      "image/png": "[encoded data removed]",
      "text/plain": [
       "<Figure size 432x288 with 1 Axes>"
      ]
     },
     "metadata": {
      "needs_background": "light"
     },
     "output_type": "display_data"
    },
    {
     "data": {
      "image/png": "[encoded data removed]",
      "text/plain": [
       "<Figure size 432x288 with 1 Axes>"
      ]
     },
     "metadata": {
      "needs_background": "light"
     },
     "output_type": "display_data"
    },
    {
     "data": {
      "image/png": "[encoded data removed]",
      "text/plain": [
       "<Figure size 432x288 with 1 Axes>"
      ]
     },
     "metadata": {
      "needs_background": "light"
     },
     "output_type": "display_data"
    },
    {
     "data": {
      "image/png": "[encoded data removed]",
      "text/plain": [
       "<Figure size 432x288 with 1 Axes>"
      ]
     },
     "metadata": {
      "needs_background": "light"
     },
     "output_type": "display_data"
    }
   ],
   "source": [
    "platforms = data_actual['platform'].unique()\n",
    "for i in platforms:\n",
    "    data_platform_2014_2016 = data_actual[data_actual['platform'] == i]\n",
    "    data_platform_2014_2016 = data_platform_2014_2016.pivot_table(index = 'year_of_release', values = 'total_sales')\n",
    "    data_platform_2014_2016.plot(grid=True)\n",
    "    plt.title(i)"
   ]
  },
  {
   "cell_type": "markdown",
   "metadata": {},
   "source": [
    "Продажи Wii начали падать с 2014 года. X360 была прибыльной платформой в 2014 году, после продажи начали падать. Такая же картина у PS3, XOne и 3DS. Продажи игр на всех платформах, кроме PSP падали в течение всего периода, но продажи игр на PSP закончились в 2015 году."
   ]
  },
  {
   "cell_type": "markdown",
   "metadata": {},
   "source": [
    "Потенциально прибыльные платформы: PS3, X360, PS4"
   ]
  },
  {
   "cell_type": "code",
   "execution_count": 37,
   "metadata": {},
   "outputs": [
    {
     "name": "stdout",
     "output_type": "stream",
     "text": [
      "count    1689.000000\n",
      "mean        0.431883\n",
      "std         1.056109\n",
      "min         0.010000\n",
      "25%         0.030000\n",
      "50%         0.100000\n",
      "75%         0.350000\n",
      "max        14.630000\n",
      "Name: total_sales, dtype: float64\n"
     ]
    },
    {
     "data": {
      "text/plain": [
       "Text(0.5, 1.0, '\"Ящик с усами\" по глобальным продажам игр в разбивке по платформам')"
      ]
     },
     "execution_count": 37,
     "metadata": {},
     "output_type": "execute_result"
    },
    {
     "data": {
      "image/png": "[encoded data removed]",
      "text/plain": [
       "<Figure size 1296x504 with 1 Axes>"
      ]
     },
     "metadata": {
      "needs_background": "light"
     },
     "output_type": "display_data"
    }
   ],
   "source": [
    "#Построим график «ящик с усами» по глобальным продажам игр в разбивке по платформам\n",
    "plt.figure(figsize=(18,7))\n",
    "sns.boxplot(data=data_actual,x='platform', y='total_sales')\n",
    "plt.xlabel('Платформа')\n",
    "plt.ylabel('Глобальные продажи')\n",
    "#среднее значение, медиана\n",
    "print(data_actual['total_sales'].describe())\n",
    "plt.title('\"Ящик с усами\" по глобальным продажам игр в разбивке по платформам')"
   ]
  },
  {
   "cell_type": "code",
   "execution_count": 38,
   "metadata": {},
   "outputs": [
    {
     "data": {
      "text/plain": [
       "Text(0.5, 1.0, 'отмасштабированный \"ящик с усами\"')"
      ]
     },
     "execution_count": 38,
     "metadata": {},
     "output_type": "execute_result"
    },
    {
     "data": {
      "image/png": "[encoded data removed]",
      "text/plain": [
       "<Figure size 1296x360 with 1 Axes>"
      ]
     },
     "metadata": {
      "needs_background": "light"
     },
     "output_type": "display_data"
    }
   ],
   "source": [
    "plt.figure(figsize=(18,5))\n",
    "sns.boxplot(data=data_actual,x='platform', y='total_sales')\n",
    "plt.ylim(top=0)\n",
    "plt.ylim(bottom=4) \n",
    "plt.xlabel('Платформа')\n",
    "plt.ylabel('Глобальные продажи')\n",
    "plt.title('отмасштабированный \"ящик с усами\"')"
   ]
  },
  {
   "cell_type": "markdown",
   "metadata": {},
   "source": [
    "Больше всех продаж у Wii, PS4, XOne, затем WiiU и X360. У PSP продаж почти не было. Медиана у всех разная. Максимум продаж был у PS4. Меньше всего выбросов у Wii."
   ]
  },
  {
   "cell_type": "markdown",
   "metadata": {},
   "source": [
    "Посмотрим, как влияют на продажи внутри одной популярной платформы отзывы пользователей и критиков. Построем диаграмму рассеяния и посчитаем корреляцию между отзывами и продажами. Сформулируем выводы"
   ]
  },
  {
   "cell_type": "code",
   "execution_count": 39,
   "metadata": {},
   "outputs": [
    {
     "data": {
      "image/png": "[encoded data removed]",
      "text/plain": [
       "<Figure size 432x288 with 1 Axes>"
      ]
     },
     "metadata": {
      "needs_background": "light"
     },
     "output_type": "display_data"
    },
    {
     "name": "stdout",
     "output_type": "stream",
     "text": [
      "-0.04013158947269733\n",
      "Корреляция между отзывами пользователей и продажами  PS4 : Слабая -0.04013158947269733\n",
      "\n",
      "\n"
     ]
    },
    {
     "data": {
      "image/png": "[encoded data removed]",
      "text/plain": [
       "<Figure size 432x288 with 1 Axes>"
      ]
     },
     "metadata": {
      "needs_background": "light"
     },
     "output_type": "display_data"
    },
    {
     "name": "stdout",
     "output_type": "stream",
     "text": [
      "-0.07038392806475809\n",
      "Корреляция между отзывами пользователей и продажами  XOne : Слабая -0.07038392806475809\n",
      "\n",
      "\n"
     ]
    },
    {
     "data": {
      "image/png": "[encoded data removed]",
      "text/plain": [
       "<Figure size 432x288 with 1 Axes>"
      ]
     },
     "metadata": {
      "needs_background": "light"
     },
     "output_type": "display_data"
    },
    {
     "name": "stdout",
     "output_type": "stream",
     "text": [
      "0.40792645792170773\n",
      "Корреляция между отзывами пользователей и продажами  WiiU : Умеренная 0.40792645792170773\n",
      "\n",
      "\n"
     ]
    },
    {
     "data": {
      "image/png": "[encoded data removed]",
      "text/plain": [
       "<Figure size 432x288 with 1 Axes>"
      ]
     },
     "metadata": {
      "needs_background": "light"
     },
     "output_type": "display_data"
    },
    {
     "name": "stdout",
     "output_type": "stream",
     "text": [
      "-0.138444570945665\n",
      "Корреляция между отзывами пользователей и продажами  X360 : Слабая -0.138444570945665\n",
      "\n",
      "\n"
     ]
    }
   ],
   "source": [
    "popular_platform_actual = ['PS4','XOne','WiiU','X360']\n",
    "for i in popular_platform_actual:\n",
    "    sns.scatterplot(x='user_score', y='total_sales', data=data_actual[data_actual['platform']==i])\n",
    "    plt.xlabel('Оценка пользователей')\n",
    "    plt.ylabel('Количество продаж')\n",
    "    plt.title(i)\n",
    "    plt.show()\n",
    "    user_correl = data_actual[data_actual['platform']==i]['user_score'].corr(data_actual[data_actual['platform']==i]['total_sales'])\n",
    "    print(user_correl)\n",
    "    if 0.0 <= abs(user_correl) <= 0.3:\n",
    "        print('Корреляция между отзывами пользователей и продажами ', i , ': Слабая', user_correl)\n",
    "    if 0.3 <= abs(user_correl) <= 0.7:\n",
    "        print('Корреляция между отзывами пользователей и продажами ', i, ': Умеренная', user_correl)\n",
    "    if 0.7 <= abs(user_correl) <= 0.9:\n",
    "        print('Корреляция между отзывами пользователей и продажами ', i , ': Сильная', user_correl)\n",
    "    if 0.9 <= abs(user_correl) <= 1:\n",
    "        print('Корреляция между отзывами пользователей и продажами ',i, ': Очень сильная', user_correl)\n",
    "    print('\\n')\n",
    "   "
   ]
  },
  {
   "cell_type": "code",
   "execution_count": 35,
   "metadata": {},
   "outputs": [
    {
     "data": {
      "image/png": "[encoded data removed]",
      "text/plain": [
       "<Figure size 432x288 with 1 Axes>"
      ]
     },
     "metadata": {
      "needs_background": "light"
     },
     "output_type": "display_data"
    },
    {
     "name": "stdout",
     "output_type": "stream",
     "text": [
      "0.40266141068104083\n",
      "Корреляция между отзывами критиков и игровой платформой  PS4 : Умеренная 0.40266141068104083\n"
     ]
    },
    {
     "data": {
      "image/png": "[encoded data removed]",
      "text/plain": [
       "<Figure size 432x288 with 1 Axes>"
      ]
     },
     "metadata": {
      "needs_background": "light"
     },
     "output_type": "display_data"
    },
    {
     "name": "stdout",
     "output_type": "stream",
     "text": [
      "0.42867694370333226\n",
      "Корреляция между отзывами критиков и игровой платформой  XOne : Умеренная 0.42867694370333226\n"
     ]
    },
    {
     "data": {
      "image/png": "[encoded data removed]",
      "text/plain": [
       "<Figure size 432x288 with 1 Axes>"
      ]
     },
     "metadata": {
      "needs_background": "light"
     },
     "output_type": "display_data"
    },
    {
     "name": "stdout",
     "output_type": "stream",
     "text": [
      "0.370201412480884\n",
      "Корреляция между отзывами критиков и игровой платформой  WiiU : Умеренная 0.370201412480884\n"
     ]
    },
    {
     "data": {
      "image/png": "[encoded data removed]",
      "text/plain": [
       "<Figure size 432x288 with 1 Axes>"
      ]
     },
     "metadata": {
      "needs_background": "light"
     },
     "output_type": "display_data"
    },
    {
     "name": "stdout",
     "output_type": "stream",
     "text": [
      "0.5257228356581523\n",
      "Корреляция между отзывами критиков и игровой платформой  X360 : Умеренная 0.5257228356581523\n"
     ]
    }
   ],
   "source": [
    "for i in popular_platform_actual:\n",
    "    sns.scatterplot(x='critic_score', y='total_sales', data = data_actual[data_actual['platform']==i])\n",
    "    plt.xlabel('Оценка критиков')\n",
    "    plt.ylabel('Количество продаж')\n",
    "    plt.title(i)\n",
    "    plt.show()\n",
    "    critic_correl = data_actual[data_actual['platform']==i]['critic_score'].corr(data_actual[data_actual['platform']==i]['total_sales'])\n",
    "    print(critic_correl)\n",
    "    if 0.0 <= abs(critic_correl) <= 0.3:\n",
    "        print('Корреляция между отзывами критиков и игровой платформой ', i, ': Слабая', critic_correl)\n",
    "    if 0.3 <= abs(critic_correl) <= 0.7:\n",
    "        print('Корреляция между отзывами критиков и игровой платформой ', i, ': Умеренная', critic_correl)\n",
    "    if 0.7 <= abs(critic_correl) <= 0.9:\n",
    "        print('Корреляция между отзывами критиков и игровой платформой ', i , ': Сильная', critic_correl)\n",
    "    if 0.9 <= abs(critic_correl) <= 1:\n",
    "        print('Корреляция между отзывами критиков и игровой платформой ', i , ': Очень сильная', critic_correl)\n",
    "        "
   ]
  },
  {
   "cell_type": "markdown",
   "metadata": {},
   "source": [
    "Отзывы пользоваталей почти не влияют на продажи, кроме платформы WiiU. Отзывы критиков влияют на продажи умеренно. Покупатели прислушиваются больше к критикам, чем к оценкам других пользователей. Больше всего отзывы критиков влияют на продажи игр платформы X360"
   ]
  },
  {
   "cell_type": "markdown",
   "metadata": {},
   "source": [
    "Посмотрим на общее распределение игр по жанрам. Что можно сказать о самых прибыльных жанрах? Выделяются ли жанры с высокими и низкими продажами?"
   ]
  },
  {
   "cell_type": "code",
   "execution_count": 40,
   "metadata": {},
   "outputs": [
    {
     "data": {
      "text/html": [
       "<div>\n",
       "<style scoped>\n",
       "    .dataframe tbody tr th:only-of-type {\n",
       "        vertical-align: middle;\n",
       "    }\n",
       "\n",
       "    .dataframe tbody tr th {\n",
       "        vertical-align: top;\n",
       "    }\n",
       "\n",
       "    .dataframe thead th {\n",
       "        text-align: right;\n",
       "    }\n",
       "</style>\n",
       "<table border=\"1\" class=\"dataframe\">\n",
       "  <thead>\n",
       "    <tr style=\"text-align: right;\">\n",
       "      <th></th>\n",
       "      <th>total_sales</th>\n",
       "    </tr>\n",
       "    <tr>\n",
       "      <th>genre</th>\n",
       "      <th></th>\n",
       "    </tr>\n",
       "  </thead>\n",
       "  <tbody>\n",
       "    <tr>\n",
       "      <th>Shooter</th>\n",
       "      <td>0.515</td>\n",
       "    </tr>\n",
       "    <tr>\n",
       "      <th>Sports</th>\n",
       "      <td>0.180</td>\n",
       "    </tr>\n",
       "    <tr>\n",
       "      <th>Platform</th>\n",
       "      <td>0.140</td>\n",
       "    </tr>\n",
       "    <tr>\n",
       "      <th>Fighting</th>\n",
       "      <td>0.125</td>\n",
       "    </tr>\n",
       "    <tr>\n",
       "      <th>Role-Playing</th>\n",
       "      <td>0.110</td>\n",
       "    </tr>\n",
       "    <tr>\n",
       "      <th>Simulation</th>\n",
       "      <td>0.100</td>\n",
       "    </tr>\n",
       "    <tr>\n",
       "      <th>Action</th>\n",
       "      <td>0.090</td>\n",
       "    </tr>\n",
       "    <tr>\n",
       "      <th>Misc</th>\n",
       "      <td>0.090</td>\n",
       "    </tr>\n",
       "    <tr>\n",
       "      <th>Racing</th>\n",
       "      <td>0.090</td>\n",
       "    </tr>\n",
       "    <tr>\n",
       "      <th>Strategy</th>\n",
       "      <td>0.060</td>\n",
       "    </tr>\n",
       "    <tr>\n",
       "      <th>Puzzle</th>\n",
       "      <td>0.045</td>\n",
       "    </tr>\n",
       "    <tr>\n",
       "      <th>Adventure</th>\n",
       "      <td>0.030</td>\n",
       "    </tr>\n",
       "  </tbody>\n",
       "</table>\n",
       "</div>"
      ],
      "text/plain": [
       "              total_sales\n",
       "genre                    \n",
       "Shooter             0.515\n",
       "Sports              0.180\n",
       "Platform            0.140\n",
       "Fighting            0.125\n",
       "Role-Playing        0.110\n",
       "Simulation          0.100\n",
       "Action              0.090\n",
       "Misc                0.090\n",
       "Racing              0.090\n",
       "Strategy            0.060\n",
       "Puzzle              0.045\n",
       "Adventure           0.030"
      ]
     },
     "execution_count": 40,
     "metadata": {},
     "output_type": "execute_result"
    }
   ],
   "source": [
    "genre = data_actual.pivot_table(\n",
    "    index='genre', values='total_sales', aggfunc='median').sort_values(by='total_sales', ascending=False)\n",
    "genre"
   ]
  },
  {
   "cell_type": "code",
   "execution_count": 41,
   "metadata": {},
   "outputs": [
    {
     "data": {
      "text/plain": [
       "Text(0, 0.5, 'Продажи')"
      ]
     },
     "execution_count": 41,
     "metadata": {},
     "output_type": "execute_result"
    },
    {
     "data": {
      "image/png": "[encoded data removed]",
      "text/plain": [
       "<Figure size 1080x720 with 1 Axes>"
      ]
     },
     "metadata": {
      "needs_background": "light"
     },
     "output_type": "display_data"
    }
   ],
   "source": [
    "plt.figure(figsize=(15,10))\n",
    "plt.title('Распределение игр по жанрам ')\n",
    "sns.barplot(x=genre.index, y=genre['total_sales'])\n",
    "plt.xlabel('Жанры игр')\n",
    "plt.ylabel('Продажи')"
   ]
  },
  {
   "cell_type": "code",
   "execution_count": 42,
   "metadata": {},
   "outputs": [
    {
     "data": {
      "text/plain": [
       "Text(0.5, 1.0, '\"ящик с усами\"')"
      ]
     },
     "execution_count": 42,
     "metadata": {},
     "output_type": "execute_result"
    },
    {
     "data": {
      "image/png": "[encoded data removed]",
      "text/plain": [
       "<Figure size 1296x360 with 1 Axes>"
      ]
     },
     "metadata": {
      "needs_background": "light"
     },
     "output_type": "display_data"
    }
   ],
   "source": [
    "plt.figure(figsize=(18,5))\n",
    "sns.boxplot(data=data_actual,x='genre', y='total_sales')\n",
    "plt.xlabel('Жанр')\n",
    "plt.ylabel('Глобальные продажи')\n",
    "plt.title('\"ящик с усами\"')"
   ]
  },
  {
   "cell_type": "markdown",
   "metadata": {},
   "source": [
    "Лучше всего продаются шутеры. Приключения продаются хуже всех."
   ]
  },
  {
   "cell_type": "markdown",
   "metadata": {},
   "source": [
    "<b>ШАГ 4 </b>"
   ]
  },
  {
   "cell_type": "markdown",
   "metadata": {},
   "source": [
    "найдём самые популярные платформы (топ-5) для каждого региона. Опишем различия в долях продаж"
   ]
  },
  {
   "cell_type": "code",
   "execution_count": 39,
   "metadata": {},
   "outputs": [
    {
     "name": "stdout",
     "output_type": "stream",
     "text": [
      "platform\n",
      "PS3      8.719896\n",
      "3DS      8.953217\n",
      "X360    11.191521\n",
      "XOne    32.139044\n",
      "PS4     38.996322\n",
      "Name: na_sales, dtype: float64\n",
      "None\n"
     ]
    },
    {
     "data": {
      "image/png": "[encoded data removed]",
      "text/plain": [
       "<Figure size 432x288 with 1 Axes>"
      ]
     },
     "metadata": {},
     "output_type": "display_data"
    },
    {
     "name": "stdout",
     "output_type": "stream",
     "text": [
      "platform\n",
      "3DS      6.832825\n",
      "PC       7.616989\n",
      "PS3     10.825704\n",
      "XOne    19.604103\n",
      "PS4     55.120380\n",
      "Name: eu_sales, dtype: float64\n",
      "None\n"
     ]
    },
    {
     "data": {
      "image/png": "[encoded data removed]",
      "text/plain": [
       "<Figure size 432x288 with 1 Axes>"
      ]
     },
     "metadata": {},
     "output_type": "display_data"
    },
    {
     "name": "stdout",
     "output_type": "stream",
     "text": [
      "platform\n",
      "WiiU     7.917253\n",
      "PS3     12.152063\n",
      "PSV     15.747861\n",
      "PS4     16.267735\n",
      "3DS     47.915087\n",
      "Name: jp_sales, dtype: float64\n",
      "None\n"
     ]
    },
    {
     "data": {
      "image/png": "[encoded data removed]",
      "text/plain": [
       "<Figure size 432x288 with 1 Axes>"
      ]
     },
     "metadata": {},
     "output_type": "display_data"
    }
   ],
   "source": [
    "regions = ['na_sales','eu_sales','jp_sales']\n",
    "def segment(d,sale):\n",
    "    s = sum(sale)\n",
    "    for i in d:\n",
    "        j = d[i] / s\n",
    "        print(j*100)\n",
    "for i in regions:\n",
    "    data_p = data_actual.pivot_table(values=i,index='platform',aggfunc='sum')\n",
    "    data_p = data_p.sort_values(by= i).tail(5)\n",
    "    print(segment(data_p,data_p[i]))\n",
    "    colors = ['yellow','green','red','blue','orange']\n",
    "    plt.pie(data_p[i],labels=data_p.index,colors=colors,shadow=True,autopct='%1.1f%%')\n",
    "    plt.axis('equal')\n",
    "    plt.title(i)\n",
    "    plt.show()"
   ]
  },
  {
   "cell_type": "markdown",
   "metadata": {},
   "source": [
    "39% продаж в Северной Америке занимают игры на платформе PS4. Наименьшую долю (8,7%) занимает PS3. Возможно,это связано с выходом PS4"
   ]
  },
  {
   "cell_type": "markdown",
   "metadata": {},
   "source": [
    "Чуть больше половины продаж в Европе занимают игры на платформе PS4. Наименьшую долю (6,8%) занимает 3DS. "
   ]
  },
  {
   "cell_type": "markdown",
   "metadata": {},
   "source": [
    "Почти половину продаж (48%) занимает платформа 3DS, а наименьшую Wii. Игры в Японии продаются гораздо меньше, чем в других регионах."
   ]
  },
  {
   "cell_type": "markdown",
   "metadata": {},
   "source": [
    "Самые популярные жанры (топ-5) для каждого региона"
   ]
  },
  {
   "cell_type": "code",
   "execution_count": 40,
   "metadata": {},
   "outputs": [
    {
     "name": "stdout",
     "output_type": "stream",
     "text": [
      "              na_sales\n",
      "genre                 \n",
      "Misc             15.05\n",
      "Role-Playing     33.47\n",
      "Sports           46.13\n",
      "Action           72.53\n",
      "Shooter          79.02\n"
     ]
    },
    {
     "data": {
      "image/png": "[encoded data removed]",
      "text/plain": [
       "<Figure size 432x288 with 1 Axes>"
      ]
     },
     "metadata": {},
     "output_type": "display_data"
    },
    {
     "name": "stdout",
     "output_type": "stream",
     "text": [
      "              eu_sales\n",
      "genre                 \n",
      "Racing           14.13\n",
      "Role-Playing     28.17\n",
      "Sports           45.73\n",
      "Shooter          65.52\n",
      "Action           74.68\n"
     ]
    },
    {
     "data": {
      "image/png": "[encoded data removed]",
      "text/plain": [
       "<Figure size 432x288 with 1 Axes>"
      ]
     },
     "metadata": {},
     "output_type": "display_data"
    },
    {
     "name": "stdout",
     "output_type": "stream",
     "text": [
      "              jp_sales\n",
      "genre                 \n",
      "Shooter           4.87\n",
      "Misc              5.61\n",
      "Fighting          6.37\n",
      "Action           29.58\n",
      "Role-Playing     31.16\n"
     ]
    },
    {
     "data": {
      "image/png": "[encoded data removed]",
      "text/plain": [
       "<Figure size 432x288 with 1 Axes>"
      ]
     },
     "metadata": {},
     "output_type": "display_data"
    }
   ],
   "source": [
    "regions = ['na_sales','eu_sales','jp_sales']\n",
    "for i in regions:\n",
    "    data_genre = data_actual.pivot_table(values=i,index='genre',aggfunc='sum')\n",
    "    data_genre = data_genre.sort_values(by= i).tail(5)\n",
    "    print(data_genre)\n",
    "    colors = ['yellow','green','red','blue','orange']\n",
    "    plt.pie(data_genre[i],labels=data_genre.index,colors=colors,shadow=True,autopct='%1.1f%%')\n",
    "    plt.axis('equal')\n",
    "    plt.title(i)\n",
    "    plt.show()\n",
    "    "
   ]
  },
  {
   "cell_type": "markdown",
   "metadata": {},
   "source": [
    "Самый популярный жанр в Северной Америке Шутер, так же часто люди покупают игры в жанре экшен и спорт"
   ]
  },
  {
   "cell_type": "markdown",
   "metadata": {},
   "source": [
    "В Европе жанр экшен занимает первое место, так же лидируют шутеры"
   ]
  },
  {
   "cell_type": "markdown",
   "metadata": {},
   "source": [
    "В Японии шутеры занимают только 5 место в отличие от других регионов. На первом месте по популярности Role-Playing, почти такую же долю занимает жанр Экшен."
   ]
  },
  {
   "cell_type": "markdown",
   "metadata": {},
   "source": [
    "Влияет ли рейтинг ESRB на продажи в отдельном регионе?"
   ]
  },
  {
   "cell_type": "code",
   "execution_count": 41,
   "metadata": {},
   "outputs": [
    {
     "data": {
      "text/plain": [
       "array(['no info', 'M', 'E', 'T', 'E10+'], dtype=object)"
      ]
     },
     "execution_count": 41,
     "metadata": {},
     "output_type": "execute_result"
    }
   ],
   "source": [
    "data_actual['rating'].unique()"
   ]
  },
  {
   "cell_type": "code",
   "execution_count": 42,
   "metadata": {},
   "outputs": [
    {
     "name": "stdout",
     "output_type": "stream",
     "text": [
      "         na_sales\n",
      "rating           \n",
      "E10+        33.23\n",
      "T           38.95\n",
      "E           50.74\n",
      "no info     64.72\n",
      "M           96.42\n",
      "         eu_sales\n",
      "rating           \n",
      "E10+        26.16\n",
      "T           34.07\n",
      "E           58.06\n",
      "no info     58.95\n",
      "M           93.44\n",
      "         jp_sales\n",
      "rating           \n",
      "E10+         4.46\n",
      "M            8.01\n",
      "E            8.94\n",
      "T           14.78\n",
      "no info     56.90\n"
     ]
    }
   ],
   "source": [
    "for i in regions:\n",
    "    data_genre = data_actual.pivot_table(values=i,index='rating',aggfunc='sum')\n",
    "    data_genre = data_genre.sort_values(by= i )\n",
    "    print(data_genre)\n"
   ]
  },
  {
   "cell_type": "markdown",
   "metadata": {},
   "source": [
    "Наиболее продаваемые игры во всех регионах с рейтингами T,E,M и без рейтинга"
   ]
  },
  {
   "cell_type": "markdown",
   "metadata": {},
   "source": [
    "В Северной Америке наиболее популярна категория \"Для взрослых (17+)\", так же популярна категория \"без рейтинга\". Возможно, это связано с популярностью шутеров. "
   ]
  },
  {
   "cell_type": "markdown",
   "metadata": {},
   "source": [
    "В Европе самая популярная категория - \"Для взрослых(17+)\", так же популярна категория \"без рейтинга\". "
   ]
  },
  {
   "cell_type": "markdown",
   "metadata": {},
   "source": [
    "В Японии шутеры не популярны. Наиболее популярные категории: \"без рейтинга\" и \"Подросткам(13+)\". Особенно сильно выделяется и лидирует по продажам категория \"без рейтинга\""
   ]
  },
  {
   "cell_type": "markdown",
   "metadata": {},
   "source": [
    "В Северной Америке и Европе одинаковая популярность категорий"
   ]
  },
  {
   "cell_type": "code",
   "execution_count": 43,
   "metadata": {},
   "outputs": [
    {
     "name": "stdout",
     "output_type": "stream",
     "text": [
      "0 0.0\n"
     ]
    },
    {
     "data": {
      "text/plain": [
       "no info    749\n",
       "T          271\n",
       "M          265\n",
       "E          219\n",
       "E10+       185\n",
       "Name: rating, dtype: int64"
      ]
     },
     "execution_count": 43,
     "metadata": {},
     "output_type": "execute_result"
    }
   ],
   "source": [
    "temp = data_actual.copy()\n",
    "print(temp.rating.isna().sum(), temp.rating.isna().sum()/len(temp))\n",
    "temp.rating.value_counts()"
   ]
  },
  {
   "cell_type": "markdown",
   "metadata": {},
   "source": [
    "<b> ШАГ 5 </b>"
   ]
  },
  {
   "cell_type": "markdown",
   "metadata": {},
   "source": [
    "Проверка гипотезы: средние пользовательские рейтинги платформ Xbox One и PC одинаковые "
   ]
  },
  {
   "cell_type": "code",
   "execution_count": 44,
   "metadata": {},
   "outputs": [
    {
     "name": "stdout",
     "output_type": "stream",
     "text": [
      "6.594545454545454\n",
      "6.298360655737704\n"
     ]
    }
   ],
   "source": [
    "score_mean_Xbox = data_actual[data_actual['platform'] == 'XOne']['user_score'].mean()\n",
    "score_mean_PC = data_actual[data_actual['platform'] == 'PC']['user_score'].mean()\n",
    "print(score_mean_Xbox)\n",
    "print(score_mean_PC)"
   ]
  },
  {
   "cell_type": "markdown",
   "metadata": {},
   "source": [
    "H_0: средний пользовательский рейтинг платформы Xbox One = средний пользовательский рейтинг платформы PC\n"
   ]
  },
  {
   "cell_type": "markdown",
   "metadata": {},
   "source": [
    "H_1: средний пользовательский рейтинг платформы Xbox One ≠  средний пользовательский рейтинг платформы PC"
   ]
  },
  {
   "cell_type": "markdown",
   "metadata": {},
   "source": [
    "alpha = 0.05"
   ]
  },
  {
   "cell_type": "code",
   "execution_count": 45,
   "metadata": {},
   "outputs": [
    {
     "name": "stdout",
     "output_type": "stream",
     "text": [
      "0.11601398086668832\n",
      "Не получилось отвергнуть нулевую гипотезу\n"
     ]
    }
   ],
   "source": [
    "alpha = 0.05\n",
    "\n",
    "results = st.ttest_ind(\n",
    "    (data_actual[data_actual['platform'] == 'XOne']['user_score']).dropna(), \n",
    "    (data_actual[data_actual['platform'] == 'PC']['user_score']).dropna(),equal_var = False)\n",
    "\n",
    "print(results.pvalue)\n",
    "\n",
    "if results.pvalue < alpha:\n",
    "    print(\"Отвергаем нулевую гипотезу\")\n",
    "else:\n",
    "    print(\"Не получилось отвергнуть нулевую гипотезу\") "
   ]
  },
  {
   "cell_type": "markdown",
   "metadata": {},
   "source": [
    "Не получилось опровергнуть нулевую гипотезу. То есть, с вероятностью в 9% можно получить различность рейтингов платформ Xbox One и PC"
   ]
  },
  {
   "cell_type": "markdown",
   "metadata": {},
   "source": [
    "Проверка гипотезы: средние пользовательские рейтинги жанров Action и Sports разные "
   ]
  },
  {
   "cell_type": "code",
   "execution_count": 46,
   "metadata": {},
   "outputs": [
    {
     "name": "stdout",
     "output_type": "stream",
     "text": [
      "6.760606060606061\n",
      "5.225196850393701\n"
     ]
    }
   ],
   "source": [
    "score_mean_Action = data_actual[data_actual['genre'] == 'Action']['user_score'].mean()\n",
    "score_mean_Sports = data_actual[data_actual['genre'] == 'Sports']['user_score'].mean()\n",
    "print(score_mean_Action)\n",
    "print(score_mean_Sports)"
   ]
  },
  {
   "cell_type": "markdown",
   "metadata": {},
   "source": [
    "H_0: средний пользовательский рейтинг жанра Action  = средний пользовательский рейтинг жанра Sports\n",
    "\n",
    "H_1: средний пользовательский рейтинг жанра Action ≠ средний пользовательский рейтинг жанра Sports\n",
    "\n",
    "alpha = 0.05"
   ]
  },
  {
   "cell_type": "code",
   "execution_count": 47,
   "metadata": {},
   "outputs": [
    {
     "name": "stdout",
     "output_type": "stream",
     "text": [
      "1.1825550382644557e-14\n",
      "Отвергаем нулевую гипотезу\n"
     ]
    }
   ],
   "source": [
    "alpha = 0.05\n",
    "\n",
    "results = st.ttest_ind(\n",
    "    (data_actual[data_actual['genre'] == 'Action']['user_score']).dropna(), \n",
    "    (data_actual[data_actual['genre'] == 'Sports']['user_score']).dropna(),equal_var = False)\n",
    "\n",
    "print(results.pvalue)\n",
    "\n",
    "if results.pvalue < alpha:\n",
    "    print(\"Отвергаем нулевую гипотезу\")\n",
    "else:\n",
    "    print(\"Не получилось отвергнуть нулевую гипотезу\")"
   ]
  },
  {
   "cell_type": "markdown",
   "metadata": {},
   "source": [
    "Отвергаем нулевую гипотезу. Практически нет вероятности получить одинаковые средние рейнтинги по жанрам Action и Sports."
   ]
  },
  {
   "cell_type": "markdown",
   "metadata": {},
   "source": [
    "<b> ШАГ 6 </b>"
   ]
  },
  {
   "cell_type": "markdown",
   "metadata": {},
   "source": [
    "<div class=\"alert alert-block alert-info\"><b>ВЫВОД:</b> Перед анализом данных мы подготовили данные: привели к правильным данным столбцы, привели к нижнему регистру  названия колонок.\n",
    "Определили, что аббревиатура tbd значит to be determined. То есть данные были нарочно не заполнены. Поэтому заменили tbd на nan для проведения дальнейшего анализа. Так же выяснили, что рейтинг ESRB предназначен для маркировки игр для США и Канады. Для других регионов он не заполняется. Поэтому поставили заглушки вместо пропусков.\n",
    "Проведя анализ, мы выявили, что количество игр на игровые приставки и компьютеры начало расти с большой скоростью с 90х до 2008 года. С 2008 года произошел резкий спад разработок консольных игр. Возможно,это связано с кризисом 2008 года и с началом массового создания мобильных игр. Мы выбрали актуальный период с 2014 до 2016 года, так как часть платформ перестали быть актуальными, а индустрия быстро меняется.\n",
    "За весь период консольных приставок самые популярные оказались: PS2, X360, PS3, WII, DS.\n",
    "Также мы выявили, что средняя продолжительность жизни игровой приставки составляет порядка 10 лет.\n",
    "Исходя из анализа мы увидели, что у Wii был резкий скачок в 2006 году и такой же резкий провал. Скорее всего потому что у людей не было особого интереса к приставке, так как начали набирать популярность мобильные игры. \n",
    "Проведя анализ оценок пользователей и критиков, мы выявили, что оценки пользователей почти не влияют на выбор игры, но влияют оценки критиков. Нужно обращать внимание на оценки критиков.\n",
    "Так же определили, что самый популярный жанр это шутер. На последнем месте приключения.\n",
    "\n",
    "После мы составили портреты пользователей каждого региона.\n",
    "Выяснили, что в Северной Америке самые популярные жанры это шутер, экшн и спорт. Игровые приставки : XOne, PS4. А по рейтингу игр люди предпочитают игры с рейтингами: \"Для взрослых (17+)\",  \"без рейтинга\" и  \"для всех\".\n",
    "В Европе же, популярные категории по рейтингу и популярные жанры точно такие же как и в Северной Америке. Приставки предпочитают такие же, как в Северной Америке, но больше половины продаж занимает PS4. \n",
    "В Японии люди предпочитают игровые приставки: 3DS, PS4. А жанры игры : Role-Playing и Action. Рейтинг игр: \"без рейтинга\",\"для подростков (13+)\".\n",
    "Исходя из всех данных предполагаем, что лучше всего продавать игры для таких приставок как Sony Playstation 4\n",
    "Жанр необходимо выбирать Шутер и выбирать игры с рейтингом \"Для взрослых (17+)\", тогда продажи будут значительно больше, чем если продавать другие игры. Для региона лучше всего подойдёт Европа.\n",
    "</div>"
   ]
  }
 ],
 "metadata": {
  "ExecuteTimeLog": [
   {
    "duration": 493,
    "start_time": "2022-09-20T14:32:40.367Z"
   },
   {
    "duration": 15,
    "start_time": "2022-09-20T14:32:54.244Z"
   },
   {
    "duration": 15,
    "start_time": "2022-09-20T14:33:26.737Z"
   },
   {
    "duration": 147,
    "start_time": "2022-09-20T14:39:12.656Z"
   },
   {
    "duration": 5,
    "start_time": "2022-09-20T14:46:51.479Z"
   },
   {
    "duration": 79,
    "start_time": "2022-09-20T14:47:08.344Z"
   },
   {
    "duration": 3,
    "start_time": "2022-09-20T14:48:41.851Z"
   },
   {
    "duration": 14,
    "start_time": "2022-09-20T14:48:50.327Z"
   },
   {
    "duration": 16,
    "start_time": "2022-09-20T14:51:38.986Z"
   },
   {
    "duration": 12,
    "start_time": "2022-09-20T14:51:49.880Z"
   },
   {
    "duration": 13,
    "start_time": "2022-09-20T14:51:56.349Z"
   },
   {
    "duration": 5,
    "start_time": "2022-09-20T14:59:09.350Z"
   },
   {
    "duration": 7,
    "start_time": "2022-09-20T14:59:29.664Z"
   },
   {
    "duration": 7,
    "start_time": "2022-09-20T16:13:13.126Z"
   },
   {
    "duration": 8,
    "start_time": "2022-09-20T16:13:56.405Z"
   },
   {
    "duration": 5,
    "start_time": "2022-09-20T16:14:21.591Z"
   },
   {
    "duration": 8,
    "start_time": "2022-09-20T16:14:30.575Z"
   },
   {
    "duration": 13,
    "start_time": "2022-09-20T16:14:38.915Z"
   },
   {
    "duration": 13,
    "start_time": "2022-09-20T16:14:49.103Z"
   },
   {
    "duration": 5,
    "start_time": "2022-09-20T16:14:57.739Z"
   },
   {
    "duration": 8,
    "start_time": "2022-09-20T16:15:24.377Z"
   },
   {
    "duration": 5,
    "start_time": "2022-09-20T16:15:29.407Z"
   },
   {
    "duration": 5,
    "start_time": "2022-09-20T16:15:51.317Z"
   },
   {
    "duration": 5,
    "start_time": "2022-09-20T16:16:11.312Z"
   },
   {
    "duration": 11,
    "start_time": "2022-09-20T16:16:31.893Z"
   },
   {
    "duration": 10,
    "start_time": "2022-09-20T16:18:36.068Z"
   },
   {
    "duration": 21,
    "start_time": "2022-09-20T16:19:22.398Z"
   },
   {
    "duration": 6,
    "start_time": "2022-09-20T16:21:09.079Z"
   },
   {
    "duration": 7,
    "start_time": "2022-09-20T16:21:13.459Z"
   },
   {
    "duration": 13,
    "start_time": "2022-09-20T16:21:38.294Z"
   },
   {
    "duration": 3,
    "start_time": "2022-09-20T16:22:44.618Z"
   },
   {
    "duration": 6,
    "start_time": "2022-09-20T16:22:51.344Z"
   },
   {
    "duration": 2110,
    "start_time": "2022-09-20T16:27:00.470Z"
   },
   {
    "duration": 5,
    "start_time": "2022-09-20T16:27:15.731Z"
   },
   {
    "duration": 7,
    "start_time": "2022-09-20T16:27:24.549Z"
   },
   {
    "duration": 5,
    "start_time": "2022-09-20T16:27:37.010Z"
   },
   {
    "duration": 5,
    "start_time": "2022-09-20T16:27:41.927Z"
   },
   {
    "duration": 1011,
    "start_time": "2022-09-20T16:28:47.960Z"
   },
   {
    "duration": 18,
    "start_time": "2022-09-20T16:28:48.973Z"
   },
   {
    "duration": 41,
    "start_time": "2022-09-20T16:28:48.993Z"
   },
   {
    "duration": 12,
    "start_time": "2022-09-20T16:28:49.037Z"
   },
   {
    "duration": 22,
    "start_time": "2022-09-20T16:28:49.051Z"
   },
   {
    "duration": 24,
    "start_time": "2022-09-20T16:28:49.075Z"
   },
   {
    "duration": 22,
    "start_time": "2022-09-20T16:28:49.174Z"
   },
   {
    "duration": 5,
    "start_time": "2022-09-20T16:28:49.512Z"
   },
   {
    "duration": 7,
    "start_time": "2022-09-20T16:28:49.674Z"
   },
   {
    "duration": 5,
    "start_time": "2022-09-20T16:28:50.039Z"
   },
   {
    "duration": 5,
    "start_time": "2022-09-20T16:28:50.249Z"
   },
   {
    "duration": 5,
    "start_time": "2022-09-20T16:28:50.613Z"
   },
   {
    "duration": 62,
    "start_time": "2022-09-20T16:29:02.732Z"
   },
   {
    "duration": 15,
    "start_time": "2022-09-20T16:29:02.917Z"
   },
   {
    "duration": 14,
    "start_time": "2022-09-20T16:29:05.186Z"
   },
   {
    "duration": 3,
    "start_time": "2022-09-20T16:29:05.575Z"
   },
   {
    "duration": 15,
    "start_time": "2022-09-20T16:29:05.765Z"
   },
   {
    "duration": 8,
    "start_time": "2022-09-20T16:29:06.426Z"
   },
   {
    "duration": 16,
    "start_time": "2022-09-20T16:29:06.628Z"
   },
   {
    "duration": 5,
    "start_time": "2022-09-20T16:29:07.087Z"
   },
   {
    "duration": 7,
    "start_time": "2022-09-20T16:29:07.898Z"
   },
   {
    "duration": 46,
    "start_time": "2022-09-20T16:29:09.358Z"
   },
   {
    "duration": 5,
    "start_time": "2022-09-20T16:29:11.602Z"
   },
   {
    "duration": 4,
    "start_time": "2022-09-20T16:29:12.270Z"
   },
   {
    "duration": 13,
    "start_time": "2022-09-20T16:29:23.429Z"
   },
   {
    "duration": 9,
    "start_time": "2022-09-20T16:29:32.813Z"
   },
   {
    "duration": 5,
    "start_time": "2022-09-20T16:29:46.976Z"
   },
   {
    "duration": 7,
    "start_time": "2022-09-20T16:29:49.493Z"
   },
   {
    "duration": 7,
    "start_time": "2022-09-20T16:29:58.196Z"
   },
   {
    "duration": 5,
    "start_time": "2022-09-20T16:30:05.364Z"
   },
   {
    "duration": 6,
    "start_time": "2022-09-20T16:30:05.895Z"
   },
   {
    "duration": 61,
    "start_time": "2022-09-20T16:30:25.745Z"
   },
   {
    "duration": 14,
    "start_time": "2022-09-20T16:30:26.066Z"
   },
   {
    "duration": 15,
    "start_time": "2022-09-20T16:30:26.691Z"
   },
   {
    "duration": 3,
    "start_time": "2022-09-20T16:30:29.015Z"
   },
   {
    "duration": 15,
    "start_time": "2022-09-20T16:30:29.649Z"
   },
   {
    "duration": 9,
    "start_time": "2022-09-20T16:30:30.426Z"
   },
   {
    "duration": 15,
    "start_time": "2022-09-20T16:30:33.590Z"
   },
   {
    "duration": 4,
    "start_time": "2022-09-20T16:30:35.260Z"
   },
   {
    "duration": 7,
    "start_time": "2022-09-20T16:30:36.068Z"
   },
   {
    "duration": 5,
    "start_time": "2022-09-20T16:30:40.606Z"
   },
   {
    "duration": 6,
    "start_time": "2022-09-20T16:30:41.193Z"
   },
   {
    "duration": 5,
    "start_time": "2022-09-20T16:31:30.566Z"
   },
   {
    "duration": 11,
    "start_time": "2022-09-20T16:36:08.896Z"
   },
   {
    "duration": 7,
    "start_time": "2022-09-20T16:36:16.932Z"
   },
   {
    "duration": 16,
    "start_time": "2022-09-20T16:36:48.001Z"
   },
   {
    "duration": 21,
    "start_time": "2022-09-20T16:37:32.688Z"
   },
   {
    "duration": 18,
    "start_time": "2022-09-20T16:39:48.568Z"
   },
   {
    "duration": 19,
    "start_time": "2022-09-20T16:40:03.237Z"
   },
   {
    "duration": 21,
    "start_time": "2022-09-20T16:40:17.810Z"
   },
   {
    "duration": 21,
    "start_time": "2022-09-20T16:41:13.750Z"
   },
   {
    "duration": 18,
    "start_time": "2022-09-20T16:41:27.499Z"
   },
   {
    "duration": 46,
    "start_time": "2022-09-20T22:29:35.391Z"
   },
   {
    "duration": 41,
    "start_time": "2022-09-20T22:36:18.229Z"
   },
   {
    "duration": 46,
    "start_time": "2022-09-20T22:36:31.993Z"
   },
   {
    "duration": 55,
    "start_time": "2022-09-20T22:36:36.880Z"
   },
   {
    "duration": 38,
    "start_time": "2022-09-20T22:37:05.290Z"
   },
   {
    "duration": 376,
    "start_time": "2022-09-20T22:40:21.197Z"
   },
   {
    "duration": 9,
    "start_time": "2022-09-20T22:40:43.587Z"
   },
   {
    "duration": 57,
    "start_time": "2022-09-21T09:15:32.315Z"
   },
   {
    "duration": 1701,
    "start_time": "2022-09-21T09:15:38.308Z"
   },
   {
    "duration": 17,
    "start_time": "2022-09-21T09:15:40.014Z"
   },
   {
    "duration": 14,
    "start_time": "2022-09-21T09:15:40.033Z"
   },
   {
    "duration": 6,
    "start_time": "2022-09-21T09:15:40.049Z"
   },
   {
    "duration": 18,
    "start_time": "2022-09-21T09:15:40.056Z"
   },
   {
    "duration": 49,
    "start_time": "2022-09-21T09:15:40.076Z"
   },
   {
    "duration": 20,
    "start_time": "2022-09-21T09:15:40.127Z"
   },
   {
    "duration": 6,
    "start_time": "2022-09-21T09:15:40.149Z"
   },
   {
    "duration": 8,
    "start_time": "2022-09-21T09:15:40.228Z"
   },
   {
    "duration": 4,
    "start_time": "2022-09-21T09:15:40.642Z"
   },
   {
    "duration": 6,
    "start_time": "2022-09-21T09:15:40.854Z"
   },
   {
    "duration": 5,
    "start_time": "2022-09-21T09:15:41.112Z"
   },
   {
    "duration": 5,
    "start_time": "2022-09-21T09:15:41.711Z"
   },
   {
    "duration": 19,
    "start_time": "2022-09-21T09:15:42.277Z"
   },
   {
    "duration": 32,
    "start_time": "2022-09-21T09:15:42.887Z"
   },
   {
    "duration": 423,
    "start_time": "2022-09-21T09:15:45.553Z"
   },
   {
    "duration": 10,
    "start_time": "2022-09-21T09:15:46.015Z"
   },
   {
    "duration": 0,
    "start_time": "2022-09-21T09:16:05.842Z"
   },
   {
    "duration": 18989,
    "start_time": "2022-09-21T09:16:07.226Z"
   },
   {
    "duration": 10,
    "start_time": "2022-09-21T09:17:19.038Z"
   },
   {
    "duration": 44,
    "start_time": "2022-09-21T09:17:55.083Z"
   },
   {
    "duration": 12592,
    "start_time": "2022-09-21T09:19:12.451Z"
   },
   {
    "duration": 79,
    "start_time": "2022-09-21T09:19:34.073Z"
   },
   {
    "duration": 13,
    "start_time": "2022-09-21T09:19:34.262Z"
   },
   {
    "duration": 14,
    "start_time": "2022-09-21T09:19:34.450Z"
   },
   {
    "duration": 3,
    "start_time": "2022-09-21T09:19:34.837Z"
   },
   {
    "duration": 15,
    "start_time": "2022-09-21T09:19:35.026Z"
   },
   {
    "duration": 11,
    "start_time": "2022-09-21T09:19:35.234Z"
   },
   {
    "duration": 22,
    "start_time": "2022-09-21T09:19:35.901Z"
   },
   {
    "duration": 16,
    "start_time": "2022-09-21T09:19:35.925Z"
   },
   {
    "duration": 6,
    "start_time": "2022-09-21T09:19:36.060Z"
   },
   {
    "duration": 6,
    "start_time": "2022-09-21T09:19:37.414Z"
   },
   {
    "duration": 6,
    "start_time": "2022-09-21T09:19:37.654Z"
   },
   {
    "duration": 4,
    "start_time": "2022-09-21T09:19:37.853Z"
   },
   {
    "duration": 5,
    "start_time": "2022-09-21T09:19:38.113Z"
   },
   {
    "duration": 11,
    "start_time": "2022-09-21T09:19:38.330Z"
   },
   {
    "duration": 18,
    "start_time": "2022-09-21T09:19:38.924Z"
   },
   {
    "duration": 419,
    "start_time": "2022-09-21T09:19:39.627Z"
   },
   {
    "duration": 136,
    "start_time": "2022-09-21T09:19:40.048Z"
   },
   {
    "duration": 15,
    "start_time": "2022-09-21T09:19:44.581Z"
   },
   {
    "duration": 14538,
    "start_time": "2022-09-21T09:19:47.826Z"
   },
   {
    "duration": 9,
    "start_time": "2022-09-21T09:20:26.942Z"
   },
   {
    "duration": 33,
    "start_time": "2022-09-21T09:20:57.228Z"
   },
   {
    "duration": 71,
    "start_time": "2022-09-21T09:21:18.525Z"
   },
   {
    "duration": 15,
    "start_time": "2022-09-21T09:21:18.740Z"
   },
   {
    "duration": 14,
    "start_time": "2022-09-21T09:21:18.959Z"
   },
   {
    "duration": 3,
    "start_time": "2022-09-21T09:21:19.434Z"
   },
   {
    "duration": 14,
    "start_time": "2022-09-21T09:21:19.644Z"
   },
   {
    "duration": 9,
    "start_time": "2022-09-21T09:21:19.867Z"
   },
   {
    "duration": 24,
    "start_time": "2022-09-21T09:21:20.079Z"
   },
   {
    "duration": 4,
    "start_time": "2022-09-21T09:21:20.547Z"
   },
   {
    "duration": 17,
    "start_time": "2022-09-21T09:21:20.787Z"
   },
   {
    "duration": 5,
    "start_time": "2022-09-21T09:21:21.217Z"
   },
   {
    "duration": 5,
    "start_time": "2022-09-21T09:21:21.476Z"
   },
   {
    "duration": 9,
    "start_time": "2022-09-21T09:21:21.712Z"
   },
   {
    "duration": 5,
    "start_time": "2022-09-21T09:21:21.957Z"
   },
   {
    "duration": 21,
    "start_time": "2022-09-21T09:21:22.201Z"
   },
   {
    "duration": 21,
    "start_time": "2022-09-21T09:21:22.688Z"
   },
   {
    "duration": 370,
    "start_time": "2022-09-21T09:21:24.274Z"
   },
   {
    "duration": 11,
    "start_time": "2022-09-21T09:21:24.945Z"
   },
   {
    "duration": 412,
    "start_time": "2022-09-21T09:21:26.770Z"
   },
   {
    "duration": 75,
    "start_time": "2022-09-21T09:22:27.786Z"
   },
   {
    "duration": 14,
    "start_time": "2022-09-21T09:22:27.964Z"
   },
   {
    "duration": 13,
    "start_time": "2022-09-21T09:22:28.148Z"
   },
   {
    "duration": 3,
    "start_time": "2022-09-21T09:22:28.506Z"
   },
   {
    "duration": 18,
    "start_time": "2022-09-21T09:22:28.685Z"
   },
   {
    "duration": 9,
    "start_time": "2022-09-21T09:22:28.849Z"
   },
   {
    "duration": 16,
    "start_time": "2022-09-21T09:22:29.102Z"
   },
   {
    "duration": 6,
    "start_time": "2022-09-21T09:22:29.505Z"
   },
   {
    "duration": 9,
    "start_time": "2022-09-21T09:22:29.689Z"
   },
   {
    "duration": 4,
    "start_time": "2022-09-21T09:22:31.746Z"
   },
   {
    "duration": 6,
    "start_time": "2022-09-21T09:22:32.029Z"
   },
   {
    "duration": 4,
    "start_time": "2022-09-21T09:22:32.242Z"
   },
   {
    "duration": 3,
    "start_time": "2022-09-21T09:22:32.454Z"
   },
   {
    "duration": 12,
    "start_time": "2022-09-21T09:22:32.669Z"
   },
   {
    "duration": 19,
    "start_time": "2022-09-21T09:22:32.867Z"
   },
   {
    "duration": 357,
    "start_time": "2022-09-21T09:22:33.312Z"
   },
   {
    "duration": 9,
    "start_time": "2022-09-21T09:22:33.671Z"
   },
   {
    "duration": 399,
    "start_time": "2022-09-21T09:22:34.712Z"
   },
   {
    "duration": 71,
    "start_time": "2022-09-21T09:23:39.150Z"
   },
   {
    "duration": 18,
    "start_time": "2022-09-21T09:23:39.322Z"
   },
   {
    "duration": 13,
    "start_time": "2022-09-21T09:23:39.504Z"
   },
   {
    "duration": 3,
    "start_time": "2022-09-21T09:23:39.863Z"
   },
   {
    "duration": 13,
    "start_time": "2022-09-21T09:23:40.060Z"
   },
   {
    "duration": 15,
    "start_time": "2022-09-21T09:23:40.250Z"
   },
   {
    "duration": 28,
    "start_time": "2022-09-21T09:23:40.485Z"
   },
   {
    "duration": 10,
    "start_time": "2022-09-21T09:23:40.889Z"
   },
   {
    "duration": 6,
    "start_time": "2022-09-21T09:23:41.108Z"
   },
   {
    "duration": 5,
    "start_time": "2022-09-21T09:23:41.504Z"
   },
   {
    "duration": 6,
    "start_time": "2022-09-21T09:23:41.719Z"
   },
   {
    "duration": 4,
    "start_time": "2022-09-21T09:23:42.201Z"
   },
   {
    "duration": 4,
    "start_time": "2022-09-21T09:23:42.434Z"
   },
   {
    "duration": 12,
    "start_time": "2022-09-21T09:23:42.647Z"
   },
   {
    "duration": 18,
    "start_time": "2022-09-21T09:23:42.903Z"
   },
   {
    "duration": 380,
    "start_time": "2022-09-21T09:23:43.339Z"
   },
   {
    "duration": 9,
    "start_time": "2022-09-21T09:23:43.722Z"
   },
   {
    "duration": 405,
    "start_time": "2022-09-21T09:23:45.854Z"
   },
   {
    "duration": 22,
    "start_time": "2022-09-21T09:23:49.479Z"
   },
   {
    "duration": 20,
    "start_time": "2022-09-21T09:23:54.542Z"
   },
   {
    "duration": 27,
    "start_time": "2022-09-21T09:29:30.757Z"
   },
   {
    "duration": 227,
    "start_time": "2022-09-21T09:30:08.859Z"
   },
   {
    "duration": 1433,
    "start_time": "2022-09-21T15:05:35.692Z"
   },
   {
    "duration": 13,
    "start_time": "2022-09-21T15:05:37.127Z"
   },
   {
    "duration": 12,
    "start_time": "2022-09-21T15:05:37.141Z"
   },
   {
    "duration": 3,
    "start_time": "2022-09-21T15:05:37.155Z"
   },
   {
    "duration": 13,
    "start_time": "2022-09-21T15:05:37.160Z"
   },
   {
    "duration": 10,
    "start_time": "2022-09-21T15:05:37.175Z"
   },
   {
    "duration": 43,
    "start_time": "2022-09-21T15:05:37.186Z"
   },
   {
    "duration": 4,
    "start_time": "2022-09-21T15:05:37.411Z"
   },
   {
    "duration": 7,
    "start_time": "2022-09-21T15:05:37.595Z"
   },
   {
    "duration": 4,
    "start_time": "2022-09-21T15:05:37.970Z"
   },
   {
    "duration": 5,
    "start_time": "2022-09-21T15:05:38.163Z"
   },
   {
    "duration": 4,
    "start_time": "2022-09-21T15:05:38.355Z"
   },
   {
    "duration": 4,
    "start_time": "2022-09-21T15:05:38.555Z"
   },
   {
    "duration": 10,
    "start_time": "2022-09-21T15:05:38.751Z"
   },
   {
    "duration": 16,
    "start_time": "2022-09-21T15:05:38.940Z"
   },
   {
    "duration": 288,
    "start_time": "2022-09-21T15:05:39.347Z"
   },
   {
    "duration": 8,
    "start_time": "2022-09-21T15:05:39.637Z"
   },
   {
    "duration": 305,
    "start_time": "2022-09-21T15:05:39.973Z"
   },
   {
    "duration": 7,
    "start_time": "2022-09-21T15:05:40.280Z"
   },
   {
    "duration": 130,
    "start_time": "2022-09-21T15:06:06.603Z"
   },
   {
    "duration": 63,
    "start_time": "2022-09-21T15:21:00.769Z"
   },
   {
    "duration": 12,
    "start_time": "2022-09-21T15:21:00.972Z"
   },
   {
    "duration": 13,
    "start_time": "2022-09-21T15:21:01.167Z"
   },
   {
    "duration": 3,
    "start_time": "2022-09-21T15:21:01.554Z"
   },
   {
    "duration": 16,
    "start_time": "2022-09-21T15:21:01.755Z"
   },
   {
    "duration": 9,
    "start_time": "2022-09-21T15:21:01.913Z"
   },
   {
    "duration": 15,
    "start_time": "2022-09-21T15:21:02.109Z"
   },
   {
    "duration": 4,
    "start_time": "2022-09-21T15:21:02.499Z"
   },
   {
    "duration": 6,
    "start_time": "2022-09-21T15:21:02.694Z"
   },
   {
    "duration": 4,
    "start_time": "2022-09-21T15:21:03.092Z"
   },
   {
    "duration": 6,
    "start_time": "2022-09-21T15:21:03.274Z"
   },
   {
    "duration": 4,
    "start_time": "2022-09-21T15:21:03.500Z"
   },
   {
    "duration": 3,
    "start_time": "2022-09-21T15:21:03.700Z"
   },
   {
    "duration": 11,
    "start_time": "2022-09-21T15:21:03.896Z"
   },
   {
    "duration": 17,
    "start_time": "2022-09-21T15:21:04.096Z"
   },
   {
    "duration": 320,
    "start_time": "2022-09-21T15:21:04.502Z"
   },
   {
    "duration": 7,
    "start_time": "2022-09-21T15:21:04.824Z"
   },
   {
    "duration": 5,
    "start_time": "2022-09-21T15:32:22.573Z"
   },
   {
    "duration": 10,
    "start_time": "2022-09-21T20:02:43.541Z"
   },
   {
    "duration": 7,
    "start_time": "2022-09-21T20:02:44.222Z"
   },
   {
    "duration": 8,
    "start_time": "2022-09-21T20:03:35.002Z"
   },
   {
    "duration": 8,
    "start_time": "2022-09-21T20:03:42.908Z"
   },
   {
    "duration": 13,
    "start_time": "2022-09-21T20:12:56.646Z"
   },
   {
    "duration": 7,
    "start_time": "2022-09-21T20:13:09.308Z"
   },
   {
    "duration": 144,
    "start_time": "2022-09-21T20:15:55.856Z"
   },
   {
    "duration": 138,
    "start_time": "2022-09-21T20:17:08.241Z"
   },
   {
    "duration": 145,
    "start_time": "2022-09-21T20:17:45.101Z"
   },
   {
    "duration": 13,
    "start_time": "2022-09-21T20:22:12.038Z"
   },
   {
    "duration": 14,
    "start_time": "2022-09-21T20:22:29.156Z"
   },
   {
    "duration": 14,
    "start_time": "2022-09-21T20:22:40.800Z"
   },
   {
    "duration": 123,
    "start_time": "2022-09-21T20:26:15.997Z"
   },
   {
    "duration": 19,
    "start_time": "2022-09-21T20:28:36.465Z"
   },
   {
    "duration": 23,
    "start_time": "2022-09-21T20:29:24.530Z"
   },
   {
    "duration": 1484,
    "start_time": "2022-09-22T18:09:29.937Z"
   },
   {
    "duration": 16,
    "start_time": "2022-09-22T18:09:31.424Z"
   },
   {
    "duration": 13,
    "start_time": "2022-09-22T18:09:31.442Z"
   },
   {
    "duration": 9,
    "start_time": "2022-09-22T18:09:31.457Z"
   },
   {
    "duration": 27,
    "start_time": "2022-09-22T18:09:31.468Z"
   },
   {
    "duration": 14,
    "start_time": "2022-09-22T18:09:31.497Z"
   },
   {
    "duration": 22,
    "start_time": "2022-09-22T18:09:31.512Z"
   },
   {
    "duration": 5,
    "start_time": "2022-09-22T18:09:31.644Z"
   },
   {
    "duration": 7,
    "start_time": "2022-09-22T18:09:31.832Z"
   },
   {
    "duration": 5,
    "start_time": "2022-09-22T18:09:32.195Z"
   },
   {
    "duration": 6,
    "start_time": "2022-09-22T18:09:32.389Z"
   },
   {
    "duration": 4,
    "start_time": "2022-09-22T18:09:32.583Z"
   },
   {
    "duration": 3,
    "start_time": "2022-09-22T18:09:32.752Z"
   },
   {
    "duration": 11,
    "start_time": "2022-09-22T18:09:32.940Z"
   },
   {
    "duration": 19,
    "start_time": "2022-09-22T18:09:33.127Z"
   },
   {
    "duration": 324,
    "start_time": "2022-09-22T18:09:33.583Z"
   },
   {
    "duration": 8,
    "start_time": "2022-09-22T18:09:34.242Z"
   },
   {
    "duration": 5,
    "start_time": "2022-09-22T18:09:35.183Z"
   },
   {
    "duration": 12,
    "start_time": "2022-09-22T18:09:36.147Z"
   },
   {
    "duration": 9,
    "start_time": "2022-09-22T18:09:36.661Z"
   },
   {
    "duration": 172,
    "start_time": "2022-09-22T18:09:37.043Z"
   },
   {
    "duration": 12,
    "start_time": "2022-09-22T18:09:37.397Z"
   },
   {
    "duration": 12,
    "start_time": "2022-09-22T18:09:50.345Z"
   },
   {
    "duration": 8,
    "start_time": "2022-09-22T18:10:31.584Z"
   },
   {
    "duration": 3,
    "start_time": "2022-09-22T18:11:00.182Z"
   },
   {
    "duration": 8,
    "start_time": "2022-09-22T18:11:05.392Z"
   },
   {
    "duration": 8,
    "start_time": "2022-09-22T18:11:51.538Z"
   },
   {
    "duration": 63,
    "start_time": "2022-09-22T18:12:15.199Z"
   },
   {
    "duration": 14,
    "start_time": "2022-09-22T18:12:15.383Z"
   },
   {
    "duration": 13,
    "start_time": "2022-09-22T18:12:15.555Z"
   },
   {
    "duration": 3,
    "start_time": "2022-09-22T18:12:16.059Z"
   },
   {
    "duration": 14,
    "start_time": "2022-09-22T18:12:16.237Z"
   },
   {
    "duration": 9,
    "start_time": "2022-09-22T18:12:16.415Z"
   },
   {
    "duration": 20,
    "start_time": "2022-09-22T18:12:16.598Z"
   },
   {
    "duration": 5,
    "start_time": "2022-09-22T18:12:16.966Z"
   },
   {
    "duration": 8,
    "start_time": "2022-09-22T18:12:17.154Z"
   },
   {
    "duration": 5,
    "start_time": "2022-09-22T18:12:17.526Z"
   },
   {
    "duration": 5,
    "start_time": "2022-09-22T18:12:17.708Z"
   },
   {
    "duration": 4,
    "start_time": "2022-09-22T18:12:17.909Z"
   },
   {
    "duration": 5,
    "start_time": "2022-09-22T18:12:18.099Z"
   },
   {
    "duration": 14,
    "start_time": "2022-09-22T18:12:18.293Z"
   },
   {
    "duration": 19,
    "start_time": "2022-09-22T18:12:18.490Z"
   },
   {
    "duration": 347,
    "start_time": "2022-09-22T18:12:18.890Z"
   },
   {
    "duration": 8,
    "start_time": "2022-09-22T18:12:19.240Z"
   },
   {
    "duration": 5,
    "start_time": "2022-09-22T18:12:19.486Z"
   },
   {
    "duration": 11,
    "start_time": "2022-09-22T18:12:19.887Z"
   },
   {
    "duration": 8,
    "start_time": "2022-09-22T18:12:20.083Z"
   },
   {
    "duration": 171,
    "start_time": "2022-09-22T18:12:20.291Z"
   },
   {
    "duration": 12,
    "start_time": "2022-09-22T18:12:22.055Z"
   },
   {
    "duration": 5,
    "start_time": "2022-09-22T18:12:23.542Z"
   },
   {
    "duration": 9,
    "start_time": "2022-09-22T18:12:23.805Z"
   },
   {
    "duration": 137,
    "start_time": "2022-09-22T18:13:33.342Z"
   },
   {
    "duration": 8,
    "start_time": "2022-09-22T18:14:13.773Z"
   },
   {
    "duration": 8,
    "start_time": "2022-09-22T18:15:15.356Z"
   },
   {
    "duration": 13,
    "start_time": "2022-09-22T18:19:33.132Z"
   },
   {
    "duration": 3,
    "start_time": "2022-09-22T18:19:35.896Z"
   },
   {
    "duration": 144,
    "start_time": "2022-09-22T18:19:36.885Z"
   },
   {
    "duration": 27,
    "start_time": "2022-09-22T18:21:01.994Z"
   },
   {
    "duration": 18,
    "start_time": "2022-09-22T18:21:58.158Z"
   },
   {
    "duration": 14,
    "start_time": "2022-09-22T18:23:18.829Z"
   },
   {
    "duration": 8,
    "start_time": "2022-09-22T18:23:40.530Z"
   },
   {
    "duration": 14,
    "start_time": "2022-09-22T18:24:58.128Z"
   },
   {
    "duration": 15,
    "start_time": "2022-09-22T18:25:02.568Z"
   },
   {
    "duration": 65,
    "start_time": "2022-09-22T18:25:08.038Z"
   },
   {
    "duration": 14,
    "start_time": "2022-09-22T18:25:08.259Z"
   },
   {
    "duration": 14,
    "start_time": "2022-09-22T18:25:08.427Z"
   },
   {
    "duration": 3,
    "start_time": "2022-09-22T18:25:09.061Z"
   },
   {
    "duration": 14,
    "start_time": "2022-09-22T18:25:09.238Z"
   },
   {
    "duration": 9,
    "start_time": "2022-09-22T18:25:09.411Z"
   },
   {
    "duration": 15,
    "start_time": "2022-09-22T18:25:09.583Z"
   },
   {
    "duration": 4,
    "start_time": "2022-09-22T18:25:09.947Z"
   },
   {
    "duration": 6,
    "start_time": "2022-09-22T18:25:10.171Z"
   },
   {
    "duration": 4,
    "start_time": "2022-09-22T18:25:10.549Z"
   },
   {
    "duration": 5,
    "start_time": "2022-09-22T18:25:10.707Z"
   },
   {
    "duration": 4,
    "start_time": "2022-09-22T18:25:10.887Z"
   },
   {
    "duration": 3,
    "start_time": "2022-09-22T18:25:11.038Z"
   },
   {
    "duration": 11,
    "start_time": "2022-09-22T18:25:11.197Z"
   },
   {
    "duration": 17,
    "start_time": "2022-09-22T18:25:11.365Z"
   },
   {
    "duration": 345,
    "start_time": "2022-09-22T18:25:11.688Z"
   },
   {
    "duration": 9,
    "start_time": "2022-09-22T18:25:12.035Z"
   },
   {
    "duration": 5,
    "start_time": "2022-09-22T18:25:12.216Z"
   },
   {
    "duration": 11,
    "start_time": "2022-09-22T18:25:12.609Z"
   },
   {
    "duration": 8,
    "start_time": "2022-09-22T18:25:12.827Z"
   },
   {
    "duration": 173,
    "start_time": "2022-09-22T18:25:13.027Z"
   },
   {
    "duration": 15,
    "start_time": "2022-09-22T18:25:15.138Z"
   },
   {
    "duration": 16,
    "start_time": "2022-09-22T18:25:46.758Z"
   },
   {
    "duration": 61,
    "start_time": "2022-09-22T18:25:53.443Z"
   },
   {
    "duration": 14,
    "start_time": "2022-09-22T18:25:53.605Z"
   },
   {
    "duration": 14,
    "start_time": "2022-09-22T18:25:53.765Z"
   },
   {
    "duration": 2,
    "start_time": "2022-09-22T18:25:54.228Z"
   },
   {
    "duration": 14,
    "start_time": "2022-09-22T18:25:54.390Z"
   },
   {
    "duration": 9,
    "start_time": "2022-09-22T18:25:54.532Z"
   },
   {
    "duration": 15,
    "start_time": "2022-09-22T18:25:54.728Z"
   },
   {
    "duration": 4,
    "start_time": "2022-09-22T18:25:55.805Z"
   },
   {
    "duration": 6,
    "start_time": "2022-09-22T18:25:55.939Z"
   },
   {
    "duration": 4,
    "start_time": "2022-09-22T18:25:56.275Z"
   },
   {
    "duration": 5,
    "start_time": "2022-09-22T18:25:56.444Z"
   },
   {
    "duration": 5,
    "start_time": "2022-09-22T18:25:56.595Z"
   },
   {
    "duration": 4,
    "start_time": "2022-09-22T18:25:56.782Z"
   },
   {
    "duration": 12,
    "start_time": "2022-09-22T18:25:56.960Z"
   },
   {
    "duration": 19,
    "start_time": "2022-09-22T18:25:57.129Z"
   },
   {
    "duration": 351,
    "start_time": "2022-09-22T18:25:57.487Z"
   },
   {
    "duration": 9,
    "start_time": "2022-09-22T18:25:57.840Z"
   },
   {
    "duration": 5,
    "start_time": "2022-09-22T18:25:57.996Z"
   },
   {
    "duration": 10,
    "start_time": "2022-09-22T18:25:58.354Z"
   },
   {
    "duration": 8,
    "start_time": "2022-09-22T18:25:58.538Z"
   },
   {
    "duration": 179,
    "start_time": "2022-09-22T18:25:58.704Z"
   },
   {
    "duration": 16,
    "start_time": "2022-09-22T18:25:59.905Z"
   },
   {
    "duration": 16,
    "start_time": "2022-09-22T18:26:03.902Z"
   },
   {
    "duration": 3,
    "start_time": "2022-09-22T18:26:19.638Z"
   },
   {
    "duration": 101,
    "start_time": "2022-09-22T18:26:20.210Z"
   },
   {
    "duration": 304,
    "start_time": "2022-09-22T18:27:12.893Z"
   },
   {
    "duration": 397,
    "start_time": "2022-09-22T18:27:43.679Z"
   },
   {
    "duration": 354,
    "start_time": "2022-09-22T18:27:58.096Z"
   },
   {
    "duration": 1306,
    "start_time": "2022-09-22T18:28:39.089Z"
   },
   {
    "duration": 362,
    "start_time": "2022-09-22T18:28:56.180Z"
   },
   {
    "duration": 9,
    "start_time": "2022-09-22T18:30:38.092Z"
   },
   {
    "duration": 250,
    "start_time": "2022-09-22T18:31:26.585Z"
   },
   {
    "duration": 15,
    "start_time": "2022-09-22T18:36:18.378Z"
   },
   {
    "duration": 12,
    "start_time": "2022-09-22T18:36:41.068Z"
   },
   {
    "duration": 20,
    "start_time": "2022-09-22T18:36:53.006Z"
   },
   {
    "duration": 19,
    "start_time": "2022-09-22T18:37:31.897Z"
   },
   {
    "duration": 23,
    "start_time": "2022-09-22T18:39:20.389Z"
   },
   {
    "duration": 162,
    "start_time": "2022-09-22T18:41:44.706Z"
   },
   {
    "duration": 14,
    "start_time": "2022-09-22T18:43:05.368Z"
   },
   {
    "duration": 355,
    "start_time": "2022-09-22T18:43:11.052Z"
   },
   {
    "duration": 154,
    "start_time": "2022-09-22T18:43:19.097Z"
   },
   {
    "duration": 232,
    "start_time": "2022-09-22T18:43:36.329Z"
   },
   {
    "duration": 59,
    "start_time": "2022-09-22T18:43:57.759Z"
   },
   {
    "duration": 13,
    "start_time": "2022-09-22T18:43:57.938Z"
   },
   {
    "duration": 16,
    "start_time": "2022-09-22T18:43:58.116Z"
   },
   {
    "duration": 3,
    "start_time": "2022-09-22T18:43:58.633Z"
   },
   {
    "duration": 17,
    "start_time": "2022-09-22T18:43:58.816Z"
   },
   {
    "duration": 9,
    "start_time": "2022-09-22T18:43:58.996Z"
   },
   {
    "duration": 16,
    "start_time": "2022-09-22T18:43:59.175Z"
   },
   {
    "duration": 5,
    "start_time": "2022-09-22T18:43:59.462Z"
   },
   {
    "duration": 7,
    "start_time": "2022-09-22T18:43:59.652Z"
   },
   {
    "duration": 4,
    "start_time": "2022-09-22T18:44:00.028Z"
   },
   {
    "duration": 5,
    "start_time": "2022-09-22T18:44:00.232Z"
   },
   {
    "duration": 4,
    "start_time": "2022-09-22T18:44:00.406Z"
   },
   {
    "duration": 4,
    "start_time": "2022-09-22T18:44:00.590Z"
   },
   {
    "duration": 13,
    "start_time": "2022-09-22T18:44:00.796Z"
   },
   {
    "duration": 18,
    "start_time": "2022-09-22T18:44:00.971Z"
   },
   {
    "duration": 352,
    "start_time": "2022-09-22T18:44:01.351Z"
   },
   {
    "duration": 8,
    "start_time": "2022-09-22T18:44:01.705Z"
   },
   {
    "duration": 5,
    "start_time": "2022-09-22T18:44:01.909Z"
   },
   {
    "duration": 10,
    "start_time": "2022-09-22T18:44:02.334Z"
   },
   {
    "duration": 8,
    "start_time": "2022-09-22T18:44:02.509Z"
   },
   {
    "duration": 197,
    "start_time": "2022-09-22T18:44:02.775Z"
   },
   {
    "duration": 18,
    "start_time": "2022-09-22T18:44:03.169Z"
   },
   {
    "duration": 359,
    "start_time": "2022-09-22T18:44:04.606Z"
   },
   {
    "duration": 8,
    "start_time": "2022-09-22T18:44:19.834Z"
   },
   {
    "duration": 584,
    "start_time": "2022-09-22T18:49:30.894Z"
   },
   {
    "duration": 755,
    "start_time": "2022-09-22T18:50:26.127Z"
   },
   {
    "duration": 805,
    "start_time": "2022-09-22T18:51:13.692Z"
   },
   {
    "duration": 12,
    "start_time": "2022-09-22T19:40:06.879Z"
   },
   {
    "duration": 32,
    "start_time": "2022-09-22T19:40:32.820Z"
   },
   {
    "duration": 16,
    "start_time": "2022-09-22T19:40:53.598Z"
   },
   {
    "duration": 12,
    "start_time": "2022-09-22T20:14:44.960Z"
   },
   {
    "duration": 25,
    "start_time": "2022-09-22T20:15:02.312Z"
   },
   {
    "duration": 28,
    "start_time": "2022-09-22T20:15:33.369Z"
   },
   {
    "duration": 756,
    "start_time": "2022-09-22T20:17:36.773Z"
   },
   {
    "duration": 1265,
    "start_time": "2022-09-22T20:18:16.001Z"
   },
   {
    "duration": 750,
    "start_time": "2022-09-22T20:29:32.297Z"
   },
   {
    "duration": 751,
    "start_time": "2022-09-22T20:31:38.097Z"
   },
   {
    "duration": 61,
    "start_time": "2022-09-22T20:33:59.206Z"
   },
   {
    "duration": 15,
    "start_time": "2022-09-22T20:33:59.394Z"
   },
   {
    "duration": 14,
    "start_time": "2022-09-22T20:33:59.589Z"
   },
   {
    "duration": 3,
    "start_time": "2022-09-22T20:34:00.090Z"
   },
   {
    "duration": 14,
    "start_time": "2022-09-22T20:34:00.263Z"
   },
   {
    "duration": 13,
    "start_time": "2022-09-22T20:34:00.413Z"
   },
   {
    "duration": 24,
    "start_time": "2022-09-22T20:34:00.647Z"
   },
   {
    "duration": 5,
    "start_time": "2022-09-22T20:34:01.007Z"
   },
   {
    "duration": 9,
    "start_time": "2022-09-22T20:34:01.174Z"
   },
   {
    "duration": 4,
    "start_time": "2022-09-22T20:34:01.504Z"
   },
   {
    "duration": 8,
    "start_time": "2022-09-22T20:34:01.680Z"
   },
   {
    "duration": 5,
    "start_time": "2022-09-22T20:34:01.859Z"
   },
   {
    "duration": 4,
    "start_time": "2022-09-22T20:34:02.038Z"
   },
   {
    "duration": 12,
    "start_time": "2022-09-22T20:34:02.227Z"
   },
   {
    "duration": 16,
    "start_time": "2022-09-22T20:34:02.406Z"
   },
   {
    "duration": 364,
    "start_time": "2022-09-22T20:34:02.796Z"
   },
   {
    "duration": 9,
    "start_time": "2022-09-22T20:34:03.162Z"
   },
   {
    "duration": 6,
    "start_time": "2022-09-22T20:34:03.349Z"
   },
   {
    "duration": 10,
    "start_time": "2022-09-22T20:34:03.731Z"
   },
   {
    "duration": 7,
    "start_time": "2022-09-22T20:34:03.914Z"
   },
   {
    "duration": 161,
    "start_time": "2022-09-22T20:34:04.122Z"
   },
   {
    "duration": 16,
    "start_time": "2022-09-22T20:34:04.500Z"
   },
   {
    "duration": 519,
    "start_time": "2022-09-22T20:34:04.876Z"
   },
   {
    "duration": 750,
    "start_time": "2022-09-22T20:34:05.397Z"
   },
   {
    "duration": 30,
    "start_time": "2022-09-22T20:34:08.087Z"
   },
   {
    "duration": 746,
    "start_time": "2022-09-22T20:34:08.290Z"
   },
   {
    "duration": 7,
    "start_time": "2022-09-22T20:48:26.122Z"
   },
   {
    "duration": 28,
    "start_time": "2022-09-22T20:59:34.672Z"
   },
   {
    "duration": 29,
    "start_time": "2022-09-22T20:59:37.328Z"
   },
   {
    "duration": 34,
    "start_time": "2022-09-22T21:01:21.330Z"
   },
   {
    "duration": 16,
    "start_time": "2022-09-22T21:01:51.752Z"
   },
   {
    "duration": 16,
    "start_time": "2022-09-22T21:02:09.964Z"
   },
   {
    "duration": 17,
    "start_time": "2022-09-22T21:10:32.673Z"
   },
   {
    "duration": 396,
    "start_time": "2022-09-22T21:32:55.268Z"
   },
   {
    "duration": 92,
    "start_time": "2022-09-22T21:33:38.505Z"
   },
   {
    "duration": 7,
    "start_time": "2022-09-22T21:35:39.280Z"
   },
   {
    "duration": 11,
    "start_time": "2022-09-22T23:27:24.768Z"
   },
   {
    "duration": 10,
    "start_time": "2022-09-22T23:27:54.192Z"
   },
   {
    "duration": 10,
    "start_time": "2022-09-22T23:32:23.999Z"
   },
   {
    "duration": 9,
    "start_time": "2022-09-22T23:32:31.776Z"
   },
   {
    "duration": 10,
    "start_time": "2022-09-22T23:32:45.018Z"
   },
   {
    "duration": 14,
    "start_time": "2022-09-22T23:34:25.960Z"
   },
   {
    "duration": 11,
    "start_time": "2022-09-22T23:34:36.239Z"
   },
   {
    "duration": 28,
    "start_time": "2022-09-22T23:37:00.568Z"
   },
   {
    "duration": 11,
    "start_time": "2022-09-22T23:37:15.037Z"
   },
   {
    "duration": 10,
    "start_time": "2022-09-22T23:38:38.992Z"
   },
   {
    "duration": 10,
    "start_time": "2022-09-22T23:38:47.333Z"
   },
   {
    "duration": 9,
    "start_time": "2022-09-22T23:42:14.499Z"
   },
   {
    "duration": 24,
    "start_time": "2022-09-22T23:42:28.377Z"
   },
   {
    "duration": 22,
    "start_time": "2022-09-22T23:43:08.660Z"
   },
   {
    "duration": 22,
    "start_time": "2022-09-22T23:43:47.948Z"
   },
   {
    "duration": 87,
    "start_time": "2022-09-22T23:45:23.562Z"
   },
   {
    "duration": 14,
    "start_time": "2022-09-22T23:45:58.513Z"
   },
   {
    "duration": 146,
    "start_time": "2022-09-22T23:46:40.213Z"
   },
   {
    "duration": 387,
    "start_time": "2022-09-22T23:47:12.282Z"
   },
   {
    "duration": 184,
    "start_time": "2022-09-22T23:47:37.887Z"
   },
   {
    "duration": 146,
    "start_time": "2022-09-22T23:47:45.350Z"
   },
   {
    "duration": 153,
    "start_time": "2022-09-22T23:48:15.052Z"
   },
   {
    "duration": 176,
    "start_time": "2022-09-22T23:49:22.893Z"
   },
   {
    "duration": 182,
    "start_time": "2022-09-22T23:50:47.360Z"
   },
   {
    "duration": 131,
    "start_time": "2022-09-22T23:51:05.975Z"
   },
   {
    "duration": 195,
    "start_time": "2022-09-22T23:51:13.104Z"
   },
   {
    "duration": 7,
    "start_time": "2022-09-22T23:55:18.683Z"
   },
   {
    "duration": 185,
    "start_time": "2022-09-22T23:55:23.412Z"
   },
   {
    "duration": 8,
    "start_time": "2022-09-22T23:55:35.466Z"
   },
   {
    "duration": 192,
    "start_time": "2022-09-22T23:55:36.090Z"
   },
   {
    "duration": 7,
    "start_time": "2022-09-22T23:55:47.323Z"
   },
   {
    "duration": 189,
    "start_time": "2022-09-22T23:55:47.906Z"
   },
   {
    "duration": 7,
    "start_time": "2022-09-22T23:55:57.531Z"
   },
   {
    "duration": 187,
    "start_time": "2022-09-22T23:55:58.031Z"
   },
   {
    "duration": 6,
    "start_time": "2022-09-22T23:56:10.173Z"
   },
   {
    "duration": 308,
    "start_time": "2022-09-22T23:56:10.679Z"
   },
   {
    "duration": 184,
    "start_time": "2022-09-22T23:56:31.491Z"
   },
   {
    "duration": 46,
    "start_time": "2022-09-23T10:13:43.279Z"
   },
   {
    "duration": 1392,
    "start_time": "2022-09-23T10:13:48.313Z"
   },
   {
    "duration": 14,
    "start_time": "2022-09-23T10:13:49.707Z"
   },
   {
    "duration": 15,
    "start_time": "2022-09-23T10:13:49.723Z"
   },
   {
    "duration": 6,
    "start_time": "2022-09-23T10:13:49.740Z"
   },
   {
    "duration": 17,
    "start_time": "2022-09-23T10:13:49.747Z"
   },
   {
    "duration": 9,
    "start_time": "2022-09-23T10:13:49.777Z"
   },
   {
    "duration": 16,
    "start_time": "2022-09-23T10:13:49.819Z"
   },
   {
    "duration": 4,
    "start_time": "2022-09-23T10:13:50.181Z"
   },
   {
    "duration": 7,
    "start_time": "2022-09-23T10:13:50.361Z"
   },
   {
    "duration": 4,
    "start_time": "2022-09-23T10:13:50.692Z"
   },
   {
    "duration": 5,
    "start_time": "2022-09-23T10:13:50.861Z"
   },
   {
    "duration": 4,
    "start_time": "2022-09-23T10:13:51.035Z"
   },
   {
    "duration": 4,
    "start_time": "2022-09-23T10:13:51.212Z"
   },
   {
    "duration": 10,
    "start_time": "2022-09-23T10:13:51.410Z"
   },
   {
    "duration": 17,
    "start_time": "2022-09-23T10:13:51.605Z"
   },
   {
    "duration": 322,
    "start_time": "2022-09-23T10:13:52.003Z"
   },
   {
    "duration": 7,
    "start_time": "2022-09-23T10:13:52.327Z"
   },
   {
    "duration": 5,
    "start_time": "2022-09-23T10:13:52.581Z"
   },
   {
    "duration": 12,
    "start_time": "2022-09-23T10:13:53.318Z"
   },
   {
    "duration": 8,
    "start_time": "2022-09-23T10:13:53.509Z"
   },
   {
    "duration": 173,
    "start_time": "2022-09-23T10:13:54.186Z"
   },
   {
    "duration": 19,
    "start_time": "2022-09-23T10:13:55.335Z"
   },
   {
    "duration": 334,
    "start_time": "2022-09-23T10:13:55.739Z"
   },
   {
    "duration": 742,
    "start_time": "2022-09-23T10:13:56.771Z"
   },
   {
    "duration": 24,
    "start_time": "2022-09-23T10:14:00.502Z"
   },
   {
    "duration": 25,
    "start_time": "2022-09-23T10:14:04.199Z"
   },
   {
    "duration": 6,
    "start_time": "2022-09-23T10:15:07.185Z"
   },
   {
    "duration": 118,
    "start_time": "2022-09-23T10:17:55.265Z"
   },
   {
    "duration": 9,
    "start_time": "2022-09-23T10:18:28.633Z"
   },
   {
    "duration": 14,
    "start_time": "2022-09-23T10:18:35.450Z"
   },
   {
    "duration": 19,
    "start_time": "2022-09-23T10:19:24.234Z"
   },
   {
    "duration": 11,
    "start_time": "2022-09-23T10:20:21.512Z"
   },
   {
    "duration": 10,
    "start_time": "2022-09-23T10:20:34.388Z"
   },
   {
    "duration": 12,
    "start_time": "2022-09-23T10:30:24.314Z"
   },
   {
    "duration": 12,
    "start_time": "2022-09-23T10:31:30.055Z"
   },
   {
    "duration": 11,
    "start_time": "2022-09-23T10:32:53.482Z"
   },
   {
    "duration": 137,
    "start_time": "2022-09-23T10:33:25.077Z"
   },
   {
    "duration": 483,
    "start_time": "2022-09-23T10:33:33.730Z"
   },
   {
    "duration": 17,
    "start_time": "2022-09-23T10:33:56.138Z"
   },
   {
    "duration": 19,
    "start_time": "2022-09-23T10:34:05.944Z"
   },
   {
    "duration": 19,
    "start_time": "2022-09-23T10:34:20.311Z"
   },
   {
    "duration": 11,
    "start_time": "2022-09-23T10:34:47.970Z"
   },
   {
    "duration": 137,
    "start_time": "2022-09-23T10:35:40.866Z"
   },
   {
    "duration": 190,
    "start_time": "2022-09-23T10:36:08.186Z"
   },
   {
    "duration": 17,
    "start_time": "2022-09-23T10:36:53.001Z"
   },
   {
    "duration": 113,
    "start_time": "2022-09-23T10:36:59.512Z"
   },
   {
    "duration": 148,
    "start_time": "2022-09-23T10:38:10.566Z"
   },
   {
    "duration": 142,
    "start_time": "2022-09-23T10:38:20.062Z"
   },
   {
    "duration": 138,
    "start_time": "2022-09-23T10:38:39.676Z"
   },
   {
    "duration": 108,
    "start_time": "2022-09-23T10:39:50.318Z"
   },
   {
    "duration": 203,
    "start_time": "2022-09-23T10:41:21.781Z"
   },
   {
    "duration": 72,
    "start_time": "2022-09-23T10:45:09.084Z"
   },
   {
    "duration": 156,
    "start_time": "2022-09-23T10:45:13.421Z"
   },
   {
    "duration": 266,
    "start_time": "2022-09-23T10:46:15.738Z"
   },
   {
    "duration": 13,
    "start_time": "2022-09-23T10:46:36.623Z"
   },
   {
    "duration": 101,
    "start_time": "2022-09-23T10:46:42.420Z"
   },
   {
    "duration": 108,
    "start_time": "2022-09-23T10:48:16.815Z"
   },
   {
    "duration": 90,
    "start_time": "2022-09-23T10:48:38.429Z"
   },
   {
    "duration": 211,
    "start_time": "2022-09-23T10:49:00.570Z"
   },
   {
    "duration": 105,
    "start_time": "2022-09-23T10:50:52.218Z"
   },
   {
    "duration": 259,
    "start_time": "2022-09-23T10:52:35.221Z"
   },
   {
    "duration": 63,
    "start_time": "2022-09-23T10:52:48.442Z"
   },
   {
    "duration": 17,
    "start_time": "2022-09-23T10:52:48.598Z"
   },
   {
    "duration": 15,
    "start_time": "2022-09-23T10:52:48.752Z"
   },
   {
    "duration": 4,
    "start_time": "2022-09-23T10:52:49.310Z"
   },
   {
    "duration": 22,
    "start_time": "2022-09-23T10:52:49.514Z"
   },
   {
    "duration": 14,
    "start_time": "2022-09-23T10:52:49.708Z"
   },
   {
    "duration": 24,
    "start_time": "2022-09-23T10:52:49.919Z"
   },
   {
    "duration": 5,
    "start_time": "2022-09-23T10:52:50.297Z"
   },
   {
    "duration": 9,
    "start_time": "2022-09-23T10:52:50.508Z"
   },
   {
    "duration": 6,
    "start_time": "2022-09-23T10:52:51.245Z"
   },
   {
    "duration": 7,
    "start_time": "2022-09-23T10:52:51.483Z"
   },
   {
    "duration": 5,
    "start_time": "2022-09-23T10:52:51.691Z"
   },
   {
    "duration": 4,
    "start_time": "2022-09-23T10:52:51.907Z"
   },
   {
    "duration": 19,
    "start_time": "2022-09-23T10:52:52.133Z"
   },
   {
    "duration": 30,
    "start_time": "2022-09-23T10:52:52.359Z"
   },
   {
    "duration": 381,
    "start_time": "2022-09-23T10:52:52.841Z"
   },
   {
    "duration": 8,
    "start_time": "2022-09-23T10:52:53.224Z"
   },
   {
    "duration": 6,
    "start_time": "2022-09-23T10:52:54.819Z"
   },
   {
    "duration": 13,
    "start_time": "2022-09-23T10:52:55.269Z"
   },
   {
    "duration": 9,
    "start_time": "2022-09-23T10:52:55.478Z"
   },
   {
    "duration": 162,
    "start_time": "2022-09-23T10:52:55.763Z"
   },
   {
    "duration": 15,
    "start_time": "2022-09-23T10:52:56.178Z"
   },
   {
    "duration": 366,
    "start_time": "2022-09-23T10:52:57.371Z"
   },
   {
    "duration": 754,
    "start_time": "2022-09-23T10:52:57.739Z"
   },
   {
    "duration": 25,
    "start_time": "2022-09-23T10:53:00.954Z"
   },
   {
    "duration": 14,
    "start_time": "2022-09-23T10:53:02.069Z"
   },
   {
    "duration": 7,
    "start_time": "2022-09-23T10:53:15.209Z"
   },
   {
    "duration": 233,
    "start_time": "2022-09-23T10:53:15.415Z"
   },
   {
    "duration": 150,
    "start_time": "2022-09-23T10:53:15.766Z"
   },
   {
    "duration": 105,
    "start_time": "2022-09-23T10:54:25.915Z"
   },
   {
    "duration": 145,
    "start_time": "2022-09-23T10:56:13.135Z"
   },
   {
    "duration": 426,
    "start_time": "2022-09-23T11:01:22.723Z"
   },
   {
    "duration": 440,
    "start_time": "2022-09-23T11:07:10.966Z"
   },
   {
    "duration": 453,
    "start_time": "2022-09-23T11:10:03.840Z"
   },
   {
    "duration": 440,
    "start_time": "2022-09-23T11:11:36.669Z"
   },
   {
    "duration": 347,
    "start_time": "2022-09-23T11:13:49.223Z"
   },
   {
    "duration": 343,
    "start_time": "2022-09-23T11:13:57.835Z"
   },
   {
    "duration": 416,
    "start_time": "2022-09-23T11:14:06.939Z"
   },
   {
    "duration": 353,
    "start_time": "2022-09-23T11:14:18.312Z"
   },
   {
    "duration": 365,
    "start_time": "2022-09-23T11:14:38.905Z"
   },
   {
    "duration": 368,
    "start_time": "2022-09-23T11:14:47.234Z"
   },
   {
    "duration": 384,
    "start_time": "2022-09-23T11:15:01.393Z"
   },
   {
    "duration": 353,
    "start_time": "2022-09-23T11:15:11.733Z"
   },
   {
    "duration": 375,
    "start_time": "2022-09-23T11:15:21.853Z"
   },
   {
    "duration": 359,
    "start_time": "2022-09-23T11:15:29.809Z"
   },
   {
    "duration": 381,
    "start_time": "2022-09-23T11:15:39.396Z"
   },
   {
    "duration": 11,
    "start_time": "2022-09-23T11:17:19.094Z"
   },
   {
    "duration": 400,
    "start_time": "2022-09-23T11:17:53.398Z"
   },
   {
    "duration": 316,
    "start_time": "2022-09-23T11:18:32.583Z"
   },
   {
    "duration": 598,
    "start_time": "2022-09-23T11:19:31.515Z"
   },
   {
    "duration": 352,
    "start_time": "2022-09-23T11:20:00.639Z"
   },
   {
    "duration": 428,
    "start_time": "2022-09-23T11:20:38.397Z"
   },
   {
    "duration": 426,
    "start_time": "2022-09-23T11:21:01.186Z"
   },
   {
    "duration": 388,
    "start_time": "2022-09-23T11:21:24.836Z"
   },
   {
    "duration": 364,
    "start_time": "2022-09-23T11:21:51.435Z"
   },
   {
    "duration": 495,
    "start_time": "2022-09-23T11:22:15.176Z"
   },
   {
    "duration": 401,
    "start_time": "2022-09-23T11:24:48.912Z"
   },
   {
    "duration": 397,
    "start_time": "2022-09-23T11:25:03.507Z"
   },
   {
    "duration": 20,
    "start_time": "2022-09-23T11:27:27.236Z"
   },
   {
    "duration": 20,
    "start_time": "2022-09-23T11:28:07.393Z"
   },
   {
    "duration": 21,
    "start_time": "2022-09-23T11:28:09.838Z"
   },
   {
    "duration": 143,
    "start_time": "2022-09-23T11:28:14.505Z"
   },
   {
    "duration": 31,
    "start_time": "2022-09-23T11:29:35.105Z"
   },
   {
    "duration": 1089,
    "start_time": "2022-09-23T11:30:15.413Z"
   },
   {
    "duration": 236,
    "start_time": "2022-09-23T11:30:32.352Z"
   },
   {
    "duration": 25,
    "start_time": "2022-09-23T11:30:48.211Z"
   },
   {
    "duration": 508,
    "start_time": "2022-09-23T11:34:36.245Z"
   },
   {
    "duration": 146,
    "start_time": "2022-09-23T11:36:01.853Z"
   },
   {
    "duration": 10,
    "start_time": "2022-09-23T11:38:13.849Z"
   },
   {
    "duration": 176,
    "start_time": "2022-09-23T11:38:38.431Z"
   },
   {
    "duration": 4,
    "start_time": "2022-09-23T11:38:56.136Z"
   },
   {
    "duration": 2241,
    "start_time": "2022-09-23T11:39:09.412Z"
   },
   {
    "duration": 2082,
    "start_time": "2022-09-23T11:39:31.078Z"
   },
   {
    "duration": 14,
    "start_time": "2022-09-23T11:43:26.828Z"
   },
   {
    "duration": 14,
    "start_time": "2022-09-23T11:45:38.448Z"
   },
   {
    "duration": 286,
    "start_time": "2022-09-23T12:30:10.971Z"
   },
   {
    "duration": 1637,
    "start_time": "2022-09-23T12:31:39.763Z"
   },
   {
    "duration": 1304,
    "start_time": "2022-09-23T12:34:05.430Z"
   },
   {
    "duration": 278,
    "start_time": "2022-09-23T12:35:05.658Z"
   },
   {
    "duration": 1335,
    "start_time": "2022-09-23T12:35:11.219Z"
   },
   {
    "duration": 10,
    "start_time": "2022-09-23T12:37:33.320Z"
   },
   {
    "duration": 14,
    "start_time": "2022-09-23T12:38:08.684Z"
   },
   {
    "duration": 7,
    "start_time": "2022-09-23T12:38:29.714Z"
   },
   {
    "duration": 1445,
    "start_time": "2022-09-23T12:38:32.176Z"
   },
   {
    "duration": 8,
    "start_time": "2022-09-23T12:39:26.112Z"
   },
   {
    "duration": 1287,
    "start_time": "2022-09-23T12:39:30.583Z"
   },
   {
    "duration": 10,
    "start_time": "2022-09-23T12:40:14.917Z"
   },
   {
    "duration": 1494,
    "start_time": "2022-09-23T12:40:20.484Z"
   },
   {
    "duration": 8,
    "start_time": "2022-09-23T12:40:47.892Z"
   },
   {
    "duration": 1370,
    "start_time": "2022-09-23T12:40:52.271Z"
   },
   {
    "duration": 1299,
    "start_time": "2022-09-23T12:42:17.742Z"
   },
   {
    "duration": 1496,
    "start_time": "2022-09-23T12:42:43.634Z"
   },
   {
    "duration": 1334,
    "start_time": "2022-09-23T13:06:37.476Z"
   },
   {
    "duration": 1327,
    "start_time": "2022-09-23T13:07:12.466Z"
   },
   {
    "duration": 1467,
    "start_time": "2022-09-23T13:07:49.010Z"
   },
   {
    "duration": 46,
    "start_time": "2022-09-24T21:05:58.212Z"
   },
   {
    "duration": 1404,
    "start_time": "2022-09-24T21:06:05.929Z"
   },
   {
    "duration": 15,
    "start_time": "2022-09-24T21:06:07.335Z"
   },
   {
    "duration": 18,
    "start_time": "2022-09-24T21:06:07.352Z"
   },
   {
    "duration": 7,
    "start_time": "2022-09-24T21:06:07.372Z"
   },
   {
    "duration": 30,
    "start_time": "2022-09-24T21:06:07.381Z"
   },
   {
    "duration": 15,
    "start_time": "2022-09-24T21:06:07.413Z"
   },
   {
    "duration": 21,
    "start_time": "2022-09-24T21:06:07.429Z"
   },
   {
    "duration": 4,
    "start_time": "2022-09-24T21:06:07.602Z"
   },
   {
    "duration": 7,
    "start_time": "2022-09-24T21:06:07.762Z"
   },
   {
    "duration": 6,
    "start_time": "2022-09-24T21:06:08.110Z"
   },
   {
    "duration": 7,
    "start_time": "2022-09-24T21:06:08.311Z"
   },
   {
    "duration": 4,
    "start_time": "2022-09-24T21:06:08.505Z"
   },
   {
    "duration": 3,
    "start_time": "2022-09-24T21:06:08.671Z"
   },
   {
    "duration": 10,
    "start_time": "2022-09-24T21:06:08.852Z"
   },
   {
    "duration": 17,
    "start_time": "2022-09-24T21:06:09.034Z"
   },
   {
    "duration": 297,
    "start_time": "2022-09-24T21:06:09.387Z"
   },
   {
    "duration": 7,
    "start_time": "2022-09-24T21:06:09.686Z"
   },
   {
    "duration": 5,
    "start_time": "2022-09-24T21:06:09.885Z"
   },
   {
    "duration": 10,
    "start_time": "2022-09-24T21:06:10.268Z"
   },
   {
    "duration": 7,
    "start_time": "2022-09-24T21:06:10.429Z"
   },
   {
    "duration": 150,
    "start_time": "2022-09-24T21:06:10.618Z"
   },
   {
    "duration": 14,
    "start_time": "2022-09-24T21:06:10.983Z"
   },
   {
    "duration": 324,
    "start_time": "2022-09-24T21:06:11.348Z"
   },
   {
    "duration": 656,
    "start_time": "2022-09-24T21:06:11.675Z"
   },
   {
    "duration": 23,
    "start_time": "2022-09-24T21:06:13.156Z"
   },
   {
    "duration": 221,
    "start_time": "2022-09-24T21:06:13.337Z"
   },
   {
    "duration": 2064,
    "start_time": "2022-09-24T21:06:13.561Z"
   },
   {
    "duration": 13,
    "start_time": "2022-09-24T21:06:15.627Z"
   },
   {
    "duration": 32,
    "start_time": "2022-09-24T21:06:15.642Z"
   },
   {
    "duration": 7,
    "start_time": "2022-09-24T21:06:15.677Z"
   },
   {
    "duration": 189,
    "start_time": "2022-09-24T21:06:15.686Z"
   },
   {
    "duration": 1174,
    "start_time": "2022-09-24T21:06:15.877Z"
   },
   {
    "duration": 14,
    "start_time": "2022-09-24T21:06:17.054Z"
   },
   {
    "duration": 256,
    "start_time": "2022-09-24T21:07:51.090Z"
   },
   {
    "duration": 13,
    "start_time": "2022-09-24T21:07:58.451Z"
   },
   {
    "duration": 100,
    "start_time": "2022-09-24T21:07:59.250Z"
   },
   {
    "duration": 105,
    "start_time": "2022-09-24T21:08:34.048Z"
   },
   {
    "duration": 116,
    "start_time": "2022-09-24T21:10:32.463Z"
   },
   {
    "duration": 196,
    "start_time": "2022-09-24T21:11:04.140Z"
   },
   {
    "duration": 157,
    "start_time": "2022-09-24T21:12:31.258Z"
   },
   {
    "duration": 172,
    "start_time": "2022-09-24T21:12:46.471Z"
   },
   {
    "duration": 216,
    "start_time": "2022-09-24T21:12:54.291Z"
   },
   {
    "duration": 189,
    "start_time": "2022-09-24T21:13:00.019Z"
   },
   {
    "duration": 200,
    "start_time": "2022-09-24T21:13:09.113Z"
   },
   {
    "duration": 47,
    "start_time": "2022-09-25T09:03:39.643Z"
   },
   {
    "duration": 1452,
    "start_time": "2022-09-25T09:03:43.837Z"
   },
   {
    "duration": 15,
    "start_time": "2022-09-25T09:03:45.290Z"
   },
   {
    "duration": 13,
    "start_time": "2022-09-25T09:03:45.307Z"
   },
   {
    "duration": 6,
    "start_time": "2022-09-25T09:03:45.321Z"
   },
   {
    "duration": 16,
    "start_time": "2022-09-25T09:03:45.328Z"
   },
   {
    "duration": 10,
    "start_time": "2022-09-25T09:03:45.345Z"
   },
   {
    "duration": 20,
    "start_time": "2022-09-25T09:03:45.484Z"
   },
   {
    "duration": 5,
    "start_time": "2022-09-25T09:03:45.876Z"
   },
   {
    "duration": 7,
    "start_time": "2022-09-25T09:03:46.068Z"
   },
   {
    "duration": 6,
    "start_time": "2022-09-25T09:03:46.763Z"
   },
   {
    "duration": 5,
    "start_time": "2022-09-25T09:03:47.006Z"
   },
   {
    "duration": 4,
    "start_time": "2022-09-25T09:03:47.193Z"
   },
   {
    "duration": 4,
    "start_time": "2022-09-25T09:03:47.376Z"
   },
   {
    "duration": 13,
    "start_time": "2022-09-25T09:03:47.582Z"
   },
   {
    "duration": 22,
    "start_time": "2022-09-25T09:03:47.770Z"
   },
   {
    "duration": 331,
    "start_time": "2022-09-25T09:03:48.217Z"
   },
   {
    "duration": 8,
    "start_time": "2022-09-25T09:03:48.550Z"
   },
   {
    "duration": 6,
    "start_time": "2022-09-25T09:03:48.816Z"
   },
   {
    "duration": 11,
    "start_time": "2022-09-25T09:03:49.214Z"
   },
   {
    "duration": 7,
    "start_time": "2022-09-25T09:03:49.404Z"
   },
   {
    "duration": 188,
    "start_time": "2022-09-25T09:03:49.577Z"
   },
   {
    "duration": 20,
    "start_time": "2022-09-25T09:03:49.960Z"
   },
   {
    "duration": 384,
    "start_time": "2022-09-25T09:03:50.359Z"
   },
   {
    "duration": 749,
    "start_time": "2022-09-25T09:03:50.746Z"
   },
   {
    "duration": 26,
    "start_time": "2022-09-25T09:03:52.225Z"
   },
   {
    "duration": 248,
    "start_time": "2022-09-25T09:03:52.431Z"
   },
   {
    "duration": 2411,
    "start_time": "2022-09-25T09:03:52.680Z"
   },
   {
    "duration": 14,
    "start_time": "2022-09-25T09:03:55.095Z"
   },
   {
    "duration": 15,
    "start_time": "2022-09-25T09:03:55.110Z"
   },
   {
    "duration": 8,
    "start_time": "2022-09-25T09:03:55.127Z"
   },
   {
    "duration": 214,
    "start_time": "2022-09-25T09:03:55.136Z"
   },
   {
    "duration": 1386,
    "start_time": "2022-09-25T09:03:55.352Z"
   },
   {
    "duration": 18,
    "start_time": "2022-09-25T09:03:56.741Z"
   },
   {
    "duration": 362,
    "start_time": "2022-09-25T09:03:56.760Z"
   },
   {
    "duration": 27,
    "start_time": "2022-09-25T09:03:57.228Z"
   },
   {
    "duration": 28,
    "start_time": "2022-09-25T09:05:10.594Z"
   },
   {
    "duration": 25,
    "start_time": "2022-09-25T09:05:23.774Z"
   },
   {
    "duration": 15,
    "start_time": "2022-09-25T09:11:40.283Z"
   },
   {
    "duration": 1384,
    "start_time": "2022-09-25T09:14:00.254Z"
   },
   {
    "duration": 1462,
    "start_time": "2022-09-25T09:14:22.912Z"
   },
   {
    "duration": 838,
    "start_time": "2022-09-25T09:15:02.096Z"
   },
   {
    "duration": 289,
    "start_time": "2022-09-25T09:15:08.326Z"
   },
   {
    "duration": 283,
    "start_time": "2022-09-25T09:15:37.018Z"
   },
   {
    "duration": 15,
    "start_time": "2022-09-25T09:17:44.291Z"
   },
   {
    "duration": 3,
    "start_time": "2022-09-25T09:17:46.076Z"
   },
   {
    "duration": 1223,
    "start_time": "2022-09-25T09:21:51.099Z"
   },
   {
    "duration": 1174,
    "start_time": "2022-09-25T09:22:08.401Z"
   },
   {
    "duration": 5,
    "start_time": "2022-09-25T09:22:20.905Z"
   },
   {
    "duration": 6,
    "start_time": "2022-09-25T09:22:38.098Z"
   },
   {
    "duration": 5,
    "start_time": "2022-09-25T09:22:48.609Z"
   },
   {
    "duration": 11,
    "start_time": "2022-09-25T09:23:37.500Z"
   },
   {
    "duration": 9,
    "start_time": "2022-09-25T09:24:38.989Z"
   },
   {
    "duration": 1165,
    "start_time": "2022-09-25T09:24:57.082Z"
   },
   {
    "duration": 10,
    "start_time": "2022-09-25T09:25:13.130Z"
   },
   {
    "duration": 5,
    "start_time": "2022-09-25T09:25:35.898Z"
   },
   {
    "duration": 14,
    "start_time": "2022-09-25T09:28:06.273Z"
   },
   {
    "duration": 5,
    "start_time": "2022-09-25T09:28:07.501Z"
   },
   {
    "duration": 5,
    "start_time": "2022-09-25T09:28:12.412Z"
   },
   {
    "duration": 23,
    "start_time": "2022-09-25T09:33:01.035Z"
   },
   {
    "duration": 854,
    "start_time": "2022-09-25T09:34:09.015Z"
   },
   {
    "duration": 1492,
    "start_time": "2022-09-25T09:35:30.854Z"
   },
   {
    "duration": 20,
    "start_time": "2022-09-25T09:35:51.204Z"
   },
   {
    "duration": 21,
    "start_time": "2022-09-25T09:36:04.280Z"
   },
   {
    "duration": 22,
    "start_time": "2022-09-25T09:36:13.229Z"
   },
   {
    "duration": 6,
    "start_time": "2022-09-25T09:36:41.597Z"
   },
   {
    "duration": 7,
    "start_time": "2022-09-25T09:36:46.624Z"
   },
   {
    "duration": 5,
    "start_time": "2022-09-25T09:37:01.569Z"
   },
   {
    "duration": 16,
    "start_time": "2022-09-25T09:37:57.421Z"
   },
   {
    "duration": 5,
    "start_time": "2022-09-25T09:38:22.717Z"
   },
   {
    "duration": 16,
    "start_time": "2022-09-25T09:41:16.846Z"
   },
   {
    "duration": 5,
    "start_time": "2022-09-25T09:42:29.956Z"
   },
   {
    "duration": 14,
    "start_time": "2022-09-25T09:51:57.914Z"
   },
   {
    "duration": 5,
    "start_time": "2022-09-25T09:51:58.897Z"
   },
   {
    "duration": 13,
    "start_time": "2022-09-25T09:52:00.085Z"
   },
   {
    "duration": 5,
    "start_time": "2022-09-25T09:52:00.244Z"
   },
   {
    "duration": 15,
    "start_time": "2022-09-25T09:52:00.609Z"
   },
   {
    "duration": 5,
    "start_time": "2022-09-25T09:52:00.756Z"
   },
   {
    "duration": 310,
    "start_time": "2022-09-25T09:52:01.303Z"
   },
   {
    "duration": 4,
    "start_time": "2022-09-25T09:53:17.258Z"
   },
   {
    "duration": 15,
    "start_time": "2022-09-25T09:53:26.898Z"
   },
   {
    "duration": 5,
    "start_time": "2022-09-25T09:53:58.798Z"
   },
   {
    "duration": 15,
    "start_time": "2022-09-25T09:54:27.668Z"
   },
   {
    "duration": 5,
    "start_time": "2022-09-25T09:54:29.102Z"
   },
   {
    "duration": 16,
    "start_time": "2022-09-25T09:55:40.948Z"
   },
   {
    "duration": 4,
    "start_time": "2022-09-25T09:55:42.737Z"
   },
   {
    "duration": 14,
    "start_time": "2022-09-25T09:58:17.980Z"
   },
   {
    "duration": 16,
    "start_time": "2022-09-25T10:01:00.927Z"
   },
   {
    "duration": 24,
    "start_time": "2022-09-25T10:05:11.556Z"
   },
   {
    "duration": 22,
    "start_time": "2022-09-25T10:05:16.426Z"
   },
   {
    "duration": 24,
    "start_time": "2022-09-25T10:05:25.431Z"
   },
   {
    "duration": 27,
    "start_time": "2022-09-25T10:15:56.302Z"
   },
   {
    "duration": 7,
    "start_time": "2022-09-25T10:16:58.554Z"
   },
   {
    "duration": 29,
    "start_time": "2022-09-25T10:17:45.507Z"
   },
   {
    "duration": 1250,
    "start_time": "2022-09-25T10:33:20.152Z"
   },
   {
    "duration": 33,
    "start_time": "2022-09-25T10:33:48.388Z"
   },
   {
    "duration": 320,
    "start_time": "2022-09-25T10:39:37.105Z"
   },
   {
    "duration": 7,
    "start_time": "2022-09-25T10:43:11.519Z"
   },
   {
    "duration": 8,
    "start_time": "2022-09-25T10:43:39.295Z"
   },
   {
    "duration": 11,
    "start_time": "2022-09-25T10:44:01.423Z"
   },
   {
    "duration": 12,
    "start_time": "2022-09-25T10:45:12.117Z"
   },
   {
    "duration": 14,
    "start_time": "2022-09-25T10:45:22.823Z"
   },
   {
    "duration": 6,
    "start_time": "2022-09-25T10:45:41.259Z"
   },
   {
    "duration": 4,
    "start_time": "2022-09-25T10:45:50.165Z"
   },
   {
    "duration": 27,
    "start_time": "2022-09-25T10:45:57.626Z"
   },
   {
    "duration": 8,
    "start_time": "2022-09-25T10:48:10.897Z"
   },
   {
    "duration": 9,
    "start_time": "2022-09-25T10:48:18.658Z"
   },
   {
    "duration": 10,
    "start_time": "2022-09-25T10:49:42.583Z"
   },
   {
    "duration": 3,
    "start_time": "2022-09-25T10:49:43.134Z"
   },
   {
    "duration": 58,
    "start_time": "2022-09-25T10:49:51.715Z"
   },
   {
    "duration": 13,
    "start_time": "2022-09-25T10:49:52.306Z"
   },
   {
    "duration": 13,
    "start_time": "2022-09-25T10:49:52.519Z"
   },
   {
    "duration": 3,
    "start_time": "2022-09-25T10:49:53.582Z"
   },
   {
    "duration": 31,
    "start_time": "2022-09-25T10:49:53.587Z"
   },
   {
    "duration": 29,
    "start_time": "2022-09-25T10:49:53.620Z"
   },
   {
    "duration": 21,
    "start_time": "2022-09-25T10:49:53.651Z"
   },
   {
    "duration": 5,
    "start_time": "2022-09-25T10:49:54.035Z"
   },
   {
    "duration": 6,
    "start_time": "2022-09-25T10:49:54.217Z"
   },
   {
    "duration": 5,
    "start_time": "2022-09-25T10:49:54.581Z"
   },
   {
    "duration": 6,
    "start_time": "2022-09-25T10:49:54.765Z"
   },
   {
    "duration": 4,
    "start_time": "2022-09-25T10:49:54.952Z"
   },
   {
    "duration": 5,
    "start_time": "2022-09-25T10:49:55.137Z"
   },
   {
    "duration": 11,
    "start_time": "2022-09-25T10:49:55.325Z"
   },
   {
    "duration": 17,
    "start_time": "2022-09-25T10:49:55.509Z"
   },
   {
    "duration": 328,
    "start_time": "2022-09-25T10:49:55.917Z"
   },
   {
    "duration": 8,
    "start_time": "2022-09-25T10:49:56.246Z"
   },
   {
    "duration": 6,
    "start_time": "2022-09-25T10:49:56.517Z"
   },
   {
    "duration": 10,
    "start_time": "2022-09-25T10:49:56.934Z"
   },
   {
    "duration": 10,
    "start_time": "2022-09-25T10:49:57.128Z"
   },
   {
    "duration": 158,
    "start_time": "2022-09-25T10:49:57.322Z"
   },
   {
    "duration": 16,
    "start_time": "2022-09-25T10:49:57.708Z"
   },
   {
    "duration": 356,
    "start_time": "2022-09-25T10:49:58.083Z"
   },
   {
    "duration": 808,
    "start_time": "2022-09-25T10:49:58.441Z"
   },
   {
    "duration": 27,
    "start_time": "2022-09-25T10:50:01.663Z"
   },
   {
    "duration": 262,
    "start_time": "2022-09-25T10:50:01.884Z"
   },
   {
    "duration": 2359,
    "start_time": "2022-09-25T10:50:02.148Z"
   },
   {
    "duration": 15,
    "start_time": "2022-09-25T10:50:04.509Z"
   },
   {
    "duration": 17,
    "start_time": "2022-09-25T10:50:04.525Z"
   },
   {
    "duration": 8,
    "start_time": "2022-09-25T10:50:05.813Z"
   },
   {
    "duration": 366,
    "start_time": "2022-09-25T10:50:06.602Z"
   },
   {
    "duration": 1351,
    "start_time": "2022-09-25T10:50:08.362Z"
   },
   {
    "duration": 7,
    "start_time": "2022-09-25T10:50:46.366Z"
   },
   {
    "duration": 9,
    "start_time": "2022-09-25T10:50:48.512Z"
   },
   {
    "duration": 9,
    "start_time": "2022-09-25T10:52:14.476Z"
   },
   {
    "duration": 4,
    "start_time": "2022-09-25T10:55:07.844Z"
   },
   {
    "duration": 14,
    "start_time": "2022-09-25T10:56:00.718Z"
   },
   {
    "duration": 9,
    "start_time": "2022-09-25T10:57:30.410Z"
   },
   {
    "duration": 8,
    "start_time": "2022-09-25T11:01:15.421Z"
   },
   {
    "duration": 25,
    "start_time": "2022-09-25T11:05:31.341Z"
   },
   {
    "duration": 11,
    "start_time": "2022-09-25T11:06:20.035Z"
   },
   {
    "duration": 10,
    "start_time": "2022-09-25T11:07:24.173Z"
   },
   {
    "duration": 72,
    "start_time": "2022-09-25T11:10:26.666Z"
   },
   {
    "duration": 6,
    "start_time": "2022-09-25T11:23:38.809Z"
   },
   {
    "duration": 5,
    "start_time": "2022-09-25T11:23:50.009Z"
   },
   {
    "duration": 1113,
    "start_time": "2022-09-25T12:35:46.761Z"
   },
   {
    "duration": 14,
    "start_time": "2022-09-25T12:35:47.878Z"
   },
   {
    "duration": 18,
    "start_time": "2022-09-25T12:35:47.894Z"
   },
   {
    "duration": 25,
    "start_time": "2022-09-25T12:35:47.914Z"
   },
   {
    "duration": 25,
    "start_time": "2022-09-25T12:35:47.941Z"
   },
   {
    "duration": 19,
    "start_time": "2022-09-25T12:35:47.967Z"
   },
   {
    "duration": 18,
    "start_time": "2022-09-25T12:35:47.987Z"
   },
   {
    "duration": 4,
    "start_time": "2022-09-25T12:35:48.006Z"
   },
   {
    "duration": 10,
    "start_time": "2022-09-25T12:35:48.011Z"
   },
   {
    "duration": 11,
    "start_time": "2022-09-25T12:35:48.022Z"
   },
   {
    "duration": 23,
    "start_time": "2022-09-25T12:35:48.034Z"
   },
   {
    "duration": 8,
    "start_time": "2022-09-25T12:35:48.058Z"
   },
   {
    "duration": 7,
    "start_time": "2022-09-25T12:35:48.067Z"
   },
   {
    "duration": 24,
    "start_time": "2022-09-25T12:35:48.076Z"
   },
   {
    "duration": 25,
    "start_time": "2022-09-25T12:35:48.101Z"
   },
   {
    "duration": 299,
    "start_time": "2022-09-25T12:35:48.127Z"
   },
   {
    "duration": 9,
    "start_time": "2022-09-25T12:35:48.428Z"
   },
   {
    "duration": 16,
    "start_time": "2022-09-25T12:35:48.438Z"
   },
   {
    "duration": 24,
    "start_time": "2022-09-25T12:35:48.455Z"
   },
   {
    "duration": 20,
    "start_time": "2022-09-25T12:35:48.481Z"
   },
   {
    "duration": 160,
    "start_time": "2022-09-25T12:35:48.503Z"
   },
   {
    "duration": 15,
    "start_time": "2022-09-25T12:35:48.665Z"
   },
   {
    "duration": 340,
    "start_time": "2022-09-25T12:35:48.681Z"
   },
   {
    "duration": 622,
    "start_time": "2022-09-25T12:35:49.023Z"
   },
   {
    "duration": 23,
    "start_time": "2022-09-25T12:35:49.647Z"
   },
   {
    "duration": 235,
    "start_time": "2022-09-25T12:35:49.671Z"
   },
   {
    "duration": 1945,
    "start_time": "2022-09-25T12:35:49.908Z"
   },
   {
    "duration": 12,
    "start_time": "2022-09-25T12:35:51.854Z"
   },
   {
    "duration": 24,
    "start_time": "2022-09-25T12:35:51.868Z"
   },
   {
    "duration": 19,
    "start_time": "2022-09-25T12:35:51.894Z"
   },
   {
    "duration": 162,
    "start_time": "2022-09-25T12:35:51.914Z"
   },
   {
    "duration": 1202,
    "start_time": "2022-09-25T12:35:52.078Z"
   },
   {
    "duration": 15,
    "start_time": "2022-09-25T12:35:53.282Z"
   },
   {
    "duration": 315,
    "start_time": "2022-09-25T12:35:53.299Z"
   },
   {
    "duration": 17,
    "start_time": "2022-09-25T12:35:53.615Z"
   },
   {
    "duration": 11,
    "start_time": "2022-09-25T12:35:53.633Z"
   },
   {
    "duration": 25,
    "start_time": "2022-09-25T12:35:53.645Z"
   },
   {
    "duration": 26,
    "start_time": "2022-09-25T12:35:53.671Z"
   },
   {
    "duration": 28,
    "start_time": "2022-09-25T12:35:53.698Z"
   },
   {
    "duration": 18,
    "start_time": "2022-09-25T12:35:53.727Z"
   },
   {
    "duration": 29,
    "start_time": "2022-09-25T12:35:53.748Z"
   },
   {
    "duration": 4,
    "start_time": "2022-09-25T12:35:53.778Z"
   },
   {
    "duration": 22,
    "start_time": "2022-09-25T12:35:53.783Z"
   },
   {
    "duration": 6,
    "start_time": "2022-09-25T12:35:53.806Z"
   },
   {
    "duration": 15,
    "start_time": "2022-09-25T12:35:53.813Z"
   },
   {
    "duration": 18,
    "start_time": "2022-09-25T12:35:53.829Z"
   },
   {
    "duration": 12,
    "start_time": "2022-09-25T12:35:53.848Z"
   },
   {
    "duration": 84,
    "start_time": "2022-09-25T13:16:15.992Z"
   },
   {
    "duration": 9,
    "start_time": "2022-09-25T13:32:14.451Z"
   },
   {
    "duration": 1243,
    "start_time": "2022-09-25T20:23:30.402Z"
   },
   {
    "duration": 324,
    "start_time": "2022-09-25T20:23:31.647Z"
   },
   {
    "duration": 103,
    "start_time": "2022-09-25T20:57:45.003Z"
   },
   {
    "duration": 3,
    "start_time": "2022-09-25T20:57:56.875Z"
   },
   {
    "duration": 57,
    "start_time": "2022-09-25T20:57:57.069Z"
   },
   {
    "duration": 16,
    "start_time": "2022-09-25T20:57:57.442Z"
   },
   {
    "duration": 12,
    "start_time": "2022-09-25T20:57:57.609Z"
   },
   {
    "duration": 2,
    "start_time": "2022-09-25T20:57:58.157Z"
   },
   {
    "duration": 12,
    "start_time": "2022-09-25T20:57:58.526Z"
   },
   {
    "duration": 7,
    "start_time": "2022-09-25T20:57:58.698Z"
   },
   {
    "duration": 14,
    "start_time": "2022-09-25T20:57:58.902Z"
   },
   {
    "duration": 4,
    "start_time": "2022-09-25T20:57:59.473Z"
   },
   {
    "duration": 6,
    "start_time": "2022-09-25T20:57:59.831Z"
   },
   {
    "duration": 4,
    "start_time": "2022-09-25T20:58:00.196Z"
   },
   {
    "duration": 5,
    "start_time": "2022-09-25T20:58:00.613Z"
   },
   {
    "duration": 4,
    "start_time": "2022-09-25T20:58:00.816Z"
   },
   {
    "duration": 6,
    "start_time": "2022-09-25T20:58:01.006Z"
   },
   {
    "duration": 12,
    "start_time": "2022-09-25T20:58:01.184Z"
   },
   {
    "duration": 18,
    "start_time": "2022-09-25T20:58:01.382Z"
   },
   {
    "duration": 290,
    "start_time": "2022-09-25T20:58:01.783Z"
   },
   {
    "duration": 9,
    "start_time": "2022-09-25T20:58:02.163Z"
   },
   {
    "duration": 6,
    "start_time": "2022-09-25T20:58:02.581Z"
   },
   {
    "duration": 64,
    "start_time": "2022-09-25T20:58:02.990Z"
   },
   {
    "duration": 9,
    "start_time": "2022-09-25T20:58:03.567Z"
   },
   {
    "duration": 7,
    "start_time": "2022-09-25T20:58:03.771Z"
   },
   {
    "duration": 145,
    "start_time": "2022-09-25T20:58:03.968Z"
   },
   {
    "duration": 15,
    "start_time": "2022-09-25T20:58:05.250Z"
   },
   {
    "duration": 332,
    "start_time": "2022-09-25T20:58:07.421Z"
   },
   {
    "duration": 3,
    "start_time": "2022-09-25T21:00:16.050Z"
   },
   {
    "duration": 55,
    "start_time": "2022-09-25T21:00:16.229Z"
   },
   {
    "duration": 12,
    "start_time": "2022-09-25T21:00:16.537Z"
   },
   {
    "duration": 12,
    "start_time": "2022-09-25T21:00:16.724Z"
   },
   {
    "duration": 3,
    "start_time": "2022-09-25T21:00:17.212Z"
   },
   {
    "duration": 12,
    "start_time": "2022-09-25T21:00:17.986Z"
   },
   {
    "duration": 28,
    "start_time": "2022-09-25T21:00:18.000Z"
   },
   {
    "duration": 14,
    "start_time": "2022-09-25T21:00:18.086Z"
   },
   {
    "duration": 4,
    "start_time": "2022-09-25T21:00:18.648Z"
   },
   {
    "duration": 6,
    "start_time": "2022-09-25T21:00:19.074Z"
   },
   {
    "duration": 4,
    "start_time": "2022-09-25T21:00:19.467Z"
   },
   {
    "duration": 6,
    "start_time": "2022-09-25T21:00:19.856Z"
   },
   {
    "duration": 4,
    "start_time": "2022-09-25T21:00:20.036Z"
   },
   {
    "duration": 6,
    "start_time": "2022-09-25T21:00:20.220Z"
   },
   {
    "duration": 16,
    "start_time": "2022-09-25T21:00:20.421Z"
   },
   {
    "duration": 23,
    "start_time": "2022-09-25T21:00:20.614Z"
   },
   {
    "duration": 303,
    "start_time": "2022-09-25T21:00:21.006Z"
   },
   {
    "duration": 11,
    "start_time": "2022-09-25T21:00:21.373Z"
   },
   {
    "duration": 5,
    "start_time": "2022-09-25T21:00:21.767Z"
   },
   {
    "duration": 72,
    "start_time": "2022-09-25T21:00:22.142Z"
   },
   {
    "duration": 10,
    "start_time": "2022-09-25T21:00:22.715Z"
   },
   {
    "duration": 7,
    "start_time": "2022-09-25T21:00:23.323Z"
   },
   {
    "duration": 144,
    "start_time": "2022-09-25T21:00:23.511Z"
   },
   {
    "duration": 13,
    "start_time": "2022-09-25T21:00:24.051Z"
   },
   {
    "duration": 326,
    "start_time": "2022-09-25T21:00:25.208Z"
   },
   {
    "duration": 738,
    "start_time": "2022-09-25T21:00:25.560Z"
   },
   {
    "duration": 23,
    "start_time": "2022-09-25T21:00:28.082Z"
   },
   {
    "duration": 194,
    "start_time": "2022-09-25T21:00:28.315Z"
   },
   {
    "duration": 1412,
    "start_time": "2022-09-25T21:00:37.765Z"
   },
   {
    "duration": 8,
    "start_time": "2022-09-25T21:00:39.178Z"
   },
   {
    "duration": 12,
    "start_time": "2022-09-25T21:00:39.187Z"
   },
   {
    "duration": 23,
    "start_time": "2022-09-25T21:00:39.201Z"
   },
   {
    "duration": 457,
    "start_time": "2022-09-25T21:00:39.226Z"
   },
   {
    "duration": 9,
    "start_time": "2022-09-25T21:02:56.974Z"
   },
   {
    "duration": 8,
    "start_time": "2022-09-25T21:03:00.470Z"
   },
   {
    "duration": 520,
    "start_time": "2022-09-25T21:03:01.615Z"
   },
   {
    "duration": 419,
    "start_time": "2022-09-25T21:03:02.963Z"
   },
   {
    "duration": 922,
    "start_time": "2022-09-25T21:04:24.550Z"
   },
   {
    "duration": 730,
    "start_time": "2022-09-25T21:04:38.092Z"
   },
   {
    "duration": 502,
    "start_time": "2022-09-25T21:05:01.618Z"
   },
   {
    "duration": 528,
    "start_time": "2022-09-25T21:05:10.379Z"
   },
   {
    "duration": 603,
    "start_time": "2022-09-25T21:05:26.067Z"
   },
   {
    "duration": 531,
    "start_time": "2022-09-25T21:05:33.047Z"
   },
   {
    "duration": 473,
    "start_time": "2022-09-25T21:05:41.749Z"
   },
   {
    "duration": 595,
    "start_time": "2022-09-25T21:06:06.212Z"
   },
   {
    "duration": 53,
    "start_time": "2022-09-26T17:12:48.604Z"
   },
   {
    "duration": 43,
    "start_time": "2022-09-26T17:30:56.620Z"
   },
   {
    "duration": 1290,
    "start_time": "2022-09-26T17:31:02.137Z"
   },
   {
    "duration": 111,
    "start_time": "2022-09-26T17:31:03.429Z"
   },
   {
    "duration": 13,
    "start_time": "2022-09-26T17:31:03.542Z"
   },
   {
    "duration": 13,
    "start_time": "2022-09-26T17:31:03.558Z"
   },
   {
    "duration": 6,
    "start_time": "2022-09-26T17:31:03.572Z"
   },
   {
    "duration": 15,
    "start_time": "2022-09-26T17:31:08.172Z"
   },
   {
    "duration": 10,
    "start_time": "2022-09-26T17:31:08.394Z"
   },
   {
    "duration": 17,
    "start_time": "2022-09-26T17:31:08.568Z"
   },
   {
    "duration": 5,
    "start_time": "2022-09-26T17:31:10.885Z"
   },
   {
    "duration": 7,
    "start_time": "2022-09-26T17:31:12.309Z"
   },
   {
    "duration": 4,
    "start_time": "2022-09-26T17:31:15.203Z"
   },
   {
    "duration": 7,
    "start_time": "2022-09-26T17:31:16.349Z"
   },
   {
    "duration": 5,
    "start_time": "2022-09-26T17:31:19.150Z"
   },
   {
    "duration": 7,
    "start_time": "2022-09-26T17:31:19.584Z"
   },
   {
    "duration": 18,
    "start_time": "2022-09-26T17:31:20.064Z"
   },
   {
    "duration": 9,
    "start_time": "2022-09-26T17:31:22.183Z"
   },
   {
    "duration": 6,
    "start_time": "2022-09-26T17:31:48.782Z"
   },
   {
    "duration": 6,
    "start_time": "2022-09-26T17:31:53.180Z"
   },
   {
    "duration": 10,
    "start_time": "2022-09-26T17:32:11.763Z"
   },
   {
    "duration": 7,
    "start_time": "2022-09-26T17:33:40.151Z"
   },
   {
    "duration": 4,
    "start_time": "2022-09-26T17:33:44.484Z"
   },
   {
    "duration": 5,
    "start_time": "2022-09-26T17:34:00.798Z"
   },
   {
    "duration": 5,
    "start_time": "2022-09-26T17:34:18.866Z"
   },
   {
    "duration": 6,
    "start_time": "2022-09-26T17:36:26.586Z"
   },
   {
    "duration": 10,
    "start_time": "2022-09-26T17:36:30.353Z"
   },
   {
    "duration": 7,
    "start_time": "2022-09-26T17:36:33.748Z"
   },
   {
    "duration": 10,
    "start_time": "2022-09-26T17:36:35.147Z"
   },
   {
    "duration": 5,
    "start_time": "2022-09-26T17:37:53.798Z"
   },
   {
    "duration": 9,
    "start_time": "2022-09-26T17:37:55.027Z"
   },
   {
    "duration": 10,
    "start_time": "2022-09-26T17:38:34.442Z"
   },
   {
    "duration": 5,
    "start_time": "2022-09-26T17:38:37.220Z"
   },
   {
    "duration": 8,
    "start_time": "2022-09-26T17:38:38.795Z"
   },
   {
    "duration": 3,
    "start_time": "2022-09-26T17:38:44.933Z"
   },
   {
    "duration": 5,
    "start_time": "2022-09-26T17:38:46.654Z"
   },
   {
    "duration": 6,
    "start_time": "2022-09-26T17:38:50.486Z"
   },
   {
    "duration": 727,
    "start_time": "2022-09-26T17:38:53.889Z"
   },
   {
    "duration": 4,
    "start_time": "2022-09-26T17:39:16.627Z"
   },
   {
    "duration": 62,
    "start_time": "2022-09-26T17:39:16.843Z"
   },
   {
    "duration": 24,
    "start_time": "2022-09-26T17:39:17.205Z"
   },
   {
    "duration": 24,
    "start_time": "2022-09-26T17:39:17.374Z"
   },
   {
    "duration": 4,
    "start_time": "2022-09-26T17:39:17.933Z"
   },
   {
    "duration": 22,
    "start_time": "2022-09-26T17:39:18.350Z"
   },
   {
    "duration": 10,
    "start_time": "2022-09-26T17:39:18.538Z"
   },
   {
    "duration": 27,
    "start_time": "2022-09-26T17:39:18.750Z"
   },
   {
    "duration": 5,
    "start_time": "2022-09-26T17:39:19.322Z"
   },
   {
    "duration": 9,
    "start_time": "2022-09-26T17:39:19.764Z"
   },
   {
    "duration": 6,
    "start_time": "2022-09-26T17:39:20.125Z"
   },
   {
    "duration": 5,
    "start_time": "2022-09-26T17:39:20.821Z"
   },
   {
    "duration": 3,
    "start_time": "2022-09-26T17:39:21.001Z"
   },
   {
    "duration": 5,
    "start_time": "2022-09-26T17:39:21.191Z"
   },
   {
    "duration": 4,
    "start_time": "2022-09-26T17:39:21.353Z"
   },
   {
    "duration": 4,
    "start_time": "2022-09-26T17:39:21.706Z"
   },
   {
    "duration": 8,
    "start_time": "2022-09-26T17:39:23.298Z"
   },
   {
    "duration": 13,
    "start_time": "2022-09-26T17:47:53.137Z"
   },
   {
    "duration": 21,
    "start_time": "2022-09-26T17:51:22.409Z"
   },
   {
    "duration": 7,
    "start_time": "2022-09-26T17:51:30.033Z"
   },
   {
    "duration": 14,
    "start_time": "2022-09-26T17:51:31.171Z"
   },
   {
    "duration": 6,
    "start_time": "2022-09-26T17:55:14.584Z"
   },
   {
    "duration": 11,
    "start_time": "2022-09-26T17:55:17.025Z"
   },
   {
    "duration": 11,
    "start_time": "2022-09-26T17:55:27.210Z"
   },
   {
    "duration": 235,
    "start_time": "2022-09-26T18:00:28.055Z"
   },
   {
    "duration": 10,
    "start_time": "2022-09-26T18:00:44.872Z"
   },
   {
    "duration": 12,
    "start_time": "2022-09-26T18:00:57.777Z"
   },
   {
    "duration": 8,
    "start_time": "2022-09-26T18:01:00.518Z"
   },
   {
    "duration": 10,
    "start_time": "2022-09-26T18:01:01.057Z"
   },
   {
    "duration": 11,
    "start_time": "2022-09-26T18:01:11.423Z"
   },
   {
    "duration": 13,
    "start_time": "2022-09-26T18:01:11.965Z"
   },
   {
    "duration": 7,
    "start_time": "2022-09-26T18:01:18.068Z"
   },
   {
    "duration": 9,
    "start_time": "2022-09-26T18:01:18.523Z"
   },
   {
    "duration": 5,
    "start_time": "2022-09-26T18:01:22.294Z"
   },
   {
    "duration": 10,
    "start_time": "2022-09-26T18:01:22.746Z"
   },
   {
    "duration": 8,
    "start_time": "2022-09-26T18:01:45.961Z"
   },
   {
    "duration": 16,
    "start_time": "2022-09-26T18:01:46.454Z"
   },
   {
    "duration": 90,
    "start_time": "2022-09-26T18:02:05.527Z"
   },
   {
    "duration": 7,
    "start_time": "2022-09-26T18:02:14.714Z"
   },
   {
    "duration": 9,
    "start_time": "2022-09-26T18:02:15.100Z"
   },
   {
    "duration": 7,
    "start_time": "2022-09-26T18:02:30.083Z"
   },
   {
    "duration": 14,
    "start_time": "2022-09-26T18:02:30.697Z"
   },
   {
    "duration": 6,
    "start_time": "2022-09-26T18:03:13.375Z"
   },
   {
    "duration": 5,
    "start_time": "2022-09-26T18:03:43.210Z"
   },
   {
    "duration": 9,
    "start_time": "2022-09-26T18:03:43.716Z"
   },
   {
    "duration": 5,
    "start_time": "2022-09-26T18:03:47.580Z"
   },
   {
    "duration": 8,
    "start_time": "2022-09-26T18:03:48.078Z"
   },
   {
    "duration": 34,
    "start_time": "2022-09-26T18:04:12.415Z"
   },
   {
    "duration": 10,
    "start_time": "2022-09-26T18:04:18.785Z"
   },
   {
    "duration": 11,
    "start_time": "2022-09-26T18:04:24.071Z"
   },
   {
    "duration": 9,
    "start_time": "2022-09-26T18:04:26.529Z"
   },
   {
    "duration": 13,
    "start_time": "2022-09-26T18:04:32.181Z"
   },
   {
    "duration": 9,
    "start_time": "2022-09-26T18:04:35.715Z"
   },
   {
    "duration": 10,
    "start_time": "2022-09-26T18:04:39.757Z"
   },
   {
    "duration": 9,
    "start_time": "2022-09-26T18:04:42.732Z"
   },
   {
    "duration": 10,
    "start_time": "2022-09-26T18:04:47.122Z"
   },
   {
    "duration": 9,
    "start_time": "2022-09-26T18:04:49.351Z"
   },
   {
    "duration": 13,
    "start_time": "2022-09-26T18:04:54.304Z"
   },
   {
    "duration": 9,
    "start_time": "2022-09-26T18:04:54.727Z"
   },
   {
    "duration": 6,
    "start_time": "2022-09-26T18:05:01.904Z"
   },
   {
    "duration": 9,
    "start_time": "2022-09-26T18:05:02.453Z"
   },
   {
    "duration": 7,
    "start_time": "2022-09-26T18:05:49.573Z"
   },
   {
    "duration": 10,
    "start_time": "2022-09-26T18:05:50.037Z"
   },
   {
    "duration": 6,
    "start_time": "2022-09-26T18:05:55.275Z"
   },
   {
    "duration": 8,
    "start_time": "2022-09-26T18:06:01.953Z"
   },
   {
    "duration": 14,
    "start_time": "2022-09-26T18:06:02.391Z"
   },
   {
    "duration": 7,
    "start_time": "2022-09-26T18:06:06.311Z"
   },
   {
    "duration": 8,
    "start_time": "2022-09-26T18:06:06.693Z"
   },
   {
    "duration": 10,
    "start_time": "2022-09-26T18:08:16.450Z"
   },
   {
    "duration": 8,
    "start_time": "2022-09-26T18:08:33.562Z"
   },
   {
    "duration": 6,
    "start_time": "2022-09-26T18:10:28.128Z"
   },
   {
    "duration": 9,
    "start_time": "2022-09-26T18:14:48.136Z"
   },
   {
    "duration": 16,
    "start_time": "2022-09-26T18:14:58.701Z"
   },
   {
    "duration": 16,
    "start_time": "2022-09-26T18:15:13.214Z"
   },
   {
    "duration": 24,
    "start_time": "2022-09-26T18:16:38.294Z"
   },
   {
    "duration": 10,
    "start_time": "2022-09-26T18:16:43.987Z"
   },
   {
    "duration": 9,
    "start_time": "2022-09-26T18:16:51.921Z"
   },
   {
    "duration": 9,
    "start_time": "2022-09-26T18:16:52.899Z"
   },
   {
    "duration": 10,
    "start_time": "2022-09-26T18:17:59.247Z"
   },
   {
    "duration": 10,
    "start_time": "2022-09-26T18:17:59.680Z"
   },
   {
    "duration": 20,
    "start_time": "2022-09-26T18:19:31.756Z"
   },
   {
    "duration": 10,
    "start_time": "2022-09-26T18:28:22.049Z"
   },
   {
    "duration": 3,
    "start_time": "2022-09-26T18:28:29.342Z"
   },
   {
    "duration": 75,
    "start_time": "2022-09-26T18:28:29.511Z"
   },
   {
    "duration": 17,
    "start_time": "2022-09-26T18:28:29.851Z"
   },
   {
    "duration": 15,
    "start_time": "2022-09-26T18:28:30.018Z"
   },
   {
    "duration": 4,
    "start_time": "2022-09-26T18:28:30.518Z"
   },
   {
    "duration": 15,
    "start_time": "2022-09-26T18:28:30.885Z"
   },
   {
    "duration": 16,
    "start_time": "2022-09-26T18:28:31.073Z"
   },
   {
    "duration": 27,
    "start_time": "2022-09-26T18:28:31.241Z"
   },
   {
    "duration": 7,
    "start_time": "2022-09-26T18:28:31.779Z"
   },
   {
    "duration": 12,
    "start_time": "2022-09-26T18:28:32.147Z"
   },
   {
    "duration": 6,
    "start_time": "2022-09-26T18:28:32.497Z"
   },
   {
    "duration": 7,
    "start_time": "2022-09-26T18:28:32.853Z"
   },
   {
    "duration": 4,
    "start_time": "2022-09-26T18:28:33.032Z"
   },
   {
    "duration": 7,
    "start_time": "2022-09-26T18:28:33.207Z"
   },
   {
    "duration": 6,
    "start_time": "2022-09-26T18:28:33.383Z"
   },
   {
    "duration": 8,
    "start_time": "2022-09-26T18:28:33.763Z"
   },
   {
    "duration": 14,
    "start_time": "2022-09-26T18:28:34.732Z"
   },
   {
    "duration": 6,
    "start_time": "2022-09-26T18:28:38.330Z"
   },
   {
    "duration": 99,
    "start_time": "2022-09-26T18:28:39.129Z"
   },
   {
    "duration": 12,
    "start_time": "2022-09-26T18:28:39.711Z"
   },
   {
    "duration": 11,
    "start_time": "2022-09-26T18:28:40.009Z"
   },
   {
    "duration": 9,
    "start_time": "2022-09-26T18:28:42.175Z"
   },
   {
    "duration": 11,
    "start_time": "2022-09-26T18:28:42.961Z"
   },
   {
    "duration": 179,
    "start_time": "2022-09-26T18:28:43.495Z"
   },
   {
    "duration": 16,
    "start_time": "2022-09-26T18:28:49.945Z"
   },
   {
    "duration": 350,
    "start_time": "2022-09-26T18:28:51.310Z"
   },
   {
    "duration": 440,
    "start_time": "2022-09-26T18:29:29.466Z"
   },
   {
    "duration": 26,
    "start_time": "2022-09-26T18:32:34.058Z"
   },
   {
    "duration": 24,
    "start_time": "2022-09-26T18:32:37.180Z"
   },
   {
    "duration": 219,
    "start_time": "2022-09-26T18:32:40.219Z"
   },
   {
    "duration": 1715,
    "start_time": "2022-09-26T18:32:44.580Z"
   },
   {
    "duration": 1565,
    "start_time": "2022-09-26T18:33:09.132Z"
   },
   {
    "duration": 9,
    "start_time": "2022-09-26T18:33:29.453Z"
   },
   {
    "duration": 17,
    "start_time": "2022-09-26T18:33:30.246Z"
   },
   {
    "duration": 285,
    "start_time": "2022-09-26T18:43:29.735Z"
   },
   {
    "duration": 17,
    "start_time": "2022-09-26T18:43:30.905Z"
   },
   {
    "duration": 4,
    "start_time": "2022-09-26T18:46:05.246Z"
   },
   {
    "duration": 377,
    "start_time": "2022-09-26T18:46:05.801Z"
   },
   {
    "duration": 291,
    "start_time": "2022-09-26T18:46:23.304Z"
   },
   {
    "duration": 15,
    "start_time": "2022-09-26T19:01:28.088Z"
   },
   {
    "duration": 209,
    "start_time": "2022-09-26T19:01:29.207Z"
   },
   {
    "duration": 237,
    "start_time": "2022-09-26T19:44:37.786Z"
   },
   {
    "duration": 315,
    "start_time": "2022-09-26T19:45:06.207Z"
   },
   {
    "duration": 232,
    "start_time": "2022-09-26T19:45:23.557Z"
   },
   {
    "duration": 393,
    "start_time": "2022-09-26T19:45:36.178Z"
   },
   {
    "duration": 12,
    "start_time": "2022-09-26T19:50:25.981Z"
   },
   {
    "duration": 217,
    "start_time": "2022-09-26T19:50:32.153Z"
   },
   {
    "duration": 14,
    "start_time": "2022-09-26T19:50:36.000Z"
   },
   {
    "duration": 12,
    "start_time": "2022-09-26T19:50:43.744Z"
   },
   {
    "duration": 13,
    "start_time": "2022-09-26T19:52:11.319Z"
   },
   {
    "duration": 13,
    "start_time": "2022-09-26T19:52:31.884Z"
   },
   {
    "duration": 197,
    "start_time": "2022-09-26T19:52:38.562Z"
   },
   {
    "duration": 12,
    "start_time": "2022-09-26T19:52:50.818Z"
   },
   {
    "duration": 15,
    "start_time": "2022-09-26T19:53:20.902Z"
   },
   {
    "duration": 253,
    "start_time": "2022-09-26T19:53:34.656Z"
   },
   {
    "duration": 268,
    "start_time": "2022-09-26T19:55:57.582Z"
   },
   {
    "duration": 17,
    "start_time": "2022-09-26T19:56:02.132Z"
   },
   {
    "duration": 15,
    "start_time": "2022-09-26T19:56:48.140Z"
   },
   {
    "duration": 11,
    "start_time": "2022-09-26T19:57:25.319Z"
   },
   {
    "duration": 12,
    "start_time": "2022-09-26T19:57:40.472Z"
   },
   {
    "duration": 16,
    "start_time": "2022-09-26T19:57:44.918Z"
   },
   {
    "duration": 266,
    "start_time": "2022-09-26T20:03:41.784Z"
   },
   {
    "duration": 5,
    "start_time": "2022-09-26T20:03:57.031Z"
   },
   {
    "duration": 5,
    "start_time": "2022-09-26T20:04:04.362Z"
   },
   {
    "duration": 424,
    "start_time": "2022-09-26T20:11:02.853Z"
   },
   {
    "duration": 7,
    "start_time": "2022-09-26T20:11:06.434Z"
   },
   {
    "duration": 275,
    "start_time": "2022-09-26T20:11:18.084Z"
   },
   {
    "duration": 6,
    "start_time": "2022-09-26T20:11:21.296Z"
   },
   {
    "duration": 16,
    "start_time": "2022-09-26T20:11:42.401Z"
   },
   {
    "duration": 268,
    "start_time": "2022-09-26T20:12:08.996Z"
   },
   {
    "duration": 194,
    "start_time": "2022-09-26T20:12:21.495Z"
   },
   {
    "duration": 3,
    "start_time": "2022-09-26T20:12:56.809Z"
   },
   {
    "duration": 58,
    "start_time": "2022-09-26T20:12:57.021Z"
   },
   {
    "duration": 13,
    "start_time": "2022-09-26T20:12:57.324Z"
   },
   {
    "duration": 13,
    "start_time": "2022-09-26T20:12:57.494Z"
   },
   {
    "duration": 3,
    "start_time": "2022-09-26T20:12:58.017Z"
   },
   {
    "duration": 13,
    "start_time": "2022-09-26T20:12:58.379Z"
   },
   {
    "duration": 9,
    "start_time": "2022-09-26T20:12:58.583Z"
   },
   {
    "duration": 21,
    "start_time": "2022-09-26T20:12:58.761Z"
   },
   {
    "duration": 5,
    "start_time": "2022-09-26T20:12:59.295Z"
   },
   {
    "duration": 6,
    "start_time": "2022-09-26T20:12:59.652Z"
   },
   {
    "duration": 4,
    "start_time": "2022-09-26T20:13:00.008Z"
   },
   {
    "duration": 5,
    "start_time": "2022-09-26T20:13:00.364Z"
   },
   {
    "duration": 4,
    "start_time": "2022-09-26T20:13:00.542Z"
   },
   {
    "duration": 5,
    "start_time": "2022-09-26T20:13:00.721Z"
   },
   {
    "duration": 4,
    "start_time": "2022-09-26T20:13:00.898Z"
   },
   {
    "duration": 5,
    "start_time": "2022-09-26T20:13:01.254Z"
   },
   {
    "duration": 9,
    "start_time": "2022-09-26T20:13:01.631Z"
   },
   {
    "duration": 4,
    "start_time": "2022-09-26T20:13:02.006Z"
   },
   {
    "duration": 69,
    "start_time": "2022-09-26T20:13:02.381Z"
   },
   {
    "duration": 8,
    "start_time": "2022-09-26T20:13:02.932Z"
   },
   {
    "duration": 10,
    "start_time": "2022-09-26T20:13:03.121Z"
   },
   {
    "duration": 9,
    "start_time": "2022-09-26T20:13:03.460Z"
   },
   {
    "duration": 7,
    "start_time": "2022-09-26T20:13:03.659Z"
   },
   {
    "duration": 143,
    "start_time": "2022-09-26T20:13:03.865Z"
   },
   {
    "duration": 13,
    "start_time": "2022-09-26T20:13:04.418Z"
   },
   {
    "duration": 327,
    "start_time": "2022-09-26T20:13:04.790Z"
   },
   {
    "duration": 658,
    "start_time": "2022-09-26T20:13:05.119Z"
   },
   {
    "duration": 23,
    "start_time": "2022-09-26T20:13:06.870Z"
   },
   {
    "duration": 218,
    "start_time": "2022-09-26T20:13:07.063Z"
   },
   {
    "duration": 1631,
    "start_time": "2022-09-26T20:13:07.282Z"
   },
   {
    "duration": 267,
    "start_time": "2022-09-26T20:13:08.915Z"
   },
   {
    "duration": 4,
    "start_time": "2022-09-26T20:13:09.184Z"
   },
   {
    "duration": 257,
    "start_time": "2022-09-26T20:13:09.190Z"
   },
   {
    "duration": 250,
    "start_time": "2022-09-26T20:13:21.823Z"
   },
   {
    "duration": 5,
    "start_time": "2022-09-26T20:13:22.075Z"
   },
   {
    "duration": 242,
    "start_time": "2022-09-26T20:13:22.177Z"
   },
   {
    "duration": 1316,
    "start_time": "2022-09-26T20:13:22.672Z"
   },
   {
    "duration": 13,
    "start_time": "2022-09-26T20:13:23.990Z"
   },
   {
    "duration": 229,
    "start_time": "2022-09-26T20:13:24.004Z"
   },
   {
    "duration": 282,
    "start_time": "2022-09-26T20:13:24.235Z"
   },
   {
    "duration": 13,
    "start_time": "2022-09-26T20:13:24.560Z"
   },
   {
    "duration": 5,
    "start_time": "2022-09-26T20:13:24.723Z"
   },
   {
    "duration": 632,
    "start_time": "2022-09-26T23:00:00.624Z"
   },
   {
    "duration": 671,
    "start_time": "2022-09-26T23:00:21.112Z"
   },
   {
    "duration": 632,
    "start_time": "2022-09-26T23:02:18.294Z"
   },
   {
    "duration": 675,
    "start_time": "2022-09-26T23:04:38.236Z"
   },
   {
    "duration": 1002,
    "start_time": "2022-09-26T23:08:21.717Z"
   },
   {
    "duration": 1319,
    "start_time": "2022-09-26T23:08:39.794Z"
   },
   {
    "duration": 1337,
    "start_time": "2022-09-26T23:09:08.256Z"
   },
   {
    "duration": 666,
    "start_time": "2022-09-26T23:09:43.773Z"
   },
   {
    "duration": 861,
    "start_time": "2022-09-26T23:09:59.055Z"
   },
   {
    "duration": 681,
    "start_time": "2022-09-26T23:11:41.867Z"
   },
   {
    "duration": 666,
    "start_time": "2022-09-26T23:12:06.433Z"
   },
   {
    "duration": 637,
    "start_time": "2022-09-26T23:12:51.282Z"
   },
   {
    "duration": 636,
    "start_time": "2022-09-26T23:13:04.470Z"
   },
   {
    "duration": 641,
    "start_time": "2022-09-26T23:13:42.358Z"
   },
   {
    "duration": 832,
    "start_time": "2022-09-26T23:13:52.252Z"
   },
   {
    "duration": 621,
    "start_time": "2022-09-26T23:14:56.907Z"
   },
   {
    "duration": 633,
    "start_time": "2022-09-26T23:15:14.541Z"
   },
   {
    "duration": 6,
    "start_time": "2022-09-26T23:18:18.848Z"
   },
   {
    "duration": 645,
    "start_time": "2022-09-26T23:19:11.439Z"
   },
   {
    "duration": 661,
    "start_time": "2022-09-26T23:20:01.841Z"
   },
   {
    "duration": 549,
    "start_time": "2022-09-26T23:22:15.201Z"
   },
   {
    "duration": 57,
    "start_time": "2022-09-26T23:23:53.571Z"
   },
   {
    "duration": 50,
    "start_time": "2022-09-26T23:24:32.484Z"
   },
   {
    "duration": 509,
    "start_time": "2022-09-26T23:24:40.489Z"
   },
   {
    "duration": 753,
    "start_time": "2022-09-26T23:24:50.351Z"
   },
   {
    "duration": 5,
    "start_time": "2022-09-26T23:31:39.664Z"
   },
   {
    "duration": 5,
    "start_time": "2022-09-26T23:32:02.303Z"
   },
   {
    "duration": 5,
    "start_time": "2022-09-26T23:32:22.552Z"
   },
   {
    "duration": 4,
    "start_time": "2022-09-26T23:33:04.423Z"
   },
   {
    "duration": 4,
    "start_time": "2022-09-26T23:33:08.397Z"
   },
   {
    "duration": 3,
    "start_time": "2022-09-26T23:33:13.465Z"
   },
   {
    "duration": 61,
    "start_time": "2022-09-26T23:33:13.648Z"
   },
   {
    "duration": 14,
    "start_time": "2022-09-26T23:33:13.962Z"
   },
   {
    "duration": 14,
    "start_time": "2022-09-26T23:33:14.147Z"
   },
   {
    "duration": 3,
    "start_time": "2022-09-26T23:33:14.685Z"
   },
   {
    "duration": 14,
    "start_time": "2022-09-26T23:33:15.049Z"
   },
   {
    "duration": 9,
    "start_time": "2022-09-26T23:33:15.266Z"
   },
   {
    "duration": 16,
    "start_time": "2022-09-26T23:33:15.452Z"
   },
   {
    "duration": 4,
    "start_time": "2022-09-26T23:33:16.028Z"
   },
   {
    "duration": 9,
    "start_time": "2022-09-26T23:33:16.399Z"
   },
   {
    "duration": 4,
    "start_time": "2022-09-26T23:33:16.775Z"
   },
   {
    "duration": 5,
    "start_time": "2022-09-26T23:33:17.137Z"
   },
   {
    "duration": 3,
    "start_time": "2022-09-26T23:33:17.333Z"
   },
   {
    "duration": 5,
    "start_time": "2022-09-26T23:33:17.517Z"
   },
   {
    "duration": 4,
    "start_time": "2022-09-26T23:33:17.698Z"
   },
   {
    "duration": 5,
    "start_time": "2022-09-26T23:33:18.084Z"
   },
   {
    "duration": 8,
    "start_time": "2022-09-26T23:33:18.448Z"
   },
   {
    "duration": 5,
    "start_time": "2022-09-26T23:33:18.818Z"
   },
   {
    "duration": 70,
    "start_time": "2022-09-26T23:33:19.179Z"
   },
   {
    "duration": 10,
    "start_time": "2022-09-26T23:33:19.745Z"
   },
   {
    "duration": 9,
    "start_time": "2022-09-26T23:33:19.938Z"
   },
   {
    "duration": 4,
    "start_time": "2022-09-26T23:33:20.313Z"
   },
   {
    "duration": 10,
    "start_time": "2022-09-26T23:33:20.700Z"
   },
   {
    "duration": 7,
    "start_time": "2022-09-26T23:33:20.893Z"
   },
   {
    "duration": 145,
    "start_time": "2022-09-26T23:33:21.083Z"
   },
   {
    "duration": 14,
    "start_time": "2022-09-26T23:33:21.681Z"
   },
   {
    "duration": 334,
    "start_time": "2022-09-26T23:33:22.033Z"
   },
   {
    "duration": 642,
    "start_time": "2022-09-26T23:33:22.369Z"
   },
   {
    "duration": 22,
    "start_time": "2022-09-26T23:33:35.558Z"
   },
   {
    "duration": 236,
    "start_time": "2022-09-26T23:33:36.214Z"
   },
   {
    "duration": 1414,
    "start_time": "2022-09-26T23:33:37.077Z"
   },
   {
    "duration": 258,
    "start_time": "2022-09-26T23:33:40.255Z"
   },
   {
    "duration": 4,
    "start_time": "2022-09-26T23:33:43.824Z"
   },
   {
    "duration": 431,
    "start_time": "2022-09-26T23:33:44.506Z"
   },
   {
    "duration": 547,
    "start_time": "2022-09-26T23:33:48.340Z"
   },
   {
    "duration": 533,
    "start_time": "2022-09-26T23:33:49.160Z"
   },
   {
    "duration": 14,
    "start_time": "2022-09-26T23:33:58.450Z"
   },
   {
    "duration": 196,
    "start_time": "2022-09-26T23:33:59.123Z"
   },
   {
    "duration": 264,
    "start_time": "2022-09-26T23:33:59.627Z"
   },
   {
    "duration": 14,
    "start_time": "2022-09-26T23:34:02.223Z"
   },
   {
    "duration": 5,
    "start_time": "2022-09-26T23:34:02.446Z"
   },
   {
    "duration": 13,
    "start_time": "2022-09-26T23:34:02.894Z"
   },
   {
    "duration": 5,
    "start_time": "2022-09-26T23:34:03.171Z"
   },
   {
    "duration": 14,
    "start_time": "2022-09-26T23:34:03.630Z"
   },
   {
    "duration": 4,
    "start_time": "2022-09-26T23:34:03.823Z"
   },
   {
    "duration": 23,
    "start_time": "2022-09-26T23:34:04.425Z"
   },
   {
    "duration": 5,
    "start_time": "2022-09-26T23:34:08.445Z"
   },
   {
    "duration": 23,
    "start_time": "2022-09-26T23:34:09.568Z"
   },
   {
    "duration": 51,
    "start_time": "2022-09-26T23:39:46.456Z"
   },
   {
    "duration": 13,
    "start_time": "2022-09-26T23:40:24.390Z"
   },
   {
    "duration": 6,
    "start_time": "2022-09-26T23:40:26.686Z"
   },
   {
    "duration": 13,
    "start_time": "2022-09-26T23:41:43.079Z"
   },
   {
    "duration": 4,
    "start_time": "2022-09-26T23:41:46.792Z"
   },
   {
    "duration": 13,
    "start_time": "2022-09-26T23:42:48.286Z"
   },
   {
    "duration": 4,
    "start_time": "2022-09-26T23:42:51.084Z"
   },
   {
    "duration": 7,
    "start_time": "2022-09-26T23:42:56.027Z"
   },
   {
    "duration": 23,
    "start_time": "2022-09-26T23:43:53.868Z"
   },
   {
    "duration": 8,
    "start_time": "2022-09-26T23:47:33.136Z"
   },
   {
    "duration": 8,
    "start_time": "2022-09-26T23:47:38.264Z"
   },
   {
    "duration": 763,
    "start_time": "2022-09-26T23:52:49.130Z"
   },
   {
    "duration": 222,
    "start_time": "2022-09-26T23:53:08.253Z"
   },
   {
    "duration": 221,
    "start_time": "2022-09-26T23:53:33.090Z"
   },
   {
    "duration": 310,
    "start_time": "2022-09-26T23:53:44.906Z"
   },
   {
    "duration": 240,
    "start_time": "2022-09-26T23:53:57.511Z"
   },
   {
    "duration": 367,
    "start_time": "2022-09-26T23:55:26.022Z"
   },
   {
    "duration": 330,
    "start_time": "2022-09-26T23:55:54.480Z"
   },
   {
    "duration": 19,
    "start_time": "2022-09-27T00:00:50.489Z"
   },
   {
    "duration": 575,
    "start_time": "2022-09-27T00:01:52.923Z"
   },
   {
    "duration": 324,
    "start_time": "2022-09-27T00:03:37.693Z"
   },
   {
    "duration": 46,
    "start_time": "2022-09-27T00:06:50.582Z"
   },
   {
    "duration": 47,
    "start_time": "2022-09-27T00:07:20.451Z"
   },
   {
    "duration": 12,
    "start_time": "2022-09-27T00:07:45.008Z"
   },
   {
    "duration": 13,
    "start_time": "2022-09-27T00:07:52.763Z"
   },
   {
    "duration": 106,
    "start_time": "2022-09-27T00:08:06.081Z"
   },
   {
    "duration": 379,
    "start_time": "2022-09-27T00:09:36.067Z"
   },
   {
    "duration": 316,
    "start_time": "2022-09-27T00:13:51.194Z"
   },
   {
    "duration": 1071,
    "start_time": "2022-09-27T23:24:04.948Z"
   },
   {
    "duration": 65,
    "start_time": "2022-09-27T23:24:06.021Z"
   },
   {
    "duration": 13,
    "start_time": "2022-09-27T23:24:06.088Z"
   },
   {
    "duration": 11,
    "start_time": "2022-09-27T23:24:06.103Z"
   },
   {
    "duration": 9,
    "start_time": "2022-09-27T23:24:06.115Z"
   },
   {
    "duration": 18,
    "start_time": "2022-09-27T23:24:06.126Z"
   },
   {
    "duration": 11,
    "start_time": "2022-09-27T23:24:06.145Z"
   },
   {
    "duration": 18,
    "start_time": "2022-09-27T23:24:06.157Z"
   },
   {
    "duration": 5,
    "start_time": "2022-09-27T23:24:06.177Z"
   },
   {
    "duration": 7,
    "start_time": "2022-09-27T23:24:06.208Z"
   },
   {
    "duration": 4,
    "start_time": "2022-09-27T23:24:06.217Z"
   },
   {
    "duration": 12,
    "start_time": "2022-09-27T23:24:06.223Z"
   },
   {
    "duration": 6,
    "start_time": "2022-09-27T23:24:06.237Z"
   },
   {
    "duration": 12,
    "start_time": "2022-09-27T23:24:06.245Z"
   },
   {
    "duration": 7,
    "start_time": "2022-09-27T23:24:06.259Z"
   },
   {
    "duration": 7,
    "start_time": "2022-09-27T23:24:06.268Z"
   },
   {
    "duration": 33,
    "start_time": "2022-09-27T23:24:06.277Z"
   },
   {
    "duration": 6,
    "start_time": "2022-09-27T23:24:06.312Z"
   },
   {
    "duration": 89,
    "start_time": "2022-09-27T23:24:06.320Z"
   },
   {
    "duration": 9,
    "start_time": "2022-09-27T23:24:06.411Z"
   },
   {
    "duration": 8,
    "start_time": "2022-09-27T23:24:06.422Z"
   },
   {
    "duration": 5,
    "start_time": "2022-09-27T23:24:06.432Z"
   },
   {
    "duration": 12,
    "start_time": "2022-09-27T23:24:06.438Z"
   },
   {
    "duration": 8,
    "start_time": "2022-09-27T23:24:06.452Z"
   },
   {
    "duration": 203,
    "start_time": "2022-09-27T23:24:06.461Z"
   },
   {
    "duration": 14,
    "start_time": "2022-09-27T23:24:06.666Z"
   },
   {
    "duration": 352,
    "start_time": "2022-09-27T23:24:06.681Z"
   },
   {
    "duration": 653,
    "start_time": "2022-09-27T23:24:07.036Z"
   },
   {
    "duration": 31,
    "start_time": "2022-09-27T23:24:07.691Z"
   },
   {
    "duration": 212,
    "start_time": "2022-09-27T23:24:07.724Z"
   },
   {
    "duration": 1507,
    "start_time": "2022-09-27T23:24:07.938Z"
   },
   {
    "duration": 272,
    "start_time": "2022-09-27T23:24:09.446Z"
   },
   {
    "duration": 4,
    "start_time": "2022-09-27T23:24:09.720Z"
   },
   {
    "duration": 258,
    "start_time": "2022-09-27T23:24:09.726Z"
   },
   {
    "duration": 548,
    "start_time": "2022-09-27T23:24:09.986Z"
   },
   {
    "duration": 116,
    "start_time": "2022-09-27T23:24:10.536Z"
   },
   {
    "duration": 0,
    "start_time": "2022-09-27T23:24:10.654Z"
   },
   {
    "duration": 0,
    "start_time": "2022-09-27T23:24:10.655Z"
   },
   {
    "duration": 0,
    "start_time": "2022-09-27T23:24:10.656Z"
   },
   {
    "duration": 0,
    "start_time": "2022-09-27T23:24:10.658Z"
   },
   {
    "duration": 0,
    "start_time": "2022-09-27T23:24:10.659Z"
   },
   {
    "duration": 0,
    "start_time": "2022-09-27T23:24:10.660Z"
   },
   {
    "duration": 0,
    "start_time": "2022-09-27T23:24:10.661Z"
   },
   {
    "duration": 0,
    "start_time": "2022-09-27T23:24:10.662Z"
   },
   {
    "duration": 0,
    "start_time": "2022-09-27T23:24:10.663Z"
   },
   {
    "duration": 0,
    "start_time": "2022-09-27T23:24:10.774Z"
   },
   {
    "duration": 0,
    "start_time": "2022-09-27T23:24:10.775Z"
   },
   {
    "duration": 0,
    "start_time": "2022-09-27T23:24:10.776Z"
   },
   {
    "duration": 1267,
    "start_time": "2022-09-28T04:55:33.795Z"
   },
   {
    "duration": 113,
    "start_time": "2022-09-28T04:55:35.064Z"
   },
   {
    "duration": 14,
    "start_time": "2022-09-28T04:55:35.178Z"
   },
   {
    "duration": 23,
    "start_time": "2022-09-28T04:55:35.194Z"
   },
   {
    "duration": 5,
    "start_time": "2022-09-28T04:55:35.219Z"
   },
   {
    "duration": 13,
    "start_time": "2022-09-28T04:55:35.719Z"
   },
   {
    "duration": 9,
    "start_time": "2022-09-28T04:55:35.918Z"
   },
   {
    "duration": 16,
    "start_time": "2022-09-28T04:55:36.120Z"
   },
   {
    "duration": 4,
    "start_time": "2022-09-28T04:55:36.712Z"
   },
   {
    "duration": 7,
    "start_time": "2022-09-28T04:55:37.122Z"
   },
   {
    "duration": 4,
    "start_time": "2022-09-28T04:55:37.525Z"
   },
   {
    "duration": 5,
    "start_time": "2022-09-28T04:55:37.931Z"
   },
   {
    "duration": 4,
    "start_time": "2022-09-28T04:55:38.127Z"
   },
   {
    "duration": 5,
    "start_time": "2022-09-28T04:55:38.329Z"
   },
   {
    "duration": 4,
    "start_time": "2022-09-28T04:55:38.531Z"
   },
   {
    "duration": 6,
    "start_time": "2022-09-28T04:55:38.928Z"
   },
   {
    "duration": 8,
    "start_time": "2022-09-28T04:55:39.520Z"
   },
   {
    "duration": 6,
    "start_time": "2022-09-28T04:55:40.010Z"
   },
   {
    "duration": 69,
    "start_time": "2022-09-28T04:55:40.350Z"
   },
   {
    "duration": 9,
    "start_time": "2022-09-28T04:55:40.933Z"
   },
   {
    "duration": 9,
    "start_time": "2022-09-28T04:55:41.335Z"
   },
   {
    "duration": 5,
    "start_time": "2022-09-28T04:55:41.708Z"
   },
   {
    "duration": 10,
    "start_time": "2022-09-28T04:55:42.319Z"
   },
   {
    "duration": 8,
    "start_time": "2022-09-28T04:55:42.513Z"
   },
   {
    "duration": 175,
    "start_time": "2022-09-28T04:55:42.733Z"
   },
   {
    "duration": 16,
    "start_time": "2022-09-28T04:55:43.479Z"
   },
   {
    "duration": 366,
    "start_time": "2022-09-28T04:55:43.868Z"
   },
   {
    "duration": 728,
    "start_time": "2022-09-28T04:55:44.236Z"
   },
   {
    "duration": 24,
    "start_time": "2022-09-28T04:55:46.283Z"
   },
   {
    "duration": 218,
    "start_time": "2022-09-28T04:55:46.493Z"
   },
   {
    "duration": 1666,
    "start_time": "2022-09-28T04:55:46.713Z"
   },
   {
    "duration": 291,
    "start_time": "2022-09-28T04:56:09.018Z"
   },
   {
    "duration": 5,
    "start_time": "2022-09-28T04:56:10.074Z"
   },
   {
    "duration": 264,
    "start_time": "2022-09-28T04:56:21.002Z"
   },
   {
    "duration": 575,
    "start_time": "2022-09-28T04:56:23.685Z"
   },
   {
    "duration": 707,
    "start_time": "2022-09-28T04:56:28.474Z"
   },
   {
    "duration": 15,
    "start_time": "2022-09-28T04:57:37.317Z"
   },
   {
    "duration": 220,
    "start_time": "2022-09-28T04:57:39.305Z"
   },
   {
    "duration": 297,
    "start_time": "2022-09-28T04:57:42.237Z"
   },
   {
    "duration": 371,
    "start_time": "2022-09-28T04:57:48.135Z"
   },
   {
    "duration": 460,
    "start_time": "2022-09-28T05:01:09.760Z"
   },
   {
    "duration": 4,
    "start_time": "2022-09-28T05:01:26.757Z"
   },
   {
    "duration": 64,
    "start_time": "2022-09-28T05:01:26.951Z"
   },
   {
    "duration": 17,
    "start_time": "2022-09-28T05:01:27.484Z"
   },
   {
    "duration": 15,
    "start_time": "2022-09-28T05:01:27.683Z"
   },
   {
    "duration": 3,
    "start_time": "2022-09-28T05:01:28.331Z"
   },
   {
    "duration": 15,
    "start_time": "2022-09-28T05:01:28.855Z"
   },
   {
    "duration": 10,
    "start_time": "2022-09-28T05:01:29.043Z"
   },
   {
    "duration": 20,
    "start_time": "2022-09-28T05:01:29.232Z"
   },
   {
    "duration": 4,
    "start_time": "2022-09-28T05:01:29.738Z"
   },
   {
    "duration": 7,
    "start_time": "2022-09-28T05:01:30.071Z"
   },
   {
    "duration": 5,
    "start_time": "2022-09-28T05:01:30.434Z"
   },
   {
    "duration": 7,
    "start_time": "2022-09-28T05:01:30.802Z"
   },
   {
    "duration": 4,
    "start_time": "2022-09-28T05:01:30.974Z"
   },
   {
    "duration": 5,
    "start_time": "2022-09-28T05:01:31.246Z"
   },
   {
    "duration": 5,
    "start_time": "2022-09-28T05:01:31.459Z"
   },
   {
    "duration": 7,
    "start_time": "2022-09-28T05:01:31.850Z"
   },
   {
    "duration": 10,
    "start_time": "2022-09-28T05:01:32.408Z"
   },
   {
    "duration": 6,
    "start_time": "2022-09-28T05:01:32.791Z"
   },
   {
    "duration": 74,
    "start_time": "2022-09-28T05:01:33.201Z"
   },
   {
    "duration": 10,
    "start_time": "2022-09-28T05:01:33.854Z"
   },
   {
    "duration": 10,
    "start_time": "2022-09-28T05:01:34.267Z"
   },
   {
    "duration": 5,
    "start_time": "2022-09-28T05:01:34.643Z"
   },
   {
    "duration": 15,
    "start_time": "2022-09-28T05:01:35.267Z"
   },
   {
    "duration": 8,
    "start_time": "2022-09-28T05:01:35.451Z"
   },
   {
    "duration": 180,
    "start_time": "2022-09-28T05:01:35.653Z"
   },
   {
    "duration": 17,
    "start_time": "2022-09-28T05:01:36.519Z"
   },
   {
    "duration": 382,
    "start_time": "2022-09-28T05:01:37.649Z"
   },
   {
    "duration": 727,
    "start_time": "2022-09-28T05:01:38.033Z"
   },
   {
    "duration": 25,
    "start_time": "2022-09-28T05:01:40.774Z"
   },
   {
    "duration": 221,
    "start_time": "2022-09-28T05:01:40.965Z"
   },
   {
    "duration": 1772,
    "start_time": "2022-09-28T05:01:41.188Z"
   },
   {
    "duration": 280,
    "start_time": "2022-09-28T05:01:43.122Z"
   },
   {
    "duration": 247,
    "start_time": "2022-09-28T05:01:44.662Z"
   },
   {
    "duration": 269,
    "start_time": "2022-09-28T05:02:25.150Z"
   },
   {
    "duration": 267,
    "start_time": "2022-09-28T05:02:42.803Z"
   },
   {
    "duration": 1055,
    "start_time": "2022-09-29T01:33:00.336Z"
   },
   {
    "duration": 64,
    "start_time": "2022-09-29T01:33:01.392Z"
   },
   {
    "duration": 13,
    "start_time": "2022-09-29T01:33:01.457Z"
   },
   {
    "duration": 17,
    "start_time": "2022-09-29T01:33:01.472Z"
   },
   {
    "duration": 22,
    "start_time": "2022-09-29T01:33:01.491Z"
   },
   {
    "duration": 25,
    "start_time": "2022-09-29T01:33:01.514Z"
   },
   {
    "duration": 14,
    "start_time": "2022-09-29T01:33:01.540Z"
   },
   {
    "duration": 21,
    "start_time": "2022-09-29T01:33:01.555Z"
   },
   {
    "duration": 4,
    "start_time": "2022-09-29T01:33:01.577Z"
   },
   {
    "duration": 30,
    "start_time": "2022-09-29T01:33:01.583Z"
   },
   {
    "duration": 13,
    "start_time": "2022-09-29T01:33:01.614Z"
   },
   {
    "duration": 23,
    "start_time": "2022-09-29T01:33:01.628Z"
   },
   {
    "duration": 10,
    "start_time": "2022-09-29T01:33:01.652Z"
   },
   {
    "duration": 31,
    "start_time": "2022-09-29T01:33:01.664Z"
   },
   {
    "duration": 10,
    "start_time": "2022-09-29T01:33:01.697Z"
   },
   {
    "duration": 16,
    "start_time": "2022-09-29T01:33:01.708Z"
   },
   {
    "duration": 13,
    "start_time": "2022-09-29T01:33:01.726Z"
   },
   {
    "duration": 16,
    "start_time": "2022-09-29T01:33:01.741Z"
   },
   {
    "duration": 70,
    "start_time": "2022-09-29T01:33:01.758Z"
   },
   {
    "duration": 7,
    "start_time": "2022-09-29T01:33:01.830Z"
   },
   {
    "duration": 37,
    "start_time": "2022-09-29T01:33:01.838Z"
   },
   {
    "duration": 20,
    "start_time": "2022-09-29T01:33:01.876Z"
   },
   {
    "duration": 39,
    "start_time": "2022-09-29T01:33:01.897Z"
   },
   {
    "duration": 34,
    "start_time": "2022-09-29T01:33:01.937Z"
   },
   {
    "duration": 189,
    "start_time": "2022-09-29T01:33:01.973Z"
   },
   {
    "duration": 18,
    "start_time": "2022-09-29T01:33:02.163Z"
   },
   {
    "duration": 327,
    "start_time": "2022-09-29T01:33:02.182Z"
   },
   {
    "duration": 645,
    "start_time": "2022-09-29T01:33:02.513Z"
   },
   {
    "duration": 31,
    "start_time": "2022-09-29T01:33:03.160Z"
   },
   {
    "duration": 207,
    "start_time": "2022-09-29T01:33:03.192Z"
   },
   {
    "duration": 1479,
    "start_time": "2022-09-29T01:33:03.401Z"
   },
   {
    "duration": 268,
    "start_time": "2022-09-29T01:33:04.882Z"
   },
   {
    "duration": 263,
    "start_time": "2022-09-29T01:33:05.152Z"
   },
   {
    "duration": 524,
    "start_time": "2022-09-29T01:33:05.417Z"
   },
   {
    "duration": 631,
    "start_time": "2022-09-29T01:33:05.942Z"
   },
   {
    "duration": 12,
    "start_time": "2022-09-29T01:33:06.577Z"
   },
   {
    "duration": 202,
    "start_time": "2022-09-29T01:33:06.590Z"
   },
   {
    "duration": 287,
    "start_time": "2022-09-29T01:33:06.794Z"
   },
   {
    "duration": 343,
    "start_time": "2022-09-29T01:33:07.082Z"
   },
   {
    "duration": 440,
    "start_time": "2022-09-29T01:33:07.427Z"
   },
   {
    "duration": 5,
    "start_time": "2022-09-29T01:33:07.876Z"
   },
   {
    "duration": 22,
    "start_time": "2022-09-29T01:33:07.882Z"
   },
   {
    "duration": 8,
    "start_time": "2022-09-29T01:33:07.906Z"
   },
   {
    "duration": 6,
    "start_time": "2022-09-29T01:33:07.916Z"
   },
   {
    "duration": 6,
    "start_time": "2022-09-29T01:33:07.923Z"
   },
   {
    "duration": 45,
    "start_time": "2022-09-29T01:33:07.931Z"
   },
   {
    "duration": 7,
    "start_time": "2022-09-29T01:33:07.978Z"
   }
  ],
  "kernelspec": {
   "display_name": "Python 3 (ipykernel)",
   "language": "python",
   "name": "python3"
  },
  "language_info": {
   "codemirror_mode": {
    "name": "ipython",
    "version": 3
   },
   "file_extension": ".py",
   "mimetype": "text/x-python",
   "name": "python",
   "nbconvert_exporter": "python",
   "pygments_lexer": "ipython3",
   "version": "3.10.4"
  },
  "toc": {
   "base_numbering": 1,
   "nav_menu": {},
   "number_sections": true,
   "sideBar": true,
   "skip_h1_title": true,
   "title_cell": "Table of Contents",
   "title_sidebar": "Contents",
   "toc_cell": false,
   "toc_position": {},
   "toc_section_display": true,
   "toc_window_display": false
  }
 },
 "nbformat": 4,
 "nbformat_minor": 2
}

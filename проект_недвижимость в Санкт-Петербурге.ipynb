{
 "cells": [
  {
   "cell_type": "markdown",
   "metadata": {},
   "source": [
    "# Исследование объявлений о продаже квартир\n",
    "\n",
    "Имеются данные сервиса Яндекс.Недвижимость — архив объявлений о продаже квартир в Санкт-Петербурге и соседних населённых пунктов за несколько лет. Нужно научиться определять рыночную стоимость объектов недвижимости. Задача — установить параметры. Это позволит построить автоматизированную систему: она отследит аномалии и мошенническую деятельность. \n",
    "\n",
    "По каждой квартире на продажу доступны два вида данных. Первые вписаны пользователем, вторые — получены автоматически на основе картографических данных. Например, расстояние до центра, аэропорта, ближайшего парка и водоёма. "
   ]
  },
  {
   "cell_type": "markdown",
   "metadata": {},
   "source": [
    "### Откройте файл с данными и изучите общую информацию. "
   ]
  },
  {
   "cell_type": "code",
   "execution_count": 1,
   "metadata": {},
   "outputs": [
    {
     "name": "stdout",
     "output_type": "stream",
     "text": [
      "   total_images  last_price  total_area first_day_exposition  rooms  \\\n",
      "0            20  13000000.0       108.0  2019-03-07T00:00:00      3   \n",
      "1             7   3350000.0        40.4  2018-12-04T00:00:00      1   \n",
      "2            10   5196000.0        56.0  2015-08-20T00:00:00      2   \n",
      "3             0  64900000.0       159.0  2015-07-24T00:00:00      3   \n",
      "4             2  10000000.0       100.0  2018-06-19T00:00:00      2   \n",
      "\n",
      "   ceiling_height  floors_total  living_area  floor is_apartment  ...  \\\n",
      "0            2.70          16.0         51.0      8          NaN  ...   \n",
      "1             NaN          11.0         18.6      1          NaN  ...   \n",
      "2             NaN           5.0         34.3      4          NaN  ...   \n",
      "3             NaN          14.0          NaN      9          NaN  ...   \n",
      "4            3.03          14.0         32.0     13          NaN  ...   \n",
      "\n",
      "   kitchen_area  balcony    locality_name  airports_nearest  \\\n",
      "0          25.0      NaN  Санкт-Петербург           18863.0   \n",
      "1          11.0      2.0   посёлок Шушары           12817.0   \n",
      "2           8.3      0.0  Санкт-Петербург           21741.0   \n",
      "3           NaN      0.0  Санкт-Петербург           28098.0   \n",
      "4          41.0      NaN  Санкт-Петербург           31856.0   \n",
      "\n",
      "  cityCenters_nearest  parks_around3000  parks_nearest  ponds_around3000  \\\n",
      "0             16028.0               1.0          482.0               2.0   \n",
      "1             18603.0               0.0            NaN               0.0   \n",
      "2             13933.0               1.0           90.0               2.0   \n",
      "3              6800.0               2.0           84.0               3.0   \n",
      "4              8098.0               2.0          112.0               1.0   \n",
      "\n",
      "   ponds_nearest  days_exposition  \n",
      "0          755.0              NaN  \n",
      "1            NaN             81.0  \n",
      "2          574.0            558.0  \n",
      "3          234.0            424.0  \n",
      "4           48.0            121.0  \n",
      "\n",
      "[5 rows x 22 columns]\n",
      "<class 'pandas.core.frame.DataFrame'>\n",
      "RangeIndex: 23699 entries, 0 to 23698\n",
      "Data columns (total 22 columns):\n",
      " #   Column                Non-Null Count  Dtype  \n",
      "---  ------                --------------  -----  \n",
      " 0   total_images          23699 non-null  int64  \n",
      " 1   last_price            23699 non-null  float64\n",
      " 2   total_area            23699 non-null  float64\n",
      " 3   first_day_exposition  23699 non-null  object \n",
      " 4   rooms                 23699 non-null  int64  \n",
      " 5   ceiling_height        14504 non-null  float64\n",
      " 6   floors_total          23613 non-null  float64\n",
      " 7   living_area           21796 non-null  float64\n",
      " 8   floor                 23699 non-null  int64  \n",
      " 9   is_apartment          2775 non-null   object \n",
      " 10  studio                23699 non-null  bool   \n",
      " 11  open_plan             23699 non-null  bool   \n",
      " 12  kitchen_area          21421 non-null  float64\n",
      " 13  balcony               12180 non-null  float64\n",
      " 14  locality_name         23650 non-null  object \n",
      " 15  airports_nearest      18157 non-null  float64\n",
      " 16  cityCenters_nearest   18180 non-null  float64\n",
      " 17  parks_around3000      18181 non-null  float64\n",
      " 18  parks_nearest         8079 non-null   float64\n",
      " 19  ponds_around3000      18181 non-null  float64\n",
      " 20  ponds_nearest         9110 non-null   float64\n",
      " 21  days_exposition       20518 non-null  float64\n",
      "dtypes: bool(2), float64(14), int64(3), object(3)\n",
      "memory usage: 3.7+ MB\n"
     ]
    },
    {
     "data": {
      "text/plain": [
       "array([[<AxesSubplot:title={'center':'total_images'}>,\n",
       "        <AxesSubplot:title={'center':'last_price'}>,\n",
       "        <AxesSubplot:title={'center':'total_area'}>,\n",
       "        <AxesSubplot:title={'center':'rooms'}>],\n",
       "       [<AxesSubplot:title={'center':'ceiling_height'}>,\n",
       "        <AxesSubplot:title={'center':'floors_total'}>,\n",
       "        <AxesSubplot:title={'center':'living_area'}>,\n",
       "        <AxesSubplot:title={'center':'floor'}>],\n",
       "       [<AxesSubplot:title={'center':'kitchen_area'}>,\n",
       "        <AxesSubplot:title={'center':'balcony'}>,\n",
       "        <AxesSubplot:title={'center':'airports_nearest'}>,\n",
       "        <AxesSubplot:title={'center':'cityCenters_nearest'}>],\n",
       "       [<AxesSubplot:title={'center':'parks_around3000'}>,\n",
       "        <AxesSubplot:title={'center':'parks_nearest'}>,\n",
       "        <AxesSubplot:title={'center':'ponds_around3000'}>,\n",
       "        <AxesSubplot:title={'center':'ponds_nearest'}>],\n",
       "       [<AxesSubplot:title={'center':'days_exposition'}>, <AxesSubplot:>,\n",
       "        <AxesSubplot:>, <AxesSubplot:>]], dtype=object)"
      ]
     },
     "execution_count": 1,
     "metadata": {},
     "output_type": "execute_result"
    },
    {
     "data": {
      "image/png": "[encoded data removed]",
      "text/plain": [
       "<Figure size 2160x2160 with 20 Axes>"
      ]
     },
     "metadata": {
      "needs_background": "light"
     },
     "output_type": "display_data"
    }
   ],
   "source": [
    "import pandas as pd\n",
    "import seaborn as sns\n",
    "import matplotlib.pyplot as plt\n",
    "data = pd.read_csv('/datasets/real_estate_data.csv', sep = '\\t')\n",
    "print(data.head())\n",
    "data.info()\n",
    "data.hist(figsize=(30, 30))\n"
   ]
  },
  {
   "cell_type": "code",
   "execution_count": 2,
   "metadata": {},
   "outputs": [
    {
     "data": {
      "text/plain": [
       "array(['Санкт-Петербург', 'посёлок Шушары', 'городской посёлок Янино-1',\n",
       "       'посёлок Парголово', 'посёлок Мурино', 'Ломоносов', 'Сертолово',\n",
       "       'Петергоф', 'Пушкин', 'деревня Кудрово', 'Коммунар', 'Колпино',\n",
       "       'поселок городского типа Красный Бор', 'Гатчина', 'поселок Мурино',\n",
       "       'деревня Фёдоровское', 'Выборг', 'Кронштадт', 'Кировск',\n",
       "       'деревня Новое Девяткино', 'посёлок Металлострой',\n",
       "       'посёлок городского типа Лебяжье',\n",
       "       'посёлок городского типа Сиверский', 'поселок Молодцово',\n",
       "       'поселок городского типа Кузьмоловский',\n",
       "       'садовое товарищество Новая Ропша', 'Павловск',\n",
       "       'деревня Пикколово', 'Всеволожск', 'Волхов', 'Кингисепп',\n",
       "       'Приозерск', 'Сестрорецк', 'деревня Куттузи', 'посёлок Аннино',\n",
       "       'поселок городского типа Ефимовский', 'посёлок Плодовое',\n",
       "       'деревня Заклинье', 'поселок Торковичи', 'поселок Первомайское',\n",
       "       'Красное Село', 'посёлок Понтонный', 'Сясьстрой', 'деревня Старая',\n",
       "       'деревня Лесколово', 'посёлок Новый Свет', 'Сланцы',\n",
       "       'село Путилово', 'Ивангород', 'Мурино', 'Шлиссельбург',\n",
       "       'Никольское', 'Зеленогорск', 'Сосновый Бор', 'поселок Новый Свет',\n",
       "       'деревня Оржицы', 'деревня Кальтино', 'Кудрово',\n",
       "       'поселок Романовка', 'посёлок Бугры', 'поселок Бугры',\n",
       "       'поселок городского типа Рощино', 'Кириши', 'Луга', 'Волосово',\n",
       "       'Отрадное', 'село Павлово', 'поселок Оредеж', 'село Копорье',\n",
       "       'посёлок городского типа Красный Бор', 'посёлок Молодёжное',\n",
       "       'Тихвин', 'посёлок Победа', 'деревня Нурма',\n",
       "       'поселок городского типа Синявино', 'Тосно',\n",
       "       'посёлок городского типа Кузьмоловский', 'посёлок Стрельна',\n",
       "       'Бокситогорск', 'посёлок Александровская', 'деревня Лопухинка',\n",
       "       'Пикалёво', 'поселок Терволово',\n",
       "       'поселок городского типа Советский', 'Подпорожье',\n",
       "       'посёлок Петровское', 'посёлок городского типа Токсово',\n",
       "       'поселок Сельцо', 'посёлок городского типа Вырица',\n",
       "       'деревня Кипень', 'деревня Келози', 'деревня Вартемяги',\n",
       "       'посёлок Тельмана', 'поселок Севастьяново',\n",
       "       'городской поселок Большая Ижора', nan,\n",
       "       'городской посёлок Павлово', 'деревня Агалатово',\n",
       "       'посёлок Новогорелово', 'городской посёлок Лесогорский',\n",
       "       'деревня Лаголово', 'поселок Цвелодубово',\n",
       "       'поселок городского типа Рахья', 'поселок городского типа Вырица',\n",
       "       'деревня Белогорка', 'поселок Заводской',\n",
       "       'городской посёлок Новоселье', 'деревня Большие Колпаны',\n",
       "       'деревня Горбунки', 'деревня Батово', 'деревня Заневка',\n",
       "       'деревня Иссад', 'Приморск', 'городской посёлок Фёдоровское',\n",
       "       'деревня Мистолово', 'Новая Ладога', 'поселок Зимитицы',\n",
       "       'поселок Барышево', 'деревня Разметелево',\n",
       "       'поселок городского типа имени Свердлова', 'деревня Пеники',\n",
       "       'поселок Рябово', 'деревня Пудомяги', 'поселок станции Корнево',\n",
       "       'деревня Низино', 'деревня Бегуницы', 'посёлок Поляны',\n",
       "       'городской посёлок Мга', 'поселок Елизаветино',\n",
       "       'посёлок городского типа Кузнечное', 'деревня Колтуши',\n",
       "       'поселок Запорожское', 'посёлок городского типа Рощино',\n",
       "       'деревня Гостилицы', 'деревня Малое Карлино',\n",
       "       'посёлок Мичуринское', 'посёлок городского типа имени Морозова',\n",
       "       'посёлок Песочный', 'посёлок Сосново', 'деревня Аро',\n",
       "       'поселок Ильичёво', 'посёлок городского типа Тайцы',\n",
       "       'деревня Малое Верево', 'деревня Извара', 'поселок станции Вещево',\n",
       "       'село Паша', 'деревня Калитино',\n",
       "       'посёлок городского типа Ульяновка', 'деревня Чудской Бор',\n",
       "       'поселок городского типа Дубровка', 'деревня Мины',\n",
       "       'поселок Войсковицы', 'посёлок городского типа имени Свердлова',\n",
       "       'деревня Коркино', 'посёлок Ропша',\n",
       "       'поселок городского типа Приладожский', 'посёлок Щеглово',\n",
       "       'посёлок Гаврилово', 'Лодейное Поле', 'деревня Рабитицы',\n",
       "       'поселок городского типа Никольский', 'деревня Кузьмолово',\n",
       "       'деревня Малые Колпаны', 'поселок Тельмана',\n",
       "       'посёлок Петро-Славянка', 'городской посёлок Назия',\n",
       "       'посёлок Репино', 'посёлок Ильичёво', 'поселок Углово',\n",
       "       'поселок Старая Малукса', 'садовое товарищество Рахья',\n",
       "       'поселок Аннино', 'поселок Победа', 'деревня Меньково',\n",
       "       'деревня Старые Бегуницы', 'посёлок Сапёрный', 'поселок Семрино',\n",
       "       'поселок Гаврилово', 'поселок Глажево', 'поселок Кобринское',\n",
       "       'деревня Гарболово', 'деревня Юкки',\n",
       "       'поселок станции Приветнинское', 'деревня Мануйлово',\n",
       "       'деревня Пчева', 'поселок Поляны', 'поселок Цвылёво',\n",
       "       'поселок Мельниково', 'посёлок Пудость', 'посёлок Усть-Луга',\n",
       "       'Светогорск', 'Любань', 'поселок Селезнёво',\n",
       "       'поселок городского типа Рябово', 'Каменногорск', 'деревня Кривко',\n",
       "       'поселок Глебычево', 'деревня Парицы', 'поселок Жилпосёлок',\n",
       "       'посёлок городского типа Мга', 'городской поселок Янино-1',\n",
       "       'посёлок Войскорово', 'село Никольское', 'посёлок Терволово',\n",
       "       'поселок Стеклянный', 'посёлок городского типа Важины',\n",
       "       'посёлок Мыза-Ивановка', 'село Русско-Высоцкое',\n",
       "       'поселок городского типа Лебяжье',\n",
       "       'поселок городского типа Форносово', 'село Старая Ладога',\n",
       "       'поселок Житково', 'городской посёлок Виллози', 'деревня Лампово',\n",
       "       'деревня Шпаньково', 'деревня Лаврики', 'посёлок Сумино',\n",
       "       'посёлок Возрождение', 'деревня Старосиверская',\n",
       "       'посёлок Кикерино', 'поселок Возрождение',\n",
       "       'деревня Старое Хинколово', 'посёлок Пригородный',\n",
       "       'посёлок Торфяное', 'городской посёлок Будогощь',\n",
       "       'поселок Суходолье', 'поселок Красная Долина', 'деревня Хапо-Ое',\n",
       "       'поселок городского типа Дружная Горка', 'поселок Лисий Нос',\n",
       "       'деревня Яльгелево', 'посёлок Стеклянный', 'село Рождествено',\n",
       "       'деревня Старополье', 'посёлок Левашово', 'деревня Сяськелево',\n",
       "       'деревня Камышовка',\n",
       "       'садоводческое некоммерческое товарищество Лесная Поляна',\n",
       "       'деревня Хязельки', 'поселок Жилгородок',\n",
       "       'посёлок городского типа Павлово', 'деревня Ялгино',\n",
       "       'поселок Новый Учхоз', 'городской посёлок Рощино',\n",
       "       'поселок Гончарово', 'поселок Почап', 'посёлок Сапёрное',\n",
       "       'посёлок Платформа 69-й километр', 'поселок Каложицы',\n",
       "       'деревня Фалилеево', 'деревня Пельгора',\n",
       "       'поселок городского типа Лесогорский', 'деревня Торошковичи',\n",
       "       'посёлок Белоостров', 'посёлок Алексеевка', 'поселок Серебрянский',\n",
       "       'поселок Лукаши', 'поселок Петровское', 'деревня Щеглово',\n",
       "       'поселок Мичуринское', 'деревня Тарасово', 'поселок Кингисеппский',\n",
       "       'посёлок при железнодорожной станции Вещево', 'поселок Ушаки',\n",
       "       'деревня Котлы', 'деревня Сижно', 'деревня Торосово',\n",
       "       'посёлок Форт Красная Горка', 'поселок городского типа Токсово',\n",
       "       'деревня Новолисино', 'посёлок станции Громово', 'деревня Глинка',\n",
       "       'посёлок Мельниково', 'поселок городского типа Назия',\n",
       "       'деревня Старая Пустошь', 'поселок Коммунары', 'поселок Починок',\n",
       "       'посёлок городского типа Вознесенье', 'деревня Разбегаево',\n",
       "       'посёлок городского типа Рябово', 'поселок Гладкое',\n",
       "       'посёлок при железнодорожной станции Приветнинское',\n",
       "       'поселок Тёсово-4', 'посёлок Жилгородок', 'деревня Бор',\n",
       "       'посёлок Коробицыно', 'деревня Большая Вруда', 'деревня Курковицы',\n",
       "       'посёлок Лисий Нос', 'городской посёлок Советский',\n",
       "       'посёлок Кобралово', 'деревня Суоранда', 'поселок Кобралово',\n",
       "       'поселок городского типа Кондратьево',\n",
       "       'коттеджный поселок Счастье', 'поселок Любань', 'деревня Реброво',\n",
       "       'деревня Зимитицы', 'деревня Тойворово', 'поселок Семиозерье',\n",
       "       'поселок Лесное', 'поселок Совхозный', 'поселок Усть-Луга',\n",
       "       'посёлок Ленинское', 'посёлок Суйда',\n",
       "       'посёлок городского типа Форносово', 'деревня Нижние Осельки',\n",
       "       'посёлок станции Свирь', 'поселок Перово', 'Высоцк',\n",
       "       'поселок Гарболово', 'село Шум', 'поселок Котельский',\n",
       "       'поселок станции Лужайка', 'деревня Большая Пустомержа',\n",
       "       'поселок Красносельское', 'деревня Вахнова Кара', 'деревня Пижма',\n",
       "       'коттеджный поселок Кивеннапа Север', 'поселок Коробицыно',\n",
       "       'поселок Ромашки', 'посёлок Перово', 'деревня Каськово',\n",
       "       'деревня Куровицы', 'посёлок Плоское', 'поселок Сумино',\n",
       "       'поселок городского типа Большая Ижора', 'поселок Кирпичное',\n",
       "       'деревня Ям-Тесово', 'деревня Раздолье', 'деревня Терпилицы',\n",
       "       'посёлок Шугозеро', 'деревня Ваганово', 'поселок Пушное',\n",
       "       'садовое товарищество Садко', 'посёлок Усть-Ижора',\n",
       "       'деревня Выскатка', 'городской посёлок Свирьстрой',\n",
       "       'поселок Громово', 'деревня Кисельня', 'посёлок Старая Малукса',\n",
       "       'деревня Трубников Бор', 'поселок Калитино',\n",
       "       'посёлок Высокоключевой', 'садовое товарищество Приладожский',\n",
       "       'посёлок Пансионат Зелёный Бор', 'деревня Ненимяки',\n",
       "       'поселок Пансионат Зелёный Бор', 'деревня Снегирёвка',\n",
       "       'деревня Рапполово', 'деревня Пустынка', 'поселок Рабитицы',\n",
       "       'деревня Большой Сабск', 'деревня Русско', 'деревня Лупполово',\n",
       "       'деревня Большое Рейзино', 'деревня Малая Романовка',\n",
       "       'поселок Дружноселье', 'поселок Пчевжа', 'поселок Володарское',\n",
       "       'деревня Нижняя', 'коттеджный посёлок Лесное', 'деревня Тихковицы',\n",
       "       'деревня Борисова Грива', 'посёлок Дзержинского'], dtype=object)"
      ]
     },
     "execution_count": 2,
     "metadata": {},
     "output_type": "execute_result"
    }
   ],
   "source": [
    "data['locality_name'].unique()"
   ]
  },
  {
   "cell_type": "markdown",
   "metadata": {},
   "source": [
    "Выводы: в столбце is_apartment должен быть тип bool, в столбцах floors_total, balcony, parks_around3000, ponds_around3000 , days_exposition тип значения должен быть int , и в столбце first_day_exposition - должен быть тип datetime\n",
    "Судя по гистограммам больше всего двух и трёх комнатных квартир. Большинство квартир имеют один балкон, но есть квартиры с 4 и 5 балконами. Большая часть квартир имеет жилую площадь менее 50 м^2."
   ]
  },
  {
   "cell_type": "markdown",
   "metadata": {},
   "source": [
    "### Предобработка данных"
   ]
  },
  {
   "cell_type": "code",
   "execution_count": 3,
   "metadata": {},
   "outputs": [
    {
     "name": "stdout",
     "output_type": "stream",
     "text": [
      "1.0    4195\n",
      "0.0    3758\n",
      "2.0    3659\n",
      "5.0     304\n",
      "4.0     183\n",
      "3.0      81\n",
      "Name: balcony, dtype: int64\n"
     ]
    }
   ],
   "source": [
    "print(data['balcony'].value_counts())\n",
    "# изменим тип данных и заменим пропуски\n",
    "data['balcony'] = data['balcony'].fillna(0).astype('int')"
   ]
  },
  {
   "cell_type": "code",
   "execution_count": 4,
   "metadata": {},
   "outputs": [
    {
     "name": "stdout",
     "output_type": "stream",
     "text": [
      "2.50     3515\n",
      "2.60     1646\n",
      "2.70     1574\n",
      "3.00     1112\n",
      "2.80      993\n",
      "         ... \n",
      "4.25        1\n",
      "3.39        1\n",
      "3.93        1\n",
      "10.30       1\n",
      "4.65        1\n",
      "Name: ceiling_height, Length: 183, dtype: int64\n"
     ]
    },
    {
     "data": {
      "text/plain": [
       "22869    100.0\n",
       "22336     32.0\n",
       "3148      32.0\n",
       "21377     27.5\n",
       "20478     27.0\n",
       "         ...  \n",
       "23687      NaN\n",
       "23690      NaN\n",
       "23692      NaN\n",
       "23695      NaN\n",
       "23696      NaN\n",
       "Name: ceiling_height, Length: 23699, dtype: float64"
      ]
     },
     "execution_count": 4,
     "metadata": {},
     "output_type": "execute_result"
    }
   ],
   "source": [
    "print(data['ceiling_height'].value_counts())\n",
    "# в столбце ceiling_height есть слишком большие значения\n",
    "data['ceiling_height'].sort_values(ascending=False)\n",
    "#вероятно, здесь произошла опечатка. Потолок не 32 м, а 3,2 м ; не 100 м, а 10 м.\n"
   ]
  },
  {
   "cell_type": "code",
   "execution_count": 5,
   "metadata": {},
   "outputs": [],
   "source": [
    "#в столбце is_apartment пропуски заменим на False\n",
    "data['is_apartment'] = data['is_apartment'].fillna(False)"
   ]
  },
  {
   "cell_type": "code",
   "execution_count": 6,
   "metadata": {},
   "outputs": [],
   "source": [
    "#изменим last_price на тип int\n",
    "data['last_price'] = data['last_price'].astype('int')"
   ]
  },
  {
   "cell_type": "code",
   "execution_count": 7,
   "metadata": {},
   "outputs": [],
   "source": [
    "#изменим тип данных в столбце first_day_exposition в формат без времени, так как время не указано\n",
    "data['first_day_exposition'] = pd.to_datetime(data['first_day_exposition'], format = '%Y-%m-%d')\n",
    "#пропуски в столбцах картографических данных заменять не будем, так как понять их появление сложно"
   ]
  },
  {
   "cell_type": "code",
   "execution_count": 8,
   "metadata": {},
   "outputs": [
    {
     "name": "stdout",
     "output_type": "stream",
     "text": [
      "0.5734446218294131\n",
      "0.17398892610297417\n"
     ]
    }
   ],
   "source": [
    "#рассмотрим столбцы living_area и kitchen_area , для заполнения пропусков найдём коэффициент соотношения площадей\n",
    "mis = data[data['living_area'].isnull() == False]['total_area'].mean()\n",
    "not_mis = data.loc[data['living_area'] != 'NaN', 'living_area'].mean()\n",
    "koef_liv = not_mis/mis\n",
    "print(koef_liv)\n",
    "koef_kit = data.loc[data['kitchen_area'] != 'NaN', 'kitchen_area'].mean() / data[data['kitchen_area'].isnull() == False]['total_area'].mean()\n",
    "print(koef_kit)\n",
    "data['living_area'] = data['living_area'].fillna(data['total_area'] * koef_liv)\n",
    "data['kitchen_area'] = data['kitchen_area'].fillna(data['total_area'] * koef_kit)\n"
   ]
  },
  {
   "cell_type": "code",
   "execution_count": 9,
   "metadata": {},
   "outputs": [
    {
     "name": "stdout",
     "output_type": "stream",
     "text": [
      "365\n",
      "306\n"
     ]
    }
   ],
   "source": [
    "data.duplicated().sum() # cтрок - дубликатов нет\n",
    "#устранение неявных дубликатов\n",
    "#изучим стобец locality_name\n",
    "data['locality_name'].value_counts()\n",
    "print(len(data['locality_name'].unique()))\n",
    "# видим, что есть неявные дубликаты: посёлок Мурино, Мурино и поселок Мурино, то же самое видим и в других названиях\n",
    "# устраним их, удалив названия населённых пунктов\n",
    "names = ['городской посёлок ', 'городской поселок ','поселок городского типа ','посёлок городского типа ','коттеджный поселок ','коттеджный посёлок ','садовое товарищество ','садоводческое некоммерческое товарищество ','посёлок при железнодорожной станции ','посёлок станции ','поселок при железнодорожной станции ','поселок станции ','посёлок ','поселок ','деревня ','село ']\n",
    "for i in names:\n",
    "    data['locality_name'] = data['locality_name'].str.replace(i, '')\n",
    "print(len(data['locality_name'].unique()))\n",
    "#количество уникальных значений снизилось с 365 до 306"
   ]
  },
  {
   "cell_type": "code",
   "execution_count": 10,
   "metadata": {},
   "outputs": [
    {
     "data": {
      "text/plain": [
       "array(['Санкт-Петербург', 'Шушары', 'Янино-1', 'Парголово', 'Мурино',\n",
       "       'Ломоносов', 'Сертолово', 'Петергоф', 'Пушкин', 'Кудрово',\n",
       "       'Коммунар', 'Колпино', 'Красный Бор', 'Гатчина', 'Фёдоровское',\n",
       "       'Выборг', 'Кронштадт', 'Кировск', 'Новое Девяткино',\n",
       "       'Металлострой', 'Лебяжье', 'Сиверский', 'Молодцово',\n",
       "       'Кузьмоловский', 'Новая Ропша', 'Павловск', 'Пикколово',\n",
       "       'Всеволожск', 'Волхов', 'Кингисепп', 'Приозерск', 'Сестрорецк',\n",
       "       'Куттузи', 'Аннино', 'Ефимовский', 'Плодовое', 'Заклинье',\n",
       "       'Торковичи', 'Первомайское', 'Красное Село', 'Понтонный',\n",
       "       'Сясьстрой', 'Старая', 'Лесколово', 'Новый Свет', 'Сланцы',\n",
       "       'Путилово', 'Ивангород', 'Шлиссельбург', 'Никольское',\n",
       "       'Зеленогорск', 'Сосновый Бор', 'Оржицы', 'Кальтино', 'Романовка',\n",
       "       'Бугры', 'Рощино', 'Кириши', 'Луга', 'Волосово', 'Отрадное',\n",
       "       'Павлово', 'Оредеж', 'Копорье', 'Молодёжное', 'Тихвин', 'Победа',\n",
       "       'Нурма', 'Синявино', 'Тосно', 'Стрельна', 'Бокситогорск',\n",
       "       'Александровская', 'Лопухинка', 'Пикалёво', 'Терволово',\n",
       "       'Советский', 'Подпорожье', 'Петровское', 'Токсово', 'Сельцо',\n",
       "       'Вырица', 'Кипень', 'Келози', 'Вартемяги', 'Тельмана',\n",
       "       'Севастьяново', 'Большая Ижора', nan, 'Агалатово', 'Новогорелово',\n",
       "       'Лесогорский', 'Лаголово', 'Цвелодубово', 'Рахья', 'Белогорка',\n",
       "       'Заводской', 'Новоселье', 'Большие Колпаны', 'Горбунки', 'Батово',\n",
       "       'Заневка', 'Иссад', 'Приморск', 'Мистолово', 'Новая Ладога',\n",
       "       'Зимитицы', 'Барышево', 'Разметелево', 'имени Свердлова', 'Пеники',\n",
       "       'Рябово', 'Пудомяги', 'Корнево', 'Низино', 'Бегуницы', 'Поляны',\n",
       "       'Мга', 'Елизаветино', 'Кузнечное', 'Колтуши', 'Запорожское',\n",
       "       'Гостилицы', 'Малое Карлино', 'Мичуринское', 'имени Морозова',\n",
       "       'Песочный', 'Сосново', 'Аро', 'Ильичёво', 'Тайцы', 'Малое Верево',\n",
       "       'Извара', 'Вещево', 'Паша', 'Калитино', 'Ульяновка', 'Чудской Бор',\n",
       "       'Дубровка', 'Мины', 'Войсковицы', 'Коркино', 'Ропша',\n",
       "       'Приладожский', 'Щеглово', 'Гаврилово', 'Лодейное Поле',\n",
       "       'Рабитицы', 'Никольский', 'Кузьмолово', 'Малые Колпаны',\n",
       "       'Петро-Славянка', 'Назия', 'Репино', 'Углово', 'Старая Малукса',\n",
       "       'Меньково', 'Старые Бегуницы', 'Сапёрный', 'Семрино', 'Глажево',\n",
       "       'Кобринское', 'Гарболово', 'Юкки', 'Приветнинское', 'Мануйлово',\n",
       "       'Пчева', 'Цвылёво', 'Мельниково', 'Пудость', 'Усть-Луга',\n",
       "       'Светогорск', 'Любань', 'Селезнёво', 'Каменногорск', 'Кривко',\n",
       "       'Глебычево', 'Парицы', 'Жилпосёлок', 'Войскорово', 'Стеклянный',\n",
       "       'Важины', 'Мыза-Ивановка', 'Русско-Высоцкое', 'Форносово',\n",
       "       'Старая Ладога', 'Житково', 'Виллози', 'Лампово', 'Шпаньково',\n",
       "       'Лаврики', 'Сумино', 'Возрождение', 'Старосиверская', 'Кикерино',\n",
       "       'Старое Хинколово', 'Пригородный', 'Торфяное', 'Будогощь',\n",
       "       'Суходолье', 'Красная Долина', 'Хапо-Ое', 'Дружная Горка',\n",
       "       'Лисий Нос', 'Яльгелево', 'Рождествено', 'Старополье', 'Левашово',\n",
       "       'Сяськелево', 'Камышовка', 'Лесная Поляна', 'Хязельки',\n",
       "       'Жилгородок', 'Ялгино', 'Новый Учхоз', 'Гончарово', 'Почап',\n",
       "       'Сапёрное', 'Платформа 69-й километр', 'Каложицы', 'Фалилеево',\n",
       "       'Пельгора', 'Торошковичи', 'Белоостров', 'Алексеевка',\n",
       "       'Серебрянский', 'Лукаши', 'Тарасово', 'Кингисеппский', 'Ушаки',\n",
       "       'Котлы', 'Сижно', 'Торосово', 'Форт Красная Горка', 'Новолисино',\n",
       "       'Громово', 'Глинка', 'Старая Пустошь', 'Коммунары', 'Починок',\n",
       "       'Вознесенье', 'Разбегаево', 'Гладкое', 'Тёсово-4', 'Бор',\n",
       "       'Коробицыно', 'Большая Вруда', 'Курковицы', 'Кобралово',\n",
       "       'Суоранда', 'Кондратьево', 'Счастье', 'Реброво', 'Тойворово',\n",
       "       'Семиозерье', 'Лесное', 'Совхозный', 'Ленинское', 'Суйда',\n",
       "       'Нижние Осельки', 'Свирь', 'Перово', 'Высоцк', 'Шум', 'Котельский',\n",
       "       'Лужайка', 'Большая Пустомержа', 'Красносельское', 'Вахнова Кара',\n",
       "       'Пижма', 'Кивеннапа Север', 'Ромашки', 'Каськово', 'Куровицы',\n",
       "       'Плоское', 'Кирпичное', 'Ям-Тесово', 'Раздолье', 'Терпилицы',\n",
       "       'Шугозеро', 'Ваганово', 'Пушное', 'Садко', 'Усть-Ижора',\n",
       "       'Выскатка', 'Свирьстрой', 'Кисельня', 'Трубников Бор',\n",
       "       'Высокоключевой', 'Пансионат Зелёный Бор', 'Ненимяки',\n",
       "       'Снегирёвка', 'Рапполово', 'Пустынка', 'Большой Сабск', 'Русско',\n",
       "       'Лупполово', 'Большое Рейзино', 'Малая Романовка', 'Дружноселье',\n",
       "       'Пчевжа', 'Володарское', 'Нижняя', 'Тихковицы', 'Борисова Грива',\n",
       "       'Дзержинского'], dtype=object)"
      ]
     },
     "execution_count": 10,
     "metadata": {},
     "output_type": "execute_result"
    }
   ],
   "source": [
    "data['locality_name'].unique()"
   ]
  },
  {
   "cell_type": "code",
   "execution_count": 11,
   "metadata": {},
   "outputs": [
    {
     "name": "stdout",
     "output_type": "stream",
     "text": [
      "22590      1.00\n",
      "5712       1.20\n",
      "16934      1.75\n",
      "20520      2.00\n",
      "552        2.00\n",
      "          ...  \n",
      "20478     27.00\n",
      "21377     27.50\n",
      "3148      32.00\n",
      "22336     32.00\n",
      "22869    100.00\n",
      "Name: ceiling_height, Length: 23699, dtype: float64\n",
      "5918      2.4\n",
      "19329     2.4\n",
      "5712      2.4\n",
      "227       2.4\n",
      "13462     2.4\n",
      "         ... \n",
      "15743     8.0\n",
      "17442     8.0\n",
      "3474      8.0\n",
      "5863      8.3\n",
      "22869    10.0\n",
      "Name: ceiling_height, Length: 23699, dtype: float64\n"
     ]
    }
   ],
   "source": [
    "#устраним редкие и выбивающиеся значения\n",
    "#в столбце ceiling_height заменим пустые значения высоты потолков на медианное значение\n",
    "data['ceiling_height'].fillna(data['ceiling_height'].median(), inplace=True)\n",
    "print(data['ceiling_height'].sort_values())\n",
    "ceiling_median = data['ceiling_height'].median()\n",
    "# по санпину минимальная высота потолка 2,4 м , заменим те значения,которые меньше на 2,4 м\n",
    "# разделим значения, которые больше 24 м на 10\n",
    "# заменим значения, которые больше 10 м на медиану\n",
    "def ceil(row):\n",
    "    ceiling_height = row['ceiling_height'] \n",
    "    if ceiling_height >= 25:\n",
    "        return ceiling_height/10\n",
    "    elif ceiling_height < 2.4 :\n",
    "        return 2.4\n",
    "    elif 10<ceiling_height<=24:\n",
    "        return ceiling_median\n",
    "    else:\n",
    "        return ceiling_height\n",
    "data['ceiling_height'] = data.apply(ceil, axis = 1)\n",
    "print(data['ceiling_height'].sort_values())\n"
   ]
  },
  {
   "cell_type": "code",
   "execution_count": 12,
   "metadata": {},
   "outputs": [
    {
     "name": "stdout",
     "output_type": "stream",
     "text": [
      "19540    900.0\n",
      "12859    631.2\n",
      "3117     631.0\n",
      "15651    618.0\n",
      "5358     590.0\n",
      "         ...  \n",
      "19558     13.2\n",
      "19807     13.0\n",
      "19546     13.0\n",
      "17961     13.0\n",
      "19904     12.0\n",
      "Name: total_area, Length: 23699, dtype: float64\n",
      "19540    409.700000\n",
      "5358     409.000000\n",
      "3117     361.843556\n",
      "12401    347.500000\n",
      "4237     332.000000\n",
      "            ...    \n",
      "17582      5.000000\n",
      "23574      3.000000\n",
      "3242       3.000000\n",
      "13915      2.000000\n",
      "21758      2.000000\n",
      "Name: living_area, Length: 23699, dtype: float64\n"
     ]
    }
   ],
   "source": [
    "# рассмотрим столбец total_area\n",
    "print(data['total_area'].sort_values(ascending=False))\n",
    "print(data['living_area'].sort_values(ascending=False))\n",
    "# есть странные значения квартир с большой площадью, но их трогать не будем, так как в сравнении с жилой площадью выглядит логично"
   ]
  },
  {
   "cell_type": "markdown",
   "metadata": {},
   "source": [
    "### Посчитайте и добавьте в таблицу новые столбцы"
   ]
  },
  {
   "cell_type": "code",
   "execution_count": 13,
   "metadata": {},
   "outputs": [],
   "source": [
    "#цена одного квадратного метра\n",
    "data['price_one_metr'] = data['last_price'] / data['total_area']"
   ]
  },
  {
   "cell_type": "code",
   "execution_count": 14,
   "metadata": {},
   "outputs": [],
   "source": [
    "#день недели публикации объявления\n",
    "data['weekday_exposition'] = data['first_day_exposition'].dt.weekday\n",
    "\n",
    "#месяц публикации объявления\n",
    "data['month_exposition'] = data['first_day_exposition'].dt.month\n",
    "\n",
    "#год публикации объявления\n",
    "data['year_exposition'] = data['first_day_exposition'].dt.year\n"
   ]
  },
  {
   "cell_type": "code",
   "execution_count": 15,
   "metadata": {},
   "outputs": [],
   "source": [
    "#тип этажа квартиры\n",
    "# создадим функцию\n",
    "def type_floor(row):\n",
    "    floors_total = row['floors_total']\n",
    "    floor = row['floor']\n",
    "    if floor == 1:\n",
    "        return 'первый'\n",
    "    elif floor == floors_total:\n",
    "        return 'последний'\n",
    "    elif 1 < floor < floors_total:\n",
    "        return 'другой'\n",
    "data['type_floor'] = data.apply(type_floor, axis = 1)\n"
   ]
  },
  {
   "cell_type": "code",
   "execution_count": 16,
   "metadata": {},
   "outputs": [],
   "source": [
    "#расстояние до центра города в километрах\n",
    "data['centr_km'] = data['cityCenters_nearest'] / 1000\n",
    "data['centr_km'] = data['centr_km'].fillna(value=0).astype(int)"
   ]
  },
  {
   "cell_type": "markdown",
   "metadata": {},
   "source": [
    "### Проведите исследовательский анализ данных"
   ]
  },
  {
   "cell_type": "markdown",
   "metadata": {},
   "source": [
    "ШАГ 1"
   ]
  },
  {
   "cell_type": "code",
   "execution_count": 17,
   "metadata": {
    "scrolled": false
   },
   "outputs": [
    {
     "data": {
      "text/plain": [
       "count    23699.000000\n",
       "mean        60.348651\n",
       "std         35.654083\n",
       "min         12.000000\n",
       "25%         40.000000\n",
       "50%         52.000000\n",
       "75%         69.900000\n",
       "max        900.000000\n",
       "Name: total_area, dtype: float64"
      ]
     },
     "execution_count": 17,
     "metadata": {},
     "output_type": "execute_result"
    },
    {
     "data": {
      "image/png": "[encoded data removed]",
      "text/plain": [
       "<Figure size 576x360 with 1 Axes>"
      ]
     },
     "metadata": {
      "needs_background": "light"
     },
     "output_type": "display_data"
    }
   ],
   "source": [
    "#изучим общую площадь\n",
    "data.plot(y = 'total_area', kind = 'hist', bins = 100, grid=True, figsize = (8,5), range = (0,500))\n",
    "data['total_area'].describe()\n",
    "#распределение данных нормальное, есть выбросы но они не сильно влияют на данные"
   ]
  },
  {
   "cell_type": "markdown",
   "metadata": {},
   "source": [
    "Общая площадь в нашей выборке колеблется от 12 до 900 м2, среднее значение 60, а медиана 52 м2. Распределение данных Гаусса.\n",
    "Большинство квартир менее 100 квадратных метров. В подборке есть несколько очень больших и странных вариантов с площадью более 200 квадратных метров."
   ]
  },
  {
   "cell_type": "code",
   "execution_count": 18,
   "metadata": {},
   "outputs": [
    {
     "data": {
      "text/plain": [
       "count    2.369900e+04\n",
       "mean     6.541549e+06\n",
       "std      1.088701e+07\n",
       "min      1.219000e+04\n",
       "25%      3.400000e+06\n",
       "50%      4.650000e+06\n",
       "75%      6.800000e+06\n",
       "max      7.630000e+08\n",
       "Name: last_price, dtype: float64"
      ]
     },
     "execution_count": 18,
     "metadata": {},
     "output_type": "execute_result"
    },
    {
     "data": {
      "image/png": "[encoded data removed]",
      "text/plain": [
       "<Figure size 432x288 with 1 Axes>"
      ]
     },
     "metadata": {
      "needs_background": "light"
     },
     "output_type": "display_data"
    }
   ],
   "source": [
    "#изучим цену\n",
    "plt.hist(data['last_price'], bins=30, range=(0,20000000))\n",
    "data['last_price'].describe()\n",
    "#распределение данных нормальное, но значения выводятся в экспоненциальной записи чисел\n"
   ]
  },
  {
   "cell_type": "markdown",
   "metadata": {},
   "source": [
    "Цены на недвижимость имеют среднее значение в 6,5 млн руб., медиана 4,6 млн руб. Распределение данных Гаусса."
   ]
  },
  {
   "cell_type": "code",
   "execution_count": 19,
   "metadata": {},
   "outputs": [
    {
     "data": {
      "text/plain": [
       "count    23699.000000\n",
       "mean         2.070636\n",
       "std          1.078405\n",
       "min          0.000000\n",
       "25%          1.000000\n",
       "50%          2.000000\n",
       "75%          3.000000\n",
       "max         19.000000\n",
       "Name: rooms, dtype: float64"
      ]
     },
     "execution_count": 19,
     "metadata": {},
     "output_type": "execute_result"
    },
    {
     "data": {
      "image/png": "[encoded data removed]",
      "text/plain": [
       "<Figure size 576x360 with 1 Axes>"
      ]
     },
     "metadata": {
      "needs_background": "light"
     },
     "output_type": "display_data"
    }
   ],
   "source": [
    "#изучим количество комнат\n",
    "data.plot(y = 'rooms', kind = 'hist', bins = 30, grid=True, figsize = (8,5))\n",
    "data['rooms'].describe()\n",
    "#с данными все впорядке"
   ]
  },
  {
   "cell_type": "markdown",
   "metadata": {},
   "source": [
    "Количество комнат колеблется от 1 до 19. Больше всего однокомнатных квартир."
   ]
  },
  {
   "cell_type": "code",
   "execution_count": 20,
   "metadata": {},
   "outputs": [
    {
     "data": {
      "text/plain": [
       "count    23699.000000\n",
       "mean         2.698330\n",
       "std          0.236223\n",
       "min          2.400000\n",
       "25%          2.600000\n",
       "50%          2.650000\n",
       "75%          2.700000\n",
       "max         10.000000\n",
       "Name: ceiling_height, dtype: float64"
      ]
     },
     "execution_count": 20,
     "metadata": {},
     "output_type": "execute_result"
    },
    {
     "data": {
      "image/png": "[encoded data removed]",
      "text/plain": [
       "<Figure size 576x360 with 1 Axes>"
      ]
     },
     "metadata": {
      "needs_background": "light"
     },
     "output_type": "display_data"
    }
   ],
   "source": [
    "#изучим высоту потолков\n",
    "data.plot(y = 'ceiling_height', kind = 'hist', bins = 30, range = (2,6), grid=True, figsize = (8,5))\n",
    "data['ceiling_height'].describe()\n",
    "#с данными все впорядке\n"
   ]
  },
  {
   "cell_type": "markdown",
   "metadata": {},
   "source": [
    "Высота потолков в среднем составляет 2,7 м, медиана 2,65 м. Большинство квартир имеют высоту потолков от 2,5 до 3 метров"
   ]
  },
  {
   "cell_type": "code",
   "execution_count": 21,
   "metadata": {},
   "outputs": [
    {
     "data": {
      "text/plain": [
       "count    23699.000000\n",
       "mean        34.606609\n",
       "std         22.365867\n",
       "min          2.000000\n",
       "25%         19.000000\n",
       "50%         30.000000\n",
       "75%         42.100000\n",
       "max        409.700000\n",
       "Name: living_area, dtype: float64"
      ]
     },
     "execution_count": 21,
     "metadata": {},
     "output_type": "execute_result"
    },
    {
     "data": {
      "image/png": "[encoded data removed]",
      "text/plain": [
       "<Figure size 576x360 with 1 Axes>"
      ]
     },
     "metadata": {
      "needs_background": "light"
     },
     "output_type": "display_data"
    }
   ],
   "source": [
    "#изучим жилую площадь\n",
    "data.plot(y = 'living_area', kind = 'hist', bins = 30, range = (0,200), grid=True, figsize = (8,5))\n",
    "data['living_area'].describe()\n",
    "#распределение данных нормальное, есть выбросы но они не сильно влияют на данные\n"
   ]
  },
  {
   "cell_type": "markdown",
   "metadata": {},
   "source": [
    "Самые распространённые варианты с жилой площадью от 10 до 50 м. После 75 м встречаются единичные случаи. Пики на графике вызваны, возможно, тем, что это жилые площади для 1-комнатной, затем для 2-комнатной квартиры."
   ]
  },
  {
   "cell_type": "code",
   "execution_count": 22,
   "metadata": {},
   "outputs": [
    {
     "data": {
      "text/plain": [
       "count    23699.000000\n",
       "mean        10.499997\n",
       "std          6.035287\n",
       "min          1.300000\n",
       "25%          7.000000\n",
       "50%          9.000000\n",
       "75%         12.000000\n",
       "max        112.000000\n",
       "Name: kitchen_area, dtype: float64"
      ]
     },
     "execution_count": 22,
     "metadata": {},
     "output_type": "execute_result"
    },
    {
     "data": {
      "image/png": "[encoded data removed]",
      "text/plain": [
       "<Figure size 576x360 with 1 Axes>"
      ]
     },
     "metadata": {
      "needs_background": "light"
     },
     "output_type": "display_data"
    }
   ],
   "source": [
    "#изучим площадь кухни\n",
    "data.plot(y = 'kitchen_area', kind = 'hist', bins = 30, range = (0,50), grid=True, figsize = (8,5))\n",
    "data['kitchen_area'].describe()\n",
    "#распределение данных нормальное, есть выбросы но они не сильно влияют на данные"
   ]
  },
  {
   "cell_type": "markdown",
   "metadata": {},
   "source": [
    "Самые распространённые кухни - примерно от 5 до 15 м. Больше 20 м кухни встречаются редко. \n",
    "Больше 30 - единичные случаи."
   ]
  },
  {
   "cell_type": "code",
   "execution_count": 23,
   "metadata": {},
   "outputs": [
    {
     "data": {
      "text/plain": [
       "count    23699.000000\n",
       "mean         5.892358\n",
       "std          4.885249\n",
       "min          1.000000\n",
       "25%          2.000000\n",
       "50%          4.000000\n",
       "75%          8.000000\n",
       "max         33.000000\n",
       "Name: floor, dtype: float64"
      ]
     },
     "execution_count": 23,
     "metadata": {},
     "output_type": "execute_result"
    },
    {
     "data": {
      "image/png": "[encoded data removed]",
      "text/plain": [
       "<Figure size 576x360 with 1 Axes>"
      ]
     },
     "metadata": {
      "needs_background": "light"
     },
     "output_type": "display_data"
    }
   ],
   "source": [
    "#изучим этаж квартиры\n",
    "data.plot(y = 'floor', kind = 'hist', bins = 30, range = (0,38), grid=True, figsize = (8,5))\n",
    "data['floor'].describe()"
   ]
  },
  {
   "cell_type": "markdown",
   "metadata": {},
   "source": [
    "Больше всего квартир находится на 4-5 этажах. Высотки выше 25 этажей встречаются крайне редко"
   ]
  },
  {
   "cell_type": "code",
   "execution_count": 24,
   "metadata": {},
   "outputs": [
    {
     "data": {
      "text/plain": [
       "<AxesSubplot:>"
      ]
     },
     "execution_count": 24,
     "metadata": {},
     "output_type": "execute_result"
    },
    {
     "data": {
      "image/png": "[encoded data removed]",
      "text/plain": [
       "<Figure size 432x288 with 1 Axes>"
      ]
     },
     "metadata": {
      "needs_background": "light"
     },
     "output_type": "display_data"
    }
   ],
   "source": [
    "plt.show()\n",
    "#изучим тип этажа квартиры\n",
    "data['type_floor'].value_counts().sort_index(ascending=True).plot.bar()"
   ]
  },
  {
   "cell_type": "markdown",
   "metadata": {},
   "source": [
    "Больше всего квартир находится ни на первом и ни на последнем этажах. \n",
    "Количество квартир на первом и последнем этажах примерно одинаково"
   ]
  },
  {
   "cell_type": "code",
   "execution_count": 25,
   "metadata": {},
   "outputs": [
    {
     "data": {
      "text/plain": [
       "count    23613.000000\n",
       "mean        10.673824\n",
       "std          6.597173\n",
       "min          1.000000\n",
       "25%          5.000000\n",
       "50%          9.000000\n",
       "75%         16.000000\n",
       "max         60.000000\n",
       "Name: floors_total, dtype: float64"
      ]
     },
     "execution_count": 25,
     "metadata": {},
     "output_type": "execute_result"
    },
    {
     "data": {
      "image/png": "[encoded data removed]",
      "text/plain": [
       "<Figure size 576x360 with 1 Axes>"
      ]
     },
     "metadata": {
      "needs_background": "light"
     },
     "output_type": "display_data"
    }
   ],
   "source": [
    "#изучим общее количество этажей в доме\n",
    "data.plot(y = 'floors_total', kind = 'hist', bins = 30, range = (0,30), grid=True, figsize = (8,5))\n",
    "data['floors_total'].describe()"
   ]
  },
  {
   "cell_type": "markdown",
   "metadata": {},
   "source": [
    "Больше всего 6 этажных домов. Чаще всего встречаются дома в 5, 6, 9, 12, 17 и 25 этажей"
   ]
  },
  {
   "cell_type": "code",
   "execution_count": 26,
   "metadata": {},
   "outputs": [
    {
     "data": {
      "text/plain": [
       "count    18180.000000\n",
       "mean     14191.277833\n",
       "std       8608.386210\n",
       "min        181.000000\n",
       "25%       9238.000000\n",
       "50%      13098.500000\n",
       "75%      16293.000000\n",
       "max      65968.000000\n",
       "Name: cityCenters_nearest, dtype: float64"
      ]
     },
     "execution_count": 26,
     "metadata": {},
     "output_type": "execute_result"
    },
    {
     "data": {
      "image/png": "[encoded data removed]",
      "text/plain": [
       "<Figure size 576x360 with 1 Axes>"
      ]
     },
     "metadata": {
      "needs_background": "light"
     },
     "output_type": "display_data"
    }
   ],
   "source": [
    "#изучим расстояние до центра города в метрах;\n",
    "data.plot(y = 'cityCenters_nearest', kind = 'hist', bins = 30, range = (0,50000), grid=True, figsize = (8,5))\n",
    "data['cityCenters_nearest'].describe()\n"
   ]
  },
  {
   "cell_type": "markdown",
   "metadata": {},
   "source": [
    "распределение данных нормальное. Больше всего квартир находится в диапазоне от 10000 м до 20000 м от центра"
   ]
  },
  {
   "cell_type": "code",
   "execution_count": 27,
   "metadata": {},
   "outputs": [
    {
     "data": {
      "text/plain": [
       "count    18157.000000\n",
       "mean     28793.672193\n",
       "std      12630.880622\n",
       "min          0.000000\n",
       "25%      18585.000000\n",
       "50%      26726.000000\n",
       "75%      37273.000000\n",
       "max      84869.000000\n",
       "Name: airports_nearest, dtype: float64"
      ]
     },
     "execution_count": 27,
     "metadata": {},
     "output_type": "execute_result"
    },
    {
     "data": {
      "image/png": "[encoded data removed]",
      "text/plain": [
       "<Figure size 576x360 with 1 Axes>"
      ]
     },
     "metadata": {
      "needs_background": "light"
     },
     "output_type": "display_data"
    }
   ],
   "source": [
    "#изучим расстояние до ближайшего аэропорта;\n",
    "data.plot(y = 'airports_nearest', kind = 'hist', bins = 30, range = (0,100000), grid=True, figsize = (8,5))\n",
    "data['airports_nearest'].describe()"
   ]
  },
  {
   "cell_type": "markdown",
   "metadata": {},
   "source": [
    "Большинство квартир находится в диапазоне от 10000 м до 40000 м от аэропорта. Так же минимальное значение 0 м, что говорит о выбросах в данных"
   ]
  },
  {
   "cell_type": "code",
   "execution_count": 28,
   "metadata": {},
   "outputs": [
    {
     "data": {
      "text/plain": [
       "count    8079.000000\n",
       "mean      490.804555\n",
       "std       342.317995\n",
       "min         1.000000\n",
       "25%       288.000000\n",
       "50%       455.000000\n",
       "75%       612.000000\n",
       "max      3190.000000\n",
       "Name: parks_nearest, dtype: float64"
      ]
     },
     "execution_count": 28,
     "metadata": {},
     "output_type": "execute_result"
    },
    {
     "data": {
      "image/png": "[encoded data removed]",
      "text/plain": [
       "<Figure size 576x360 with 1 Axes>"
      ]
     },
     "metadata": {
      "needs_background": "light"
     },
     "output_type": "display_data"
    }
   ],
   "source": [
    "#изучим расстояние до ближайшего парка;\n",
    "data.plot(y = 'parks_nearest', kind = 'hist', bins = 30, range = (0,4000), grid=True, figsize = (8,5))\n",
    "data['parks_nearest'].describe()"
   ]
  },
  {
   "cell_type": "markdown",
   "metadata": {},
   "source": [
    "Большинство квартир находится близко к парку: в диапазоне от 200 м до 800 м. Квартиры, которые находятся дальше 2500 м от парка встречаются крайне редко. "
   ]
  },
  {
   "cell_type": "code",
   "execution_count": 29,
   "metadata": {},
   "outputs": [
    {
     "data": {
      "image/png": "[encoded data removed]",
      "text/plain": [
       "<Figure size 432x288 with 1 Axes>"
      ]
     },
     "metadata": {
      "needs_background": "light"
     },
     "output_type": "display_data"
    },
    {
     "data": {
      "text/plain": [
       "<AxesSubplot:>"
      ]
     },
     "execution_count": 29,
     "metadata": {},
     "output_type": "execute_result"
    },
    {
     "data": {
      "image/png": "[encoded data removed]",
      "text/plain": [
       "<Figure size 432x288 with 1 Axes>"
      ]
     },
     "metadata": {
      "needs_background": "light"
     },
     "output_type": "display_data"
    }
   ],
   "source": [
    "#изучим день и месяц публикации объявления.\n",
    "plt.show()\n",
    "data['weekday_exposition'].value_counts().sort_index(ascending=True).plot.bar()\n",
    "plt.show()\n",
    "data['month_exposition'].value_counts().sort_index(ascending=True).plot.bar()"
   ]
  },
  {
   "cell_type": "markdown",
   "metadata": {},
   "source": [
    "Меньше всего объявлений публиковалось в мае, больше всего в феврале\n",
    "\n",
    "В среднем в выходные публиковалось меньше объявлений"
   ]
  },
  {
   "cell_type": "markdown",
   "metadata": {},
   "source": [
    "ШАГ 2"
   ]
  },
  {
   "cell_type": "code",
   "execution_count": 30,
   "metadata": {},
   "outputs": [
    {
     "name": "stdout",
     "output_type": "stream",
     "text": [
      "count    20518.000000\n",
      "mean       180.888634\n",
      "std        219.727988\n",
      "min          1.000000\n",
      "25%         45.000000\n",
      "50%         95.000000\n",
      "75%        232.000000\n",
      "max       1580.000000\n",
      "Name: days_exposition, dtype: float64\n",
      "45.0      880\n",
      "60.0      538\n",
      "7.0       234\n",
      "30.0      208\n",
      "90.0      204\n",
      "         ... \n",
      "969.0       1\n",
      "1.0         1\n",
      "1147.0      1\n",
      "1148.0      1\n",
      "1174.0      1\n",
      "Name: days_exposition, Length: 1141, dtype: int64\n"
     ]
    },
    {
     "data": {
      "image/png": "[encoded data removed]",
      "text/plain": [
       "<Figure size 432x288 with 1 Axes>"
      ]
     },
     "metadata": {
      "needs_background": "light"
     },
     "output_type": "display_data"
    },
    {
     "data": {
      "image/png": "[encoded data removed]",
      "text/plain": [
       "<Figure size 432x288 with 1 Axes>"
      ]
     },
     "metadata": {
      "needs_background": "light"
     },
     "output_type": "display_data"
    }
   ],
   "source": [
    "sns.boxplot(y=data['days_exposition'])\n",
    "data.plot(y = 'days_exposition', kind = 'hist', bins = 100, grid = True, range = (1,200))\n",
    "\n",
    "#среднее значение, медиана\n",
    "print(data['days_exposition'].describe())\n",
    "print(data['days_exposition'].value_counts())\n"
   ]
  },
  {
   "cell_type": "markdown",
   "metadata": {},
   "source": [
    "Мы имеем распределение Пуассона. Среднее значение - 180 дней, а медиана - 95 дней. С помощью гистограммы мы обнаружили выбивающиеся значения и методом value_counts убедились в этом - 45, 60, 7, 30, 90  - это наиболее популярное количество дней до снятия объявления. Эти выбивающиеся значения можно объяснить условиями размещения объявлении. По истечении этих сроков (в зависимости от указанного при размещении) объявления автоматически снимаются с публикации.\n",
    "Диаграмма размаха у нас от минимального значения до примерно 500 дней. Значит необоснованно быстрых значений у нас нет, а необоснованно долгие - от 500 дней и выше. Значит нормальные значения у нас лежат от 1 до 500. Есть большое число квартир, проданных всего за несколько дней после публикации. А также есть варианты, которые продавались несколько десятков месяцев.\n",
    "\n"
   ]
  },
  {
   "cell_type": "markdown",
   "metadata": {},
   "source": [
    "При вызове метода describe() обнаружили минимальное значение 1. Возможно, это выброс, нужно изучить количество таких объявлений\n"
   ]
  },
  {
   "cell_type": "code",
   "execution_count": 31,
   "metadata": {},
   "outputs": [
    {
     "data": {
      "text/html": [
       "<div>\n",
       "<style scoped>\n",
       "    .dataframe tbody tr th:only-of-type {\n",
       "        vertical-align: middle;\n",
       "    }\n",
       "\n",
       "    .dataframe tbody tr th {\n",
       "        vertical-align: top;\n",
       "    }\n",
       "\n",
       "    .dataframe thead th {\n",
       "        text-align: right;\n",
       "    }\n",
       "</style>\n",
       "<table border=\"1\" class=\"dataframe\">\n",
       "  <thead>\n",
       "    <tr style=\"text-align: right;\">\n",
       "      <th></th>\n",
       "      <th>total_images</th>\n",
       "      <th>last_price</th>\n",
       "      <th>total_area</th>\n",
       "      <th>first_day_exposition</th>\n",
       "      <th>rooms</th>\n",
       "      <th>ceiling_height</th>\n",
       "      <th>floors_total</th>\n",
       "      <th>living_area</th>\n",
       "      <th>floor</th>\n",
       "      <th>is_apartment</th>\n",
       "      <th>...</th>\n",
       "      <th>parks_nearest</th>\n",
       "      <th>ponds_around3000</th>\n",
       "      <th>ponds_nearest</th>\n",
       "      <th>days_exposition</th>\n",
       "      <th>price_one_metr</th>\n",
       "      <th>weekday_exposition</th>\n",
       "      <th>month_exposition</th>\n",
       "      <th>year_exposition</th>\n",
       "      <th>type_floor</th>\n",
       "      <th>centr_km</th>\n",
       "    </tr>\n",
       "  </thead>\n",
       "  <tbody>\n",
       "    <tr>\n",
       "      <th>1632</th>\n",
       "      <td>19</td>\n",
       "      <td>4000000</td>\n",
       "      <td>49.9</td>\n",
       "      <td>2019-05-01</td>\n",
       "      <td>2</td>\n",
       "      <td>2.5</td>\n",
       "      <td>9.0</td>\n",
       "      <td>25.0</td>\n",
       "      <td>1</td>\n",
       "      <td>False</td>\n",
       "      <td>...</td>\n",
       "      <td>20.0</td>\n",
       "      <td>1.0</td>\n",
       "      <td>681.0</td>\n",
       "      <td>1.0</td>\n",
       "      <td>80160.320641</td>\n",
       "      <td>2</td>\n",
       "      <td>5</td>\n",
       "      <td>2019</td>\n",
       "      <td>первый</td>\n",
       "      <td>14</td>\n",
       "    </tr>\n",
       "  </tbody>\n",
       "</table>\n",
       "<p>1 rows × 28 columns</p>\n",
       "</div>"
      ],
      "text/plain": [
       "      total_images  last_price  total_area first_day_exposition  rooms  \\\n",
       "1632            19     4000000        49.9           2019-05-01      2   \n",
       "\n",
       "      ceiling_height  floors_total  living_area  floor  is_apartment  ...  \\\n",
       "1632             2.5           9.0         25.0      1         False  ...   \n",
       "\n",
       "      parks_nearest  ponds_around3000  ponds_nearest  days_exposition  \\\n",
       "1632           20.0               1.0          681.0              1.0   \n",
       "\n",
       "     price_one_metr  weekday_exposition  month_exposition  year_exposition  \\\n",
       "1632   80160.320641                   2                 5             2019   \n",
       "\n",
       "      type_floor  centr_km  \n",
       "1632      первый        14  \n",
       "\n",
       "[1 rows x 28 columns]"
      ]
     },
     "execution_count": 31,
     "metadata": {},
     "output_type": "execute_result"
    }
   ],
   "source": [
    "data[data['days_exposition']==1]"
   ]
  },
  {
   "cell_type": "markdown",
   "metadata": {},
   "source": [
    " Такое значение всего одно, оно не искажает данные\n",
    "\n"
   ]
  },
  {
   "cell_type": "markdown",
   "metadata": {},
   "source": [
    "ШАГ 3"
   ]
  },
  {
   "cell_type": "code",
   "execution_count": 32,
   "metadata": {},
   "outputs": [
    {
     "data": {
      "text/plain": [
       "0.6536750579657242"
      ]
     },
     "execution_count": 32,
     "metadata": {},
     "output_type": "execute_result"
    },
    {
     "data": {
      "image/png": "[encoded data removed]",
      "text/plain": [
       "<Figure size 432x288 with 1 Axes>"
      ]
     },
     "metadata": {
      "needs_background": "light"
     },
     "output_type": "display_data"
    }
   ],
   "source": [
    "# изучим зависимость цены квартиры от общей площади\n",
    "pivot_table_total_area = data.pivot_table(index = 'total_area', values = 'last_price', aggfunc = ['mean', 'count', 'median'])\n",
    "pivot_table_total_area.columns = ['mean', 'count', 'median']\n",
    "pivot_table_total_area.plot(y = 'median', style = 'o')\n",
    "\n",
    "pivot_table_total_area.sort_values('median', ascending = False)\n",
    "\n",
    "data['total_area'].corr(data['last_price'])"
   ]
  },
  {
   "cell_type": "code",
   "execution_count": 33,
   "metadata": {},
   "outputs": [
    {
     "data": {
      "text/plain": [
       "0.5858320218520142"
      ]
     },
     "execution_count": 33,
     "metadata": {},
     "output_type": "execute_result"
    },
    {
     "data": {
      "image/png": "[encoded data removed]",
      "text/plain": [
       "<Figure size 432x288 with 1 Axes>"
      ]
     },
     "metadata": {
      "needs_background": "light"
     },
     "output_type": "display_data"
    }
   ],
   "source": [
    "# изучим зависимость цены квартиры от жилой площади\n",
    "pivot_table_total_area = data.pivot_table(index = 'living_area', values = 'last_price', aggfunc = ['mean', 'count', 'median'])\n",
    "pivot_table_total_area.columns = ['mean', 'count', 'median']\n",
    "pivot_table_total_area.plot(y = 'median', style = 'o')\n",
    "\n",
    "pivot_table_total_area.sort_values('median', ascending = False)\n",
    "\n",
    "data['living_area'].corr(data['last_price'])"
   ]
  },
  {
   "cell_type": "code",
   "execution_count": 34,
   "metadata": {},
   "outputs": [
    {
     "data": {
      "text/plain": [
       "0.5138729142866714"
      ]
     },
     "execution_count": 34,
     "metadata": {},
     "output_type": "execute_result"
    },
    {
     "data": {
      "image/png": "[encoded data removed]",
      "text/plain": [
       "<Figure size 432x288 with 1 Axes>"
      ]
     },
     "metadata": {
      "needs_background": "light"
     },
     "output_type": "display_data"
    }
   ],
   "source": [
    "# изучим зависимость цены квартиры от площади кухни\n",
    "pivot_table_total_area = data.pivot_table(index = 'kitchen_area', values = 'last_price', aggfunc = ['mean', 'count', 'median'])\n",
    "pivot_table_total_area.columns = ['mean', 'count', 'median']\n",
    "pivot_table_total_area.plot(y = 'median', style = 'o')\n",
    "\n",
    "pivot_table_total_area.sort_values('median', ascending = False)\n",
    "\n",
    "data['kitchen_area'].corr(data['last_price'])"
   ]
  },
  {
   "cell_type": "code",
   "execution_count": 35,
   "metadata": {},
   "outputs": [
    {
     "data": {
      "text/plain": [
       "0.3633428499648948"
      ]
     },
     "execution_count": 35,
     "metadata": {},
     "output_type": "execute_result"
    },
    {
     "data": {
      "image/png": "[encoded data removed]",
      "text/plain": [
       "<Figure size 432x288 with 1 Axes>"
      ]
     },
     "metadata": {
      "needs_background": "light"
     },
     "output_type": "display_data"
    }
   ],
   "source": [
    "# изучим зависимость цены квартиры от количества комнат\n",
    "pivot_table_total_area = data.pivot_table(index = 'rooms', values = 'last_price', aggfunc = ['mean', 'count', 'median'])\n",
    "pivot_table_total_area.columns = ['mean', 'count', 'median']\n",
    "pivot_table_total_area.plot(y = 'median', style = 'o')\n",
    "\n",
    "pivot_table_total_area.sort_values('median', ascending = False)\n",
    "\n",
    "data['rooms'].corr(data['last_price'])"
   ]
  },
  {
   "cell_type": "code",
   "execution_count": 36,
   "metadata": {},
   "outputs": [
    {
     "data": {
      "text/plain": [
       "<AxesSubplot:xlabel='type_floor'>"
      ]
     },
     "execution_count": 36,
     "metadata": {},
     "output_type": "execute_result"
    },
    {
     "data": {
      "image/png": "[encoded data removed]",
      "text/plain": [
       "<Figure size 432x288 with 1 Axes>"
      ]
     },
     "metadata": {
      "needs_background": "light"
     },
     "output_type": "display_data"
    }
   ],
   "source": [
    "# изучим зависимость цены квартиры от этажа\n",
    "plt.show()\n",
    "data.groupby('type_floor')['last_price'].mean().plot.bar()"
   ]
  },
  {
   "cell_type": "code",
   "execution_count": 37,
   "metadata": {},
   "outputs": [
    {
     "data": {
      "text/html": [
       "<div>\n",
       "<style scoped>\n",
       "    .dataframe tbody tr th:only-of-type {\n",
       "        vertical-align: middle;\n",
       "    }\n",
       "\n",
       "    .dataframe tbody tr th {\n",
       "        vertical-align: top;\n",
       "    }\n",
       "\n",
       "    .dataframe thead th {\n",
       "        text-align: right;\n",
       "    }\n",
       "</style>\n",
       "<table border=\"1\" class=\"dataframe\">\n",
       "  <thead>\n",
       "    <tr style=\"text-align: right;\">\n",
       "      <th></th>\n",
       "      <th>mean</th>\n",
       "      <th>count</th>\n",
       "      <th>median</th>\n",
       "    </tr>\n",
       "    <tr>\n",
       "      <th>weekday_exposition</th>\n",
       "      <th></th>\n",
       "      <th></th>\n",
       "      <th></th>\n",
       "    </tr>\n",
       "  </thead>\n",
       "  <tbody>\n",
       "    <tr>\n",
       "      <th>1</th>\n",
       "      <td>6.394233e+06</td>\n",
       "      <td>4183</td>\n",
       "      <td>4730000</td>\n",
       "    </tr>\n",
       "    <tr>\n",
       "      <th>2</th>\n",
       "      <td>6.627970e+06</td>\n",
       "      <td>3974</td>\n",
       "      <td>4700000</td>\n",
       "    </tr>\n",
       "    <tr>\n",
       "      <th>0</th>\n",
       "      <td>6.511613e+06</td>\n",
       "      <td>3612</td>\n",
       "      <td>4650000</td>\n",
       "    </tr>\n",
       "    <tr>\n",
       "      <th>3</th>\n",
       "      <td>6.708663e+06</td>\n",
       "      <td>4295</td>\n",
       "      <td>4650000</td>\n",
       "    </tr>\n",
       "    <tr>\n",
       "      <th>4</th>\n",
       "      <td>6.372131e+06</td>\n",
       "      <td>4000</td>\n",
       "      <td>4585000</td>\n",
       "    </tr>\n",
       "    <tr>\n",
       "      <th>5</th>\n",
       "      <td>6.976804e+06</td>\n",
       "      <td>1936</td>\n",
       "      <td>4555000</td>\n",
       "    </tr>\n",
       "    <tr>\n",
       "      <th>6</th>\n",
       "      <td>6.246180e+06</td>\n",
       "      <td>1699</td>\n",
       "      <td>4550000</td>\n",
       "    </tr>\n",
       "  </tbody>\n",
       "</table>\n",
       "</div>"
      ],
      "text/plain": [
       "                            mean  count   median\n",
       "weekday_exposition                              \n",
       "1                   6.394233e+06   4183  4730000\n",
       "2                   6.627970e+06   3974  4700000\n",
       "0                   6.511613e+06   3612  4650000\n",
       "3                   6.708663e+06   4295  4650000\n",
       "4                   6.372131e+06   4000  4585000\n",
       "5                   6.976804e+06   1936  4555000\n",
       "6                   6.246180e+06   1699  4550000"
      ]
     },
     "execution_count": 37,
     "metadata": {},
     "output_type": "execute_result"
    },
    {
     "data": {
      "image/png": "[encoded data removed]",
      "text/plain": [
       "<Figure size 432x288 with 1 Axes>"
      ]
     },
     "metadata": {
      "needs_background": "light"
     },
     "output_type": "display_data"
    }
   ],
   "source": [
    "# изучим зависимость цены квартиры от даты размещения\n",
    "pivot_table_weekday_exposition = data.pivot_table(index = 'weekday_exposition', values = 'last_price', aggfunc = ['mean', 'count', 'median'])\n",
    "pivot_table_weekday_exposition.columns = ['mean', 'count', 'median']\n",
    "pivot_table_weekday_exposition.plot(y = 'median')\n",
    "\n",
    "pivot_table_weekday_exposition.sort_values('median', ascending = False)"
   ]
  },
  {
   "cell_type": "code",
   "execution_count": 38,
   "metadata": {},
   "outputs": [
    {
     "data": {
      "text/html": [
       "<div>\n",
       "<style scoped>\n",
       "    .dataframe tbody tr th:only-of-type {\n",
       "        vertical-align: middle;\n",
       "    }\n",
       "\n",
       "    .dataframe tbody tr th {\n",
       "        vertical-align: top;\n",
       "    }\n",
       "\n",
       "    .dataframe thead th {\n",
       "        text-align: right;\n",
       "    }\n",
       "</style>\n",
       "<table border=\"1\" class=\"dataframe\">\n",
       "  <thead>\n",
       "    <tr style=\"text-align: right;\">\n",
       "      <th></th>\n",
       "      <th>mean</th>\n",
       "      <th>count</th>\n",
       "      <th>median</th>\n",
       "    </tr>\n",
       "    <tr>\n",
       "      <th>month_exposition</th>\n",
       "      <th></th>\n",
       "      <th></th>\n",
       "      <th></th>\n",
       "    </tr>\n",
       "  </thead>\n",
       "  <tbody>\n",
       "    <tr>\n",
       "      <th>4</th>\n",
       "      <td>6.737198e+06</td>\n",
       "      <td>2379</td>\n",
       "      <td>4800000</td>\n",
       "    </tr>\n",
       "    <tr>\n",
       "      <th>9</th>\n",
       "      <td>6.825470e+06</td>\n",
       "      <td>1981</td>\n",
       "      <td>4700000</td>\n",
       "    </tr>\n",
       "    <tr>\n",
       "      <th>11</th>\n",
       "      <td>6.461363e+06</td>\n",
       "      <td>2371</td>\n",
       "      <td>4700000</td>\n",
       "    </tr>\n",
       "    <tr>\n",
       "      <th>12</th>\n",
       "      <td>7.011731e+06</td>\n",
       "      <td>1641</td>\n",
       "      <td>4700000</td>\n",
       "    </tr>\n",
       "    <tr>\n",
       "      <th>2</th>\n",
       "      <td>6.468500e+06</td>\n",
       "      <td>2640</td>\n",
       "      <td>4650000</td>\n",
       "    </tr>\n",
       "    <tr>\n",
       "      <th>3</th>\n",
       "      <td>6.359275e+06</td>\n",
       "      <td>2587</td>\n",
       "      <td>4650000</td>\n",
       "    </tr>\n",
       "    <tr>\n",
       "      <th>7</th>\n",
       "      <td>6.649337e+06</td>\n",
       "      <td>1695</td>\n",
       "      <td>4650000</td>\n",
       "    </tr>\n",
       "    <tr>\n",
       "      <th>1</th>\n",
       "      <td>6.668233e+06</td>\n",
       "      <td>1500</td>\n",
       "      <td>4600000</td>\n",
       "    </tr>\n",
       "    <tr>\n",
       "      <th>8</th>\n",
       "      <td>6.350233e+06</td>\n",
       "      <td>1744</td>\n",
       "      <td>4570000</td>\n",
       "    </tr>\n",
       "    <tr>\n",
       "      <th>10</th>\n",
       "      <td>6.235013e+06</td>\n",
       "      <td>2127</td>\n",
       "      <td>4570000</td>\n",
       "    </tr>\n",
       "    <tr>\n",
       "      <th>5</th>\n",
       "      <td>6.600435e+06</td>\n",
       "      <td>1274</td>\n",
       "      <td>4515000</td>\n",
       "    </tr>\n",
       "    <tr>\n",
       "      <th>6</th>\n",
       "      <td>6.310269e+06</td>\n",
       "      <td>1760</td>\n",
       "      <td>4400000</td>\n",
       "    </tr>\n",
       "  </tbody>\n",
       "</table>\n",
       "</div>"
      ],
      "text/plain": [
       "                          mean  count   median\n",
       "month_exposition                              \n",
       "4                 6.737198e+06   2379  4800000\n",
       "9                 6.825470e+06   1981  4700000\n",
       "11                6.461363e+06   2371  4700000\n",
       "12                7.011731e+06   1641  4700000\n",
       "2                 6.468500e+06   2640  4650000\n",
       "3                 6.359275e+06   2587  4650000\n",
       "7                 6.649337e+06   1695  4650000\n",
       "1                 6.668233e+06   1500  4600000\n",
       "8                 6.350233e+06   1744  4570000\n",
       "10                6.235013e+06   2127  4570000\n",
       "5                 6.600435e+06   1274  4515000\n",
       "6                 6.310269e+06   1760  4400000"
      ]
     },
     "execution_count": 38,
     "metadata": {},
     "output_type": "execute_result"
    },
    {
     "data": {
      "image/png": "[encoded data removed]",
      "text/plain": [
       "<Figure size 432x288 with 1 Axes>"
      ]
     },
     "metadata": {
      "needs_background": "light"
     },
     "output_type": "display_data"
    }
   ],
   "source": [
    "pivot_table_weekday_exposition = data.pivot_table(index = 'month_exposition', values = 'last_price', aggfunc = ['mean', 'count', 'median'])\n",
    "pivot_table_weekday_exposition.columns = ['mean', 'count', 'median']\n",
    "pivot_table_weekday_exposition.plot(y = 'median')\n",
    "\n",
    "pivot_table_weekday_exposition.sort_values('median', ascending = False)"
   ]
  },
  {
   "cell_type": "code",
   "execution_count": 39,
   "metadata": {},
   "outputs": [
    {
     "data": {
      "text/html": [
       "<div>\n",
       "<style scoped>\n",
       "    .dataframe tbody tr th:only-of-type {\n",
       "        vertical-align: middle;\n",
       "    }\n",
       "\n",
       "    .dataframe tbody tr th {\n",
       "        vertical-align: top;\n",
       "    }\n",
       "\n",
       "    .dataframe thead th {\n",
       "        text-align: right;\n",
       "    }\n",
       "</style>\n",
       "<table border=\"1\" class=\"dataframe\">\n",
       "  <thead>\n",
       "    <tr style=\"text-align: right;\">\n",
       "      <th></th>\n",
       "      <th>mean</th>\n",
       "      <th>count</th>\n",
       "      <th>median</th>\n",
       "    </tr>\n",
       "    <tr>\n",
       "      <th>year_exposition</th>\n",
       "      <th></th>\n",
       "      <th></th>\n",
       "      <th></th>\n",
       "    </tr>\n",
       "  </thead>\n",
       "  <tbody>\n",
       "    <tr>\n",
       "      <th>2014</th>\n",
       "      <td>1.208714e+07</td>\n",
       "      <td>137</td>\n",
       "      <td>7700000</td>\n",
       "    </tr>\n",
       "    <tr>\n",
       "      <th>2015</th>\n",
       "      <td>8.572833e+06</td>\n",
       "      <td>1191</td>\n",
       "      <td>5350000</td>\n",
       "    </tr>\n",
       "    <tr>\n",
       "      <th>2019</th>\n",
       "      <td>6.782388e+06</td>\n",
       "      <td>2879</td>\n",
       "      <td>5050000</td>\n",
       "    </tr>\n",
       "    <tr>\n",
       "      <th>2016</th>\n",
       "      <td>6.827912e+06</td>\n",
       "      <td>2783</td>\n",
       "      <td>4550000</td>\n",
       "    </tr>\n",
       "    <tr>\n",
       "      <th>2018</th>\n",
       "      <td>5.950966e+06</td>\n",
       "      <td>8519</td>\n",
       "      <td>4550000</td>\n",
       "    </tr>\n",
       "    <tr>\n",
       "      <th>2017</th>\n",
       "      <td>6.585729e+06</td>\n",
       "      <td>8190</td>\n",
       "      <td>4500000</td>\n",
       "    </tr>\n",
       "  </tbody>\n",
       "</table>\n",
       "</div>"
      ],
      "text/plain": [
       "                         mean  count   median\n",
       "year_exposition                              \n",
       "2014             1.208714e+07    137  7700000\n",
       "2015             8.572833e+06   1191  5350000\n",
       "2019             6.782388e+06   2879  5050000\n",
       "2016             6.827912e+06   2783  4550000\n",
       "2018             5.950966e+06   8519  4550000\n",
       "2017             6.585729e+06   8190  4500000"
      ]
     },
     "execution_count": 39,
     "metadata": {},
     "output_type": "execute_result"
    },
    {
     "data": {
      "image/png": "[encoded data removed]",
      "text/plain": [
       "<Figure size 432x288 with 1 Axes>"
      ]
     },
     "metadata": {
      "needs_background": "light"
     },
     "output_type": "display_data"
    }
   ],
   "source": [
    "pivot_table_weekday_exposition = data.pivot_table(index = 'year_exposition', values = 'last_price', aggfunc = ['mean', 'count', 'median'])\n",
    "pivot_table_weekday_exposition.columns = ['mean', 'count', 'median']\n",
    "pivot_table_weekday_exposition.plot(y = 'median')\n",
    "\n",
    "pivot_table_weekday_exposition.sort_values('median', ascending = False)"
   ]
  },
  {
   "cell_type": "markdown",
   "metadata": {},
   "source": [
    "Выводы: больше всего на цену квартиры влияет общая площадь. Так же влияют жилая площадь и площадь кухни. Это объяснимо тем, что общая площадь, жилая площадь и площадь кухни коррелируют между собой. От числа комнат зависимость цены очень слабая. Чем ближе ко вторнику выставлены объявления, тем в среднем выше стоимость, но незначительно,ближе к выходным стоимость постепенно снижается. По субботам стоимость самая низкая. Что касается месяца, самая высокая цена в апреле и сентябре. Самая низкая стоимость в июне. Возможно присутствует сезонность - в начале лета предложение меньше как по количеству, так и по стоимости. Наверное, это связано с отпусками. С 2014 до 2016 года цена падала, до 2018 года почти не менялась, но после начала увеличиваться.Дешевле всех стоят квартиры на первом этаже, дороже всех - на последнем."
   ]
  },
  {
   "cell_type": "markdown",
   "metadata": {},
   "source": [
    "ШАГ 4"
   ]
  },
  {
   "cell_type": "code",
   "execution_count": 40,
   "metadata": {},
   "outputs": [
    {
     "name": "stdout",
     "output_type": "stream",
     "text": [
      "                 count           mean\n",
      "locality_name                        \n",
      "Санкт-Петербург  15721  114849.008794\n",
      "Мурино             590   86087.512050\n",
      "Кудрово            472   95324.930544\n",
      "Шушары             440   78677.364217\n",
      "Всеволожск         398   68654.473986\n",
      "Пушкин             369  103125.819291\n",
      "Колпино            338   75424.579098\n",
      "Парголово          327   90175.913458\n",
      "Гатчина            307   68746.146763\n",
      "Выборг             237   58141.909153\n",
      "                 count           mean\n",
      "locality_name                        \n",
      "Санкт-Петербург  15721  114849.008794\n",
      "               count          mean\n",
      "locality_name                     \n",
      "Выборг           237  58141.909153\n"
     ]
    }
   ],
   "source": [
    "\n",
    "locality_pivot_table = data.pivot_table(index = 'locality_name', values = 'price_one_metr', aggfunc=['count', 'mean'])\n",
    "locality_pivot_table.columns = ['count', 'mean']\n",
    "locality_pivot_table = locality_pivot_table.sort_values('count', ascending = False).head(10)\n",
    "print(locality_pivot_table)\n",
    "#самая высокая стоимость\n",
    "print(locality_pivot_table[locality_pivot_table['mean']==locality_pivot_table['mean'].max()])\n",
    "#самая низкая стоимость\n",
    "print(locality_pivot_table[locality_pivot_table['mean']==locality_pivot_table['mean'].min()])"
   ]
  },
  {
   "cell_type": "markdown",
   "metadata": {},
   "source": [
    "самая высокая стоимость жилья в Санкт-Петербурге, а самая низкая - в Выборге"
   ]
  },
  {
   "cell_type": "markdown",
   "metadata": {},
   "source": [
    "ШАГ 5"
   ]
  },
  {
   "cell_type": "code",
   "execution_count": 41,
   "metadata": {},
   "outputs": [
    {
     "name": "stdout",
     "output_type": "stream",
     "text": [
      "          price_one_metr\n",
      "centr_km                \n",
      "0          174402.044501\n",
      "1          166603.755531\n",
      "2          146662.860056\n",
      "3          129416.344615\n",
      "4          137475.497055\n",
      "5          146979.232519\n",
      "6          152277.893519\n",
      "7          141399.731456\n",
      "8          120581.349830\n",
      "9          110012.549686\n",
      "10         111641.287182\n",
      "11         106790.883882\n",
      "12         108295.769255\n",
      "13         107209.143992\n",
      "14         104986.483351\n",
      "15         101883.116013\n",
      "16         100085.601721\n",
      "17          94095.872357\n",
      "18          94831.953162\n",
      "19          95434.377295\n",
      "20         107046.166047\n",
      "21          91492.688149\n",
      "22          88714.696974\n",
      "23          92720.641577\n",
      "24          82440.343912\n",
      "25          91136.018511\n",
      "26          75171.911041\n",
      "27         132115.709459\n",
      "28          81840.638722\n",
      "29          62482.404228\n"
     ]
    },
    {
     "data": {
      "text/plain": [
       "<AxesSubplot:xlabel='centr_km'>"
      ]
     },
     "execution_count": 41,
     "metadata": {},
     "output_type": "execute_result"
    },
    {
     "data": {
      "image/png": "[encoded data removed]",
      "text/plain": [
       "<Figure size 432x288 with 1 Axes>"
      ]
     },
     "metadata": {
      "needs_background": "light"
     },
     "output_type": "display_data"
    }
   ],
   "source": [
    "Saint_Petersburg_km = data.query('locality_name == \"Санкт-Петербург\"').pivot_table(index = 'centr_km', values = 'price_one_metr', aggfunc = 'mean')\n",
    "print(Saint_Petersburg_km)\n",
    "Saint_Petersburg_km.plot(grid=True, style='o-', xlim=(0,15))\n"
   ]
  },
  {
   "cell_type": "markdown",
   "metadata": {},
   "source": [
    "Стоимость объектов высокая, если расстояние до центра города до 6 км. Чем дальше от центра, тем цена квартир ниже"
   ]
  },
  {
   "cell_type": "markdown",
   "metadata": {},
   "source": [
    "### Общий вывод"
   ]
  },
  {
   "cell_type": "markdown",
   "metadata": {},
   "source": [
    "\n",
    "В ходе анализа данных сделали предобработку,убрав неявные дубликаты в населённых пунктах. Так же заполнили пропуски в жилой площади и площади кухни с помощью коэффициентов. Убрали аномальные значения в столбце высота потолков, добавили новые столбцы для исследования. В ходе иследования выяснили, что на цену квартиры больше всего влияет площадь. Незначительно на цену влияет количество комнат, день, месяц, год размещения.Выявили сезонность по месяцам. В 2016-2017 годах цена квартир была самой низкой,с 2018 года начала дорожать. Возможно, это связано с кризисом 2014 года. По изменению цен в зависимости от удаления от центра, центр составляет примерно 6 км. Выяснили, что самая высокая стоимость жилья в Санкт-Петербурге, а самая низкая в Выборге. \n",
    "Первый этаж непосредственно влияет на стоимость квартиры - в среднем квартиры на 1-м этаже значительно дешевле. \n",
    "Выяснили, что большинство квартир - менее 100 квадратных метров, в среднем высота потолков после предобработки данных от 2,5 м до 3 м. В основном стоимость квартир около 4,5 миллионов. Больше 20 миллионов вариантов мало. В основном квартиры состоят из 1, 2 и 3 комнат. Есть небольшая доля 4-комнатных квартир. Варианты, где больше 7 комнат выглядят странно и подозрительно\n"
   ]
  }
 ],
 "metadata": {
  "ExecuteTimeLog": [
   {
    "duration": 565,
    "start_time": "2022-09-10T20:52:07.680Z"
   },
   {
    "duration": 2584,
    "start_time": "2022-09-10T20:55:03.665Z"
   },
   {
    "duration": 2434,
    "start_time": "2022-09-10T21:07:41.005Z"
   },
   {
    "duration": 80,
    "start_time": "2022-09-10T21:19:31.666Z"
   },
   {
    "duration": 23,
    "start_time": "2022-09-10T21:19:55.308Z"
   },
   {
    "duration": 0,
    "start_time": "2022-09-10T21:24:37.526Z"
   },
   {
    "duration": 79,
    "start_time": "2022-09-10T21:24:39.278Z"
   },
   {
    "duration": 2475,
    "start_time": "2022-09-10T21:24:46.424Z"
   },
   {
    "duration": 211,
    "start_time": "2022-09-10T21:24:57.929Z"
   },
   {
    "duration": 181,
    "start_time": "2022-09-10T21:25:27.175Z"
   },
   {
    "duration": 192,
    "start_time": "2022-09-10T21:26:06.876Z"
   },
   {
    "duration": 102,
    "start_time": "2022-09-10T21:26:22.780Z"
   },
   {
    "duration": 208,
    "start_time": "2022-09-10T21:26:30.038Z"
   },
   {
    "duration": 17,
    "start_time": "2022-09-10T21:28:04.375Z"
   },
   {
    "duration": 15,
    "start_time": "2022-09-10T21:28:07.544Z"
   },
   {
    "duration": 16,
    "start_time": "2022-09-10T21:28:11.724Z"
   },
   {
    "duration": 2618,
    "start_time": "2022-09-10T21:28:16.556Z"
   },
   {
    "duration": 17,
    "start_time": "2022-09-10T21:28:19.841Z"
   },
   {
    "duration": 6,
    "start_time": "2022-09-10T21:28:44.236Z"
   },
   {
    "duration": 5,
    "start_time": "2022-09-10T21:30:23.203Z"
   },
   {
    "duration": 5,
    "start_time": "2022-09-10T21:30:59.348Z"
   },
   {
    "duration": 6,
    "start_time": "2022-09-10T21:31:23.148Z"
   },
   {
    "duration": 7,
    "start_time": "2022-09-10T21:31:45.278Z"
   },
   {
    "duration": 6,
    "start_time": "2022-09-10T21:34:27.012Z"
   },
   {
    "duration": 8,
    "start_time": "2022-09-10T21:38:58.731Z"
   },
   {
    "duration": 7,
    "start_time": "2022-09-10T21:39:03.622Z"
   },
   {
    "duration": 6,
    "start_time": "2022-09-10T21:39:24.234Z"
   },
   {
    "duration": 7,
    "start_time": "2022-09-10T21:41:10.985Z"
   },
   {
    "duration": 2818,
    "start_time": "2022-09-10T21:41:50.198Z"
   },
   {
    "duration": 2733,
    "start_time": "2022-09-10T21:42:06.000Z"
   },
   {
    "duration": 14,
    "start_time": "2022-09-10T21:45:40.840Z"
   },
   {
    "duration": 12,
    "start_time": "2022-09-10T21:46:05.403Z"
   },
   {
    "duration": 12,
    "start_time": "2022-09-10T21:46:15.329Z"
   },
   {
    "duration": 2623,
    "start_time": "2022-09-10T21:53:34.766Z"
   },
   {
    "duration": 16,
    "start_time": "2022-09-10T21:56:03.424Z"
   },
   {
    "duration": 13,
    "start_time": "2022-09-10T21:56:05.546Z"
   },
   {
    "duration": 13,
    "start_time": "2022-09-10T21:56:28.753Z"
   },
   {
    "duration": 8,
    "start_time": "2022-09-10T21:56:30.299Z"
   },
   {
    "duration": 13,
    "start_time": "2022-09-10T21:56:40.639Z"
   },
   {
    "duration": 12,
    "start_time": "2022-09-10T22:00:32.437Z"
   },
   {
    "duration": 15,
    "start_time": "2022-09-10T22:00:45.034Z"
   },
   {
    "duration": 25,
    "start_time": "2022-09-10T22:01:08.926Z"
   },
   {
    "duration": 2679,
    "start_time": "2022-09-10T22:01:27.237Z"
   },
   {
    "duration": 14,
    "start_time": "2022-09-10T22:02:08.172Z"
   },
   {
    "duration": 27,
    "start_time": "2022-09-10T22:02:09.619Z"
   },
   {
    "duration": 16,
    "start_time": "2022-09-10T22:07:12.400Z"
   },
   {
    "duration": 36,
    "start_time": "2022-09-10T22:07:55.239Z"
   },
   {
    "duration": 23,
    "start_time": "2022-09-10T22:19:51.744Z"
   },
   {
    "duration": 23,
    "start_time": "2022-09-10T22:19:54.938Z"
   },
   {
    "duration": 23,
    "start_time": "2022-09-10T22:20:09.597Z"
   },
   {
    "duration": 23,
    "start_time": "2022-09-10T22:20:21.791Z"
   },
   {
    "duration": 23,
    "start_time": "2022-09-10T22:20:33.068Z"
   },
   {
    "duration": 24,
    "start_time": "2022-09-10T22:26:39.531Z"
   },
   {
    "duration": 25,
    "start_time": "2022-09-10T22:27:17.284Z"
   },
   {
    "duration": 27,
    "start_time": "2022-09-10T22:30:01.834Z"
   },
   {
    "duration": 31,
    "start_time": "2022-09-10T22:31:12.070Z"
   },
   {
    "duration": 31,
    "start_time": "2022-09-10T22:31:23.608Z"
   },
   {
    "duration": 25,
    "start_time": "2022-09-10T22:31:38.430Z"
   },
   {
    "duration": 27,
    "start_time": "2022-09-10T22:31:55.003Z"
   },
   {
    "duration": 252,
    "start_time": "2022-09-10T22:32:16.915Z"
   },
   {
    "duration": 23,
    "start_time": "2022-09-10T22:32:54.559Z"
   },
   {
    "duration": 24,
    "start_time": "2022-09-10T22:33:03.640Z"
   },
   {
    "duration": 28,
    "start_time": "2022-09-10T22:34:49.780Z"
   },
   {
    "duration": 29,
    "start_time": "2022-09-10T22:39:51.421Z"
   },
   {
    "duration": 25,
    "start_time": "2022-09-10T22:40:07.440Z"
   },
   {
    "duration": 28,
    "start_time": "2022-09-10T22:40:29.142Z"
   },
   {
    "duration": 32,
    "start_time": "2022-09-10T22:45:27.297Z"
   },
   {
    "duration": 1089,
    "start_time": "2022-09-10T22:45:47.923Z"
   },
   {
    "duration": 2527,
    "start_time": "2022-09-10T22:45:56.098Z"
   },
   {
    "duration": 2799,
    "start_time": "2022-09-10T22:46:38.643Z"
   },
   {
    "duration": 34,
    "start_time": "2022-09-10T22:46:46.193Z"
   },
   {
    "duration": 1122,
    "start_time": "2022-09-10T22:47:21.568Z"
   },
   {
    "duration": 2381,
    "start_time": "2022-09-10T22:47:29.828Z"
   },
   {
    "duration": 46,
    "start_time": "2022-09-10T22:47:34.399Z"
   },
   {
    "duration": 41,
    "start_time": "2022-09-10T22:48:10.711Z"
   },
   {
    "duration": 45,
    "start_time": "2022-09-10T22:48:14.461Z"
   },
   {
    "duration": 2774,
    "start_time": "2022-09-10T22:48:17.728Z"
   },
   {
    "duration": 43,
    "start_time": "2022-09-10T22:48:25.251Z"
   },
   {
    "duration": 32,
    "start_time": "2022-09-10T22:49:46.133Z"
   },
   {
    "duration": 43,
    "start_time": "2022-09-10T22:49:52.404Z"
   },
   {
    "duration": 44,
    "start_time": "2022-09-10T22:51:44.125Z"
   },
   {
    "duration": 43,
    "start_time": "2022-09-10T22:52:35.158Z"
   },
   {
    "duration": 2412,
    "start_time": "2022-09-10T22:52:40.253Z"
   },
   {
    "duration": 49,
    "start_time": "2022-09-10T22:52:44.213Z"
   },
   {
    "duration": 45,
    "start_time": "2022-09-10T22:53:56.974Z"
   },
   {
    "duration": 2359,
    "start_time": "2022-09-10T22:54:02.309Z"
   },
   {
    "duration": 2831,
    "start_time": "2022-09-10T22:54:09.273Z"
   },
   {
    "duration": 50,
    "start_time": "2022-09-10T22:54:15.058Z"
   },
   {
    "duration": 2328,
    "start_time": "2022-09-10T22:55:52.492Z"
   },
   {
    "duration": 44,
    "start_time": "2022-09-10T22:55:55.644Z"
   },
   {
    "duration": 2404,
    "start_time": "2022-09-10T22:57:00.201Z"
   },
   {
    "duration": 47,
    "start_time": "2022-09-10T22:57:03.412Z"
   },
   {
    "duration": 45,
    "start_time": "2022-09-10T23:01:24.044Z"
   },
   {
    "duration": 2710,
    "start_time": "2022-09-10T23:01:30.607Z"
   },
   {
    "duration": 47,
    "start_time": "2022-09-10T23:01:33.859Z"
   },
   {
    "duration": 45,
    "start_time": "2022-09-10T23:02:25.727Z"
   },
   {
    "duration": 2557,
    "start_time": "2022-09-10T23:02:30.245Z"
   },
   {
    "duration": 44,
    "start_time": "2022-09-10T23:02:47.308Z"
   },
   {
    "duration": 2318,
    "start_time": "2022-09-10T23:03:25.800Z"
   },
   {
    "duration": 47,
    "start_time": "2022-09-10T23:03:28.853Z"
   },
   {
    "duration": 2372,
    "start_time": "2022-09-10T23:03:54.560Z"
   },
   {
    "duration": 43,
    "start_time": "2022-09-10T23:03:59.731Z"
   },
   {
    "duration": 561,
    "start_time": "2022-09-10T23:05:30.003Z"
   },
   {
    "duration": 2233,
    "start_time": "2022-09-10T23:05:33.769Z"
   },
   {
    "duration": 47,
    "start_time": "2022-09-10T23:05:38.552Z"
   },
   {
    "duration": 2422,
    "start_time": "2022-09-10T23:06:35.382Z"
   },
   {
    "duration": 2535,
    "start_time": "2022-09-10T23:09:51.733Z"
   },
   {
    "duration": 45,
    "start_time": "2022-09-10T23:09:57.471Z"
   },
   {
    "duration": 49,
    "start_time": "2022-09-10T23:11:55.755Z"
   },
   {
    "duration": 2477,
    "start_time": "2022-09-10T23:12:00.036Z"
   },
   {
    "duration": 48,
    "start_time": "2022-09-10T23:12:05.719Z"
   },
   {
    "duration": 2967,
    "start_time": "2022-09-10T23:14:04.673Z"
   },
   {
    "duration": 44,
    "start_time": "2022-09-10T23:14:07.850Z"
   },
   {
    "duration": 44,
    "start_time": "2022-09-10T23:14:33.131Z"
   },
   {
    "duration": 42,
    "start_time": "2022-09-10T23:15:05.311Z"
   },
   {
    "duration": 2388,
    "start_time": "2022-09-10T23:15:13.158Z"
   },
   {
    "duration": 49,
    "start_time": "2022-09-10T23:15:15.991Z"
   },
   {
    "duration": 2437,
    "start_time": "2022-09-10T23:15:34.522Z"
   },
   {
    "duration": 45,
    "start_time": "2022-09-10T23:15:39.652Z"
   },
   {
    "duration": 2520,
    "start_time": "2022-09-10T23:19:20.732Z"
   },
   {
    "duration": 46,
    "start_time": "2022-09-10T23:19:27.008Z"
   },
   {
    "duration": 2541,
    "start_time": "2022-09-10T23:19:43.369Z"
   },
   {
    "duration": 49,
    "start_time": "2022-09-10T23:19:48.555Z"
   },
   {
    "duration": 30,
    "start_time": "2022-09-10T23:27:50.161Z"
   },
   {
    "duration": 4,
    "start_time": "2022-09-10T23:27:51.596Z"
   },
   {
    "duration": 9,
    "start_time": "2022-09-10T23:35:15.787Z"
   },
   {
    "duration": 17,
    "start_time": "2022-09-10T23:35:45.137Z"
   },
   {
    "duration": 6,
    "start_time": "2022-09-10T23:36:30.766Z"
   },
   {
    "duration": 7,
    "start_time": "2022-09-10T23:36:57.054Z"
   },
   {
    "duration": 6,
    "start_time": "2022-09-10T23:37:02.769Z"
   },
   {
    "duration": 7,
    "start_time": "2022-09-10T23:37:19.805Z"
   },
   {
    "duration": 13,
    "start_time": "2022-09-10T23:37:26.997Z"
   },
   {
    "duration": 8,
    "start_time": "2022-09-10T23:37:36.528Z"
   },
   {
    "duration": 14,
    "start_time": "2022-09-10T23:39:07.794Z"
   },
   {
    "duration": 4,
    "start_time": "2022-09-10T23:54:26.961Z"
   },
   {
    "duration": 53,
    "start_time": "2022-09-11T17:21:55.037Z"
   },
   {
    "duration": 4085,
    "start_time": "2022-09-11T17:22:09.654Z"
   },
   {
    "duration": 44,
    "start_time": "2022-09-11T17:22:13.741Z"
   },
   {
    "duration": 8,
    "start_time": "2022-09-11T17:22:17.911Z"
   },
   {
    "duration": 12,
    "start_time": "2022-09-11T17:22:51.140Z"
   },
   {
    "duration": 14,
    "start_time": "2022-09-11T17:25:21.578Z"
   },
   {
    "duration": 12,
    "start_time": "2022-09-11T17:25:28.266Z"
   },
   {
    "duration": 13,
    "start_time": "2022-09-11T17:26:32.550Z"
   },
   {
    "duration": 8,
    "start_time": "2022-09-11T17:31:40.948Z"
   },
   {
    "duration": 40,
    "start_time": "2022-09-11T17:32:12.876Z"
   },
   {
    "duration": 13,
    "start_time": "2022-09-11T17:32:23.376Z"
   },
   {
    "duration": 10,
    "start_time": "2022-09-11T17:32:37.885Z"
   },
   {
    "duration": 32,
    "start_time": "2022-09-11T17:32:41.206Z"
   },
   {
    "duration": 11,
    "start_time": "2022-09-11T17:32:43.541Z"
   },
   {
    "duration": 11,
    "start_time": "2022-09-11T17:33:06.060Z"
   },
   {
    "duration": 4,
    "start_time": "2022-09-11T17:33:16.303Z"
   },
   {
    "duration": 9,
    "start_time": "2022-09-11T17:33:19.822Z"
   },
   {
    "duration": 8,
    "start_time": "2022-09-11T17:33:29.108Z"
   },
   {
    "duration": 10,
    "start_time": "2022-09-11T17:33:36.651Z"
   },
   {
    "duration": 11,
    "start_time": "2022-09-11T17:33:49.449Z"
   },
   {
    "duration": 22,
    "start_time": "2022-09-11T17:38:32.033Z"
   },
   {
    "duration": 7,
    "start_time": "2022-09-11T17:43:22.228Z"
   },
   {
    "duration": 263,
    "start_time": "2022-09-11T17:48:59.490Z"
   },
   {
    "duration": 55,
    "start_time": "2022-09-11T17:52:30.696Z"
   },
   {
    "duration": 200,
    "start_time": "2022-09-11T17:52:47.430Z"
   },
   {
    "duration": 36,
    "start_time": "2022-09-11T17:58:21.288Z"
   },
   {
    "duration": 27,
    "start_time": "2022-09-11T17:59:02.167Z"
   },
   {
    "duration": 45,
    "start_time": "2022-09-11T17:59:13.839Z"
   },
   {
    "duration": 7,
    "start_time": "2022-09-11T17:59:25.017Z"
   },
   {
    "duration": 42,
    "start_time": "2022-09-11T17:59:49.435Z"
   },
   {
    "duration": 144,
    "start_time": "2022-09-11T18:04:08.455Z"
   },
   {
    "duration": 194,
    "start_time": "2022-09-11T18:04:20.185Z"
   },
   {
    "duration": 221,
    "start_time": "2022-09-11T18:04:28.000Z"
   },
   {
    "duration": 235,
    "start_time": "2022-09-11T18:04:51.947Z"
   },
   {
    "duration": 188,
    "start_time": "2022-09-11T18:05:31.630Z"
   },
   {
    "duration": 216,
    "start_time": "2022-09-11T18:08:59.715Z"
   },
   {
    "duration": 6,
    "start_time": "2022-09-11T18:09:04.409Z"
   },
   {
    "duration": 206,
    "start_time": "2022-09-11T18:09:25.751Z"
   },
   {
    "duration": 8,
    "start_time": "2022-09-11T18:09:28.832Z"
   },
   {
    "duration": 3094,
    "start_time": "2022-09-11T18:10:32.206Z"
   },
   {
    "duration": 52,
    "start_time": "2022-09-11T18:10:38.521Z"
   },
   {
    "duration": 320,
    "start_time": "2022-09-11T18:10:40.570Z"
   },
   {
    "duration": 283,
    "start_time": "2022-09-11T18:10:45.324Z"
   },
   {
    "duration": 9,
    "start_time": "2022-09-11T18:10:49.768Z"
   },
   {
    "duration": 254,
    "start_time": "2022-09-11T18:12:02.234Z"
   },
   {
    "duration": 3099,
    "start_time": "2022-09-11T18:12:07.710Z"
   },
   {
    "duration": 43,
    "start_time": "2022-09-11T18:12:10.811Z"
   },
   {
    "duration": 215,
    "start_time": "2022-09-11T18:12:10.857Z"
   },
   {
    "duration": 7,
    "start_time": "2022-09-11T18:12:12.865Z"
   },
   {
    "duration": 201,
    "start_time": "2022-09-11T18:14:29.240Z"
   },
   {
    "duration": 8,
    "start_time": "2022-09-11T18:14:33.108Z"
   },
   {
    "duration": 2979,
    "start_time": "2022-09-11T18:16:15.931Z"
   },
   {
    "duration": 45,
    "start_time": "2022-09-11T18:16:24.984Z"
   },
   {
    "duration": 235,
    "start_time": "2022-09-11T18:16:41.044Z"
   },
   {
    "duration": 10,
    "start_time": "2022-09-11T18:16:47.163Z"
   },
   {
    "duration": 9,
    "start_time": "2022-09-11T18:18:12.572Z"
   },
   {
    "duration": 3155,
    "start_time": "2022-09-11T18:18:16.118Z"
   },
   {
    "duration": 10,
    "start_time": "2022-09-11T18:18:23.628Z"
   },
   {
    "duration": 3154,
    "start_time": "2022-09-11T18:21:24.509Z"
   },
   {
    "duration": 7,
    "start_time": "2022-09-11T18:21:34.856Z"
   },
   {
    "duration": 49,
    "start_time": "2022-09-11T18:21:40.324Z"
   },
   {
    "duration": 222,
    "start_time": "2022-09-11T18:22:09.699Z"
   },
   {
    "duration": 8,
    "start_time": "2022-09-11T18:22:12.413Z"
   },
   {
    "duration": 473,
    "start_time": "2022-09-11T22:07:13.732Z"
   },
   {
    "duration": 2671,
    "start_time": "2022-09-11T22:07:23.766Z"
   },
   {
    "duration": 8,
    "start_time": "2022-09-11T22:07:26.439Z"
   },
   {
    "duration": 35,
    "start_time": "2022-09-11T22:07:26.449Z"
   },
   {
    "duration": 247,
    "start_time": "2022-09-11T22:07:26.487Z"
   },
   {
    "duration": 6,
    "start_time": "2022-09-11T22:07:26.736Z"
   },
   {
    "duration": 466,
    "start_time": "2022-09-11T22:07:26.863Z"
   },
   {
    "duration": 362,
    "start_time": "2022-09-11T22:07:30.403Z"
   },
   {
    "duration": 566,
    "start_time": "2022-09-11T22:07:34.779Z"
   },
   {
    "duration": 359,
    "start_time": "2022-09-11T22:08:02.629Z"
   },
   {
    "duration": 9,
    "start_time": "2022-09-11T22:10:22.113Z"
   },
   {
    "duration": 9,
    "start_time": "2022-09-11T22:11:26.460Z"
   },
   {
    "duration": 12,
    "start_time": "2022-09-11T22:15:21.520Z"
   },
   {
    "duration": 354,
    "start_time": "2022-09-11T22:19:55.561Z"
   },
   {
    "duration": 351,
    "start_time": "2022-09-11T22:20:19.803Z"
   },
   {
    "duration": 466,
    "start_time": "2022-09-11T22:23:35.737Z"
   },
   {
    "duration": 444,
    "start_time": "2022-09-11T22:24:21.234Z"
   },
   {
    "duration": 442,
    "start_time": "2022-09-11T22:24:34.066Z"
   },
   {
    "duration": 436,
    "start_time": "2022-09-11T22:25:19.753Z"
   },
   {
    "duration": 351,
    "start_time": "2022-09-11T22:27:59.937Z"
   },
   {
    "duration": 359,
    "start_time": "2022-09-11T22:28:09.038Z"
   },
   {
    "duration": 334,
    "start_time": "2022-09-11T22:28:36.606Z"
   },
   {
    "duration": 9,
    "start_time": "2022-09-11T22:28:50.748Z"
   },
   {
    "duration": 2840,
    "start_time": "2022-09-11T22:28:56.620Z"
   },
   {
    "duration": 6,
    "start_time": "2022-09-11T22:28:59.463Z"
   },
   {
    "duration": 49,
    "start_time": "2022-09-11T22:28:59.471Z"
   },
   {
    "duration": 211,
    "start_time": "2022-09-11T22:29:00.402Z"
   },
   {
    "duration": 6,
    "start_time": "2022-09-11T22:29:01.487Z"
   },
   {
    "duration": 467,
    "start_time": "2022-09-11T22:29:07.884Z"
   },
   {
    "duration": 327,
    "start_time": "2022-09-11T22:30:32.721Z"
   },
   {
    "duration": 2785,
    "start_time": "2022-09-11T22:36:28.896Z"
   },
   {
    "duration": 7,
    "start_time": "2022-09-11T22:36:31.683Z"
   },
   {
    "duration": 47,
    "start_time": "2022-09-11T22:36:31.692Z"
   },
   {
    "duration": 207,
    "start_time": "2022-09-11T22:36:32.103Z"
   },
   {
    "duration": 6,
    "start_time": "2022-09-11T22:36:33.233Z"
   },
   {
    "duration": 533,
    "start_time": "2022-09-11T22:36:36.578Z"
   },
   {
    "duration": 53,
    "start_time": "2022-09-11T22:39:34.781Z"
   },
   {
    "duration": 47,
    "start_time": "2022-09-11T22:39:43.052Z"
   },
   {
    "duration": 51,
    "start_time": "2022-09-11T22:39:49.234Z"
   },
   {
    "duration": 49,
    "start_time": "2022-09-11T22:40:17.193Z"
   },
   {
    "duration": 446,
    "start_time": "2022-09-11T22:40:27.748Z"
   },
   {
    "duration": 2690,
    "start_time": "2022-09-11T22:42:18.924Z"
   },
   {
    "duration": 6,
    "start_time": "2022-09-11T22:42:21.616Z"
   },
   {
    "duration": 329,
    "start_time": "2022-09-11T22:42:21.624Z"
   },
   {
    "duration": 219,
    "start_time": "2022-09-11T22:42:21.956Z"
   },
   {
    "duration": 6,
    "start_time": "2022-09-11T22:42:22.177Z"
   },
   {
    "duration": 130,
    "start_time": "2022-09-11T22:42:22.184Z"
   },
   {
    "duration": 0,
    "start_time": "2022-09-11T22:42:22.320Z"
   },
   {
    "duration": 543,
    "start_time": "2022-09-11T22:42:38.272Z"
   },
   {
    "duration": 559,
    "start_time": "2022-09-11T22:43:02.666Z"
   },
   {
    "duration": 533,
    "start_time": "2022-09-11T22:43:40.418Z"
   },
   {
    "duration": 555,
    "start_time": "2022-09-11T22:44:02.601Z"
   },
   {
    "duration": 52,
    "start_time": "2022-09-11T22:48:11.771Z"
   },
   {
    "duration": 52,
    "start_time": "2022-09-11T22:48:20.708Z"
   },
   {
    "duration": 50,
    "start_time": "2022-09-11T22:49:07.513Z"
   },
   {
    "duration": 41,
    "start_time": "2022-09-11T22:49:34.896Z"
   },
   {
    "duration": 2872,
    "start_time": "2022-09-11T22:49:39.886Z"
   },
   {
    "duration": 7,
    "start_time": "2022-09-11T22:49:42.761Z"
   },
   {
    "duration": 52,
    "start_time": "2022-09-11T22:49:42.771Z"
   },
   {
    "duration": 209,
    "start_time": "2022-09-11T22:49:42.826Z"
   },
   {
    "duration": 6,
    "start_time": "2022-09-11T22:49:43.037Z"
   },
   {
    "duration": 53,
    "start_time": "2022-09-11T22:49:43.044Z"
   },
   {
    "duration": 0,
    "start_time": "2022-09-11T22:49:43.099Z"
   },
   {
    "duration": 2552,
    "start_time": "2022-09-11T22:49:59.545Z"
   },
   {
    "duration": 6,
    "start_time": "2022-09-11T22:50:02.099Z"
   },
   {
    "duration": 73,
    "start_time": "2022-09-11T22:50:02.121Z"
   },
   {
    "duration": 238,
    "start_time": "2022-09-11T22:50:02.196Z"
   },
   {
    "duration": 5,
    "start_time": "2022-09-11T22:50:02.436Z"
   },
   {
    "duration": 698,
    "start_time": "2022-09-11T22:50:02.443Z"
   },
   {
    "duration": 2833,
    "start_time": "2022-09-11T22:50:35.210Z"
   },
   {
    "duration": 6,
    "start_time": "2022-09-11T22:50:38.045Z"
   },
   {
    "duration": 34,
    "start_time": "2022-09-11T22:50:38.056Z"
   },
   {
    "duration": 276,
    "start_time": "2022-09-11T22:50:38.838Z"
   },
   {
    "duration": 6,
    "start_time": "2022-09-11T22:50:39.613Z"
   },
   {
    "duration": 648,
    "start_time": "2022-09-11T22:50:40.388Z"
   },
   {
    "duration": 2637,
    "start_time": "2022-09-11T22:51:16.712Z"
   },
   {
    "duration": 7,
    "start_time": "2022-09-11T22:51:19.351Z"
   },
   {
    "duration": 34,
    "start_time": "2022-09-11T22:51:19.360Z"
   },
   {
    "duration": 216,
    "start_time": "2022-09-11T22:51:19.396Z"
   },
   {
    "duration": 10,
    "start_time": "2022-09-11T22:51:19.614Z"
   },
   {
    "duration": 261,
    "start_time": "2022-09-11T22:51:19.626Z"
   },
   {
    "duration": 227,
    "start_time": "2022-09-11T22:51:26.308Z"
   },
   {
    "duration": 2996,
    "start_time": "2022-09-11T22:51:47.578Z"
   },
   {
    "duration": 6,
    "start_time": "2022-09-11T22:51:50.576Z"
   },
   {
    "duration": 34,
    "start_time": "2022-09-11T22:51:50.928Z"
   },
   {
    "duration": 200,
    "start_time": "2022-09-11T22:51:51.847Z"
   },
   {
    "duration": 9,
    "start_time": "2022-09-11T22:51:52.782Z"
   },
   {
    "duration": 241,
    "start_time": "2022-09-11T22:51:53.811Z"
   },
   {
    "duration": 2622,
    "start_time": "2022-09-11T22:53:30.752Z"
   },
   {
    "duration": 179,
    "start_time": "2022-09-11T22:54:01.286Z"
   },
   {
    "duration": 181,
    "start_time": "2022-09-11T22:54:16.509Z"
   },
   {
    "duration": 2622,
    "start_time": "2022-09-11T22:54:51.463Z"
   },
   {
    "duration": 22,
    "start_time": "2022-09-11T22:54:56.115Z"
   },
   {
    "duration": 177,
    "start_time": "2022-09-11T22:55:07.124Z"
   },
   {
    "duration": 173,
    "start_time": "2022-09-11T22:55:31.931Z"
   },
   {
    "duration": 165,
    "start_time": "2022-09-11T22:55:49.460Z"
   },
   {
    "duration": 3043,
    "start_time": "2022-09-11T22:55:54.028Z"
   },
   {
    "duration": 192,
    "start_time": "2022-09-11T22:56:02.711Z"
   },
   {
    "duration": 1102,
    "start_time": "2022-09-11T22:57:11.430Z"
   },
   {
    "duration": 1085,
    "start_time": "2022-09-11T22:58:15.599Z"
   },
   {
    "duration": 1039,
    "start_time": "2022-09-11T22:58:32.211Z"
   },
   {
    "duration": 980,
    "start_time": "2022-09-11T22:58:40.925Z"
   },
   {
    "duration": 1045,
    "start_time": "2022-09-11T22:59:21.714Z"
   },
   {
    "duration": 1025,
    "start_time": "2022-09-11T22:59:39.334Z"
   },
   {
    "duration": 44,
    "start_time": "2022-09-11T23:00:18.668Z"
   },
   {
    "duration": 74,
    "start_time": "2022-09-11T23:00:24.121Z"
   },
   {
    "duration": 54,
    "start_time": "2022-09-11T23:00:33.478Z"
   },
   {
    "duration": 1070,
    "start_time": "2022-09-11T23:00:48.739Z"
   },
   {
    "duration": 1032,
    "start_time": "2022-09-11T23:01:12.209Z"
   },
   {
    "duration": 1733,
    "start_time": "2022-09-11T23:01:21.860Z"
   },
   {
    "duration": 1035,
    "start_time": "2022-09-11T23:01:33.043Z"
   },
   {
    "duration": 2696,
    "start_time": "2022-09-11T23:01:38.339Z"
   },
   {
    "duration": 7,
    "start_time": "2022-09-11T23:01:41.036Z"
   },
   {
    "duration": 51,
    "start_time": "2022-09-11T23:01:41.044Z"
   },
   {
    "duration": 222,
    "start_time": "2022-09-11T23:01:41.098Z"
   },
   {
    "duration": 6,
    "start_time": "2022-09-11T23:01:41.322Z"
   },
   {
    "duration": 239,
    "start_time": "2022-09-11T23:01:41.330Z"
   },
   {
    "duration": 11,
    "start_time": "2022-09-11T23:01:41.570Z"
   },
   {
    "duration": 10,
    "start_time": "2022-09-11T23:01:41.583Z"
   },
   {
    "duration": 13,
    "start_time": "2022-09-11T23:01:41.635Z"
   },
   {
    "duration": 290,
    "start_time": "2022-09-11T23:01:41.980Z"
   },
   {
    "duration": 4,
    "start_time": "2022-09-11T23:01:42.273Z"
   },
   {
    "duration": 1017,
    "start_time": "2022-09-11T23:01:43.033Z"
   },
   {
    "duration": 1018,
    "start_time": "2022-09-11T23:01:47.498Z"
   },
   {
    "duration": 1046,
    "start_time": "2022-09-11T23:02:17.706Z"
   },
   {
    "duration": 1700,
    "start_time": "2022-09-11T23:03:22.772Z"
   },
   {
    "duration": 1057,
    "start_time": "2022-09-11T23:03:36.895Z"
   },
   {
    "duration": 1066,
    "start_time": "2022-09-11T23:04:35.491Z"
   },
   {
    "duration": 1692,
    "start_time": "2022-09-11T23:17:28.222Z"
   },
   {
    "duration": 1622,
    "start_time": "2022-09-11T23:17:54.707Z"
   },
   {
    "duration": 2519,
    "start_time": "2022-09-11T23:18:51.077Z"
   },
   {
    "duration": 3226,
    "start_time": "2022-09-11T23:18:57.746Z"
   },
   {
    "duration": 2459,
    "start_time": "2022-09-11T23:19:48.368Z"
   },
   {
    "duration": 2603,
    "start_time": "2022-09-11T23:21:00.237Z"
   },
   {
    "duration": 2542,
    "start_time": "2022-09-11T23:21:53.882Z"
   },
   {
    "duration": 3229,
    "start_time": "2022-09-11T23:22:21.841Z"
   },
   {
    "duration": 2436,
    "start_time": "2022-09-11T23:22:31.271Z"
   },
   {
    "duration": 2401,
    "start_time": "2022-09-11T23:23:28.607Z"
   },
   {
    "duration": 2431,
    "start_time": "2022-09-11T23:23:56.927Z"
   },
   {
    "duration": 3146,
    "start_time": "2022-09-11T23:24:14.388Z"
   },
   {
    "duration": 2453,
    "start_time": "2022-09-11T23:25:18.826Z"
   },
   {
    "duration": 1655,
    "start_time": "2022-09-11T23:28:12.316Z"
   },
   {
    "duration": 1865,
    "start_time": "2022-09-11T23:29:59.515Z"
   },
   {
    "duration": 1729,
    "start_time": "2022-09-11T23:30:17.565Z"
   },
   {
    "duration": 3245,
    "start_time": "2022-09-11T23:31:52.906Z"
   },
   {
    "duration": 17134,
    "start_time": "2022-09-11T23:32:53.318Z"
   },
   {
    "duration": 16683,
    "start_time": "2022-09-11T23:33:16.695Z"
   },
   {
    "duration": 2444,
    "start_time": "2022-09-11T23:34:12.199Z"
   },
   {
    "duration": 2392,
    "start_time": "2022-09-11T23:37:10.995Z"
   },
   {
    "duration": 2476,
    "start_time": "2022-09-11T23:38:27.868Z"
   },
   {
    "duration": 2412,
    "start_time": "2022-09-11T23:38:49.817Z"
   },
   {
    "duration": 3434,
    "start_time": "2022-09-11T23:39:11.152Z"
   },
   {
    "duration": 2571,
    "start_time": "2022-09-11T23:41:06.894Z"
   },
   {
    "duration": 2687,
    "start_time": "2022-09-11T23:41:57.268Z"
   },
   {
    "duration": 226,
    "start_time": "2022-09-11T23:44:19.956Z"
   },
   {
    "duration": 2704,
    "start_time": "2022-09-11T23:44:26.984Z"
   },
   {
    "duration": 177,
    "start_time": "2022-09-11T23:44:46.838Z"
   },
   {
    "duration": 54,
    "start_time": "2022-09-11T23:46:08.902Z"
   },
   {
    "duration": 164,
    "start_time": "2022-09-11T23:46:19.212Z"
   },
   {
    "duration": 2610,
    "start_time": "2022-09-11T23:46:28.461Z"
   },
   {
    "duration": 7,
    "start_time": "2022-09-11T23:46:31.074Z"
   },
   {
    "duration": 50,
    "start_time": "2022-09-11T23:46:31.084Z"
   },
   {
    "duration": 208,
    "start_time": "2022-09-11T23:46:31.798Z"
   },
   {
    "duration": 7,
    "start_time": "2022-09-11T23:46:32.521Z"
   },
   {
    "duration": 232,
    "start_time": "2022-09-11T23:46:33.459Z"
   },
   {
    "duration": 230,
    "start_time": "2022-09-11T23:47:56.182Z"
   },
   {
    "duration": 3476,
    "start_time": "2022-09-11T23:48:03.650Z"
   },
   {
    "duration": 7,
    "start_time": "2022-09-11T23:48:07.128Z"
   },
   {
    "duration": 52,
    "start_time": "2022-09-11T23:48:07.136Z"
   },
   {
    "duration": 213,
    "start_time": "2022-09-11T23:48:07.190Z"
   },
   {
    "duration": 6,
    "start_time": "2022-09-11T23:48:07.405Z"
   },
   {
    "duration": 291,
    "start_time": "2022-09-11T23:48:07.412Z"
   },
   {
    "duration": 0,
    "start_time": "2022-09-11T23:48:07.705Z"
   },
   {
    "duration": 18,
    "start_time": "2022-09-11T23:48:20.603Z"
   },
   {
    "duration": 18,
    "start_time": "2022-09-11T23:48:22.246Z"
   },
   {
    "duration": 2522,
    "start_time": "2022-09-11T23:48:26.046Z"
   },
   {
    "duration": 7,
    "start_time": "2022-09-11T23:48:28.570Z"
   },
   {
    "duration": 50,
    "start_time": "2022-09-11T23:48:28.578Z"
   },
   {
    "duration": 211,
    "start_time": "2022-09-11T23:48:28.631Z"
   },
   {
    "duration": 9,
    "start_time": "2022-09-11T23:48:28.844Z"
   },
   {
    "duration": 279,
    "start_time": "2022-09-11T23:48:28.855Z"
   },
   {
    "duration": 234,
    "start_time": "2022-09-11T23:50:06.277Z"
   },
   {
    "duration": 2572,
    "start_time": "2022-09-11T23:50:21.490Z"
   },
   {
    "duration": 7,
    "start_time": "2022-09-11T23:50:24.064Z"
   },
   {
    "duration": 50,
    "start_time": "2022-09-11T23:50:24.073Z"
   },
   {
    "duration": 217,
    "start_time": "2022-09-11T23:50:24.126Z"
   },
   {
    "duration": 7,
    "start_time": "2022-09-11T23:50:24.345Z"
   },
   {
    "duration": 246,
    "start_time": "2022-09-11T23:50:24.353Z"
   },
   {
    "duration": 232,
    "start_time": "2022-09-11T23:50:47.540Z"
   },
   {
    "duration": 2582,
    "start_time": "2022-09-11T23:50:54.307Z"
   },
   {
    "duration": 9,
    "start_time": "2022-09-11T23:50:56.891Z"
   },
   {
    "duration": 45,
    "start_time": "2022-09-11T23:50:56.902Z"
   },
   {
    "duration": 218,
    "start_time": "2022-09-11T23:50:56.949Z"
   },
   {
    "duration": 6,
    "start_time": "2022-09-11T23:50:57.168Z"
   },
   {
    "duration": 3359,
    "start_time": "2022-09-11T23:51:02.600Z"
   },
   {
    "duration": 6,
    "start_time": "2022-09-11T23:51:05.962Z"
   },
   {
    "duration": 50,
    "start_time": "2022-09-11T23:51:05.970Z"
   },
   {
    "duration": 212,
    "start_time": "2022-09-11T23:51:06.022Z"
   },
   {
    "duration": 6,
    "start_time": "2022-09-11T23:51:06.236Z"
   },
   {
    "duration": 241,
    "start_time": "2022-09-11T23:51:06.243Z"
   },
   {
    "duration": 10,
    "start_time": "2022-09-11T23:51:06.486Z"
   },
   {
    "duration": 10,
    "start_time": "2022-09-11T23:52:19.435Z"
   },
   {
    "duration": 10,
    "start_time": "2022-09-11T23:52:54.372Z"
   },
   {
    "duration": 9,
    "start_time": "2022-09-11T23:53:29.110Z"
   },
   {
    "duration": 10,
    "start_time": "2022-09-11T23:53:50.425Z"
   },
   {
    "duration": 9,
    "start_time": "2022-09-11T23:54:05.042Z"
   },
   {
    "duration": 9,
    "start_time": "2022-09-11T23:54:25.707Z"
   },
   {
    "duration": 2362,
    "start_time": "2022-09-11T23:56:49.976Z"
   },
   {
    "duration": 287,
    "start_time": "2022-09-11T23:57:34.213Z"
   },
   {
    "duration": 4,
    "start_time": "2022-09-11T23:57:34.515Z"
   },
   {
    "duration": 2487,
    "start_time": "2022-09-11T23:57:34.899Z"
   },
   {
    "duration": 2597,
    "start_time": "2022-09-11T23:57:47.654Z"
   },
   {
    "duration": 7,
    "start_time": "2022-09-11T23:57:50.253Z"
   },
   {
    "duration": 39,
    "start_time": "2022-09-11T23:57:50.262Z"
   },
   {
    "duration": 217,
    "start_time": "2022-09-11T23:57:50.303Z"
   },
   {
    "duration": 6,
    "start_time": "2022-09-11T23:57:50.522Z"
   },
   {
    "duration": 245,
    "start_time": "2022-09-11T23:57:50.529Z"
   },
   {
    "duration": 10,
    "start_time": "2022-09-11T23:57:50.776Z"
   },
   {
    "duration": 4,
    "start_time": "2022-09-11T23:57:50.788Z"
   },
   {
    "duration": 29,
    "start_time": "2022-09-11T23:57:50.793Z"
   },
   {
    "duration": 294,
    "start_time": "2022-09-11T23:57:50.824Z"
   },
   {
    "duration": 4,
    "start_time": "2022-09-11T23:57:51.121Z"
   },
   {
    "duration": 2798,
    "start_time": "2022-09-11T23:57:51.126Z"
   },
   {
    "duration": 2819,
    "start_time": "2022-09-12T00:00:14.490Z"
   },
   {
    "duration": 1416,
    "start_time": "2022-09-12T00:04:20.789Z"
   },
   {
    "duration": 409,
    "start_time": "2022-09-12T00:07:47.305Z"
   },
   {
    "duration": 407,
    "start_time": "2022-09-12T00:07:57.117Z"
   },
   {
    "duration": 413,
    "start_time": "2022-09-12T00:11:02.803Z"
   },
   {
    "duration": 12,
    "start_time": "2022-09-12T00:15:37.175Z"
   },
   {
    "duration": 154,
    "start_time": "2022-09-12T00:19:21.681Z"
   },
   {
    "duration": 171,
    "start_time": "2022-09-12T00:21:26.026Z"
   },
   {
    "duration": 157,
    "start_time": "2022-09-12T00:26:12.209Z"
   },
   {
    "duration": 148,
    "start_time": "2022-09-12T00:26:13.459Z"
   },
   {
    "duration": 442,
    "start_time": "2022-09-12T00:26:20.380Z"
   },
   {
    "duration": 166,
    "start_time": "2022-09-12T00:26:40.546Z"
   },
   {
    "duration": 164,
    "start_time": "2022-09-12T00:26:45.608Z"
   },
   {
    "duration": 155,
    "start_time": "2022-09-12T00:26:48.126Z"
   },
   {
    "duration": 153,
    "start_time": "2022-09-12T00:35:45.708Z"
   },
   {
    "duration": 157,
    "start_time": "2022-09-12T00:36:02.690Z"
   },
   {
    "duration": 295,
    "start_time": "2022-09-12T00:36:10.454Z"
   },
   {
    "duration": 339,
    "start_time": "2022-09-12T00:37:09.633Z"
   },
   {
    "duration": 116,
    "start_time": "2022-09-12T00:39:46.803Z"
   },
   {
    "duration": 0,
    "start_time": "2022-09-12T00:42:36.342Z"
   },
   {
    "duration": 373,
    "start_time": "2022-09-12T00:42:38.001Z"
   },
   {
    "duration": 241,
    "start_time": "2022-09-12T00:44:32.493Z"
   },
   {
    "duration": 28,
    "start_time": "2022-09-12T00:44:57.629Z"
   },
   {
    "duration": 6,
    "start_time": "2022-09-12T00:45:13.712Z"
   },
   {
    "duration": 6,
    "start_time": "2022-09-12T00:45:16.877Z"
   },
   {
    "duration": 21,
    "start_time": "2022-09-12T00:45:22.161Z"
   },
   {
    "duration": 251,
    "start_time": "2022-09-12T00:45:44.739Z"
   },
   {
    "duration": 114,
    "start_time": "2022-09-12T00:46:23.412Z"
   },
   {
    "duration": 119,
    "start_time": "2022-09-12T00:46:26.538Z"
   },
   {
    "duration": 2547,
    "start_time": "2022-09-12T00:46:32.779Z"
   },
   {
    "duration": 7,
    "start_time": "2022-09-12T00:46:35.328Z"
   },
   {
    "duration": 39,
    "start_time": "2022-09-12T00:46:35.336Z"
   },
   {
    "duration": 221,
    "start_time": "2022-09-12T00:46:35.377Z"
   },
   {
    "duration": 6,
    "start_time": "2022-09-12T00:46:35.600Z"
   },
   {
    "duration": 244,
    "start_time": "2022-09-12T00:46:35.607Z"
   },
   {
    "duration": 11,
    "start_time": "2022-09-12T00:46:35.852Z"
   },
   {
    "duration": 10,
    "start_time": "2022-09-12T00:46:35.865Z"
   },
   {
    "duration": 17,
    "start_time": "2022-09-12T00:46:35.876Z"
   },
   {
    "duration": 302,
    "start_time": "2022-09-12T00:46:35.895Z"
   },
   {
    "duration": 5,
    "start_time": "2022-09-12T00:46:36.199Z"
   },
   {
    "duration": 2817,
    "start_time": "2022-09-12T00:46:36.206Z"
   },
   {
    "duration": 404,
    "start_time": "2022-09-12T00:46:39.024Z"
   },
   {
    "duration": 11,
    "start_time": "2022-09-12T00:46:39.430Z"
   },
   {
    "duration": 164,
    "start_time": "2022-09-12T00:46:39.443Z"
   },
   {
    "duration": 180,
    "start_time": "2022-09-12T00:46:39.609Z"
   },
   {
    "duration": 163,
    "start_time": "2022-09-12T00:46:39.791Z"
   },
   {
    "duration": 165,
    "start_time": "2022-09-12T00:46:39.955Z"
   },
   {
    "duration": 120,
    "start_time": "2022-09-12T00:46:40.122Z"
   },
   {
    "duration": 12,
    "start_time": "2022-09-12T00:55:30.585Z"
   },
   {
    "duration": 204,
    "start_time": "2022-09-12T00:55:48.786Z"
   },
   {
    "duration": 174,
    "start_time": "2022-09-12T00:59:01.089Z"
   },
   {
    "duration": 161,
    "start_time": "2022-09-12T00:59:12.854Z"
   },
   {
    "duration": 25,
    "start_time": "2022-09-12T01:14:20.662Z"
   },
   {
    "duration": 25,
    "start_time": "2022-09-12T01:23:18.129Z"
   },
   {
    "duration": 179,
    "start_time": "2022-09-12T01:23:30.129Z"
   },
   {
    "duration": 142,
    "start_time": "2022-09-12T01:24:35.706Z"
   },
   {
    "duration": 183,
    "start_time": "2022-09-12T01:24:52.528Z"
   },
   {
    "duration": 215,
    "start_time": "2022-09-12T01:35:21.620Z"
   },
   {
    "duration": 187,
    "start_time": "2022-09-12T01:36:26.588Z"
   },
   {
    "duration": 195,
    "start_time": "2022-09-12T01:36:31.811Z"
   },
   {
    "duration": 200,
    "start_time": "2022-09-12T01:36:41.426Z"
   },
   {
    "duration": 201,
    "start_time": "2022-09-12T01:38:47.457Z"
   },
   {
    "duration": 183,
    "start_time": "2022-09-12T01:39:19.637Z"
   },
   {
    "duration": 5,
    "start_time": "2022-09-12T01:40:09.139Z"
   },
   {
    "duration": 169,
    "start_time": "2022-09-12T01:40:19.948Z"
   },
   {
    "duration": 158,
    "start_time": "2022-09-12T01:40:59.855Z"
   },
   {
    "duration": 28,
    "start_time": "2022-09-12T01:57:58.092Z"
   },
   {
    "duration": 2563,
    "start_time": "2022-09-12T02:00:18.618Z"
   },
   {
    "duration": 6,
    "start_time": "2022-09-12T02:00:21.183Z"
   },
   {
    "duration": 48,
    "start_time": "2022-09-12T02:00:21.190Z"
   },
   {
    "duration": 199,
    "start_time": "2022-09-12T02:00:21.241Z"
   },
   {
    "duration": 6,
    "start_time": "2022-09-12T02:00:21.441Z"
   },
   {
    "duration": 254,
    "start_time": "2022-09-12T02:00:21.448Z"
   },
   {
    "duration": 17,
    "start_time": "2022-09-12T02:00:21.703Z"
   },
   {
    "duration": 4,
    "start_time": "2022-09-12T02:00:21.722Z"
   },
   {
    "duration": 17,
    "start_time": "2022-09-12T02:00:21.727Z"
   },
   {
    "duration": 296,
    "start_time": "2022-09-12T02:00:21.746Z"
   },
   {
    "duration": 5,
    "start_time": "2022-09-12T02:00:22.044Z"
   },
   {
    "duration": 2773,
    "start_time": "2022-09-12T02:00:22.051Z"
   },
   {
    "duration": 404,
    "start_time": "2022-09-12T02:00:24.826Z"
   },
   {
    "duration": 11,
    "start_time": "2022-09-12T02:00:25.232Z"
   },
   {
    "duration": 163,
    "start_time": "2022-09-12T02:00:25.245Z"
   },
   {
    "duration": 181,
    "start_time": "2022-09-12T02:00:25.410Z"
   },
   {
    "duration": 167,
    "start_time": "2022-09-12T02:00:25.592Z"
   },
   {
    "duration": 166,
    "start_time": "2022-09-12T02:00:25.760Z"
   },
   {
    "duration": 137,
    "start_time": "2022-09-12T02:00:25.929Z"
   },
   {
    "duration": 189,
    "start_time": "2022-09-12T02:00:26.068Z"
   },
   {
    "duration": 179,
    "start_time": "2022-09-12T02:00:26.259Z"
   },
   {
    "duration": 178,
    "start_time": "2022-09-12T02:00:26.440Z"
   },
   {
    "duration": 26,
    "start_time": "2022-09-12T02:00:26.621Z"
   },
   {
    "duration": 175,
    "start_time": "2022-09-12T02:00:26.648Z"
   },
   {
    "duration": 2535,
    "start_time": "2022-09-12T02:01:22.247Z"
   },
   {
    "duration": 6,
    "start_time": "2022-09-12T02:01:24.784Z"
   },
   {
    "duration": 210,
    "start_time": "2022-09-12T02:01:25.738Z"
   },
   {
    "duration": 176,
    "start_time": "2022-09-12T02:01:29.667Z"
   },
   {
    "duration": 177,
    "start_time": "2022-09-12T02:01:42.224Z"
   },
   {
    "duration": 195,
    "start_time": "2022-09-12T02:01:50.136Z"
   },
   {
    "duration": 2495,
    "start_time": "2022-09-12T02:02:58.286Z"
   },
   {
    "duration": 6262,
    "start_time": "2022-09-12T02:03:08.053Z"
   },
   {
    "duration": 6,
    "start_time": "2022-09-12T02:03:14.321Z"
   },
   {
    "duration": 36,
    "start_time": "2022-09-12T02:03:14.329Z"
   },
   {
    "duration": 221,
    "start_time": "2022-09-12T02:03:14.367Z"
   },
   {
    "duration": 6,
    "start_time": "2022-09-12T02:03:14.590Z"
   },
   {
    "duration": 233,
    "start_time": "2022-09-12T02:03:14.597Z"
   },
   {
    "duration": 11,
    "start_time": "2022-09-12T02:03:14.831Z"
   },
   {
    "duration": 15,
    "start_time": "2022-09-12T02:03:14.844Z"
   },
   {
    "duration": 18,
    "start_time": "2022-09-12T02:03:14.861Z"
   },
   {
    "duration": 284,
    "start_time": "2022-09-12T02:03:14.882Z"
   },
   {
    "duration": 5,
    "start_time": "2022-09-12T02:03:15.168Z"
   },
   {
    "duration": 2773,
    "start_time": "2022-09-12T02:03:15.175Z"
   },
   {
    "duration": 2765,
    "start_time": "2022-09-12T02:04:05.249Z"
   },
   {
    "duration": 2723,
    "start_time": "2022-09-12T02:04:50.247Z"
   },
   {
    "duration": 3725,
    "start_time": "2022-09-12T14:54:01.808Z"
   },
   {
    "duration": 8,
    "start_time": "2022-09-12T14:54:05.536Z"
   },
   {
    "duration": 64,
    "start_time": "2022-09-12T14:54:05.546Z"
   },
   {
    "duration": 226,
    "start_time": "2022-09-12T14:54:05.612Z"
   },
   {
    "duration": 6,
    "start_time": "2022-09-12T14:54:05.839Z"
   },
   {
    "duration": 261,
    "start_time": "2022-09-12T14:54:05.847Z"
   },
   {
    "duration": 12,
    "start_time": "2022-09-12T14:54:06.110Z"
   },
   {
    "duration": 9,
    "start_time": "2022-09-12T14:54:06.123Z"
   },
   {
    "duration": 17,
    "start_time": "2022-09-12T14:54:06.134Z"
   },
   {
    "duration": 391,
    "start_time": "2022-09-12T14:54:06.154Z"
   },
   {
    "duration": 6,
    "start_time": "2022-09-12T14:54:06.547Z"
   },
   {
    "duration": 3006,
    "start_time": "2022-09-12T14:54:06.554Z"
   },
   {
    "duration": 423,
    "start_time": "2022-09-12T14:54:09.562Z"
   },
   {
    "duration": 16,
    "start_time": "2022-09-12T14:54:09.989Z"
   },
   {
    "duration": 188,
    "start_time": "2022-09-12T14:54:10.008Z"
   },
   {
    "duration": 189,
    "start_time": "2022-09-12T14:54:10.198Z"
   },
   {
    "duration": 176,
    "start_time": "2022-09-12T14:54:10.388Z"
   },
   {
    "duration": 178,
    "start_time": "2022-09-12T14:54:10.566Z"
   },
   {
    "duration": 168,
    "start_time": "2022-09-12T14:54:10.746Z"
   },
   {
    "duration": 287,
    "start_time": "2022-09-12T14:54:10.916Z"
   },
   {
    "duration": 198,
    "start_time": "2022-09-12T14:54:11.205Z"
   },
   {
    "duration": 190,
    "start_time": "2022-09-12T14:54:11.405Z"
   },
   {
    "duration": 39,
    "start_time": "2022-09-12T14:54:11.597Z"
   },
   {
    "duration": 214,
    "start_time": "2022-09-12T14:54:11.638Z"
   },
   {
    "duration": 3350,
    "start_time": "2022-09-12T15:29:03.835Z"
   },
   {
    "duration": 7,
    "start_time": "2022-09-12T15:29:07.187Z"
   },
   {
    "duration": 60,
    "start_time": "2022-09-12T15:29:07.195Z"
   },
   {
    "duration": 221,
    "start_time": "2022-09-12T15:29:07.257Z"
   },
   {
    "duration": 9,
    "start_time": "2022-09-12T15:29:07.481Z"
   },
   {
    "duration": 234,
    "start_time": "2022-09-12T15:29:07.493Z"
   },
   {
    "duration": 11,
    "start_time": "2022-09-12T15:29:07.729Z"
   },
   {
    "duration": 5,
    "start_time": "2022-09-12T15:29:07.743Z"
   },
   {
    "duration": 39,
    "start_time": "2022-09-12T15:29:07.750Z"
   },
   {
    "duration": 365,
    "start_time": "2022-09-12T15:29:07.791Z"
   },
   {
    "duration": 7,
    "start_time": "2022-09-12T15:29:08.158Z"
   },
   {
    "duration": 2892,
    "start_time": "2022-09-12T15:29:08.167Z"
   },
   {
    "duration": 440,
    "start_time": "2022-09-12T15:29:11.060Z"
   },
   {
    "duration": 12,
    "start_time": "2022-09-12T15:29:11.503Z"
   },
   {
    "duration": 190,
    "start_time": "2022-09-12T15:29:11.517Z"
   },
   {
    "duration": 228,
    "start_time": "2022-09-12T15:29:11.709Z"
   },
   {
    "duration": 185,
    "start_time": "2022-09-12T15:29:11.939Z"
   },
   {
    "duration": 176,
    "start_time": "2022-09-12T15:29:12.127Z"
   },
   {
    "duration": 133,
    "start_time": "2022-09-12T15:29:12.305Z"
   },
   {
    "duration": 180,
    "start_time": "2022-09-12T15:29:12.440Z"
   },
   {
    "duration": 198,
    "start_time": "2022-09-12T15:29:12.623Z"
   },
   {
    "duration": 175,
    "start_time": "2022-09-12T15:29:12.823Z"
   },
   {
    "duration": 28,
    "start_time": "2022-09-12T15:29:13.000Z"
   },
   {
    "duration": 340,
    "start_time": "2022-09-12T15:29:13.030Z"
   },
   {
    "duration": 133,
    "start_time": "2022-09-12T16:03:09.245Z"
   },
   {
    "duration": 72,
    "start_time": "2022-09-12T16:03:11.888Z"
   },
   {
    "duration": 3194,
    "start_time": "2022-09-12T16:03:29.642Z"
   },
   {
    "duration": 6,
    "start_time": "2022-09-12T16:03:32.838Z"
   },
   {
    "duration": 37,
    "start_time": "2022-09-12T16:03:32.846Z"
   },
   {
    "duration": 214,
    "start_time": "2022-09-12T16:03:32.885Z"
   },
   {
    "duration": 108,
    "start_time": "2022-09-12T16:03:36.825Z"
   },
   {
    "duration": 4,
    "start_time": "2022-09-12T16:08:48.638Z"
   },
   {
    "duration": 6,
    "start_time": "2022-09-12T16:09:03.376Z"
   },
   {
    "duration": 2286,
    "start_time": "2022-09-12T16:09:14.659Z"
   },
   {
    "duration": 78,
    "start_time": "2022-09-12T16:09:20.045Z"
   },
   {
    "duration": 8,
    "start_time": "2022-09-12T16:14:35.346Z"
   },
   {
    "duration": 8,
    "start_time": "2022-09-12T16:15:19.073Z"
   },
   {
    "duration": 10,
    "start_time": "2022-09-12T16:15:25.743Z"
   },
   {
    "duration": 7,
    "start_time": "2022-09-12T16:16:12.246Z"
   },
   {
    "duration": 5,
    "start_time": "2022-09-12T16:16:48.171Z"
   },
   {
    "duration": 7,
    "start_time": "2022-09-12T16:17:04.494Z"
   },
   {
    "duration": 15,
    "start_time": "2022-09-12T16:17:19.982Z"
   },
   {
    "duration": 2486,
    "start_time": "2022-09-12T16:17:32.843Z"
   },
   {
    "duration": 7,
    "start_time": "2022-09-12T16:17:41.015Z"
   },
   {
    "duration": 12,
    "start_time": "2022-09-12T16:17:41.731Z"
   },
   {
    "duration": 6,
    "start_time": "2022-09-12T16:17:42.662Z"
   },
   {
    "duration": 5,
    "start_time": "2022-09-12T16:17:43.887Z"
   },
   {
    "duration": 8,
    "start_time": "2022-09-12T16:17:44.375Z"
   },
   {
    "duration": 15,
    "start_time": "2022-09-12T16:17:46.624Z"
   },
   {
    "duration": 177,
    "start_time": "2022-09-12T16:17:53.034Z"
   },
   {
    "duration": 5,
    "start_time": "2022-09-12T16:17:56.675Z"
   },
   {
    "duration": 201,
    "start_time": "2022-09-12T16:17:58.667Z"
   },
   {
    "duration": 14,
    "start_time": "2022-09-12T16:18:02.894Z"
   },
   {
    "duration": 4,
    "start_time": "2022-09-12T16:18:16.111Z"
   },
   {
    "duration": 16,
    "start_time": "2022-09-12T16:18:16.597Z"
   },
   {
    "duration": 299,
    "start_time": "2022-09-12T16:18:17.183Z"
   },
   {
    "duration": 5,
    "start_time": "2022-09-12T16:18:19.193Z"
   },
   {
    "duration": 2682,
    "start_time": "2022-09-12T16:18:29.598Z"
   },
   {
    "duration": 375,
    "start_time": "2022-09-12T16:18:44.059Z"
   },
   {
    "duration": 412,
    "start_time": "2022-09-12T16:20:07.378Z"
   },
   {
    "duration": 351,
    "start_time": "2022-09-12T16:20:29.137Z"
   },
   {
    "duration": 3046,
    "start_time": "2022-09-12T16:23:39.251Z"
   },
   {
    "duration": 8,
    "start_time": "2022-09-12T16:23:47.712Z"
   },
   {
    "duration": 14,
    "start_time": "2022-09-12T16:23:48.323Z"
   },
   {
    "duration": 8,
    "start_time": "2022-09-12T16:23:48.984Z"
   },
   {
    "duration": 5,
    "start_time": "2022-09-12T16:23:50.198Z"
   },
   {
    "duration": 12,
    "start_time": "2022-09-12T16:23:51.109Z"
   },
   {
    "duration": 16,
    "start_time": "2022-09-12T16:23:52.312Z"
   },
   {
    "duration": 254,
    "start_time": "2022-09-12T16:23:56.679Z"
   },
   {
    "duration": 6,
    "start_time": "2022-09-12T16:23:59.988Z"
   },
   {
    "duration": 448,
    "start_time": "2022-09-12T16:24:03.105Z"
   },
   {
    "duration": 13,
    "start_time": "2022-09-12T16:24:16.837Z"
   },
   {
    "duration": 6,
    "start_time": "2022-09-12T16:24:29.126Z"
   },
   {
    "duration": 15,
    "start_time": "2022-09-12T16:24:29.598Z"
   },
   {
    "duration": 307,
    "start_time": "2022-09-12T16:24:30.087Z"
   },
   {
    "duration": 6,
    "start_time": "2022-09-12T16:24:30.754Z"
   },
   {
    "duration": 3468,
    "start_time": "2022-09-12T16:24:38.832Z"
   },
   {
    "duration": 584,
    "start_time": "2022-09-12T16:24:46.453Z"
   },
   {
    "duration": 380,
    "start_time": "2022-09-12T16:26:42.504Z"
   },
   {
    "duration": 360,
    "start_time": "2022-09-12T16:26:59.759Z"
   },
   {
    "duration": 382,
    "start_time": "2022-09-12T16:29:09.877Z"
   },
   {
    "duration": 380,
    "start_time": "2022-09-12T16:29:19.190Z"
   },
   {
    "duration": 2509,
    "start_time": "2022-09-12T17:02:51.158Z"
   },
   {
    "duration": 9,
    "start_time": "2022-09-12T17:02:58.089Z"
   },
   {
    "duration": 9,
    "start_time": "2022-09-12T17:02:58.842Z"
   },
   {
    "duration": 8,
    "start_time": "2022-09-12T17:02:59.297Z"
   },
   {
    "duration": 4,
    "start_time": "2022-09-12T17:03:00.395Z"
   },
   {
    "duration": 8,
    "start_time": "2022-09-12T17:03:01.007Z"
   },
   {
    "duration": 18,
    "start_time": "2022-09-12T17:03:01.704Z"
   },
   {
    "duration": 6866,
    "start_time": "2022-09-12T17:03:05.895Z"
   },
   {
    "duration": 6168,
    "start_time": "2022-09-12T17:03:39.426Z"
   },
   {
    "duration": 6250,
    "start_time": "2022-09-12T17:03:59.556Z"
   },
   {
    "duration": 11,
    "start_time": "2022-09-12T17:05:59.742Z"
   },
   {
    "duration": 16,
    "start_time": "2022-09-12T17:08:29.187Z"
   },
   {
    "duration": 184,
    "start_time": "2022-09-12T17:09:40.803Z"
   },
   {
    "duration": 11,
    "start_time": "2022-09-12T17:09:48.002Z"
   },
   {
    "duration": 8,
    "start_time": "2022-09-12T17:09:50.527Z"
   },
   {
    "duration": 9,
    "start_time": "2022-09-12T17:10:07.770Z"
   },
   {
    "duration": 12,
    "start_time": "2022-09-12T17:11:02.530Z"
   },
   {
    "duration": 2515,
    "start_time": "2022-09-12T17:11:09.801Z"
   },
   {
    "duration": 9,
    "start_time": "2022-09-12T17:11:15.768Z"
   },
   {
    "duration": 12,
    "start_time": "2022-09-12T17:11:37.319Z"
   },
   {
    "duration": 8,
    "start_time": "2022-09-12T17:11:39.857Z"
   },
   {
    "duration": 8,
    "start_time": "2022-09-12T17:12:45.287Z"
   },
   {
    "duration": 8,
    "start_time": "2022-09-12T17:12:46.965Z"
   },
   {
    "duration": 17,
    "start_time": "2022-09-12T17:13:04.986Z"
   },
   {
    "duration": 27,
    "start_time": "2022-09-12T17:13:06.798Z"
   },
   {
    "duration": 22,
    "start_time": "2022-09-12T17:13:18.393Z"
   },
   {
    "duration": 18,
    "start_time": "2022-09-12T17:13:39.130Z"
   },
   {
    "duration": 87,
    "start_time": "2022-09-12T17:13:50.771Z"
   },
   {
    "duration": 22,
    "start_time": "2022-09-12T17:13:58.728Z"
   },
   {
    "duration": 15,
    "start_time": "2022-09-12T17:14:32.304Z"
   },
   {
    "duration": 8,
    "start_time": "2022-09-12T17:14:38.573Z"
   },
   {
    "duration": 10,
    "start_time": "2022-09-12T17:14:40.149Z"
   },
   {
    "duration": 11,
    "start_time": "2022-09-12T17:14:44.216Z"
   },
   {
    "duration": 10,
    "start_time": "2022-09-12T17:15:00.874Z"
   },
   {
    "duration": 11,
    "start_time": "2022-09-12T17:15:21.762Z"
   },
   {
    "duration": 52,
    "start_time": "2022-09-12T17:18:21.356Z"
   },
   {
    "duration": 160,
    "start_time": "2022-09-12T17:19:52.574Z"
   },
   {
    "duration": 23,
    "start_time": "2022-09-12T17:25:19.807Z"
   },
   {
    "duration": 2252,
    "start_time": "2022-09-12T17:25:45.276Z"
   },
   {
    "duration": 11,
    "start_time": "2022-09-12T17:25:50.312Z"
   },
   {
    "duration": 9,
    "start_time": "2022-09-12T17:25:50.759Z"
   },
   {
    "duration": 6,
    "start_time": "2022-09-12T17:25:51.142Z"
   },
   {
    "duration": 4,
    "start_time": "2022-09-12T17:25:51.439Z"
   },
   {
    "duration": 7,
    "start_time": "2022-09-12T17:25:51.924Z"
   },
   {
    "duration": 14,
    "start_time": "2022-09-12T17:25:52.433Z"
   },
   {
    "duration": 192,
    "start_time": "2022-09-12T17:25:55.475Z"
   },
   {
    "duration": 6,
    "start_time": "2022-09-12T17:25:59.985Z"
   },
   {
    "duration": 7,
    "start_time": "2022-09-12T17:26:12.055Z"
   },
   {
    "duration": 2507,
    "start_time": "2022-09-12T17:26:41.617Z"
   },
   {
    "duration": 5,
    "start_time": "2022-09-12T17:26:44.126Z"
   },
   {
    "duration": 27,
    "start_time": "2022-09-12T17:26:44.133Z"
   },
   {
    "duration": 187,
    "start_time": "2022-09-12T17:26:50.141Z"
   },
   {
    "duration": 8,
    "start_time": "2022-09-12T17:26:54.990Z"
   },
   {
    "duration": 2246,
    "start_time": "2022-09-12T17:28:44.722Z"
   },
   {
    "duration": 6,
    "start_time": "2022-09-12T17:28:46.970Z"
   },
   {
    "duration": 7,
    "start_time": "2022-09-12T17:28:49.723Z"
   },
   {
    "duration": 9,
    "start_time": "2022-09-12T17:28:51.080Z"
   },
   {
    "duration": 29,
    "start_time": "2022-09-12T17:28:59.279Z"
   },
   {
    "duration": 11,
    "start_time": "2022-09-12T17:30:41.823Z"
   },
   {
    "duration": 20,
    "start_time": "2022-09-12T17:30:54.188Z"
   },
   {
    "duration": 37,
    "start_time": "2022-09-12T17:31:09.184Z"
   },
   {
    "duration": 52,
    "start_time": "2022-09-12T17:31:40.326Z"
   },
   {
    "duration": 40,
    "start_time": "2022-09-12T17:31:43.217Z"
   },
   {
    "duration": 2503,
    "start_time": "2022-09-12T17:31:48.832Z"
   },
   {
    "duration": 30,
    "start_time": "2022-09-12T17:31:55.644Z"
   },
   {
    "duration": 179,
    "start_time": "2022-09-12T17:32:02.869Z"
   },
   {
    "duration": 56,
    "start_time": "2022-09-12T17:32:07.857Z"
   },
   {
    "duration": 13,
    "start_time": "2022-09-12T17:32:29.133Z"
   },
   {
    "duration": 6,
    "start_time": "2022-09-12T17:32:32.822Z"
   },
   {
    "duration": 9,
    "start_time": "2022-09-12T17:32:38.237Z"
   },
   {
    "duration": 2294,
    "start_time": "2022-09-12T17:32:44.021Z"
   },
   {
    "duration": 6,
    "start_time": "2022-09-12T17:33:06.799Z"
   },
   {
    "duration": 9,
    "start_time": "2022-09-12T17:33:19.174Z"
   },
   {
    "duration": 14,
    "start_time": "2022-09-12T17:33:27.561Z"
   },
   {
    "duration": 2615,
    "start_time": "2022-09-12T17:33:33.375Z"
   },
   {
    "duration": 8,
    "start_time": "2022-09-12T17:33:42.128Z"
   },
   {
    "duration": 33,
    "start_time": "2022-09-12T17:33:50.281Z"
   },
   {
    "duration": 62,
    "start_time": "2022-09-12T17:34:04.363Z"
   },
   {
    "duration": 74,
    "start_time": "2022-09-12T17:34:06.138Z"
   },
   {
    "duration": 2572,
    "start_time": "2022-09-12T17:34:10.589Z"
   },
   {
    "duration": 29,
    "start_time": "2022-09-12T17:34:18.905Z"
   },
   {
    "duration": 2357,
    "start_time": "2022-09-12T17:35:19.800Z"
   },
   {
    "duration": 60,
    "start_time": "2022-09-12T17:35:37.734Z"
   },
   {
    "duration": 47,
    "start_time": "2022-09-12T17:35:48.740Z"
   },
   {
    "duration": 64,
    "start_time": "2022-09-12T17:37:02.752Z"
   },
   {
    "duration": 39,
    "start_time": "2022-09-12T17:37:21.226Z"
   },
   {
    "duration": 2794,
    "start_time": "2022-09-12T17:40:58.411Z"
   },
   {
    "duration": 157,
    "start_time": "2022-09-12T17:41:08.824Z"
   },
   {
    "duration": 152,
    "start_time": "2022-09-12T17:41:20.426Z"
   },
   {
    "duration": 2275,
    "start_time": "2022-09-12T17:41:28.501Z"
   },
   {
    "duration": 167,
    "start_time": "2022-09-12T17:41:37.838Z"
   },
   {
    "duration": 2363,
    "start_time": "2022-09-12T17:41:56.308Z"
   },
   {
    "duration": 149,
    "start_time": "2022-09-12T17:42:08.614Z"
   },
   {
    "duration": 2158,
    "start_time": "2022-09-12T17:47:09.663Z"
   },
   {
    "duration": 195,
    "start_time": "2022-09-12T17:47:43.863Z"
   },
   {
    "duration": 30,
    "start_time": "2022-09-12T17:49:17.545Z"
   },
   {
    "duration": 269,
    "start_time": "2022-09-12T17:49:36.684Z"
   },
   {
    "duration": 2848,
    "start_time": "2022-09-12T18:00:09.013Z"
   },
   {
    "duration": 8,
    "start_time": "2022-09-12T18:00:15.594Z"
   },
   {
    "duration": 11,
    "start_time": "2022-09-12T18:00:18.501Z"
   },
   {
    "duration": 5,
    "start_time": "2022-09-12T18:00:22.176Z"
   },
   {
    "duration": 5,
    "start_time": "2022-09-12T18:00:22.765Z"
   },
   {
    "duration": 8,
    "start_time": "2022-09-12T18:00:23.263Z"
   },
   {
    "duration": 15,
    "start_time": "2022-09-12T18:00:24.207Z"
   },
   {
    "duration": 181,
    "start_time": "2022-09-12T18:00:31.772Z"
   },
   {
    "duration": 9,
    "start_time": "2022-09-12T18:00:34.237Z"
   },
   {
    "duration": 390,
    "start_time": "2022-09-12T18:00:37.915Z"
   },
   {
    "duration": 305,
    "start_time": "2022-09-12T18:00:45.477Z"
   },
   {
    "duration": 2793,
    "start_time": "2022-09-12T18:01:57.834Z"
   },
   {
    "duration": 9,
    "start_time": "2022-09-12T18:02:02.846Z"
   },
   {
    "duration": 9,
    "start_time": "2022-09-12T18:02:03.700Z"
   },
   {
    "duration": 14,
    "start_time": "2022-09-12T18:02:03.855Z"
   },
   {
    "duration": 8,
    "start_time": "2022-09-12T18:02:04.021Z"
   },
   {
    "duration": 6,
    "start_time": "2022-09-12T18:02:04.185Z"
   },
   {
    "duration": 12,
    "start_time": "2022-09-12T18:02:04.792Z"
   },
   {
    "duration": 19,
    "start_time": "2022-09-12T18:02:05.359Z"
   },
   {
    "duration": 184,
    "start_time": "2022-09-12T18:02:08.763Z"
   },
   {
    "duration": 8,
    "start_time": "2022-09-12T18:02:10.183Z"
   },
   {
    "duration": 376,
    "start_time": "2022-09-12T18:02:11.971Z"
   },
   {
    "duration": 269,
    "start_time": "2022-09-12T18:03:13.722Z"
   },
   {
    "duration": 2427,
    "start_time": "2022-09-12T18:03:22.201Z"
   },
   {
    "duration": 6,
    "start_time": "2022-09-12T18:03:24.630Z"
   },
   {
    "duration": 9,
    "start_time": "2022-09-12T18:03:24.638Z"
   },
   {
    "duration": 16,
    "start_time": "2022-09-12T18:03:24.649Z"
   },
   {
    "duration": 5,
    "start_time": "2022-09-12T18:03:24.667Z"
   },
   {
    "duration": 34,
    "start_time": "2022-09-12T18:03:24.674Z"
   },
   {
    "duration": 10,
    "start_time": "2022-09-12T18:03:24.710Z"
   },
   {
    "duration": 15,
    "start_time": "2022-09-12T18:03:24.884Z"
   },
   {
    "duration": 181,
    "start_time": "2022-09-12T18:03:26.971Z"
   },
   {
    "duration": 8,
    "start_time": "2022-09-12T18:03:27.410Z"
   },
   {
    "duration": 298,
    "start_time": "2022-09-12T18:03:29.140Z"
   },
   {
    "duration": 322,
    "start_time": "2022-09-12T18:03:41.107Z"
   },
   {
    "duration": 2260,
    "start_time": "2022-09-12T18:04:32.506Z"
   },
   {
    "duration": 8,
    "start_time": "2022-09-12T18:04:34.768Z"
   },
   {
    "duration": 15,
    "start_time": "2022-09-12T18:04:34.777Z"
   },
   {
    "duration": 10,
    "start_time": "2022-09-12T18:04:34.806Z"
   },
   {
    "duration": 5,
    "start_time": "2022-09-12T18:04:34.818Z"
   },
   {
    "duration": 7,
    "start_time": "2022-09-12T18:04:34.824Z"
   },
   {
    "duration": 11,
    "start_time": "2022-09-12T18:04:34.967Z"
   },
   {
    "duration": 19,
    "start_time": "2022-09-12T18:04:35.173Z"
   },
   {
    "duration": 248,
    "start_time": "2022-09-12T18:04:37.346Z"
   },
   {
    "duration": 6,
    "start_time": "2022-09-12T18:04:38.565Z"
   },
   {
    "duration": 296,
    "start_time": "2022-09-12T18:04:39.739Z"
   },
   {
    "duration": 279,
    "start_time": "2022-09-12T18:06:00.456Z"
   },
   {
    "duration": 2787,
    "start_time": "2022-09-12T18:06:42.785Z"
   },
   {
    "duration": 6,
    "start_time": "2022-09-12T18:06:45.574Z"
   },
   {
    "duration": 23,
    "start_time": "2022-09-12T18:06:45.582Z"
   },
   {
    "duration": 10,
    "start_time": "2022-09-12T18:06:45.607Z"
   },
   {
    "duration": 5,
    "start_time": "2022-09-12T18:06:45.618Z"
   },
   {
    "duration": 6,
    "start_time": "2022-09-12T18:06:45.625Z"
   },
   {
    "duration": 12,
    "start_time": "2022-09-12T18:06:45.633Z"
   },
   {
    "duration": 17,
    "start_time": "2022-09-12T18:06:46.066Z"
   },
   {
    "duration": 199,
    "start_time": "2022-09-12T18:06:47.458Z"
   },
   {
    "duration": 6,
    "start_time": "2022-09-12T18:06:47.822Z"
   },
   {
    "duration": 281,
    "start_time": "2022-09-12T18:06:48.466Z"
   },
   {
    "duration": 10,
    "start_time": "2022-09-12T18:06:49.864Z"
   },
   {
    "duration": 5,
    "start_time": "2022-09-12T18:06:51.670Z"
   },
   {
    "duration": 12,
    "start_time": "2022-09-12T18:06:51.966Z"
   },
   {
    "duration": 266,
    "start_time": "2022-09-12T18:06:52.132Z"
   },
   {
    "duration": 7,
    "start_time": "2022-09-12T18:06:52.400Z"
   },
   {
    "duration": 2336,
    "start_time": "2022-09-12T18:06:53.347Z"
   },
   {
    "duration": 276,
    "start_time": "2022-09-12T18:07:03.691Z"
   },
   {
    "duration": 2337,
    "start_time": "2022-09-12T18:07:17.462Z"
   },
   {
    "duration": 276,
    "start_time": "2022-09-12T18:07:25.339Z"
   },
   {
    "duration": 279,
    "start_time": "2022-09-12T18:07:29.816Z"
   },
   {
    "duration": 2246,
    "start_time": "2022-09-12T18:08:04.900Z"
   },
   {
    "duration": 5,
    "start_time": "2022-09-12T18:08:07.148Z"
   },
   {
    "duration": 8,
    "start_time": "2022-09-12T18:08:07.155Z"
   },
   {
    "duration": 8,
    "start_time": "2022-09-12T18:08:07.165Z"
   },
   {
    "duration": 5,
    "start_time": "2022-09-12T18:08:07.206Z"
   },
   {
    "duration": 8,
    "start_time": "2022-09-12T18:08:07.212Z"
   },
   {
    "duration": 10,
    "start_time": "2022-09-12T18:08:13.088Z"
   },
   {
    "duration": 3,
    "start_time": "2022-09-12T18:08:13.272Z"
   },
   {
    "duration": 3,
    "start_time": "2022-09-12T18:08:13.456Z"
   },
   {
    "duration": 10,
    "start_time": "2022-09-12T18:08:14.269Z"
   },
   {
    "duration": 15,
    "start_time": "2022-09-12T18:08:14.895Z"
   },
   {
    "duration": 191,
    "start_time": "2022-09-12T18:08:17.496Z"
   },
   {
    "duration": 6,
    "start_time": "2022-09-12T18:08:18.923Z"
   },
   {
    "duration": 267,
    "start_time": "2022-09-12T18:08:20.533Z"
   },
   {
    "duration": 301,
    "start_time": "2022-09-12T18:14:43.536Z"
   },
   {
    "duration": 217,
    "start_time": "2022-09-12T18:18:23.724Z"
   },
   {
    "duration": 241,
    "start_time": "2022-09-12T18:18:26.284Z"
   },
   {
    "duration": 193,
    "start_time": "2022-09-12T18:18:29.526Z"
   },
   {
    "duration": 172,
    "start_time": "2022-09-12T18:18:31.915Z"
   },
   {
    "duration": 201,
    "start_time": "2022-09-12T18:18:34.067Z"
   },
   {
    "duration": 1324,
    "start_time": "2022-09-12T18:18:36.444Z"
   },
   {
    "duration": 278,
    "start_time": "2022-09-12T18:19:00.155Z"
   },
   {
    "duration": 23,
    "start_time": "2022-09-12T18:19:01.201Z"
   },
   {
    "duration": 6,
    "start_time": "2022-09-12T18:19:03.039Z"
   },
   {
    "duration": 5,
    "start_time": "2022-09-12T18:19:04.372Z"
   },
   {
    "duration": 108,
    "start_time": "2022-09-12T18:19:13.586Z"
   },
   {
    "duration": 186,
    "start_time": "2022-09-12T18:19:16.319Z"
   },
   {
    "duration": 165,
    "start_time": "2022-09-12T18:19:18.422Z"
   },
   {
    "duration": 199,
    "start_time": "2022-09-12T18:19:37.889Z"
   },
   {
    "duration": 191,
    "start_time": "2022-09-12T18:19:54.974Z"
   },
   {
    "duration": 260,
    "start_time": "2022-09-12T18:19:58.802Z"
   },
   {
    "duration": 291,
    "start_time": "2022-09-12T18:20:33.236Z"
   },
   {
    "duration": 3150,
    "start_time": "2022-09-12T20:49:56.178Z"
   },
   {
    "duration": 6,
    "start_time": "2022-09-12T20:49:59.330Z"
   },
   {
    "duration": 10,
    "start_time": "2022-09-12T20:49:59.338Z"
   },
   {
    "duration": 10,
    "start_time": "2022-09-12T20:49:59.351Z"
   },
   {
    "duration": 4,
    "start_time": "2022-09-12T20:49:59.363Z"
   },
   {
    "duration": 36,
    "start_time": "2022-09-12T20:49:59.369Z"
   },
   {
    "duration": 7,
    "start_time": "2022-09-12T20:49:59.407Z"
   },
   {
    "duration": 15,
    "start_time": "2022-09-12T20:49:59.416Z"
   },
   {
    "duration": 177,
    "start_time": "2022-09-12T20:50:01.029Z"
   },
   {
    "duration": 6,
    "start_time": "2022-09-12T20:50:01.548Z"
   },
   {
    "duration": 211,
    "start_time": "2022-09-12T20:50:03.321Z"
   },
   {
    "duration": 2362,
    "start_time": "2022-09-12T20:50:56.052Z"
   },
   {
    "duration": 5,
    "start_time": "2022-09-12T20:50:58.416Z"
   },
   {
    "duration": 12,
    "start_time": "2022-09-12T20:50:58.423Z"
   },
   {
    "duration": 9,
    "start_time": "2022-09-12T20:50:58.436Z"
   },
   {
    "duration": 5,
    "start_time": "2022-09-12T20:50:58.447Z"
   },
   {
    "duration": 7,
    "start_time": "2022-09-12T20:50:58.453Z"
   },
   {
    "duration": 8,
    "start_time": "2022-09-12T20:50:58.462Z"
   },
   {
    "duration": 42,
    "start_time": "2022-09-12T20:50:58.472Z"
   },
   {
    "duration": 175,
    "start_time": "2022-09-12T20:50:59.032Z"
   },
   {
    "duration": 6,
    "start_time": "2022-09-12T20:50:59.823Z"
   },
   {
    "duration": 83,
    "start_time": "2022-09-12T20:51:00.285Z"
   },
   {
    "duration": 204,
    "start_time": "2022-09-12T20:51:40.055Z"
   },
   {
    "duration": 2507,
    "start_time": "2022-09-12T20:51:54.003Z"
   },
   {
    "duration": 6,
    "start_time": "2022-09-12T20:51:56.512Z"
   },
   {
    "duration": 9,
    "start_time": "2022-09-12T20:51:56.520Z"
   },
   {
    "duration": 11,
    "start_time": "2022-09-12T20:51:56.532Z"
   },
   {
    "duration": 5,
    "start_time": "2022-09-12T20:51:56.545Z"
   },
   {
    "duration": 9,
    "start_time": "2022-09-12T20:51:56.552Z"
   },
   {
    "duration": 42,
    "start_time": "2022-09-12T20:51:56.563Z"
   },
   {
    "duration": 17,
    "start_time": "2022-09-12T20:51:56.607Z"
   },
   {
    "duration": 240,
    "start_time": "2022-09-12T20:51:57.277Z"
   },
   {
    "duration": 6,
    "start_time": "2022-09-12T20:51:58.032Z"
   },
   {
    "duration": 206,
    "start_time": "2022-09-12T20:51:59.279Z"
   },
   {
    "duration": 11,
    "start_time": "2022-09-12T20:53:13.233Z"
   },
   {
    "duration": 4,
    "start_time": "2022-09-12T20:53:17.906Z"
   },
   {
    "duration": 12,
    "start_time": "2022-09-12T20:53:18.126Z"
   },
   {
    "duration": 257,
    "start_time": "2022-09-12T20:53:18.340Z"
   },
   {
    "duration": 5,
    "start_time": "2022-09-12T20:53:19.021Z"
   },
   {
    "duration": 179,
    "start_time": "2022-09-12T23:04:41.006Z"
   },
   {
    "duration": 203,
    "start_time": "2022-09-12T23:05:42.316Z"
   },
   {
    "duration": 184,
    "start_time": "2022-09-12T23:05:59.104Z"
   },
   {
    "duration": 177,
    "start_time": "2022-09-12T23:06:19.965Z"
   },
   {
    "duration": 174,
    "start_time": "2022-09-12T23:10:12.817Z"
   },
   {
    "duration": 90,
    "start_time": "2022-09-12T23:14:07.087Z"
   },
   {
    "duration": 171,
    "start_time": "2022-09-12T23:23:49.612Z"
   },
   {
    "duration": 158,
    "start_time": "2022-09-12T23:24:05.158Z"
   },
   {
    "duration": 185,
    "start_time": "2022-09-12T23:30:54.065Z"
   },
   {
    "duration": 211,
    "start_time": "2022-09-12T23:33:36.126Z"
   },
   {
    "duration": 5,
    "start_time": "2022-09-12T23:39:43.830Z"
   },
   {
    "duration": 19,
    "start_time": "2022-09-12T23:41:28.490Z"
   },
   {
    "duration": 15,
    "start_time": "2022-09-12T23:44:03.941Z"
   },
   {
    "duration": 136,
    "start_time": "2022-09-12T23:52:14.687Z"
   },
   {
    "duration": 4,
    "start_time": "2022-09-12T23:57:48.606Z"
   },
   {
    "duration": 23,
    "start_time": "2022-09-12T23:59:04.609Z"
   },
   {
    "duration": 84,
    "start_time": "2022-09-13T00:00:08.201Z"
   },
   {
    "duration": 285,
    "start_time": "2022-09-13T00:10:46.126Z"
   },
   {
    "duration": 191,
    "start_time": "2022-09-13T00:11:11.885Z"
   },
   {
    "duration": 162,
    "start_time": "2022-09-13T00:13:06.755Z"
   },
   {
    "duration": 171,
    "start_time": "2022-09-13T00:16:25.104Z"
   },
   {
    "duration": 144,
    "start_time": "2022-09-13T00:16:35.526Z"
   },
   {
    "duration": 3483,
    "start_time": "2022-09-13T17:02:46.807Z"
   },
   {
    "duration": 6,
    "start_time": "2022-09-13T17:02:50.292Z"
   },
   {
    "duration": 11,
    "start_time": "2022-09-13T17:02:50.302Z"
   },
   {
    "duration": 8,
    "start_time": "2022-09-13T17:02:50.315Z"
   },
   {
    "duration": 5,
    "start_time": "2022-09-13T17:02:50.347Z"
   },
   {
    "duration": 10,
    "start_time": "2022-09-13T17:02:50.353Z"
   },
   {
    "duration": 10,
    "start_time": "2022-09-13T17:02:50.364Z"
   },
   {
    "duration": 18,
    "start_time": "2022-09-13T17:02:50.376Z"
   },
   {
    "duration": 205,
    "start_time": "2022-09-13T17:02:50.396Z"
   },
   {
    "duration": 6,
    "start_time": "2022-09-13T17:02:50.602Z"
   },
   {
    "duration": 246,
    "start_time": "2022-09-13T17:02:50.610Z"
   },
   {
    "duration": 11,
    "start_time": "2022-09-13T17:02:50.857Z"
   },
   {
    "duration": 4,
    "start_time": "2022-09-13T17:02:50.869Z"
   },
   {
    "duration": 17,
    "start_time": "2022-09-13T17:02:50.874Z"
   },
   {
    "duration": 287,
    "start_time": "2022-09-13T17:02:50.893Z"
   },
   {
    "duration": 5,
    "start_time": "2022-09-13T17:02:51.182Z"
   },
   {
    "duration": 293,
    "start_time": "2022-09-13T17:02:51.189Z"
   },
   {
    "duration": 166,
    "start_time": "2022-09-13T17:02:51.483Z"
   },
   {
    "duration": 207,
    "start_time": "2022-09-13T17:02:51.651Z"
   },
   {
    "duration": 325,
    "start_time": "2022-09-13T17:02:51.860Z"
   },
   {
    "duration": 221,
    "start_time": "2022-09-13T17:02:52.187Z"
   },
   {
    "duration": 178,
    "start_time": "2022-09-13T17:02:52.410Z"
   },
   {
    "duration": 201,
    "start_time": "2022-09-13T17:02:52.590Z"
   },
   {
    "duration": 121,
    "start_time": "2022-09-13T17:02:52.792Z"
   },
   {
    "duration": 203,
    "start_time": "2022-09-13T17:02:52.914Z"
   },
   {
    "duration": 203,
    "start_time": "2022-09-13T17:02:53.118Z"
   },
   {
    "duration": 225,
    "start_time": "2022-09-13T17:02:53.326Z"
   },
   {
    "duration": 215,
    "start_time": "2022-09-13T17:02:53.553Z"
   },
   {
    "duration": 235,
    "start_time": "2022-09-13T17:02:53.770Z"
   },
   {
    "duration": 504,
    "start_time": "2022-09-13T17:02:54.007Z"
   },
   {
    "duration": 20,
    "start_time": "2022-09-13T17:02:54.513Z"
   },
   {
    "duration": 153,
    "start_time": "2022-09-13T17:02:54.535Z"
   },
   {
    "duration": 174,
    "start_time": "2022-09-13T17:02:54.689Z"
   },
   {
    "duration": 157,
    "start_time": "2022-09-13T17:02:54.865Z"
   },
   {
    "duration": 161,
    "start_time": "2022-09-13T17:02:55.024Z"
   },
   {
    "duration": 114,
    "start_time": "2022-09-13T17:02:55.186Z"
   },
   {
    "duration": 183,
    "start_time": "2022-09-13T17:02:55.302Z"
   },
   {
    "duration": 168,
    "start_time": "2022-09-13T17:02:55.486Z"
   },
   {
    "duration": 168,
    "start_time": "2022-09-13T17:02:55.656Z"
   },
   {
    "duration": 29,
    "start_time": "2022-09-13T17:02:55.826Z"
   },
   {
    "duration": 161,
    "start_time": "2022-09-13T17:02:55.856Z"
   },
   {
    "duration": 4385,
    "start_time": "2023-04-20T22:41:34.018Z"
   },
   {
    "duration": 6,
    "start_time": "2023-04-20T22:41:38.405Z"
   },
   {
    "duration": 8,
    "start_time": "2023-04-20T22:41:38.634Z"
   },
   {
    "duration": 9,
    "start_time": "2023-04-20T22:41:38.828Z"
   },
   {
    "duration": 7,
    "start_time": "2023-04-20T22:41:39.092Z"
   },
   {
    "duration": 5,
    "start_time": "2023-04-20T22:41:39.357Z"
   },
   {
    "duration": 9,
    "start_time": "2023-04-20T22:41:39.598Z"
   },
   {
    "duration": 17,
    "start_time": "2023-04-20T22:41:39.800Z"
   },
   {
    "duration": 257,
    "start_time": "2023-04-20T22:41:43.597Z"
   },
   {
    "duration": 75,
    "start_time": "2023-04-28T13:23:06.171Z"
   },
   {
    "duration": 4295,
    "start_time": "2023-04-28T13:23:09.254Z"
   },
   {
    "duration": 10,
    "start_time": "2023-04-28T13:23:13.551Z"
   },
   {
    "duration": 9,
    "start_time": "2023-04-28T13:23:14.279Z"
   },
   {
    "duration": 14,
    "start_time": "2023-04-28T13:23:14.521Z"
   },
   {
    "duration": 8,
    "start_time": "2023-04-28T13:23:14.716Z"
   },
   {
    "duration": 5,
    "start_time": "2023-04-28T13:23:14.936Z"
   },
   {
    "duration": 9,
    "start_time": "2023-04-28T13:23:15.180Z"
   },
   {
    "duration": 18,
    "start_time": "2023-04-28T13:23:15.456Z"
   },
   {
    "duration": 242,
    "start_time": "2023-04-28T13:23:16.586Z"
   },
   {
    "duration": 8,
    "start_time": "2023-04-28T13:23:17.182Z"
   },
   {
    "duration": 234,
    "start_time": "2023-04-28T13:23:17.580Z"
   },
   {
    "duration": 12,
    "start_time": "2023-04-28T13:23:18.137Z"
   },
   {
    "duration": 5,
    "start_time": "2023-04-28T13:23:18.723Z"
   },
   {
    "duration": 18,
    "start_time": "2023-04-28T13:23:19.125Z"
   },
   {
    "duration": 352,
    "start_time": "2023-04-28T13:23:19.320Z"
   },
   {
    "duration": 7,
    "start_time": "2023-04-28T13:23:19.674Z"
   },
   {
    "duration": 369,
    "start_time": "2023-04-28T13:23:38.311Z"
   },
   {
    "duration": 575,
    "start_time": "2023-04-28T13:23:56.956Z"
   },
   {
    "duration": 23,
    "start_time": "2023-04-28T13:24:35.886Z"
   },
   {
    "duration": 295,
    "start_time": "2023-04-28T13:24:52.324Z"
   },
   {
    "duration": 196,
    "start_time": "2023-04-28T13:24:52.937Z"
   },
   {
    "duration": 246,
    "start_time": "2023-04-28T13:24:55.519Z"
   },
   {
    "duration": 195,
    "start_time": "2023-04-28T13:25:13.829Z"
   },
   {
    "duration": 203,
    "start_time": "2023-04-28T13:25:14.782Z"
   },
   {
    "duration": 214,
    "start_time": "2023-04-28T13:25:15.347Z"
   },
   {
    "duration": 10,
    "start_time": "2023-04-28T13:26:02.445Z"
   },
   {
    "duration": 433,
    "start_time": "2023-04-28T13:26:03.119Z"
   },
   {
    "duration": 16,
    "start_time": "2023-04-28T13:26:03.718Z"
   },
   {
    "duration": 4193,
    "start_time": "2023-04-28T13:29:17.868Z"
   },
   {
    "duration": 10,
    "start_time": "2023-04-28T13:29:22.064Z"
   },
   {
    "duration": 10,
    "start_time": "2023-04-28T13:29:22.076Z"
   },
   {
    "duration": 25,
    "start_time": "2023-04-28T13:29:22.088Z"
   },
   {
    "duration": 8,
    "start_time": "2023-04-28T13:29:22.116Z"
   },
   {
    "duration": 8,
    "start_time": "2023-04-28T13:29:22.126Z"
   },
   {
    "duration": 12,
    "start_time": "2023-04-28T13:29:22.136Z"
   },
   {
    "duration": 24,
    "start_time": "2023-04-28T13:29:22.149Z"
   },
   {
    "duration": 268,
    "start_time": "2023-04-28T13:29:22.175Z"
   },
   {
    "duration": 8,
    "start_time": "2023-04-28T13:29:22.445Z"
   },
   {
    "duration": 268,
    "start_time": "2023-04-28T13:29:22.455Z"
   },
   {
    "duration": 15,
    "start_time": "2023-04-28T13:29:22.724Z"
   },
   {
    "duration": 6,
    "start_time": "2023-04-28T13:29:22.743Z"
   },
   {
    "duration": 26,
    "start_time": "2023-04-28T13:29:22.754Z"
   },
   {
    "duration": 337,
    "start_time": "2023-04-28T13:29:22.783Z"
   },
   {
    "duration": 8,
    "start_time": "2023-04-28T13:29:23.122Z"
   },
   {
    "duration": 339,
    "start_time": "2023-04-28T13:29:23.132Z"
   },
   {
    "duration": 201,
    "start_time": "2023-04-28T13:29:23.473Z"
   },
   {
    "duration": 256,
    "start_time": "2023-04-28T13:29:23.676Z"
   },
   {
    "duration": 343,
    "start_time": "2023-04-28T13:29:23.934Z"
   },
   {
    "duration": 259,
    "start_time": "2023-04-28T13:29:24.279Z"
   },
   {
    "duration": 222,
    "start_time": "2023-04-28T13:29:24.540Z"
   },
   {
    "duration": 323,
    "start_time": "2023-04-28T13:29:24.763Z"
   },
   {
    "duration": 137,
    "start_time": "2023-04-28T13:29:25.089Z"
   },
   {
    "duration": 220,
    "start_time": "2023-04-28T13:29:25.228Z"
   },
   {
    "duration": 247,
    "start_time": "2023-04-28T13:29:25.450Z"
   },
   {
    "duration": 250,
    "start_time": "2023-04-28T13:29:25.699Z"
   },
   {
    "duration": 237,
    "start_time": "2023-04-28T13:29:25.951Z"
   },
   {
    "duration": 279,
    "start_time": "2023-04-28T13:29:26.189Z"
   },
   {
    "duration": 618,
    "start_time": "2023-04-28T13:29:26.470Z"
   },
   {
    "duration": 46,
    "start_time": "2023-04-28T13:29:27.090Z"
   },
   {
    "duration": 195,
    "start_time": "2023-04-28T13:29:27.138Z"
   },
   {
    "duration": 231,
    "start_time": "2023-04-28T13:29:27.335Z"
   },
   {
    "duration": 214,
    "start_time": "2023-04-28T13:29:27.568Z"
   },
   {
    "duration": 177,
    "start_time": "2023-04-28T13:29:27.784Z"
   },
   {
    "duration": 178,
    "start_time": "2023-04-28T13:29:27.963Z"
   },
   {
    "duration": 198,
    "start_time": "2023-04-28T13:29:28.144Z"
   },
   {
    "duration": 198,
    "start_time": "2023-04-28T13:29:28.345Z"
   },
   {
    "duration": 201,
    "start_time": "2023-04-28T13:29:28.546Z"
   },
   {
    "duration": 46,
    "start_time": "2023-04-28T13:29:28.749Z"
   },
   {
    "duration": 249,
    "start_time": "2023-04-28T13:29:28.813Z"
   }
  ],
  "kernelspec": {
   "display_name": "Python 3 (ipykernel)",
   "language": "python",
   "name": "python3"
  },
  "language_info": {
   "codemirror_mode": {
    "name": "ipython",
    "version": 3
   },
   "file_extension": ".py",
   "mimetype": "text/x-python",
   "name": "python",
   "nbconvert_exporter": "python",
   "pygments_lexer": "ipython3",
   "version": "3.9.5"
  },
  "toc": {
   "base_numbering": 1,
   "nav_menu": {},
   "number_sections": true,
   "sideBar": true,
   "skip_h1_title": true,
   "title_cell": "Table of Contents",
   "title_sidebar": "Contents",
   "toc_cell": false,
   "toc_position": {},
   "toc_section_display": true,
   "toc_window_display": false
  }
 },
 "nbformat": 4,
 "nbformat_minor": 2
}

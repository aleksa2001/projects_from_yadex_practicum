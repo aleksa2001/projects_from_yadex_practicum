{
 "cells": [
  {
   "cell_type": "markdown",
   "metadata": {},
   "source": [
    "<h1><b>Исследование рынка заведений общественного питания Москвы</h1></b>"
   ]
  },
  {
   "cell_type": "markdown",
   "metadata": {},
   "source": [
    "# Описание проекта\n",
    "\n",
    "Инвесторы из фонда «Shut Up and Take My Money» решили попробовать себя в новой области и открыть заведение общественного питания в Москве. Заказчики ещё не знают, что это будет за место: кафе, ресторан, пиццерия, паб или бар, — и какими будут расположение, меню и цены.\n",
    "Нужно подготовить исследование рынка Москвы, найти интересные особенности и презентовать полученные результаты, которые в будущем помогут в выборе подходящего инвесторам места.\n",
    "\n",
    "\n",
    "# Цель исследования\n",
    "\n",
    "- изучить рынок общественного питания по категориям\n",
    "- изучить рынок по районам\n",
    "- отдельно выделить кофейни, изучить информацию по ним\n",
    "- дать рекомендацию для открытия нового заведения\n",
    "\n",
    "# Ход исследования \n",
    "\n",
    "Данные я получу из файла /datasets/moscow_places.csv. Далее я проведу обзор данных и их предобработку.\n",
    "\n",
    "этапы исследования:\n",
    " - обзор данных\n",
    " - предобработка данных\n",
    " - исследование  объектов общественного питания по категориям\n",
    " - изучение сетевых и несетевых заведений\n",
    " - изучение заведений по районам\n",
    " - исследование средних рейтингов заведений\n",
    " - изучение средних чеков\n",
    " - отдельное изучение кофеен\n",
    "\n"
   ]
  },
  {
   "cell_type": "markdown",
   "metadata": {},
   "source": [
    "## ШАГ 1. обзор данных"
   ]
  },
  {
   "cell_type": "code",
   "execution_count": 56,
   "metadata": {},
   "outputs": [],
   "source": [
    "#импортируем бибилиотеки\n",
    "import pandas as pd\n",
    "import warnings\n",
    "import folium\n",
    "from folium import Map, Marker\n",
    "from folium.plugins import MarkerCluster\n",
    "from folium import Map, Choropleth\n",
    "import matplotlib.pyplot as plt\n",
    "import seaborn as sns\n",
    "import plotly.express as px \n",
    "from plotly import graph_objects as go\n",
    "import warnings\n",
    "warnings.filterwarnings(\"ignore\", category=DeprecationWarning)"
   ]
  },
  {
   "cell_type": "code",
   "execution_count": 57,
   "metadata": {},
   "outputs": [],
   "source": [
    "places = pd.read_csv('https://code.s3.yandex.net/datasets/moscow_places.csv')"
   ]
  },
  {
   "cell_type": "code",
   "execution_count": 58,
   "metadata": {},
   "outputs": [
    {
     "data": {
      "text/html": [
       "<div>\n",
       "<style scoped>\n",
       "    .dataframe tbody tr th:only-of-type {\n",
       "        vertical-align: middle;\n",
       "    }\n",
       "\n",
       "    .dataframe tbody tr th {\n",
       "        vertical-align: top;\n",
       "    }\n",
       "\n",
       "    .dataframe thead th {\n",
       "        text-align: right;\n",
       "    }\n",
       "</style>\n",
       "<table border=\"1\" class=\"dataframe\">\n",
       "  <thead>\n",
       "    <tr style=\"text-align: right;\">\n",
       "      <th></th>\n",
       "      <th>name</th>\n",
       "      <th>category</th>\n",
       "      <th>address</th>\n",
       "      <th>district</th>\n",
       "      <th>hours</th>\n",
       "      <th>lat</th>\n",
       "      <th>lng</th>\n",
       "      <th>rating</th>\n",
       "      <th>price</th>\n",
       "      <th>avg_bill</th>\n",
       "      <th>middle_avg_bill</th>\n",
       "      <th>middle_coffee_cup</th>\n",
       "      <th>chain</th>\n",
       "      <th>seats</th>\n",
       "    </tr>\n",
       "  </thead>\n",
       "  <tbody>\n",
       "    <tr>\n",
       "      <th>0</th>\n",
       "      <td>WoWфли</td>\n",
       "      <td>кафе</td>\n",
       "      <td>Москва, улица Дыбенко, 7/1</td>\n",
       "      <td>Северный административный округ</td>\n",
       "      <td>ежедневно, 10:00–22:00</td>\n",
       "      <td>55.878494</td>\n",
       "      <td>37.478860</td>\n",
       "      <td>5.0</td>\n",
       "      <td>NaN</td>\n",
       "      <td>NaN</td>\n",
       "      <td>NaN</td>\n",
       "      <td>NaN</td>\n",
       "      <td>0</td>\n",
       "      <td>NaN</td>\n",
       "    </tr>\n",
       "    <tr>\n",
       "      <th>1</th>\n",
       "      <td>Четыре комнаты</td>\n",
       "      <td>ресторан</td>\n",
       "      <td>Москва, улица Дыбенко, 36, корп. 1</td>\n",
       "      <td>Северный административный округ</td>\n",
       "      <td>ежедневно, 10:00–22:00</td>\n",
       "      <td>55.875801</td>\n",
       "      <td>37.484479</td>\n",
       "      <td>4.5</td>\n",
       "      <td>выше среднего</td>\n",
       "      <td>Средний счёт:1500–1600 ₽</td>\n",
       "      <td>1550.0</td>\n",
       "      <td>NaN</td>\n",
       "      <td>0</td>\n",
       "      <td>4.0</td>\n",
       "    </tr>\n",
       "    <tr>\n",
       "      <th>2</th>\n",
       "      <td>Хазри</td>\n",
       "      <td>кафе</td>\n",
       "      <td>Москва, Клязьминская улица, 15</td>\n",
       "      <td>Северный административный округ</td>\n",
       "      <td>пн-чт 11:00–02:00; пт,сб 11:00–05:00; вс 11:00...</td>\n",
       "      <td>55.889146</td>\n",
       "      <td>37.525901</td>\n",
       "      <td>4.6</td>\n",
       "      <td>средние</td>\n",
       "      <td>Средний счёт:от 1000 ₽</td>\n",
       "      <td>1000.0</td>\n",
       "      <td>NaN</td>\n",
       "      <td>0</td>\n",
       "      <td>45.0</td>\n",
       "    </tr>\n",
       "    <tr>\n",
       "      <th>3</th>\n",
       "      <td>Dormouse Coffee Shop</td>\n",
       "      <td>кофейня</td>\n",
       "      <td>Москва, улица Маршала Федоренко, 12</td>\n",
       "      <td>Северный административный округ</td>\n",
       "      <td>ежедневно, 09:00–22:00</td>\n",
       "      <td>55.881608</td>\n",
       "      <td>37.488860</td>\n",
       "      <td>5.0</td>\n",
       "      <td>NaN</td>\n",
       "      <td>Цена чашки капучино:155–185 ₽</td>\n",
       "      <td>NaN</td>\n",
       "      <td>170.0</td>\n",
       "      <td>0</td>\n",
       "      <td>NaN</td>\n",
       "    </tr>\n",
       "    <tr>\n",
       "      <th>4</th>\n",
       "      <td>Иль Марко</td>\n",
       "      <td>пиццерия</td>\n",
       "      <td>Москва, Правобережная улица, 1Б</td>\n",
       "      <td>Северный административный округ</td>\n",
       "      <td>ежедневно, 10:00–22:00</td>\n",
       "      <td>55.881166</td>\n",
       "      <td>37.449357</td>\n",
       "      <td>5.0</td>\n",
       "      <td>средние</td>\n",
       "      <td>Средний счёт:400–600 ₽</td>\n",
       "      <td>500.0</td>\n",
       "      <td>NaN</td>\n",
       "      <td>1</td>\n",
       "      <td>148.0</td>\n",
       "    </tr>\n",
       "  </tbody>\n",
       "</table>\n",
       "</div>"
      ],
      "text/plain": [
       "                   name  category                              address  \\\n",
       "0                WoWфли      кафе           Москва, улица Дыбенко, 7/1   \n",
       "1        Четыре комнаты  ресторан   Москва, улица Дыбенко, 36, корп. 1   \n",
       "2                 Хазри      кафе       Москва, Клязьминская улица, 15   \n",
       "3  Dormouse Coffee Shop   кофейня  Москва, улица Маршала Федоренко, 12   \n",
       "4             Иль Марко  пиццерия      Москва, Правобережная улица, 1Б   \n",
       "\n",
       "                          district  \\\n",
       "0  Северный административный округ   \n",
       "1  Северный административный округ   \n",
       "2  Северный административный округ   \n",
       "3  Северный административный округ   \n",
       "4  Северный административный округ   \n",
       "\n",
       "                                               hours        lat        lng  \\\n",
       "0                             ежедневно, 10:00–22:00  55.878494  37.478860   \n",
       "1                             ежедневно, 10:00–22:00  55.875801  37.484479   \n",
       "2  пн-чт 11:00–02:00; пт,сб 11:00–05:00; вс 11:00...  55.889146  37.525901   \n",
       "3                             ежедневно, 09:00–22:00  55.881608  37.488860   \n",
       "4                             ежедневно, 10:00–22:00  55.881166  37.449357   \n",
       "\n",
       "   rating          price                       avg_bill  middle_avg_bill  \\\n",
       "0     5.0            NaN                            NaN              NaN   \n",
       "1     4.5  выше среднего       Средний счёт:1500–1600 ₽           1550.0   \n",
       "2     4.6        средние         Средний счёт:от 1000 ₽           1000.0   \n",
       "3     5.0            NaN  Цена чашки капучино:155–185 ₽              NaN   \n",
       "4     5.0        средние         Средний счёт:400–600 ₽            500.0   \n",
       "\n",
       "   middle_coffee_cup  chain  seats  \n",
       "0                NaN      0    NaN  \n",
       "1                NaN      0    4.0  \n",
       "2                NaN      0   45.0  \n",
       "3              170.0      0    NaN  \n",
       "4                NaN      1  148.0  "
      ]
     },
     "execution_count": 58,
     "metadata": {},
     "output_type": "execute_result"
    }
   ],
   "source": [
    "places.head()"
   ]
  },
  {
   "cell_type": "code",
   "execution_count": 59,
   "metadata": {},
   "outputs": [
    {
     "name": "stdout",
     "output_type": "stream",
     "text": [
      "<class 'pandas.core.frame.DataFrame'>\n",
      "RangeIndex: 8406 entries, 0 to 8405\n",
      "Data columns (total 14 columns):\n",
      " #   Column             Non-Null Count  Dtype  \n",
      "---  ------             --------------  -----  \n",
      " 0   name               8406 non-null   object \n",
      " 1   category           8406 non-null   object \n",
      " 2   address            8406 non-null   object \n",
      " 3   district           8406 non-null   object \n",
      " 4   hours              7870 non-null   object \n",
      " 5   lat                8406 non-null   float64\n",
      " 6   lng                8406 non-null   float64\n",
      " 7   rating             8406 non-null   float64\n",
      " 8   price              3315 non-null   object \n",
      " 9   avg_bill           3816 non-null   object \n",
      " 10  middle_avg_bill    3149 non-null   float64\n",
      " 11  middle_coffee_cup  535 non-null    float64\n",
      " 12  chain              8406 non-null   int64  \n",
      " 13  seats              4795 non-null   float64\n",
      "dtypes: float64(6), int64(1), object(7)\n",
      "memory usage: 919.5+ KB\n"
     ]
    }
   ],
   "source": [
    "places.info()"
   ]
  },
  {
   "cell_type": "code",
   "execution_count": 60,
   "metadata": {},
   "outputs": [
    {
     "data": {
      "text/plain": [
       "8406"
      ]
     },
     "execution_count": 60,
     "metadata": {},
     "output_type": "execute_result"
    }
   ],
   "source": [
    "len(places['name'])"
   ]
  },
  {
   "cell_type": "markdown",
   "metadata": {},
   "source": [
    "всего имеется 8406 заведений. Известно название, категория, адрес, рейтинг, район,часы работы,средние цены, количество мест, и является ли заведение сетевым. В данных есть пропуски. Представлены данные трёх типов: object, int64, float64"
   ]
  },
  {
   "cell_type": "markdown",
   "metadata": {},
   "source": [
    "## ШАГ 2. Предобработка данных"
   ]
  },
  {
   "cell_type": "markdown",
   "metadata": {},
   "source": [
    "### работа с пропусками"
   ]
  },
  {
   "cell_type": "code",
   "execution_count": 61,
   "metadata": {},
   "outputs": [
    {
     "data": {
      "text/plain": [
       "0"
      ]
     },
     "execution_count": 61,
     "metadata": {},
     "output_type": "execute_result"
    }
   ],
   "source": [
    "places.duplicated().sum()"
   ]
  },
  {
   "cell_type": "code",
   "execution_count": 62,
   "metadata": {},
   "outputs": [
    {
     "data": {
      "text/plain": [
       "name                    0\n",
       "category                0\n",
       "address                 0\n",
       "district                0\n",
       "hours                 536\n",
       "lat                     0\n",
       "lng                     0\n",
       "rating                  0\n",
       "price                5091\n",
       "avg_bill             4590\n",
       "middle_avg_bill      5257\n",
       "middle_coffee_cup    7871\n",
       "chain                   0\n",
       "seats                3611\n",
       "dtype: int64"
      ]
     },
     "execution_count": 62,
     "metadata": {},
     "output_type": "execute_result"
    }
   ],
   "source": [
    "places.isna().sum()"
   ]
  },
  {
   "cell_type": "markdown",
   "metadata": {},
   "source": [
    "В данных встречаются пропуски."
   ]
  },
  {
   "cell_type": "code",
   "execution_count": 63,
   "metadata": {},
   "outputs": [
    {
     "name": "stdout",
     "output_type": "stream",
     "text": [
      "В столбце name 0.0 % пропусков\n",
      "В столбце category 0.0 % пропусков\n",
      "В столбце address 0.0 % пропусков\n",
      "В столбце district 0.0 % пропусков\n",
      "В столбце hours 6.38 % пропусков\n",
      "В столбце lat 0.0 % пропусков\n",
      "В столбце lng 0.0 % пропусков\n",
      "В столбце rating 0.0 % пропусков\n",
      "В столбце price 60.56 % пропусков\n",
      "В столбце avg_bill 54.6 % пропусков\n",
      "В столбце middle_avg_bill 62.54 % пропусков\n",
      "В столбце middle_coffee_cup 93.64 % пропусков\n",
      "В столбце chain 0.0 % пропусков\n",
      "В столбце seats 42.96 % пропусков\n"
     ]
    }
   ],
   "source": [
    "for col in (places.columns):\n",
    "    print('В столбце',col,round( places.isna().sum()[col] / len(places[col])*100,2),'% пропусков')"
   ]
  },
  {
   "cell_type": "code",
   "execution_count": 64,
   "metadata": {},
   "outputs": [
    {
     "data": {
      "text/plain": [
       "0.0824289311743684"
      ]
     },
     "execution_count": 64,
     "metadata": {},
     "output_type": "execute_result"
    }
   ],
   "source": [
    "places['seats'].corr(places['middle_avg_bill'])"
   ]
  },
  {
   "cell_type": "markdown",
   "metadata": {},
   "source": [
    "В столбце hours небольшое количество пропусков, можно их не заполнять. Больше всего пропусков в столбце middle_coffee_cup. Возможно, в этих заведениях нет кофе, то есть они не являются кофейнями. Так же больше половины пропусков в столбцах price, avg_bill, middle_avg_bill. В столбце middle_coffee_cup может быть много пропусков, потому что далеко не во всех общепитах есть в меню капучино. Столбец seats заполнить не получится, так как нет предположений от чего может зависеть количество посадочных мест. Оставим пропуски, чтобы избежать искажения в данных "
   ]
  },
  {
   "cell_type": "markdown",
   "metadata": {},
   "source": [
    "### добавление столбцов"
   ]
  },
  {
   "cell_type": "code",
   "execution_count": 65,
   "metadata": {},
   "outputs": [],
   "source": [
    "places['street'] = places['address'].str.split(', ').str[1]"
   ]
  },
  {
   "cell_type": "code",
   "execution_count": 66,
   "metadata": {},
   "outputs": [],
   "source": [
    "places['is_24/7'] = places['hours'].str.contains('ежедневно, круглосуточно')"
   ]
  },
  {
   "cell_type": "code",
   "execution_count": 67,
   "metadata": {},
   "outputs": [
    {
     "data": {
      "text/plain": [
       "0       False\n",
       "1       False\n",
       "2       False\n",
       "3       False\n",
       "4       False\n",
       "        ...  \n",
       "8401    False\n",
       "8402    False\n",
       "8403     True\n",
       "8404     True\n",
       "8405     True\n",
       "Name: is_24/7, Length: 8406, dtype: object"
      ]
     },
     "execution_count": 67,
     "metadata": {},
     "output_type": "execute_result"
    }
   ],
   "source": [
    "places['is_24/7'] "
   ]
  },
  {
   "cell_type": "markdown",
   "metadata": {},
   "source": [
    "### работа с дубликатами"
   ]
  },
  {
   "cell_type": "code",
   "execution_count": 68,
   "metadata": {},
   "outputs": [],
   "source": [
    "dubl = places.duplicated(subset=['name','address'])"
   ]
  },
  {
   "cell_type": "code",
   "execution_count": 69,
   "metadata": {},
   "outputs": [],
   "source": [
    "dubl = dubl[dubl==True]"
   ]
  },
  {
   "cell_type": "code",
   "execution_count": 70,
   "metadata": {
    "scrolled": true
   },
   "outputs": [
    {
     "data": {
      "text/plain": [
       "0"
      ]
     },
     "execution_count": 70,
     "metadata": {},
     "output_type": "execute_result"
    }
   ],
   "source": [
    "len(dubl)"
   ]
  },
  {
   "cell_type": "markdown",
   "metadata": {},
   "source": [
    "неявных дубликатов среди названий заведений и адресу нет"
   ]
  },
  {
   "cell_type": "code",
   "execution_count": 71,
   "metadata": {},
   "outputs": [
    {
     "data": {
      "text/plain": [
       "2653"
      ]
     },
     "execution_count": 71,
     "metadata": {},
     "output_type": "execute_result"
    }
   ],
   "source": [
    "dubl_address = places.duplicated(subset=['address'])\n",
    "dubl_address = dubl_address[dubl_address==True]\n",
    "len(dubl_address)"
   ]
  },
  {
   "cell_type": "markdown",
   "metadata": {},
   "source": [
    "Есть дубликаты по адресу. Возможно, по этим адресам находится несколько заведений"
   ]
  },
  {
   "cell_type": "markdown",
   "metadata": {},
   "source": [
    "мы изучили структуру данных, нет явных дубликатов, изучили неявные дубликаты и посмотрели пропуски. Были добавлены столбцы с названием улиц и обозначением, круглосуточное заведение или нет"
   ]
  },
  {
   "cell_type": "markdown",
   "metadata": {},
   "source": [
    "## Шаг 3. Анализ данных"
   ]
  },
  {
   "cell_type": "markdown",
   "metadata": {},
   "source": [
    "### анализ категорий заведений"
   ]
  },
  {
   "cell_type": "code",
   "execution_count": 72,
   "metadata": {},
   "outputs": [
    {
     "data": {
      "text/plain": [
       "array(['кафе', 'ресторан', 'кофейня', 'пиццерия', 'бар,паб',\n",
       "       'быстрое питание', 'булочная', 'столовая'], dtype=object)"
      ]
     },
     "execution_count": 72,
     "metadata": {},
     "output_type": "execute_result"
    }
   ],
   "source": [
    "places['category'].unique()"
   ]
  },
  {
   "cell_type": "markdown",
   "metadata": {},
   "source": [
    "Всего есть 8 категорий"
   ]
  },
  {
   "cell_type": "code",
   "execution_count": 73,
   "metadata": {},
   "outputs": [
    {
     "data": {
      "text/html": [
       "<div>\n",
       "<style scoped>\n",
       "    .dataframe tbody tr th:only-of-type {\n",
       "        vertical-align: middle;\n",
       "    }\n",
       "\n",
       "    .dataframe tbody tr th {\n",
       "        vertical-align: top;\n",
       "    }\n",
       "\n",
       "    .dataframe thead th {\n",
       "        text-align: right;\n",
       "    }\n",
       "</style>\n",
       "<table border=\"1\" class=\"dataframe\">\n",
       "  <thead>\n",
       "    <tr style=\"text-align: right;\">\n",
       "      <th></th>\n",
       "      <th>category</th>\n",
       "      <th>address</th>\n",
       "    </tr>\n",
       "  </thead>\n",
       "  <tbody>\n",
       "    <tr>\n",
       "      <th>0</th>\n",
       "      <td>булочная</td>\n",
       "      <td>256</td>\n",
       "    </tr>\n",
       "    <tr>\n",
       "      <th>1</th>\n",
       "      <td>столовая</td>\n",
       "      <td>315</td>\n",
       "    </tr>\n",
       "    <tr>\n",
       "      <th>2</th>\n",
       "      <td>быстрое питание</td>\n",
       "      <td>603</td>\n",
       "    </tr>\n",
       "    <tr>\n",
       "      <th>3</th>\n",
       "      <td>пиццерия</td>\n",
       "      <td>633</td>\n",
       "    </tr>\n",
       "    <tr>\n",
       "      <th>4</th>\n",
       "      <td>бар,паб</td>\n",
       "      <td>765</td>\n",
       "    </tr>\n",
       "    <tr>\n",
       "      <th>5</th>\n",
       "      <td>кофейня</td>\n",
       "      <td>1413</td>\n",
       "    </tr>\n",
       "    <tr>\n",
       "      <th>6</th>\n",
       "      <td>ресторан</td>\n",
       "      <td>2043</td>\n",
       "    </tr>\n",
       "    <tr>\n",
       "      <th>7</th>\n",
       "      <td>кафе</td>\n",
       "      <td>2378</td>\n",
       "    </tr>\n",
       "  </tbody>\n",
       "</table>\n",
       "</div>"
      ],
      "text/plain": [
       "          category  address\n",
       "0         булочная      256\n",
       "1         столовая      315\n",
       "2  быстрое питание      603\n",
       "3         пиццерия      633\n",
       "4          бар,паб      765\n",
       "5          кофейня     1413\n",
       "6         ресторан     2043\n",
       "7             кафе     2378"
      ]
     },
     "execution_count": 73,
     "metadata": {},
     "output_type": "execute_result"
    }
   ],
   "source": [
    "type_cat = places.groupby('category')['address'].count().sort_values(ascending=True).reset_index()\n",
    "type_cat"
   ]
  },
  {
   "cell_type": "code",
   "execution_count": 74,
   "metadata": {},
   "outputs": [
    {
     "data": {
      "application/vnd.plotly.v1+json": {
       "config": {
        "plotlyServerURL": "https://plot.ly"
       },
       "data": [
        {
         "alignmentgroup": "True",
         "hovertemplate": "address=%{x}<br>category=%{y}<extra></extra>",
         "legendgroup": "",
         "marker": {
          "color": "#636efa",
          "pattern": {
           "shape": ""
          }
         },
         "name": "",
         "offsetgroup": "",
         "orientation": "h",
         "showlegend": false,
         "textposition": "auto",
         "type": "bar",
         "x": [
          256,
          315,
          603,
          633,
          765,
          1413,
          2043,
          2378
         ],
         "xaxis": "x",
         "y": [
          "булочная",
          "столовая",
          "быстрое питание",
          "пиццерия",
          "бар,паб",
          "кофейня",
          "ресторан",
          "кафе"
         ],
         "yaxis": "y"
        }
       ],
       "layout": {
        "barmode": "relative",
        "legend": {
         "tracegroupgap": 0
        },
        "template": {
         "data": {
          "bar": [
           {
            "error_x": {
             "color": "#2a3f5f"
            },
            "error_y": {
             "color": "#2a3f5f"
            },
            "marker": {
             "line": {
              "color": "#E5ECF6",
              "width": 0.5
             },
             "pattern": {
              "fillmode": "overlay",
              "size": 10,
              "solidity": 0.2
             }
            },
            "type": "bar"
           }
          ],
          "barpolar": [
           {
            "marker": {
             "line": {
              "color": "#E5ECF6",
              "width": 0.5
             },
             "pattern": {
              "fillmode": "overlay",
              "size": 10,
              "solidity": 0.2
             }
            },
            "type": "barpolar"
           }
          ],
          "carpet": [
           {
            "aaxis": {
             "endlinecolor": "#2a3f5f",
             "gridcolor": "white",
             "linecolor": "white",
             "minorgridcolor": "white",
             "startlinecolor": "#2a3f5f"
            },
            "baxis": {
             "endlinecolor": "#2a3f5f",
             "gridcolor": "white",
             "linecolor": "white",
             "minorgridcolor": "white",
             "startlinecolor": "#2a3f5f"
            },
            "type": "carpet"
           }
          ],
          "choropleth": [
           {
            "colorbar": {
             "outlinewidth": 0,
             "ticks": ""
            },
            "type": "choropleth"
           }
          ],
          "contour": [
           {
            "colorbar": {
             "outlinewidth": 0,
             "ticks": ""
            },
            "colorscale": [
             [
              0,
              "#0d0887"
             ],
             [
              0.1111111111111111,
              "#46039f"
             ],
             [
              0.2222222222222222,
              "#7201a8"
             ],
             [
              0.3333333333333333,
              "#9c179e"
             ],
             [
              0.4444444444444444,
              "#bd3786"
             ],
             [
              0.5555555555555556,
              "#d8576b"
             ],
             [
              0.6666666666666666,
              "#ed7953"
             ],
             [
              0.7777777777777778,
              "#fb9f3a"
             ],
             [
              0.8888888888888888,
              "#fdca26"
             ],
             [
              1,
              "#f0f921"
             ]
            ],
            "type": "contour"
           }
          ],
          "contourcarpet": [
           {
            "colorbar": {
             "outlinewidth": 0,
             "ticks": ""
            },
            "type": "contourcarpet"
           }
          ],
          "heatmap": [
           {
            "colorbar": {
             "outlinewidth": 0,
             "ticks": ""
            },
            "colorscale": [
             [
              0,
              "#0d0887"
             ],
             [
              0.1111111111111111,
              "#46039f"
             ],
             [
              0.2222222222222222,
              "#7201a8"
             ],
             [
              0.3333333333333333,
              "#9c179e"
             ],
             [
              0.4444444444444444,
              "#bd3786"
             ],
             [
              0.5555555555555556,
              "#d8576b"
             ],
             [
              0.6666666666666666,
              "#ed7953"
             ],
             [
              0.7777777777777778,
              "#fb9f3a"
             ],
             [
              0.8888888888888888,
              "#fdca26"
             ],
             [
              1,
              "#f0f921"
             ]
            ],
            "type": "heatmap"
           }
          ],
          "heatmapgl": [
           {
            "colorbar": {
             "outlinewidth": 0,
             "ticks": ""
            },
            "colorscale": [
             [
              0,
              "#0d0887"
             ],
             [
              0.1111111111111111,
              "#46039f"
             ],
             [
              0.2222222222222222,
              "#7201a8"
             ],
             [
              0.3333333333333333,
              "#9c179e"
             ],
             [
              0.4444444444444444,
              "#bd3786"
             ],
             [
              0.5555555555555556,
              "#d8576b"
             ],
             [
              0.6666666666666666,
              "#ed7953"
             ],
             [
              0.7777777777777778,
              "#fb9f3a"
             ],
             [
              0.8888888888888888,
              "#fdca26"
             ],
             [
              1,
              "#f0f921"
             ]
            ],
            "type": "heatmapgl"
           }
          ],
          "histogram": [
           {
            "marker": {
             "pattern": {
              "fillmode": "overlay",
              "size": 10,
              "solidity": 0.2
             }
            },
            "type": "histogram"
           }
          ],
          "histogram2d": [
           {
            "colorbar": {
             "outlinewidth": 0,
             "ticks": ""
            },
            "colorscale": [
             [
              0,
              "#0d0887"
             ],
             [
              0.1111111111111111,
              "#46039f"
             ],
             [
              0.2222222222222222,
              "#7201a8"
             ],
             [
              0.3333333333333333,
              "#9c179e"
             ],
             [
              0.4444444444444444,
              "#bd3786"
             ],
             [
              0.5555555555555556,
              "#d8576b"
             ],
             [
              0.6666666666666666,
              "#ed7953"
             ],
             [
              0.7777777777777778,
              "#fb9f3a"
             ],
             [
              0.8888888888888888,
              "#fdca26"
             ],
             [
              1,
              "#f0f921"
             ]
            ],
            "type": "histogram2d"
           }
          ],
          "histogram2dcontour": [
           {
            "colorbar": {
             "outlinewidth": 0,
             "ticks": ""
            },
            "colorscale": [
             [
              0,
              "#0d0887"
             ],
             [
              0.1111111111111111,
              "#46039f"
             ],
             [
              0.2222222222222222,
              "#7201a8"
             ],
             [
              0.3333333333333333,
              "#9c179e"
             ],
             [
              0.4444444444444444,
              "#bd3786"
             ],
             [
              0.5555555555555556,
              "#d8576b"
             ],
             [
              0.6666666666666666,
              "#ed7953"
             ],
             [
              0.7777777777777778,
              "#fb9f3a"
             ],
             [
              0.8888888888888888,
              "#fdca26"
             ],
             [
              1,
              "#f0f921"
             ]
            ],
            "type": "histogram2dcontour"
           }
          ],
          "mesh3d": [
           {
            "colorbar": {
             "outlinewidth": 0,
             "ticks": ""
            },
            "type": "mesh3d"
           }
          ],
          "parcoords": [
           {
            "line": {
             "colorbar": {
              "outlinewidth": 0,
              "ticks": ""
             }
            },
            "type": "parcoords"
           }
          ],
          "pie": [
           {
            "automargin": true,
            "type": "pie"
           }
          ],
          "scatter": [
           {
            "fillpattern": {
             "fillmode": "overlay",
             "size": 10,
             "solidity": 0.2
            },
            "type": "scatter"
           }
          ],
          "scatter3d": [
           {
            "line": {
             "colorbar": {
              "outlinewidth": 0,
              "ticks": ""
             }
            },
            "marker": {
             "colorbar": {
              "outlinewidth": 0,
              "ticks": ""
             }
            },
            "type": "scatter3d"
           }
          ],
          "scattercarpet": [
           {
            "marker": {
             "colorbar": {
              "outlinewidth": 0,
              "ticks": ""
             }
            },
            "type": "scattercarpet"
           }
          ],
          "scattergeo": [
           {
            "marker": {
             "colorbar": {
              "outlinewidth": 0,
              "ticks": ""
             }
            },
            "type": "scattergeo"
           }
          ],
          "scattergl": [
           {
            "marker": {
             "colorbar": {
              "outlinewidth": 0,
              "ticks": ""
             }
            },
            "type": "scattergl"
           }
          ],
          "scattermapbox": [
           {
            "marker": {
             "colorbar": {
              "outlinewidth": 0,
              "ticks": ""
             }
            },
            "type": "scattermapbox"
           }
          ],
          "scatterpolar": [
           {
            "marker": {
             "colorbar": {
              "outlinewidth": 0,
              "ticks": ""
             }
            },
            "type": "scatterpolar"
           }
          ],
          "scatterpolargl": [
           {
            "marker": {
             "colorbar": {
              "outlinewidth": 0,
              "ticks": ""
             }
            },
            "type": "scatterpolargl"
           }
          ],
          "scatterternary": [
           {
            "marker": {
             "colorbar": {
              "outlinewidth": 0,
              "ticks": ""
             }
            },
            "type": "scatterternary"
           }
          ],
          "surface": [
           {
            "colorbar": {
             "outlinewidth": 0,
             "ticks": ""
            },
            "colorscale": [
             [
              0,
              "#0d0887"
             ],
             [
              0.1111111111111111,
              "#46039f"
             ],
             [
              0.2222222222222222,
              "#7201a8"
             ],
             [
              0.3333333333333333,
              "#9c179e"
             ],
             [
              0.4444444444444444,
              "#bd3786"
             ],
             [
              0.5555555555555556,
              "#d8576b"
             ],
             [
              0.6666666666666666,
              "#ed7953"
             ],
             [
              0.7777777777777778,
              "#fb9f3a"
             ],
             [
              0.8888888888888888,
              "#fdca26"
             ],
             [
              1,
              "#f0f921"
             ]
            ],
            "type": "surface"
           }
          ],
          "table": [
           {
            "cells": {
             "fill": {
              "color": "#EBF0F8"
             },
             "line": {
              "color": "white"
             }
            },
            "header": {
             "fill": {
              "color": "#C8D4E3"
             },
             "line": {
              "color": "white"
             }
            },
            "type": "table"
           }
          ]
         },
         "layout": {
          "annotationdefaults": {
           "arrowcolor": "#2a3f5f",
           "arrowhead": 0,
           "arrowwidth": 1
          },
          "autotypenumbers": "strict",
          "coloraxis": {
           "colorbar": {
            "outlinewidth": 0,
            "ticks": ""
           }
          },
          "colorscale": {
           "diverging": [
            [
             0,
             "#8e0152"
            ],
            [
             0.1,
             "#c51b7d"
            ],
            [
             0.2,
             "#de77ae"
            ],
            [
             0.3,
             "#f1b6da"
            ],
            [
             0.4,
             "#fde0ef"
            ],
            [
             0.5,
             "#f7f7f7"
            ],
            [
             0.6,
             "#e6f5d0"
            ],
            [
             0.7,
             "#b8e186"
            ],
            [
             0.8,
             "#7fbc41"
            ],
            [
             0.9,
             "#4d9221"
            ],
            [
             1,
             "#276419"
            ]
           ],
           "sequential": [
            [
             0,
             "#0d0887"
            ],
            [
             0.1111111111111111,
             "#46039f"
            ],
            [
             0.2222222222222222,
             "#7201a8"
            ],
            [
             0.3333333333333333,
             "#9c179e"
            ],
            [
             0.4444444444444444,
             "#bd3786"
            ],
            [
             0.5555555555555556,
             "#d8576b"
            ],
            [
             0.6666666666666666,
             "#ed7953"
            ],
            [
             0.7777777777777778,
             "#fb9f3a"
            ],
            [
             0.8888888888888888,
             "#fdca26"
            ],
            [
             1,
             "#f0f921"
            ]
           ],
           "sequentialminus": [
            [
             0,
             "#0d0887"
            ],
            [
             0.1111111111111111,
             "#46039f"
            ],
            [
             0.2222222222222222,
             "#7201a8"
            ],
            [
             0.3333333333333333,
             "#9c179e"
            ],
            [
             0.4444444444444444,
             "#bd3786"
            ],
            [
             0.5555555555555556,
             "#d8576b"
            ],
            [
             0.6666666666666666,
             "#ed7953"
            ],
            [
             0.7777777777777778,
             "#fb9f3a"
            ],
            [
             0.8888888888888888,
             "#fdca26"
            ],
            [
             1,
             "#f0f921"
            ]
           ]
          },
          "colorway": [
           "#636efa",
           "#EF553B",
           "#00cc96",
           "#ab63fa",
           "#FFA15A",
           "#19d3f3",
           "#FF6692",
           "#B6E880",
           "#FF97FF",
           "#FECB52"
          ],
          "font": {
           "color": "#2a3f5f"
          },
          "geo": {
           "bgcolor": "white",
           "lakecolor": "white",
           "landcolor": "#E5ECF6",
           "showlakes": true,
           "showland": true,
           "subunitcolor": "white"
          },
          "hoverlabel": {
           "align": "left"
          },
          "hovermode": "closest",
          "mapbox": {
           "style": "light"
          },
          "paper_bgcolor": "white",
          "plot_bgcolor": "#E5ECF6",
          "polar": {
           "angularaxis": {
            "gridcolor": "white",
            "linecolor": "white",
            "ticks": ""
           },
           "bgcolor": "#E5ECF6",
           "radialaxis": {
            "gridcolor": "white",
            "linecolor": "white",
            "ticks": ""
           }
          },
          "scene": {
           "xaxis": {
            "backgroundcolor": "#E5ECF6",
            "gridcolor": "white",
            "gridwidth": 2,
            "linecolor": "white",
            "showbackground": true,
            "ticks": "",
            "zerolinecolor": "white"
           },
           "yaxis": {
            "backgroundcolor": "#E5ECF6",
            "gridcolor": "white",
            "gridwidth": 2,
            "linecolor": "white",
            "showbackground": true,
            "ticks": "",
            "zerolinecolor": "white"
           },
           "zaxis": {
            "backgroundcolor": "#E5ECF6",
            "gridcolor": "white",
            "gridwidth": 2,
            "linecolor": "white",
            "showbackground": true,
            "ticks": "",
            "zerolinecolor": "white"
           }
          },
          "shapedefaults": {
           "line": {
            "color": "#2a3f5f"
           }
          },
          "ternary": {
           "aaxis": {
            "gridcolor": "white",
            "linecolor": "white",
            "ticks": ""
           },
           "baxis": {
            "gridcolor": "white",
            "linecolor": "white",
            "ticks": ""
           },
           "bgcolor": "#E5ECF6",
           "caxis": {
            "gridcolor": "white",
            "linecolor": "white",
            "ticks": ""
           }
          },
          "title": {
           "x": 0.05
          },
          "xaxis": {
           "automargin": true,
           "gridcolor": "white",
           "linecolor": "white",
           "ticks": "",
           "title": {
            "standoff": 15
           },
           "zerolinecolor": "white",
           "zerolinewidth": 2
          },
          "yaxis": {
           "automargin": true,
           "gridcolor": "white",
           "linecolor": "white",
           "ticks": "",
           "title": {
            "standoff": 15
           },
           "zerolinecolor": "white",
           "zerolinewidth": 2
          }
         }
        },
        "title": {
         "text": "Распределение количества заведений по категориям"
        },
        "xaxis": {
         "anchor": "y",
         "domain": [
          0,
          1
         ],
         "tickangle": 45,
         "title": {
          "text": "address"
         }
        },
        "yaxis": {
         "anchor": "x",
         "domain": [
          0,
          1
         ],
         "title": {
          "text": "category"
         }
        }
       }
      },
      "text/html": [
       "<div>                            <div id=\"5f321535-dac7-4940-a547-a353cdb846cd\" class=\"plotly-graph-div\" style=\"height:525px; width:100%;\"></div>            <script type=\"text/javascript\">                require([\"plotly\"], function(Plotly) {                    window.PLOTLYENV=window.PLOTLYENV || {};                                    if (document.getElementById(\"5f321535-dac7-4940-a547-a353cdb846cd\")) {                    Plotly.newPlot(                        \"5f321535-dac7-4940-a547-a353cdb846cd\",                        [{\"alignmentgroup\":\"True\",\"hovertemplate\":\"address=%{x}<br>category=%{y}<extra></extra>\",\"legendgroup\":\"\",\"marker\":{\"color\":\"#636efa\",\"pattern\":{\"shape\":\"\"}},\"name\":\"\",\"offsetgroup\":\"\",\"orientation\":\"h\",\"showlegend\":false,\"textposition\":\"auto\",\"x\":[256,315,603,633,765,1413,2043,2378],\"xaxis\":\"x\",\"y\":[\"\\u0431\\u0443\\u043b\\u043e\\u0447\\u043d\\u0430\\u044f\",\"\\u0441\\u0442\\u043e\\u043b\\u043e\\u0432\\u0430\\u044f\",\"\\u0431\\u044b\\u0441\\u0442\\u0440\\u043e\\u0435 \\u043f\\u0438\\u0442\\u0430\\u043d\\u0438\\u0435\",\"\\u043f\\u0438\\u0446\\u0446\\u0435\\u0440\\u0438\\u044f\",\"\\u0431\\u0430\\u0440,\\u043f\\u0430\\u0431\",\"\\u043a\\u043e\\u0444\\u0435\\u0439\\u043d\\u044f\",\"\\u0440\\u0435\\u0441\\u0442\\u043e\\u0440\\u0430\\u043d\",\"\\u043a\\u0430\\u0444\\u0435\"],\"yaxis\":\"y\",\"type\":\"bar\"}],                        {\"template\":{\"data\":{\"histogram2dcontour\":[{\"type\":\"histogram2dcontour\",\"colorbar\":{\"outlinewidth\":0,\"ticks\":\"\"},\"colorscale\":[[0.0,\"#0d0887\"],[0.1111111111111111,\"#46039f\"],[0.2222222222222222,\"#7201a8\"],[0.3333333333333333,\"#9c179e\"],[0.4444444444444444,\"#bd3786\"],[0.5555555555555556,\"#d8576b\"],[0.6666666666666666,\"#ed7953\"],[0.7777777777777778,\"#fb9f3a\"],[0.8888888888888888,\"#fdca26\"],[1.0,\"#f0f921\"]]}],\"choropleth\":[{\"type\":\"choropleth\",\"colorbar\":{\"outlinewidth\":0,\"ticks\":\"\"}}],\"histogram2d\":[{\"type\":\"histogram2d\",\"colorbar\":{\"outlinewidth\":0,\"ticks\":\"\"},\"colorscale\":[[0.0,\"#0d0887\"],[0.1111111111111111,\"#46039f\"],[0.2222222222222222,\"#7201a8\"],[0.3333333333333333,\"#9c179e\"],[0.4444444444444444,\"#bd3786\"],[0.5555555555555556,\"#d8576b\"],[0.6666666666666666,\"#ed7953\"],[0.7777777777777778,\"#fb9f3a\"],[0.8888888888888888,\"#fdca26\"],[1.0,\"#f0f921\"]]}],\"heatmap\":[{\"type\":\"heatmap\",\"colorbar\":{\"outlinewidth\":0,\"ticks\":\"\"},\"colorscale\":[[0.0,\"#0d0887\"],[0.1111111111111111,\"#46039f\"],[0.2222222222222222,\"#7201a8\"],[0.3333333333333333,\"#9c179e\"],[0.4444444444444444,\"#bd3786\"],[0.5555555555555556,\"#d8576b\"],[0.6666666666666666,\"#ed7953\"],[0.7777777777777778,\"#fb9f3a\"],[0.8888888888888888,\"#fdca26\"],[1.0,\"#f0f921\"]]}],\"heatmapgl\":[{\"type\":\"heatmapgl\",\"colorbar\":{\"outlinewidth\":0,\"ticks\":\"\"},\"colorscale\":[[0.0,\"#0d0887\"],[0.1111111111111111,\"#46039f\"],[0.2222222222222222,\"#7201a8\"],[0.3333333333333333,\"#9c179e\"],[0.4444444444444444,\"#bd3786\"],[0.5555555555555556,\"#d8576b\"],[0.6666666666666666,\"#ed7953\"],[0.7777777777777778,\"#fb9f3a\"],[0.8888888888888888,\"#fdca26\"],[1.0,\"#f0f921\"]]}],\"contourcarpet\":[{\"type\":\"contourcarpet\",\"colorbar\":{\"outlinewidth\":0,\"ticks\":\"\"}}],\"contour\":[{\"type\":\"contour\",\"colorbar\":{\"outlinewidth\":0,\"ticks\":\"\"},\"colorscale\":[[0.0,\"#0d0887\"],[0.1111111111111111,\"#46039f\"],[0.2222222222222222,\"#7201a8\"],[0.3333333333333333,\"#9c179e\"],[0.4444444444444444,\"#bd3786\"],[0.5555555555555556,\"#d8576b\"],[0.6666666666666666,\"#ed7953\"],[0.7777777777777778,\"#fb9f3a\"],[0.8888888888888888,\"#fdca26\"],[1.0,\"#f0f921\"]]}],\"surface\":[{\"type\":\"surface\",\"colorbar\":{\"outlinewidth\":0,\"ticks\":\"\"},\"colorscale\":[[0.0,\"#0d0887\"],[0.1111111111111111,\"#46039f\"],[0.2222222222222222,\"#7201a8\"],[0.3333333333333333,\"#9c179e\"],[0.4444444444444444,\"#bd3786\"],[0.5555555555555556,\"#d8576b\"],[0.6666666666666666,\"#ed7953\"],[0.7777777777777778,\"#fb9f3a\"],[0.8888888888888888,\"#fdca26\"],[1.0,\"#f0f921\"]]}],\"mesh3d\":[{\"type\":\"mesh3d\",\"colorbar\":{\"outlinewidth\":0,\"ticks\":\"\"}}],\"scatter\":[{\"fillpattern\":{\"fillmode\":\"overlay\",\"size\":10,\"solidity\":0.2},\"type\":\"scatter\"}],\"parcoords\":[{\"type\":\"parcoords\",\"line\":{\"colorbar\":{\"outlinewidth\":0,\"ticks\":\"\"}}}],\"scatterpolargl\":[{\"type\":\"scatterpolargl\",\"marker\":{\"colorbar\":{\"outlinewidth\":0,\"ticks\":\"\"}}}],\"bar\":[{\"error_x\":{\"color\":\"#2a3f5f\"},\"error_y\":{\"color\":\"#2a3f5f\"},\"marker\":{\"line\":{\"color\":\"#E5ECF6\",\"width\":0.5},\"pattern\":{\"fillmode\":\"overlay\",\"size\":10,\"solidity\":0.2}},\"type\":\"bar\"}],\"scattergeo\":[{\"type\":\"scattergeo\",\"marker\":{\"colorbar\":{\"outlinewidth\":0,\"ticks\":\"\"}}}],\"scatterpolar\":[{\"type\":\"scatterpolar\",\"marker\":{\"colorbar\":{\"outlinewidth\":0,\"ticks\":\"\"}}}],\"histogram\":[{\"marker\":{\"pattern\":{\"fillmode\":\"overlay\",\"size\":10,\"solidity\":0.2}},\"type\":\"histogram\"}],\"scattergl\":[{\"type\":\"scattergl\",\"marker\":{\"colorbar\":{\"outlinewidth\":0,\"ticks\":\"\"}}}],\"scatter3d\":[{\"type\":\"scatter3d\",\"line\":{\"colorbar\":{\"outlinewidth\":0,\"ticks\":\"\"}},\"marker\":{\"colorbar\":{\"outlinewidth\":0,\"ticks\":\"\"}}}],\"scattermapbox\":[{\"type\":\"scattermapbox\",\"marker\":{\"colorbar\":{\"outlinewidth\":0,\"ticks\":\"\"}}}],\"scatterternary\":[{\"type\":\"scatterternary\",\"marker\":{\"colorbar\":{\"outlinewidth\":0,\"ticks\":\"\"}}}],\"scattercarpet\":[{\"type\":\"scattercarpet\",\"marker\":{\"colorbar\":{\"outlinewidth\":0,\"ticks\":\"\"}}}],\"carpet\":[{\"aaxis\":{\"endlinecolor\":\"#2a3f5f\",\"gridcolor\":\"white\",\"linecolor\":\"white\",\"minorgridcolor\":\"white\",\"startlinecolor\":\"#2a3f5f\"},\"baxis\":{\"endlinecolor\":\"#2a3f5f\",\"gridcolor\":\"white\",\"linecolor\":\"white\",\"minorgridcolor\":\"white\",\"startlinecolor\":\"#2a3f5f\"},\"type\":\"carpet\"}],\"table\":[{\"cells\":{\"fill\":{\"color\":\"#EBF0F8\"},\"line\":{\"color\":\"white\"}},\"header\":{\"fill\":{\"color\":\"#C8D4E3\"},\"line\":{\"color\":\"white\"}},\"type\":\"table\"}],\"barpolar\":[{\"marker\":{\"line\":{\"color\":\"#E5ECF6\",\"width\":0.5},\"pattern\":{\"fillmode\":\"overlay\",\"size\":10,\"solidity\":0.2}},\"type\":\"barpolar\"}],\"pie\":[{\"automargin\":true,\"type\":\"pie\"}]},\"layout\":{\"autotypenumbers\":\"strict\",\"colorway\":[\"#636efa\",\"#EF553B\",\"#00cc96\",\"#ab63fa\",\"#FFA15A\",\"#19d3f3\",\"#FF6692\",\"#B6E880\",\"#FF97FF\",\"#FECB52\"],\"font\":{\"color\":\"#2a3f5f\"},\"hovermode\":\"closest\",\"hoverlabel\":{\"align\":\"left\"},\"paper_bgcolor\":\"white\",\"plot_bgcolor\":\"#E5ECF6\",\"polar\":{\"bgcolor\":\"#E5ECF6\",\"angularaxis\":{\"gridcolor\":\"white\",\"linecolor\":\"white\",\"ticks\":\"\"},\"radialaxis\":{\"gridcolor\":\"white\",\"linecolor\":\"white\",\"ticks\":\"\"}},\"ternary\":{\"bgcolor\":\"#E5ECF6\",\"aaxis\":{\"gridcolor\":\"white\",\"linecolor\":\"white\",\"ticks\":\"\"},\"baxis\":{\"gridcolor\":\"white\",\"linecolor\":\"white\",\"ticks\":\"\"},\"caxis\":{\"gridcolor\":\"white\",\"linecolor\":\"white\",\"ticks\":\"\"}},\"coloraxis\":{\"colorbar\":{\"outlinewidth\":0,\"ticks\":\"\"}},\"colorscale\":{\"sequential\":[[0.0,\"#0d0887\"],[0.1111111111111111,\"#46039f\"],[0.2222222222222222,\"#7201a8\"],[0.3333333333333333,\"#9c179e\"],[0.4444444444444444,\"#bd3786\"],[0.5555555555555556,\"#d8576b\"],[0.6666666666666666,\"#ed7953\"],[0.7777777777777778,\"#fb9f3a\"],[0.8888888888888888,\"#fdca26\"],[1.0,\"#f0f921\"]],\"sequentialminus\":[[0.0,\"#0d0887\"],[0.1111111111111111,\"#46039f\"],[0.2222222222222222,\"#7201a8\"],[0.3333333333333333,\"#9c179e\"],[0.4444444444444444,\"#bd3786\"],[0.5555555555555556,\"#d8576b\"],[0.6666666666666666,\"#ed7953\"],[0.7777777777777778,\"#fb9f3a\"],[0.8888888888888888,\"#fdca26\"],[1.0,\"#f0f921\"]],\"diverging\":[[0,\"#8e0152\"],[0.1,\"#c51b7d\"],[0.2,\"#de77ae\"],[0.3,\"#f1b6da\"],[0.4,\"#fde0ef\"],[0.5,\"#f7f7f7\"],[0.6,\"#e6f5d0\"],[0.7,\"#b8e186\"],[0.8,\"#7fbc41\"],[0.9,\"#4d9221\"],[1,\"#276419\"]]},\"xaxis\":{\"gridcolor\":\"white\",\"linecolor\":\"white\",\"ticks\":\"\",\"title\":{\"standoff\":15},\"zerolinecolor\":\"white\",\"automargin\":true,\"zerolinewidth\":2},\"yaxis\":{\"gridcolor\":\"white\",\"linecolor\":\"white\",\"ticks\":\"\",\"title\":{\"standoff\":15},\"zerolinecolor\":\"white\",\"automargin\":true,\"zerolinewidth\":2},\"scene\":{\"xaxis\":{\"backgroundcolor\":\"#E5ECF6\",\"gridcolor\":\"white\",\"linecolor\":\"white\",\"showbackground\":true,\"ticks\":\"\",\"zerolinecolor\":\"white\",\"gridwidth\":2},\"yaxis\":{\"backgroundcolor\":\"#E5ECF6\",\"gridcolor\":\"white\",\"linecolor\":\"white\",\"showbackground\":true,\"ticks\":\"\",\"zerolinecolor\":\"white\",\"gridwidth\":2},\"zaxis\":{\"backgroundcolor\":\"#E5ECF6\",\"gridcolor\":\"white\",\"linecolor\":\"white\",\"showbackground\":true,\"ticks\":\"\",\"zerolinecolor\":\"white\",\"gridwidth\":2}},\"shapedefaults\":{\"line\":{\"color\":\"#2a3f5f\"}},\"annotationdefaults\":{\"arrowcolor\":\"#2a3f5f\",\"arrowhead\":0,\"arrowwidth\":1},\"geo\":{\"bgcolor\":\"white\",\"landcolor\":\"#E5ECF6\",\"subunitcolor\":\"white\",\"showland\":true,\"showlakes\":true,\"lakecolor\":\"white\"},\"title\":{\"x\":0.05},\"mapbox\":{\"style\":\"light\"}}},\"xaxis\":{\"anchor\":\"y\",\"domain\":[0.0,1.0],\"title\":{\"text\":\"address\"},\"tickangle\":45},\"yaxis\":{\"anchor\":\"x\",\"domain\":[0.0,1.0],\"title\":{\"text\":\"category\"}},\"legend\":{\"tracegroupgap\":0},\"title\":{\"text\":\"\\u0420\\u0430\\u0441\\u043f\\u0440\\u0435\\u0434\\u0435\\u043b\\u0435\\u043d\\u0438\\u0435 \\u043a\\u043e\\u043b\\u0438\\u0447\\u0435\\u0441\\u0442\\u0432\\u0430 \\u0437\\u0430\\u0432\\u0435\\u0434\\u0435\\u043d\\u0438\\u0439 \\u043f\\u043e \\u043a\\u0430\\u0442\\u0435\\u0433\\u043e\\u0440\\u0438\\u044f\\u043c\"},\"barmode\":\"relative\"},                        {\"responsive\": true}                    ).then(function(){\n",
       "                            \n",
       "var gd = document.getElementById('5f321535-dac7-4940-a547-a353cdb846cd');\n",
       "var x = new MutationObserver(function (mutations, observer) {{\n",
       "        var display = window.getComputedStyle(gd).display;\n",
       "        if (!display || display === 'none') {{\n",
       "            console.log([gd, 'removed!']);\n",
       "            Plotly.purge(gd);\n",
       "            observer.disconnect();\n",
       "        }}\n",
       "}});\n",
       "\n",
       "// Listen for the removal of the full notebook cells\n",
       "var notebookContainer = gd.closest('#notebook-container');\n",
       "if (notebookContainer) {{\n",
       "    x.observe(notebookContainer, {childList: true});\n",
       "}}\n",
       "\n",
       "// Listen for the clearing of the current output cell\n",
       "var outputEl = gd.closest('.output');\n",
       "if (outputEl) {{\n",
       "    x.observe(outputEl, {childList: true});\n",
       "}}\n",
       "\n",
       "                        })                };                });            </script>        </div>"
      ]
     },
     "metadata": {},
     "output_type": "display_data"
    }
   ],
   "source": [
    "fig = px.bar(type_cat, x='address', y='category', title='Распределение количества заведений по категориям')\n",
    "fig.update_xaxes(tickangle=45)\n",
    "fig.show() "
   ]
  },
  {
   "cell_type": "markdown",
   "metadata": {},
   "source": [
    "Больше всего заведений в категориях ресторан и кафе. Далее идёт категория кофейня. Меньше всего булочных и столовых."
   ]
  },
  {
   "cell_type": "markdown",
   "metadata": {},
   "source": [
    "### анализ количества посадочных мест"
   ]
  },
  {
   "cell_type": "code",
   "execution_count": 75,
   "metadata": {},
   "outputs": [],
   "source": [
    "kol_seats = places.pivot_table(index='category', values='seats', aggfunc=['mean', 'median']).reset_index()"
   ]
  },
  {
   "cell_type": "code",
   "execution_count": 76,
   "metadata": {},
   "outputs": [],
   "source": [
    "kol_seats.columns=['category','mean_seats','median_seats']"
   ]
  },
  {
   "cell_type": "code",
   "execution_count": 77,
   "metadata": {},
   "outputs": [
    {
     "data": {
      "text/html": [
       "<div>\n",
       "<style scoped>\n",
       "    .dataframe tbody tr th:only-of-type {\n",
       "        vertical-align: middle;\n",
       "    }\n",
       "\n",
       "    .dataframe tbody tr th {\n",
       "        vertical-align: top;\n",
       "    }\n",
       "\n",
       "    .dataframe thead th {\n",
       "        text-align: right;\n",
       "    }\n",
       "</style>\n",
       "<table border=\"1\" class=\"dataframe\">\n",
       "  <thead>\n",
       "    <tr style=\"text-align: right;\">\n",
       "      <th></th>\n",
       "      <th>category</th>\n",
       "      <th>mean_seats</th>\n",
       "      <th>median_seats</th>\n",
       "    </tr>\n",
       "  </thead>\n",
       "  <tbody>\n",
       "    <tr>\n",
       "      <th>0</th>\n",
       "      <td>бар,паб</td>\n",
       "      <td>124.532051</td>\n",
       "      <td>82.5</td>\n",
       "    </tr>\n",
       "    <tr>\n",
       "      <th>1</th>\n",
       "      <td>булочная</td>\n",
       "      <td>89.385135</td>\n",
       "      <td>50.0</td>\n",
       "    </tr>\n",
       "    <tr>\n",
       "      <th>2</th>\n",
       "      <td>быстрое питание</td>\n",
       "      <td>98.891117</td>\n",
       "      <td>65.0</td>\n",
       "    </tr>\n",
       "    <tr>\n",
       "      <th>3</th>\n",
       "      <td>кафе</td>\n",
       "      <td>97.512315</td>\n",
       "      <td>60.0</td>\n",
       "    </tr>\n",
       "    <tr>\n",
       "      <th>4</th>\n",
       "      <td>кофейня</td>\n",
       "      <td>111.199734</td>\n",
       "      <td>80.0</td>\n",
       "    </tr>\n",
       "    <tr>\n",
       "      <th>5</th>\n",
       "      <td>пиццерия</td>\n",
       "      <td>94.496487</td>\n",
       "      <td>55.0</td>\n",
       "    </tr>\n",
       "    <tr>\n",
       "      <th>6</th>\n",
       "      <td>ресторан</td>\n",
       "      <td>121.944094</td>\n",
       "      <td>86.0</td>\n",
       "    </tr>\n",
       "    <tr>\n",
       "      <th>7</th>\n",
       "      <td>столовая</td>\n",
       "      <td>99.750000</td>\n",
       "      <td>75.5</td>\n",
       "    </tr>\n",
       "  </tbody>\n",
       "</table>\n",
       "</div>"
      ],
      "text/plain": [
       "          category  mean_seats  median_seats\n",
       "0          бар,паб  124.532051          82.5\n",
       "1         булочная   89.385135          50.0\n",
       "2  быстрое питание   98.891117          65.0\n",
       "3             кафе   97.512315          60.0\n",
       "4          кофейня  111.199734          80.0\n",
       "5         пиццерия   94.496487          55.0\n",
       "6         ресторан  121.944094          86.0\n",
       "7         столовая   99.750000          75.5"
      ]
     },
     "execution_count": 77,
     "metadata": {},
     "output_type": "execute_result"
    }
   ],
   "source": [
    "kol_seats"
   ]
  },
  {
   "cell_type": "code",
   "execution_count": 78,
   "metadata": {},
   "outputs": [
    {
     "data": {
      "application/vnd.plotly.v1+json": {
       "config": {
        "plotlyServerURL": "https://plot.ly"
       },
       "data": [
        {
         "alignmentgroup": "True",
         "hovertemplate": "median_seats=%{x}<br>category=%{y}<extra></extra>",
         "legendgroup": "",
         "marker": {
          "color": "#636efa",
          "pattern": {
           "shape": ""
          }
         },
         "name": "",
         "offsetgroup": "",
         "orientation": "h",
         "showlegend": false,
         "textposition": "auto",
         "type": "bar",
         "x": [
          50,
          55,
          60,
          65,
          75.5,
          80,
          82.5,
          86
         ],
         "xaxis": "x",
         "y": [
          "булочная",
          "пиццерия",
          "кафе",
          "быстрое питание",
          "столовая",
          "кофейня",
          "бар,паб",
          "ресторан"
         ],
         "yaxis": "y"
        }
       ],
       "layout": {
        "barmode": "relative",
        "legend": {
         "tracegroupgap": 0
        },
        "template": {
         "data": {
          "bar": [
           {
            "error_x": {
             "color": "#2a3f5f"
            },
            "error_y": {
             "color": "#2a3f5f"
            },
            "marker": {
             "line": {
              "color": "#E5ECF6",
              "width": 0.5
             },
             "pattern": {
              "fillmode": "overlay",
              "size": 10,
              "solidity": 0.2
             }
            },
            "type": "bar"
           }
          ],
          "barpolar": [
           {
            "marker": {
             "line": {
              "color": "#E5ECF6",
              "width": 0.5
             },
             "pattern": {
              "fillmode": "overlay",
              "size": 10,
              "solidity": 0.2
             }
            },
            "type": "barpolar"
           }
          ],
          "carpet": [
           {
            "aaxis": {
             "endlinecolor": "#2a3f5f",
             "gridcolor": "white",
             "linecolor": "white",
             "minorgridcolor": "white",
             "startlinecolor": "#2a3f5f"
            },
            "baxis": {
             "endlinecolor": "#2a3f5f",
             "gridcolor": "white",
             "linecolor": "white",
             "minorgridcolor": "white",
             "startlinecolor": "#2a3f5f"
            },
            "type": "carpet"
           }
          ],
          "choropleth": [
           {
            "colorbar": {
             "outlinewidth": 0,
             "ticks": ""
            },
            "type": "choropleth"
           }
          ],
          "contour": [
           {
            "colorbar": {
             "outlinewidth": 0,
             "ticks": ""
            },
            "colorscale": [
             [
              0,
              "#0d0887"
             ],
             [
              0.1111111111111111,
              "#46039f"
             ],
             [
              0.2222222222222222,
              "#7201a8"
             ],
             [
              0.3333333333333333,
              "#9c179e"
             ],
             [
              0.4444444444444444,
              "#bd3786"
             ],
             [
              0.5555555555555556,
              "#d8576b"
             ],
             [
              0.6666666666666666,
              "#ed7953"
             ],
             [
              0.7777777777777778,
              "#fb9f3a"
             ],
             [
              0.8888888888888888,
              "#fdca26"
             ],
             [
              1,
              "#f0f921"
             ]
            ],
            "type": "contour"
           }
          ],
          "contourcarpet": [
           {
            "colorbar": {
             "outlinewidth": 0,
             "ticks": ""
            },
            "type": "contourcarpet"
           }
          ],
          "heatmap": [
           {
            "colorbar": {
             "outlinewidth": 0,
             "ticks": ""
            },
            "colorscale": [
             [
              0,
              "#0d0887"
             ],
             [
              0.1111111111111111,
              "#46039f"
             ],
             [
              0.2222222222222222,
              "#7201a8"
             ],
             [
              0.3333333333333333,
              "#9c179e"
             ],
             [
              0.4444444444444444,
              "#bd3786"
             ],
             [
              0.5555555555555556,
              "#d8576b"
             ],
             [
              0.6666666666666666,
              "#ed7953"
             ],
             [
              0.7777777777777778,
              "#fb9f3a"
             ],
             [
              0.8888888888888888,
              "#fdca26"
             ],
             [
              1,
              "#f0f921"
             ]
            ],
            "type": "heatmap"
           }
          ],
          "heatmapgl": [
           {
            "colorbar": {
             "outlinewidth": 0,
             "ticks": ""
            },
            "colorscale": [
             [
              0,
              "#0d0887"
             ],
             [
              0.1111111111111111,
              "#46039f"
             ],
             [
              0.2222222222222222,
              "#7201a8"
             ],
             [
              0.3333333333333333,
              "#9c179e"
             ],
             [
              0.4444444444444444,
              "#bd3786"
             ],
             [
              0.5555555555555556,
              "#d8576b"
             ],
             [
              0.6666666666666666,
              "#ed7953"
             ],
             [
              0.7777777777777778,
              "#fb9f3a"
             ],
             [
              0.8888888888888888,
              "#fdca26"
             ],
             [
              1,
              "#f0f921"
             ]
            ],
            "type": "heatmapgl"
           }
          ],
          "histogram": [
           {
            "marker": {
             "pattern": {
              "fillmode": "overlay",
              "size": 10,
              "solidity": 0.2
             }
            },
            "type": "histogram"
           }
          ],
          "histogram2d": [
           {
            "colorbar": {
             "outlinewidth": 0,
             "ticks": ""
            },
            "colorscale": [
             [
              0,
              "#0d0887"
             ],
             [
              0.1111111111111111,
              "#46039f"
             ],
             [
              0.2222222222222222,
              "#7201a8"
             ],
             [
              0.3333333333333333,
              "#9c179e"
             ],
             [
              0.4444444444444444,
              "#bd3786"
             ],
             [
              0.5555555555555556,
              "#d8576b"
             ],
             [
              0.6666666666666666,
              "#ed7953"
             ],
             [
              0.7777777777777778,
              "#fb9f3a"
             ],
             [
              0.8888888888888888,
              "#fdca26"
             ],
             [
              1,
              "#f0f921"
             ]
            ],
            "type": "histogram2d"
           }
          ],
          "histogram2dcontour": [
           {
            "colorbar": {
             "outlinewidth": 0,
             "ticks": ""
            },
            "colorscale": [
             [
              0,
              "#0d0887"
             ],
             [
              0.1111111111111111,
              "#46039f"
             ],
             [
              0.2222222222222222,
              "#7201a8"
             ],
             [
              0.3333333333333333,
              "#9c179e"
             ],
             [
              0.4444444444444444,
              "#bd3786"
             ],
             [
              0.5555555555555556,
              "#d8576b"
             ],
             [
              0.6666666666666666,
              "#ed7953"
             ],
             [
              0.7777777777777778,
              "#fb9f3a"
             ],
             [
              0.8888888888888888,
              "#fdca26"
             ],
             [
              1,
              "#f0f921"
             ]
            ],
            "type": "histogram2dcontour"
           }
          ],
          "mesh3d": [
           {
            "colorbar": {
             "outlinewidth": 0,
             "ticks": ""
            },
            "type": "mesh3d"
           }
          ],
          "parcoords": [
           {
            "line": {
             "colorbar": {
              "outlinewidth": 0,
              "ticks": ""
             }
            },
            "type": "parcoords"
           }
          ],
          "pie": [
           {
            "automargin": true,
            "type": "pie"
           }
          ],
          "scatter": [
           {
            "fillpattern": {
             "fillmode": "overlay",
             "size": 10,
             "solidity": 0.2
            },
            "type": "scatter"
           }
          ],
          "scatter3d": [
           {
            "line": {
             "colorbar": {
              "outlinewidth": 0,
              "ticks": ""
             }
            },
            "marker": {
             "colorbar": {
              "outlinewidth": 0,
              "ticks": ""
             }
            },
            "type": "scatter3d"
           }
          ],
          "scattercarpet": [
           {
            "marker": {
             "colorbar": {
              "outlinewidth": 0,
              "ticks": ""
             }
            },
            "type": "scattercarpet"
           }
          ],
          "scattergeo": [
           {
            "marker": {
             "colorbar": {
              "outlinewidth": 0,
              "ticks": ""
             }
            },
            "type": "scattergeo"
           }
          ],
          "scattergl": [
           {
            "marker": {
             "colorbar": {
              "outlinewidth": 0,
              "ticks": ""
             }
            },
            "type": "scattergl"
           }
          ],
          "scattermapbox": [
           {
            "marker": {
             "colorbar": {
              "outlinewidth": 0,
              "ticks": ""
             }
            },
            "type": "scattermapbox"
           }
          ],
          "scatterpolar": [
           {
            "marker": {
             "colorbar": {
              "outlinewidth": 0,
              "ticks": ""
             }
            },
            "type": "scatterpolar"
           }
          ],
          "scatterpolargl": [
           {
            "marker": {
             "colorbar": {
              "outlinewidth": 0,
              "ticks": ""
             }
            },
            "type": "scatterpolargl"
           }
          ],
          "scatterternary": [
           {
            "marker": {
             "colorbar": {
              "outlinewidth": 0,
              "ticks": ""
             }
            },
            "type": "scatterternary"
           }
          ],
          "surface": [
           {
            "colorbar": {
             "outlinewidth": 0,
             "ticks": ""
            },
            "colorscale": [
             [
              0,
              "#0d0887"
             ],
             [
              0.1111111111111111,
              "#46039f"
             ],
             [
              0.2222222222222222,
              "#7201a8"
             ],
             [
              0.3333333333333333,
              "#9c179e"
             ],
             [
              0.4444444444444444,
              "#bd3786"
             ],
             [
              0.5555555555555556,
              "#d8576b"
             ],
             [
              0.6666666666666666,
              "#ed7953"
             ],
             [
              0.7777777777777778,
              "#fb9f3a"
             ],
             [
              0.8888888888888888,
              "#fdca26"
             ],
             [
              1,
              "#f0f921"
             ]
            ],
            "type": "surface"
           }
          ],
          "table": [
           {
            "cells": {
             "fill": {
              "color": "#EBF0F8"
             },
             "line": {
              "color": "white"
             }
            },
            "header": {
             "fill": {
              "color": "#C8D4E3"
             },
             "line": {
              "color": "white"
             }
            },
            "type": "table"
           }
          ]
         },
         "layout": {
          "annotationdefaults": {
           "arrowcolor": "#2a3f5f",
           "arrowhead": 0,
           "arrowwidth": 1
          },
          "autotypenumbers": "strict",
          "coloraxis": {
           "colorbar": {
            "outlinewidth": 0,
            "ticks": ""
           }
          },
          "colorscale": {
           "diverging": [
            [
             0,
             "#8e0152"
            ],
            [
             0.1,
             "#c51b7d"
            ],
            [
             0.2,
             "#de77ae"
            ],
            [
             0.3,
             "#f1b6da"
            ],
            [
             0.4,
             "#fde0ef"
            ],
            [
             0.5,
             "#f7f7f7"
            ],
            [
             0.6,
             "#e6f5d0"
            ],
            [
             0.7,
             "#b8e186"
            ],
            [
             0.8,
             "#7fbc41"
            ],
            [
             0.9,
             "#4d9221"
            ],
            [
             1,
             "#276419"
            ]
           ],
           "sequential": [
            [
             0,
             "#0d0887"
            ],
            [
             0.1111111111111111,
             "#46039f"
            ],
            [
             0.2222222222222222,
             "#7201a8"
            ],
            [
             0.3333333333333333,
             "#9c179e"
            ],
            [
             0.4444444444444444,
             "#bd3786"
            ],
            [
             0.5555555555555556,
             "#d8576b"
            ],
            [
             0.6666666666666666,
             "#ed7953"
            ],
            [
             0.7777777777777778,
             "#fb9f3a"
            ],
            [
             0.8888888888888888,
             "#fdca26"
            ],
            [
             1,
             "#f0f921"
            ]
           ],
           "sequentialminus": [
            [
             0,
             "#0d0887"
            ],
            [
             0.1111111111111111,
             "#46039f"
            ],
            [
             0.2222222222222222,
             "#7201a8"
            ],
            [
             0.3333333333333333,
             "#9c179e"
            ],
            [
             0.4444444444444444,
             "#bd3786"
            ],
            [
             0.5555555555555556,
             "#d8576b"
            ],
            [
             0.6666666666666666,
             "#ed7953"
            ],
            [
             0.7777777777777778,
             "#fb9f3a"
            ],
            [
             0.8888888888888888,
             "#fdca26"
            ],
            [
             1,
             "#f0f921"
            ]
           ]
          },
          "colorway": [
           "#636efa",
           "#EF553B",
           "#00cc96",
           "#ab63fa",
           "#FFA15A",
           "#19d3f3",
           "#FF6692",
           "#B6E880",
           "#FF97FF",
           "#FECB52"
          ],
          "font": {
           "color": "#2a3f5f"
          },
          "geo": {
           "bgcolor": "white",
           "lakecolor": "white",
           "landcolor": "#E5ECF6",
           "showlakes": true,
           "showland": true,
           "subunitcolor": "white"
          },
          "hoverlabel": {
           "align": "left"
          },
          "hovermode": "closest",
          "mapbox": {
           "style": "light"
          },
          "paper_bgcolor": "white",
          "plot_bgcolor": "#E5ECF6",
          "polar": {
           "angularaxis": {
            "gridcolor": "white",
            "linecolor": "white",
            "ticks": ""
           },
           "bgcolor": "#E5ECF6",
           "radialaxis": {
            "gridcolor": "white",
            "linecolor": "white",
            "ticks": ""
           }
          },
          "scene": {
           "xaxis": {
            "backgroundcolor": "#E5ECF6",
            "gridcolor": "white",
            "gridwidth": 2,
            "linecolor": "white",
            "showbackground": true,
            "ticks": "",
            "zerolinecolor": "white"
           },
           "yaxis": {
            "backgroundcolor": "#E5ECF6",
            "gridcolor": "white",
            "gridwidth": 2,
            "linecolor": "white",
            "showbackground": true,
            "ticks": "",
            "zerolinecolor": "white"
           },
           "zaxis": {
            "backgroundcolor": "#E5ECF6",
            "gridcolor": "white",
            "gridwidth": 2,
            "linecolor": "white",
            "showbackground": true,
            "ticks": "",
            "zerolinecolor": "white"
           }
          },
          "shapedefaults": {
           "line": {
            "color": "#2a3f5f"
           }
          },
          "ternary": {
           "aaxis": {
            "gridcolor": "white",
            "linecolor": "white",
            "ticks": ""
           },
           "baxis": {
            "gridcolor": "white",
            "linecolor": "white",
            "ticks": ""
           },
           "bgcolor": "#E5ECF6",
           "caxis": {
            "gridcolor": "white",
            "linecolor": "white",
            "ticks": ""
           }
          },
          "title": {
           "x": 0.05
          },
          "xaxis": {
           "automargin": true,
           "gridcolor": "white",
           "linecolor": "white",
           "ticks": "",
           "title": {
            "standoff": 15
           },
           "zerolinecolor": "white",
           "zerolinewidth": 2
          },
          "yaxis": {
           "automargin": true,
           "gridcolor": "white",
           "linecolor": "white",
           "ticks": "",
           "title": {
            "standoff": 15
           },
           "zerolinecolor": "white",
           "zerolinewidth": 2
          }
         }
        },
        "title": {
         "text": "среднее количество мест по категориям"
        },
        "xaxis": {
         "anchor": "y",
         "domain": [
          0,
          1
         ],
         "tickangle": 45,
         "title": {
          "text": "median_seats"
         }
        },
        "yaxis": {
         "anchor": "x",
         "domain": [
          0,
          1
         ],
         "title": {
          "text": "category"
         }
        }
       }
      },
      "text/html": [
       "<div>                            <div id=\"b0422404-8291-4a5e-9eb1-a11ff198f237\" class=\"plotly-graph-div\" style=\"height:525px; width:100%;\"></div>            <script type=\"text/javascript\">                require([\"plotly\"], function(Plotly) {                    window.PLOTLYENV=window.PLOTLYENV || {};                                    if (document.getElementById(\"b0422404-8291-4a5e-9eb1-a11ff198f237\")) {                    Plotly.newPlot(                        \"b0422404-8291-4a5e-9eb1-a11ff198f237\",                        [{\"alignmentgroup\":\"True\",\"hovertemplate\":\"median_seats=%{x}<br>category=%{y}<extra></extra>\",\"legendgroup\":\"\",\"marker\":{\"color\":\"#636efa\",\"pattern\":{\"shape\":\"\"}},\"name\":\"\",\"offsetgroup\":\"\",\"orientation\":\"h\",\"showlegend\":false,\"textposition\":\"auto\",\"x\":[50.0,55.0,60.0,65.0,75.5,80.0,82.5,86.0],\"xaxis\":\"x\",\"y\":[\"\\u0431\\u0443\\u043b\\u043e\\u0447\\u043d\\u0430\\u044f\",\"\\u043f\\u0438\\u0446\\u0446\\u0435\\u0440\\u0438\\u044f\",\"\\u043a\\u0430\\u0444\\u0435\",\"\\u0431\\u044b\\u0441\\u0442\\u0440\\u043e\\u0435 \\u043f\\u0438\\u0442\\u0430\\u043d\\u0438\\u0435\",\"\\u0441\\u0442\\u043e\\u043b\\u043e\\u0432\\u0430\\u044f\",\"\\u043a\\u043e\\u0444\\u0435\\u0439\\u043d\\u044f\",\"\\u0431\\u0430\\u0440,\\u043f\\u0430\\u0431\",\"\\u0440\\u0435\\u0441\\u0442\\u043e\\u0440\\u0430\\u043d\"],\"yaxis\":\"y\",\"type\":\"bar\"}],                        {\"template\":{\"data\":{\"histogram2dcontour\":[{\"type\":\"histogram2dcontour\",\"colorbar\":{\"outlinewidth\":0,\"ticks\":\"\"},\"colorscale\":[[0.0,\"#0d0887\"],[0.1111111111111111,\"#46039f\"],[0.2222222222222222,\"#7201a8\"],[0.3333333333333333,\"#9c179e\"],[0.4444444444444444,\"#bd3786\"],[0.5555555555555556,\"#d8576b\"],[0.6666666666666666,\"#ed7953\"],[0.7777777777777778,\"#fb9f3a\"],[0.8888888888888888,\"#fdca26\"],[1.0,\"#f0f921\"]]}],\"choropleth\":[{\"type\":\"choropleth\",\"colorbar\":{\"outlinewidth\":0,\"ticks\":\"\"}}],\"histogram2d\":[{\"type\":\"histogram2d\",\"colorbar\":{\"outlinewidth\":0,\"ticks\":\"\"},\"colorscale\":[[0.0,\"#0d0887\"],[0.1111111111111111,\"#46039f\"],[0.2222222222222222,\"#7201a8\"],[0.3333333333333333,\"#9c179e\"],[0.4444444444444444,\"#bd3786\"],[0.5555555555555556,\"#d8576b\"],[0.6666666666666666,\"#ed7953\"],[0.7777777777777778,\"#fb9f3a\"],[0.8888888888888888,\"#fdca26\"],[1.0,\"#f0f921\"]]}],\"heatmap\":[{\"type\":\"heatmap\",\"colorbar\":{\"outlinewidth\":0,\"ticks\":\"\"},\"colorscale\":[[0.0,\"#0d0887\"],[0.1111111111111111,\"#46039f\"],[0.2222222222222222,\"#7201a8\"],[0.3333333333333333,\"#9c179e\"],[0.4444444444444444,\"#bd3786\"],[0.5555555555555556,\"#d8576b\"],[0.6666666666666666,\"#ed7953\"],[0.7777777777777778,\"#fb9f3a\"],[0.8888888888888888,\"#fdca26\"],[1.0,\"#f0f921\"]]}],\"heatmapgl\":[{\"type\":\"heatmapgl\",\"colorbar\":{\"outlinewidth\":0,\"ticks\":\"\"},\"colorscale\":[[0.0,\"#0d0887\"],[0.1111111111111111,\"#46039f\"],[0.2222222222222222,\"#7201a8\"],[0.3333333333333333,\"#9c179e\"],[0.4444444444444444,\"#bd3786\"],[0.5555555555555556,\"#d8576b\"],[0.6666666666666666,\"#ed7953\"],[0.7777777777777778,\"#fb9f3a\"],[0.8888888888888888,\"#fdca26\"],[1.0,\"#f0f921\"]]}],\"contourcarpet\":[{\"type\":\"contourcarpet\",\"colorbar\":{\"outlinewidth\":0,\"ticks\":\"\"}}],\"contour\":[{\"type\":\"contour\",\"colorbar\":{\"outlinewidth\":0,\"ticks\":\"\"},\"colorscale\":[[0.0,\"#0d0887\"],[0.1111111111111111,\"#46039f\"],[0.2222222222222222,\"#7201a8\"],[0.3333333333333333,\"#9c179e\"],[0.4444444444444444,\"#bd3786\"],[0.5555555555555556,\"#d8576b\"],[0.6666666666666666,\"#ed7953\"],[0.7777777777777778,\"#fb9f3a\"],[0.8888888888888888,\"#fdca26\"],[1.0,\"#f0f921\"]]}],\"surface\":[{\"type\":\"surface\",\"colorbar\":{\"outlinewidth\":0,\"ticks\":\"\"},\"colorscale\":[[0.0,\"#0d0887\"],[0.1111111111111111,\"#46039f\"],[0.2222222222222222,\"#7201a8\"],[0.3333333333333333,\"#9c179e\"],[0.4444444444444444,\"#bd3786\"],[0.5555555555555556,\"#d8576b\"],[0.6666666666666666,\"#ed7953\"],[0.7777777777777778,\"#fb9f3a\"],[0.8888888888888888,\"#fdca26\"],[1.0,\"#f0f921\"]]}],\"mesh3d\":[{\"type\":\"mesh3d\",\"colorbar\":{\"outlinewidth\":0,\"ticks\":\"\"}}],\"scatter\":[{\"fillpattern\":{\"fillmode\":\"overlay\",\"size\":10,\"solidity\":0.2},\"type\":\"scatter\"}],\"parcoords\":[{\"type\":\"parcoords\",\"line\":{\"colorbar\":{\"outlinewidth\":0,\"ticks\":\"\"}}}],\"scatterpolargl\":[{\"type\":\"scatterpolargl\",\"marker\":{\"colorbar\":{\"outlinewidth\":0,\"ticks\":\"\"}}}],\"bar\":[{\"error_x\":{\"color\":\"#2a3f5f\"},\"error_y\":{\"color\":\"#2a3f5f\"},\"marker\":{\"line\":{\"color\":\"#E5ECF6\",\"width\":0.5},\"pattern\":{\"fillmode\":\"overlay\",\"size\":10,\"solidity\":0.2}},\"type\":\"bar\"}],\"scattergeo\":[{\"type\":\"scattergeo\",\"marker\":{\"colorbar\":{\"outlinewidth\":0,\"ticks\":\"\"}}}],\"scatterpolar\":[{\"type\":\"scatterpolar\",\"marker\":{\"colorbar\":{\"outlinewidth\":0,\"ticks\":\"\"}}}],\"histogram\":[{\"marker\":{\"pattern\":{\"fillmode\":\"overlay\",\"size\":10,\"solidity\":0.2}},\"type\":\"histogram\"}],\"scattergl\":[{\"type\":\"scattergl\",\"marker\":{\"colorbar\":{\"outlinewidth\":0,\"ticks\":\"\"}}}],\"scatter3d\":[{\"type\":\"scatter3d\",\"line\":{\"colorbar\":{\"outlinewidth\":0,\"ticks\":\"\"}},\"marker\":{\"colorbar\":{\"outlinewidth\":0,\"ticks\":\"\"}}}],\"scattermapbox\":[{\"type\":\"scattermapbox\",\"marker\":{\"colorbar\":{\"outlinewidth\":0,\"ticks\":\"\"}}}],\"scatterternary\":[{\"type\":\"scatterternary\",\"marker\":{\"colorbar\":{\"outlinewidth\":0,\"ticks\":\"\"}}}],\"scattercarpet\":[{\"type\":\"scattercarpet\",\"marker\":{\"colorbar\":{\"outlinewidth\":0,\"ticks\":\"\"}}}],\"carpet\":[{\"aaxis\":{\"endlinecolor\":\"#2a3f5f\",\"gridcolor\":\"white\",\"linecolor\":\"white\",\"minorgridcolor\":\"white\",\"startlinecolor\":\"#2a3f5f\"},\"baxis\":{\"endlinecolor\":\"#2a3f5f\",\"gridcolor\":\"white\",\"linecolor\":\"white\",\"minorgridcolor\":\"white\",\"startlinecolor\":\"#2a3f5f\"},\"type\":\"carpet\"}],\"table\":[{\"cells\":{\"fill\":{\"color\":\"#EBF0F8\"},\"line\":{\"color\":\"white\"}},\"header\":{\"fill\":{\"color\":\"#C8D4E3\"},\"line\":{\"color\":\"white\"}},\"type\":\"table\"}],\"barpolar\":[{\"marker\":{\"line\":{\"color\":\"#E5ECF6\",\"width\":0.5},\"pattern\":{\"fillmode\":\"overlay\",\"size\":10,\"solidity\":0.2}},\"type\":\"barpolar\"}],\"pie\":[{\"automargin\":true,\"type\":\"pie\"}]},\"layout\":{\"autotypenumbers\":\"strict\",\"colorway\":[\"#636efa\",\"#EF553B\",\"#00cc96\",\"#ab63fa\",\"#FFA15A\",\"#19d3f3\",\"#FF6692\",\"#B6E880\",\"#FF97FF\",\"#FECB52\"],\"font\":{\"color\":\"#2a3f5f\"},\"hovermode\":\"closest\",\"hoverlabel\":{\"align\":\"left\"},\"paper_bgcolor\":\"white\",\"plot_bgcolor\":\"#E5ECF6\",\"polar\":{\"bgcolor\":\"#E5ECF6\",\"angularaxis\":{\"gridcolor\":\"white\",\"linecolor\":\"white\",\"ticks\":\"\"},\"radialaxis\":{\"gridcolor\":\"white\",\"linecolor\":\"white\",\"ticks\":\"\"}},\"ternary\":{\"bgcolor\":\"#E5ECF6\",\"aaxis\":{\"gridcolor\":\"white\",\"linecolor\":\"white\",\"ticks\":\"\"},\"baxis\":{\"gridcolor\":\"white\",\"linecolor\":\"white\",\"ticks\":\"\"},\"caxis\":{\"gridcolor\":\"white\",\"linecolor\":\"white\",\"ticks\":\"\"}},\"coloraxis\":{\"colorbar\":{\"outlinewidth\":0,\"ticks\":\"\"}},\"colorscale\":{\"sequential\":[[0.0,\"#0d0887\"],[0.1111111111111111,\"#46039f\"],[0.2222222222222222,\"#7201a8\"],[0.3333333333333333,\"#9c179e\"],[0.4444444444444444,\"#bd3786\"],[0.5555555555555556,\"#d8576b\"],[0.6666666666666666,\"#ed7953\"],[0.7777777777777778,\"#fb9f3a\"],[0.8888888888888888,\"#fdca26\"],[1.0,\"#f0f921\"]],\"sequentialminus\":[[0.0,\"#0d0887\"],[0.1111111111111111,\"#46039f\"],[0.2222222222222222,\"#7201a8\"],[0.3333333333333333,\"#9c179e\"],[0.4444444444444444,\"#bd3786\"],[0.5555555555555556,\"#d8576b\"],[0.6666666666666666,\"#ed7953\"],[0.7777777777777778,\"#fb9f3a\"],[0.8888888888888888,\"#fdca26\"],[1.0,\"#f0f921\"]],\"diverging\":[[0,\"#8e0152\"],[0.1,\"#c51b7d\"],[0.2,\"#de77ae\"],[0.3,\"#f1b6da\"],[0.4,\"#fde0ef\"],[0.5,\"#f7f7f7\"],[0.6,\"#e6f5d0\"],[0.7,\"#b8e186\"],[0.8,\"#7fbc41\"],[0.9,\"#4d9221\"],[1,\"#276419\"]]},\"xaxis\":{\"gridcolor\":\"white\",\"linecolor\":\"white\",\"ticks\":\"\",\"title\":{\"standoff\":15},\"zerolinecolor\":\"white\",\"automargin\":true,\"zerolinewidth\":2},\"yaxis\":{\"gridcolor\":\"white\",\"linecolor\":\"white\",\"ticks\":\"\",\"title\":{\"standoff\":15},\"zerolinecolor\":\"white\",\"automargin\":true,\"zerolinewidth\":2},\"scene\":{\"xaxis\":{\"backgroundcolor\":\"#E5ECF6\",\"gridcolor\":\"white\",\"linecolor\":\"white\",\"showbackground\":true,\"ticks\":\"\",\"zerolinecolor\":\"white\",\"gridwidth\":2},\"yaxis\":{\"backgroundcolor\":\"#E5ECF6\",\"gridcolor\":\"white\",\"linecolor\":\"white\",\"showbackground\":true,\"ticks\":\"\",\"zerolinecolor\":\"white\",\"gridwidth\":2},\"zaxis\":{\"backgroundcolor\":\"#E5ECF6\",\"gridcolor\":\"white\",\"linecolor\":\"white\",\"showbackground\":true,\"ticks\":\"\",\"zerolinecolor\":\"white\",\"gridwidth\":2}},\"shapedefaults\":{\"line\":{\"color\":\"#2a3f5f\"}},\"annotationdefaults\":{\"arrowcolor\":\"#2a3f5f\",\"arrowhead\":0,\"arrowwidth\":1},\"geo\":{\"bgcolor\":\"white\",\"landcolor\":\"#E5ECF6\",\"subunitcolor\":\"white\",\"showland\":true,\"showlakes\":true,\"lakecolor\":\"white\"},\"title\":{\"x\":0.05},\"mapbox\":{\"style\":\"light\"}}},\"xaxis\":{\"anchor\":\"y\",\"domain\":[0.0,1.0],\"title\":{\"text\":\"median_seats\"},\"tickangle\":45},\"yaxis\":{\"anchor\":\"x\",\"domain\":[0.0,1.0],\"title\":{\"text\":\"category\"}},\"legend\":{\"tracegroupgap\":0},\"title\":{\"text\":\"\\u0441\\u0440\\u0435\\u0434\\u043d\\u0435\\u0435 \\u043a\\u043e\\u043b\\u0438\\u0447\\u0435\\u0441\\u0442\\u0432\\u043e \\u043c\\u0435\\u0441\\u0442 \\u043f\\u043e \\u043a\\u0430\\u0442\\u0435\\u0433\\u043e\\u0440\\u0438\\u044f\\u043c\"},\"barmode\":\"relative\"},                        {\"responsive\": true}                    ).then(function(){\n",
       "                            \n",
       "var gd = document.getElementById('b0422404-8291-4a5e-9eb1-a11ff198f237');\n",
       "var x = new MutationObserver(function (mutations, observer) {{\n",
       "        var display = window.getComputedStyle(gd).display;\n",
       "        if (!display || display === 'none') {{\n",
       "            console.log([gd, 'removed!']);\n",
       "            Plotly.purge(gd);\n",
       "            observer.disconnect();\n",
       "        }}\n",
       "}});\n",
       "\n",
       "// Listen for the removal of the full notebook cells\n",
       "var notebookContainer = gd.closest('#notebook-container');\n",
       "if (notebookContainer) {{\n",
       "    x.observe(notebookContainer, {childList: true});\n",
       "}}\n",
       "\n",
       "// Listen for the clearing of the current output cell\n",
       "var outputEl = gd.closest('.output');\n",
       "if (outputEl) {{\n",
       "    x.observe(outputEl, {childList: true});\n",
       "}}\n",
       "\n",
       "                        })                };                });            </script>        </div>"
      ]
     },
     "metadata": {},
     "output_type": "display_data"
    }
   ],
   "source": [
    "fig = px.bar(kol_seats.sort_values(by='median_seats'), x='median_seats', y='category', title='среднее количество мест по категориям')\n",
    "fig.update_xaxes(tickangle=45)\n",
    "fig.show() "
   ]
  },
  {
   "cell_type": "markdown",
   "metadata": {},
   "source": [
    "Больше всего мест в барах, ресторанах и кофейнях. Меньше всего - в булочных и пиццериях. Среднее и медианные значения сильно отличаются"
   ]
  },
  {
   "cell_type": "markdown",
   "metadata": {},
   "source": [
    "### анализ количества сетевых и несетевых заведений"
   ]
  },
  {
   "cell_type": "code",
   "execution_count": 79,
   "metadata": {},
   "outputs": [
    {
     "data": {
      "text/html": [
       "<div>\n",
       "<style scoped>\n",
       "    .dataframe tbody tr th:only-of-type {\n",
       "        vertical-align: middle;\n",
       "    }\n",
       "\n",
       "    .dataframe tbody tr th {\n",
       "        vertical-align: top;\n",
       "    }\n",
       "\n",
       "    .dataframe thead th {\n",
       "        text-align: right;\n",
       "    }\n",
       "</style>\n",
       "<table border=\"1\" class=\"dataframe\">\n",
       "  <thead>\n",
       "    <tr style=\"text-align: right;\">\n",
       "      <th></th>\n",
       "      <th>chain</th>\n",
       "      <th>address</th>\n",
       "    </tr>\n",
       "  </thead>\n",
       "  <tbody>\n",
       "    <tr>\n",
       "      <th>0</th>\n",
       "      <td>несетевые</td>\n",
       "      <td>5201</td>\n",
       "    </tr>\n",
       "    <tr>\n",
       "      <th>1</th>\n",
       "      <td>сетевые</td>\n",
       "      <td>3205</td>\n",
       "    </tr>\n",
       "  </tbody>\n",
       "</table>\n",
       "</div>"
      ],
      "text/plain": [
       "       chain  address\n",
       "0  несетевые     5201\n",
       "1    сетевые     3205"
      ]
     },
     "execution_count": 79,
     "metadata": {},
     "output_type": "execute_result"
    }
   ],
   "source": [
    "pd.options.mode.chained_assignment = None\n",
    "chain_group = places.groupby('chain')['address'].count().sort_values(ascending=False).reset_index()\n",
    "chain_group['chain'][0] = 'несетевые'\n",
    "chain_group['chain'][1] = 'сетевые'\n",
    "chain_group"
   ]
  },
  {
   "cell_type": "code",
   "execution_count": 80,
   "metadata": {},
   "outputs": [
    {
     "data": {
      "application/vnd.plotly.v1+json": {
       "config": {
        "plotlyServerURL": "https://plot.ly"
       },
       "data": [
        {
         "labels": [
          "несетевые",
          "сетевые"
         ],
         "type": "pie",
         "values": [
          5201,
          3205
         ]
        }
       ],
       "layout": {
        "template": {
         "data": {
          "bar": [
           {
            "error_x": {
             "color": "#2a3f5f"
            },
            "error_y": {
             "color": "#2a3f5f"
            },
            "marker": {
             "line": {
              "color": "#E5ECF6",
              "width": 0.5
             },
             "pattern": {
              "fillmode": "overlay",
              "size": 10,
              "solidity": 0.2
             }
            },
            "type": "bar"
           }
          ],
          "barpolar": [
           {
            "marker": {
             "line": {
              "color": "#E5ECF6",
              "width": 0.5
             },
             "pattern": {
              "fillmode": "overlay",
              "size": 10,
              "solidity": 0.2
             }
            },
            "type": "barpolar"
           }
          ],
          "carpet": [
           {
            "aaxis": {
             "endlinecolor": "#2a3f5f",
             "gridcolor": "white",
             "linecolor": "white",
             "minorgridcolor": "white",
             "startlinecolor": "#2a3f5f"
            },
            "baxis": {
             "endlinecolor": "#2a3f5f",
             "gridcolor": "white",
             "linecolor": "white",
             "minorgridcolor": "white",
             "startlinecolor": "#2a3f5f"
            },
            "type": "carpet"
           }
          ],
          "choropleth": [
           {
            "colorbar": {
             "outlinewidth": 0,
             "ticks": ""
            },
            "type": "choropleth"
           }
          ],
          "contour": [
           {
            "colorbar": {
             "outlinewidth": 0,
             "ticks": ""
            },
            "colorscale": [
             [
              0,
              "#0d0887"
             ],
             [
              0.1111111111111111,
              "#46039f"
             ],
             [
              0.2222222222222222,
              "#7201a8"
             ],
             [
              0.3333333333333333,
              "#9c179e"
             ],
             [
              0.4444444444444444,
              "#bd3786"
             ],
             [
              0.5555555555555556,
              "#d8576b"
             ],
             [
              0.6666666666666666,
              "#ed7953"
             ],
             [
              0.7777777777777778,
              "#fb9f3a"
             ],
             [
              0.8888888888888888,
              "#fdca26"
             ],
             [
              1,
              "#f0f921"
             ]
            ],
            "type": "contour"
           }
          ],
          "contourcarpet": [
           {
            "colorbar": {
             "outlinewidth": 0,
             "ticks": ""
            },
            "type": "contourcarpet"
           }
          ],
          "heatmap": [
           {
            "colorbar": {
             "outlinewidth": 0,
             "ticks": ""
            },
            "colorscale": [
             [
              0,
              "#0d0887"
             ],
             [
              0.1111111111111111,
              "#46039f"
             ],
             [
              0.2222222222222222,
              "#7201a8"
             ],
             [
              0.3333333333333333,
              "#9c179e"
             ],
             [
              0.4444444444444444,
              "#bd3786"
             ],
             [
              0.5555555555555556,
              "#d8576b"
             ],
             [
              0.6666666666666666,
              "#ed7953"
             ],
             [
              0.7777777777777778,
              "#fb9f3a"
             ],
             [
              0.8888888888888888,
              "#fdca26"
             ],
             [
              1,
              "#f0f921"
             ]
            ],
            "type": "heatmap"
           }
          ],
          "heatmapgl": [
           {
            "colorbar": {
             "outlinewidth": 0,
             "ticks": ""
            },
            "colorscale": [
             [
              0,
              "#0d0887"
             ],
             [
              0.1111111111111111,
              "#46039f"
             ],
             [
              0.2222222222222222,
              "#7201a8"
             ],
             [
              0.3333333333333333,
              "#9c179e"
             ],
             [
              0.4444444444444444,
              "#bd3786"
             ],
             [
              0.5555555555555556,
              "#d8576b"
             ],
             [
              0.6666666666666666,
              "#ed7953"
             ],
             [
              0.7777777777777778,
              "#fb9f3a"
             ],
             [
              0.8888888888888888,
              "#fdca26"
             ],
             [
              1,
              "#f0f921"
             ]
            ],
            "type": "heatmapgl"
           }
          ],
          "histogram": [
           {
            "marker": {
             "pattern": {
              "fillmode": "overlay",
              "size": 10,
              "solidity": 0.2
             }
            },
            "type": "histogram"
           }
          ],
          "histogram2d": [
           {
            "colorbar": {
             "outlinewidth": 0,
             "ticks": ""
            },
            "colorscale": [
             [
              0,
              "#0d0887"
             ],
             [
              0.1111111111111111,
              "#46039f"
             ],
             [
              0.2222222222222222,
              "#7201a8"
             ],
             [
              0.3333333333333333,
              "#9c179e"
             ],
             [
              0.4444444444444444,
              "#bd3786"
             ],
             [
              0.5555555555555556,
              "#d8576b"
             ],
             [
              0.6666666666666666,
              "#ed7953"
             ],
             [
              0.7777777777777778,
              "#fb9f3a"
             ],
             [
              0.8888888888888888,
              "#fdca26"
             ],
             [
              1,
              "#f0f921"
             ]
            ],
            "type": "histogram2d"
           }
          ],
          "histogram2dcontour": [
           {
            "colorbar": {
             "outlinewidth": 0,
             "ticks": ""
            },
            "colorscale": [
             [
              0,
              "#0d0887"
             ],
             [
              0.1111111111111111,
              "#46039f"
             ],
             [
              0.2222222222222222,
              "#7201a8"
             ],
             [
              0.3333333333333333,
              "#9c179e"
             ],
             [
              0.4444444444444444,
              "#bd3786"
             ],
             [
              0.5555555555555556,
              "#d8576b"
             ],
             [
              0.6666666666666666,
              "#ed7953"
             ],
             [
              0.7777777777777778,
              "#fb9f3a"
             ],
             [
              0.8888888888888888,
              "#fdca26"
             ],
             [
              1,
              "#f0f921"
             ]
            ],
            "type": "histogram2dcontour"
           }
          ],
          "mesh3d": [
           {
            "colorbar": {
             "outlinewidth": 0,
             "ticks": ""
            },
            "type": "mesh3d"
           }
          ],
          "parcoords": [
           {
            "line": {
             "colorbar": {
              "outlinewidth": 0,
              "ticks": ""
             }
            },
            "type": "parcoords"
           }
          ],
          "pie": [
           {
            "automargin": true,
            "type": "pie"
           }
          ],
          "scatter": [
           {
            "fillpattern": {
             "fillmode": "overlay",
             "size": 10,
             "solidity": 0.2
            },
            "type": "scatter"
           }
          ],
          "scatter3d": [
           {
            "line": {
             "colorbar": {
              "outlinewidth": 0,
              "ticks": ""
             }
            },
            "marker": {
             "colorbar": {
              "outlinewidth": 0,
              "ticks": ""
             }
            },
            "type": "scatter3d"
           }
          ],
          "scattercarpet": [
           {
            "marker": {
             "colorbar": {
              "outlinewidth": 0,
              "ticks": ""
             }
            },
            "type": "scattercarpet"
           }
          ],
          "scattergeo": [
           {
            "marker": {
             "colorbar": {
              "outlinewidth": 0,
              "ticks": ""
             }
            },
            "type": "scattergeo"
           }
          ],
          "scattergl": [
           {
            "marker": {
             "colorbar": {
              "outlinewidth": 0,
              "ticks": ""
             }
            },
            "type": "scattergl"
           }
          ],
          "scattermapbox": [
           {
            "marker": {
             "colorbar": {
              "outlinewidth": 0,
              "ticks": ""
             }
            },
            "type": "scattermapbox"
           }
          ],
          "scatterpolar": [
           {
            "marker": {
             "colorbar": {
              "outlinewidth": 0,
              "ticks": ""
             }
            },
            "type": "scatterpolar"
           }
          ],
          "scatterpolargl": [
           {
            "marker": {
             "colorbar": {
              "outlinewidth": 0,
              "ticks": ""
             }
            },
            "type": "scatterpolargl"
           }
          ],
          "scatterternary": [
           {
            "marker": {
             "colorbar": {
              "outlinewidth": 0,
              "ticks": ""
             }
            },
            "type": "scatterternary"
           }
          ],
          "surface": [
           {
            "colorbar": {
             "outlinewidth": 0,
             "ticks": ""
            },
            "colorscale": [
             [
              0,
              "#0d0887"
             ],
             [
              0.1111111111111111,
              "#46039f"
             ],
             [
              0.2222222222222222,
              "#7201a8"
             ],
             [
              0.3333333333333333,
              "#9c179e"
             ],
             [
              0.4444444444444444,
              "#bd3786"
             ],
             [
              0.5555555555555556,
              "#d8576b"
             ],
             [
              0.6666666666666666,
              "#ed7953"
             ],
             [
              0.7777777777777778,
              "#fb9f3a"
             ],
             [
              0.8888888888888888,
              "#fdca26"
             ],
             [
              1,
              "#f0f921"
             ]
            ],
            "type": "surface"
           }
          ],
          "table": [
           {
            "cells": {
             "fill": {
              "color": "#EBF0F8"
             },
             "line": {
              "color": "white"
             }
            },
            "header": {
             "fill": {
              "color": "#C8D4E3"
             },
             "line": {
              "color": "white"
             }
            },
            "type": "table"
           }
          ]
         },
         "layout": {
          "annotationdefaults": {
           "arrowcolor": "#2a3f5f",
           "arrowhead": 0,
           "arrowwidth": 1
          },
          "autotypenumbers": "strict",
          "coloraxis": {
           "colorbar": {
            "outlinewidth": 0,
            "ticks": ""
           }
          },
          "colorscale": {
           "diverging": [
            [
             0,
             "#8e0152"
            ],
            [
             0.1,
             "#c51b7d"
            ],
            [
             0.2,
             "#de77ae"
            ],
            [
             0.3,
             "#f1b6da"
            ],
            [
             0.4,
             "#fde0ef"
            ],
            [
             0.5,
             "#f7f7f7"
            ],
            [
             0.6,
             "#e6f5d0"
            ],
            [
             0.7,
             "#b8e186"
            ],
            [
             0.8,
             "#7fbc41"
            ],
            [
             0.9,
             "#4d9221"
            ],
            [
             1,
             "#276419"
            ]
           ],
           "sequential": [
            [
             0,
             "#0d0887"
            ],
            [
             0.1111111111111111,
             "#46039f"
            ],
            [
             0.2222222222222222,
             "#7201a8"
            ],
            [
             0.3333333333333333,
             "#9c179e"
            ],
            [
             0.4444444444444444,
             "#bd3786"
            ],
            [
             0.5555555555555556,
             "#d8576b"
            ],
            [
             0.6666666666666666,
             "#ed7953"
            ],
            [
             0.7777777777777778,
             "#fb9f3a"
            ],
            [
             0.8888888888888888,
             "#fdca26"
            ],
            [
             1,
             "#f0f921"
            ]
           ],
           "sequentialminus": [
            [
             0,
             "#0d0887"
            ],
            [
             0.1111111111111111,
             "#46039f"
            ],
            [
             0.2222222222222222,
             "#7201a8"
            ],
            [
             0.3333333333333333,
             "#9c179e"
            ],
            [
             0.4444444444444444,
             "#bd3786"
            ],
            [
             0.5555555555555556,
             "#d8576b"
            ],
            [
             0.6666666666666666,
             "#ed7953"
            ],
            [
             0.7777777777777778,
             "#fb9f3a"
            ],
            [
             0.8888888888888888,
             "#fdca26"
            ],
            [
             1,
             "#f0f921"
            ]
           ]
          },
          "colorway": [
           "#636efa",
           "#EF553B",
           "#00cc96",
           "#ab63fa",
           "#FFA15A",
           "#19d3f3",
           "#FF6692",
           "#B6E880",
           "#FF97FF",
           "#FECB52"
          ],
          "font": {
           "color": "#2a3f5f"
          },
          "geo": {
           "bgcolor": "white",
           "lakecolor": "white",
           "landcolor": "#E5ECF6",
           "showlakes": true,
           "showland": true,
           "subunitcolor": "white"
          },
          "hoverlabel": {
           "align": "left"
          },
          "hovermode": "closest",
          "mapbox": {
           "style": "light"
          },
          "paper_bgcolor": "white",
          "plot_bgcolor": "#E5ECF6",
          "polar": {
           "angularaxis": {
            "gridcolor": "white",
            "linecolor": "white",
            "ticks": ""
           },
           "bgcolor": "#E5ECF6",
           "radialaxis": {
            "gridcolor": "white",
            "linecolor": "white",
            "ticks": ""
           }
          },
          "scene": {
           "xaxis": {
            "backgroundcolor": "#E5ECF6",
            "gridcolor": "white",
            "gridwidth": 2,
            "linecolor": "white",
            "showbackground": true,
            "ticks": "",
            "zerolinecolor": "white"
           },
           "yaxis": {
            "backgroundcolor": "#E5ECF6",
            "gridcolor": "white",
            "gridwidth": 2,
            "linecolor": "white",
            "showbackground": true,
            "ticks": "",
            "zerolinecolor": "white"
           },
           "zaxis": {
            "backgroundcolor": "#E5ECF6",
            "gridcolor": "white",
            "gridwidth": 2,
            "linecolor": "white",
            "showbackground": true,
            "ticks": "",
            "zerolinecolor": "white"
           }
          },
          "shapedefaults": {
           "line": {
            "color": "#2a3f5f"
           }
          },
          "ternary": {
           "aaxis": {
            "gridcolor": "white",
            "linecolor": "white",
            "ticks": ""
           },
           "baxis": {
            "gridcolor": "white",
            "linecolor": "white",
            "ticks": ""
           },
           "bgcolor": "#E5ECF6",
           "caxis": {
            "gridcolor": "white",
            "linecolor": "white",
            "ticks": ""
           }
          },
          "title": {
           "x": 0.05
          },
          "xaxis": {
           "automargin": true,
           "gridcolor": "white",
           "linecolor": "white",
           "ticks": "",
           "title": {
            "standoff": 15
           },
           "zerolinecolor": "white",
           "zerolinewidth": 2
          },
          "yaxis": {
           "automargin": true,
           "gridcolor": "white",
           "linecolor": "white",
           "ticks": "",
           "title": {
            "standoff": 15
           },
           "zerolinecolor": "white",
           "zerolinewidth": 2
          }
         }
        },
        "title": {
         "text": "Доли сетевых и несетевых заведений"
        }
       }
      },
      "text/html": [
       "<div>                            <div id=\"87cbdfed-593d-47ed-a835-d42dd76952e1\" class=\"plotly-graph-div\" style=\"height:525px; width:100%;\"></div>            <script type=\"text/javascript\">                require([\"plotly\"], function(Plotly) {                    window.PLOTLYENV=window.PLOTLYENV || {};                                    if (document.getElementById(\"87cbdfed-593d-47ed-a835-d42dd76952e1\")) {                    Plotly.newPlot(                        \"87cbdfed-593d-47ed-a835-d42dd76952e1\",                        [{\"labels\":[\"\\u043d\\u0435\\u0441\\u0435\\u0442\\u0435\\u0432\\u044b\\u0435\",\"\\u0441\\u0435\\u0442\\u0435\\u0432\\u044b\\u0435\"],\"values\":[5201,3205],\"type\":\"pie\"}],                        {\"template\":{\"data\":{\"histogram2dcontour\":[{\"type\":\"histogram2dcontour\",\"colorbar\":{\"outlinewidth\":0,\"ticks\":\"\"},\"colorscale\":[[0.0,\"#0d0887\"],[0.1111111111111111,\"#46039f\"],[0.2222222222222222,\"#7201a8\"],[0.3333333333333333,\"#9c179e\"],[0.4444444444444444,\"#bd3786\"],[0.5555555555555556,\"#d8576b\"],[0.6666666666666666,\"#ed7953\"],[0.7777777777777778,\"#fb9f3a\"],[0.8888888888888888,\"#fdca26\"],[1.0,\"#f0f921\"]]}],\"choropleth\":[{\"type\":\"choropleth\",\"colorbar\":{\"outlinewidth\":0,\"ticks\":\"\"}}],\"histogram2d\":[{\"type\":\"histogram2d\",\"colorbar\":{\"outlinewidth\":0,\"ticks\":\"\"},\"colorscale\":[[0.0,\"#0d0887\"],[0.1111111111111111,\"#46039f\"],[0.2222222222222222,\"#7201a8\"],[0.3333333333333333,\"#9c179e\"],[0.4444444444444444,\"#bd3786\"],[0.5555555555555556,\"#d8576b\"],[0.6666666666666666,\"#ed7953\"],[0.7777777777777778,\"#fb9f3a\"],[0.8888888888888888,\"#fdca26\"],[1.0,\"#f0f921\"]]}],\"heatmap\":[{\"type\":\"heatmap\",\"colorbar\":{\"outlinewidth\":0,\"ticks\":\"\"},\"colorscale\":[[0.0,\"#0d0887\"],[0.1111111111111111,\"#46039f\"],[0.2222222222222222,\"#7201a8\"],[0.3333333333333333,\"#9c179e\"],[0.4444444444444444,\"#bd3786\"],[0.5555555555555556,\"#d8576b\"],[0.6666666666666666,\"#ed7953\"],[0.7777777777777778,\"#fb9f3a\"],[0.8888888888888888,\"#fdca26\"],[1.0,\"#f0f921\"]]}],\"heatmapgl\":[{\"type\":\"heatmapgl\",\"colorbar\":{\"outlinewidth\":0,\"ticks\":\"\"},\"colorscale\":[[0.0,\"#0d0887\"],[0.1111111111111111,\"#46039f\"],[0.2222222222222222,\"#7201a8\"],[0.3333333333333333,\"#9c179e\"],[0.4444444444444444,\"#bd3786\"],[0.5555555555555556,\"#d8576b\"],[0.6666666666666666,\"#ed7953\"],[0.7777777777777778,\"#fb9f3a\"],[0.8888888888888888,\"#fdca26\"],[1.0,\"#f0f921\"]]}],\"contourcarpet\":[{\"type\":\"contourcarpet\",\"colorbar\":{\"outlinewidth\":0,\"ticks\":\"\"}}],\"contour\":[{\"type\":\"contour\",\"colorbar\":{\"outlinewidth\":0,\"ticks\":\"\"},\"colorscale\":[[0.0,\"#0d0887\"],[0.1111111111111111,\"#46039f\"],[0.2222222222222222,\"#7201a8\"],[0.3333333333333333,\"#9c179e\"],[0.4444444444444444,\"#bd3786\"],[0.5555555555555556,\"#d8576b\"],[0.6666666666666666,\"#ed7953\"],[0.7777777777777778,\"#fb9f3a\"],[0.8888888888888888,\"#fdca26\"],[1.0,\"#f0f921\"]]}],\"surface\":[{\"type\":\"surface\",\"colorbar\":{\"outlinewidth\":0,\"ticks\":\"\"},\"colorscale\":[[0.0,\"#0d0887\"],[0.1111111111111111,\"#46039f\"],[0.2222222222222222,\"#7201a8\"],[0.3333333333333333,\"#9c179e\"],[0.4444444444444444,\"#bd3786\"],[0.5555555555555556,\"#d8576b\"],[0.6666666666666666,\"#ed7953\"],[0.7777777777777778,\"#fb9f3a\"],[0.8888888888888888,\"#fdca26\"],[1.0,\"#f0f921\"]]}],\"mesh3d\":[{\"type\":\"mesh3d\",\"colorbar\":{\"outlinewidth\":0,\"ticks\":\"\"}}],\"scatter\":[{\"fillpattern\":{\"fillmode\":\"overlay\",\"size\":10,\"solidity\":0.2},\"type\":\"scatter\"}],\"parcoords\":[{\"type\":\"parcoords\",\"line\":{\"colorbar\":{\"outlinewidth\":0,\"ticks\":\"\"}}}],\"scatterpolargl\":[{\"type\":\"scatterpolargl\",\"marker\":{\"colorbar\":{\"outlinewidth\":0,\"ticks\":\"\"}}}],\"bar\":[{\"error_x\":{\"color\":\"#2a3f5f\"},\"error_y\":{\"color\":\"#2a3f5f\"},\"marker\":{\"line\":{\"color\":\"#E5ECF6\",\"width\":0.5},\"pattern\":{\"fillmode\":\"overlay\",\"size\":10,\"solidity\":0.2}},\"type\":\"bar\"}],\"scattergeo\":[{\"type\":\"scattergeo\",\"marker\":{\"colorbar\":{\"outlinewidth\":0,\"ticks\":\"\"}}}],\"scatterpolar\":[{\"type\":\"scatterpolar\",\"marker\":{\"colorbar\":{\"outlinewidth\":0,\"ticks\":\"\"}}}],\"histogram\":[{\"marker\":{\"pattern\":{\"fillmode\":\"overlay\",\"size\":10,\"solidity\":0.2}},\"type\":\"histogram\"}],\"scattergl\":[{\"type\":\"scattergl\",\"marker\":{\"colorbar\":{\"outlinewidth\":0,\"ticks\":\"\"}}}],\"scatter3d\":[{\"type\":\"scatter3d\",\"line\":{\"colorbar\":{\"outlinewidth\":0,\"ticks\":\"\"}},\"marker\":{\"colorbar\":{\"outlinewidth\":0,\"ticks\":\"\"}}}],\"scattermapbox\":[{\"type\":\"scattermapbox\",\"marker\":{\"colorbar\":{\"outlinewidth\":0,\"ticks\":\"\"}}}],\"scatterternary\":[{\"type\":\"scatterternary\",\"marker\":{\"colorbar\":{\"outlinewidth\":0,\"ticks\":\"\"}}}],\"scattercarpet\":[{\"type\":\"scattercarpet\",\"marker\":{\"colorbar\":{\"outlinewidth\":0,\"ticks\":\"\"}}}],\"carpet\":[{\"aaxis\":{\"endlinecolor\":\"#2a3f5f\",\"gridcolor\":\"white\",\"linecolor\":\"white\",\"minorgridcolor\":\"white\",\"startlinecolor\":\"#2a3f5f\"},\"baxis\":{\"endlinecolor\":\"#2a3f5f\",\"gridcolor\":\"white\",\"linecolor\":\"white\",\"minorgridcolor\":\"white\",\"startlinecolor\":\"#2a3f5f\"},\"type\":\"carpet\"}],\"table\":[{\"cells\":{\"fill\":{\"color\":\"#EBF0F8\"},\"line\":{\"color\":\"white\"}},\"header\":{\"fill\":{\"color\":\"#C8D4E3\"},\"line\":{\"color\":\"white\"}},\"type\":\"table\"}],\"barpolar\":[{\"marker\":{\"line\":{\"color\":\"#E5ECF6\",\"width\":0.5},\"pattern\":{\"fillmode\":\"overlay\",\"size\":10,\"solidity\":0.2}},\"type\":\"barpolar\"}],\"pie\":[{\"automargin\":true,\"type\":\"pie\"}]},\"layout\":{\"autotypenumbers\":\"strict\",\"colorway\":[\"#636efa\",\"#EF553B\",\"#00cc96\",\"#ab63fa\",\"#FFA15A\",\"#19d3f3\",\"#FF6692\",\"#B6E880\",\"#FF97FF\",\"#FECB52\"],\"font\":{\"color\":\"#2a3f5f\"},\"hovermode\":\"closest\",\"hoverlabel\":{\"align\":\"left\"},\"paper_bgcolor\":\"white\",\"plot_bgcolor\":\"#E5ECF6\",\"polar\":{\"bgcolor\":\"#E5ECF6\",\"angularaxis\":{\"gridcolor\":\"white\",\"linecolor\":\"white\",\"ticks\":\"\"},\"radialaxis\":{\"gridcolor\":\"white\",\"linecolor\":\"white\",\"ticks\":\"\"}},\"ternary\":{\"bgcolor\":\"#E5ECF6\",\"aaxis\":{\"gridcolor\":\"white\",\"linecolor\":\"white\",\"ticks\":\"\"},\"baxis\":{\"gridcolor\":\"white\",\"linecolor\":\"white\",\"ticks\":\"\"},\"caxis\":{\"gridcolor\":\"white\",\"linecolor\":\"white\",\"ticks\":\"\"}},\"coloraxis\":{\"colorbar\":{\"outlinewidth\":0,\"ticks\":\"\"}},\"colorscale\":{\"sequential\":[[0.0,\"#0d0887\"],[0.1111111111111111,\"#46039f\"],[0.2222222222222222,\"#7201a8\"],[0.3333333333333333,\"#9c179e\"],[0.4444444444444444,\"#bd3786\"],[0.5555555555555556,\"#d8576b\"],[0.6666666666666666,\"#ed7953\"],[0.7777777777777778,\"#fb9f3a\"],[0.8888888888888888,\"#fdca26\"],[1.0,\"#f0f921\"]],\"sequentialminus\":[[0.0,\"#0d0887\"],[0.1111111111111111,\"#46039f\"],[0.2222222222222222,\"#7201a8\"],[0.3333333333333333,\"#9c179e\"],[0.4444444444444444,\"#bd3786\"],[0.5555555555555556,\"#d8576b\"],[0.6666666666666666,\"#ed7953\"],[0.7777777777777778,\"#fb9f3a\"],[0.8888888888888888,\"#fdca26\"],[1.0,\"#f0f921\"]],\"diverging\":[[0,\"#8e0152\"],[0.1,\"#c51b7d\"],[0.2,\"#de77ae\"],[0.3,\"#f1b6da\"],[0.4,\"#fde0ef\"],[0.5,\"#f7f7f7\"],[0.6,\"#e6f5d0\"],[0.7,\"#b8e186\"],[0.8,\"#7fbc41\"],[0.9,\"#4d9221\"],[1,\"#276419\"]]},\"xaxis\":{\"gridcolor\":\"white\",\"linecolor\":\"white\",\"ticks\":\"\",\"title\":{\"standoff\":15},\"zerolinecolor\":\"white\",\"automargin\":true,\"zerolinewidth\":2},\"yaxis\":{\"gridcolor\":\"white\",\"linecolor\":\"white\",\"ticks\":\"\",\"title\":{\"standoff\":15},\"zerolinecolor\":\"white\",\"automargin\":true,\"zerolinewidth\":2},\"scene\":{\"xaxis\":{\"backgroundcolor\":\"#E5ECF6\",\"gridcolor\":\"white\",\"linecolor\":\"white\",\"showbackground\":true,\"ticks\":\"\",\"zerolinecolor\":\"white\",\"gridwidth\":2},\"yaxis\":{\"backgroundcolor\":\"#E5ECF6\",\"gridcolor\":\"white\",\"linecolor\":\"white\",\"showbackground\":true,\"ticks\":\"\",\"zerolinecolor\":\"white\",\"gridwidth\":2},\"zaxis\":{\"backgroundcolor\":\"#E5ECF6\",\"gridcolor\":\"white\",\"linecolor\":\"white\",\"showbackground\":true,\"ticks\":\"\",\"zerolinecolor\":\"white\",\"gridwidth\":2}},\"shapedefaults\":{\"line\":{\"color\":\"#2a3f5f\"}},\"annotationdefaults\":{\"arrowcolor\":\"#2a3f5f\",\"arrowhead\":0,\"arrowwidth\":1},\"geo\":{\"bgcolor\":\"white\",\"landcolor\":\"#E5ECF6\",\"subunitcolor\":\"white\",\"showland\":true,\"showlakes\":true,\"lakecolor\":\"white\"},\"title\":{\"x\":0.05},\"mapbox\":{\"style\":\"light\"}}},\"title\":{\"text\":\"\\u0414\\u043e\\u043b\\u0438 \\u0441\\u0435\\u0442\\u0435\\u0432\\u044b\\u0445 \\u0438 \\u043d\\u0435\\u0441\\u0435\\u0442\\u0435\\u0432\\u044b\\u0445 \\u0437\\u0430\\u0432\\u0435\\u0434\\u0435\\u043d\\u0438\\u0439\"}},                        {\"responsive\": true}                    ).then(function(){\n",
       "                            \n",
       "var gd = document.getElementById('87cbdfed-593d-47ed-a835-d42dd76952e1');\n",
       "var x = new MutationObserver(function (mutations, observer) {{\n",
       "        var display = window.getComputedStyle(gd).display;\n",
       "        if (!display || display === 'none') {{\n",
       "            console.log([gd, 'removed!']);\n",
       "            Plotly.purge(gd);\n",
       "            observer.disconnect();\n",
       "        }}\n",
       "}});\n",
       "\n",
       "// Listen for the removal of the full notebook cells\n",
       "var notebookContainer = gd.closest('#notebook-container');\n",
       "if (notebookContainer) {{\n",
       "    x.observe(notebookContainer, {childList: true});\n",
       "}}\n",
       "\n",
       "// Listen for the clearing of the current output cell\n",
       "var outputEl = gd.closest('.output');\n",
       "if (outputEl) {{\n",
       "    x.observe(outputEl, {childList: true});\n",
       "}}\n",
       "\n",
       "                        })                };                });            </script>        </div>"
      ]
     },
     "metadata": {},
     "output_type": "display_data"
    }
   ],
   "source": [
    "fig = go.Figure(data=[go.Pie(labels=chain_group['chain'], values=chain_group['address'])])\n",
    "fig.update_layout(title='Доли сетевых и несетевых заведений')          \n",
    "fig.show() "
   ]
  },
  {
   "cell_type": "markdown",
   "metadata": {},
   "source": [
    "Сетевые заведения составляют 38,1% от общего количества. Несетевых заведений больше примерно в 1,5 раза"
   ]
  },
  {
   "cell_type": "markdown",
   "metadata": {},
   "source": [
    "#### сетевые категории"
   ]
  },
  {
   "cell_type": "code",
   "execution_count": 81,
   "metadata": {},
   "outputs": [
    {
     "data": {
      "text/html": [
       "<div>\n",
       "<style scoped>\n",
       "    .dataframe tbody tr th:only-of-type {\n",
       "        vertical-align: middle;\n",
       "    }\n",
       "\n",
       "    .dataframe tbody tr th {\n",
       "        vertical-align: top;\n",
       "    }\n",
       "\n",
       "    .dataframe thead th {\n",
       "        text-align: right;\n",
       "    }\n",
       "</style>\n",
       "<table border=\"1\" class=\"dataframe\">\n",
       "  <thead>\n",
       "    <tr style=\"text-align: right;\">\n",
       "      <th></th>\n",
       "      <th>category</th>\n",
       "      <th>address</th>\n",
       "    </tr>\n",
       "  </thead>\n",
       "  <tbody>\n",
       "    <tr>\n",
       "      <th>0</th>\n",
       "      <td>кафе</td>\n",
       "      <td>779</td>\n",
       "    </tr>\n",
       "    <tr>\n",
       "      <th>1</th>\n",
       "      <td>ресторан</td>\n",
       "      <td>730</td>\n",
       "    </tr>\n",
       "    <tr>\n",
       "      <th>2</th>\n",
       "      <td>кофейня</td>\n",
       "      <td>720</td>\n",
       "    </tr>\n",
       "    <tr>\n",
       "      <th>3</th>\n",
       "      <td>пиццерия</td>\n",
       "      <td>330</td>\n",
       "    </tr>\n",
       "    <tr>\n",
       "      <th>4</th>\n",
       "      <td>быстрое питание</td>\n",
       "      <td>232</td>\n",
       "    </tr>\n",
       "    <tr>\n",
       "      <th>5</th>\n",
       "      <td>бар,паб</td>\n",
       "      <td>169</td>\n",
       "    </tr>\n",
       "    <tr>\n",
       "      <th>6</th>\n",
       "      <td>булочная</td>\n",
       "      <td>157</td>\n",
       "    </tr>\n",
       "    <tr>\n",
       "      <th>7</th>\n",
       "      <td>столовая</td>\n",
       "      <td>88</td>\n",
       "    </tr>\n",
       "  </tbody>\n",
       "</table>\n",
       "</div>"
      ],
      "text/plain": [
       "          category  address\n",
       "0             кафе      779\n",
       "1         ресторан      730\n",
       "2          кофейня      720\n",
       "3         пиццерия      330\n",
       "4  быстрое питание      232\n",
       "5          бар,паб      169\n",
       "6         булочная      157\n",
       "7         столовая       88"
      ]
     },
     "execution_count": 81,
     "metadata": {},
     "output_type": "execute_result"
    }
   ],
   "source": [
    "chain_places = places[places['chain'] ==1]\n",
    "chain_places_2 = chain_places.groupby(by='category')['address'].count().sort_values(ascending=False).reset_index()\n",
    "chain_places_2"
   ]
  },
  {
   "cell_type": "code",
   "execution_count": 82,
   "metadata": {},
   "outputs": [
    {
     "data": {
      "text/html": [
       "<div>\n",
       "<style scoped>\n",
       "    .dataframe tbody tr th:only-of-type {\n",
       "        vertical-align: middle;\n",
       "    }\n",
       "\n",
       "    .dataframe tbody tr th {\n",
       "        vertical-align: top;\n",
       "    }\n",
       "\n",
       "    .dataframe thead th {\n",
       "        text-align: right;\n",
       "    }\n",
       "</style>\n",
       "<table border=\"1\" class=\"dataframe\">\n",
       "  <thead>\n",
       "    <tr style=\"text-align: right;\">\n",
       "      <th></th>\n",
       "      <th>category</th>\n",
       "      <th>address</th>\n",
       "    </tr>\n",
       "  </thead>\n",
       "  <tbody>\n",
       "    <tr>\n",
       "      <th>7</th>\n",
       "      <td>кафе</td>\n",
       "      <td>2378</td>\n",
       "    </tr>\n",
       "    <tr>\n",
       "      <th>6</th>\n",
       "      <td>ресторан</td>\n",
       "      <td>2043</td>\n",
       "    </tr>\n",
       "    <tr>\n",
       "      <th>5</th>\n",
       "      <td>кофейня</td>\n",
       "      <td>1413</td>\n",
       "    </tr>\n",
       "    <tr>\n",
       "      <th>4</th>\n",
       "      <td>бар,паб</td>\n",
       "      <td>765</td>\n",
       "    </tr>\n",
       "    <tr>\n",
       "      <th>3</th>\n",
       "      <td>пиццерия</td>\n",
       "      <td>633</td>\n",
       "    </tr>\n",
       "    <tr>\n",
       "      <th>2</th>\n",
       "      <td>быстрое питание</td>\n",
       "      <td>603</td>\n",
       "    </tr>\n",
       "    <tr>\n",
       "      <th>1</th>\n",
       "      <td>столовая</td>\n",
       "      <td>315</td>\n",
       "    </tr>\n",
       "    <tr>\n",
       "      <th>0</th>\n",
       "      <td>булочная</td>\n",
       "      <td>256</td>\n",
       "    </tr>\n",
       "  </tbody>\n",
       "</table>\n",
       "</div>"
      ],
      "text/plain": [
       "          category  address\n",
       "7             кафе     2378\n",
       "6         ресторан     2043\n",
       "5          кофейня     1413\n",
       "4          бар,паб      765\n",
       "3         пиццерия      633\n",
       "2  быстрое питание      603\n",
       "1         столовая      315\n",
       "0         булочная      256"
      ]
     },
     "execution_count": 82,
     "metadata": {},
     "output_type": "execute_result"
    }
   ],
   "source": [
    "type_cat = type_cat.sort_values(by='address',ascending=False)\n",
    "type_cat"
   ]
  },
  {
   "cell_type": "code",
   "execution_count": 83,
   "metadata": {},
   "outputs": [],
   "source": [
    "share = chain_places_2.merge(type_cat[['address', 'category']], on = 'category', how = 'left')"
   ]
  },
  {
   "cell_type": "code",
   "execution_count": 84,
   "metadata": {},
   "outputs": [
    {
     "data": {
      "text/html": [
       "<div>\n",
       "<style scoped>\n",
       "    .dataframe tbody tr th:only-of-type {\n",
       "        vertical-align: middle;\n",
       "    }\n",
       "\n",
       "    .dataframe tbody tr th {\n",
       "        vertical-align: top;\n",
       "    }\n",
       "\n",
       "    .dataframe thead th {\n",
       "        text-align: right;\n",
       "    }\n",
       "</style>\n",
       "<table border=\"1\" class=\"dataframe\">\n",
       "  <thead>\n",
       "    <tr style=\"text-align: right;\">\n",
       "      <th></th>\n",
       "      <th>category</th>\n",
       "      <th>address_x</th>\n",
       "      <th>address_y</th>\n",
       "    </tr>\n",
       "  </thead>\n",
       "  <tbody>\n",
       "    <tr>\n",
       "      <th>0</th>\n",
       "      <td>кафе</td>\n",
       "      <td>779</td>\n",
       "      <td>2378</td>\n",
       "    </tr>\n",
       "    <tr>\n",
       "      <th>1</th>\n",
       "      <td>ресторан</td>\n",
       "      <td>730</td>\n",
       "      <td>2043</td>\n",
       "    </tr>\n",
       "    <tr>\n",
       "      <th>2</th>\n",
       "      <td>кофейня</td>\n",
       "      <td>720</td>\n",
       "      <td>1413</td>\n",
       "    </tr>\n",
       "    <tr>\n",
       "      <th>3</th>\n",
       "      <td>пиццерия</td>\n",
       "      <td>330</td>\n",
       "      <td>633</td>\n",
       "    </tr>\n",
       "    <tr>\n",
       "      <th>4</th>\n",
       "      <td>быстрое питание</td>\n",
       "      <td>232</td>\n",
       "      <td>603</td>\n",
       "    </tr>\n",
       "    <tr>\n",
       "      <th>5</th>\n",
       "      <td>бар,паб</td>\n",
       "      <td>169</td>\n",
       "      <td>765</td>\n",
       "    </tr>\n",
       "    <tr>\n",
       "      <th>6</th>\n",
       "      <td>булочная</td>\n",
       "      <td>157</td>\n",
       "      <td>256</td>\n",
       "    </tr>\n",
       "    <tr>\n",
       "      <th>7</th>\n",
       "      <td>столовая</td>\n",
       "      <td>88</td>\n",
       "      <td>315</td>\n",
       "    </tr>\n",
       "  </tbody>\n",
       "</table>\n",
       "</div>"
      ],
      "text/plain": [
       "          category  address_x  address_y\n",
       "0             кафе        779       2378\n",
       "1         ресторан        730       2043\n",
       "2          кофейня        720       1413\n",
       "3         пиццерия        330        633\n",
       "4  быстрое питание        232        603\n",
       "5          бар,паб        169        765\n",
       "6         булочная        157        256\n",
       "7         столовая         88        315"
      ]
     },
     "execution_count": 84,
     "metadata": {},
     "output_type": "execute_result"
    }
   ],
   "source": [
    "share"
   ]
  },
  {
   "cell_type": "code",
   "execution_count": 85,
   "metadata": {},
   "outputs": [
    {
     "data": {
      "text/html": [
       "<div>\n",
       "<style scoped>\n",
       "    .dataframe tbody tr th:only-of-type {\n",
       "        vertical-align: middle;\n",
       "    }\n",
       "\n",
       "    .dataframe tbody tr th {\n",
       "        vertical-align: top;\n",
       "    }\n",
       "\n",
       "    .dataframe thead th {\n",
       "        text-align: right;\n",
       "    }\n",
       "</style>\n",
       "<table border=\"1\" class=\"dataframe\">\n",
       "  <thead>\n",
       "    <tr style=\"text-align: right;\">\n",
       "      <th></th>\n",
       "      <th>category</th>\n",
       "      <th>address_x</th>\n",
       "      <th>address_y</th>\n",
       "      <th>share_of_chain</th>\n",
       "    </tr>\n",
       "  </thead>\n",
       "  <tbody>\n",
       "    <tr>\n",
       "      <th>5</th>\n",
       "      <td>бар,паб</td>\n",
       "      <td>169</td>\n",
       "      <td>765</td>\n",
       "      <td>22.091503</td>\n",
       "    </tr>\n",
       "    <tr>\n",
       "      <th>7</th>\n",
       "      <td>столовая</td>\n",
       "      <td>88</td>\n",
       "      <td>315</td>\n",
       "      <td>27.936508</td>\n",
       "    </tr>\n",
       "    <tr>\n",
       "      <th>0</th>\n",
       "      <td>кафе</td>\n",
       "      <td>779</td>\n",
       "      <td>2378</td>\n",
       "      <td>32.758621</td>\n",
       "    </tr>\n",
       "    <tr>\n",
       "      <th>1</th>\n",
       "      <td>ресторан</td>\n",
       "      <td>730</td>\n",
       "      <td>2043</td>\n",
       "      <td>35.731767</td>\n",
       "    </tr>\n",
       "    <tr>\n",
       "      <th>4</th>\n",
       "      <td>быстрое питание</td>\n",
       "      <td>232</td>\n",
       "      <td>603</td>\n",
       "      <td>38.474295</td>\n",
       "    </tr>\n",
       "    <tr>\n",
       "      <th>2</th>\n",
       "      <td>кофейня</td>\n",
       "      <td>720</td>\n",
       "      <td>1413</td>\n",
       "      <td>50.955414</td>\n",
       "    </tr>\n",
       "    <tr>\n",
       "      <th>3</th>\n",
       "      <td>пиццерия</td>\n",
       "      <td>330</td>\n",
       "      <td>633</td>\n",
       "      <td>52.132701</td>\n",
       "    </tr>\n",
       "    <tr>\n",
       "      <th>6</th>\n",
       "      <td>булочная</td>\n",
       "      <td>157</td>\n",
       "      <td>256</td>\n",
       "      <td>61.328125</td>\n",
       "    </tr>\n",
       "  </tbody>\n",
       "</table>\n",
       "</div>"
      ],
      "text/plain": [
       "          category  address_x  address_y  share_of_chain\n",
       "5          бар,паб        169        765       22.091503\n",
       "7         столовая         88        315       27.936508\n",
       "0             кафе        779       2378       32.758621\n",
       "1         ресторан        730       2043       35.731767\n",
       "4  быстрое питание        232        603       38.474295\n",
       "2          кофейня        720       1413       50.955414\n",
       "3         пиццерия        330        633       52.132701\n",
       "6         булочная        157        256       61.328125"
      ]
     },
     "execution_count": 85,
     "metadata": {},
     "output_type": "execute_result"
    }
   ],
   "source": [
    "share['share_of_chain'] = share['address_x'] / share['address_y'] *100\n",
    "share = share.sort_values(by='share_of_chain')\n",
    "share"
   ]
  },
  {
   "cell_type": "code",
   "execution_count": 86,
   "metadata": {},
   "outputs": [
    {
     "data": {
      "application/vnd.plotly.v1+json": {
       "config": {
        "plotlyServerURL": "https://plot.ly"
       },
       "data": [
        {
         "alignmentgroup": "True",
         "hovertemplate": "share_of_chain=%{x}<br>category=%{y}<extra></extra>",
         "legendgroup": "",
         "marker": {
          "color": "#636efa",
          "pattern": {
           "shape": ""
          }
         },
         "name": "",
         "offsetgroup": "",
         "orientation": "h",
         "showlegend": false,
         "textposition": "auto",
         "type": "bar",
         "x": [
          22.091503267973856,
          27.936507936507937,
          32.758620689655174,
          35.73176700930005,
          38.47429519071311,
          50.955414012738856,
          52.13270142180095,
          61.328125
         ],
         "xaxis": "x",
         "y": [
          "бар,паб",
          "столовая",
          "кафе",
          "ресторан",
          "быстрое питание",
          "кофейня",
          "пиццерия",
          "булочная"
         ],
         "yaxis": "y"
        }
       ],
       "layout": {
        "barmode": "relative",
        "legend": {
         "tracegroupgap": 0
        },
        "template": {
         "data": {
          "bar": [
           {
            "error_x": {
             "color": "#2a3f5f"
            },
            "error_y": {
             "color": "#2a3f5f"
            },
            "marker": {
             "line": {
              "color": "#E5ECF6",
              "width": 0.5
             },
             "pattern": {
              "fillmode": "overlay",
              "size": 10,
              "solidity": 0.2
             }
            },
            "type": "bar"
           }
          ],
          "barpolar": [
           {
            "marker": {
             "line": {
              "color": "#E5ECF6",
              "width": 0.5
             },
             "pattern": {
              "fillmode": "overlay",
              "size": 10,
              "solidity": 0.2
             }
            },
            "type": "barpolar"
           }
          ],
          "carpet": [
           {
            "aaxis": {
             "endlinecolor": "#2a3f5f",
             "gridcolor": "white",
             "linecolor": "white",
             "minorgridcolor": "white",
             "startlinecolor": "#2a3f5f"
            },
            "baxis": {
             "endlinecolor": "#2a3f5f",
             "gridcolor": "white",
             "linecolor": "white",
             "minorgridcolor": "white",
             "startlinecolor": "#2a3f5f"
            },
            "type": "carpet"
           }
          ],
          "choropleth": [
           {
            "colorbar": {
             "outlinewidth": 0,
             "ticks": ""
            },
            "type": "choropleth"
           }
          ],
          "contour": [
           {
            "colorbar": {
             "outlinewidth": 0,
             "ticks": ""
            },
            "colorscale": [
             [
              0,
              "#0d0887"
             ],
             [
              0.1111111111111111,
              "#46039f"
             ],
             [
              0.2222222222222222,
              "#7201a8"
             ],
             [
              0.3333333333333333,
              "#9c179e"
             ],
             [
              0.4444444444444444,
              "#bd3786"
             ],
             [
              0.5555555555555556,
              "#d8576b"
             ],
             [
              0.6666666666666666,
              "#ed7953"
             ],
             [
              0.7777777777777778,
              "#fb9f3a"
             ],
             [
              0.8888888888888888,
              "#fdca26"
             ],
             [
              1,
              "#f0f921"
             ]
            ],
            "type": "contour"
           }
          ],
          "contourcarpet": [
           {
            "colorbar": {
             "outlinewidth": 0,
             "ticks": ""
            },
            "type": "contourcarpet"
           }
          ],
          "heatmap": [
           {
            "colorbar": {
             "outlinewidth": 0,
             "ticks": ""
            },
            "colorscale": [
             [
              0,
              "#0d0887"
             ],
             [
              0.1111111111111111,
              "#46039f"
             ],
             [
              0.2222222222222222,
              "#7201a8"
             ],
             [
              0.3333333333333333,
              "#9c179e"
             ],
             [
              0.4444444444444444,
              "#bd3786"
             ],
             [
              0.5555555555555556,
              "#d8576b"
             ],
             [
              0.6666666666666666,
              "#ed7953"
             ],
             [
              0.7777777777777778,
              "#fb9f3a"
             ],
             [
              0.8888888888888888,
              "#fdca26"
             ],
             [
              1,
              "#f0f921"
             ]
            ],
            "type": "heatmap"
           }
          ],
          "heatmapgl": [
           {
            "colorbar": {
             "outlinewidth": 0,
             "ticks": ""
            },
            "colorscale": [
             [
              0,
              "#0d0887"
             ],
             [
              0.1111111111111111,
              "#46039f"
             ],
             [
              0.2222222222222222,
              "#7201a8"
             ],
             [
              0.3333333333333333,
              "#9c179e"
             ],
             [
              0.4444444444444444,
              "#bd3786"
             ],
             [
              0.5555555555555556,
              "#d8576b"
             ],
             [
              0.6666666666666666,
              "#ed7953"
             ],
             [
              0.7777777777777778,
              "#fb9f3a"
             ],
             [
              0.8888888888888888,
              "#fdca26"
             ],
             [
              1,
              "#f0f921"
             ]
            ],
            "type": "heatmapgl"
           }
          ],
          "histogram": [
           {
            "marker": {
             "pattern": {
              "fillmode": "overlay",
              "size": 10,
              "solidity": 0.2
             }
            },
            "type": "histogram"
           }
          ],
          "histogram2d": [
           {
            "colorbar": {
             "outlinewidth": 0,
             "ticks": ""
            },
            "colorscale": [
             [
              0,
              "#0d0887"
             ],
             [
              0.1111111111111111,
              "#46039f"
             ],
             [
              0.2222222222222222,
              "#7201a8"
             ],
             [
              0.3333333333333333,
              "#9c179e"
             ],
             [
              0.4444444444444444,
              "#bd3786"
             ],
             [
              0.5555555555555556,
              "#d8576b"
             ],
             [
              0.6666666666666666,
              "#ed7953"
             ],
             [
              0.7777777777777778,
              "#fb9f3a"
             ],
             [
              0.8888888888888888,
              "#fdca26"
             ],
             [
              1,
              "#f0f921"
             ]
            ],
            "type": "histogram2d"
           }
          ],
          "histogram2dcontour": [
           {
            "colorbar": {
             "outlinewidth": 0,
             "ticks": ""
            },
            "colorscale": [
             [
              0,
              "#0d0887"
             ],
             [
              0.1111111111111111,
              "#46039f"
             ],
             [
              0.2222222222222222,
              "#7201a8"
             ],
             [
              0.3333333333333333,
              "#9c179e"
             ],
             [
              0.4444444444444444,
              "#bd3786"
             ],
             [
              0.5555555555555556,
              "#d8576b"
             ],
             [
              0.6666666666666666,
              "#ed7953"
             ],
             [
              0.7777777777777778,
              "#fb9f3a"
             ],
             [
              0.8888888888888888,
              "#fdca26"
             ],
             [
              1,
              "#f0f921"
             ]
            ],
            "type": "histogram2dcontour"
           }
          ],
          "mesh3d": [
           {
            "colorbar": {
             "outlinewidth": 0,
             "ticks": ""
            },
            "type": "mesh3d"
           }
          ],
          "parcoords": [
           {
            "line": {
             "colorbar": {
              "outlinewidth": 0,
              "ticks": ""
             }
            },
            "type": "parcoords"
           }
          ],
          "pie": [
           {
            "automargin": true,
            "type": "pie"
           }
          ],
          "scatter": [
           {
            "fillpattern": {
             "fillmode": "overlay",
             "size": 10,
             "solidity": 0.2
            },
            "type": "scatter"
           }
          ],
          "scatter3d": [
           {
            "line": {
             "colorbar": {
              "outlinewidth": 0,
              "ticks": ""
             }
            },
            "marker": {
             "colorbar": {
              "outlinewidth": 0,
              "ticks": ""
             }
            },
            "type": "scatter3d"
           }
          ],
          "scattercarpet": [
           {
            "marker": {
             "colorbar": {
              "outlinewidth": 0,
              "ticks": ""
             }
            },
            "type": "scattercarpet"
           }
          ],
          "scattergeo": [
           {
            "marker": {
             "colorbar": {
              "outlinewidth": 0,
              "ticks": ""
             }
            },
            "type": "scattergeo"
           }
          ],
          "scattergl": [
           {
            "marker": {
             "colorbar": {
              "outlinewidth": 0,
              "ticks": ""
             }
            },
            "type": "scattergl"
           }
          ],
          "scattermapbox": [
           {
            "marker": {
             "colorbar": {
              "outlinewidth": 0,
              "ticks": ""
             }
            },
            "type": "scattermapbox"
           }
          ],
          "scatterpolar": [
           {
            "marker": {
             "colorbar": {
              "outlinewidth": 0,
              "ticks": ""
             }
            },
            "type": "scatterpolar"
           }
          ],
          "scatterpolargl": [
           {
            "marker": {
             "colorbar": {
              "outlinewidth": 0,
              "ticks": ""
             }
            },
            "type": "scatterpolargl"
           }
          ],
          "scatterternary": [
           {
            "marker": {
             "colorbar": {
              "outlinewidth": 0,
              "ticks": ""
             }
            },
            "type": "scatterternary"
           }
          ],
          "surface": [
           {
            "colorbar": {
             "outlinewidth": 0,
             "ticks": ""
            },
            "colorscale": [
             [
              0,
              "#0d0887"
             ],
             [
              0.1111111111111111,
              "#46039f"
             ],
             [
              0.2222222222222222,
              "#7201a8"
             ],
             [
              0.3333333333333333,
              "#9c179e"
             ],
             [
              0.4444444444444444,
              "#bd3786"
             ],
             [
              0.5555555555555556,
              "#d8576b"
             ],
             [
              0.6666666666666666,
              "#ed7953"
             ],
             [
              0.7777777777777778,
              "#fb9f3a"
             ],
             [
              0.8888888888888888,
              "#fdca26"
             ],
             [
              1,
              "#f0f921"
             ]
            ],
            "type": "surface"
           }
          ],
          "table": [
           {
            "cells": {
             "fill": {
              "color": "#EBF0F8"
             },
             "line": {
              "color": "white"
             }
            },
            "header": {
             "fill": {
              "color": "#C8D4E3"
             },
             "line": {
              "color": "white"
             }
            },
            "type": "table"
           }
          ]
         },
         "layout": {
          "annotationdefaults": {
           "arrowcolor": "#2a3f5f",
           "arrowhead": 0,
           "arrowwidth": 1
          },
          "autotypenumbers": "strict",
          "coloraxis": {
           "colorbar": {
            "outlinewidth": 0,
            "ticks": ""
           }
          },
          "colorscale": {
           "diverging": [
            [
             0,
             "#8e0152"
            ],
            [
             0.1,
             "#c51b7d"
            ],
            [
             0.2,
             "#de77ae"
            ],
            [
             0.3,
             "#f1b6da"
            ],
            [
             0.4,
             "#fde0ef"
            ],
            [
             0.5,
             "#f7f7f7"
            ],
            [
             0.6,
             "#e6f5d0"
            ],
            [
             0.7,
             "#b8e186"
            ],
            [
             0.8,
             "#7fbc41"
            ],
            [
             0.9,
             "#4d9221"
            ],
            [
             1,
             "#276419"
            ]
           ],
           "sequential": [
            [
             0,
             "#0d0887"
            ],
            [
             0.1111111111111111,
             "#46039f"
            ],
            [
             0.2222222222222222,
             "#7201a8"
            ],
            [
             0.3333333333333333,
             "#9c179e"
            ],
            [
             0.4444444444444444,
             "#bd3786"
            ],
            [
             0.5555555555555556,
             "#d8576b"
            ],
            [
             0.6666666666666666,
             "#ed7953"
            ],
            [
             0.7777777777777778,
             "#fb9f3a"
            ],
            [
             0.8888888888888888,
             "#fdca26"
            ],
            [
             1,
             "#f0f921"
            ]
           ],
           "sequentialminus": [
            [
             0,
             "#0d0887"
            ],
            [
             0.1111111111111111,
             "#46039f"
            ],
            [
             0.2222222222222222,
             "#7201a8"
            ],
            [
             0.3333333333333333,
             "#9c179e"
            ],
            [
             0.4444444444444444,
             "#bd3786"
            ],
            [
             0.5555555555555556,
             "#d8576b"
            ],
            [
             0.6666666666666666,
             "#ed7953"
            ],
            [
             0.7777777777777778,
             "#fb9f3a"
            ],
            [
             0.8888888888888888,
             "#fdca26"
            ],
            [
             1,
             "#f0f921"
            ]
           ]
          },
          "colorway": [
           "#636efa",
           "#EF553B",
           "#00cc96",
           "#ab63fa",
           "#FFA15A",
           "#19d3f3",
           "#FF6692",
           "#B6E880",
           "#FF97FF",
           "#FECB52"
          ],
          "font": {
           "color": "#2a3f5f"
          },
          "geo": {
           "bgcolor": "white",
           "lakecolor": "white",
           "landcolor": "#E5ECF6",
           "showlakes": true,
           "showland": true,
           "subunitcolor": "white"
          },
          "hoverlabel": {
           "align": "left"
          },
          "hovermode": "closest",
          "mapbox": {
           "style": "light"
          },
          "paper_bgcolor": "white",
          "plot_bgcolor": "#E5ECF6",
          "polar": {
           "angularaxis": {
            "gridcolor": "white",
            "linecolor": "white",
            "ticks": ""
           },
           "bgcolor": "#E5ECF6",
           "radialaxis": {
            "gridcolor": "white",
            "linecolor": "white",
            "ticks": ""
           }
          },
          "scene": {
           "xaxis": {
            "backgroundcolor": "#E5ECF6",
            "gridcolor": "white",
            "gridwidth": 2,
            "linecolor": "white",
            "showbackground": true,
            "ticks": "",
            "zerolinecolor": "white"
           },
           "yaxis": {
            "backgroundcolor": "#E5ECF6",
            "gridcolor": "white",
            "gridwidth": 2,
            "linecolor": "white",
            "showbackground": true,
            "ticks": "",
            "zerolinecolor": "white"
           },
           "zaxis": {
            "backgroundcolor": "#E5ECF6",
            "gridcolor": "white",
            "gridwidth": 2,
            "linecolor": "white",
            "showbackground": true,
            "ticks": "",
            "zerolinecolor": "white"
           }
          },
          "shapedefaults": {
           "line": {
            "color": "#2a3f5f"
           }
          },
          "ternary": {
           "aaxis": {
            "gridcolor": "white",
            "linecolor": "white",
            "ticks": ""
           },
           "baxis": {
            "gridcolor": "white",
            "linecolor": "white",
            "ticks": ""
           },
           "bgcolor": "#E5ECF6",
           "caxis": {
            "gridcolor": "white",
            "linecolor": "white",
            "ticks": ""
           }
          },
          "title": {
           "x": 0.05
          },
          "xaxis": {
           "automargin": true,
           "gridcolor": "white",
           "linecolor": "white",
           "ticks": "",
           "title": {
            "standoff": 15
           },
           "zerolinecolor": "white",
           "zerolinewidth": 2
          },
          "yaxis": {
           "automargin": true,
           "gridcolor": "white",
           "linecolor": "white",
           "ticks": "",
           "title": {
            "standoff": 15
           },
           "zerolinecolor": "white",
           "zerolinewidth": 2
          }
         }
        },
        "title": {
         "text": " доля сетевых заведений по категориям"
        },
        "xaxis": {
         "anchor": "y",
         "domain": [
          0,
          1
         ],
         "tickangle": 45,
         "title": {
          "text": "share_of_chain"
         }
        },
        "yaxis": {
         "anchor": "x",
         "domain": [
          0,
          1
         ],
         "title": {
          "text": "category"
         }
        }
       }
      },
      "text/html": [
       "<div>                            <div id=\"a2087d0e-c86d-426a-85a5-bd73d37204b4\" class=\"plotly-graph-div\" style=\"height:525px; width:100%;\"></div>            <script type=\"text/javascript\">                require([\"plotly\"], function(Plotly) {                    window.PLOTLYENV=window.PLOTLYENV || {};                                    if (document.getElementById(\"a2087d0e-c86d-426a-85a5-bd73d37204b4\")) {                    Plotly.newPlot(                        \"a2087d0e-c86d-426a-85a5-bd73d37204b4\",                        [{\"alignmentgroup\":\"True\",\"hovertemplate\":\"share_of_chain=%{x}<br>category=%{y}<extra></extra>\",\"legendgroup\":\"\",\"marker\":{\"color\":\"#636efa\",\"pattern\":{\"shape\":\"\"}},\"name\":\"\",\"offsetgroup\":\"\",\"orientation\":\"h\",\"showlegend\":false,\"textposition\":\"auto\",\"x\":[22.091503267973856,27.936507936507937,32.758620689655174,35.73176700930005,38.47429519071311,50.955414012738856,52.13270142180095,61.328125],\"xaxis\":\"x\",\"y\":[\"\\u0431\\u0430\\u0440,\\u043f\\u0430\\u0431\",\"\\u0441\\u0442\\u043e\\u043b\\u043e\\u0432\\u0430\\u044f\",\"\\u043a\\u0430\\u0444\\u0435\",\"\\u0440\\u0435\\u0441\\u0442\\u043e\\u0440\\u0430\\u043d\",\"\\u0431\\u044b\\u0441\\u0442\\u0440\\u043e\\u0435 \\u043f\\u0438\\u0442\\u0430\\u043d\\u0438\\u0435\",\"\\u043a\\u043e\\u0444\\u0435\\u0439\\u043d\\u044f\",\"\\u043f\\u0438\\u0446\\u0446\\u0435\\u0440\\u0438\\u044f\",\"\\u0431\\u0443\\u043b\\u043e\\u0447\\u043d\\u0430\\u044f\"],\"yaxis\":\"y\",\"type\":\"bar\"}],                        {\"template\":{\"data\":{\"histogram2dcontour\":[{\"type\":\"histogram2dcontour\",\"colorbar\":{\"outlinewidth\":0,\"ticks\":\"\"},\"colorscale\":[[0.0,\"#0d0887\"],[0.1111111111111111,\"#46039f\"],[0.2222222222222222,\"#7201a8\"],[0.3333333333333333,\"#9c179e\"],[0.4444444444444444,\"#bd3786\"],[0.5555555555555556,\"#d8576b\"],[0.6666666666666666,\"#ed7953\"],[0.7777777777777778,\"#fb9f3a\"],[0.8888888888888888,\"#fdca26\"],[1.0,\"#f0f921\"]]}],\"choropleth\":[{\"type\":\"choropleth\",\"colorbar\":{\"outlinewidth\":0,\"ticks\":\"\"}}],\"histogram2d\":[{\"type\":\"histogram2d\",\"colorbar\":{\"outlinewidth\":0,\"ticks\":\"\"},\"colorscale\":[[0.0,\"#0d0887\"],[0.1111111111111111,\"#46039f\"],[0.2222222222222222,\"#7201a8\"],[0.3333333333333333,\"#9c179e\"],[0.4444444444444444,\"#bd3786\"],[0.5555555555555556,\"#d8576b\"],[0.6666666666666666,\"#ed7953\"],[0.7777777777777778,\"#fb9f3a\"],[0.8888888888888888,\"#fdca26\"],[1.0,\"#f0f921\"]]}],\"heatmap\":[{\"type\":\"heatmap\",\"colorbar\":{\"outlinewidth\":0,\"ticks\":\"\"},\"colorscale\":[[0.0,\"#0d0887\"],[0.1111111111111111,\"#46039f\"],[0.2222222222222222,\"#7201a8\"],[0.3333333333333333,\"#9c179e\"],[0.4444444444444444,\"#bd3786\"],[0.5555555555555556,\"#d8576b\"],[0.6666666666666666,\"#ed7953\"],[0.7777777777777778,\"#fb9f3a\"],[0.8888888888888888,\"#fdca26\"],[1.0,\"#f0f921\"]]}],\"heatmapgl\":[{\"type\":\"heatmapgl\",\"colorbar\":{\"outlinewidth\":0,\"ticks\":\"\"},\"colorscale\":[[0.0,\"#0d0887\"],[0.1111111111111111,\"#46039f\"],[0.2222222222222222,\"#7201a8\"],[0.3333333333333333,\"#9c179e\"],[0.4444444444444444,\"#bd3786\"],[0.5555555555555556,\"#d8576b\"],[0.6666666666666666,\"#ed7953\"],[0.7777777777777778,\"#fb9f3a\"],[0.8888888888888888,\"#fdca26\"],[1.0,\"#f0f921\"]]}],\"contourcarpet\":[{\"type\":\"contourcarpet\",\"colorbar\":{\"outlinewidth\":0,\"ticks\":\"\"}}],\"contour\":[{\"type\":\"contour\",\"colorbar\":{\"outlinewidth\":0,\"ticks\":\"\"},\"colorscale\":[[0.0,\"#0d0887\"],[0.1111111111111111,\"#46039f\"],[0.2222222222222222,\"#7201a8\"],[0.3333333333333333,\"#9c179e\"],[0.4444444444444444,\"#bd3786\"],[0.5555555555555556,\"#d8576b\"],[0.6666666666666666,\"#ed7953\"],[0.7777777777777778,\"#fb9f3a\"],[0.8888888888888888,\"#fdca26\"],[1.0,\"#f0f921\"]]}],\"surface\":[{\"type\":\"surface\",\"colorbar\":{\"outlinewidth\":0,\"ticks\":\"\"},\"colorscale\":[[0.0,\"#0d0887\"],[0.1111111111111111,\"#46039f\"],[0.2222222222222222,\"#7201a8\"],[0.3333333333333333,\"#9c179e\"],[0.4444444444444444,\"#bd3786\"],[0.5555555555555556,\"#d8576b\"],[0.6666666666666666,\"#ed7953\"],[0.7777777777777778,\"#fb9f3a\"],[0.8888888888888888,\"#fdca26\"],[1.0,\"#f0f921\"]]}],\"mesh3d\":[{\"type\":\"mesh3d\",\"colorbar\":{\"outlinewidth\":0,\"ticks\":\"\"}}],\"scatter\":[{\"fillpattern\":{\"fillmode\":\"overlay\",\"size\":10,\"solidity\":0.2},\"type\":\"scatter\"}],\"parcoords\":[{\"type\":\"parcoords\",\"line\":{\"colorbar\":{\"outlinewidth\":0,\"ticks\":\"\"}}}],\"scatterpolargl\":[{\"type\":\"scatterpolargl\",\"marker\":{\"colorbar\":{\"outlinewidth\":0,\"ticks\":\"\"}}}],\"bar\":[{\"error_x\":{\"color\":\"#2a3f5f\"},\"error_y\":{\"color\":\"#2a3f5f\"},\"marker\":{\"line\":{\"color\":\"#E5ECF6\",\"width\":0.5},\"pattern\":{\"fillmode\":\"overlay\",\"size\":10,\"solidity\":0.2}},\"type\":\"bar\"}],\"scattergeo\":[{\"type\":\"scattergeo\",\"marker\":{\"colorbar\":{\"outlinewidth\":0,\"ticks\":\"\"}}}],\"scatterpolar\":[{\"type\":\"scatterpolar\",\"marker\":{\"colorbar\":{\"outlinewidth\":0,\"ticks\":\"\"}}}],\"histogram\":[{\"marker\":{\"pattern\":{\"fillmode\":\"overlay\",\"size\":10,\"solidity\":0.2}},\"type\":\"histogram\"}],\"scattergl\":[{\"type\":\"scattergl\",\"marker\":{\"colorbar\":{\"outlinewidth\":0,\"ticks\":\"\"}}}],\"scatter3d\":[{\"type\":\"scatter3d\",\"line\":{\"colorbar\":{\"outlinewidth\":0,\"ticks\":\"\"}},\"marker\":{\"colorbar\":{\"outlinewidth\":0,\"ticks\":\"\"}}}],\"scattermapbox\":[{\"type\":\"scattermapbox\",\"marker\":{\"colorbar\":{\"outlinewidth\":0,\"ticks\":\"\"}}}],\"scatterternary\":[{\"type\":\"scatterternary\",\"marker\":{\"colorbar\":{\"outlinewidth\":0,\"ticks\":\"\"}}}],\"scattercarpet\":[{\"type\":\"scattercarpet\",\"marker\":{\"colorbar\":{\"outlinewidth\":0,\"ticks\":\"\"}}}],\"carpet\":[{\"aaxis\":{\"endlinecolor\":\"#2a3f5f\",\"gridcolor\":\"white\",\"linecolor\":\"white\",\"minorgridcolor\":\"white\",\"startlinecolor\":\"#2a3f5f\"},\"baxis\":{\"endlinecolor\":\"#2a3f5f\",\"gridcolor\":\"white\",\"linecolor\":\"white\",\"minorgridcolor\":\"white\",\"startlinecolor\":\"#2a3f5f\"},\"type\":\"carpet\"}],\"table\":[{\"cells\":{\"fill\":{\"color\":\"#EBF0F8\"},\"line\":{\"color\":\"white\"}},\"header\":{\"fill\":{\"color\":\"#C8D4E3\"},\"line\":{\"color\":\"white\"}},\"type\":\"table\"}],\"barpolar\":[{\"marker\":{\"line\":{\"color\":\"#E5ECF6\",\"width\":0.5},\"pattern\":{\"fillmode\":\"overlay\",\"size\":10,\"solidity\":0.2}},\"type\":\"barpolar\"}],\"pie\":[{\"automargin\":true,\"type\":\"pie\"}]},\"layout\":{\"autotypenumbers\":\"strict\",\"colorway\":[\"#636efa\",\"#EF553B\",\"#00cc96\",\"#ab63fa\",\"#FFA15A\",\"#19d3f3\",\"#FF6692\",\"#B6E880\",\"#FF97FF\",\"#FECB52\"],\"font\":{\"color\":\"#2a3f5f\"},\"hovermode\":\"closest\",\"hoverlabel\":{\"align\":\"left\"},\"paper_bgcolor\":\"white\",\"plot_bgcolor\":\"#E5ECF6\",\"polar\":{\"bgcolor\":\"#E5ECF6\",\"angularaxis\":{\"gridcolor\":\"white\",\"linecolor\":\"white\",\"ticks\":\"\"},\"radialaxis\":{\"gridcolor\":\"white\",\"linecolor\":\"white\",\"ticks\":\"\"}},\"ternary\":{\"bgcolor\":\"#E5ECF6\",\"aaxis\":{\"gridcolor\":\"white\",\"linecolor\":\"white\",\"ticks\":\"\"},\"baxis\":{\"gridcolor\":\"white\",\"linecolor\":\"white\",\"ticks\":\"\"},\"caxis\":{\"gridcolor\":\"white\",\"linecolor\":\"white\",\"ticks\":\"\"}},\"coloraxis\":{\"colorbar\":{\"outlinewidth\":0,\"ticks\":\"\"}},\"colorscale\":{\"sequential\":[[0.0,\"#0d0887\"],[0.1111111111111111,\"#46039f\"],[0.2222222222222222,\"#7201a8\"],[0.3333333333333333,\"#9c179e\"],[0.4444444444444444,\"#bd3786\"],[0.5555555555555556,\"#d8576b\"],[0.6666666666666666,\"#ed7953\"],[0.7777777777777778,\"#fb9f3a\"],[0.8888888888888888,\"#fdca26\"],[1.0,\"#f0f921\"]],\"sequentialminus\":[[0.0,\"#0d0887\"],[0.1111111111111111,\"#46039f\"],[0.2222222222222222,\"#7201a8\"],[0.3333333333333333,\"#9c179e\"],[0.4444444444444444,\"#bd3786\"],[0.5555555555555556,\"#d8576b\"],[0.6666666666666666,\"#ed7953\"],[0.7777777777777778,\"#fb9f3a\"],[0.8888888888888888,\"#fdca26\"],[1.0,\"#f0f921\"]],\"diverging\":[[0,\"#8e0152\"],[0.1,\"#c51b7d\"],[0.2,\"#de77ae\"],[0.3,\"#f1b6da\"],[0.4,\"#fde0ef\"],[0.5,\"#f7f7f7\"],[0.6,\"#e6f5d0\"],[0.7,\"#b8e186\"],[0.8,\"#7fbc41\"],[0.9,\"#4d9221\"],[1,\"#276419\"]]},\"xaxis\":{\"gridcolor\":\"white\",\"linecolor\":\"white\",\"ticks\":\"\",\"title\":{\"standoff\":15},\"zerolinecolor\":\"white\",\"automargin\":true,\"zerolinewidth\":2},\"yaxis\":{\"gridcolor\":\"white\",\"linecolor\":\"white\",\"ticks\":\"\",\"title\":{\"standoff\":15},\"zerolinecolor\":\"white\",\"automargin\":true,\"zerolinewidth\":2},\"scene\":{\"xaxis\":{\"backgroundcolor\":\"#E5ECF6\",\"gridcolor\":\"white\",\"linecolor\":\"white\",\"showbackground\":true,\"ticks\":\"\",\"zerolinecolor\":\"white\",\"gridwidth\":2},\"yaxis\":{\"backgroundcolor\":\"#E5ECF6\",\"gridcolor\":\"white\",\"linecolor\":\"white\",\"showbackground\":true,\"ticks\":\"\",\"zerolinecolor\":\"white\",\"gridwidth\":2},\"zaxis\":{\"backgroundcolor\":\"#E5ECF6\",\"gridcolor\":\"white\",\"linecolor\":\"white\",\"showbackground\":true,\"ticks\":\"\",\"zerolinecolor\":\"white\",\"gridwidth\":2}},\"shapedefaults\":{\"line\":{\"color\":\"#2a3f5f\"}},\"annotationdefaults\":{\"arrowcolor\":\"#2a3f5f\",\"arrowhead\":0,\"arrowwidth\":1},\"geo\":{\"bgcolor\":\"white\",\"landcolor\":\"#E5ECF6\",\"subunitcolor\":\"white\",\"showland\":true,\"showlakes\":true,\"lakecolor\":\"white\"},\"title\":{\"x\":0.05},\"mapbox\":{\"style\":\"light\"}}},\"xaxis\":{\"anchor\":\"y\",\"domain\":[0.0,1.0],\"title\":{\"text\":\"share_of_chain\"},\"tickangle\":45},\"yaxis\":{\"anchor\":\"x\",\"domain\":[0.0,1.0],\"title\":{\"text\":\"category\"}},\"legend\":{\"tracegroupgap\":0},\"title\":{\"text\":\" \\u0434\\u043e\\u043b\\u044f \\u0441\\u0435\\u0442\\u0435\\u0432\\u044b\\u0445 \\u0437\\u0430\\u0432\\u0435\\u0434\\u0435\\u043d\\u0438\\u0439 \\u043f\\u043e \\u043a\\u0430\\u0442\\u0435\\u0433\\u043e\\u0440\\u0438\\u044f\\u043c\"},\"barmode\":\"relative\"},                        {\"responsive\": true}                    ).then(function(){\n",
       "                            \n",
       "var gd = document.getElementById('a2087d0e-c86d-426a-85a5-bd73d37204b4');\n",
       "var x = new MutationObserver(function (mutations, observer) {{\n",
       "        var display = window.getComputedStyle(gd).display;\n",
       "        if (!display || display === 'none') {{\n",
       "            console.log([gd, 'removed!']);\n",
       "            Plotly.purge(gd);\n",
       "            observer.disconnect();\n",
       "        }}\n",
       "}});\n",
       "\n",
       "// Listen for the removal of the full notebook cells\n",
       "var notebookContainer = gd.closest('#notebook-container');\n",
       "if (notebookContainer) {{\n",
       "    x.observe(notebookContainer, {childList: true});\n",
       "}}\n",
       "\n",
       "// Listen for the clearing of the current output cell\n",
       "var outputEl = gd.closest('.output');\n",
       "if (outputEl) {{\n",
       "    x.observe(outputEl, {childList: true});\n",
       "}}\n",
       "\n",
       "                        })                };                });            </script>        </div>"
      ]
     },
     "metadata": {},
     "output_type": "display_data"
    }
   ],
   "source": [
    "fig = px.bar(share, x='share_of_chain', y='category', title=' доля сетевых заведений по категориям')\n",
    "fig.update_xaxes(tickangle=45)\n",
    "fig.show()"
   ]
  },
  {
   "cell_type": "markdown",
   "metadata": {},
   "source": [
    "Больше всего сетевых заведений в категориях булочная, пиццерия и кофейня. Меньше всего в категории бар,паб"
   ]
  },
  {
   "cell_type": "markdown",
   "metadata": {},
   "source": [
    "#### топ-15 популярных сетей в Москве"
   ]
  },
  {
   "cell_type": "code",
   "execution_count": 87,
   "metadata": {},
   "outputs": [
    {
     "data": {
      "text/html": [
       "<div>\n",
       "<style scoped>\n",
       "    .dataframe tbody tr th:only-of-type {\n",
       "        vertical-align: middle;\n",
       "    }\n",
       "\n",
       "    .dataframe tbody tr th {\n",
       "        vertical-align: top;\n",
       "    }\n",
       "\n",
       "    .dataframe thead th {\n",
       "        text-align: right;\n",
       "    }\n",
       "</style>\n",
       "<table border=\"1\" class=\"dataframe\">\n",
       "  <thead>\n",
       "    <tr style=\"text-align: right;\">\n",
       "      <th></th>\n",
       "      <th>name</th>\n",
       "      <th>count</th>\n",
       "    </tr>\n",
       "  </thead>\n",
       "  <tbody>\n",
       "    <tr>\n",
       "      <th>746</th>\n",
       "      <td>Шоколадница</td>\n",
       "      <td>120</td>\n",
       "    </tr>\n",
       "    <tr>\n",
       "      <th>344</th>\n",
       "      <td>Домино'с Пицца</td>\n",
       "      <td>76</td>\n",
       "    </tr>\n",
       "    <tr>\n",
       "      <th>340</th>\n",
       "      <td>Додо Пицца</td>\n",
       "      <td>74</td>\n",
       "    </tr>\n",
       "    <tr>\n",
       "      <th>148</th>\n",
       "      <td>One Price Coffee</td>\n",
       "      <td>71</td>\n",
       "    </tr>\n",
       "    <tr>\n",
       "      <th>759</th>\n",
       "      <td>Яндекс Лавка</td>\n",
       "      <td>69</td>\n",
       "    </tr>\n",
       "    <tr>\n",
       "      <th>59</th>\n",
       "      <td>Cofix</td>\n",
       "      <td>65</td>\n",
       "    </tr>\n",
       "    <tr>\n",
       "      <th>170</th>\n",
       "      <td>Prime</td>\n",
       "      <td>50</td>\n",
       "    </tr>\n",
       "    <tr>\n",
       "      <th>679</th>\n",
       "      <td>Хинкальная</td>\n",
       "      <td>44</td>\n",
       "    </tr>\n",
       "    <tr>\n",
       "      <th>378</th>\n",
       "      <td>КОФЕПОРТ</td>\n",
       "      <td>42</td>\n",
       "    </tr>\n",
       "    <tr>\n",
       "      <th>431</th>\n",
       "      <td>Кулинарная лавка братьев Караваевых</td>\n",
       "      <td>39</td>\n",
       "    </tr>\n",
       "    <tr>\n",
       "      <th>643</th>\n",
       "      <td>Теремок</td>\n",
       "      <td>38</td>\n",
       "    </tr>\n",
       "    <tr>\n",
       "      <th>699</th>\n",
       "      <td>Чайхана</td>\n",
       "      <td>37</td>\n",
       "    </tr>\n",
       "    <tr>\n",
       "      <th>40</th>\n",
       "      <td>CofeFest</td>\n",
       "      <td>32</td>\n",
       "    </tr>\n",
       "    <tr>\n",
       "      <th>273</th>\n",
       "      <td>Буханка</td>\n",
       "      <td>32</td>\n",
       "    </tr>\n",
       "    <tr>\n",
       "      <th>491</th>\n",
       "      <td>Му-Му</td>\n",
       "      <td>27</td>\n",
       "    </tr>\n",
       "  </tbody>\n",
       "</table>\n",
       "</div>"
      ],
      "text/plain": [
       "                                    name  count\n",
       "746                          Шоколадница    120\n",
       "344                       Домино'с Пицца     76\n",
       "340                           Додо Пицца     74\n",
       "148                     One Price Coffee     71\n",
       "759                         Яндекс Лавка     69\n",
       "59                                 Cofix     65\n",
       "170                                Prime     50\n",
       "679                           Хинкальная     44\n",
       "378                             КОФЕПОРТ     42\n",
       "431  Кулинарная лавка братьев Караваевых     39\n",
       "643                              Теремок     38\n",
       "699                              Чайхана     37\n",
       "40                              CofeFest     32\n",
       "273                              Буханка     32\n",
       "491                                Му-Му     27"
      ]
     },
     "execution_count": 87,
     "metadata": {},
     "output_type": "execute_result"
    }
   ],
   "source": [
    "top_15 = chain_places.pivot_table(index='name', values='address', aggfunc=['count']).reset_index()\n",
    "top_15.columns=['name','count']\n",
    "top_15 = top_15.sort_values(by='count',ascending=False)\n",
    "top_15 = top_15.head(15)\n",
    "top_15"
   ]
  },
  {
   "cell_type": "code",
   "execution_count": 88,
   "metadata": {},
   "outputs": [
    {
     "data": {
      "application/vnd.plotly.v1+json": {
       "config": {
        "plotlyServerURL": "https://plot.ly"
       },
       "data": [
        {
         "alignmentgroup": "True",
         "hovertemplate": "name=%{x}<br>count=%{y}<extra></extra>",
         "legendgroup": "",
         "marker": {
          "color": "#636efa",
          "pattern": {
           "shape": ""
          }
         },
         "name": "",
         "offsetgroup": "",
         "orientation": "v",
         "showlegend": false,
         "textposition": "auto",
         "type": "bar",
         "x": [
          "Шоколадница",
          "Домино'с Пицца",
          "Додо Пицца",
          "One Price Coffee",
          "Яндекс Лавка",
          "Cofix",
          "Prime",
          "Хинкальная",
          "КОФЕПОРТ",
          "Кулинарная лавка братьев Караваевых",
          "Теремок",
          "Чайхана",
          "CofeFest",
          "Буханка",
          "Му-Му"
         ],
         "xaxis": "x",
         "y": [
          120,
          76,
          74,
          71,
          69,
          65,
          50,
          44,
          42,
          39,
          38,
          37,
          32,
          32,
          27
         ],
         "yaxis": "y"
        }
       ],
       "layout": {
        "barmode": "relative",
        "legend": {
         "tracegroupgap": 0
        },
        "template": {
         "data": {
          "bar": [
           {
            "error_x": {
             "color": "#2a3f5f"
            },
            "error_y": {
             "color": "#2a3f5f"
            },
            "marker": {
             "line": {
              "color": "#E5ECF6",
              "width": 0.5
             },
             "pattern": {
              "fillmode": "overlay",
              "size": 10,
              "solidity": 0.2
             }
            },
            "type": "bar"
           }
          ],
          "barpolar": [
           {
            "marker": {
             "line": {
              "color": "#E5ECF6",
              "width": 0.5
             },
             "pattern": {
              "fillmode": "overlay",
              "size": 10,
              "solidity": 0.2
             }
            },
            "type": "barpolar"
           }
          ],
          "carpet": [
           {
            "aaxis": {
             "endlinecolor": "#2a3f5f",
             "gridcolor": "white",
             "linecolor": "white",
             "minorgridcolor": "white",
             "startlinecolor": "#2a3f5f"
            },
            "baxis": {
             "endlinecolor": "#2a3f5f",
             "gridcolor": "white",
             "linecolor": "white",
             "minorgridcolor": "white",
             "startlinecolor": "#2a3f5f"
            },
            "type": "carpet"
           }
          ],
          "choropleth": [
           {
            "colorbar": {
             "outlinewidth": 0,
             "ticks": ""
            },
            "type": "choropleth"
           }
          ],
          "contour": [
           {
            "colorbar": {
             "outlinewidth": 0,
             "ticks": ""
            },
            "colorscale": [
             [
              0,
              "#0d0887"
             ],
             [
              0.1111111111111111,
              "#46039f"
             ],
             [
              0.2222222222222222,
              "#7201a8"
             ],
             [
              0.3333333333333333,
              "#9c179e"
             ],
             [
              0.4444444444444444,
              "#bd3786"
             ],
             [
              0.5555555555555556,
              "#d8576b"
             ],
             [
              0.6666666666666666,
              "#ed7953"
             ],
             [
              0.7777777777777778,
              "#fb9f3a"
             ],
             [
              0.8888888888888888,
              "#fdca26"
             ],
             [
              1,
              "#f0f921"
             ]
            ],
            "type": "contour"
           }
          ],
          "contourcarpet": [
           {
            "colorbar": {
             "outlinewidth": 0,
             "ticks": ""
            },
            "type": "contourcarpet"
           }
          ],
          "heatmap": [
           {
            "colorbar": {
             "outlinewidth": 0,
             "ticks": ""
            },
            "colorscale": [
             [
              0,
              "#0d0887"
             ],
             [
              0.1111111111111111,
              "#46039f"
             ],
             [
              0.2222222222222222,
              "#7201a8"
             ],
             [
              0.3333333333333333,
              "#9c179e"
             ],
             [
              0.4444444444444444,
              "#bd3786"
             ],
             [
              0.5555555555555556,
              "#d8576b"
             ],
             [
              0.6666666666666666,
              "#ed7953"
             ],
             [
              0.7777777777777778,
              "#fb9f3a"
             ],
             [
              0.8888888888888888,
              "#fdca26"
             ],
             [
              1,
              "#f0f921"
             ]
            ],
            "type": "heatmap"
           }
          ],
          "heatmapgl": [
           {
            "colorbar": {
             "outlinewidth": 0,
             "ticks": ""
            },
            "colorscale": [
             [
              0,
              "#0d0887"
             ],
             [
              0.1111111111111111,
              "#46039f"
             ],
             [
              0.2222222222222222,
              "#7201a8"
             ],
             [
              0.3333333333333333,
              "#9c179e"
             ],
             [
              0.4444444444444444,
              "#bd3786"
             ],
             [
              0.5555555555555556,
              "#d8576b"
             ],
             [
              0.6666666666666666,
              "#ed7953"
             ],
             [
              0.7777777777777778,
              "#fb9f3a"
             ],
             [
              0.8888888888888888,
              "#fdca26"
             ],
             [
              1,
              "#f0f921"
             ]
            ],
            "type": "heatmapgl"
           }
          ],
          "histogram": [
           {
            "marker": {
             "pattern": {
              "fillmode": "overlay",
              "size": 10,
              "solidity": 0.2
             }
            },
            "type": "histogram"
           }
          ],
          "histogram2d": [
           {
            "colorbar": {
             "outlinewidth": 0,
             "ticks": ""
            },
            "colorscale": [
             [
              0,
              "#0d0887"
             ],
             [
              0.1111111111111111,
              "#46039f"
             ],
             [
              0.2222222222222222,
              "#7201a8"
             ],
             [
              0.3333333333333333,
              "#9c179e"
             ],
             [
              0.4444444444444444,
              "#bd3786"
             ],
             [
              0.5555555555555556,
              "#d8576b"
             ],
             [
              0.6666666666666666,
              "#ed7953"
             ],
             [
              0.7777777777777778,
              "#fb9f3a"
             ],
             [
              0.8888888888888888,
              "#fdca26"
             ],
             [
              1,
              "#f0f921"
             ]
            ],
            "type": "histogram2d"
           }
          ],
          "histogram2dcontour": [
           {
            "colorbar": {
             "outlinewidth": 0,
             "ticks": ""
            },
            "colorscale": [
             [
              0,
              "#0d0887"
             ],
             [
              0.1111111111111111,
              "#46039f"
             ],
             [
              0.2222222222222222,
              "#7201a8"
             ],
             [
              0.3333333333333333,
              "#9c179e"
             ],
             [
              0.4444444444444444,
              "#bd3786"
             ],
             [
              0.5555555555555556,
              "#d8576b"
             ],
             [
              0.6666666666666666,
              "#ed7953"
             ],
             [
              0.7777777777777778,
              "#fb9f3a"
             ],
             [
              0.8888888888888888,
              "#fdca26"
             ],
             [
              1,
              "#f0f921"
             ]
            ],
            "type": "histogram2dcontour"
           }
          ],
          "mesh3d": [
           {
            "colorbar": {
             "outlinewidth": 0,
             "ticks": ""
            },
            "type": "mesh3d"
           }
          ],
          "parcoords": [
           {
            "line": {
             "colorbar": {
              "outlinewidth": 0,
              "ticks": ""
             }
            },
            "type": "parcoords"
           }
          ],
          "pie": [
           {
            "automargin": true,
            "type": "pie"
           }
          ],
          "scatter": [
           {
            "fillpattern": {
             "fillmode": "overlay",
             "size": 10,
             "solidity": 0.2
            },
            "type": "scatter"
           }
          ],
          "scatter3d": [
           {
            "line": {
             "colorbar": {
              "outlinewidth": 0,
              "ticks": ""
             }
            },
            "marker": {
             "colorbar": {
              "outlinewidth": 0,
              "ticks": ""
             }
            },
            "type": "scatter3d"
           }
          ],
          "scattercarpet": [
           {
            "marker": {
             "colorbar": {
              "outlinewidth": 0,
              "ticks": ""
             }
            },
            "type": "scattercarpet"
           }
          ],
          "scattergeo": [
           {
            "marker": {
             "colorbar": {
              "outlinewidth": 0,
              "ticks": ""
             }
            },
            "type": "scattergeo"
           }
          ],
          "scattergl": [
           {
            "marker": {
             "colorbar": {
              "outlinewidth": 0,
              "ticks": ""
             }
            },
            "type": "scattergl"
           }
          ],
          "scattermapbox": [
           {
            "marker": {
             "colorbar": {
              "outlinewidth": 0,
              "ticks": ""
             }
            },
            "type": "scattermapbox"
           }
          ],
          "scatterpolar": [
           {
            "marker": {
             "colorbar": {
              "outlinewidth": 0,
              "ticks": ""
             }
            },
            "type": "scatterpolar"
           }
          ],
          "scatterpolargl": [
           {
            "marker": {
             "colorbar": {
              "outlinewidth": 0,
              "ticks": ""
             }
            },
            "type": "scatterpolargl"
           }
          ],
          "scatterternary": [
           {
            "marker": {
             "colorbar": {
              "outlinewidth": 0,
              "ticks": ""
             }
            },
            "type": "scatterternary"
           }
          ],
          "surface": [
           {
            "colorbar": {
             "outlinewidth": 0,
             "ticks": ""
            },
            "colorscale": [
             [
              0,
              "#0d0887"
             ],
             [
              0.1111111111111111,
              "#46039f"
             ],
             [
              0.2222222222222222,
              "#7201a8"
             ],
             [
              0.3333333333333333,
              "#9c179e"
             ],
             [
              0.4444444444444444,
              "#bd3786"
             ],
             [
              0.5555555555555556,
              "#d8576b"
             ],
             [
              0.6666666666666666,
              "#ed7953"
             ],
             [
              0.7777777777777778,
              "#fb9f3a"
             ],
             [
              0.8888888888888888,
              "#fdca26"
             ],
             [
              1,
              "#f0f921"
             ]
            ],
            "type": "surface"
           }
          ],
          "table": [
           {
            "cells": {
             "fill": {
              "color": "#EBF0F8"
             },
             "line": {
              "color": "white"
             }
            },
            "header": {
             "fill": {
              "color": "#C8D4E3"
             },
             "line": {
              "color": "white"
             }
            },
            "type": "table"
           }
          ]
         },
         "layout": {
          "annotationdefaults": {
           "arrowcolor": "#2a3f5f",
           "arrowhead": 0,
           "arrowwidth": 1
          },
          "autotypenumbers": "strict",
          "coloraxis": {
           "colorbar": {
            "outlinewidth": 0,
            "ticks": ""
           }
          },
          "colorscale": {
           "diverging": [
            [
             0,
             "#8e0152"
            ],
            [
             0.1,
             "#c51b7d"
            ],
            [
             0.2,
             "#de77ae"
            ],
            [
             0.3,
             "#f1b6da"
            ],
            [
             0.4,
             "#fde0ef"
            ],
            [
             0.5,
             "#f7f7f7"
            ],
            [
             0.6,
             "#e6f5d0"
            ],
            [
             0.7,
             "#b8e186"
            ],
            [
             0.8,
             "#7fbc41"
            ],
            [
             0.9,
             "#4d9221"
            ],
            [
             1,
             "#276419"
            ]
           ],
           "sequential": [
            [
             0,
             "#0d0887"
            ],
            [
             0.1111111111111111,
             "#46039f"
            ],
            [
             0.2222222222222222,
             "#7201a8"
            ],
            [
             0.3333333333333333,
             "#9c179e"
            ],
            [
             0.4444444444444444,
             "#bd3786"
            ],
            [
             0.5555555555555556,
             "#d8576b"
            ],
            [
             0.6666666666666666,
             "#ed7953"
            ],
            [
             0.7777777777777778,
             "#fb9f3a"
            ],
            [
             0.8888888888888888,
             "#fdca26"
            ],
            [
             1,
             "#f0f921"
            ]
           ],
           "sequentialminus": [
            [
             0,
             "#0d0887"
            ],
            [
             0.1111111111111111,
             "#46039f"
            ],
            [
             0.2222222222222222,
             "#7201a8"
            ],
            [
             0.3333333333333333,
             "#9c179e"
            ],
            [
             0.4444444444444444,
             "#bd3786"
            ],
            [
             0.5555555555555556,
             "#d8576b"
            ],
            [
             0.6666666666666666,
             "#ed7953"
            ],
            [
             0.7777777777777778,
             "#fb9f3a"
            ],
            [
             0.8888888888888888,
             "#fdca26"
            ],
            [
             1,
             "#f0f921"
            ]
           ]
          },
          "colorway": [
           "#636efa",
           "#EF553B",
           "#00cc96",
           "#ab63fa",
           "#FFA15A",
           "#19d3f3",
           "#FF6692",
           "#B6E880",
           "#FF97FF",
           "#FECB52"
          ],
          "font": {
           "color": "#2a3f5f"
          },
          "geo": {
           "bgcolor": "white",
           "lakecolor": "white",
           "landcolor": "#E5ECF6",
           "showlakes": true,
           "showland": true,
           "subunitcolor": "white"
          },
          "hoverlabel": {
           "align": "left"
          },
          "hovermode": "closest",
          "mapbox": {
           "style": "light"
          },
          "paper_bgcolor": "white",
          "plot_bgcolor": "#E5ECF6",
          "polar": {
           "angularaxis": {
            "gridcolor": "white",
            "linecolor": "white",
            "ticks": ""
           },
           "bgcolor": "#E5ECF6",
           "radialaxis": {
            "gridcolor": "white",
            "linecolor": "white",
            "ticks": ""
           }
          },
          "scene": {
           "xaxis": {
            "backgroundcolor": "#E5ECF6",
            "gridcolor": "white",
            "gridwidth": 2,
            "linecolor": "white",
            "showbackground": true,
            "ticks": "",
            "zerolinecolor": "white"
           },
           "yaxis": {
            "backgroundcolor": "#E5ECF6",
            "gridcolor": "white",
            "gridwidth": 2,
            "linecolor": "white",
            "showbackground": true,
            "ticks": "",
            "zerolinecolor": "white"
           },
           "zaxis": {
            "backgroundcolor": "#E5ECF6",
            "gridcolor": "white",
            "gridwidth": 2,
            "linecolor": "white",
            "showbackground": true,
            "ticks": "",
            "zerolinecolor": "white"
           }
          },
          "shapedefaults": {
           "line": {
            "color": "#2a3f5f"
           }
          },
          "ternary": {
           "aaxis": {
            "gridcolor": "white",
            "linecolor": "white",
            "ticks": ""
           },
           "baxis": {
            "gridcolor": "white",
            "linecolor": "white",
            "ticks": ""
           },
           "bgcolor": "#E5ECF6",
           "caxis": {
            "gridcolor": "white",
            "linecolor": "white",
            "ticks": ""
           }
          },
          "title": {
           "x": 0.05
          },
          "xaxis": {
           "automargin": true,
           "gridcolor": "white",
           "linecolor": "white",
           "ticks": "",
           "title": {
            "standoff": 15
           },
           "zerolinecolor": "white",
           "zerolinewidth": 2
          },
          "yaxis": {
           "automargin": true,
           "gridcolor": "white",
           "linecolor": "white",
           "ticks": "",
           "title": {
            "standoff": 15
           },
           "zerolinecolor": "white",
           "zerolinewidth": 2
          }
         }
        },
        "title": {
         "text": "Топ 15 сетевых заведений"
        },
        "xaxis": {
         "anchor": "y",
         "domain": [
          0,
          1
         ],
         "tickangle": 45,
         "title": {
          "text": "name"
         }
        },
        "yaxis": {
         "anchor": "x",
         "domain": [
          0,
          1
         ],
         "title": {
          "text": "count"
         }
        }
       }
      },
      "text/html": [
       "<div>                            <div id=\"117984ac-c37c-49ae-8ee5-eb91acecff5c\" class=\"plotly-graph-div\" style=\"height:525px; width:100%;\"></div>            <script type=\"text/javascript\">                require([\"plotly\"], function(Plotly) {                    window.PLOTLYENV=window.PLOTLYENV || {};                                    if (document.getElementById(\"117984ac-c37c-49ae-8ee5-eb91acecff5c\")) {                    Plotly.newPlot(                        \"117984ac-c37c-49ae-8ee5-eb91acecff5c\",                        [{\"alignmentgroup\":\"True\",\"hovertemplate\":\"name=%{x}<br>count=%{y}<extra></extra>\",\"legendgroup\":\"\",\"marker\":{\"color\":\"#636efa\",\"pattern\":{\"shape\":\"\"}},\"name\":\"\",\"offsetgroup\":\"\",\"orientation\":\"v\",\"showlegend\":false,\"textposition\":\"auto\",\"x\":[\"\\u0428\\u043e\\u043a\\u043e\\u043b\\u0430\\u0434\\u043d\\u0438\\u0446\\u0430\",\"\\u0414\\u043e\\u043c\\u0438\\u043d\\u043e'\\u0441 \\u041f\\u0438\\u0446\\u0446\\u0430\",\"\\u0414\\u043e\\u0434\\u043e \\u041f\\u0438\\u0446\\u0446\\u0430\",\"One Price Coffee\",\"\\u042f\\u043d\\u0434\\u0435\\u043a\\u0441 \\u041b\\u0430\\u0432\\u043a\\u0430\",\"Cofix\",\"Prime\",\"\\u0425\\u0438\\u043d\\u043a\\u0430\\u043b\\u044c\\u043d\\u0430\\u044f\",\"\\u041a\\u041e\\u0424\\u0415\\u041f\\u041e\\u0420\\u0422\",\"\\u041a\\u0443\\u043b\\u0438\\u043d\\u0430\\u0440\\u043d\\u0430\\u044f \\u043b\\u0430\\u0432\\u043a\\u0430 \\u0431\\u0440\\u0430\\u0442\\u044c\\u0435\\u0432 \\u041a\\u0430\\u0440\\u0430\\u0432\\u0430\\u0435\\u0432\\u044b\\u0445\",\"\\u0422\\u0435\\u0440\\u0435\\u043c\\u043e\\u043a\",\"\\u0427\\u0430\\u0439\\u0445\\u0430\\u043d\\u0430\",\"CofeFest\",\"\\u0411\\u0443\\u0445\\u0430\\u043d\\u043a\\u0430\",\"\\u041c\\u0443-\\u041c\\u0443\"],\"xaxis\":\"x\",\"y\":[120,76,74,71,69,65,50,44,42,39,38,37,32,32,27],\"yaxis\":\"y\",\"type\":\"bar\"}],                        {\"template\":{\"data\":{\"histogram2dcontour\":[{\"type\":\"histogram2dcontour\",\"colorbar\":{\"outlinewidth\":0,\"ticks\":\"\"},\"colorscale\":[[0.0,\"#0d0887\"],[0.1111111111111111,\"#46039f\"],[0.2222222222222222,\"#7201a8\"],[0.3333333333333333,\"#9c179e\"],[0.4444444444444444,\"#bd3786\"],[0.5555555555555556,\"#d8576b\"],[0.6666666666666666,\"#ed7953\"],[0.7777777777777778,\"#fb9f3a\"],[0.8888888888888888,\"#fdca26\"],[1.0,\"#f0f921\"]]}],\"choropleth\":[{\"type\":\"choropleth\",\"colorbar\":{\"outlinewidth\":0,\"ticks\":\"\"}}],\"histogram2d\":[{\"type\":\"histogram2d\",\"colorbar\":{\"outlinewidth\":0,\"ticks\":\"\"},\"colorscale\":[[0.0,\"#0d0887\"],[0.1111111111111111,\"#46039f\"],[0.2222222222222222,\"#7201a8\"],[0.3333333333333333,\"#9c179e\"],[0.4444444444444444,\"#bd3786\"],[0.5555555555555556,\"#d8576b\"],[0.6666666666666666,\"#ed7953\"],[0.7777777777777778,\"#fb9f3a\"],[0.8888888888888888,\"#fdca26\"],[1.0,\"#f0f921\"]]}],\"heatmap\":[{\"type\":\"heatmap\",\"colorbar\":{\"outlinewidth\":0,\"ticks\":\"\"},\"colorscale\":[[0.0,\"#0d0887\"],[0.1111111111111111,\"#46039f\"],[0.2222222222222222,\"#7201a8\"],[0.3333333333333333,\"#9c179e\"],[0.4444444444444444,\"#bd3786\"],[0.5555555555555556,\"#d8576b\"],[0.6666666666666666,\"#ed7953\"],[0.7777777777777778,\"#fb9f3a\"],[0.8888888888888888,\"#fdca26\"],[1.0,\"#f0f921\"]]}],\"heatmapgl\":[{\"type\":\"heatmapgl\",\"colorbar\":{\"outlinewidth\":0,\"ticks\":\"\"},\"colorscale\":[[0.0,\"#0d0887\"],[0.1111111111111111,\"#46039f\"],[0.2222222222222222,\"#7201a8\"],[0.3333333333333333,\"#9c179e\"],[0.4444444444444444,\"#bd3786\"],[0.5555555555555556,\"#d8576b\"],[0.6666666666666666,\"#ed7953\"],[0.7777777777777778,\"#fb9f3a\"],[0.8888888888888888,\"#fdca26\"],[1.0,\"#f0f921\"]]}],\"contourcarpet\":[{\"type\":\"contourcarpet\",\"colorbar\":{\"outlinewidth\":0,\"ticks\":\"\"}}],\"contour\":[{\"type\":\"contour\",\"colorbar\":{\"outlinewidth\":0,\"ticks\":\"\"},\"colorscale\":[[0.0,\"#0d0887\"],[0.1111111111111111,\"#46039f\"],[0.2222222222222222,\"#7201a8\"],[0.3333333333333333,\"#9c179e\"],[0.4444444444444444,\"#bd3786\"],[0.5555555555555556,\"#d8576b\"],[0.6666666666666666,\"#ed7953\"],[0.7777777777777778,\"#fb9f3a\"],[0.8888888888888888,\"#fdca26\"],[1.0,\"#f0f921\"]]}],\"surface\":[{\"type\":\"surface\",\"colorbar\":{\"outlinewidth\":0,\"ticks\":\"\"},\"colorscale\":[[0.0,\"#0d0887\"],[0.1111111111111111,\"#46039f\"],[0.2222222222222222,\"#7201a8\"],[0.3333333333333333,\"#9c179e\"],[0.4444444444444444,\"#bd3786\"],[0.5555555555555556,\"#d8576b\"],[0.6666666666666666,\"#ed7953\"],[0.7777777777777778,\"#fb9f3a\"],[0.8888888888888888,\"#fdca26\"],[1.0,\"#f0f921\"]]}],\"mesh3d\":[{\"type\":\"mesh3d\",\"colorbar\":{\"outlinewidth\":0,\"ticks\":\"\"}}],\"scatter\":[{\"fillpattern\":{\"fillmode\":\"overlay\",\"size\":10,\"solidity\":0.2},\"type\":\"scatter\"}],\"parcoords\":[{\"type\":\"parcoords\",\"line\":{\"colorbar\":{\"outlinewidth\":0,\"ticks\":\"\"}}}],\"scatterpolargl\":[{\"type\":\"scatterpolargl\",\"marker\":{\"colorbar\":{\"outlinewidth\":0,\"ticks\":\"\"}}}],\"bar\":[{\"error_x\":{\"color\":\"#2a3f5f\"},\"error_y\":{\"color\":\"#2a3f5f\"},\"marker\":{\"line\":{\"color\":\"#E5ECF6\",\"width\":0.5},\"pattern\":{\"fillmode\":\"overlay\",\"size\":10,\"solidity\":0.2}},\"type\":\"bar\"}],\"scattergeo\":[{\"type\":\"scattergeo\",\"marker\":{\"colorbar\":{\"outlinewidth\":0,\"ticks\":\"\"}}}],\"scatterpolar\":[{\"type\":\"scatterpolar\",\"marker\":{\"colorbar\":{\"outlinewidth\":0,\"ticks\":\"\"}}}],\"histogram\":[{\"marker\":{\"pattern\":{\"fillmode\":\"overlay\",\"size\":10,\"solidity\":0.2}},\"type\":\"histogram\"}],\"scattergl\":[{\"type\":\"scattergl\",\"marker\":{\"colorbar\":{\"outlinewidth\":0,\"ticks\":\"\"}}}],\"scatter3d\":[{\"type\":\"scatter3d\",\"line\":{\"colorbar\":{\"outlinewidth\":0,\"ticks\":\"\"}},\"marker\":{\"colorbar\":{\"outlinewidth\":0,\"ticks\":\"\"}}}],\"scattermapbox\":[{\"type\":\"scattermapbox\",\"marker\":{\"colorbar\":{\"outlinewidth\":0,\"ticks\":\"\"}}}],\"scatterternary\":[{\"type\":\"scatterternary\",\"marker\":{\"colorbar\":{\"outlinewidth\":0,\"ticks\":\"\"}}}],\"scattercarpet\":[{\"type\":\"scattercarpet\",\"marker\":{\"colorbar\":{\"outlinewidth\":0,\"ticks\":\"\"}}}],\"carpet\":[{\"aaxis\":{\"endlinecolor\":\"#2a3f5f\",\"gridcolor\":\"white\",\"linecolor\":\"white\",\"minorgridcolor\":\"white\",\"startlinecolor\":\"#2a3f5f\"},\"baxis\":{\"endlinecolor\":\"#2a3f5f\",\"gridcolor\":\"white\",\"linecolor\":\"white\",\"minorgridcolor\":\"white\",\"startlinecolor\":\"#2a3f5f\"},\"type\":\"carpet\"}],\"table\":[{\"cells\":{\"fill\":{\"color\":\"#EBF0F8\"},\"line\":{\"color\":\"white\"}},\"header\":{\"fill\":{\"color\":\"#C8D4E3\"},\"line\":{\"color\":\"white\"}},\"type\":\"table\"}],\"barpolar\":[{\"marker\":{\"line\":{\"color\":\"#E5ECF6\",\"width\":0.5},\"pattern\":{\"fillmode\":\"overlay\",\"size\":10,\"solidity\":0.2}},\"type\":\"barpolar\"}],\"pie\":[{\"automargin\":true,\"type\":\"pie\"}]},\"layout\":{\"autotypenumbers\":\"strict\",\"colorway\":[\"#636efa\",\"#EF553B\",\"#00cc96\",\"#ab63fa\",\"#FFA15A\",\"#19d3f3\",\"#FF6692\",\"#B6E880\",\"#FF97FF\",\"#FECB52\"],\"font\":{\"color\":\"#2a3f5f\"},\"hovermode\":\"closest\",\"hoverlabel\":{\"align\":\"left\"},\"paper_bgcolor\":\"white\",\"plot_bgcolor\":\"#E5ECF6\",\"polar\":{\"bgcolor\":\"#E5ECF6\",\"angularaxis\":{\"gridcolor\":\"white\",\"linecolor\":\"white\",\"ticks\":\"\"},\"radialaxis\":{\"gridcolor\":\"white\",\"linecolor\":\"white\",\"ticks\":\"\"}},\"ternary\":{\"bgcolor\":\"#E5ECF6\",\"aaxis\":{\"gridcolor\":\"white\",\"linecolor\":\"white\",\"ticks\":\"\"},\"baxis\":{\"gridcolor\":\"white\",\"linecolor\":\"white\",\"ticks\":\"\"},\"caxis\":{\"gridcolor\":\"white\",\"linecolor\":\"white\",\"ticks\":\"\"}},\"coloraxis\":{\"colorbar\":{\"outlinewidth\":0,\"ticks\":\"\"}},\"colorscale\":{\"sequential\":[[0.0,\"#0d0887\"],[0.1111111111111111,\"#46039f\"],[0.2222222222222222,\"#7201a8\"],[0.3333333333333333,\"#9c179e\"],[0.4444444444444444,\"#bd3786\"],[0.5555555555555556,\"#d8576b\"],[0.6666666666666666,\"#ed7953\"],[0.7777777777777778,\"#fb9f3a\"],[0.8888888888888888,\"#fdca26\"],[1.0,\"#f0f921\"]],\"sequentialminus\":[[0.0,\"#0d0887\"],[0.1111111111111111,\"#46039f\"],[0.2222222222222222,\"#7201a8\"],[0.3333333333333333,\"#9c179e\"],[0.4444444444444444,\"#bd3786\"],[0.5555555555555556,\"#d8576b\"],[0.6666666666666666,\"#ed7953\"],[0.7777777777777778,\"#fb9f3a\"],[0.8888888888888888,\"#fdca26\"],[1.0,\"#f0f921\"]],\"diverging\":[[0,\"#8e0152\"],[0.1,\"#c51b7d\"],[0.2,\"#de77ae\"],[0.3,\"#f1b6da\"],[0.4,\"#fde0ef\"],[0.5,\"#f7f7f7\"],[0.6,\"#e6f5d0\"],[0.7,\"#b8e186\"],[0.8,\"#7fbc41\"],[0.9,\"#4d9221\"],[1,\"#276419\"]]},\"xaxis\":{\"gridcolor\":\"white\",\"linecolor\":\"white\",\"ticks\":\"\",\"title\":{\"standoff\":15},\"zerolinecolor\":\"white\",\"automargin\":true,\"zerolinewidth\":2},\"yaxis\":{\"gridcolor\":\"white\",\"linecolor\":\"white\",\"ticks\":\"\",\"title\":{\"standoff\":15},\"zerolinecolor\":\"white\",\"automargin\":true,\"zerolinewidth\":2},\"scene\":{\"xaxis\":{\"backgroundcolor\":\"#E5ECF6\",\"gridcolor\":\"white\",\"linecolor\":\"white\",\"showbackground\":true,\"ticks\":\"\",\"zerolinecolor\":\"white\",\"gridwidth\":2},\"yaxis\":{\"backgroundcolor\":\"#E5ECF6\",\"gridcolor\":\"white\",\"linecolor\":\"white\",\"showbackground\":true,\"ticks\":\"\",\"zerolinecolor\":\"white\",\"gridwidth\":2},\"zaxis\":{\"backgroundcolor\":\"#E5ECF6\",\"gridcolor\":\"white\",\"linecolor\":\"white\",\"showbackground\":true,\"ticks\":\"\",\"zerolinecolor\":\"white\",\"gridwidth\":2}},\"shapedefaults\":{\"line\":{\"color\":\"#2a3f5f\"}},\"annotationdefaults\":{\"arrowcolor\":\"#2a3f5f\",\"arrowhead\":0,\"arrowwidth\":1},\"geo\":{\"bgcolor\":\"white\",\"landcolor\":\"#E5ECF6\",\"subunitcolor\":\"white\",\"showland\":true,\"showlakes\":true,\"lakecolor\":\"white\"},\"title\":{\"x\":0.05},\"mapbox\":{\"style\":\"light\"}}},\"xaxis\":{\"anchor\":\"y\",\"domain\":[0.0,1.0],\"title\":{\"text\":\"name\"},\"tickangle\":45},\"yaxis\":{\"anchor\":\"x\",\"domain\":[0.0,1.0],\"title\":{\"text\":\"count\"}},\"legend\":{\"tracegroupgap\":0},\"title\":{\"text\":\"\\u0422\\u043e\\u043f 15 \\u0441\\u0435\\u0442\\u0435\\u0432\\u044b\\u0445 \\u0437\\u0430\\u0432\\u0435\\u0434\\u0435\\u043d\\u0438\\u0439\"},\"barmode\":\"relative\"},                        {\"responsive\": true}                    ).then(function(){\n",
       "                            \n",
       "var gd = document.getElementById('117984ac-c37c-49ae-8ee5-eb91acecff5c');\n",
       "var x = new MutationObserver(function (mutations, observer) {{\n",
       "        var display = window.getComputedStyle(gd).display;\n",
       "        if (!display || display === 'none') {{\n",
       "            console.log([gd, 'removed!']);\n",
       "            Plotly.purge(gd);\n",
       "            observer.disconnect();\n",
       "        }}\n",
       "}});\n",
       "\n",
       "// Listen for the removal of the full notebook cells\n",
       "var notebookContainer = gd.closest('#notebook-container');\n",
       "if (notebookContainer) {{\n",
       "    x.observe(notebookContainer, {childList: true});\n",
       "}}\n",
       "\n",
       "// Listen for the clearing of the current output cell\n",
       "var outputEl = gd.closest('.output');\n",
       "if (outputEl) {{\n",
       "    x.observe(outputEl, {childList: true});\n",
       "}}\n",
       "\n",
       "                        })                };                });            </script>        </div>"
      ]
     },
     "metadata": {},
     "output_type": "display_data"
    }
   ],
   "source": [
    "fig = px.bar(top_15, x='name', y='count', title='Топ 15 сетевых заведений')\n",
    "fig.update_xaxes(tickangle=45)\n",
    "fig.show()"
   ]
  },
  {
   "cell_type": "code",
   "execution_count": 89,
   "metadata": {},
   "outputs": [],
   "source": [
    "arr_top = top_15['name']"
   ]
  },
  {
   "cell_type": "code",
   "execution_count": 90,
   "metadata": {},
   "outputs": [
    {
     "data": {
      "text/plain": [
       "name\n",
       "CofeFest                                                                 [кофейня, кафе]\n",
       "Cofix                                                                          [кофейня]\n",
       "One Price Coffee                                                               [кофейня]\n",
       "Prime                                                                   [ресторан, кафе]\n",
       "Буханка                                                        [булочная, кофейня, кафе]\n",
       "Додо Пицца                                                                    [пиццерия]\n",
       "Домино'с Пицца                                                                [пиццерия]\n",
       "КОФЕПОРТ                                                                       [кофейня]\n",
       "Кулинарная лавка братьев Караваевых                                               [кафе]\n",
       "Му-Му                                  [кафе, ресторан, кофейня, быстрое питание, пиц...\n",
       "Теремок                                                      [ресторан, быстрое питание]\n",
       "Хинкальная                             [быстрое питание, кафе, ресторан, столовая, ба...\n",
       "Чайхана                                                [кафе, быстрое питание, ресторан]\n",
       "Шоколадница                                                              [кофейня, кафе]\n",
       "Яндекс Лавка                                                                  [ресторан]\n",
       "Name: category, dtype: object"
      ]
     },
     "execution_count": 90,
     "metadata": {},
     "output_type": "execute_result"
    }
   ],
   "source": [
    "chain_places.query('name in @arr_top').groupby(by='name')['category'].unique()"
   ]
  },
  {
   "cell_type": "markdown",
   "metadata": {},
   "source": [
    "Наибольшую долю в Москве занимают Шоколадница, Домино'с Пицца, Додо Пицца. Это известные сети питания по всей России. С ними будет сложно конкурировать. Среди топа заведений имеются следующие категории: кафе, кофейня, ресторан, пиццерия"
   ]
  },
  {
   "cell_type": "markdown",
   "metadata": {},
   "source": [
    "### изучение заведение по районам Москвы"
   ]
  },
  {
   "cell_type": "code",
   "execution_count": 91,
   "metadata": {},
   "outputs": [
    {
     "data": {
      "text/plain": [
       "array(['Северный административный округ',\n",
       "       'Северо-Восточный административный округ',\n",
       "       'Северо-Западный административный округ',\n",
       "       'Западный административный округ',\n",
       "       'Центральный административный округ',\n",
       "       'Восточный административный округ',\n",
       "       'Юго-Восточный административный округ',\n",
       "       'Южный административный округ',\n",
       "       'Юго-Западный административный округ'], dtype=object)"
      ]
     },
     "execution_count": 91,
     "metadata": {},
     "output_type": "execute_result"
    }
   ],
   "source": [
    "places['district'].unique()"
   ]
  },
  {
   "cell_type": "markdown",
   "metadata": {},
   "source": [
    "В датасете есть информация о 9 районах Москвы"
   ]
  },
  {
   "cell_type": "code",
   "execution_count": 92,
   "metadata": {},
   "outputs": [
    {
     "data": {
      "image/png": "[encoded data removed]",
      "text/plain": [
       "<Figure size 1440x720 with 1 Axes>"
      ]
     },
     "metadata": {
      "needs_background": "light"
     },
     "output_type": "display_data"
    }
   ],
   "source": [
    "plt.figure(figsize=(20, 10))\n",
    "sns.countplot(x='district', hue='category', data=places)\n",
    "plt.xticks(rotation=45)\n",
    "plt.title('Распределение категорий по районам')\n",
    "plt.show()"
   ]
  },
  {
   "cell_type": "markdown",
   "metadata": {},
   "source": [
    "В центральном районе больше всего заведений, а меньше всего в северо-западном. Во всех районах кроме центрального больше всего кафе, но в центральном больше всего ресторанов. По сравнению с другими районами в центральном много баров. Наименьшую долю во всех районах занимают булочные и столовые. "
   ]
  },
  {
   "cell_type": "markdown",
   "metadata": {},
   "source": [
    "### средний рейтинг по категориям"
   ]
  },
  {
   "cell_type": "code",
   "execution_count": 93,
   "metadata": {},
   "outputs": [
    {
     "data": {
      "text/html": [
       "<div>\n",
       "<style scoped>\n",
       "    .dataframe tbody tr th:only-of-type {\n",
       "        vertical-align: middle;\n",
       "    }\n",
       "\n",
       "    .dataframe tbody tr th {\n",
       "        vertical-align: top;\n",
       "    }\n",
       "\n",
       "    .dataframe thead th {\n",
       "        text-align: right;\n",
       "    }\n",
       "</style>\n",
       "<table border=\"1\" class=\"dataframe\">\n",
       "  <thead>\n",
       "    <tr style=\"text-align: right;\">\n",
       "      <th></th>\n",
       "      <th>category</th>\n",
       "      <th>rating</th>\n",
       "    </tr>\n",
       "  </thead>\n",
       "  <tbody>\n",
       "    <tr>\n",
       "      <th>0</th>\n",
       "      <td>бар,паб</td>\n",
       "      <td>4.387712</td>\n",
       "    </tr>\n",
       "    <tr>\n",
       "      <th>1</th>\n",
       "      <td>булочная</td>\n",
       "      <td>4.268359</td>\n",
       "    </tr>\n",
       "    <tr>\n",
       "      <th>2</th>\n",
       "      <td>быстрое питание</td>\n",
       "      <td>4.050249</td>\n",
       "    </tr>\n",
       "    <tr>\n",
       "      <th>3</th>\n",
       "      <td>кафе</td>\n",
       "      <td>4.123886</td>\n",
       "    </tr>\n",
       "    <tr>\n",
       "      <th>4</th>\n",
       "      <td>кофейня</td>\n",
       "      <td>4.277282</td>\n",
       "    </tr>\n",
       "    <tr>\n",
       "      <th>5</th>\n",
       "      <td>пиццерия</td>\n",
       "      <td>4.301264</td>\n",
       "    </tr>\n",
       "    <tr>\n",
       "      <th>6</th>\n",
       "      <td>ресторан</td>\n",
       "      <td>4.290357</td>\n",
       "    </tr>\n",
       "    <tr>\n",
       "      <th>7</th>\n",
       "      <td>столовая</td>\n",
       "      <td>4.211429</td>\n",
       "    </tr>\n",
       "  </tbody>\n",
       "</table>\n",
       "</div>"
      ],
      "text/plain": [
       "          category    rating\n",
       "0          бар,паб  4.387712\n",
       "1         булочная  4.268359\n",
       "2  быстрое питание  4.050249\n",
       "3             кафе  4.123886\n",
       "4          кофейня  4.277282\n",
       "5         пиццерия  4.301264\n",
       "6         ресторан  4.290357\n",
       "7         столовая  4.211429"
      ]
     },
     "execution_count": 93,
     "metadata": {},
     "output_type": "execute_result"
    }
   ],
   "source": [
    "cat_rat= places.groupby('category')['rating'].mean()\n",
    "cat_rat = cat_rat.reset_index()\n",
    "cat_rat.columns=['category','rating']\n",
    "cat_rat"
   ]
  },
  {
   "cell_type": "code",
   "execution_count": 94,
   "metadata": {},
   "outputs": [
    {
     "data": {
      "application/vnd.plotly.v1+json": {
       "config": {
        "plotlyServerURL": "https://plot.ly"
       },
       "data": [
        {
         "alignmentgroup": "True",
         "hovertemplate": "category=%{x}<br>rating=%{y}<extra></extra>",
         "legendgroup": "",
         "marker": {
          "color": "#636efa",
          "pattern": {
           "shape": ""
          }
         },
         "name": "",
         "offsetgroup": "",
         "orientation": "v",
         "showlegend": false,
         "textposition": "auto",
         "type": "bar",
         "x": [
          "быстрое питание",
          "кафе",
          "столовая",
          "булочная",
          "кофейня",
          "ресторан",
          "пиццерия",
          "бар,паб"
         ],
         "xaxis": "x",
         "y": [
          4.050248756218906,
          4.123885618166526,
          4.211428571428571,
          4.268359375,
          4.27728237791932,
          4.290357317670093,
          4.301263823064771,
          4.387712418300653
         ],
         "yaxis": "y"
        }
       ],
       "layout": {
        "barmode": "relative",
        "legend": {
         "tracegroupgap": 0
        },
        "template": {
         "data": {
          "bar": [
           {
            "error_x": {
             "color": "#2a3f5f"
            },
            "error_y": {
             "color": "#2a3f5f"
            },
            "marker": {
             "line": {
              "color": "#E5ECF6",
              "width": 0.5
             },
             "pattern": {
              "fillmode": "overlay",
              "size": 10,
              "solidity": 0.2
             }
            },
            "type": "bar"
           }
          ],
          "barpolar": [
           {
            "marker": {
             "line": {
              "color": "#E5ECF6",
              "width": 0.5
             },
             "pattern": {
              "fillmode": "overlay",
              "size": 10,
              "solidity": 0.2
             }
            },
            "type": "barpolar"
           }
          ],
          "carpet": [
           {
            "aaxis": {
             "endlinecolor": "#2a3f5f",
             "gridcolor": "white",
             "linecolor": "white",
             "minorgridcolor": "white",
             "startlinecolor": "#2a3f5f"
            },
            "baxis": {
             "endlinecolor": "#2a3f5f",
             "gridcolor": "white",
             "linecolor": "white",
             "minorgridcolor": "white",
             "startlinecolor": "#2a3f5f"
            },
            "type": "carpet"
           }
          ],
          "choropleth": [
           {
            "colorbar": {
             "outlinewidth": 0,
             "ticks": ""
            },
            "type": "choropleth"
           }
          ],
          "contour": [
           {
            "colorbar": {
             "outlinewidth": 0,
             "ticks": ""
            },
            "colorscale": [
             [
              0,
              "#0d0887"
             ],
             [
              0.1111111111111111,
              "#46039f"
             ],
             [
              0.2222222222222222,
              "#7201a8"
             ],
             [
              0.3333333333333333,
              "#9c179e"
             ],
             [
              0.4444444444444444,
              "#bd3786"
             ],
             [
              0.5555555555555556,
              "#d8576b"
             ],
             [
              0.6666666666666666,
              "#ed7953"
             ],
             [
              0.7777777777777778,
              "#fb9f3a"
             ],
             [
              0.8888888888888888,
              "#fdca26"
             ],
             [
              1,
              "#f0f921"
             ]
            ],
            "type": "contour"
           }
          ],
          "contourcarpet": [
           {
            "colorbar": {
             "outlinewidth": 0,
             "ticks": ""
            },
            "type": "contourcarpet"
           }
          ],
          "heatmap": [
           {
            "colorbar": {
             "outlinewidth": 0,
             "ticks": ""
            },
            "colorscale": [
             [
              0,
              "#0d0887"
             ],
             [
              0.1111111111111111,
              "#46039f"
             ],
             [
              0.2222222222222222,
              "#7201a8"
             ],
             [
              0.3333333333333333,
              "#9c179e"
             ],
             [
              0.4444444444444444,
              "#bd3786"
             ],
             [
              0.5555555555555556,
              "#d8576b"
             ],
             [
              0.6666666666666666,
              "#ed7953"
             ],
             [
              0.7777777777777778,
              "#fb9f3a"
             ],
             [
              0.8888888888888888,
              "#fdca26"
             ],
             [
              1,
              "#f0f921"
             ]
            ],
            "type": "heatmap"
           }
          ],
          "heatmapgl": [
           {
            "colorbar": {
             "outlinewidth": 0,
             "ticks": ""
            },
            "colorscale": [
             [
              0,
              "#0d0887"
             ],
             [
              0.1111111111111111,
              "#46039f"
             ],
             [
              0.2222222222222222,
              "#7201a8"
             ],
             [
              0.3333333333333333,
              "#9c179e"
             ],
             [
              0.4444444444444444,
              "#bd3786"
             ],
             [
              0.5555555555555556,
              "#d8576b"
             ],
             [
              0.6666666666666666,
              "#ed7953"
             ],
             [
              0.7777777777777778,
              "#fb9f3a"
             ],
             [
              0.8888888888888888,
              "#fdca26"
             ],
             [
              1,
              "#f0f921"
             ]
            ],
            "type": "heatmapgl"
           }
          ],
          "histogram": [
           {
            "marker": {
             "pattern": {
              "fillmode": "overlay",
              "size": 10,
              "solidity": 0.2
             }
            },
            "type": "histogram"
           }
          ],
          "histogram2d": [
           {
            "colorbar": {
             "outlinewidth": 0,
             "ticks": ""
            },
            "colorscale": [
             [
              0,
              "#0d0887"
             ],
             [
              0.1111111111111111,
              "#46039f"
             ],
             [
              0.2222222222222222,
              "#7201a8"
             ],
             [
              0.3333333333333333,
              "#9c179e"
             ],
             [
              0.4444444444444444,
              "#bd3786"
             ],
             [
              0.5555555555555556,
              "#d8576b"
             ],
             [
              0.6666666666666666,
              "#ed7953"
             ],
             [
              0.7777777777777778,
              "#fb9f3a"
             ],
             [
              0.8888888888888888,
              "#fdca26"
             ],
             [
              1,
              "#f0f921"
             ]
            ],
            "type": "histogram2d"
           }
          ],
          "histogram2dcontour": [
           {
            "colorbar": {
             "outlinewidth": 0,
             "ticks": ""
            },
            "colorscale": [
             [
              0,
              "#0d0887"
             ],
             [
              0.1111111111111111,
              "#46039f"
             ],
             [
              0.2222222222222222,
              "#7201a8"
             ],
             [
              0.3333333333333333,
              "#9c179e"
             ],
             [
              0.4444444444444444,
              "#bd3786"
             ],
             [
              0.5555555555555556,
              "#d8576b"
             ],
             [
              0.6666666666666666,
              "#ed7953"
             ],
             [
              0.7777777777777778,
              "#fb9f3a"
             ],
             [
              0.8888888888888888,
              "#fdca26"
             ],
             [
              1,
              "#f0f921"
             ]
            ],
            "type": "histogram2dcontour"
           }
          ],
          "mesh3d": [
           {
            "colorbar": {
             "outlinewidth": 0,
             "ticks": ""
            },
            "type": "mesh3d"
           }
          ],
          "parcoords": [
           {
            "line": {
             "colorbar": {
              "outlinewidth": 0,
              "ticks": ""
             }
            },
            "type": "parcoords"
           }
          ],
          "pie": [
           {
            "automargin": true,
            "type": "pie"
           }
          ],
          "scatter": [
           {
            "fillpattern": {
             "fillmode": "overlay",
             "size": 10,
             "solidity": 0.2
            },
            "type": "scatter"
           }
          ],
          "scatter3d": [
           {
            "line": {
             "colorbar": {
              "outlinewidth": 0,
              "ticks": ""
             }
            },
            "marker": {
             "colorbar": {
              "outlinewidth": 0,
              "ticks": ""
             }
            },
            "type": "scatter3d"
           }
          ],
          "scattercarpet": [
           {
            "marker": {
             "colorbar": {
              "outlinewidth": 0,
              "ticks": ""
             }
            },
            "type": "scattercarpet"
           }
          ],
          "scattergeo": [
           {
            "marker": {
             "colorbar": {
              "outlinewidth": 0,
              "ticks": ""
             }
            },
            "type": "scattergeo"
           }
          ],
          "scattergl": [
           {
            "marker": {
             "colorbar": {
              "outlinewidth": 0,
              "ticks": ""
             }
            },
            "type": "scattergl"
           }
          ],
          "scattermapbox": [
           {
            "marker": {
             "colorbar": {
              "outlinewidth": 0,
              "ticks": ""
             }
            },
            "type": "scattermapbox"
           }
          ],
          "scatterpolar": [
           {
            "marker": {
             "colorbar": {
              "outlinewidth": 0,
              "ticks": ""
             }
            },
            "type": "scatterpolar"
           }
          ],
          "scatterpolargl": [
           {
            "marker": {
             "colorbar": {
              "outlinewidth": 0,
              "ticks": ""
             }
            },
            "type": "scatterpolargl"
           }
          ],
          "scatterternary": [
           {
            "marker": {
             "colorbar": {
              "outlinewidth": 0,
              "ticks": ""
             }
            },
            "type": "scatterternary"
           }
          ],
          "surface": [
           {
            "colorbar": {
             "outlinewidth": 0,
             "ticks": ""
            },
            "colorscale": [
             [
              0,
              "#0d0887"
             ],
             [
              0.1111111111111111,
              "#46039f"
             ],
             [
              0.2222222222222222,
              "#7201a8"
             ],
             [
              0.3333333333333333,
              "#9c179e"
             ],
             [
              0.4444444444444444,
              "#bd3786"
             ],
             [
              0.5555555555555556,
              "#d8576b"
             ],
             [
              0.6666666666666666,
              "#ed7953"
             ],
             [
              0.7777777777777778,
              "#fb9f3a"
             ],
             [
              0.8888888888888888,
              "#fdca26"
             ],
             [
              1,
              "#f0f921"
             ]
            ],
            "type": "surface"
           }
          ],
          "table": [
           {
            "cells": {
             "fill": {
              "color": "#EBF0F8"
             },
             "line": {
              "color": "white"
             }
            },
            "header": {
             "fill": {
              "color": "#C8D4E3"
             },
             "line": {
              "color": "white"
             }
            },
            "type": "table"
           }
          ]
         },
         "layout": {
          "annotationdefaults": {
           "arrowcolor": "#2a3f5f",
           "arrowhead": 0,
           "arrowwidth": 1
          },
          "autotypenumbers": "strict",
          "coloraxis": {
           "colorbar": {
            "outlinewidth": 0,
            "ticks": ""
           }
          },
          "colorscale": {
           "diverging": [
            [
             0,
             "#8e0152"
            ],
            [
             0.1,
             "#c51b7d"
            ],
            [
             0.2,
             "#de77ae"
            ],
            [
             0.3,
             "#f1b6da"
            ],
            [
             0.4,
             "#fde0ef"
            ],
            [
             0.5,
             "#f7f7f7"
            ],
            [
             0.6,
             "#e6f5d0"
            ],
            [
             0.7,
             "#b8e186"
            ],
            [
             0.8,
             "#7fbc41"
            ],
            [
             0.9,
             "#4d9221"
            ],
            [
             1,
             "#276419"
            ]
           ],
           "sequential": [
            [
             0,
             "#0d0887"
            ],
            [
             0.1111111111111111,
             "#46039f"
            ],
            [
             0.2222222222222222,
             "#7201a8"
            ],
            [
             0.3333333333333333,
             "#9c179e"
            ],
            [
             0.4444444444444444,
             "#bd3786"
            ],
            [
             0.5555555555555556,
             "#d8576b"
            ],
            [
             0.6666666666666666,
             "#ed7953"
            ],
            [
             0.7777777777777778,
             "#fb9f3a"
            ],
            [
             0.8888888888888888,
             "#fdca26"
            ],
            [
             1,
             "#f0f921"
            ]
           ],
           "sequentialminus": [
            [
             0,
             "#0d0887"
            ],
            [
             0.1111111111111111,
             "#46039f"
            ],
            [
             0.2222222222222222,
             "#7201a8"
            ],
            [
             0.3333333333333333,
             "#9c179e"
            ],
            [
             0.4444444444444444,
             "#bd3786"
            ],
            [
             0.5555555555555556,
             "#d8576b"
            ],
            [
             0.6666666666666666,
             "#ed7953"
            ],
            [
             0.7777777777777778,
             "#fb9f3a"
            ],
            [
             0.8888888888888888,
             "#fdca26"
            ],
            [
             1,
             "#f0f921"
            ]
           ]
          },
          "colorway": [
           "#636efa",
           "#EF553B",
           "#00cc96",
           "#ab63fa",
           "#FFA15A",
           "#19d3f3",
           "#FF6692",
           "#B6E880",
           "#FF97FF",
           "#FECB52"
          ],
          "font": {
           "color": "#2a3f5f"
          },
          "geo": {
           "bgcolor": "white",
           "lakecolor": "white",
           "landcolor": "#E5ECF6",
           "showlakes": true,
           "showland": true,
           "subunitcolor": "white"
          },
          "hoverlabel": {
           "align": "left"
          },
          "hovermode": "closest",
          "mapbox": {
           "style": "light"
          },
          "paper_bgcolor": "white",
          "plot_bgcolor": "#E5ECF6",
          "polar": {
           "angularaxis": {
            "gridcolor": "white",
            "linecolor": "white",
            "ticks": ""
           },
           "bgcolor": "#E5ECF6",
           "radialaxis": {
            "gridcolor": "white",
            "linecolor": "white",
            "ticks": ""
           }
          },
          "scene": {
           "xaxis": {
            "backgroundcolor": "#E5ECF6",
            "gridcolor": "white",
            "gridwidth": 2,
            "linecolor": "white",
            "showbackground": true,
            "ticks": "",
            "zerolinecolor": "white"
           },
           "yaxis": {
            "backgroundcolor": "#E5ECF6",
            "gridcolor": "white",
            "gridwidth": 2,
            "linecolor": "white",
            "showbackground": true,
            "ticks": "",
            "zerolinecolor": "white"
           },
           "zaxis": {
            "backgroundcolor": "#E5ECF6",
            "gridcolor": "white",
            "gridwidth": 2,
            "linecolor": "white",
            "showbackground": true,
            "ticks": "",
            "zerolinecolor": "white"
           }
          },
          "shapedefaults": {
           "line": {
            "color": "#2a3f5f"
           }
          },
          "ternary": {
           "aaxis": {
            "gridcolor": "white",
            "linecolor": "white",
            "ticks": ""
           },
           "baxis": {
            "gridcolor": "white",
            "linecolor": "white",
            "ticks": ""
           },
           "bgcolor": "#E5ECF6",
           "caxis": {
            "gridcolor": "white",
            "linecolor": "white",
            "ticks": ""
           }
          },
          "title": {
           "x": 0.05
          },
          "xaxis": {
           "automargin": true,
           "gridcolor": "white",
           "linecolor": "white",
           "ticks": "",
           "title": {
            "standoff": 15
           },
           "zerolinecolor": "white",
           "zerolinewidth": 2
          },
          "yaxis": {
           "automargin": true,
           "gridcolor": "white",
           "linecolor": "white",
           "ticks": "",
           "title": {
            "standoff": 15
           },
           "zerolinecolor": "white",
           "zerolinewidth": 2
          }
         }
        },
        "title": {
         "text": "средний рейтинг по категориям"
        },
        "xaxis": {
         "anchor": "y",
         "domain": [
          0,
          1
         ],
         "tickangle": 45,
         "title": {
          "text": "category"
         }
        },
        "yaxis": {
         "anchor": "x",
         "domain": [
          0,
          1
         ],
         "title": {
          "text": "rating"
         }
        }
       }
      },
      "text/html": [
       "<div>                            <div id=\"31e00f93-e906-46d1-b842-8953a679aa75\" class=\"plotly-graph-div\" style=\"height:525px; width:100%;\"></div>            <script type=\"text/javascript\">                require([\"plotly\"], function(Plotly) {                    window.PLOTLYENV=window.PLOTLYENV || {};                                    if (document.getElementById(\"31e00f93-e906-46d1-b842-8953a679aa75\")) {                    Plotly.newPlot(                        \"31e00f93-e906-46d1-b842-8953a679aa75\",                        [{\"alignmentgroup\":\"True\",\"hovertemplate\":\"category=%{x}<br>rating=%{y}<extra></extra>\",\"legendgroup\":\"\",\"marker\":{\"color\":\"#636efa\",\"pattern\":{\"shape\":\"\"}},\"name\":\"\",\"offsetgroup\":\"\",\"orientation\":\"v\",\"showlegend\":false,\"textposition\":\"auto\",\"x\":[\"\\u0431\\u044b\\u0441\\u0442\\u0440\\u043e\\u0435 \\u043f\\u0438\\u0442\\u0430\\u043d\\u0438\\u0435\",\"\\u043a\\u0430\\u0444\\u0435\",\"\\u0441\\u0442\\u043e\\u043b\\u043e\\u0432\\u0430\\u044f\",\"\\u0431\\u0443\\u043b\\u043e\\u0447\\u043d\\u0430\\u044f\",\"\\u043a\\u043e\\u0444\\u0435\\u0439\\u043d\\u044f\",\"\\u0440\\u0435\\u0441\\u0442\\u043e\\u0440\\u0430\\u043d\",\"\\u043f\\u0438\\u0446\\u0446\\u0435\\u0440\\u0438\\u044f\",\"\\u0431\\u0430\\u0440,\\u043f\\u0430\\u0431\"],\"xaxis\":\"x\",\"y\":[4.050248756218906,4.123885618166526,4.211428571428571,4.268359375,4.27728237791932,4.290357317670093,4.301263823064771,4.387712418300653],\"yaxis\":\"y\",\"type\":\"bar\"}],                        {\"template\":{\"data\":{\"histogram2dcontour\":[{\"type\":\"histogram2dcontour\",\"colorbar\":{\"outlinewidth\":0,\"ticks\":\"\"},\"colorscale\":[[0.0,\"#0d0887\"],[0.1111111111111111,\"#46039f\"],[0.2222222222222222,\"#7201a8\"],[0.3333333333333333,\"#9c179e\"],[0.4444444444444444,\"#bd3786\"],[0.5555555555555556,\"#d8576b\"],[0.6666666666666666,\"#ed7953\"],[0.7777777777777778,\"#fb9f3a\"],[0.8888888888888888,\"#fdca26\"],[1.0,\"#f0f921\"]]}],\"choropleth\":[{\"type\":\"choropleth\",\"colorbar\":{\"outlinewidth\":0,\"ticks\":\"\"}}],\"histogram2d\":[{\"type\":\"histogram2d\",\"colorbar\":{\"outlinewidth\":0,\"ticks\":\"\"},\"colorscale\":[[0.0,\"#0d0887\"],[0.1111111111111111,\"#46039f\"],[0.2222222222222222,\"#7201a8\"],[0.3333333333333333,\"#9c179e\"],[0.4444444444444444,\"#bd3786\"],[0.5555555555555556,\"#d8576b\"],[0.6666666666666666,\"#ed7953\"],[0.7777777777777778,\"#fb9f3a\"],[0.8888888888888888,\"#fdca26\"],[1.0,\"#f0f921\"]]}],\"heatmap\":[{\"type\":\"heatmap\",\"colorbar\":{\"outlinewidth\":0,\"ticks\":\"\"},\"colorscale\":[[0.0,\"#0d0887\"],[0.1111111111111111,\"#46039f\"],[0.2222222222222222,\"#7201a8\"],[0.3333333333333333,\"#9c179e\"],[0.4444444444444444,\"#bd3786\"],[0.5555555555555556,\"#d8576b\"],[0.6666666666666666,\"#ed7953\"],[0.7777777777777778,\"#fb9f3a\"],[0.8888888888888888,\"#fdca26\"],[1.0,\"#f0f921\"]]}],\"heatmapgl\":[{\"type\":\"heatmapgl\",\"colorbar\":{\"outlinewidth\":0,\"ticks\":\"\"},\"colorscale\":[[0.0,\"#0d0887\"],[0.1111111111111111,\"#46039f\"],[0.2222222222222222,\"#7201a8\"],[0.3333333333333333,\"#9c179e\"],[0.4444444444444444,\"#bd3786\"],[0.5555555555555556,\"#d8576b\"],[0.6666666666666666,\"#ed7953\"],[0.7777777777777778,\"#fb9f3a\"],[0.8888888888888888,\"#fdca26\"],[1.0,\"#f0f921\"]]}],\"contourcarpet\":[{\"type\":\"contourcarpet\",\"colorbar\":{\"outlinewidth\":0,\"ticks\":\"\"}}],\"contour\":[{\"type\":\"contour\",\"colorbar\":{\"outlinewidth\":0,\"ticks\":\"\"},\"colorscale\":[[0.0,\"#0d0887\"],[0.1111111111111111,\"#46039f\"],[0.2222222222222222,\"#7201a8\"],[0.3333333333333333,\"#9c179e\"],[0.4444444444444444,\"#bd3786\"],[0.5555555555555556,\"#d8576b\"],[0.6666666666666666,\"#ed7953\"],[0.7777777777777778,\"#fb9f3a\"],[0.8888888888888888,\"#fdca26\"],[1.0,\"#f0f921\"]]}],\"surface\":[{\"type\":\"surface\",\"colorbar\":{\"outlinewidth\":0,\"ticks\":\"\"},\"colorscale\":[[0.0,\"#0d0887\"],[0.1111111111111111,\"#46039f\"],[0.2222222222222222,\"#7201a8\"],[0.3333333333333333,\"#9c179e\"],[0.4444444444444444,\"#bd3786\"],[0.5555555555555556,\"#d8576b\"],[0.6666666666666666,\"#ed7953\"],[0.7777777777777778,\"#fb9f3a\"],[0.8888888888888888,\"#fdca26\"],[1.0,\"#f0f921\"]]}],\"mesh3d\":[{\"type\":\"mesh3d\",\"colorbar\":{\"outlinewidth\":0,\"ticks\":\"\"}}],\"scatter\":[{\"fillpattern\":{\"fillmode\":\"overlay\",\"size\":10,\"solidity\":0.2},\"type\":\"scatter\"}],\"parcoords\":[{\"type\":\"parcoords\",\"line\":{\"colorbar\":{\"outlinewidth\":0,\"ticks\":\"\"}}}],\"scatterpolargl\":[{\"type\":\"scatterpolargl\",\"marker\":{\"colorbar\":{\"outlinewidth\":0,\"ticks\":\"\"}}}],\"bar\":[{\"error_x\":{\"color\":\"#2a3f5f\"},\"error_y\":{\"color\":\"#2a3f5f\"},\"marker\":{\"line\":{\"color\":\"#E5ECF6\",\"width\":0.5},\"pattern\":{\"fillmode\":\"overlay\",\"size\":10,\"solidity\":0.2}},\"type\":\"bar\"}],\"scattergeo\":[{\"type\":\"scattergeo\",\"marker\":{\"colorbar\":{\"outlinewidth\":0,\"ticks\":\"\"}}}],\"scatterpolar\":[{\"type\":\"scatterpolar\",\"marker\":{\"colorbar\":{\"outlinewidth\":0,\"ticks\":\"\"}}}],\"histogram\":[{\"marker\":{\"pattern\":{\"fillmode\":\"overlay\",\"size\":10,\"solidity\":0.2}},\"type\":\"histogram\"}],\"scattergl\":[{\"type\":\"scattergl\",\"marker\":{\"colorbar\":{\"outlinewidth\":0,\"ticks\":\"\"}}}],\"scatter3d\":[{\"type\":\"scatter3d\",\"line\":{\"colorbar\":{\"outlinewidth\":0,\"ticks\":\"\"}},\"marker\":{\"colorbar\":{\"outlinewidth\":0,\"ticks\":\"\"}}}],\"scattermapbox\":[{\"type\":\"scattermapbox\",\"marker\":{\"colorbar\":{\"outlinewidth\":0,\"ticks\":\"\"}}}],\"scatterternary\":[{\"type\":\"scatterternary\",\"marker\":{\"colorbar\":{\"outlinewidth\":0,\"ticks\":\"\"}}}],\"scattercarpet\":[{\"type\":\"scattercarpet\",\"marker\":{\"colorbar\":{\"outlinewidth\":0,\"ticks\":\"\"}}}],\"carpet\":[{\"aaxis\":{\"endlinecolor\":\"#2a3f5f\",\"gridcolor\":\"white\",\"linecolor\":\"white\",\"minorgridcolor\":\"white\",\"startlinecolor\":\"#2a3f5f\"},\"baxis\":{\"endlinecolor\":\"#2a3f5f\",\"gridcolor\":\"white\",\"linecolor\":\"white\",\"minorgridcolor\":\"white\",\"startlinecolor\":\"#2a3f5f\"},\"type\":\"carpet\"}],\"table\":[{\"cells\":{\"fill\":{\"color\":\"#EBF0F8\"},\"line\":{\"color\":\"white\"}},\"header\":{\"fill\":{\"color\":\"#C8D4E3\"},\"line\":{\"color\":\"white\"}},\"type\":\"table\"}],\"barpolar\":[{\"marker\":{\"line\":{\"color\":\"#E5ECF6\",\"width\":0.5},\"pattern\":{\"fillmode\":\"overlay\",\"size\":10,\"solidity\":0.2}},\"type\":\"barpolar\"}],\"pie\":[{\"automargin\":true,\"type\":\"pie\"}]},\"layout\":{\"autotypenumbers\":\"strict\",\"colorway\":[\"#636efa\",\"#EF553B\",\"#00cc96\",\"#ab63fa\",\"#FFA15A\",\"#19d3f3\",\"#FF6692\",\"#B6E880\",\"#FF97FF\",\"#FECB52\"],\"font\":{\"color\":\"#2a3f5f\"},\"hovermode\":\"closest\",\"hoverlabel\":{\"align\":\"left\"},\"paper_bgcolor\":\"white\",\"plot_bgcolor\":\"#E5ECF6\",\"polar\":{\"bgcolor\":\"#E5ECF6\",\"angularaxis\":{\"gridcolor\":\"white\",\"linecolor\":\"white\",\"ticks\":\"\"},\"radialaxis\":{\"gridcolor\":\"white\",\"linecolor\":\"white\",\"ticks\":\"\"}},\"ternary\":{\"bgcolor\":\"#E5ECF6\",\"aaxis\":{\"gridcolor\":\"white\",\"linecolor\":\"white\",\"ticks\":\"\"},\"baxis\":{\"gridcolor\":\"white\",\"linecolor\":\"white\",\"ticks\":\"\"},\"caxis\":{\"gridcolor\":\"white\",\"linecolor\":\"white\",\"ticks\":\"\"}},\"coloraxis\":{\"colorbar\":{\"outlinewidth\":0,\"ticks\":\"\"}},\"colorscale\":{\"sequential\":[[0.0,\"#0d0887\"],[0.1111111111111111,\"#46039f\"],[0.2222222222222222,\"#7201a8\"],[0.3333333333333333,\"#9c179e\"],[0.4444444444444444,\"#bd3786\"],[0.5555555555555556,\"#d8576b\"],[0.6666666666666666,\"#ed7953\"],[0.7777777777777778,\"#fb9f3a\"],[0.8888888888888888,\"#fdca26\"],[1.0,\"#f0f921\"]],\"sequentialminus\":[[0.0,\"#0d0887\"],[0.1111111111111111,\"#46039f\"],[0.2222222222222222,\"#7201a8\"],[0.3333333333333333,\"#9c179e\"],[0.4444444444444444,\"#bd3786\"],[0.5555555555555556,\"#d8576b\"],[0.6666666666666666,\"#ed7953\"],[0.7777777777777778,\"#fb9f3a\"],[0.8888888888888888,\"#fdca26\"],[1.0,\"#f0f921\"]],\"diverging\":[[0,\"#8e0152\"],[0.1,\"#c51b7d\"],[0.2,\"#de77ae\"],[0.3,\"#f1b6da\"],[0.4,\"#fde0ef\"],[0.5,\"#f7f7f7\"],[0.6,\"#e6f5d0\"],[0.7,\"#b8e186\"],[0.8,\"#7fbc41\"],[0.9,\"#4d9221\"],[1,\"#276419\"]]},\"xaxis\":{\"gridcolor\":\"white\",\"linecolor\":\"white\",\"ticks\":\"\",\"title\":{\"standoff\":15},\"zerolinecolor\":\"white\",\"automargin\":true,\"zerolinewidth\":2},\"yaxis\":{\"gridcolor\":\"white\",\"linecolor\":\"white\",\"ticks\":\"\",\"title\":{\"standoff\":15},\"zerolinecolor\":\"white\",\"automargin\":true,\"zerolinewidth\":2},\"scene\":{\"xaxis\":{\"backgroundcolor\":\"#E5ECF6\",\"gridcolor\":\"white\",\"linecolor\":\"white\",\"showbackground\":true,\"ticks\":\"\",\"zerolinecolor\":\"white\",\"gridwidth\":2},\"yaxis\":{\"backgroundcolor\":\"#E5ECF6\",\"gridcolor\":\"white\",\"linecolor\":\"white\",\"showbackground\":true,\"ticks\":\"\",\"zerolinecolor\":\"white\",\"gridwidth\":2},\"zaxis\":{\"backgroundcolor\":\"#E5ECF6\",\"gridcolor\":\"white\",\"linecolor\":\"white\",\"showbackground\":true,\"ticks\":\"\",\"zerolinecolor\":\"white\",\"gridwidth\":2}},\"shapedefaults\":{\"line\":{\"color\":\"#2a3f5f\"}},\"annotationdefaults\":{\"arrowcolor\":\"#2a3f5f\",\"arrowhead\":0,\"arrowwidth\":1},\"geo\":{\"bgcolor\":\"white\",\"landcolor\":\"#E5ECF6\",\"subunitcolor\":\"white\",\"showland\":true,\"showlakes\":true,\"lakecolor\":\"white\"},\"title\":{\"x\":0.05},\"mapbox\":{\"style\":\"light\"}}},\"xaxis\":{\"anchor\":\"y\",\"domain\":[0.0,1.0],\"title\":{\"text\":\"category\"},\"tickangle\":45},\"yaxis\":{\"anchor\":\"x\",\"domain\":[0.0,1.0],\"title\":{\"text\":\"rating\"}},\"legend\":{\"tracegroupgap\":0},\"title\":{\"text\":\"\\u0441\\u0440\\u0435\\u0434\\u043d\\u0438\\u0439 \\u0440\\u0435\\u0439\\u0442\\u0438\\u043d\\u0433 \\u043f\\u043e \\u043a\\u0430\\u0442\\u0435\\u0433\\u043e\\u0440\\u0438\\u044f\\u043c\"},\"barmode\":\"relative\"},                        {\"responsive\": true}                    ).then(function(){\n",
       "                            \n",
       "var gd = document.getElementById('31e00f93-e906-46d1-b842-8953a679aa75');\n",
       "var x = new MutationObserver(function (mutations, observer) {{\n",
       "        var display = window.getComputedStyle(gd).display;\n",
       "        if (!display || display === 'none') {{\n",
       "            console.log([gd, 'removed!']);\n",
       "            Plotly.purge(gd);\n",
       "            observer.disconnect();\n",
       "        }}\n",
       "}});\n",
       "\n",
       "// Listen for the removal of the full notebook cells\n",
       "var notebookContainer = gd.closest('#notebook-container');\n",
       "if (notebookContainer) {{\n",
       "    x.observe(notebookContainer, {childList: true});\n",
       "}}\n",
       "\n",
       "// Listen for the clearing of the current output cell\n",
       "var outputEl = gd.closest('.output');\n",
       "if (outputEl) {{\n",
       "    x.observe(outputEl, {childList: true});\n",
       "}}\n",
       "\n",
       "                        })                };                });            </script>        </div>"
      ]
     },
     "metadata": {},
     "output_type": "display_data"
    }
   ],
   "source": [
    "fig = px.bar(cat_rat.sort_values(by='rating'), x='category', y='rating', title='средний рейтинг по категориям')\n",
    "fig.update_xaxes(tickangle=45)\n",
    "fig.show()"
   ]
  },
  {
   "cell_type": "markdown",
   "metadata": {},
   "source": [
    "Самый высокий рейтинг у баров и пабов, а самый низкий - у быстрого питания. Рейтинг кофеен находится по середине. Рейтинги различаются несильно. Находятся в диапазоне от 4,05 до 4,39."
   ]
  },
  {
   "cell_type": "markdown",
   "metadata": {},
   "source": [
    "### средний рейтинг  по районам"
   ]
  },
  {
   "cell_type": "code",
   "execution_count": 95,
   "metadata": {},
   "outputs": [
    {
     "data": {
      "text/html": [
       "<div>\n",
       "<style scoped>\n",
       "    .dataframe tbody tr th:only-of-type {\n",
       "        vertical-align: middle;\n",
       "    }\n",
       "\n",
       "    .dataframe tbody tr th {\n",
       "        vertical-align: top;\n",
       "    }\n",
       "\n",
       "    .dataframe thead th {\n",
       "        text-align: right;\n",
       "    }\n",
       "</style>\n",
       "<table border=\"1\" class=\"dataframe\">\n",
       "  <thead>\n",
       "    <tr style=\"text-align: right;\">\n",
       "      <th></th>\n",
       "      <th>district</th>\n",
       "      <th>rating</th>\n",
       "    </tr>\n",
       "  </thead>\n",
       "  <tbody>\n",
       "    <tr>\n",
       "      <th>0</th>\n",
       "      <td>Восточный административный округ</td>\n",
       "      <td>4.174185</td>\n",
       "    </tr>\n",
       "    <tr>\n",
       "      <th>1</th>\n",
       "      <td>Западный административный округ</td>\n",
       "      <td>4.181551</td>\n",
       "    </tr>\n",
       "    <tr>\n",
       "      <th>2</th>\n",
       "      <td>Северный административный округ</td>\n",
       "      <td>4.239778</td>\n",
       "    </tr>\n",
       "    <tr>\n",
       "      <th>3</th>\n",
       "      <td>Северо-Восточный административный округ</td>\n",
       "      <td>4.148260</td>\n",
       "    </tr>\n",
       "    <tr>\n",
       "      <th>4</th>\n",
       "      <td>Северо-Западный административный округ</td>\n",
       "      <td>4.208802</td>\n",
       "    </tr>\n",
       "    <tr>\n",
       "      <th>5</th>\n",
       "      <td>Центральный административный округ</td>\n",
       "      <td>4.377520</td>\n",
       "    </tr>\n",
       "    <tr>\n",
       "      <th>6</th>\n",
       "      <td>Юго-Восточный административный округ</td>\n",
       "      <td>4.101120</td>\n",
       "    </tr>\n",
       "    <tr>\n",
       "      <th>7</th>\n",
       "      <td>Юго-Западный административный округ</td>\n",
       "      <td>4.172920</td>\n",
       "    </tr>\n",
       "    <tr>\n",
       "      <th>8</th>\n",
       "      <td>Южный административный округ</td>\n",
       "      <td>4.184417</td>\n",
       "    </tr>\n",
       "  </tbody>\n",
       "</table>\n",
       "</div>"
      ],
      "text/plain": [
       "                                  district    rating\n",
       "0         Восточный административный округ  4.174185\n",
       "1          Западный административный округ  4.181551\n",
       "2          Северный административный округ  4.239778\n",
       "3  Северо-Восточный административный округ  4.148260\n",
       "4   Северо-Западный административный округ  4.208802\n",
       "5       Центральный административный округ  4.377520\n",
       "6     Юго-Восточный административный округ  4.101120\n",
       "7      Юго-Западный административный округ  4.172920\n",
       "8             Южный административный округ  4.184417"
      ]
     },
     "execution_count": 95,
     "metadata": {},
     "output_type": "execute_result"
    }
   ],
   "source": [
    "rating = places.groupby('district', as_index=False)['rating'].agg('mean')\n",
    "rating"
   ]
  },
  {
   "cell_type": "markdown",
   "metadata": {},
   "source": [
    "Самые хорошие рейтинги в Центральном районе, а самые низкие - в юго-восточном. "
   ]
  },
  {
   "cell_type": "code",
   "execution_count": null,
   "metadata": {
    "scrolled": false
   },
   "outputs": [],
   "source": [
    "from folium import Map, Marker\n",
    "from folium.plugins import MarkerCluster\n",
    "\n",
    "# создаём пустой кластер, добавляем его на карту\n",
    "marker_cluster = MarkerCluster().add_to(m)\n",
    "\n",
    "def create_clusters(row):\n",
    "    Marker(\n",
    "        [row['lat'], row['lng']],\n",
    "        popup=f\"{row['name']} {row['rating']}\",\n",
    "    ).add_to(marker_cluster)\n",
    "\n",
    "# применяем функцию create_clusters() к каждой строке датафрейма\n",
    "places.apply(create_clusters, axis=1)\n",
    "\n",
    "# выводим карту\n",
    "m"
   ]
  },
  {
   "cell_type": "code",
   "execution_count": null,
   "metadata": {},
   "outputs": [],
   "source": [
    "from folium import Map, Choropleth\n",
    "\n",
    "state_geo = '/datasets/admin_level_geomap.geojson'\n",
    "\n",
    "moscow_lat, moscow_lng = 55.751244, 37.618423\n",
    "\n",
    "m = Map(location=[moscow_lat, moscow_lng], zoom_start=10)\n",
    "\n",
    "Choropleth(\n",
    "    geo_data=state_geo,\n",
    "    data=rating,\n",
    "    columns=['district', 'rating'],\n",
    "    key_on='feature.name',\n",
    "    fill_color='YlGn',\n",
    "    fill_opacity=0.8,\n",
    "    legend_name='средний рейтинг заведений по районам',\n",
    ").add_to(m)\n",
    "\n",
    "m"
   ]
  },
  {
   "cell_type": "markdown",
   "metadata": {},
   "source": [
    "В центральном районе заведений значительно больше"
   ]
  },
  {
   "cell_type": "markdown",
   "metadata": {},
   "source": [
    "### топ-15 улиц по количеству заведений"
   ]
  },
  {
   "cell_type": "code",
   "execution_count": 97,
   "metadata": {},
   "outputs": [],
   "source": [
    "top_street = places.pivot_table(index='street', values='name', aggfunc='count').sort_values(by='name', ascending=False).head(15)\n",
    "top_street = top_street.reset_index()\n",
    "top_streets = top_street['street']"
   ]
  },
  {
   "cell_type": "code",
   "execution_count": 98,
   "metadata": {},
   "outputs": [
    {
     "data": {
      "image/png": "[encoded data removed]",
      "text/plain": [
       "<Figure size 1440x720 with 1 Axes>"
      ]
     },
     "metadata": {
      "needs_background": "light"
     },
     "output_type": "display_data"
    }
   ],
   "source": [
    "top_str = places.query('street in @top_streets')\n",
    "plt.figure(figsize=(20, 10))\n",
    "sns.countplot(x='street', hue='category', data=top_str)\n",
    "plt.xticks(rotation=45)\n",
    "plt.show()"
   ]
  },
  {
   "cell_type": "markdown",
   "metadata": {},
   "source": [
    "На улице МКАД кафе занимают наибольшую долю по сравнению с другими районами. Возможно, это связано с придорожными кафе. Так же возможно МКАД оказался в топе из-за своего размера. Больше всего кафе на проспекте Мира, Профсоюзной улице, Люблинской улице, улице Миклуко-Маклая. Лидер по заведениям - проспект Мира"
   ]
  },
  {
   "cell_type": "markdown",
   "metadata": {},
   "source": [
    "### улицы, на которых находится только один объект общепита"
   ]
  },
  {
   "cell_type": "code",
   "execution_count": 99,
   "metadata": {},
   "outputs": [
    {
     "data": {
      "text/plain": [
       "458"
      ]
     },
     "execution_count": 99,
     "metadata": {},
     "output_type": "execute_result"
    }
   ],
   "source": [
    "one_street = places.pivot_table(index='street', values='name', aggfunc='count').sort_values(by='name')\n",
    "one_street.columns = ['count']\n",
    "one_street = one_street[one_street['count'] == 1]\n",
    "len(one_street)"
   ]
  },
  {
   "cell_type": "markdown",
   "metadata": {},
   "source": [
    "458 улиц с одним объектом общепита"
   ]
  },
  {
   "cell_type": "code",
   "execution_count": 100,
   "metadata": {},
   "outputs": [],
   "source": [
    "one_streets = one_street.index\n",
    "one_data = places.query('street in @one_streets')\n"
   ]
  },
  {
   "cell_type": "code",
   "execution_count": 101,
   "metadata": {},
   "outputs": [
    {
     "data": {
      "text/plain": [
       "category\n",
       "булочная             8\n",
       "пиццерия            15\n",
       "быстрое питание     23\n",
       "столовая            36\n",
       "бар,паб             39\n",
       "кофейня             84\n",
       "ресторан            93\n",
       "кафе               160\n",
       "Name: name, dtype: int64"
      ]
     },
     "execution_count": 101,
     "metadata": {},
     "output_type": "execute_result"
    }
   ],
   "source": [
    "one_data.groupby(by='category')['name'].count().sort_values()"
   ]
  },
  {
   "cell_type": "markdown",
   "metadata": {},
   "source": [
    "На этих улицах больше всего кафе, меньше всего булочных "
   ]
  },
  {
   "cell_type": "code",
   "execution_count": 102,
   "metadata": {},
   "outputs": [
    {
     "data": {
      "image/png": "[encoded data removed]",
      "text/plain": [
       "<Figure size 1008x432 with 2 Axes>"
      ]
     },
     "metadata": {
      "needs_background": "light"
     },
     "output_type": "display_data"
    }
   ],
   "source": [
    "data = one_data.pivot_table(index='district', columns='category', values='rating', aggfunc='mean')\n",
    "plt.figure(figsize=(14,6))\n",
    "plt.title('средний рейтинг по категориям и районам для улиц с одним заведением')\n",
    "sns.heatmap(data, annot=True)\n",
    "plt.show()"
   ]
  },
  {
   "cell_type": "markdown",
   "metadata": {},
   "source": [
    "У некоторых заведений отсутствует рейтинг. Самые низкие рейтинги у заведений в западном и юго-западном районах. Самые высокие - в центральном. Наиболее высокие рейтинги у баров, кофеен и пиццерий"
   ]
  },
  {
   "cell_type": "markdown",
   "metadata": {},
   "source": [
    "### Анализ средних чеков заведений"
   ]
  },
  {
   "cell_type": "code",
   "execution_count": null,
   "metadata": {},
   "outputs": [],
   "source": [
    "data_middle = places.groupby('district')['middle_avg_bill'].median()\n",
    "data_middle = data_middle.reset_index()\n",
    "data_middle.columns = ['district','median_middle_avg_bill']\n",
    "Choropleth(\n",
    "    geo_data=state_geo,\n",
    "    data=data_middle,\n",
    "    columns=['district', 'median_middle_avg_bill'],\n",
    "    key_on='feature.name',\n",
    "    fill_color='YlGn',\n",
    "    fill_opacity=0.8,\n",
    "    legend_name='средний чек заведений по районам',\n",
    ").add_to(m)\n",
    "\n",
    "m"
   ]
  },
  {
   "cell_type": "code",
   "execution_count": 104,
   "metadata": {},
   "outputs": [
    {
     "data": {
      "text/html": [
       "<div>\n",
       "<style scoped>\n",
       "    .dataframe tbody tr th:only-of-type {\n",
       "        vertical-align: middle;\n",
       "    }\n",
       "\n",
       "    .dataframe tbody tr th {\n",
       "        vertical-align: top;\n",
       "    }\n",
       "\n",
       "    .dataframe thead th {\n",
       "        text-align: right;\n",
       "    }\n",
       "</style>\n",
       "<table border=\"1\" class=\"dataframe\">\n",
       "  <thead>\n",
       "    <tr style=\"text-align: right;\">\n",
       "      <th></th>\n",
       "      <th>district</th>\n",
       "      <th>median_middle_avg_bill</th>\n",
       "    </tr>\n",
       "  </thead>\n",
       "  <tbody>\n",
       "    <tr>\n",
       "      <th>6</th>\n",
       "      <td>Юго-Восточный административный округ</td>\n",
       "      <td>450.0</td>\n",
       "    </tr>\n",
       "    <tr>\n",
       "      <th>3</th>\n",
       "      <td>Северо-Восточный административный округ</td>\n",
       "      <td>500.0</td>\n",
       "    </tr>\n",
       "    <tr>\n",
       "      <th>8</th>\n",
       "      <td>Южный административный округ</td>\n",
       "      <td>500.0</td>\n",
       "    </tr>\n",
       "    <tr>\n",
       "      <th>0</th>\n",
       "      <td>Восточный административный округ</td>\n",
       "      <td>575.0</td>\n",
       "    </tr>\n",
       "    <tr>\n",
       "      <th>7</th>\n",
       "      <td>Юго-Западный административный округ</td>\n",
       "      <td>600.0</td>\n",
       "    </tr>\n",
       "    <tr>\n",
       "      <th>2</th>\n",
       "      <td>Северный административный округ</td>\n",
       "      <td>650.0</td>\n",
       "    </tr>\n",
       "    <tr>\n",
       "      <th>4</th>\n",
       "      <td>Северо-Западный административный округ</td>\n",
       "      <td>700.0</td>\n",
       "    </tr>\n",
       "    <tr>\n",
       "      <th>1</th>\n",
       "      <td>Западный административный округ</td>\n",
       "      <td>1000.0</td>\n",
       "    </tr>\n",
       "    <tr>\n",
       "      <th>5</th>\n",
       "      <td>Центральный административный округ</td>\n",
       "      <td>1000.0</td>\n",
       "    </tr>\n",
       "  </tbody>\n",
       "</table>\n",
       "</div>"
      ],
      "text/plain": [
       "                                  district  median_middle_avg_bill\n",
       "6     Юго-Восточный административный округ                   450.0\n",
       "3  Северо-Восточный административный округ                   500.0\n",
       "8             Южный административный округ                   500.0\n",
       "0         Восточный административный округ                   575.0\n",
       "7      Юго-Западный административный округ                   600.0\n",
       "2          Северный административный округ                   650.0\n",
       "4   Северо-Западный административный округ                   700.0\n",
       "1          Западный административный округ                  1000.0\n",
       "5       Центральный административный округ                  1000.0"
      ]
     },
     "execution_count": 104,
     "metadata": {},
     "output_type": "execute_result"
    }
   ],
   "source": [
    "data_middle.sort_values(by='median_middle_avg_bill')"
   ]
  },
  {
   "cell_type": "markdown",
   "metadata": {},
   "source": [
    "Самый высокий средний чек в западном и центральном округах. Самый низкий - в юго-восточном. Чем дальше от центра, тем цены ниже во всех направлениях кроме западного"
   ]
  },
  {
   "cell_type": "markdown",
   "metadata": {},
   "source": [
    "ВЫВОДЫ:\n",
    " - Больше всего заведений в категориях ресторан и кафе. Далее идёт категория кофейня. Меньше всего булочных и столовых.\n",
    " - Самый популярный район – центральный. Так же в нём самые высокие цены\n",
    " - Больше всего мест нужно, чтобы открыть ресторан или бар. Меньше всего мест нужно для булочных. \n",
    " - Сетевые заведения составляют 38,1% от общего количества. Несетевых заведений больше примерно в 1,5 раза\n",
    " - Больше всего сетевых заведений в категориях кафе, ресторан и кофейня. Меньше всего в категории столовая\n",
    " - В центральном районе больше всего заведений, а меньше всего в северо-западном. Во всех районах кроме центрального больше всего кафе, но в центральном больше всего ресторанов. По сравнению с другими районами в центральном много баров. Наименьшую долю во всех районах занимают булочные и столовые.\n",
    " - Самый высокий рейтинг у баров и пабов, а самый низкий - у быстрого питания. Рейтинг кофеен находится по середине. Рейтинги различаются несильно. Находятся в диапазоне от 4,05 до 4,39.\n",
    " - Наибольшую долю в Москве занимают Шоколадница, Домино'с Пицца, Додо Пицца. Это известные сети питания по всей России. Среди топа заведений имеются следующие категории: кафе, кофейня, ресторан, пиццерия\n",
    " - В центральном районе очень много ресторанов. В остальные районах больше предпочитают кафе, но ресторанов также много.\n",
    " - Самые высокие рейтинги в центральном районе, самые низкие в юго-восточном.\n",
    " - Лидер по заведениям - проспект Мира. Больше всего кафе на улице МКАД, что скорее всего связано с её протяжённостью и расположением\n",
    " - всего 458 улиц с одним объектом общепита. На этих улицах больше всего кафе, меньше всего булочных\n",
    " - Самый высокий средний чек в западном и центральном округах. Самый низкий - в юго-восточном. Чем дальше от центра, тем цены ниже во всех направлениях кроме западного\n"
   ]
  },
  {
   "cell_type": "markdown",
   "metadata": {},
   "source": [
    "## ШАГ 4. открытие кофейни"
   ]
  },
  {
   "cell_type": "markdown",
   "metadata": {},
   "source": [
    "### особенности расположения кофеен"
   ]
  },
  {
   "cell_type": "code",
   "execution_count": 105,
   "metadata": {},
   "outputs": [],
   "source": [
    "coffee = places[places['category'] == 'кофейня']"
   ]
  },
  {
   "cell_type": "code",
   "execution_count": 106,
   "metadata": {},
   "outputs": [
    {
     "data": {
      "text/plain": [
       "1413"
      ]
     },
     "execution_count": 106,
     "metadata": {},
     "output_type": "execute_result"
    }
   ],
   "source": [
    "len(coffee)"
   ]
  },
  {
   "cell_type": "code",
   "execution_count": 107,
   "metadata": {},
   "outputs": [
    {
     "data": {
      "text/html": [
       "<div>\n",
       "<style scoped>\n",
       "    .dataframe tbody tr th:only-of-type {\n",
       "        vertical-align: middle;\n",
       "    }\n",
       "\n",
       "    .dataframe tbody tr th {\n",
       "        vertical-align: top;\n",
       "    }\n",
       "\n",
       "    .dataframe thead th {\n",
       "        text-align: right;\n",
       "    }\n",
       "</style>\n",
       "<table border=\"1\" class=\"dataframe\">\n",
       "  <thead>\n",
       "    <tr style=\"text-align: right;\">\n",
       "      <th></th>\n",
       "      <th>name</th>\n",
       "      <th>category</th>\n",
       "      <th>address</th>\n",
       "      <th>district</th>\n",
       "      <th>hours</th>\n",
       "      <th>lat</th>\n",
       "      <th>lng</th>\n",
       "      <th>rating</th>\n",
       "      <th>price</th>\n",
       "      <th>avg_bill</th>\n",
       "      <th>middle_avg_bill</th>\n",
       "      <th>middle_coffee_cup</th>\n",
       "      <th>chain</th>\n",
       "      <th>seats</th>\n",
       "      <th>street</th>\n",
       "      <th>is_24/7</th>\n",
       "    </tr>\n",
       "  </thead>\n",
       "  <tbody>\n",
       "    <tr>\n",
       "      <th>3</th>\n",
       "      <td>Dormouse Coffee Shop</td>\n",
       "      <td>кофейня</td>\n",
       "      <td>Москва, улица Маршала Федоренко, 12</td>\n",
       "      <td>Северный административный округ</td>\n",
       "      <td>ежедневно, 09:00–22:00</td>\n",
       "      <td>55.881608</td>\n",
       "      <td>37.488860</td>\n",
       "      <td>5.0</td>\n",
       "      <td>NaN</td>\n",
       "      <td>Цена чашки капучино:155–185 ₽</td>\n",
       "      <td>NaN</td>\n",
       "      <td>170.0</td>\n",
       "      <td>0</td>\n",
       "      <td>NaN</td>\n",
       "      <td>улица Маршала Федоренко</td>\n",
       "      <td>False</td>\n",
       "    </tr>\n",
       "    <tr>\n",
       "      <th>25</th>\n",
       "      <td>В парке вкуснее</td>\n",
       "      <td>кофейня</td>\n",
       "      <td>Москва, парк Левобережный</td>\n",
       "      <td>Северный административный округ</td>\n",
       "      <td>ежедневно, 10:00–21:00</td>\n",
       "      <td>55.878453</td>\n",
       "      <td>37.460028</td>\n",
       "      <td>4.3</td>\n",
       "      <td>NaN</td>\n",
       "      <td>NaN</td>\n",
       "      <td>NaN</td>\n",
       "      <td>NaN</td>\n",
       "      <td>1</td>\n",
       "      <td>NaN</td>\n",
       "      <td>парк Левобережный</td>\n",
       "      <td>False</td>\n",
       "    </tr>\n",
       "    <tr>\n",
       "      <th>45</th>\n",
       "      <td>9 Bar Coffee</td>\n",
       "      <td>кофейня</td>\n",
       "      <td>Москва, Коровинское шоссе, 41, стр. 1</td>\n",
       "      <td>Северный административный округ</td>\n",
       "      <td>пн-пт 08:00–18:00</td>\n",
       "      <td>55.885837</td>\n",
       "      <td>37.513422</td>\n",
       "      <td>4.0</td>\n",
       "      <td>NaN</td>\n",
       "      <td>NaN</td>\n",
       "      <td>NaN</td>\n",
       "      <td>NaN</td>\n",
       "      <td>1</td>\n",
       "      <td>46.0</td>\n",
       "      <td>Коровинское шоссе</td>\n",
       "      <td>False</td>\n",
       "    </tr>\n",
       "    <tr>\n",
       "      <th>46</th>\n",
       "      <td>CofeFest</td>\n",
       "      <td>кофейня</td>\n",
       "      <td>Москва, улица Маршала Федоренко, 6с1</td>\n",
       "      <td>Северный административный округ</td>\n",
       "      <td>пн-пт 09:00–19:00</td>\n",
       "      <td>55.879934</td>\n",
       "      <td>37.492522</td>\n",
       "      <td>3.6</td>\n",
       "      <td>NaN</td>\n",
       "      <td>NaN</td>\n",
       "      <td>NaN</td>\n",
       "      <td>NaN</td>\n",
       "      <td>1</td>\n",
       "      <td>NaN</td>\n",
       "      <td>улица Маршала Федоренко</td>\n",
       "      <td>False</td>\n",
       "    </tr>\n",
       "    <tr>\n",
       "      <th>52</th>\n",
       "      <td>Cofix</td>\n",
       "      <td>кофейня</td>\n",
       "      <td>Москва, улица Дыбенко, 7/1</td>\n",
       "      <td>Северный административный округ</td>\n",
       "      <td>ежедневно, 08:00–22:00</td>\n",
       "      <td>55.878531</td>\n",
       "      <td>37.479395</td>\n",
       "      <td>3.8</td>\n",
       "      <td>NaN</td>\n",
       "      <td>NaN</td>\n",
       "      <td>NaN</td>\n",
       "      <td>NaN</td>\n",
       "      <td>1</td>\n",
       "      <td>NaN</td>\n",
       "      <td>улица Дыбенко</td>\n",
       "      <td>False</td>\n",
       "    </tr>\n",
       "    <tr>\n",
       "      <th>...</th>\n",
       "      <td>...</td>\n",
       "      <td>...</td>\n",
       "      <td>...</td>\n",
       "      <td>...</td>\n",
       "      <td>...</td>\n",
       "      <td>...</td>\n",
       "      <td>...</td>\n",
       "      <td>...</td>\n",
       "      <td>...</td>\n",
       "      <td>...</td>\n",
       "      <td>...</td>\n",
       "      <td>...</td>\n",
       "      <td>...</td>\n",
       "      <td>...</td>\n",
       "      <td>...</td>\n",
       "      <td>...</td>\n",
       "    </tr>\n",
       "    <tr>\n",
       "      <th>8356</th>\n",
       "      <td>Назис Пури</td>\n",
       "      <td>кофейня</td>\n",
       "      <td>Москва, Люблинская улица, 61</td>\n",
       "      <td>Юго-Восточный административный округ</td>\n",
       "      <td>ежедневно, 09:00–22:00</td>\n",
       "      <td>55.684103</td>\n",
       "      <td>37.738588</td>\n",
       "      <td>4.5</td>\n",
       "      <td>NaN</td>\n",
       "      <td>NaN</td>\n",
       "      <td>NaN</td>\n",
       "      <td>NaN</td>\n",
       "      <td>0</td>\n",
       "      <td>NaN</td>\n",
       "      <td>Люблинская улица</td>\n",
       "      <td>False</td>\n",
       "    </tr>\n",
       "    <tr>\n",
       "      <th>8365</th>\n",
       "      <td>Квадрат кофе</td>\n",
       "      <td>кофейня</td>\n",
       "      <td>Москва, Волгоградский проспект, 73, стр. 1</td>\n",
       "      <td>Юго-Восточный административный округ</td>\n",
       "      <td>пн-пт 08:30–21:30; сб,вс 09:00–21:30</td>\n",
       "      <td>55.709710</td>\n",
       "      <td>37.744450</td>\n",
       "      <td>4.2</td>\n",
       "      <td>NaN</td>\n",
       "      <td>Цена чашки капучино:100–220 ₽</td>\n",
       "      <td>NaN</td>\n",
       "      <td>160.0</td>\n",
       "      <td>0</td>\n",
       "      <td>206.0</td>\n",
       "      <td>Волгоградский проспект</td>\n",
       "      <td>False</td>\n",
       "    </tr>\n",
       "    <tr>\n",
       "      <th>8376</th>\n",
       "      <td>Шоколад имбирь корица</td>\n",
       "      <td>кофейня</td>\n",
       "      <td>Москва, Грайвороновская улица, 23</td>\n",
       "      <td>Юго-Восточный административный округ</td>\n",
       "      <td>пн-пт 09:30–19:30</td>\n",
       "      <td>55.721213</td>\n",
       "      <td>37.740755</td>\n",
       "      <td>4.1</td>\n",
       "      <td>NaN</td>\n",
       "      <td>NaN</td>\n",
       "      <td>NaN</td>\n",
       "      <td>NaN</td>\n",
       "      <td>0</td>\n",
       "      <td>NaN</td>\n",
       "      <td>Грайвороновская улица</td>\n",
       "      <td>False</td>\n",
       "    </tr>\n",
       "    <tr>\n",
       "      <th>8385</th>\n",
       "      <td>Cafio</td>\n",
       "      <td>кофейня</td>\n",
       "      <td>Москва, Новохохловская улица, 49</td>\n",
       "      <td>Юго-Восточный административный округ</td>\n",
       "      <td>пн-пт 07:00–22:00; сб,вс 07:00–21:00</td>\n",
       "      <td>55.724357</td>\n",
       "      <td>37.716415</td>\n",
       "      <td>4.7</td>\n",
       "      <td>NaN</td>\n",
       "      <td>Цена чашки капучино:80–120 ₽</td>\n",
       "      <td>NaN</td>\n",
       "      <td>100.0</td>\n",
       "      <td>0</td>\n",
       "      <td>NaN</td>\n",
       "      <td>Новохохловская улица</td>\n",
       "      <td>False</td>\n",
       "    </tr>\n",
       "    <tr>\n",
       "      <th>8400</th>\n",
       "      <td>Практика Кофе</td>\n",
       "      <td>кофейня</td>\n",
       "      <td>Москва, Чонгарский бульвар, 26А, корп. 1</td>\n",
       "      <td>Юго-Западный административный округ</td>\n",
       "      <td>пн-пт 08:00–22:00; сб,вс 09:00–22:00</td>\n",
       "      <td>55.654289</td>\n",
       "      <td>37.600722</td>\n",
       "      <td>4.4</td>\n",
       "      <td>NaN</td>\n",
       "      <td>NaN</td>\n",
       "      <td>NaN</td>\n",
       "      <td>NaN</td>\n",
       "      <td>0</td>\n",
       "      <td>55.0</td>\n",
       "      <td>Чонгарский бульвар</td>\n",
       "      <td>False</td>\n",
       "    </tr>\n",
       "  </tbody>\n",
       "</table>\n",
       "<p>1413 rows × 16 columns</p>\n",
       "</div>"
      ],
      "text/plain": [
       "                       name category  \\\n",
       "3      Dormouse Coffee Shop  кофейня   \n",
       "25          В парке вкуснее  кофейня   \n",
       "45             9 Bar Coffee  кофейня   \n",
       "46                 CofeFest  кофейня   \n",
       "52                    Cofix  кофейня   \n",
       "...                     ...      ...   \n",
       "8356             Назис Пури  кофейня   \n",
       "8365           Квадрат кофе  кофейня   \n",
       "8376  Шоколад имбирь корица  кофейня   \n",
       "8385                  Cafio  кофейня   \n",
       "8400          Практика Кофе  кофейня   \n",
       "\n",
       "                                         address  \\\n",
       "3            Москва, улица Маршала Федоренко, 12   \n",
       "25                     Москва, парк Левобережный   \n",
       "45         Москва, Коровинское шоссе, 41, стр. 1   \n",
       "46          Москва, улица Маршала Федоренко, 6с1   \n",
       "52                    Москва, улица Дыбенко, 7/1   \n",
       "...                                          ...   \n",
       "8356                Москва, Люблинская улица, 61   \n",
       "8365  Москва, Волгоградский проспект, 73, стр. 1   \n",
       "8376           Москва, Грайвороновская улица, 23   \n",
       "8385            Москва, Новохохловская улица, 49   \n",
       "8400    Москва, Чонгарский бульвар, 26А, корп. 1   \n",
       "\n",
       "                                  district  \\\n",
       "3          Северный административный округ   \n",
       "25         Северный административный округ   \n",
       "45         Северный административный округ   \n",
       "46         Северный административный округ   \n",
       "52         Северный административный округ   \n",
       "...                                    ...   \n",
       "8356  Юго-Восточный административный округ   \n",
       "8365  Юго-Восточный административный округ   \n",
       "8376  Юго-Восточный административный округ   \n",
       "8385  Юго-Восточный административный округ   \n",
       "8400   Юго-Западный административный округ   \n",
       "\n",
       "                                     hours        lat        lng  rating  \\\n",
       "3                   ежедневно, 09:00–22:00  55.881608  37.488860     5.0   \n",
       "25                  ежедневно, 10:00–21:00  55.878453  37.460028     4.3   \n",
       "45                       пн-пт 08:00–18:00  55.885837  37.513422     4.0   \n",
       "46                       пн-пт 09:00–19:00  55.879934  37.492522     3.6   \n",
       "52                  ежедневно, 08:00–22:00  55.878531  37.479395     3.8   \n",
       "...                                    ...        ...        ...     ...   \n",
       "8356                ежедневно, 09:00–22:00  55.684103  37.738588     4.5   \n",
       "8365  пн-пт 08:30–21:30; сб,вс 09:00–21:30  55.709710  37.744450     4.2   \n",
       "8376                     пн-пт 09:30–19:30  55.721213  37.740755     4.1   \n",
       "8385  пн-пт 07:00–22:00; сб,вс 07:00–21:00  55.724357  37.716415     4.7   \n",
       "8400  пн-пт 08:00–22:00; сб,вс 09:00–22:00  55.654289  37.600722     4.4   \n",
       "\n",
       "     price                       avg_bill  middle_avg_bill  middle_coffee_cup  \\\n",
       "3      NaN  Цена чашки капучино:155–185 ₽              NaN              170.0   \n",
       "25     NaN                            NaN              NaN                NaN   \n",
       "45     NaN                            NaN              NaN                NaN   \n",
       "46     NaN                            NaN              NaN                NaN   \n",
       "52     NaN                            NaN              NaN                NaN   \n",
       "...    ...                            ...              ...                ...   \n",
       "8356   NaN                            NaN              NaN                NaN   \n",
       "8365   NaN  Цена чашки капучино:100–220 ₽              NaN              160.0   \n",
       "8376   NaN                            NaN              NaN                NaN   \n",
       "8385   NaN   Цена чашки капучино:80–120 ₽              NaN              100.0   \n",
       "8400   NaN                            NaN              NaN                NaN   \n",
       "\n",
       "      chain  seats                   street is_24/7  \n",
       "3         0    NaN  улица Маршала Федоренко   False  \n",
       "25        1    NaN        парк Левобережный   False  \n",
       "45        1   46.0        Коровинское шоссе   False  \n",
       "46        1    NaN  улица Маршала Федоренко   False  \n",
       "52        1    NaN            улица Дыбенко   False  \n",
       "...     ...    ...                      ...     ...  \n",
       "8356      0    NaN         Люблинская улица   False  \n",
       "8365      0  206.0   Волгоградский проспект   False  \n",
       "8376      0    NaN    Грайвороновская улица   False  \n",
       "8385      0    NaN     Новохохловская улица   False  \n",
       "8400      0   55.0       Чонгарский бульвар   False  \n",
       "\n",
       "[1413 rows x 16 columns]"
      ]
     },
     "execution_count": 107,
     "metadata": {},
     "output_type": "execute_result"
    }
   ],
   "source": [
    "coffee"
   ]
  },
  {
   "cell_type": "markdown",
   "metadata": {},
   "source": [
    "Всего 1413 кофеен"
   ]
  },
  {
   "cell_type": "code",
   "execution_count": 108,
   "metadata": {},
   "outputs": [
    {
     "data": {
      "text/plain": [
       "16.809421841541756"
      ]
     },
     "execution_count": 108,
     "metadata": {},
     "output_type": "execute_result"
    }
   ],
   "source": [
    "len(coffee)/ len(places['category']) * 100 "
   ]
  },
  {
   "cell_type": "markdown",
   "metadata": {},
   "source": [
    "Кофейни составляют 16% от всех заведений"
   ]
  },
  {
   "cell_type": "code",
   "execution_count": 109,
   "metadata": {},
   "outputs": [
    {
     "data": {
      "image/png": "[encoded data removed]",
      "text/plain": [
       "<Figure size 1440x720 with 1 Axes>"
      ]
     },
     "metadata": {
      "needs_background": "light"
     },
     "output_type": "display_data"
    }
   ],
   "source": [
    "plt.figure(figsize=(20, 10))\n",
    "large_to_small = coffee.groupby('district').size().sort_values().index[::-1]\n",
    "sns.countplot(x='district', data=coffee, order=large_to_small)\n",
    "plt.xticks(rotation=75)\n",
    "plt.title('Распределение кофеен по районам')\n",
    "plt.show()"
   ]
  },
  {
   "cell_type": "markdown",
   "metadata": {},
   "source": [
    "Больше всего кофеен в центральном районе, а меньше всего - в северо-западном."
   ]
  },
  {
   "cell_type": "code",
   "execution_count": null,
   "metadata": {},
   "outputs": [],
   "source": [
    "coffee_2 = coffee.groupby('district')['name'].count().reset_index()\n",
    "coffee_2.columns= ['district','count']\n",
    "Choropleth(\n",
    "    geo_data=state_geo,\n",
    "    data=coffee_2,\n",
    "    columns=['district', 'count'],\n",
    "    key_on='feature.name',\n",
    "    fill_color='YlGn',\n",
    "    fill_opacity=0.8,\n",
    "    legend_name='количество кофеен по районам',\n",
    ").add_to(m)\n",
    "\n",
    "m"
   ]
  },
  {
   "cell_type": "code",
   "execution_count": 111,
   "metadata": {},
   "outputs": [
    {
     "data": {
      "text/html": [
       "<div>\n",
       "<style scoped>\n",
       "    .dataframe tbody tr th:only-of-type {\n",
       "        vertical-align: middle;\n",
       "    }\n",
       "\n",
       "    .dataframe tbody tr th {\n",
       "        vertical-align: top;\n",
       "    }\n",
       "\n",
       "    .dataframe thead th {\n",
       "        text-align: right;\n",
       "    }\n",
       "</style>\n",
       "<table border=\"1\" class=\"dataframe\">\n",
       "  <thead>\n",
       "    <tr style=\"text-align: right;\">\n",
       "      <th></th>\n",
       "      <th>district</th>\n",
       "      <th>count</th>\n",
       "    </tr>\n",
       "  </thead>\n",
       "  <tbody>\n",
       "    <tr>\n",
       "      <th>0</th>\n",
       "      <td>Восточный административный округ</td>\n",
       "      <td>105</td>\n",
       "    </tr>\n",
       "    <tr>\n",
       "      <th>1</th>\n",
       "      <td>Западный административный округ</td>\n",
       "      <td>150</td>\n",
       "    </tr>\n",
       "    <tr>\n",
       "      <th>2</th>\n",
       "      <td>Северный административный округ</td>\n",
       "      <td>193</td>\n",
       "    </tr>\n",
       "    <tr>\n",
       "      <th>3</th>\n",
       "      <td>Северо-Восточный административный округ</td>\n",
       "      <td>159</td>\n",
       "    </tr>\n",
       "    <tr>\n",
       "      <th>4</th>\n",
       "      <td>Северо-Западный административный округ</td>\n",
       "      <td>62</td>\n",
       "    </tr>\n",
       "    <tr>\n",
       "      <th>5</th>\n",
       "      <td>Центральный административный округ</td>\n",
       "      <td>428</td>\n",
       "    </tr>\n",
       "    <tr>\n",
       "      <th>6</th>\n",
       "      <td>Юго-Восточный административный округ</td>\n",
       "      <td>89</td>\n",
       "    </tr>\n",
       "    <tr>\n",
       "      <th>7</th>\n",
       "      <td>Юго-Западный административный округ</td>\n",
       "      <td>96</td>\n",
       "    </tr>\n",
       "    <tr>\n",
       "      <th>8</th>\n",
       "      <td>Южный административный округ</td>\n",
       "      <td>131</td>\n",
       "    </tr>\n",
       "  </tbody>\n",
       "</table>\n",
       "</div>"
      ],
      "text/plain": [
       "                                  district  count\n",
       "0         Восточный административный округ    105\n",
       "1          Западный административный округ    150\n",
       "2          Северный административный округ    193\n",
       "3  Северо-Восточный административный округ    159\n",
       "4   Северо-Западный административный округ     62\n",
       "5       Центральный административный округ    428\n",
       "6     Юго-Восточный административный округ     89\n",
       "7      Юго-Западный административный округ     96\n",
       "8             Южный административный округ    131"
      ]
     },
     "execution_count": 111,
     "metadata": {},
     "output_type": "execute_result"
    }
   ],
   "source": [
    "coffee_2"
   ]
  },
  {
   "cell_type": "markdown",
   "metadata": {},
   "source": [
    "Количество кофеен во всех районах, кроме центрального от 62 до 200. В центральном их чуть больше 400. "
   ]
  },
  {
   "cell_type": "markdown",
   "metadata": {},
   "source": [
    "### Изучение круглосуточных кофеен"
   ]
  },
  {
   "cell_type": "code",
   "execution_count": 112,
   "metadata": {},
   "outputs": [
    {
     "name": "stdout",
     "output_type": "stream",
     "text": [
      "В Москве 59 круглосуточных кофеен\n"
     ]
    }
   ],
   "source": [
    "print('В Москве', len(coffee[coffee['is_24/7'] == True]), 'круглосуточных кофеен')"
   ]
  },
  {
   "cell_type": "code",
   "execution_count": 113,
   "metadata": {},
   "outputs": [
    {
     "data": {
      "image/png": "[encoded data removed]",
      "text/plain": [
       "<Figure size 1440x720 with 1 Axes>"
      ]
     },
     "metadata": {
      "needs_background": "light"
     },
     "output_type": "display_data"
    }
   ],
   "source": [
    "plt.figure(figsize=(20, 10))\n",
    "coffee_24 = coffee[coffee['is_24/7']== True]\n",
    "large = coffee_24.groupby('district').size().sort_values().index[::-1]\n",
    "sns.countplot(x='district', data=coffee_24, order = large)\n",
    "plt.xticks(rotation=75)\n",
    "plt.title('Распределение круглосуточных кофеен по районам')\n",
    "plt.show()"
   ]
  },
  {
   "cell_type": "markdown",
   "metadata": {},
   "source": [
    "Круглосуточных кофеен немного. Почти половина из них находятся в центральном районе. Меньше всего их в юго-восточном и южном районах "
   ]
  },
  {
   "cell_type": "code",
   "execution_count": 114,
   "metadata": {},
   "outputs": [
    {
     "data": {
      "image/png": "[encoded data removed]",
      "text/plain": [
       "<Figure size 1080x432 with 2 Axes>"
      ]
     },
     "metadata": {
      "needs_background": "light"
     },
     "output_type": "display_data"
    }
   ],
   "source": [
    "coffee_24_2 = coffee_24.pivot_table(index='district', columns='name', values='rating')\n",
    "plt.figure(figsize=(15,6))\n",
    "plt.title('рейтинг круглосуточных кофеен')\n",
    "sns.heatmap(coffee_24_2, annot=True)\n",
    "plt.show()"
   ]
  },
  {
   "cell_type": "code",
   "execution_count": 115,
   "metadata": {},
   "outputs": [
    {
     "data": {
      "text/plain": [
       "22"
      ]
     },
     "execution_count": 115,
     "metadata": {},
     "output_type": "execute_result"
    }
   ],
   "source": [
    "len(coffee_24['name'].unique())"
   ]
  },
  {
   "cell_type": "code",
   "execution_count": 116,
   "metadata": {},
   "outputs": [
    {
     "data": {
      "text/plain": [
       "4.206779661016949"
      ]
     },
     "execution_count": 116,
     "metadata": {},
     "output_type": "execute_result"
    }
   ],
   "source": [
    "coffee_24['rating'].mean()"
   ]
  },
  {
   "cell_type": "markdown",
   "metadata": {},
   "source": [
    "В среднем рейтинг круглосуточных кофеен 4,2. Рейтинг каждой кофейни находится в диапазоне от 2,3 до 4,9. Есть сети кофеен, которые находятся в нескольких районах: шоколадница, кофемания, кофе хауз, wild bean cafe. Рейтинг сетевой кофейни wild bean cafe зависит от района. У остальных сетевых кофеен рейтинг не сильно отличается по районам. Самый высокий ретинг у кофейни столица."
   ]
  },
  {
   "cell_type": "markdown",
   "metadata": {},
   "source": [
    "### на какую стоимость чашки капучино следует ориентироваться"
   ]
  },
  {
   "cell_type": "code",
   "execution_count": 117,
   "metadata": {},
   "outputs": [
    {
     "data": {
      "text/plain": [
       "170"
      ]
     },
     "execution_count": 117,
     "metadata": {},
     "output_type": "execute_result"
    }
   ],
   "source": [
    "round(coffee['middle_coffee_cup'].median())"
   ]
  },
  {
   "cell_type": "code",
   "execution_count": 118,
   "metadata": {},
   "outputs": [
    {
     "data": {
      "text/plain": [
       "175"
      ]
     },
     "execution_count": 118,
     "metadata": {},
     "output_type": "execute_result"
    }
   ],
   "source": [
    "round(coffee['middle_coffee_cup'].mean())"
   ]
  },
  {
   "cell_type": "markdown",
   "metadata": {},
   "source": [
    "стоит ориентироваться на стоимость чашки капучино от 170 до 175 рублей при открытии, потому что она является средней для всех кофеен. "
   ]
  },
  {
   "cell_type": "code",
   "execution_count": 119,
   "metadata": {},
   "outputs": [
    {
     "data": {
      "text/plain": [
       "86.0"
      ]
     },
     "execution_count": 119,
     "metadata": {},
     "output_type": "execute_result"
    }
   ],
   "source": [
    "coffee[coffee['district']=='Центральный административный округ']['seats'].median()"
   ]
  },
  {
   "cell_type": "code",
   "execution_count": 120,
   "metadata": {},
   "outputs": [
    {
     "data": {
      "text/plain": [
       "113.14678899082568"
      ]
     },
     "execution_count": 120,
     "metadata": {},
     "output_type": "execute_result"
    }
   ],
   "source": [
    "coffee[coffee['district']=='Центральный административный округ']['seats'].mean()"
   ]
  },
  {
   "cell_type": "markdown",
   "metadata": {},
   "source": [
    "следует ориентироваться на количестве мест от 86 до 113"
   ]
  },
  {
   "cell_type": "markdown",
   "metadata": {},
   "source": [
    "## Общий вывод"
   ]
  },
  {
   "cell_type": "markdown",
   "metadata": {},
   "source": [
    "ВЫВОДЫ И РЕКОМЕНДАЦИИ: <br>\n",
    "Кофейни входят в список популярных заведений, поэтому открыть кофейню может быть прибыльно.<br> Лучше открывать кофейню в центральном районе, так как он самый популярный. <br>\n",
    "Не стоит открывать кофейню в юго-восточном районе из-за низких рейтингов<br>\n",
    "Лучше не открывать круглосуточную кофейню, их мало, и они не популярны. Ночью люди предпочитают бары<br>\n",
    "Среди кофеен есть сетевые, с которыми будет сложно конкурировать<br>\n",
    "Стоимость чашки капучино должна быть в среднем от 170 до 175 рублей.<br>\n",
    "Следует ориентироваться на количестве мест от 86 до 113<br>\n",
    "\n",
    "\n",
    "\n"
   ]
  },
  {
   "cell_type": "markdown",
   "metadata": {},
   "source": [
    "Презентация: https://disk.yandex.ru/d/Je7L199jYLUk7Q"
   ]
  }
 ],
 "metadata": {
  "ExecuteTimeLog": [
   {
    "duration": 2010,
    "start_time": "2023-04-13T12:09:27.419Z"
   },
   {
    "duration": 164,
    "start_time": "2023-04-13T12:10:02.422Z"
   },
   {
    "duration": 21,
    "start_time": "2023-04-13T12:10:34.368Z"
   },
   {
    "duration": 19,
    "start_time": "2023-04-13T12:11:08.123Z"
   },
   {
    "duration": 5,
    "start_time": "2023-04-13T12:11:49.955Z"
   },
   {
    "duration": 24,
    "start_time": "2023-04-13T12:22:00.015Z"
   },
   {
    "duration": 12,
    "start_time": "2023-04-13T12:22:12.626Z"
   },
   {
    "duration": 121,
    "start_time": "2023-04-13T12:26:10.650Z"
   },
   {
    "duration": 7,
    "start_time": "2023-04-13T12:26:59.016Z"
   },
   {
    "duration": 9,
    "start_time": "2023-04-13T12:27:06.174Z"
   },
   {
    "duration": 14,
    "start_time": "2023-04-13T12:27:12.798Z"
   },
   {
    "duration": 13,
    "start_time": "2023-04-13T12:27:16.831Z"
   },
   {
    "duration": 13,
    "start_time": "2023-04-13T12:27:22.112Z"
   },
   {
    "duration": 49,
    "start_time": "2023-04-13T12:27:32.053Z"
   },
   {
    "duration": 9,
    "start_time": "2023-04-13T12:27:36.052Z"
   },
   {
    "duration": 7,
    "start_time": "2023-04-13T12:29:21.211Z"
   },
   {
    "duration": 39,
    "start_time": "2023-04-13T12:29:44.542Z"
   },
   {
    "duration": 7,
    "start_time": "2023-04-13T12:30:01.386Z"
   },
   {
    "duration": 820,
    "start_time": "2023-04-13T12:31:46.782Z"
   },
   {
    "duration": 777,
    "start_time": "2023-04-13T12:32:20.621Z"
   },
   {
    "duration": 1037,
    "start_time": "2023-04-13T12:32:33.657Z"
   },
   {
    "duration": 9,
    "start_time": "2023-04-13T12:33:14.797Z"
   },
   {
    "duration": 59,
    "start_time": "2023-04-13T12:34:42.846Z"
   },
   {
    "duration": 62,
    "start_time": "2023-04-13T12:35:02.387Z"
   },
   {
    "duration": 61,
    "start_time": "2023-04-13T12:35:09.702Z"
   },
   {
    "duration": 56,
    "start_time": "2023-04-13T12:38:10.965Z"
   },
   {
    "duration": 21,
    "start_time": "2023-04-13T12:42:18.088Z"
   },
   {
    "duration": 58,
    "start_time": "2023-04-13T12:42:24.379Z"
   },
   {
    "duration": 63,
    "start_time": "2023-04-13T12:42:47.958Z"
   },
   {
    "duration": 10,
    "start_time": "2023-04-13T12:44:48.599Z"
   },
   {
    "duration": 180,
    "start_time": "2023-04-13T12:44:56.353Z"
   },
   {
    "duration": 183,
    "start_time": "2023-04-13T12:45:28.027Z"
   },
   {
    "duration": 207,
    "start_time": "2023-04-13T12:47:21.072Z"
   },
   {
    "duration": 58,
    "start_time": "2023-04-13T12:47:47.148Z"
   },
   {
    "duration": 20,
    "start_time": "2023-04-13T12:48:15.478Z"
   },
   {
    "duration": 77,
    "start_time": "2023-04-13T12:48:21.849Z"
   },
   {
    "duration": 217,
    "start_time": "2023-04-13T12:48:31.695Z"
   },
   {
    "duration": 12,
    "start_time": "2023-04-13T12:56:35.190Z"
   },
   {
    "duration": 10,
    "start_time": "2023-04-13T12:56:59.174Z"
   },
   {
    "duration": 9,
    "start_time": "2023-04-13T12:57:37.527Z"
   },
   {
    "duration": 18,
    "start_time": "2023-04-13T13:18:00.923Z"
   },
   {
    "duration": 7,
    "start_time": "2023-04-13T13:18:58.164Z"
   },
   {
    "duration": 5,
    "start_time": "2023-04-13T13:19:31.768Z"
   },
   {
    "duration": 13,
    "start_time": "2023-04-13T13:21:52.914Z"
   },
   {
    "duration": 5,
    "start_time": "2023-04-13T13:22:04.680Z"
   },
   {
    "duration": 4,
    "start_time": "2023-04-13T13:23:12.916Z"
   },
   {
    "duration": 4,
    "start_time": "2023-04-13T13:23:21.705Z"
   },
   {
    "duration": 4,
    "start_time": "2023-04-13T13:23:41.806Z"
   },
   {
    "duration": 4,
    "start_time": "2023-04-13T13:23:45.093Z"
   },
   {
    "duration": 5,
    "start_time": "2023-04-13T13:24:01.875Z"
   },
   {
    "duration": 252,
    "start_time": "2023-04-13T13:24:39.917Z"
   },
   {
    "duration": 19,
    "start_time": "2023-04-13T13:25:57.536Z"
   },
   {
    "duration": 4,
    "start_time": "2023-04-13T13:26:39.969Z"
   },
   {
    "duration": 18,
    "start_time": "2023-04-13T13:27:02.249Z"
   },
   {
    "duration": 18,
    "start_time": "2023-04-13T13:27:51.683Z"
   },
   {
    "duration": 22,
    "start_time": "2023-04-13T13:28:18.124Z"
   },
   {
    "duration": 734,
    "start_time": "2023-04-13T13:28:54.186Z"
   },
   {
    "duration": 25,
    "start_time": "2023-04-13T13:29:05.384Z"
   },
   {
    "duration": 13,
    "start_time": "2023-04-13T13:30:05.193Z"
   },
   {
    "duration": 14,
    "start_time": "2023-04-13T13:31:01.207Z"
   },
   {
    "duration": 13,
    "start_time": "2023-04-13T13:31:27.133Z"
   },
   {
    "duration": 10,
    "start_time": "2023-04-13T13:31:27.883Z"
   },
   {
    "duration": 1725,
    "start_time": "2023-04-14T13:53:26.027Z"
   },
   {
    "duration": 108,
    "start_time": "2023-04-14T13:53:27.754Z"
   },
   {
    "duration": 22,
    "start_time": "2023-04-14T13:53:27.864Z"
   },
   {
    "duration": 35,
    "start_time": "2023-04-14T13:53:27.889Z"
   },
   {
    "duration": 7,
    "start_time": "2023-04-14T13:53:27.926Z"
   },
   {
    "duration": 34,
    "start_time": "2023-04-14T13:53:27.935Z"
   },
   {
    "duration": 9,
    "start_time": "2023-04-14T13:53:27.971Z"
   },
   {
    "duration": 92,
    "start_time": "2023-04-14T13:53:27.982Z"
   },
   {
    "duration": 18,
    "start_time": "2023-04-14T13:53:28.550Z"
   },
   {
    "duration": 8,
    "start_time": "2023-04-14T13:53:28.747Z"
   },
   {
    "duration": 75,
    "start_time": "2023-04-14T13:53:36.769Z"
   },
   {
    "duration": 17,
    "start_time": "2023-04-14T13:53:43.408Z"
   },
   {
    "duration": 8,
    "start_time": "2023-04-14T13:53:43.917Z"
   },
   {
    "duration": 5,
    "start_time": "2023-04-14T13:53:44.383Z"
   },
   {
    "duration": 5,
    "start_time": "2023-04-14T13:53:45.619Z"
   },
   {
    "duration": 11,
    "start_time": "2023-04-14T13:53:53.569Z"
   },
   {
    "duration": 145,
    "start_time": "2023-04-14T13:53:54.039Z"
   },
   {
    "duration": 881,
    "start_time": "2023-04-14T17:25:28.007Z"
   },
   {
    "duration": 16,
    "start_time": "2023-04-14T17:25:42.262Z"
   },
   {
    "duration": 9,
    "start_time": "2023-04-14T17:32:04.805Z"
   },
   {
    "duration": 12,
    "start_time": "2023-04-14T17:33:05.466Z"
   },
   {
    "duration": 116,
    "start_time": "2023-04-14T17:34:01.214Z"
   },
   {
    "duration": 13,
    "start_time": "2023-04-14T17:34:05.994Z"
   },
   {
    "duration": 14,
    "start_time": "2023-04-14T17:34:29.375Z"
   },
   {
    "duration": 12,
    "start_time": "2023-04-14T17:36:06.538Z"
   },
   {
    "duration": 343,
    "start_time": "2023-04-14T17:36:32.227Z"
   },
   {
    "duration": 51,
    "start_time": "2023-04-14T17:36:58.909Z"
   },
   {
    "duration": 92,
    "start_time": "2023-04-14T17:37:12.654Z"
   },
   {
    "duration": 84,
    "start_time": "2023-04-14T17:37:24.480Z"
   },
   {
    "duration": 19,
    "start_time": "2023-04-14T17:37:27.930Z"
   },
   {
    "duration": 28,
    "start_time": "2023-04-14T17:37:29.979Z"
   },
   {
    "duration": 18,
    "start_time": "2023-04-14T17:38:00.269Z"
   },
   {
    "duration": 23,
    "start_time": "2023-04-14T17:38:27.454Z"
   },
   {
    "duration": 35,
    "start_time": "2023-04-14T17:39:16.975Z"
   },
   {
    "duration": 25,
    "start_time": "2023-04-14T17:39:59.733Z"
   },
   {
    "duration": 14,
    "start_time": "2023-04-14T17:40:27.214Z"
   },
   {
    "duration": 295,
    "start_time": "2023-04-14T17:41:29.031Z"
   },
   {
    "duration": 3,
    "start_time": "2023-04-14T17:41:47.746Z"
   },
   {
    "duration": 13,
    "start_time": "2023-04-14T17:41:54.384Z"
   },
   {
    "duration": 17,
    "start_time": "2023-04-14T17:42:24.264Z"
   },
   {
    "duration": 3,
    "start_time": "2023-04-14T17:42:24.739Z"
   },
   {
    "duration": 9,
    "start_time": "2023-04-14T17:42:25.173Z"
   },
   {
    "duration": 67,
    "start_time": "2023-04-14T17:43:01.092Z"
   },
   {
    "duration": 47,
    "start_time": "2023-04-14T17:43:19.614Z"
   },
   {
    "duration": 71,
    "start_time": "2023-04-14T17:43:36.750Z"
   },
   {
    "duration": 93,
    "start_time": "2023-04-14T17:45:04.890Z"
   },
   {
    "duration": 79,
    "start_time": "2023-04-14T17:45:23.956Z"
   },
   {
    "duration": 75,
    "start_time": "2023-04-14T17:46:09.488Z"
   },
   {
    "duration": 34,
    "start_time": "2023-04-14T17:49:24.282Z"
   },
   {
    "duration": 14,
    "start_time": "2023-04-14T17:49:31.052Z"
   },
   {
    "duration": 18,
    "start_time": "2023-04-14T17:50:33.410Z"
   },
   {
    "duration": 83,
    "start_time": "2023-04-14T17:51:56.487Z"
   },
   {
    "duration": 50,
    "start_time": "2023-04-14T17:52:10.141Z"
   },
   {
    "duration": 59,
    "start_time": "2023-04-14T17:52:21.531Z"
   },
   {
    "duration": 11,
    "start_time": "2023-04-14T17:53:11.720Z"
   },
   {
    "duration": 31,
    "start_time": "2023-04-14T17:53:19.880Z"
   },
   {
    "duration": 10,
    "start_time": "2023-04-14T17:53:51.412Z"
   },
   {
    "duration": 15,
    "start_time": "2023-04-14T17:53:59.853Z"
   },
   {
    "duration": 12,
    "start_time": "2023-04-14T17:54:15.210Z"
   },
   {
    "duration": 17,
    "start_time": "2023-04-14T17:54:25.370Z"
   },
   {
    "duration": 13,
    "start_time": "2023-04-14T17:54:30.172Z"
   },
   {
    "duration": 5,
    "start_time": "2023-04-14T17:58:27.676Z"
   },
   {
    "duration": 17,
    "start_time": "2023-04-14T17:58:33.582Z"
   },
   {
    "duration": 13,
    "start_time": "2023-04-14T17:58:36.140Z"
   },
   {
    "duration": 19,
    "start_time": "2023-04-14T17:59:15.060Z"
   },
   {
    "duration": 11,
    "start_time": "2023-04-14T18:04:17.863Z"
   },
   {
    "duration": 11,
    "start_time": "2023-04-14T18:04:21.720Z"
   },
   {
    "duration": 9,
    "start_time": "2023-04-14T18:04:31.072Z"
   },
   {
    "duration": 18,
    "start_time": "2023-04-14T18:04:34.267Z"
   },
   {
    "duration": 12,
    "start_time": "2023-04-14T18:04:45.926Z"
   },
   {
    "duration": 4,
    "start_time": "2023-04-14T18:05:16.469Z"
   },
   {
    "duration": 4,
    "start_time": "2023-04-14T18:05:30.050Z"
   },
   {
    "duration": 9,
    "start_time": "2023-04-14T18:05:34.127Z"
   },
   {
    "duration": 11,
    "start_time": "2023-04-14T18:06:05.521Z"
   },
   {
    "duration": 88,
    "start_time": "2023-04-14T18:07:11.826Z"
   },
   {
    "duration": 53,
    "start_time": "2023-04-14T18:07:35.642Z"
   },
   {
    "duration": 4,
    "start_time": "2023-04-14T18:07:40.521Z"
   },
   {
    "duration": 66,
    "start_time": "2023-04-14T18:07:41.269Z"
   },
   {
    "duration": 28,
    "start_time": "2023-04-14T18:16:57.929Z"
   },
   {
    "duration": 24,
    "start_time": "2023-04-14T18:17:41.432Z"
   },
   {
    "duration": 21,
    "start_time": "2023-04-14T18:18:51.015Z"
   },
   {
    "duration": 24,
    "start_time": "2023-04-14T18:19:12.886Z"
   },
   {
    "duration": 33,
    "start_time": "2023-04-14T18:19:21.883Z"
   },
   {
    "duration": 6,
    "start_time": "2023-04-14T18:19:45.325Z"
   },
   {
    "duration": 21,
    "start_time": "2023-04-14T18:20:51.039Z"
   },
   {
    "duration": 19,
    "start_time": "2023-04-14T18:21:02.610Z"
   },
   {
    "duration": 20,
    "start_time": "2023-04-14T18:22:07.155Z"
   },
   {
    "duration": 18,
    "start_time": "2023-04-14T18:22:19.833Z"
   },
   {
    "duration": 80,
    "start_time": "2023-04-14T18:25:29.944Z"
   },
   {
    "duration": 27,
    "start_time": "2023-04-14T18:26:14.179Z"
   },
   {
    "duration": 47,
    "start_time": "2023-04-14T18:26:17.012Z"
   },
   {
    "duration": 46,
    "start_time": "2023-04-14T18:26:48.734Z"
   },
   {
    "duration": 12,
    "start_time": "2023-04-14T18:55:10.347Z"
   },
   {
    "duration": 63,
    "start_time": "2023-04-14T18:55:31.393Z"
   },
   {
    "duration": 13,
    "start_time": "2023-04-14T18:55:45.506Z"
   },
   {
    "duration": 57,
    "start_time": "2023-04-14T18:57:09.908Z"
   },
   {
    "duration": 74,
    "start_time": "2023-04-14T18:57:25.200Z"
   },
   {
    "duration": 3,
    "start_time": "2023-04-14T18:57:55.816Z"
   },
   {
    "duration": 5,
    "start_time": "2023-04-14T18:57:59.977Z"
   },
   {
    "duration": 9,
    "start_time": "2023-04-14T18:58:18.674Z"
   },
   {
    "duration": 29,
    "start_time": "2023-04-14T18:58:35.637Z"
   },
   {
    "duration": 8,
    "start_time": "2023-04-14T18:59:32.731Z"
   },
   {
    "duration": 10,
    "start_time": "2023-04-14T19:00:11.481Z"
   },
   {
    "duration": 8,
    "start_time": "2023-04-14T19:00:28.029Z"
   },
   {
    "duration": 9,
    "start_time": "2023-04-14T19:00:30.811Z"
   },
   {
    "duration": 50,
    "start_time": "2023-04-14T19:00:34.415Z"
   },
   {
    "duration": 5,
    "start_time": "2023-04-14T19:00:34.903Z"
   },
   {
    "duration": 10,
    "start_time": "2023-04-14T19:00:35.049Z"
   },
   {
    "duration": 9,
    "start_time": "2023-04-14T19:00:40.396Z"
   },
   {
    "duration": 9,
    "start_time": "2023-04-14T19:00:44.203Z"
   },
   {
    "duration": 9,
    "start_time": "2023-04-14T19:00:49.422Z"
   },
   {
    "duration": 12,
    "start_time": "2023-04-14T19:02:19.461Z"
   },
   {
    "duration": 3,
    "start_time": "2023-04-14T19:02:58.211Z"
   },
   {
    "duration": 13,
    "start_time": "2023-04-14T19:02:58.671Z"
   },
   {
    "duration": 20,
    "start_time": "2023-04-14T19:04:16.930Z"
   },
   {
    "duration": 47,
    "start_time": "2023-04-14T19:04:17.579Z"
   },
   {
    "duration": 2,
    "start_time": "2023-04-14T19:04:21.022Z"
   },
   {
    "duration": 13,
    "start_time": "2023-04-14T19:04:21.581Z"
   },
   {
    "duration": 11,
    "start_time": "2023-04-14T19:05:29.952Z"
   },
   {
    "duration": 5,
    "start_time": "2023-04-14T19:08:13.328Z"
   },
   {
    "duration": 592,
    "start_time": "2023-04-14T19:11:12.742Z"
   },
   {
    "duration": 7,
    "start_time": "2023-04-14T19:21:12.400Z"
   },
   {
    "duration": 18,
    "start_time": "2023-04-14T19:22:53.717Z"
   },
   {
    "duration": 5,
    "start_time": "2023-04-14T19:23:02.300Z"
   },
   {
    "duration": 6,
    "start_time": "2023-04-14T19:23:09.792Z"
   },
   {
    "duration": 15,
    "start_time": "2023-04-14T19:23:14.272Z"
   },
   {
    "duration": 11,
    "start_time": "2023-04-14T19:23:48.117Z"
   },
   {
    "duration": 48,
    "start_time": "2023-04-14T19:23:57.244Z"
   },
   {
    "duration": 49,
    "start_time": "2023-04-14T19:27:22.115Z"
   },
   {
    "duration": 12,
    "start_time": "2023-04-14T19:37:03.541Z"
   },
   {
    "duration": 15,
    "start_time": "2023-04-14T19:37:07.670Z"
   },
   {
    "duration": 195,
    "start_time": "2023-04-14T19:37:27.413Z"
   },
   {
    "duration": 763,
    "start_time": "2023-04-14T19:42:49.916Z"
   },
   {
    "duration": 10747,
    "start_time": "2023-04-14T19:44:23.113Z"
   },
   {
    "duration": 17,
    "start_time": "2023-04-14T19:47:32.493Z"
   },
   {
    "duration": 16,
    "start_time": "2023-04-14T19:48:17.009Z"
   },
   {
    "duration": 15,
    "start_time": "2023-04-14T19:48:19.384Z"
   },
   {
    "duration": 18,
    "start_time": "2023-04-14T19:48:50.828Z"
   },
   {
    "duration": 17,
    "start_time": "2023-04-14T19:49:11.161Z"
   },
   {
    "duration": 918,
    "start_time": "2023-04-14T19:51:51.257Z"
   },
   {
    "duration": 36,
    "start_time": "2023-04-14T19:54:21.143Z"
   },
   {
    "duration": 18,
    "start_time": "2023-04-14T19:54:32.200Z"
   },
   {
    "duration": 787,
    "start_time": "2023-04-14T19:54:32.770Z"
   },
   {
    "duration": 17,
    "start_time": "2023-04-14T20:02:33.410Z"
   },
   {
    "duration": 14,
    "start_time": "2023-04-14T20:02:49.365Z"
   },
   {
    "duration": 18,
    "start_time": "2023-04-14T20:03:33.713Z"
   },
   {
    "duration": 6,
    "start_time": "2023-04-14T20:06:04.506Z"
   },
   {
    "duration": 17477,
    "start_time": "2023-04-14T20:07:20.628Z"
   },
   {
    "duration": 11,
    "start_time": "2023-04-14T20:08:21.366Z"
   },
   {
    "duration": 23,
    "start_time": "2023-04-14T20:11:06.355Z"
   },
   {
    "duration": 1493,
    "start_time": "2023-04-14T20:12:11.888Z"
   },
   {
    "duration": 848,
    "start_time": "2023-04-14T20:13:22.253Z"
   },
   {
    "duration": 29,
    "start_time": "2023-04-14T20:16:56.534Z"
   },
   {
    "duration": 40,
    "start_time": "2023-04-14T20:17:34.386Z"
   },
   {
    "duration": 7,
    "start_time": "2023-04-14T20:18:17.423Z"
   },
   {
    "duration": 857,
    "start_time": "2023-04-14T20:18:18.091Z"
   },
   {
    "duration": 58,
    "start_time": "2023-04-14T20:23:30.313Z"
   },
   {
    "duration": 1004,
    "start_time": "2023-04-14T20:23:47.727Z"
   },
   {
    "duration": 941,
    "start_time": "2023-04-14T20:24:04.214Z"
   },
   {
    "duration": 245,
    "start_time": "2023-04-14T20:25:03.235Z"
   },
   {
    "duration": 30,
    "start_time": "2023-04-14T20:25:24.337Z"
   },
   {
    "duration": 52,
    "start_time": "2023-04-14T20:25:58.156Z"
   },
   {
    "duration": 11393,
    "start_time": "2023-04-14T20:27:34.233Z"
   },
   {
    "duration": 6,
    "start_time": "2023-04-14T20:28:35.754Z"
   },
   {
    "duration": 11185,
    "start_time": "2023-04-14T20:29:34.875Z"
   },
   {
    "duration": 9,
    "start_time": "2023-04-14T20:31:27.441Z"
   },
   {
    "duration": 11080,
    "start_time": "2023-04-14T20:31:45.680Z"
   },
   {
    "duration": 19,
    "start_time": "2023-04-14T20:37:54.977Z"
   },
   {
    "duration": 10043,
    "start_time": "2023-04-14T20:38:04.592Z"
   },
   {
    "duration": 3,
    "start_time": "2023-04-14T20:39:14.405Z"
   },
   {
    "duration": 60,
    "start_time": "2023-04-14T20:39:14.573Z"
   },
   {
    "duration": 15,
    "start_time": "2023-04-14T20:39:14.758Z"
   },
   {
    "duration": 13,
    "start_time": "2023-04-14T20:39:14.972Z"
   },
   {
    "duration": 3,
    "start_time": "2023-04-14T20:39:15.134Z"
   },
   {
    "duration": 25,
    "start_time": "2023-04-14T20:39:15.698Z"
   },
   {
    "duration": 12,
    "start_time": "2023-04-14T20:39:15.893Z"
   },
   {
    "duration": 56,
    "start_time": "2023-04-14T20:39:16.272Z"
   },
   {
    "duration": 18,
    "start_time": "2023-04-14T20:39:17.049Z"
   },
   {
    "duration": 8,
    "start_time": "2023-04-14T20:39:17.985Z"
   },
   {
    "duration": 6,
    "start_time": "2023-04-14T20:39:19.055Z"
   },
   {
    "duration": 6,
    "start_time": "2023-04-14T20:39:20.642Z"
   },
   {
    "duration": 10,
    "start_time": "2023-04-14T20:39:21.123Z"
   },
   {
    "duration": 11,
    "start_time": "2023-04-14T20:39:21.384Z"
   },
   {
    "duration": 18,
    "start_time": "2023-04-14T20:39:21.807Z"
   },
   {
    "duration": 4,
    "start_time": "2023-04-14T20:39:21.977Z"
   },
   {
    "duration": 8,
    "start_time": "2023-04-14T20:39:22.151Z"
   },
   {
    "duration": 53,
    "start_time": "2023-04-14T20:39:22.337Z"
   },
   {
    "duration": 13,
    "start_time": "2023-04-14T20:39:22.728Z"
   },
   {
    "duration": 9,
    "start_time": "2023-04-14T20:39:22.931Z"
   },
   {
    "duration": 11,
    "start_time": "2023-04-14T20:39:23.542Z"
   },
   {
    "duration": 3,
    "start_time": "2023-04-14T20:39:23.943Z"
   },
   {
    "duration": 7,
    "start_time": "2023-04-14T20:39:24.141Z"
   },
   {
    "duration": 45,
    "start_time": "2023-04-14T20:39:24.321Z"
   },
   {
    "duration": 18,
    "start_time": "2023-04-14T20:39:25.020Z"
   },
   {
    "duration": 46,
    "start_time": "2023-04-14T20:39:25.246Z"
   },
   {
    "duration": 3,
    "start_time": "2023-04-14T20:39:25.701Z"
   },
   {
    "duration": 12,
    "start_time": "2023-04-14T20:39:26.383Z"
   },
   {
    "duration": 6,
    "start_time": "2023-04-14T20:39:27.340Z"
   },
   {
    "duration": 505,
    "start_time": "2023-04-14T20:39:28.180Z"
   },
   {
    "duration": 12,
    "start_time": "2023-04-14T20:39:29.305Z"
   },
   {
    "duration": 50,
    "start_time": "2023-04-14T20:39:29.976Z"
   },
   {
    "duration": 13,
    "start_time": "2023-04-14T20:39:31.073Z"
   },
   {
    "duration": 112,
    "start_time": "2023-04-14T20:39:31.855Z"
   },
   {
    "duration": 182,
    "start_time": "2023-04-14T20:39:46.905Z"
   },
   {
    "duration": 11,
    "start_time": "2023-04-14T20:40:17.708Z"
   },
   {
    "duration": 9,
    "start_time": "2023-04-14T20:40:31.620Z"
   },
   {
    "duration": 16,
    "start_time": "2023-04-14T21:01:00.285Z"
   },
   {
    "duration": 7,
    "start_time": "2023-04-14T21:01:24.114Z"
   },
   {
    "duration": 7,
    "start_time": "2023-04-14T21:01:38.023Z"
   },
   {
    "duration": 6,
    "start_time": "2023-04-14T21:04:05.671Z"
   },
   {
    "duration": 11,
    "start_time": "2023-04-14T21:04:15.146Z"
   },
   {
    "duration": 6,
    "start_time": "2023-04-14T21:04:19.540Z"
   },
   {
    "duration": 15,
    "start_time": "2023-04-14T21:04:20.266Z"
   },
   {
    "duration": 4,
    "start_time": "2023-04-14T21:04:26.165Z"
   },
   {
    "duration": 4,
    "start_time": "2023-04-14T21:05:19.592Z"
   },
   {
    "duration": 4,
    "start_time": "2023-04-14T21:05:26.828Z"
   },
   {
    "duration": 295,
    "start_time": "2023-04-14T21:06:53.830Z"
   },
   {
    "duration": 1674,
    "start_time": "2023-04-15T11:06:04.595Z"
   },
   {
    "duration": 113,
    "start_time": "2023-04-15T11:06:06.271Z"
   },
   {
    "duration": 19,
    "start_time": "2023-04-15T11:06:06.385Z"
   },
   {
    "duration": 13,
    "start_time": "2023-04-15T11:06:06.406Z"
   },
   {
    "duration": 4,
    "start_time": "2023-04-15T11:06:06.421Z"
   },
   {
    "duration": 28,
    "start_time": "2023-04-15T11:06:06.426Z"
   },
   {
    "duration": 13,
    "start_time": "2023-04-15T11:06:06.456Z"
   },
   {
    "duration": 57,
    "start_time": "2023-04-15T11:06:06.585Z"
   },
   {
    "duration": 18,
    "start_time": "2023-04-15T11:06:07.381Z"
   },
   {
    "duration": 9,
    "start_time": "2023-04-15T11:06:07.611Z"
   },
   {
    "duration": 6,
    "start_time": "2023-04-15T11:06:07.810Z"
   },
   {
    "duration": 4,
    "start_time": "2023-04-15T11:06:08.212Z"
   },
   {
    "duration": 10,
    "start_time": "2023-04-15T11:06:08.610Z"
   },
   {
    "duration": 159,
    "start_time": "2023-04-15T11:06:08.827Z"
   },
   {
    "duration": 20,
    "start_time": "2023-04-15T11:06:09.229Z"
   },
   {
    "duration": 4,
    "start_time": "2023-04-15T11:06:09.468Z"
   },
   {
    "duration": 9,
    "start_time": "2023-04-15T11:06:09.636Z"
   },
   {
    "duration": 295,
    "start_time": "2023-04-15T11:06:09.862Z"
   },
   {
    "duration": 12,
    "start_time": "2023-04-15T11:06:10.300Z"
   },
   {
    "duration": 9,
    "start_time": "2023-04-15T11:06:10.755Z"
   },
   {
    "duration": 11,
    "start_time": "2023-04-15T11:06:11.676Z"
   },
   {
    "duration": 3,
    "start_time": "2023-04-15T11:06:12.470Z"
   },
   {
    "duration": 4,
    "start_time": "2023-04-15T11:06:12.708Z"
   },
   {
    "duration": 45,
    "start_time": "2023-04-15T11:06:12.910Z"
   },
   {
    "duration": 24,
    "start_time": "2023-04-15T11:06:13.883Z"
   },
   {
    "duration": 46,
    "start_time": "2023-04-15T11:06:14.402Z"
   },
   {
    "duration": 3,
    "start_time": "2023-04-15T11:06:14.822Z"
   },
   {
    "duration": 12,
    "start_time": "2023-04-15T11:06:15.333Z"
   },
   {
    "duration": 5,
    "start_time": "2023-04-15T11:06:16.350Z"
   },
   {
    "duration": 508,
    "start_time": "2023-04-15T11:06:16.816Z"
   },
   {
    "duration": 11,
    "start_time": "2023-04-15T11:06:17.404Z"
   },
   {
    "duration": 51,
    "start_time": "2023-04-15T11:06:17.620Z"
   },
   {
    "duration": 11,
    "start_time": "2023-04-15T11:06:18.285Z"
   },
   {
    "duration": 207,
    "start_time": "2023-04-15T11:06:18.631Z"
   },
   {
    "duration": 9965,
    "start_time": "2023-04-15T11:06:19.589Z"
   },
   {
    "duration": 19,
    "start_time": "2023-04-15T11:06:29.556Z"
   },
   {
    "duration": 795,
    "start_time": "2023-04-15T11:06:29.612Z"
   },
   {
    "duration": 15,
    "start_time": "2023-04-15T11:06:30.409Z"
   },
   {
    "duration": 26,
    "start_time": "2023-04-15T11:06:30.426Z"
   },
   {
    "duration": 27,
    "start_time": "2023-04-15T11:06:30.454Z"
   },
   {
    "duration": 834,
    "start_time": "2023-04-15T11:06:30.483Z"
   },
   {
    "duration": 9498,
    "start_time": "2023-04-15T11:06:31.319Z"
   },
   {
    "duration": 9,
    "start_time": "2023-04-15T11:06:40.819Z"
   },
   {
    "duration": 10,
    "start_time": "2023-04-15T11:06:40.830Z"
   },
   {
    "duration": 6,
    "start_time": "2023-04-15T11:06:40.841Z"
   },
   {
    "duration": 4,
    "start_time": "2023-04-15T11:06:41.255Z"
   },
   {
    "duration": 279,
    "start_time": "2023-04-15T11:06:42.752Z"
   },
   {
    "duration": 270,
    "start_time": "2023-04-15T11:08:11.186Z"
   },
   {
    "duration": 266,
    "start_time": "2023-04-15T11:08:24.539Z"
   },
   {
    "duration": 296,
    "start_time": "2023-04-15T11:08:31.591Z"
   },
   {
    "duration": 307,
    "start_time": "2023-04-15T11:08:39.656Z"
   },
   {
    "duration": 9223,
    "start_time": "2023-04-15T11:24:49.452Z"
   },
   {
    "duration": 169,
    "start_time": "2023-04-15T11:28:20.271Z"
   },
   {
    "duration": 12,
    "start_time": "2023-04-15T11:29:18.432Z"
   },
   {
    "duration": 13,
    "start_time": "2023-04-15T11:29:20.749Z"
   },
   {
    "duration": 13,
    "start_time": "2023-04-15T11:29:27.820Z"
   },
   {
    "duration": 4,
    "start_time": "2023-04-15T11:29:36.717Z"
   },
   {
    "duration": 58,
    "start_time": "2023-04-15T11:29:36.889Z"
   },
   {
    "duration": 15,
    "start_time": "2023-04-15T11:29:37.075Z"
   },
   {
    "duration": 15,
    "start_time": "2023-04-15T11:29:37.270Z"
   },
   {
    "duration": 4,
    "start_time": "2023-04-15T11:29:37.432Z"
   },
   {
    "duration": 16,
    "start_time": "2023-04-15T11:29:37.935Z"
   },
   {
    "duration": 9,
    "start_time": "2023-04-15T11:29:38.103Z"
   },
   {
    "duration": 59,
    "start_time": "2023-04-15T11:29:38.482Z"
   },
   {
    "duration": 18,
    "start_time": "2023-04-15T11:29:39.441Z"
   },
   {
    "duration": 7,
    "start_time": "2023-04-15T11:29:39.605Z"
   },
   {
    "duration": 5,
    "start_time": "2023-04-15T11:29:39.796Z"
   },
   {
    "duration": 5,
    "start_time": "2023-04-15T11:29:40.161Z"
   },
   {
    "duration": 11,
    "start_time": "2023-04-15T11:29:40.610Z"
   },
   {
    "duration": 10,
    "start_time": "2023-04-15T11:29:40.811Z"
   },
   {
    "duration": 13,
    "start_time": "2023-04-15T11:29:57.950Z"
   },
   {
    "duration": 3,
    "start_time": "2023-04-15T11:30:05.225Z"
   },
   {
    "duration": 60,
    "start_time": "2023-04-15T11:30:05.385Z"
   },
   {
    "duration": 16,
    "start_time": "2023-04-15T11:30:05.559Z"
   },
   {
    "duration": 13,
    "start_time": "2023-04-15T11:30:05.738Z"
   },
   {
    "duration": 4,
    "start_time": "2023-04-15T11:30:05.887Z"
   },
   {
    "duration": 16,
    "start_time": "2023-04-15T11:30:06.373Z"
   },
   {
    "duration": 10,
    "start_time": "2023-04-15T11:30:06.551Z"
   },
   {
    "duration": 59,
    "start_time": "2023-04-15T11:30:06.906Z"
   },
   {
    "duration": 18,
    "start_time": "2023-04-15T11:30:07.649Z"
   },
   {
    "duration": 7,
    "start_time": "2023-04-15T11:30:07.831Z"
   },
   {
    "duration": 5,
    "start_time": "2023-04-15T11:30:08.038Z"
   },
   {
    "duration": 4,
    "start_time": "2023-04-15T11:30:08.404Z"
   },
   {
    "duration": 10,
    "start_time": "2023-04-15T11:30:08.778Z"
   },
   {
    "duration": 13,
    "start_time": "2023-04-15T11:30:08.987Z"
   },
   {
    "duration": 22,
    "start_time": "2023-04-15T11:30:09.793Z"
   },
   {
    "duration": 4,
    "start_time": "2023-04-15T11:30:09.994Z"
   },
   {
    "duration": 8,
    "start_time": "2023-04-15T11:30:10.196Z"
   },
   {
    "duration": 45,
    "start_time": "2023-04-15T11:30:10.382Z"
   },
   {
    "duration": 13,
    "start_time": "2023-04-15T11:30:10.784Z"
   },
   {
    "duration": 10,
    "start_time": "2023-04-15T11:30:11.053Z"
   },
   {
    "duration": 13,
    "start_time": "2023-04-15T11:30:11.387Z"
   },
   {
    "duration": 3,
    "start_time": "2023-04-15T11:30:11.567Z"
   },
   {
    "duration": 4,
    "start_time": "2023-04-15T11:30:11.692Z"
   },
   {
    "duration": 51,
    "start_time": "2023-04-15T11:30:11.872Z"
   },
   {
    "duration": 20,
    "start_time": "2023-04-15T11:30:12.218Z"
   },
   {
    "duration": 49,
    "start_time": "2023-04-15T11:30:12.337Z"
   },
   {
    "duration": 2,
    "start_time": "2023-04-15T11:30:12.591Z"
   },
   {
    "duration": 14,
    "start_time": "2023-04-15T11:30:12.678Z"
   },
   {
    "duration": 5,
    "start_time": "2023-04-15T11:30:12.971Z"
   },
   {
    "duration": 495,
    "start_time": "2023-04-15T11:30:13.310Z"
   },
   {
    "duration": 10,
    "start_time": "2023-04-15T11:30:13.811Z"
   },
   {
    "duration": 369,
    "start_time": "2023-04-15T11:30:13.827Z"
   },
   {
    "duration": 22,
    "start_time": "2023-04-15T11:30:14.198Z"
   },
   {
    "duration": 117,
    "start_time": "2023-04-15T11:30:14.355Z"
   },
   {
    "duration": 10251,
    "start_time": "2023-04-15T11:30:14.686Z"
   },
   {
    "duration": 16,
    "start_time": "2023-04-15T11:30:24.941Z"
   },
   {
    "duration": 770,
    "start_time": "2023-04-15T11:30:24.959Z"
   },
   {
    "duration": 16,
    "start_time": "2023-04-15T11:30:25.731Z"
   },
   {
    "duration": 6,
    "start_time": "2023-04-15T11:30:25.748Z"
   },
   {
    "duration": 27,
    "start_time": "2023-04-15T11:30:25.756Z"
   },
   {
    "duration": 851,
    "start_time": "2023-04-15T11:30:25.785Z"
   },
   {
    "duration": 9676,
    "start_time": "2023-04-15T11:30:26.638Z"
   },
   {
    "duration": 11,
    "start_time": "2023-04-15T11:30:36.316Z"
   },
   {
    "duration": 12,
    "start_time": "2023-04-15T11:30:36.329Z"
   },
   {
    "duration": 13,
    "start_time": "2023-04-15T11:30:36.343Z"
   },
   {
    "duration": 54,
    "start_time": "2023-04-15T11:30:36.357Z"
   },
   {
    "duration": 401,
    "start_time": "2023-04-15T11:30:36.413Z"
   },
   {
    "duration": 9146,
    "start_time": "2023-04-15T11:30:36.816Z"
   },
   {
    "duration": 22,
    "start_time": "2023-04-15T11:35:52.229Z"
   },
   {
    "duration": 5,
    "start_time": "2023-04-15T11:36:04.478Z"
   },
   {
    "duration": 5,
    "start_time": "2023-04-15T11:36:30.247Z"
   },
   {
    "duration": 329,
    "start_time": "2023-04-15T11:37:18.533Z"
   },
   {
    "duration": 46,
    "start_time": "2023-04-15T11:37:54.199Z"
   },
   {
    "duration": 3,
    "start_time": "2023-04-15T11:40:00.762Z"
   },
   {
    "duration": 7,
    "start_time": "2023-04-15T11:40:22.660Z"
   },
   {
    "duration": 150,
    "start_time": "2023-04-15T11:41:31.798Z"
   },
   {
    "duration": 1288,
    "start_time": "2023-04-15T11:42:58.427Z"
   },
   {
    "duration": 830,
    "start_time": "2023-04-15T11:43:27.517Z"
   },
   {
    "duration": 832,
    "start_time": "2023-04-15T11:43:59.661Z"
   },
   {
    "duration": 5,
    "start_time": "2023-04-15T11:44:18.455Z"
   },
   {
    "duration": 4,
    "start_time": "2023-04-15T11:44:26.900Z"
   },
   {
    "duration": 5,
    "start_time": "2023-04-15T11:45:56.898Z"
   },
   {
    "duration": 12,
    "start_time": "2023-04-15T11:55:37.198Z"
   },
   {
    "duration": 6,
    "start_time": "2023-04-15T11:55:44.797Z"
   },
   {
    "duration": 5,
    "start_time": "2023-04-15T11:55:45.361Z"
   },
   {
    "duration": 180,
    "start_time": "2023-04-15T12:08:26.272Z"
   },
   {
    "duration": 7,
    "start_time": "2023-04-15T12:09:11.216Z"
   },
   {
    "duration": 6,
    "start_time": "2023-04-15T12:09:26.929Z"
   },
   {
    "duration": 827,
    "start_time": "2023-04-15T12:11:37.919Z"
   },
   {
    "duration": 684,
    "start_time": "2023-04-15T12:11:41.820Z"
   },
   {
    "duration": 747,
    "start_time": "2023-04-15T12:12:04.079Z"
   },
   {
    "duration": 331,
    "start_time": "2023-04-15T12:14:23.158Z"
   },
   {
    "duration": 333,
    "start_time": "2023-04-15T12:14:53.303Z"
   },
   {
    "duration": 13,
    "start_time": "2023-04-15T12:15:55.533Z"
   },
   {
    "duration": 7,
    "start_time": "2023-04-15T12:15:59.901Z"
   },
   {
    "duration": 12,
    "start_time": "2023-04-15T12:35:04.424Z"
   },
   {
    "duration": 6,
    "start_time": "2023-04-15T12:35:08.469Z"
   },
   {
    "duration": 5,
    "start_time": "2023-04-15T12:35:11.273Z"
   },
   {
    "duration": 5,
    "start_time": "2023-04-15T12:35:14.076Z"
   },
   {
    "duration": 25,
    "start_time": "2023-04-15T12:38:09.384Z"
   },
   {
    "duration": 13,
    "start_time": "2023-04-15T12:38:30.417Z"
   },
   {
    "duration": 16,
    "start_time": "2023-04-15T12:40:09.002Z"
   },
   {
    "duration": 12,
    "start_time": "2023-04-15T12:41:33.806Z"
   },
   {
    "duration": 1676,
    "start_time": "2023-04-16T10:47:32.319Z"
   },
   {
    "duration": 106,
    "start_time": "2023-04-16T10:47:33.997Z"
   },
   {
    "duration": 19,
    "start_time": "2023-04-16T10:47:34.105Z"
   },
   {
    "duration": 20,
    "start_time": "2023-04-16T10:47:34.127Z"
   },
   {
    "duration": 3,
    "start_time": "2023-04-16T10:47:34.149Z"
   },
   {
    "duration": 42,
    "start_time": "2023-04-16T10:47:34.154Z"
   },
   {
    "duration": 9,
    "start_time": "2023-04-16T10:47:34.199Z"
   },
   {
    "duration": 93,
    "start_time": "2023-04-16T10:47:34.305Z"
   },
   {
    "duration": 7,
    "start_time": "2023-04-16T10:47:34.447Z"
   },
   {
    "duration": 17,
    "start_time": "2023-04-16T10:47:34.804Z"
   },
   {
    "duration": 11,
    "start_time": "2023-04-16T10:47:35.016Z"
   },
   {
    "duration": 6,
    "start_time": "2023-04-16T10:47:35.214Z"
   },
   {
    "duration": 6,
    "start_time": "2023-04-16T10:47:35.551Z"
   },
   {
    "duration": 11,
    "start_time": "2023-04-16T10:47:35.923Z"
   },
   {
    "duration": 157,
    "start_time": "2023-04-16T10:47:36.131Z"
   },
   {
    "duration": 18,
    "start_time": "2023-04-16T10:47:37.602Z"
   },
   {
    "duration": 8,
    "start_time": "2023-04-16T10:47:37.621Z"
   },
   {
    "duration": 17,
    "start_time": "2023-04-16T10:47:37.630Z"
   },
   {
    "duration": 286,
    "start_time": "2023-04-16T10:47:37.648Z"
   },
   {
    "duration": 12,
    "start_time": "2023-04-16T10:47:37.936Z"
   },
   {
    "duration": 8,
    "start_time": "2023-04-16T10:47:37.950Z"
   },
   {
    "duration": 10,
    "start_time": "2023-04-16T10:47:38.001Z"
   },
   {
    "duration": 3,
    "start_time": "2023-04-16T10:47:38.212Z"
   },
   {
    "duration": 4,
    "start_time": "2023-04-16T10:47:38.403Z"
   },
   {
    "duration": 48,
    "start_time": "2023-04-16T10:47:38.595Z"
   },
   {
    "duration": 19,
    "start_time": "2023-04-16T10:47:39.002Z"
   },
   {
    "duration": 43,
    "start_time": "2023-04-16T10:47:39.202Z"
   },
   {
    "duration": 3,
    "start_time": "2023-04-16T10:47:39.402Z"
   },
   {
    "duration": 12,
    "start_time": "2023-04-16T10:47:39.542Z"
   },
   {
    "duration": 6,
    "start_time": "2023-04-16T10:47:39.915Z"
   },
   {
    "duration": 517,
    "start_time": "2023-04-16T10:47:40.289Z"
   },
   {
    "duration": 11,
    "start_time": "2023-04-16T10:47:40.808Z"
   },
   {
    "duration": 46,
    "start_time": "2023-04-16T10:47:40.902Z"
   },
   {
    "duration": 11,
    "start_time": "2023-04-16T10:47:41.206Z"
   },
   {
    "duration": 200,
    "start_time": "2023-04-16T10:47:41.547Z"
   },
   {
    "duration": 9201,
    "start_time": "2023-04-16T10:47:42.002Z"
   },
   {
    "duration": 13,
    "start_time": "2023-04-16T10:47:51.206Z"
   },
   {
    "duration": 724,
    "start_time": "2023-04-16T10:47:51.221Z"
   },
   {
    "duration": 13,
    "start_time": "2023-04-16T10:47:51.947Z"
   },
   {
    "duration": 4,
    "start_time": "2023-04-16T10:47:51.962Z"
   },
   {
    "duration": 28,
    "start_time": "2023-04-16T10:47:51.969Z"
   },
   {
    "duration": 816,
    "start_time": "2023-04-16T10:47:51.998Z"
   },
   {
    "duration": 8835,
    "start_time": "2023-04-16T10:47:52.815Z"
   },
   {
    "duration": 10,
    "start_time": "2023-04-16T10:48:01.653Z"
   },
   {
    "duration": 14,
    "start_time": "2023-04-16T10:48:01.696Z"
   },
   {
    "duration": 48,
    "start_time": "2023-04-16T10:48:01.712Z"
   },
   {
    "duration": 52,
    "start_time": "2023-04-16T10:48:01.761Z"
   },
   {
    "duration": 305,
    "start_time": "2023-04-16T10:48:01.815Z"
   },
   {
    "duration": 8628,
    "start_time": "2023-04-16T10:48:02.122Z"
   },
   {
    "duration": 5,
    "start_time": "2023-04-16T10:48:10.752Z"
   },
   {
    "duration": 530,
    "start_time": "2023-04-16T10:48:10.759Z"
   },
   {
    "duration": 4,
    "start_time": "2023-04-16T10:48:11.293Z"
   },
   {
    "duration": 761,
    "start_time": "2023-04-16T10:48:11.299Z"
   },
   {
    "duration": 5,
    "start_time": "2023-04-16T10:48:12.062Z"
   },
   {
    "duration": 10,
    "start_time": "2023-04-16T10:48:12.069Z"
   },
   {
    "duration": 5,
    "start_time": "2023-04-16T10:48:12.081Z"
   },
   {
    "duration": 7,
    "start_time": "2023-04-16T10:48:12.088Z"
   },
   {
    "duration": 5,
    "start_time": "2023-04-16T10:48:12.097Z"
   },
   {
    "duration": 8,
    "start_time": "2023-04-16T10:48:12.104Z"
   },
   {
    "duration": 104,
    "start_time": "2023-04-16T10:49:31.101Z"
   },
   {
    "duration": 13,
    "start_time": "2023-04-16T10:50:09.804Z"
   },
   {
    "duration": 811,
    "start_time": "2023-04-16T10:50:10.403Z"
   },
   {
    "duration": 1599,
    "start_time": "2023-04-16T21:39:12.264Z"
   },
   {
    "duration": 243,
    "start_time": "2023-04-16T21:39:13.865Z"
   },
   {
    "duration": 17,
    "start_time": "2023-04-16T21:39:14.110Z"
   },
   {
    "duration": 14,
    "start_time": "2023-04-16T21:39:14.129Z"
   },
   {
    "duration": 4,
    "start_time": "2023-04-16T21:39:14.144Z"
   },
   {
    "duration": 15,
    "start_time": "2023-04-16T21:39:14.162Z"
   },
   {
    "duration": 8,
    "start_time": "2023-04-16T21:39:14.354Z"
   },
   {
    "duration": 46,
    "start_time": "2023-04-16T21:39:14.703Z"
   },
   {
    "duration": 6,
    "start_time": "2023-04-16T21:39:14.851Z"
   },
   {
    "duration": 19,
    "start_time": "2023-04-16T21:39:16.203Z"
   },
   {
    "duration": 7,
    "start_time": "2023-04-16T21:39:16.817Z"
   },
   {
    "duration": 6,
    "start_time": "2023-04-16T21:39:17.291Z"
   },
   {
    "duration": 5,
    "start_time": "2023-04-16T21:39:18.328Z"
   },
   {
    "duration": 9,
    "start_time": "2023-04-16T21:39:19.339Z"
   },
   {
    "duration": 161,
    "start_time": "2023-04-16T21:39:19.950Z"
   },
   {
    "duration": 21,
    "start_time": "2023-04-16T21:39:34.412Z"
   },
   {
    "duration": 5,
    "start_time": "2023-04-16T21:39:34.806Z"
   },
   {
    "duration": 10,
    "start_time": "2023-04-16T21:39:35.131Z"
   },
   {
    "duration": 269,
    "start_time": "2023-04-16T21:39:35.829Z"
   },
   {
    "duration": 14,
    "start_time": "2023-04-16T21:39:37.294Z"
   },
   {
    "duration": 12,
    "start_time": "2023-04-16T21:39:38.114Z"
   },
   {
    "duration": 12,
    "start_time": "2023-04-16T21:39:39.192Z"
   },
   {
    "duration": 3,
    "start_time": "2023-04-16T21:39:39.870Z"
   },
   {
    "duration": 3,
    "start_time": "2023-04-16T21:39:40.099Z"
   },
   {
    "duration": 48,
    "start_time": "2023-04-16T21:39:41.233Z"
   },
   {
    "duration": 24,
    "start_time": "2023-04-16T21:39:55.092Z"
   },
   {
    "duration": 44,
    "start_time": "2023-04-16T21:39:55.849Z"
   },
   {
    "duration": 3,
    "start_time": "2023-04-16T21:39:56.944Z"
   },
   {
    "duration": 16,
    "start_time": "2023-04-16T21:40:09.329Z"
   },
   {
    "duration": 7,
    "start_time": "2023-04-16T21:40:10.836Z"
   },
   {
    "duration": 473,
    "start_time": "2023-04-16T21:40:11.993Z"
   },
   {
    "duration": 12,
    "start_time": "2023-04-16T21:40:16.255Z"
   },
   {
    "duration": 48,
    "start_time": "2023-04-16T21:40:20.571Z"
   },
   {
    "duration": 12,
    "start_time": "2023-04-16T21:40:23.519Z"
   },
   {
    "duration": 182,
    "start_time": "2023-04-16T21:40:24.313Z"
   },
   {
    "duration": 8507,
    "start_time": "2023-04-16T21:40:50.885Z"
   },
   {
    "duration": 13,
    "start_time": "2023-04-16T21:40:59.394Z"
   },
   {
    "duration": 718,
    "start_time": "2023-04-16T21:40:59.408Z"
   },
   {
    "duration": 12,
    "start_time": "2023-04-16T21:41:00.128Z"
   },
   {
    "duration": 10,
    "start_time": "2023-04-16T21:41:00.142Z"
   },
   {
    "duration": 17,
    "start_time": "2023-04-16T21:41:00.155Z"
   },
   {
    "duration": 773,
    "start_time": "2023-04-16T21:41:00.174Z"
   },
   {
    "duration": 7960,
    "start_time": "2023-04-16T21:41:10.352Z"
   },
   {
    "duration": 207,
    "start_time": "2023-04-16T21:44:17.451Z"
   },
   {
    "duration": 6,
    "start_time": "2023-04-16T21:44:40.055Z"
   },
   {
    "duration": 5,
    "start_time": "2023-04-16T21:44:40.298Z"
   },
   {
    "duration": 4,
    "start_time": "2023-04-16T21:44:40.654Z"
   },
   {
    "duration": 309,
    "start_time": "2023-04-16T21:44:41.000Z"
   },
   {
    "duration": 7999,
    "start_time": "2023-04-16T21:44:41.343Z"
   },
   {
    "duration": 23,
    "start_time": "2023-04-16T22:24:03.566Z"
   },
   {
    "duration": 1510,
    "start_time": "2023-04-16T22:57:17.058Z"
   },
   {
    "duration": 78,
    "start_time": "2023-04-16T22:57:18.570Z"
   },
   {
    "duration": 19,
    "start_time": "2023-04-16T22:57:18.649Z"
   },
   {
    "duration": 29,
    "start_time": "2023-04-16T22:57:18.670Z"
   },
   {
    "duration": 38,
    "start_time": "2023-04-16T22:57:18.701Z"
   },
   {
    "duration": 18,
    "start_time": "2023-04-16T22:57:18.741Z"
   },
   {
    "duration": 8,
    "start_time": "2023-04-16T22:57:18.760Z"
   },
   {
    "duration": 74,
    "start_time": "2023-04-16T22:57:18.770Z"
   },
   {
    "duration": 5,
    "start_time": "2023-04-16T22:57:18.846Z"
   },
   {
    "duration": 23,
    "start_time": "2023-04-16T22:57:18.854Z"
   },
   {
    "duration": 23,
    "start_time": "2023-04-16T22:57:18.885Z"
   },
   {
    "duration": 9,
    "start_time": "2023-04-16T22:57:18.909Z"
   },
   {
    "duration": 21,
    "start_time": "2023-04-16T22:57:18.919Z"
   },
   {
    "duration": 11,
    "start_time": "2023-04-16T22:57:18.941Z"
   },
   {
    "duration": 674,
    "start_time": "2023-04-16T22:57:18.954Z"
   },
   {
    "duration": 50,
    "start_time": "2023-04-16T22:57:19.629Z"
   },
   {
    "duration": 8,
    "start_time": "2023-04-16T22:57:19.681Z"
   },
   {
    "duration": 17,
    "start_time": "2023-04-16T22:57:19.691Z"
   },
   {
    "duration": 343,
    "start_time": "2023-04-16T22:57:19.709Z"
   },
   {
    "duration": 34,
    "start_time": "2023-04-16T22:57:20.054Z"
   },
   {
    "duration": 13,
    "start_time": "2023-04-16T22:57:20.091Z"
   },
   {
    "duration": 17,
    "start_time": "2023-04-16T22:57:20.105Z"
   },
   {
    "duration": 3,
    "start_time": "2023-04-16T22:57:20.124Z"
   },
   {
    "duration": 6,
    "start_time": "2023-04-16T22:57:20.129Z"
   },
   {
    "duration": 60,
    "start_time": "2023-04-16T22:57:20.136Z"
   },
   {
    "duration": 19,
    "start_time": "2023-04-16T22:57:20.197Z"
   },
   {
    "duration": 68,
    "start_time": "2023-04-16T22:57:20.218Z"
   },
   {
    "duration": 7,
    "start_time": "2023-04-16T22:57:20.290Z"
   },
   {
    "duration": 16,
    "start_time": "2023-04-16T22:57:20.298Z"
   },
   {
    "duration": 6,
    "start_time": "2023-04-16T22:57:20.315Z"
   },
   {
    "duration": 477,
    "start_time": "2023-04-16T22:57:20.322Z"
   },
   {
    "duration": 11,
    "start_time": "2023-04-16T22:57:20.800Z"
   },
   {
    "duration": 76,
    "start_time": "2023-04-16T22:57:20.813Z"
   },
   {
    "duration": 10,
    "start_time": "2023-04-16T22:57:20.891Z"
   },
   {
    "duration": 125,
    "start_time": "2023-04-16T22:57:20.903Z"
   },
   {
    "duration": 9596,
    "start_time": "2023-04-16T22:57:21.029Z"
   },
   {
    "duration": 15,
    "start_time": "2023-04-16T22:57:30.628Z"
   },
   {
    "duration": 865,
    "start_time": "2023-04-16T22:57:30.674Z"
   },
   {
    "duration": 15,
    "start_time": "2023-04-16T22:57:31.541Z"
   },
   {
    "duration": 27,
    "start_time": "2023-04-16T22:57:31.571Z"
   },
   {
    "duration": 63,
    "start_time": "2023-04-16T22:57:31.600Z"
   },
   {
    "duration": 767,
    "start_time": "2023-04-16T22:57:31.665Z"
   },
   {
    "duration": 9049,
    "start_time": "2023-04-16T22:57:32.434Z"
   },
   {
    "duration": 9,
    "start_time": "2023-04-16T22:57:41.489Z"
   },
   {
    "duration": 4,
    "start_time": "2023-04-16T22:57:41.500Z"
   },
   {
    "duration": 5,
    "start_time": "2023-04-16T22:57:41.507Z"
   },
   {
    "duration": 6,
    "start_time": "2023-04-16T22:57:41.514Z"
   },
   {
    "duration": 502,
    "start_time": "2023-04-16T22:57:41.522Z"
   },
   {
    "duration": 8764,
    "start_time": "2023-04-16T22:57:42.025Z"
   },
   {
    "duration": 9,
    "start_time": "2023-04-16T22:57:50.791Z"
   },
   {
    "duration": 10,
    "start_time": "2023-04-16T22:57:50.802Z"
   },
   {
    "duration": 533,
    "start_time": "2023-04-16T22:57:50.814Z"
   },
   {
    "duration": 5,
    "start_time": "2023-04-16T22:57:51.349Z"
   },
   {
    "duration": 733,
    "start_time": "2023-04-16T22:57:51.356Z"
   },
   {
    "duration": 5,
    "start_time": "2023-04-16T22:57:52.091Z"
   },
   {
    "duration": 23,
    "start_time": "2023-04-16T22:57:52.098Z"
   },
   {
    "duration": 12,
    "start_time": "2023-04-16T22:57:52.122Z"
   },
   {
    "duration": 7,
    "start_time": "2023-04-16T22:57:52.135Z"
   },
   {
    "duration": 6,
    "start_time": "2023-04-16T22:57:52.143Z"
   },
   {
    "duration": 8,
    "start_time": "2023-04-16T22:57:52.151Z"
   },
   {
    "duration": 1733,
    "start_time": "2023-04-17T21:21:51.896Z"
   },
   {
    "duration": 612,
    "start_time": "2023-04-17T21:21:53.631Z"
   },
   {
    "duration": 24,
    "start_time": "2023-04-17T21:21:54.246Z"
   },
   {
    "duration": 17,
    "start_time": "2023-04-17T21:21:54.273Z"
   },
   {
    "duration": 4,
    "start_time": "2023-04-17T21:21:54.292Z"
   },
   {
    "duration": 24,
    "start_time": "2023-04-17T21:21:54.298Z"
   },
   {
    "duration": 41,
    "start_time": "2023-04-17T21:21:54.324Z"
   },
   {
    "duration": 55,
    "start_time": "2023-04-17T21:21:54.456Z"
   },
   {
    "duration": 5,
    "start_time": "2023-04-17T21:21:54.683Z"
   },
   {
    "duration": 19,
    "start_time": "2023-04-17T21:21:55.072Z"
   },
   {
    "duration": 8,
    "start_time": "2023-04-17T21:21:58.801Z"
   },
   {
    "duration": 7,
    "start_time": "2023-04-17T21:21:59.386Z"
   },
   {
    "duration": 7,
    "start_time": "2023-04-17T21:22:17.049Z"
   },
   {
    "duration": 12,
    "start_time": "2023-04-17T21:22:17.901Z"
   },
   {
    "duration": 188,
    "start_time": "2023-04-17T21:22:18.397Z"
   },
   {
    "duration": 21,
    "start_time": "2023-04-17T21:25:01.843Z"
   },
   {
    "duration": 4,
    "start_time": "2023-04-17T21:25:02.193Z"
   },
   {
    "duration": 11,
    "start_time": "2023-04-17T21:25:02.426Z"
   },
   {
    "duration": 318,
    "start_time": "2023-04-17T21:25:02.649Z"
   },
   {
    "duration": 51,
    "start_time": "2023-04-17T21:25:41.309Z"
   },
   {
    "duration": 11,
    "start_time": "2023-04-17T21:26:11.175Z"
   },
   {
    "duration": 10,
    "start_time": "2023-04-17T21:26:11.907Z"
   },
   {
    "duration": 12,
    "start_time": "2023-04-17T21:26:15.286Z"
   },
   {
    "duration": 2,
    "start_time": "2023-04-17T21:26:15.907Z"
   },
   {
    "duration": 4,
    "start_time": "2023-04-17T21:26:16.656Z"
   },
   {
    "duration": 45,
    "start_time": "2023-04-17T21:26:18.701Z"
   },
   {
    "duration": 12,
    "start_time": "2023-04-17T21:27:56.705Z"
   },
   {
    "duration": 3,
    "start_time": "2023-04-17T21:27:57.307Z"
   },
   {
    "duration": 4,
    "start_time": "2023-04-17T21:27:57.813Z"
   },
   {
    "duration": 53,
    "start_time": "2023-04-17T21:27:58.449Z"
   },
   {
    "duration": 7,
    "start_time": "2023-04-17T21:34:29.913Z"
   },
   {
    "duration": 12,
    "start_time": "2023-04-17T21:34:37.146Z"
   },
   {
    "duration": 7,
    "start_time": "2023-04-17T21:36:01.833Z"
   },
   {
    "duration": 5,
    "start_time": "2023-04-17T21:37:02.651Z"
   },
   {
    "duration": 3,
    "start_time": "2023-04-17T21:38:14.120Z"
   },
   {
    "duration": 9,
    "start_time": "2023-04-17T21:38:21.176Z"
   },
   {
    "duration": 4,
    "start_time": "2023-04-17T21:39:06.008Z"
   },
   {
    "duration": 11,
    "start_time": "2023-04-17T21:39:15.868Z"
   },
   {
    "duration": 16,
    "start_time": "2023-04-17T21:40:03.671Z"
   },
   {
    "duration": 47,
    "start_time": "2023-04-17T21:40:05.305Z"
   },
   {
    "duration": 42,
    "start_time": "2023-04-17T21:41:36.247Z"
   },
   {
    "duration": 11,
    "start_time": "2023-04-17T21:41:48.777Z"
   },
   {
    "duration": 49,
    "start_time": "2023-04-17T21:41:57.632Z"
   },
   {
    "duration": 48,
    "start_time": "2023-04-17T21:46:00.147Z"
   },
   {
    "duration": 11,
    "start_time": "2023-04-17T21:46:29.968Z"
   },
   {
    "duration": 11,
    "start_time": "2023-04-17T21:46:30.679Z"
   },
   {
    "duration": 52,
    "start_time": "2023-04-17T21:46:31.719Z"
   },
   {
    "duration": 9,
    "start_time": "2023-04-17T21:52:52.141Z"
   },
   {
    "duration": 6,
    "start_time": "2023-04-17T21:53:03.749Z"
   },
   {
    "duration": 7,
    "start_time": "2023-04-17T21:53:15.168Z"
   },
   {
    "duration": 5,
    "start_time": "2023-04-17T21:53:26.569Z"
   },
   {
    "duration": 4,
    "start_time": "2023-04-17T21:53:40.477Z"
   },
   {
    "duration": 5,
    "start_time": "2023-04-17T21:53:49.169Z"
   },
   {
    "duration": 4,
    "start_time": "2023-04-17T21:53:58.981Z"
   },
   {
    "duration": 7,
    "start_time": "2023-04-17T21:55:08.575Z"
   },
   {
    "duration": 3,
    "start_time": "2023-04-17T21:55:08.983Z"
   },
   {
    "duration": 3,
    "start_time": "2023-04-17T21:55:09.453Z"
   },
   {
    "duration": 4,
    "start_time": "2023-04-17T21:55:17.562Z"
   },
   {
    "duration": 67,
    "start_time": "2023-04-17T21:55:17.768Z"
   },
   {
    "duration": 16,
    "start_time": "2023-04-17T21:55:17.990Z"
   },
   {
    "duration": 12,
    "start_time": "2023-04-17T21:55:18.159Z"
   },
   {
    "duration": 4,
    "start_time": "2023-04-17T21:55:18.371Z"
   },
   {
    "duration": 17,
    "start_time": "2023-04-17T21:55:19.085Z"
   },
   {
    "duration": 9,
    "start_time": "2023-04-17T21:55:19.289Z"
   },
   {
    "duration": 55,
    "start_time": "2023-04-17T21:55:19.914Z"
   },
   {
    "duration": 6,
    "start_time": "2023-04-17T21:55:20.112Z"
   },
   {
    "duration": 18,
    "start_time": "2023-04-17T21:55:20.999Z"
   },
   {
    "duration": 7,
    "start_time": "2023-04-17T21:55:23.188Z"
   },
   {
    "duration": 5,
    "start_time": "2023-04-17T21:55:23.718Z"
   },
   {
    "duration": 7,
    "start_time": "2023-04-17T21:55:24.320Z"
   },
   {
    "duration": 4,
    "start_time": "2023-04-17T21:55:24.914Z"
   },
   {
    "duration": 4,
    "start_time": "2023-04-17T21:55:25.661Z"
   },
   {
    "duration": 5,
    "start_time": "2023-04-17T22:00:20.382Z"
   },
   {
    "duration": 8,
    "start_time": "2023-04-17T22:00:50.299Z"
   },
   {
    "duration": 9,
    "start_time": "2023-04-17T22:00:59.023Z"
   },
   {
    "duration": 148,
    "start_time": "2023-04-17T22:07:21.079Z"
   },
   {
    "duration": 7,
    "start_time": "2023-04-17T22:07:25.003Z"
   },
   {
    "duration": 4,
    "start_time": "2023-04-17T22:07:25.509Z"
   },
   {
    "duration": 5,
    "start_time": "2023-04-17T22:07:26.351Z"
   },
   {
    "duration": 13,
    "start_time": "2023-04-17T22:07:26.672Z"
   },
   {
    "duration": 172,
    "start_time": "2023-04-17T22:07:32.851Z"
   },
   {
    "duration": 30,
    "start_time": "2023-04-17T22:07:53.922Z"
   },
   {
    "duration": 195,
    "start_time": "2023-04-17T22:08:42.858Z"
   },
   {
    "duration": 5,
    "start_time": "2023-04-17T22:08:48.959Z"
   },
   {
    "duration": 4,
    "start_time": "2023-04-17T22:08:49.169Z"
   },
   {
    "duration": 26,
    "start_time": "2023-04-17T22:08:49.389Z"
   },
   {
    "duration": 4,
    "start_time": "2023-04-17T22:08:49.944Z"
   },
   {
    "duration": 170,
    "start_time": "2023-04-17T22:08:51.210Z"
   },
   {
    "duration": 326,
    "start_time": "2023-04-17T22:08:57.517Z"
   },
   {
    "duration": 15,
    "start_time": "2023-04-17T22:11:49.070Z"
   },
   {
    "duration": 15,
    "start_time": "2023-04-17T22:13:09.677Z"
   },
   {
    "duration": 15,
    "start_time": "2023-04-17T22:13:16.010Z"
   },
   {
    "duration": 404,
    "start_time": "2023-04-17T22:13:47.718Z"
   },
   {
    "duration": 326,
    "start_time": "2023-04-17T22:13:53.457Z"
   },
   {
    "duration": 314,
    "start_time": "2023-04-17T22:14:16.869Z"
   },
   {
    "duration": 5,
    "start_time": "2023-04-17T22:14:20.063Z"
   },
   {
    "duration": 4,
    "start_time": "2023-04-17T22:14:20.227Z"
   },
   {
    "duration": 24,
    "start_time": "2023-04-17T22:14:20.424Z"
   },
   {
    "duration": 4,
    "start_time": "2023-04-17T22:14:20.969Z"
   },
   {
    "duration": 374,
    "start_time": "2023-04-17T22:14:21.918Z"
   },
   {
    "duration": 236,
    "start_time": "2023-04-17T22:16:45.574Z"
   },
   {
    "duration": 446,
    "start_time": "2023-04-17T22:16:50.478Z"
   },
   {
    "duration": 110,
    "start_time": "2023-04-17T22:17:13.485Z"
   },
   {
    "duration": 16,
    "start_time": "2023-04-17T22:17:23.475Z"
   },
   {
    "duration": 46,
    "start_time": "2023-04-17T22:17:31.267Z"
   },
   {
    "duration": 286,
    "start_time": "2023-04-17T22:17:34.979Z"
   },
   {
    "duration": 264,
    "start_time": "2023-04-17T22:17:45.733Z"
   },
   {
    "duration": 45,
    "start_time": "2023-04-18T12:03:59.532Z"
   },
   {
    "duration": 1588,
    "start_time": "2023-04-18T12:12:24.692Z"
   },
   {
    "duration": 105,
    "start_time": "2023-04-18T12:12:26.282Z"
   },
   {
    "duration": 17,
    "start_time": "2023-04-18T12:12:26.389Z"
   },
   {
    "duration": 13,
    "start_time": "2023-04-18T12:12:26.409Z"
   },
   {
    "duration": 4,
    "start_time": "2023-04-18T12:12:26.691Z"
   },
   {
    "duration": 14,
    "start_time": "2023-04-18T12:12:28.545Z"
   },
   {
    "duration": 8,
    "start_time": "2023-04-18T12:12:29.054Z"
   },
   {
    "duration": 46,
    "start_time": "2023-04-18T12:12:30.145Z"
   },
   {
    "duration": 6,
    "start_time": "2023-04-18T12:12:30.739Z"
   },
   {
    "duration": 16,
    "start_time": "2023-04-18T12:12:33.474Z"
   },
   {
    "duration": 7,
    "start_time": "2023-04-18T12:12:40.046Z"
   },
   {
    "duration": 6,
    "start_time": "2023-04-18T12:12:40.561Z"
   },
   {
    "duration": 7,
    "start_time": "2023-04-18T12:12:41.449Z"
   },
   {
    "duration": 4,
    "start_time": "2023-04-18T12:12:41.668Z"
   },
   {
    "duration": 4,
    "start_time": "2023-04-18T12:12:41.902Z"
   },
   {
    "duration": 8,
    "start_time": "2023-04-18T12:12:42.344Z"
   },
   {
    "duration": 4,
    "start_time": "2023-04-18T12:12:43.740Z"
   },
   {
    "duration": 10,
    "start_time": "2023-04-18T12:12:44.447Z"
   },
   {
    "duration": 161,
    "start_time": "2023-04-18T12:12:44.665Z"
   },
   {
    "duration": 273,
    "start_time": "2023-04-18T12:12:44.892Z"
   },
   {
    "duration": 16,
    "start_time": "2023-04-18T12:12:51.443Z"
   },
   {
    "duration": 2,
    "start_time": "2023-04-18T12:12:51.855Z"
   },
   {
    "duration": 8,
    "start_time": "2023-04-18T12:12:52.629Z"
   },
   {
    "duration": 43,
    "start_time": "2023-04-18T12:12:55.144Z"
   },
   {
    "duration": 11,
    "start_time": "2023-04-18T12:12:59.947Z"
   },
   {
    "duration": 11,
    "start_time": "2023-04-18T12:13:14.045Z"
   },
   {
    "duration": 3,
    "start_time": "2023-04-18T12:13:14.539Z"
   },
   {
    "duration": 4,
    "start_time": "2023-04-18T12:13:14.983Z"
   },
   {
    "duration": 60,
    "start_time": "2023-04-18T12:13:15.677Z"
   },
   {
    "duration": 10,
    "start_time": "2023-04-18T12:14:22.939Z"
   },
   {
    "duration": 9,
    "start_time": "2023-04-18T12:15:52.843Z"
   },
   {
    "duration": 11,
    "start_time": "2023-04-18T12:16:10.043Z"
   },
   {
    "duration": 3,
    "start_time": "2023-04-18T12:16:10.234Z"
   },
   {
    "duration": 4,
    "start_time": "2023-04-18T12:16:10.402Z"
   },
   {
    "duration": 44,
    "start_time": "2023-04-18T12:16:10.590Z"
   },
   {
    "duration": 11,
    "start_time": "2023-04-18T12:16:11.069Z"
   },
   {
    "duration": 6,
    "start_time": "2023-04-18T12:16:11.251Z"
   },
   {
    "duration": 11,
    "start_time": "2023-04-18T12:16:12.219Z"
   },
   {
    "duration": 45,
    "start_time": "2023-04-18T12:16:13.154Z"
   },
   {
    "duration": 14,
    "start_time": "2023-04-18T12:18:00.546Z"
   },
   {
    "duration": 6,
    "start_time": "2023-04-18T12:18:07.496Z"
   },
   {
    "duration": 9,
    "start_time": "2023-04-18T12:18:07.503Z"
   },
   {
    "duration": 4,
    "start_time": "2023-04-18T12:19:12.545Z"
   },
   {
    "duration": 1731,
    "start_time": "2023-04-18T12:19:17.360Z"
   },
   {
    "duration": 8,
    "start_time": "2023-04-18T12:19:48.202Z"
   },
   {
    "duration": 13,
    "start_time": "2023-04-18T12:19:59.740Z"
   },
   {
    "duration": 5,
    "start_time": "2023-04-18T12:20:09.132Z"
   },
   {
    "duration": 4,
    "start_time": "2023-04-18T12:20:36.272Z"
   },
   {
    "duration": 68,
    "start_time": "2023-04-18T12:20:36.477Z"
   },
   {
    "duration": 13,
    "start_time": "2023-04-18T12:20:36.670Z"
   },
   {
    "duration": 13,
    "start_time": "2023-04-18T12:20:36.885Z"
   },
   {
    "duration": 4,
    "start_time": "2023-04-18T12:20:37.032Z"
   },
   {
    "duration": 14,
    "start_time": "2023-04-18T12:20:37.736Z"
   },
   {
    "duration": 8,
    "start_time": "2023-04-18T12:20:37.931Z"
   },
   {
    "duration": 50,
    "start_time": "2023-04-18T12:20:38.276Z"
   },
   {
    "duration": 4,
    "start_time": "2023-04-18T12:20:38.438Z"
   },
   {
    "duration": 15,
    "start_time": "2023-04-18T12:20:38.783Z"
   },
   {
    "duration": 6,
    "start_time": "2023-04-18T12:20:39.669Z"
   },
   {
    "duration": 5,
    "start_time": "2023-04-18T12:20:39.894Z"
   },
   {
    "duration": 6,
    "start_time": "2023-04-18T12:20:40.335Z"
   },
   {
    "duration": 4,
    "start_time": "2023-04-18T12:20:40.864Z"
   },
   {
    "duration": 4,
    "start_time": "2023-04-18T12:20:41.136Z"
   },
   {
    "duration": 7,
    "start_time": "2023-04-18T12:20:41.456Z"
   },
   {
    "duration": 5,
    "start_time": "2023-04-18T12:20:42.780Z"
   },
   {
    "duration": 10,
    "start_time": "2023-04-18T12:20:43.932Z"
   },
   {
    "duration": 10,
    "start_time": "2023-04-18T12:20:44.036Z"
   },
   {
    "duration": 41,
    "start_time": "2023-04-18T12:20:44.232Z"
   },
   {
    "duration": 20,
    "start_time": "2023-04-18T12:20:47.596Z"
   },
   {
    "duration": 2,
    "start_time": "2023-04-18T12:20:54.429Z"
   },
   {
    "duration": 61,
    "start_time": "2023-04-18T12:20:54.433Z"
   },
   {
    "duration": 50,
    "start_time": "2023-04-18T12:20:54.495Z"
   },
   {
    "duration": 11,
    "start_time": "2023-04-18T12:20:54.546Z"
   },
   {
    "duration": 26,
    "start_time": "2023-04-18T12:20:54.559Z"
   },
   {
    "duration": 17,
    "start_time": "2023-04-18T12:20:54.586Z"
   },
   {
    "duration": 17,
    "start_time": "2023-04-18T12:20:54.605Z"
   },
   {
    "duration": 55,
    "start_time": "2023-04-18T12:20:54.623Z"
   },
   {
    "duration": 82,
    "start_time": "2023-04-18T12:20:54.680Z"
   },
   {
    "duration": 41,
    "start_time": "2023-04-18T12:20:54.763Z"
   },
   {
    "duration": 9,
    "start_time": "2023-04-18T12:20:55.883Z"
   },
   {
    "duration": 8,
    "start_time": "2023-04-18T12:20:57.532Z"
   },
   {
    "duration": 8,
    "start_time": "2023-04-18T12:21:13.032Z"
   },
   {
    "duration": 8,
    "start_time": "2023-04-18T12:21:21.142Z"
   },
   {
    "duration": 11,
    "start_time": "2023-04-18T12:38:25.076Z"
   },
   {
    "duration": 1512,
    "start_time": "2023-04-18T12:39:28.098Z"
   },
   {
    "duration": 7,
    "start_time": "2023-04-18T12:40:05.990Z"
   },
   {
    "duration": 8,
    "start_time": "2023-04-18T12:40:09.856Z"
   },
   {
    "duration": 9,
    "start_time": "2023-04-18T12:40:49.342Z"
   },
   {
    "duration": 10,
    "start_time": "2023-04-18T12:41:30.041Z"
   },
   {
    "duration": 39,
    "start_time": "2023-04-18T12:41:50.138Z"
   },
   {
    "duration": 14,
    "start_time": "2023-04-18T12:44:45.265Z"
   },
   {
    "duration": 44,
    "start_time": "2023-04-18T12:44:45.738Z"
   },
   {
    "duration": 3,
    "start_time": "2023-04-18T12:44:47.856Z"
   },
   {
    "duration": 12,
    "start_time": "2023-04-18T12:44:48.441Z"
   },
   {
    "duration": 5,
    "start_time": "2023-04-18T12:44:50.667Z"
   },
   {
    "duration": 421,
    "start_time": "2023-04-18T12:44:51.930Z"
   },
   {
    "duration": 8,
    "start_time": "2023-04-18T12:44:55.149Z"
   },
   {
    "duration": 42,
    "start_time": "2023-04-18T12:44:56.575Z"
   },
   {
    "duration": 12,
    "start_time": "2023-04-18T12:45:08.659Z"
   },
   {
    "duration": 242,
    "start_time": "2023-04-18T12:45:09.638Z"
   },
   {
    "duration": 12,
    "start_time": "2023-04-18T12:45:18.987Z"
   },
   {
    "duration": 474,
    "start_time": "2023-04-18T12:45:19.446Z"
   },
   {
    "duration": 12,
    "start_time": "2023-04-18T12:45:22.684Z"
   },
   {
    "duration": 5,
    "start_time": "2023-04-18T12:45:23.642Z"
   },
   {
    "duration": 5,
    "start_time": "2023-04-18T12:45:24.157Z"
   },
   {
    "duration": 724,
    "start_time": "2023-04-18T12:45:25.642Z"
   },
   {
    "duration": 177,
    "start_time": "2023-04-18T12:45:28.247Z"
   },
   {
    "duration": 9,
    "start_time": "2023-04-18T12:45:32.938Z"
   },
   {
    "duration": 6,
    "start_time": "2023-04-18T12:45:34.133Z"
   },
   {
    "duration": 4,
    "start_time": "2023-04-18T12:45:34.330Z"
   },
   {
    "duration": 24,
    "start_time": "2023-04-18T12:45:34.663Z"
   },
   {
    "duration": 5,
    "start_time": "2023-04-18T12:45:38.562Z"
   },
   {
    "duration": 284,
    "start_time": "2023-04-18T12:45:40.437Z"
   },
   {
    "duration": 264,
    "start_time": "2023-04-18T12:45:44.643Z"
   },
   {
    "duration": 8,
    "start_time": "2023-04-18T12:45:48.376Z"
   },
   {
    "duration": 4,
    "start_time": "2023-04-18T12:45:51.190Z"
   },
   {
    "duration": 241,
    "start_time": "2023-04-18T12:45:52.178Z"
   },
   {
    "duration": 80,
    "start_time": "2023-04-18T12:49:04.362Z"
   },
   {
    "duration": 99,
    "start_time": "2023-04-18T12:49:39.450Z"
   },
   {
    "duration": 99,
    "start_time": "2023-04-18T12:50:33.773Z"
   },
   {
    "duration": 14,
    "start_time": "2023-04-18T12:50:53.791Z"
   },
   {
    "duration": 14,
    "start_time": "2023-04-18T12:51:02.638Z"
   },
   {
    "duration": 15,
    "start_time": "2023-04-18T12:51:23.241Z"
   },
   {
    "duration": 356,
    "start_time": "2023-04-18T12:53:31.439Z"
   },
   {
    "duration": 728,
    "start_time": "2023-04-18T12:54:02.639Z"
   },
   {
    "duration": 4,
    "start_time": "2023-04-18T12:54:09.337Z"
   },
   {
    "duration": 4,
    "start_time": "2023-04-18T12:54:10.041Z"
   },
   {
    "duration": 5,
    "start_time": "2023-04-18T12:54:11.350Z"
   },
   {
    "duration": 5,
    "start_time": "2023-04-18T12:54:11.948Z"
   },
   {
    "duration": 7,
    "start_time": "2023-04-18T12:54:12.939Z"
   },
   {
    "duration": 6,
    "start_time": "2023-04-18T12:54:13.257Z"
   },
   {
    "duration": 4,
    "start_time": "2023-04-18T13:00:22.439Z"
   },
   {
    "duration": 10,
    "start_time": "2023-04-18T13:00:23.375Z"
   },
   {
    "duration": 46,
    "start_time": "2023-04-18T13:00:24.188Z"
   },
   {
    "duration": 4,
    "start_time": "2023-04-18T13:07:06.934Z"
   },
   {
    "duration": 2067,
    "start_time": "2023-04-18T14:15:24.839Z"
   },
   {
    "duration": 126,
    "start_time": "2023-04-18T14:15:26.909Z"
   },
   {
    "duration": 27,
    "start_time": "2023-04-18T14:15:27.037Z"
   },
   {
    "duration": 19,
    "start_time": "2023-04-18T14:15:27.067Z"
   },
   {
    "duration": 9,
    "start_time": "2023-04-18T14:15:27.088Z"
   },
   {
    "duration": 60,
    "start_time": "2023-04-18T14:15:27.099Z"
   },
   {
    "duration": 16,
    "start_time": "2023-04-18T14:15:27.162Z"
   },
   {
    "duration": 90,
    "start_time": "2023-04-18T14:15:27.180Z"
   },
   {
    "duration": 6,
    "start_time": "2023-04-18T14:15:27.272Z"
   },
   {
    "duration": 22,
    "start_time": "2023-04-18T14:15:27.281Z"
   },
   {
    "duration": 21,
    "start_time": "2023-04-18T14:15:27.306Z"
   },
   {
    "duration": 22,
    "start_time": "2023-04-18T14:15:27.345Z"
   },
   {
    "duration": 23,
    "start_time": "2023-04-18T14:15:27.370Z"
   },
   {
    "duration": 12,
    "start_time": "2023-04-18T14:15:27.396Z"
   },
   {
    "duration": 8,
    "start_time": "2023-04-18T14:15:27.411Z"
   },
   {
    "duration": 28,
    "start_time": "2023-04-18T14:15:27.421Z"
   },
   {
    "duration": 9,
    "start_time": "2023-04-18T14:15:27.453Z"
   },
   {
    "duration": 16,
    "start_time": "2023-04-18T14:15:27.464Z"
   },
   {
    "duration": 1049,
    "start_time": "2023-04-18T14:15:27.482Z"
   },
   {
    "duration": 29,
    "start_time": "2023-04-18T14:15:28.533Z"
   },
   {
    "duration": 7,
    "start_time": "2023-04-18T14:15:28.564Z"
   },
   {
    "duration": 14,
    "start_time": "2023-04-18T14:15:28.573Z"
   },
   {
    "duration": 160,
    "start_time": "2023-04-18T14:15:28.589Z"
   },
   {
    "duration": 24,
    "start_time": "2023-04-18T14:15:28.760Z"
   },
   {
    "duration": 18,
    "start_time": "2023-04-18T14:15:28.787Z"
   },
   {
    "duration": 32,
    "start_time": "2023-04-18T14:15:28.842Z"
   },
   {
    "duration": 33,
    "start_time": "2023-04-18T14:15:28.877Z"
   },
   {
    "duration": 13,
    "start_time": "2023-04-18T14:15:28.918Z"
   },
   {
    "duration": 33,
    "start_time": "2023-04-18T14:15:28.934Z"
   },
   {
    "duration": 31,
    "start_time": "2023-04-18T14:15:28.970Z"
   },
   {
    "duration": 65,
    "start_time": "2023-04-18T14:15:29.004Z"
   },
   {
    "duration": 22,
    "start_time": "2023-04-18T14:15:29.071Z"
   },
   {
    "duration": 88,
    "start_time": "2023-04-18T14:15:29.096Z"
   },
   {
    "duration": 4,
    "start_time": "2023-04-18T14:15:29.187Z"
   },
   {
    "duration": 21,
    "start_time": "2023-04-18T14:15:29.193Z"
   },
   {
    "duration": 34,
    "start_time": "2023-04-18T14:15:29.217Z"
   },
   {
    "duration": 567,
    "start_time": "2023-04-18T14:15:29.258Z"
   },
   {
    "duration": 31,
    "start_time": "2023-04-18T14:15:29.828Z"
   },
   {
    "duration": 55,
    "start_time": "2023-04-18T14:15:29.861Z"
   },
   {
    "duration": 37,
    "start_time": "2023-04-18T14:15:29.919Z"
   },
   {
    "duration": 218,
    "start_time": "2023-04-18T14:15:29.959Z"
   },
   {
    "duration": 11337,
    "start_time": "2023-04-18T14:15:30.180Z"
   },
   {
    "duration": 42,
    "start_time": "2023-04-18T14:15:41.520Z"
   },
   {
    "duration": 859,
    "start_time": "2023-04-18T14:15:41.564Z"
   },
   {
    "duration": 34,
    "start_time": "2023-04-18T14:15:42.425Z"
   },
   {
    "duration": 7,
    "start_time": "2023-04-18T14:15:42.461Z"
   },
   {
    "duration": 15,
    "start_time": "2023-04-18T14:15:42.470Z"
   },
   {
    "duration": 898,
    "start_time": "2023-04-18T14:15:42.488Z"
   }
  ],
  "kernelspec": {
   "display_name": "Python 3 (ipykernel)",
   "language": "python",
   "name": "python3"
  },
  "language_info": {
   "codemirror_mode": {
    "name": "ipython",
    "version": 3
   },
   "file_extension": ".py",
   "mimetype": "text/x-python",
   "name": "python",
   "nbconvert_exporter": "python",
   "pygments_lexer": "ipython3",
   "version": "3.10.4"
  },
  "toc": {
   "base_numbering": 1,
   "nav_menu": {},
   "number_sections": true,
   "sideBar": true,
   "skip_h1_title": true,
   "title_cell": "Table of Contents",
   "title_sidebar": "Contents",
   "toc_cell": false,
   "toc_position": {
    "height": "calc(100% - 180px)",
    "left": "10px",
    "top": "150px",
    "width": "180.875px"
   },
   "toc_section_display": true,
   "toc_window_display": true
  }
 },
 "nbformat": 4,
 "nbformat_minor": 2
}
